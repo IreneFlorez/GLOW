{
 "cells": [
  {
   "cell_type": "code",
   "execution_count": null,
   "metadata": {},
   "outputs": [],
   "source": [
    "import matplotlib as mpl\n",
    "import matplotlib.pyplot as plt\n",
    "import matplotlib.ticker as ticker\n",
    "import matplotlib.dates as mdates\n",
    "from matplotlib import pylab\n",
    "import seaborn as sns\n",
    "#sns.set_style(\"whitegrid\")\n",
    "#sns.set(style=\"darkgrid\")\n",
    "from  matplotlib.ticker import FuncFormatter\n",
    "import matplotlib.ticker as mtick\n",
    "\n",
    "import pandas as pd\n",
    "import numpy as np\n",
    "from scipy.stats import mannwhitneyu"
   ]
  },
  {
   "cell_type": "code",
   "execution_count": null,
   "metadata": {},
   "outputs": [],
   "source": [
    "raw_editor_data = pd.read_csv(\"../../data/processed/survey_data/Indonesian_contributor_survey_compiled.csv\")"
   ]
  },
  {
   "cell_type": "code",
   "execution_count": null,
   "metadata": {},
   "outputs": [],
   "source": [
    "#drop nulls\n",
    "raw_editor_data['saraswati_participant'] = raw_editor_data['saraswati_participant'].astype('bool')\n",
    "\n",
    "raw_editor_data['blockers'] = raw_editor_data['blockers'].replace(0, np.nan)\n",
    "raw_editor_data['prior_events_online'] = raw_editor_data['prior_events_online'].replace(np.nan, False).astype('bool')\n",
    "raw_editor_data['previous_events_offline'] = raw_editor_data['previous_events_offline'].replace(np.nan, False).astype('bool')\n",
    "raw_editor_data['saraswati_grant'] = raw_editor_data['saraswati_grant'].replace(np.nan, False).astype('bool')\n",
    "\n",
    "filtered_red = raw_editor_data[raw_editor_data['blockers'].notnull()]\n",
    "filtered_red = filtered_red[filtered_red.blockers != 0]\n",
    "#z=filtered_red.loc[(filtered_red['blockers']!=0) & (filtered_red['blockers'].notna())]\n",
    "\n",
    "duration_bins = [1, 5, 10, 15, 20]\n",
    "filtered_red['duration_binned'] = pd.cut(filtered_red['Time_on_wiki_asof_2020'], duration_bins)\n",
    "\n",
    "motivation_df = filtered_red [['saraswati_participant', 'saraswati_grant', 'duration_binned', 'contrib_enjoyable', 'contrib_benefits_me', 'contrib_benefits_world']]\n",
    "data_df = raw_editor_data.dropna(subset=['blockers'])"
   ]
  },
  {
   "cell_type": "code",
   "execution_count": null,
   "metadata": {},
   "outputs": [],
   "source": [
    "saraswati_participants_df = motivation_df[motivation_df['saraswati_participant']==True]\n",
    "non_saraswati_df = motivation_df[motivation_df['saraswati_participant']==False]"
   ]
  },
  {
   "cell_type": "code",
   "execution_count": null,
   "metadata": {},
   "outputs": [],
   "source": [
    "ax = raw_editor_data['saraswati_participant'].value_counts().plot(kind='bar', title='Saraswati Participation', color=[\"#FF8C00\", \"#1f77b4\"])\n",
    "ax.set_xlabel(\"Did you participate in GLOW Saraswati?\")\n",
    "ax.set_ylabel(\"Number of editors\")\n",
    "for p in ax.patches:\n",
    "    width, height = p.get_width(), p.get_height()\n",
    "    x, y = p.get_xy() \n",
    "    ax.text(x+width/2, \n",
    "            y+height/2, \n",
    "            '{:.0f}'.format(height), \n",
    "            horizontalalignment='center', \n",
    "            verticalalignment='center')\n",
    "for p in ax.patches:\n",
    "    width, height = p.get_width(), p.get_height()\n",
    "    x, y = p.get_xy() \n",
    "    ax.text(x+width/2, \n",
    "            y+height*1.02, \n",
    "            '{:.0f}%'.format(height*100/len(raw_editor_data)), \n",
    "            horizontalalignment='center')\n",
    "x = ['No', 'Yes']\n",
    "#ax.tick_params(axis='x', colors='blue')\n",
    "#ax.tick_params(axis='y', colors='red')\n",
    "\n",
    "ax.set_xticklabels(x, rotation = 45);\n",
    "#ax.annotate('{:.0%}'.format(height), (p.get_x()+.5*width, p.get_y() + height + 0.01), ha = 'center') # for series objects"
   ]
  },
  {
   "cell_type": "code",
   "execution_count": null,
   "metadata": {},
   "outputs": [],
   "source": [
    "#remove 'other' answers, set df for viz\n",
    "filtered_red_blocker_other = filtered_red[filtered_red.blockers != 5]\n",
    "\n",
    "ax = sns.countplot(x=\"blockers\", \n",
    "                   hue=\"saraswati_participant\", \n",
    "                   data=filtered_red_blocker_other,\n",
    "                   order = filtered_red_blocker_other['blockers'].value_counts().index\n",
    "                  )\n",
    "plt.legend(title='GLOW Saraswati editor', loc='upper right', labels=['No', 'Yes'])\n",
    "\n",
    "plt.gca().yaxis.set_major_formatter(FuncFormatter(lambda x, _: int(x)))\n",
    "xlabels = ['lack of time','tech access','skills gap','newcomer integration']\n",
    "ax.set_ylabel('Number of editors')\n",
    "ax.set_xlabel('Factors preventing wiki participation')\n",
    "ax.set_xticklabels(xlabels)\n",
    "ax.set_ylim([0,30])\n",
    "\n",
    "#bar counts\n",
    "for p in ax.patches:\n",
    "    width, height = p.get_width(), p.get_height()\n",
    "    x, y = p.get_xy() \n",
    "    ax.text(x+width/2, \n",
    "            y+height/2, \n",
    "            '{:.0f}'.format(height), \n",
    "            horizontalalignment='center', \n",
    "            verticalalignment='center')\n",
    "\n",
    "\n",
    "\n",
    "#plt.show(g);\n",
    "#https://stackoverflow.com/questions/31749448/how-to-add-percentages-on-top-of-bars-in-seaborn"
   ]
  },
  {
   "cell_type": "code",
   "execution_count": null,
   "metadata": {},
   "outputs": [],
   "source": [
    "filtered_red_blocker_other['blockers'].unique().size"
   ]
  },
  {
   "cell_type": "code",
   "execution_count": null,
   "metadata": {},
   "outputs": [],
   "source": [
    "#TO DO FIX GROUP PERCENTAGES\n",
    "\n",
    "totals = filtered_red['saraswati_participant'].value_counts()\n",
    "n_hues = filtered_red['prior_events_online'].unique().size\n",
    "\n",
    "ax = sns.countplot(x=\"prior_events_online\", hue=\"saraswati_participant\", data=filtered_red)\n",
    "plt.legend(title='GLOW Saraswati editor', loc='upper right', labels=['No', 'Yes'])\n",
    "\n",
    "#annotate counts\n",
    "for p in ax.patches:\n",
    "    width, height = p.get_width(), p.get_height()\n",
    "    x, y = p.get_xy() \n",
    "    ax.text(x+width/2, \n",
    "            y+height/2, \n",
    "            '{:.0f}'.format(height), \n",
    "            horizontalalignment='center', \n",
    "            verticalalignment='center')\n",
    "\n",
    "#annotate % of full total\n",
    "for p in ax.patches:\n",
    "    width, height = p.get_width(), p.get_height()\n",
    "    x, y = p.get_xy() \n",
    "    ax.text(x+width/2, \n",
    "            y+height*1.02, \n",
    "            '{:.0f}% of all'.format(height*100/len(raw_editor_data)), \n",
    "            horizontalalignment='center')#('top', 'bottom', 'center', 'baseline', 'center_baseline')\n",
    "\n",
    "#annotate % of group total \n",
    "temp_totals = totals.values.tolist()*n_hues\n",
    "for p,t in zip(ax.patches,temp_totals):\n",
    "    height = p.get_height()\n",
    "    ax.text(p.get_x()+p.get_width()/2.,\n",
    "        height + 3,\n",
    "        '{0:.1%}of group - TO DO'.format(height/t),\n",
    "        ha=\"center\") \n",
    "    \n",
    "    \n",
    "#temp_totals = totals.values.tolist()*n_hues\n",
    "#for group in ax.containers:\n",
    "#    for bar in group:\n",
    "#        #label the bar graphs based on the coordinates of the bar patches\n",
    "#        ax.text(\n",
    "#            bar.get_xy()[0]+bar.get_width()/2,\n",
    "#            bar.get_height(), \n",
    "#            '{:.1f}%'.format(100*bar.get_height()), \n",
    "#            color='black',\n",
    "#            horizontalalignment='center')\n",
    "\n",
    "        \n",
    "plt.gca().yaxis.set_major_formatter(FuncFormatter(lambda x, _: int(x)))\n",
    "plt.tick_params(\n",
    "    axis='x',          # changes apply to the x-axis\n",
    "    which='both',      # both major and minor ticks are affected\n",
    "    #bottom=False,      # ticks along the bottom edge are off\n",
    "    top=False,         # ticks along the top edge are off\n",
    "    #labelbottom=False\n",
    ")\n",
    "ax.set_ylabel('Number of editors')\n",
    "ax.set_xlabel('prior_events_online');\n",
    "\n",
    "#https://stackoverflow.com/questions/31749448/how-to-add-percentages-on-top-of-bars-in-seaborn"
   ]
  },
  {
   "cell_type": "code",
   "execution_count": null,
   "metadata": {},
   "outputs": [],
   "source": [
    "online = filtered_red.groupby(['saraswati_participant','prior_events_online'])\n",
    "s = online.ngroup().value_counts(normalize=True,sort=False)\n",
    "s.index = online.groups.keys()\n",
    "\n",
    "online_rates = online.size().to_frame('online_count').assign(online_pct=s.mul(100).round(2)).reset_index()\n",
    "online_rates"
   ]
  },
  {
   "cell_type": "code",
   "execution_count": null,
   "metadata": {},
   "outputs": [],
   "source": [
    "offline = filtered_red.groupby(['saraswati_participant','previous_events_offline'])\n",
    "s = offline.ngroup().value_counts(normalize=True,sort=False)\n",
    "s.index = offline.groups.keys()\n",
    "\n",
    "offline_rates = offline.size().to_frame('offline_count').assign(offline_pct=s.mul(100).round(2)).reset_index()\n",
    "offline_rates"
   ]
  },
  {
   "cell_type": "code",
   "execution_count": null,
   "metadata": {},
   "outputs": [],
   "source": [
    "motivation = motivation_df.groupby('saraswati_participant').agg('count')"
   ]
  },
  {
   "cell_type": "code",
   "execution_count": null,
   "metadata": {},
   "outputs": [],
   "source": [
    "motivation"
   ]
  },
  {
   "cell_type": "markdown",
   "metadata": {},
   "source": [
    "## Motivation "
   ]
  },
  {
   "cell_type": "code",
   "execution_count": null,
   "metadata": {},
   "outputs": [],
   "source": [
    "ax = motivation_df[['contrib_enjoyable','contrib_benefits_me','contrib_benefits_world']].plot.barh(stacked=True, figsize=(10,12))\n",
    "for p in ax.patches:\n",
    "    width, height = p.get_width(), p.get_height()\n",
    "    x, y = p.get_xy() \n",
    "    #ax.text(x+width/2, \n",
    "            #y+height/2, \n",
    "            #'{:.0f} %'.format(height), \n",
    "            #horizontalalignment='center', \n",
    "            #verticalalignment='center')"
   ]
  },
  {
   "cell_type": "markdown",
   "metadata": {},
   "source": [
    "#### Motivation percentages"
   ]
  },
  {
   "cell_type": "code",
   "execution_count": null,
   "metadata": {},
   "outputs": [],
   "source": [
    "motivation_df['contrib_enjoyable'].value_counts(normalize=True) * 100"
   ]
  },
  {
   "cell_type": "code",
   "execution_count": null,
   "metadata": {},
   "outputs": [],
   "source": [
    "motivation_df['contrib_benefits_me'].value_counts(normalize=True) * 100"
   ]
  },
  {
   "cell_type": "code",
   "execution_count": null,
   "metadata": {},
   "outputs": [],
   "source": [
    "motivation_df['contrib_benefits_world'].value_counts(normalize=True) * 100"
   ]
  },
  {
   "cell_type": "markdown",
   "metadata": {},
   "source": [
    "#### Motivation by Saraswati participation"
   ]
  },
  {
   "cell_type": "code",
   "execution_count": null,
   "metadata": {},
   "outputs": [],
   "source": [
    "motivation_df.groupby('saraswati_participant')['contrib_enjoyable'].value_counts(normalize=True) * 100"
   ]
  },
  {
   "cell_type": "code",
   "execution_count": null,
   "metadata": {},
   "outputs": [],
   "source": [
    "motivation_df.groupby('saraswati_participant')['contrib_benefits_me'].value_counts(normalize=True) * 100"
   ]
  },
  {
   "cell_type": "code",
   "execution_count": null,
   "metadata": {},
   "outputs": [],
   "source": [
    "motivation_df.groupby('saraswati_participant')['contrib_benefits_world'].value_counts(normalize=True) * 100"
   ]
  },
  {
   "cell_type": "code",
   "execution_count": null,
   "metadata": {},
   "outputs": [],
   "source": [
    "mdt = motivation_df.transpose()"
   ]
  },
  {
   "cell_type": "code",
   "execution_count": null,
   "metadata": {},
   "outputs": [],
   "source": [
    "# add four new columns to store the total number of response corresponding to the scale\n",
    "mdt['strongly_disagree'] = (mdt.iloc[3:6, :] == 1).sum(axis =1)\n",
    "mdt['disagree'] = (mdt.iloc[3:6, :] == 2).sum(axis =1)\n",
    "mdt['mid'] = (mdt.iloc[3:6, :] == 3).sum(axis =1)\n",
    "mdt['agree'] = (mdt.iloc[3:6, :] == 4).sum(axis =1)\n",
    "mdt['strongly_agree'] = (mdt.iloc[3:6, :] == 5).sum(axis =1)\n",
    "\n",
    "# create a new column named Sum of Values to add the scales together\n",
    "mdt['SMV'] = mdt['strongly_disagree'] + mdt['disagree'] + mdt['mid']+ mdt['agree'] + mdt['strongly_agree']\n",
    "\n",
    "# define a function to calculate the mean weight\n",
    "def mwv(a,b,c,d,e):\n",
    "    weight = ((a * 1) + (b * 2) + (c * 3) + (d * 4) +(e * 5))/(a+b+c+d+e)\n",
    "    return weight\n",
    "# create a new column to hold the mean weight\n",
    "mdt['MWV'] = mdt.apply( lambda row: mwv(row['strongly_disagree'], row['disagree'], row['mid'], row['agree'], row['strongly_agree']), axis = 1)\n"
   ]
  },
  {
   "cell_type": "code",
   "execution_count": null,
   "metadata": {},
   "outputs": [],
   "source": [
    "#MWV_df = mdt[mdt.columns[-7:]]\n",
    "MWV_df = mdt.iloc[3:6,-7:]"
   ]
  },
  {
   "cell_type": "code",
   "execution_count": null,
   "metadata": {},
   "outputs": [],
   "source": [
    "MWV_df"
   ]
  },
  {
   "cell_type": "raw",
   "metadata": {},
   "source": [
    "mdt groupby saraswati"
   ]
  },
  {
   "cell_type": "markdown",
   "metadata": {},
   "source": [
    "##### Motivation percentages by Saraswati participation"
   ]
  },
  {
   "cell_type": "code",
   "execution_count": null,
   "metadata": {},
   "outputs": [],
   "source": [
    "color = [\"#1f77b4\",\"#FF8C00\"]\n",
    "ax = motivation_df.groupby('saraswati_participant')['contrib_enjoyable'].apply(lambda c: (c>3)\n",
    "                .sum()/len(c)).plot(kind='bar', color=color)\n",
    "\n",
    "xlabels = ['non GLOW Saraswati editor','GLOW Saraswati editor']\n",
    "ax.set_xticklabels(xlabels, rotation = 360)\n",
    "ax.yaxis.set_major_formatter(mtick.PercentFormatter());"
   ]
  },
  {
   "cell_type": "code",
   "execution_count": null,
   "metadata": {},
   "outputs": [],
   "source": []
  },
  {
   "cell_type": "code",
   "execution_count": null,
   "metadata": {},
   "outputs": [],
   "source": [
    "saraswati_participants_df['contrib_enjoyable'].value_counts(normalize=True) * 100"
   ]
  },
  {
   "cell_type": "code",
   "execution_count": null,
   "metadata": {},
   "outputs": [],
   "source": [
    "non_saraswati_df['contrib_enjoyable'].value_counts(normalize=True) * 100"
   ]
  },
  {
   "cell_type": "raw",
   "metadata": {},
   "source": [
    "Non-parametric tests are distribution independent tests whereas parametric tests assume that the data is normally distributed.\n",
    "\n",
    "\n",
    "MannWhitneyUtest, then:\n",
    "report averages\n",
    "report weighted averages\n",
    "report percentage of agrees + strongly agrees\n",
    "\n",
    "https://towardsdatascience.com/determine-if-two-distributions-are-significantly-different-using-the-mann-whitney-u-test-1f79aa249ffb\n",
    "http://daydreamingnumbers.com/blog/4-ways-to-visualize-likert-scales/\n",
    "http://stephanieevergreen.com/aggregated-stacked-bars/"
   ]
  },
  {
   "cell_type": "code",
   "execution_count": null,
   "metadata": {},
   "outputs": [],
   "source": [
    "#H0 The two groups report same enjoyment\n",
    "#H1 The two groups report different enjoyment\n",
    "\n",
    "# compare samples\n",
    "stat, p = mannwhitneyu(saraswati_participants_df['contrib_enjoyable'], non_saraswati_df['contrib_enjoyable'])\n",
    "print('Statistics=%.3f, p=%.3f' % (stat, p))\n",
    "# interpret\n",
    "alpha = 0.05\n",
    "if p > alpha:\n",
    "\tprint('Same distribution (fail to reject H0)')\n",
    "else:\n",
    "\tprint('Different distribution (reject H0)')\n",
    "    \n",
    "#We fail to reject the null hypothesis, conclude that the there’s no significant evidence to state that two groups report different enjoyment."
   ]
  },
  {
   "cell_type": "code",
   "execution_count": null,
   "metadata": {},
   "outputs": [],
   "source": [
    "plt.hist(saraswati_participants_df['contrib_enjoyable'], alpha=.5);\n",
    "plt.hist(non_saraswati_df['contrib_enjoyable'], alpha=.5);"
   ]
  },
  {
   "cell_type": "code",
   "execution_count": null,
   "metadata": {},
   "outputs": [],
   "source": [
    "# Review  distribution \n",
    "plt.figure();\n",
    "hist = motivation_df['contrib_enjoyable'].plot.hist(bins=10);"
   ]
  },
  {
   "cell_type": "code",
   "execution_count": null,
   "metadata": {},
   "outputs": [],
   "source": [
    "plt.figure();\n",
    "hist = motivation_df['contrib_benefits_world'].plot.hist(bins=10);"
   ]
  },
  {
   "cell_type": "code",
   "execution_count": null,
   "metadata": {},
   "outputs": [],
   "source": [
    "plt.figure();\n",
    "hist = motivation_df['contrib_benefits_me'].plot.hist(bins=10);"
   ]
  },
  {
   "cell_type": "code",
   "execution_count": null,
   "metadata": {},
   "outputs": [],
   "source": [
    "# Exclude age_group from the list of benefits\n",
    "all_groups = list(saraswati_participant.columns[:-1])\n",
    "\n",
    "for benefit in all_benefits:\n",
    "    \n",
    "    fig, ax = plt.subplots(nrows=1, \n",
    "                           ncols=2, \n",
    "                           figsize=(8, 6), \n",
    "                           sharey=True, \n",
    "                           sharex=True)\n",
    "\n",
    "    for a, age_group in zip(ax.flatten(), buckets_except_under30):\n",
    "        plot_benefit_question(benefits, \n",
    "                              benefit, \n",
    "                              age_group=age_group, \n",
    "                              ax=a\n",
    "                             )\n",
    "        \n",
    "        # Keeps x-axis tick labels for each group of plots\n",
    "        a.xaxis.set_tick_params(which='both', labelbottom=True)\n",
    "        \n",
    "        # Suppresses displaying the question along the y-axis\n",
    "        a.yaxis.label.set_visible(False)\n",
    "\n",
    "    plt.tight_layout()"
   ]
  },
  {
   "cell_type": "code",
   "execution_count": null,
   "metadata": {},
   "outputs": [],
   "source": [
    "\n",
    "\n",
    "g = sns.FacetGrid(filtered_red, col=\"saraswati_participant\", height=4, aspect=1) \n",
    "g = g.map(plt.hist, \"blockers\")\n",
    "\n",
    "for ax, title in zip(g.axes.flat, ['Non-Saraswati participants', 'Saraswati participants']):\n",
    "    ax.set_title(title)\n",
    "g.axes[0,0].set_ylabel('Number of editors')\n",
    "\n",
    "\n",
    "labels = ['time','skills','newcomers','tech','other']\n",
    "ax.set_xticklabels(labels);\n",
    "\n",
    "plt.xlim(1, 6) \n",
    "plt.ylim(1, 25)\n",
    "\n",
    ";"
   ]
  },
  {
   "cell_type": "code",
   "execution_count": null,
   "metadata": {},
   "outputs": [],
   "source": [
    "fg = sns.catplot(x='blockers', y='saraswati_participant', \n",
    "                        data=filtered_red, kind='bar')\n",
    "fg.set_xlabels('')"
   ]
  },
  {
   "cell_type": "code",
   "execution_count": null,
   "metadata": {},
   "outputs": [],
   "source": [
    "filtered_red.groupby('saraswati_participant').blockers.plot(kind='barh');"
   ]
  },
  {
   "cell_type": "code",
   "execution_count": null,
   "metadata": {},
   "outputs": [],
   "source": [
    "filtered_red.groupby('saraswati_participant').blockers.value_counts().plot(kind='barh');"
   ]
  },
  {
   "cell_type": "code",
   "execution_count": null,
   "metadata": {},
   "outputs": [],
   "source": []
  }
 ],
 "metadata": {
  "kernelspec": {
   "display_name": "Python 3",
   "language": "python",
   "name": "python3"
  },
  "language_info": {
   "codemirror_mode": {
    "name": "ipython",
    "version": 3
   },
   "file_extension": ".py",
   "mimetype": "text/x-python",
   "name": "python",
   "nbconvert_exporter": "python",
   "pygments_lexer": "ipython3",
   "version": "3.7.8"
  }
 },
 "nbformat": 4,
 "nbformat_minor": 4
}
