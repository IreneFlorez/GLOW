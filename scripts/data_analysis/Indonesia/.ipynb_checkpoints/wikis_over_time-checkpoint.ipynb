{
 "cells": [
  {
   "cell_type": "code",
   "execution_count": null,
   "metadata": {},
   "outputs": [],
   "source": [
    "import datetime as dt \n",
    "from datetime import datetime, timedelta, date\n",
    "import dateutil\n",
    "\n",
    "import matplotlib as mpl\n",
    "import matplotlib.pyplot as plt\n",
    "import matplotlib.ticker as ticker\n",
    "import matplotlib.dates as mdates\n",
    "import seaborn as sns\n",
    "import pandas as pd\n",
    "import numpy as np\n",
    "\n",
    "#%load_ext sql_magic\n",
    "%matplotlib inline"
   ]
  },
  {
   "cell_type": "code",
   "execution_count": null,
   "metadata": {},
   "outputs": [],
   "source": [
    "%run ../.././data_wrangling/2b_data_handling.ipynb"
   ]
  },
  {
   "cell_type": "markdown",
   "metadata": {},
   "source": [
    "## Articles<a class=\"anchor\" id=\"editors\"></a>\n",
    "[Back to Table of Contents](#toc)"
   ]
  },
  {
   "cell_type": "code",
   "execution_count": null,
   "metadata": {},
   "outputs": [],
   "source": [
    "import datetime\n",
    "z = datetime.date(2019,1,1)"
   ]
  },
  {
   "cell_type": "markdown",
   "metadata": {},
   "source": [
    "## Historical Article Counts"
   ]
  },
  {
   "cell_type": "code",
   "execution_count": null,
   "metadata": {},
   "outputs": [],
   "source": [
    "wiki_counts = pd.read_csv('../../../data/processed/query_results/regional_counts/indonesia_wiki_counts.csv', thousands=',', encoding = 'utf-8')"
   ]
  },
  {
   "cell_type": "code",
   "execution_count": null,
   "metadata": {},
   "outputs": [],
   "source": [
    "wiki_counts['date']= pd.to_datetime(wiki_counts['date'])"
   ]
  },
  {
   "cell_type": "code",
   "execution_count": null,
   "metadata": {},
   "outputs": [],
   "source": [
    "wiki_counts.info()"
   ]
  },
  {
   "cell_type": "code",
   "execution_count": null,
   "metadata": {},
   "outputs": [],
   "source": []
  },
  {
   "cell_type": "code",
   "execution_count": null,
   "metadata": {},
   "outputs": [],
   "source": [
    "fig, ax = plt.subplots(figsize=(15,11))\n",
    "wiki_counts.groupby(['date', 'lang']).sum()['count'].unstack().plot(ax=ax)\n",
    "plt.title('GLOW India Article Counts 2016-2020')\n",
    "ax.set_xlabel('date')\n",
    "ax.set_ylabel('count')\n",
    "plt.title('GLOW India Article Counts 2016-2020')\n",
    "#plt.savefig('../../results/figs/regional_counts/india/wiki_counts_India_GLOW_2016_2020.png')\n",
    "plt.show();"
   ]
  },
  {
   "cell_type": "code",
   "execution_count": null,
   "metadata": {},
   "outputs": [],
   "source": [
    "pd.pivot_table(wiki_counts.reset_index(),\n",
    "               index='date', columns='lang', values='count'\n",
    "              ).plot(subplots=True, figsize=(15,21))\n",
    "\n",
    "#plt.savefig('../../results/figs/regional_counts/india/wiki_counts_India_GLOW_wiki_subplots_pivot.png');"
   ]
  },
  {
   "cell_type": "markdown",
   "metadata": {},
   "source": [
    "## Articles added"
   ]
  },
  {
   "cell_type": "code",
   "execution_count": null,
   "metadata": {},
   "outputs": [],
   "source": [
    "new_per_wp = pd.read_csv(\"../../../data/processed/query_results/regional_counts/edited_pages_new_indonesia.csv\",sep=',', encoding = 'utf-8', parse_dates=True)"
   ]
  },
  {
   "cell_type": "code",
   "execution_count": null,
   "metadata": {},
   "outputs": [],
   "source": [
    "new_per_wp['month'] = pd.to_datetime(new_per_wp['month'])\n",
    "new_per_wp['month_year']= new_per_wp['month'].dt.to_period('M')\n",
    "new_per_wp['date'] = new_per_wp['month'].apply(pd.to_datetime)\n",
    "#del new_per_wp['index']\n",
    "                                                           \n"
   ]
  },
  {
   "cell_type": "code",
   "execution_count": null,
   "metadata": {},
   "outputs": [],
   "source": [
    "new_articles_df = new_per_wp.copy()\n",
    "\n",
    "new_articles_df['date'] = new_articles_df['date'].apply(pd.to_datetime)\n",
    "new_articles_df['date'] =  pd.to_datetime(new_articles_df['date'],utc=True)\n",
    "new_articles_df['date'] = new_articles_df['date'].dt.date"
   ]
  },
  {
   "cell_type": "code",
   "execution_count": null,
   "metadata": {},
   "outputs": [],
   "source": [
    "contest_start_indonesia_writing_contest"
   ]
  },
  {
   "cell_type": "code",
   "execution_count": null,
   "metadata": {},
   "outputs": [],
   "source": [
    "id_glow_start = query_vars['contest_start_dt']\n",
    "id_glow_end = query_vars['contest_end_dt']\n",
    "id_glow_2019_12M_pre_mask = (new_per_wp['date']>= query_vars['contest_start_dt_first_day_12m_pre']) & (new_per_wp['date'] < id_glow_start)\n",
    "id_glow_2019_4M_pre_mask = (new_per_wp['date']>= query_vars['contest_start_dt_first_day_4m_pre']) & (new_per_wp['date'] < id_glow_start)\n",
    "id_glow_mask = (new_per_wp['date']>= id_glow_start) & (new_per_wp['date'] <= id_glow_end) \n",
    "\n",
    "id_glow = new_per_wp.loc[id_glow_mask]\n",
    "id_glow_2019_12M_pre = new_per_wp.loc[id_glow_2019_12M_pre_mask]\n",
    "id_glow_2019_4M_pre = new_per_wp.loc[id_glow_2019_4M_pre_mask]"
   ]
  },
  {
   "cell_type": "markdown",
   "metadata": {},
   "source": [
    "#### 2018-2020"
   ]
  },
  {
   "cell_type": "code",
   "execution_count": null,
   "metadata": {},
   "outputs": [],
   "source": [
    "new_articles_df.groupby('project')['new_pages'].describe()"
   ]
  },
  {
   "cell_type": "raw",
   "metadata": {},
   "source": [
    "india_new_per_wp.groupby(['project', 'date'])['new_pages'].mean()"
   ]
  },
  {
   "cell_type": "code",
   "execution_count": null,
   "metadata": {},
   "outputs": [],
   "source": [
    "new_articles_df.groupby('project')['new_pages'].mean().plot(kind='bar')#.sort_values(by='new_pages')"
   ]
  },
  {
   "cell_type": "markdown",
   "metadata": {},
   "source": [
    "#### 2019"
   ]
  },
  {
   "cell_type": "code",
   "execution_count": null,
   "metadata": {},
   "outputs": [],
   "source": [
    "id_glow_2019_12M_pre.describe()"
   ]
  },
  {
   "cell_type": "code",
   "execution_count": null,
   "metadata": {},
   "outputs": [],
   "source": [
    "id_glow_2019_4M_pre.describe()"
   ]
  },
  {
   "cell_type": "code",
   "execution_count": null,
   "metadata": {},
   "outputs": [],
   "source": [
    "id_glow.describe()"
   ]
  },
  {
   "cell_type": "code",
   "execution_count": null,
   "metadata": {},
   "outputs": [],
   "source": [
    "id_glow_2019_12M_pre.groupby('project')['new_pages'].describe()"
   ]
  },
  {
   "cell_type": "code",
   "execution_count": null,
   "metadata": {},
   "outputs": [],
   "source": [
    "id_glow_2019_4M_pre.groupby('project')['new_pages'].describe()"
   ]
  },
  {
   "cell_type": "code",
   "execution_count": null,
   "metadata": {},
   "outputs": [],
   "source": [
    "id_glow.groupby('project')['new_pages'].describe()"
   ]
  },
  {
   "cell_type": "code",
   "execution_count": null,
   "metadata": {},
   "outputs": [],
   "source": [
    "sns.set() \n",
    "fig = plt.figure(figsize=(15,11))\n",
    "ax = fig.add_subplot(111)\n",
    "\n",
    "ax.set_title('Indonesian pages added per month 2018-2020')\n",
    "sns.lineplot(x=\"month\", y=\"new_pages\", hue=\"countries\", \n",
    "            data=new_articles_df)\n",
    "\n",
    "plt.xticks(rotation=45)\n",
    "plt.title('Indonesian pages added per month 2018-2020')\n",
    "\n",
    "plt.tight_layout()\n",
    "#plt.savefig('figs/p_GLOW_avg_pages_added_per_month_2016_2020');\n",
    "#plt.savefig('../../results/figs/regional_counts/india/pages_added_per_month_GLOW_India_2016_2020.png')\n",
    "plt.show();"
   ]
  },
  {
   "cell_type": "code",
   "execution_count": null,
   "metadata": {},
   "outputs": [],
   "source": [
    "sns.set() \n",
    "fig = plt.figure(figsize=(15,11))\n",
    "ax = fig.add_subplot(111)\n",
    "\n",
    "ax.set_title('Indonesian wikis: number of pages added per month 2018-2020')\n",
    "sns.lineplot(x=\"date\", y=\"new_pages\", hue=\"project\", \n",
    "            data=new_articles_df)\n",
    "\n",
    "plt.xticks(rotation=45)\n",
    "plt.setp(ax.get_xticklabels()[1::2], visible=False, weight='light')\n",
    "plt.title('Indonesian wikis: number of pages added per month 2018-2020')\n",
    "#ax.set_xlim(z, new_articles_df['date'].max())\n",
    "#ax.set_ylim([0, 3000])\n",
    "plt.tight_layout()\n",
    "plt.show();"
   ]
  },
  {
   "cell_type": "markdown",
   "metadata": {},
   "source": [
    "## Glow regions visualizations --- beyond Indic wikis"
   ]
  },
  {
   "cell_type": "code",
   "execution_count": null,
   "metadata": {},
   "outputs": [],
   "source": [
    "sns.set() \n",
    "fig = plt.figure(figsize=(15,11))\n",
    "ax = fig.add_subplot(111)\n",
    "\n",
    "ax.set_title('Glow regions pages added per month 2016-2019')\n",
    "sns.lineplot(x=\"month\", y=\"new_pages\", hue=\"countries\", \n",
    "            data=new_per_wp_16_20)\n",
    "\n",
    "plt.xticks(rotation=45)\n",
    "plt.title('GLOW regions: Number pages added per month 2016-2020')\n",
    "\n",
    "plt.tight_layout()\n",
    "#plt.savefig('figs/p_GLOW_avg_pages_added_per_month_2016_2019');\n",
    "\n",
    "plt.savefig('../../results/figs/regional_counts/pages_added_per_month_GLOW_regions_2016_2020.png')\n",
    "plt.show();"
   ]
  },
  {
   "cell_type": "code",
   "execution_count": null,
   "metadata": {},
   "outputs": [],
   "source": [
    "sns.set() \n",
    "fig = plt.figure(figsize=(15,11))\n",
    "ax = fig.add_subplot(111)\n",
    "#ax= sns.catplot(x=\"month\", y=\"new_pages\", hue=\"countries\", kind=\"point\", height=8.27, aspect=11.7/8.27, data=new_per_wp[new_per_wp.countries.isin(['India','Indonesia'])])\n",
    "\n",
    "ax.set_title('India/Indonesia avg pages added per month 2016-2019')\n",
    "sns.lineplot(x=\"month\", y=\"new_pages\", hue=\"countries\", \n",
    "            data=new_per_wp[new_per_wp.countries.isin(['India','Indonesia'])])\n",
    "\n",
    "plt.xticks(rotation=45)\n",
    "plt.setp(ax.get_xticklabels()[1::2], visible=False, weight='light')\n",
    "plt.title('India/Indonesia avg pages added per month 2016-2019')\n",
    "\n",
    "plt.tight_layout()\n",
    "plt.savefig('figs/p_India_Indonesia_avg_pages_added_per_month_2016_2019')\n",
    "plt.show();"
   ]
  },
  {
   "cell_type": "code",
   "execution_count": null,
   "metadata": {},
   "outputs": [],
   "source": [
    "sns.set() \n",
    "fig = plt.figure(figsize=(15,11))\n",
    "ax = fig.add_subplot(111)\n",
    "#ax= sns.catplot(x=\"month\", y=\"new_pages\", hue=\"countries\", kind=\"point\", height=8.27, aspect=11.7/8.27, data=new_per_wp[new_per_wp.countries.isin(['India','Indonesia'])])\n",
    "\n",
    "ax.set_title('India/Indonesia avg pages added per month 2016-2019')\n",
    "sns.lineplot(x=\"month\", y=\"new_pages\", hue=\"project\", \n",
    "            data=new_per_wp[new_per_wp.countries.isin(['Indonesia'])])\n",
    "\n",
    "plt.xticks(rotation=45)\n",
    "plt.setp(ax.get_xticklabels()[1::2], visible=False, weight='light')\n",
    "plt.title('Indonesia avg pages added per month 2016-2019')\n",
    "\n",
    "plt.tight_layout()\n",
    "plt.savefig('figs/p_Indonesia_avg_pages_added_per_month_2016_2019')\n",
    "plt.show();"
   ]
  }
 ],
 "metadata": {
  "kernelspec": {
   "display_name": "Python 3",
   "language": "python",
   "name": "python3"
  },
  "language_info": {
   "codemirror_mode": {
    "name": "ipython",
    "version": 3
   },
   "file_extension": ".py",
   "mimetype": "text/x-python",
   "name": "python",
   "nbconvert_exporter": "python",
   "pygments_lexer": "ipython3",
   "version": "3.7.8"
  }
 },
 "nbformat": 4,
 "nbformat_minor": 4
}
