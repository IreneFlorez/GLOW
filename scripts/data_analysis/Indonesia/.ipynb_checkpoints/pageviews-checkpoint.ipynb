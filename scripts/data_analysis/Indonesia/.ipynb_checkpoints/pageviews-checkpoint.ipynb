{
 "cells": [
  {
   "cell_type": "code",
   "execution_count": null,
   "metadata": {},
   "outputs": [],
   "source": [
    "import matplotlib as mpl\n",
    "import matplotlib.pyplot as plt\n",
    "import matplotlib.ticker as ticker\n",
    "import matplotlib.dates as mdates\n",
    "from matplotlib import pylab\n",
    "import pandas as pd\n",
    "\n",
    "%matplotlib inline"
   ]
  },
  {
   "cell_type": "code",
   "execution_count": null,
   "metadata": {},
   "outputs": [],
   "source": [
    "import seaborn as sns\n",
    "sns.set_style(\"whitegrid\")\n",
    "import numpy as np"
   ]
  },
  {
   "cell_type": "code",
   "execution_count": null,
   "metadata": {},
   "outputs": [],
   "source": [
    "%run .././data_wrangling/2b_data_handling.ipynb"
   ]
  },
  {
   "cell_type": "code",
   "execution_count": null,
   "metadata": {},
   "outputs": [],
   "source": [
    "contest_start"
   ]
  },
  {
   "cell_type": "code",
   "execution_count": null,
   "metadata": {},
   "outputs": [],
   "source": [
    "import datetime\n",
    "d = datetime.date(2019, 10, 10)\n",
    "isinstance(d, datetime.date)"
   ]
  },
  {
   "cell_type": "code",
   "execution_count": null,
   "metadata": {},
   "outputs": [],
   "source": [
    "df = pd.read_csv(\"{}\", sep=',', encoding = 'utf-8') "
   ]
  },
  {
   "cell_type": "markdown",
   "metadata": {},
   "source": [
    "## Handle Data"
   ]
  },
  {
   "cell_type": "code",
   "execution_count": null,
   "metadata": {},
   "outputs": [],
   "source": [
    "ifupvts_lim = interim_frame_updated_pv_topics_suggs[[\n",
    "    'page_id',\n",
    "    'database_code',\n",
    "    'page_title',\n",
    "    'page_len',\n",
    "    'article_type',\n",
    "    'g_suggestion',\n",
    "]].copy()"
   ]
  },
  {
   "cell_type": "code",
   "execution_count": null,
   "metadata": {},
   "outputs": [],
   "source": [
    "df = df.rename(columns = {'wikicode':'database_code',\n",
    "                                                                      'referer_class':'referrer_class'})"
   ]
  },
  {
   "cell_type": "code",
   "execution_count": null,
   "metadata": {},
   "outputs": [],
   "source": [
    "fgvr = df_referrer.copy()\n",
    "fgvr.replace({'referrer_class' : { 'none' : 'none_unknown', \n",
    "                                                       'unknown' : 'none_unknown',\n",
    "                                                       'external (search engine)': 'external_comb',\n",
    "                                                       'external': 'external_comb'\n",
    "                                                      }}, inplace=True)"
   ]
  },
  {
   "cell_type": "code",
   "execution_count": null,
   "metadata": {},
   "outputs": [],
   "source": [
    "rdf = pd.merge(ifupvts_lim, feb_global_views_referrer, how='left', on=['page_id', 'page_title','database_code'])"
   ]
  },
  {
   "cell_type": "code",
   "execution_count": null,
   "metadata": {},
   "outputs": [],
   "source": [
    "#all accepted and surviving articles, core metrics\n",
    "plt.figure(figsize = (20,8))\n",
    "sns.heatmap(df.corr(), annot=True, cmap='coolwarm');"
   ]
  },
  {
   "cell_type": "code",
   "execution_count": null,
   "metadata": {},
   "outputs": [],
   "source": [
    "sns.heatmap(df[['views_1M_all', 'g_suggestion', 'rplb_charting', 'page_len', 'relative_page_len']].corr(), annot=True, cmap='coolwarm');\n"
   ]
  },
  {
   "cell_type": "code",
   "execution_count": null,
   "metadata": {},
   "outputs": [],
   "source": [
    "df.describe()"
   ]
  },
  {
   "cell_type": "code",
   "execution_count": null,
   "metadata": {},
   "outputs": [],
   "source": [
    "def describe(df, stats):\n",
    "    d = df.describe()\n",
    "    return d.append(df.reindex(d.columns, axis=1).agg(stats))\n",
    "\n",
    "\n",
    "#describe(interim_df, ['skew', 'mad', 'kurt'])"
   ]
  },
  {
   "cell_type": "markdown",
   "metadata": {},
   "source": [
    "## Article type"
   ]
  },
  {
   "cell_type": "code",
   "execution_count": null,
   "metadata": {},
   "outputs": [],
   "source": [
    "df.groupby('article_type', sort=True)['views_1M_all'].agg(['mean','count','sum']).sort_values(by=['mean'], ascending=False)"
   ]
  },
  {
   "cell_type": "code",
   "execution_count": null,
   "metadata": {},
   "outputs": [],
   "source": [
    "df.groupby('article_type')['views_1M_all'].agg(['mean'])"
   ]
  },
  {
   "cell_type": "code",
   "execution_count": null,
   "metadata": {},
   "outputs": [],
   "source": [
    "#calculate how many more views expanded articles received on average over new articles\n",
    "e = df.groupby('article_type')['views_1M_all'].mean()\n",
    "e_impact = e[0]/e[1]\n",
    "e_impact"
   ]
  },
  {
   "cell_type": "code",
   "execution_count": null,
   "metadata": {},
   "outputs": [],
   "source": [
    "df.groupby('article_type').views_1M_all.mean().plot(kind='bar');"
   ]
  },
  {
   "cell_type": "code",
   "execution_count": null,
   "metadata": {},
   "outputs": [],
   "source": [
    "#Total Views by Wiki: Expanded vs New\n",
    "df.groupby([\"database_code\", \"article_type\"])[\"views_1M_all\"].sum().unstack().plot(kind=\"bar\", color=['b', 'g'],stacked=True);"
   ]
  },
  {
   "cell_type": "code",
   "execution_count": null,
   "metadata": {},
   "outputs": [],
   "source": [
    "#Avg Views by Wiki: Expanded vs New\n",
    "df.groupby([\"database_code\", \"article_type\"])[\"views_1M_all\"].mean().unstack().plot(kind=\"bar\", color=['b', 'g'], stacked=True);"
   ]
  },
  {
   "cell_type": "markdown",
   "metadata": {},
   "source": [
    "## G_suggestions"
   ]
  },
  {
   "cell_type": "code",
   "execution_count": null,
   "metadata": {},
   "outputs": [],
   "source": [
    "df.groupby('g_suggestion', sort=True)['views_1M_all'].agg(['mean','count','sum']).sort_values(by=['mean'], ascending=False)"
   ]
  },
  {
   "cell_type": "code",
   "execution_count": null,
   "metadata": {},
   "outputs": [],
   "source": [
    "#calculate how many more views g_suggested articles received on average over non g_suggested articles\n",
    "g = df.groupby('g_suggestion')['views_1M_all'].mean()\n",
    "g_impact = g[1]/g[0]\n",
    "g_impact"
   ]
  },
  {
   "cell_type": "code",
   "execution_count": null,
   "metadata": {},
   "outputs": [],
   "source": [
    "df.groupby('g_suggestion').views_1M_all.mean().plot(kind='bar')\n",
    "\n",
    "\n",
    "plt.title('Average Pageviews, Google Suggestions',fontsize=16)\n",
    "plt.xlabel('Google Suggestion',fontsize=13)\n",
    "plt.ylabel('Average Views',fontsize=13)\n",
    "plt.xticks(rotation=360)\n",
    "plt.tick_params(labelsize=12)\n",
    "plt.savefig('../../results/figs/pageviews/g_suggestion.png');"
   ]
  },
  {
   "cell_type": "markdown",
   "metadata": {},
   "source": [
    "## G_suggestions & Article Type"
   ]
  },
  {
   "cell_type": "code",
   "execution_count": null,
   "metadata": {},
   "outputs": [],
   "source": [
    "df.groupby(['g_suggestion', 'article_type'], sort=True)['views_1M_all'].describe()"
   ]
  },
  {
   "cell_type": "code",
   "execution_count": null,
   "metadata": {},
   "outputs": [],
   "source": [
    "# Draw a nested barplot to show survival for class and sex\n",
    "g = sns.catplot(x=\"article_type\", y=\"views_1M_all\", hue=\"g_suggestion\", data=df,\n",
    "                height=6, kind=\"bar\", palette=\"muted\")\n",
    "g.despine(left=True)\n",
    "plt.title(\"Pageviews by Article Type & Suggestion\",fontsize=16)\n",
    "plt.xlabel('Article Type: new or expanded',fontsize=13)\n",
    "plt.ylabel('Average Views',fontsize=13);"
   ]
  }
 ],
 "metadata": {
  "kernelspec": {
   "display_name": "Python 3",
   "language": "python",
   "name": "python3"
  },
  "language_info": {
   "codemirror_mode": {
    "name": "ipython",
    "version": 3
   },
   "file_extension": ".py",
   "mimetype": "text/x-python",
   "name": "python",
   "nbconvert_exporter": "python",
   "pygments_lexer": "ipython3",
   "version": "3.7.8"
  }
 },
 "nbformat": 4,
 "nbformat_minor": 4
}
