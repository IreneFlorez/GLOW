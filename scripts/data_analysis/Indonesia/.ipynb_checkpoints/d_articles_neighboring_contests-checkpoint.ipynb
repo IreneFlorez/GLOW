{
 "cells": [
  {
   "cell_type": "code",
   "execution_count": 3,
   "metadata": {},
   "outputs": [],
   "source": [
    "import pandas as pd\n",
    "import numpy as np\n",
    "from datetime import datetime"
   ]
  },
  {
   "cell_type": "code",
   "execution_count": 2,
   "metadata": {},
   "outputs": [],
   "source": [
    "idc = pd.read_csv(\"../../data/processed/contest_api/indic_contests_data_clean.csv\", sep=',', encoding = 'utf-8', parse_dates=True)"
   ]
  },
  {
   "cell_type": "code",
   "execution_count": 5,
   "metadata": {},
   "outputs": [],
   "source": [
    "final_frame_updated_pv_topics = pd.read_csv(\"../../data/processed/query_results/content_quality/final_frame_updated_pv_topcs.csv\", sep=',', encoding = 'utf-8', parse_dates=True)"
   ]
  },
  {
   "cell_type": "code",
   "execution_count": 17,
   "metadata": {},
   "outputs": [],
   "source": [
    "final_frame_selects = final_frame_updated_pv_topics[['page_title', 'page_id', 'wikicode']]"
   ]
  },
  {
   "cell_type": "code",
   "execution_count": 10,
   "metadata": {},
   "outputs": [],
   "source": [
    "idc['wikicode'] = idc['wiki']+'wiki'\n",
    "idc.rename(columns={'article_name':'page_title'}, inplace = True)"
   ]
  },
  {
   "cell_type": "code",
   "execution_count": 18,
   "metadata": {},
   "outputs": [
    {
     "name": "stdout",
     "output_type": "stream",
     "text": [
      "<class 'pandas.core.frame.DataFrame'>\n",
      "RangeIndex: 7447 entries, 0 to 7446\n",
      "Data columns (total 3 columns):\n",
      "page_title    7447 non-null object\n",
      "page_id       7447 non-null float64\n",
      "wikicode      7447 non-null object\n",
      "dtypes: float64(1), object(2)\n",
      "memory usage: 174.7+ KB\n"
     ]
    }
   ],
   "source": [
    "final_frame_selects.info()"
   ]
  },
  {
   "cell_type": "code",
   "execution_count": 21,
   "metadata": {},
   "outputs": [],
   "source": [
    "titles_submitted_to_GLOW_and_others = pd.merge(final_frame_selects, idc, on=['page_title', 'wikicode'], how=\"inner\")"
   ]
  },
  {
   "cell_type": "code",
   "execution_count": 22,
   "metadata": {},
   "outputs": [
    {
     "name": "stdout",
     "output_type": "stream",
     "text": [
      "<class 'pandas.core.frame.DataFrame'>\n",
      "Int64Index: 215 entries, 0 to 214\n",
      "Data columns (total 9 columns):\n",
      "page_title      215 non-null object\n",
      "page_id         215 non-null float64\n",
      "wikicode        215 non-null object\n",
      "contest_code    215 non-null object\n",
      "dateAdded       215 non-null object\n",
      "finish          215 non-null object\n",
      "start           215 non-null object\n",
      "user_name       215 non-null object\n",
      "wiki            215 non-null object\n",
      "dtypes: float64(1), object(8)\n",
      "memory usage: 16.8+ KB\n"
     ]
    }
   ],
   "source": [
    "titles_submitted_to_GLOW_and_others.info()"
   ]
  },
  {
   "cell_type": "code",
   "execution_count": null,
   "metadata": {},
   "outputs": [],
   "source": []
  }
 ],
 "metadata": {
  "kernelspec": {
   "display_name": "Python 3",
   "language": "python",
   "name": "python3"
  },
  "language_info": {
   "codemirror_mode": {
    "name": "ipython",
    "version": 3
   },
   "file_extension": ".py",
   "mimetype": "text/x-python",
   "name": "python",
   "nbconvert_exporter": "python",
   "pygments_lexer": "ipython3",
   "version": "3.5.3"
  }
 },
 "nbformat": 4,
 "nbformat_minor": 4
}
