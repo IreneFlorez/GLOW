{
 "cells": [
  {
   "cell_type": "markdown",
   "metadata": {},
   "source": [
    "# Quick Exploration"
   ]
  },
  {
   "cell_type": "code",
   "execution_count": null,
   "metadata": {},
   "outputs": [],
   "source": [
    "import matplotlib as mpl\n",
    "import matplotlib.pyplot as plt\n",
    "import matplotlib.ticker as ticker\n",
    "import matplotlib.dates as mdates\n",
    "import seaborn as sns\n",
    "import pandas as pd\n",
    "import numpy as np\n",
    "\n",
    "#%load_ext sql_magic\n",
    "%matplotlib inline"
   ]
  },
  {
   "cell_type": "raw",
   "metadata": {},
   "source": [
    "id_articles_pv = pd.read_csv(\"../../../data/raw/articles/2019/query_results/content_quality/per_wiki_full/Indonesia/id_writing_contest_monthly_challenge_articles_pv.csv\", sep=',', encoding = 'utf-8') "
   ]
  },
  {
   "cell_type": "code",
   "execution_count": null,
   "metadata": {},
   "outputs": [],
   "source": [
    "indonesia = pd.read_csv(\"../../../data/raw/articles/2019/query_results/content_quality/per_wiki_full/Indonesia/articles_w_july_incountry_pageviews_recs.csv\", sep=',')"
   ]
  },
  {
   "cell_type": "code",
   "execution_count": null,
   "metadata": {},
   "outputs": [],
   "source": [
    "indonesia = indonesia.reindex(sorted(indonesia.columns), axis=1)"
   ]
  },
  {
   "cell_type": "raw",
   "metadata": {},
   "source": [
    "indonesia['page_len']  = indonesia['page_len'].fillna(0)\n",
    "indonesia['page_len']  = indonesia['page_len'].replace('False', 0)\n",
    "indonesia['page_len'] = pd.to_numeric(indonesia['page_len'])"
   ]
  },
  {
   "cell_type": "code",
   "execution_count": null,
   "metadata": {},
   "outputs": [],
   "source": [
    "g = indonesia.columns.to_series().groupby(indonesia.dtypes).groups\n",
    "g"
   ]
  },
  {
   "cell_type": "code",
   "execution_count": null,
   "metadata": {},
   "outputs": [],
   "source": [
    "# 'at_edits' bool\n",
    "#'first_edited',\n",
    "#'last_edited',"
   ]
  },
  {
   "cell_type": "code",
   "execution_count": null,
   "metadata": {},
   "outputs": [],
   "source": [
    "cols = [\"rpage_title\"]\n",
    "indonesia[cols] = indonesia[cols].replace({'0':np.nan, 0:np.nan})"
   ]
  },
  {
   "cell_type": "code",
   "execution_count": null,
   "metadata": {},
   "outputs": [],
   "source": [
    "indonesia_total_submitted= 2135\n",
    "indonesia_total_approved = 1794\n",
    "indonesia_total_approved_clean_ids = len(indonesia) - len(indonesia[~indonesia['rpage_title'].isnull()])\n",
    "\n",
    "p_id_ta = 100* indonesia_total_approved /indonesia_total_submitted\n",
    "p_id_tas = 100* indonesia_total_approved_clean_ids /indonesia_total_submitted\n",
    "\n",
    "\n",
    "print(p_id_ta, p_id_tas)\n",
    "print('***')"
   ]
  },
  {
   "cell_type": "code",
   "execution_count": null,
   "metadata": {},
   "outputs": [],
   "source": [
    "len(indonesia)"
   ]
  },
  {
   "cell_type": "code",
   "execution_count": null,
   "metadata": {},
   "outputs": [],
   "source": [
    "len(indonesia[indonesia['article_type'].isnull()])"
   ]
  },
  {
   "cell_type": "code",
   "execution_count": null,
   "metadata": {},
   "outputs": [],
   "source": [
    "indonesia['article_type'].unique()"
   ]
  },
  {
   "cell_type": "code",
   "execution_count": null,
   "metadata": {},
   "outputs": [],
   "source": [
    "article_types = indonesia['article_type'].value_counts().reset_index().rename(columns={'index':'type', 'article_type': 'count'})\n",
    "\n",
    "\n",
    "article_type_new =  article_types[article_types['type']=='new'].values[0,1]+ article_types[article_types['type']=='post'].values[0,1]\n",
    "article_type_expanded =  article_types[article_types['type']=='expanded'].values[0,1] "
   ]
  },
  {
   "cell_type": "code",
   "execution_count": null,
   "metadata": {},
   "outputs": [],
   "source": [
    "article_types"
   ]
  },
  {
   "cell_type": "code",
   "execution_count": null,
   "metadata": {},
   "outputs": [],
   "source": [
    "P = indonesia.groupby('g_suggestion')['article_type'].value_counts().to_frame()"
   ]
  },
  {
   "cell_type": "code",
   "execution_count": null,
   "metadata": {},
   "outputs": [],
   "source": [
    "P"
   ]
  },
  {
   "cell_type": "code",
   "execution_count": null,
   "metadata": {},
   "outputs": [],
   "source": [
    "#Percent of new articles that were google suggestions"
   ]
  },
  {
   "cell_type": "code",
   "execution_count": null,
   "metadata": {},
   "outputs": [],
   "source": [
    "#Percent of new articles google suggestions selected from g list"
   ]
  },
  {
   "cell_type": "code",
   "execution_count": null,
   "metadata": {},
   "outputs": [],
   "source": [
    "#Percent of expanded articles that were google suggestions"
   ]
  },
  {
   "cell_type": "code",
   "execution_count": null,
   "metadata": {},
   "outputs": [],
   "source": [
    "#Percent of expanded articles google suggestions selected from g list"
   ]
  },
  {
   "cell_type": "code",
   "execution_count": null,
   "metadata": {},
   "outputs": [],
   "source": [
    "indonesia['translation_tool'].value_counts()"
   ]
  },
  {
   "cell_type": "code",
   "execution_count": null,
   "metadata": {},
   "outputs": [],
   "source": [
    "indonesia.groupby('translation_tool')['article_type'].value_counts()"
   ]
  },
  {
   "cell_type": "code",
   "execution_count": null,
   "metadata": {},
   "outputs": [],
   "source": [
    "indonesia['filename'].unique()"
   ]
  },
  {
   "cell_type": "code",
   "execution_count": null,
   "metadata": {},
   "outputs": [],
   "source": [
    "indonesia.loc[indonesia.filename == 'writing_contest.csv', ['g_suggestion']] = True"
   ]
  },
  {
   "cell_type": "code",
   "execution_count": null,
   "metadata": {},
   "outputs": [],
   "source": [
    "indonesia['g_suggestion'].value_counts()"
   ]
  },
  {
   "cell_type": "code",
   "execution_count": null,
   "metadata": {},
   "outputs": [],
   "source": [
    "indonesia.groupby('g_suggestion')['recs_suggestion_type'].value_counts()"
   ]
  },
  {
   "cell_type": "code",
   "execution_count": null,
   "metadata": {},
   "outputs": [],
   "source": [
    "indonesia.groupby('g_suggestion')['filename'].value_counts()"
   ]
  },
  {
   "cell_type": "code",
   "execution_count": null,
   "metadata": {},
   "outputs": [],
   "source": [
    "indonesia.groupby('article_type')['revertrate'].value_counts()"
   ]
  },
  {
   "cell_type": "code",
   "execution_count": null,
   "metadata": {},
   "outputs": [],
   "source": [
    "indonesia['revertrate'].value_counts()"
   ]
  },
  {
   "cell_type": "code",
   "execution_count": null,
   "metadata": {},
   "outputs": [],
   "source": [
    "indonesia.groupby('g_suggestion')['article_type'].value_counts()"
   ]
  },
  {
   "cell_type": "code",
   "execution_count": null,
   "metadata": {},
   "outputs": [],
   "source": [
    "interim = pd.read_csv(\"../../data/processed/query_results/content_quality/5_interim_frame_updated_w_g_suggs.csv\", sep=',', encoding = 'utf-8') "
   ]
  },
  {
   "cell_type": "code",
   "execution_count": null,
   "metadata": {},
   "outputs": [],
   "source": [
    "india = pd.read_csv(\"../../data/processed/query_results/content_quality/b5_final_frame_updated_pv_topics_g_suggs.csv\", sep=',', encoding = 'utf-8') "
   ]
  },
  {
   "cell_type": "code",
   "execution_count": null,
   "metadata": {},
   "outputs": [],
   "source": [
    "india = india.reindex(sorted(india.columns), axis=1)"
   ]
  },
  {
   "cell_type": "code",
   "execution_count": null,
   "metadata": {},
   "outputs": [],
   "source": [
    "india['article_type'].unique()"
   ]
  },
  {
   "cell_type": "code",
   "execution_count": null,
   "metadata": {},
   "outputs": [],
   "source": [
    "v = interim.groupby('article_type')['predicted_label_1'].apply(lambda x: x.mode().iat[0]).reset_index()\n",
    "v"
   ]
  },
  {
   "cell_type": "code",
   "execution_count": null,
   "metadata": {},
   "outputs": [],
   "source": [
    "labels = indonesia[indonesia['predicted_label_1']]"
   ]
  },
  {
   "cell_type": "code",
   "execution_count": null,
   "metadata": {},
   "outputs": [],
   "source": [
    "v_id = indonesia.groupby('article_type')['predicted_label_1'].apply(lambda x: x.mode().iat[0]).reset_index()\n",
    "v_id"
   ]
  },
  {
   "cell_type": "code",
   "execution_count": null,
   "metadata": {},
   "outputs": [],
   "source": [
    "test = indonesia.copy(deep=True)\n",
    "test['article_type'] = test['article_type'].str.replace('post', 'new')\n",
    "\n",
    "v_id2 = test.groupby('article_type')['predicted_label_1'].apply(lambda x: x.mode().iat[0]).reset_index()\n",
    "v_id2"
   ]
  },
  {
   "cell_type": "code",
   "execution_count": null,
   "metadata": {},
   "outputs": [],
   "source": []
  },
  {
   "cell_type": "code",
   "execution_count": null,
   "metadata": {},
   "outputs": [],
   "source": [
    "#check for outliers in page_len\n",
    "sns.stripplot(data = indonesia, y = 'page_len', jitter = True);\n",
    "#sns.plt.ylim(0, 500)\n",
    "#sns.plt.show()"
   ]
  },
  {
   "cell_type": "code",
   "execution_count": null,
   "metadata": {},
   "outputs": [],
   "source": [
    "#check for outliers in page_len\n",
    "sns.stripplot(data = indonesia, y = 'page_len', jitter = True);\n",
    "#sns.plt.ylim(0, 50000)\n",
    "#sns.plt.show()"
   ]
  },
  {
   "cell_type": "code",
   "execution_count": null,
   "metadata": {},
   "outputs": [],
   "source": [
    "# Review 'page_len' distribution \n",
    "plt.figure();\n",
    "age_hist = indonesia['page_len'].plot.hist(bins=10)\n",
    "age_hist.set_xlabel(\"page_len\")\n",
    "age_hist.set_ylabel(\"Articles\")\n",
    "age_hist.set_title('Distribution of page_len');"
   ]
  },
  {
   "cell_type": "code",
   "execution_count": null,
   "metadata": {},
   "outputs": [],
   "source": [
    "## exploratory analysis"
   ]
  },
  {
   "cell_type": "code",
   "execution_count": null,
   "metadata": {},
   "outputs": [],
   "source": [
    "indonesia.describe()"
   ]
  },
  {
   "cell_type": "code",
   "execution_count": null,
   "metadata": {},
   "outputs": [],
   "source": [
    "na_agg = indonesia[[ #for aggregating\n",
    "'wikicode',\n",
    "'iwsitelinks',\n",
    "'article_type',\n",
    "'page_len',\n",
    "'relative_page_len',\n",
    "'total_edits',\n",
    "'editors',\n",
    "'views_1M',\n",
    "'views_1M_all',\n",
    "'editors_1stM',\n",
    "'edits_1M',\n",
    "'minor_edits',\n",
    "'major_editors',\n",
    "'IP_editors',\n",
    "'micro_editors',\n",
    "'revertrate',\n",
    "'first_edited',\n",
    "'last_edited',\n",
    "'talk_page_edits',\n",
    "'watch_count',\n",
    "'o_internal_links',\n",
    "'o_external_links',\n",
    "'incoming_links']]\n",
    "\n",
    "#select only numeric columns for hist plotting\n",
    "numerics = ['int', 'float64']\n",
    "na_numeric = na_agg.select_dtypes(include=numerics)"
   ]
  },
  {
   "cell_type": "code",
   "execution_count": null,
   "metadata": {},
   "outputs": [],
   "source": [
    "indonesia.groupby(['database_code']).agg(['nunique'])"
   ]
  },
  {
   "cell_type": "code",
   "execution_count": null,
   "metadata": {},
   "outputs": [],
   "source": [
    "indonesia.groupby(['database_code']).agg(['median', 'max'])"
   ]
  },
  {
   "cell_type": "code",
   "execution_count": null,
   "metadata": {},
   "outputs": [],
   "source": [
    "indonesia.corr()"
   ]
  },
  {
   "cell_type": "code",
   "execution_count": null,
   "metadata": {},
   "outputs": [],
   "source": [
    "corr = indonesia.corr()\n",
    "corr = (corr)\n",
    "sns.heatmap(corr,\n",
    "           xticklabels=corr.columns.values,\n",
    "           yticklabels=corr.columns.values,\n",
    "           cmap=\"coolwarm\", center=0);"
   ]
  },
  {
   "cell_type": "code",
   "execution_count": null,
   "metadata": {},
   "outputs": [],
   "source": [
    "plt.figure(figsize = (20,8))\n",
    "sns.heatmap(indonesia.corr(), annot=True, cmap='coolwarm');"
   ]
  },
  {
   "cell_type": "code",
   "execution_count": null,
   "metadata": {},
   "outputs": [],
   "source": [
    "#new articles - full frame\n",
    "plt.figure(figsize = (21,19))\n",
    "sns.heatmap(indonesia.corr(), annot=True, cmap='coolwarm');"
   ]
  },
  {
   "cell_type": "markdown",
   "metadata": {},
   "source": [
    "## Isolated/Underdeveloped articles"
   ]
  },
  {
   "cell_type": "code",
   "execution_count": null,
   "metadata": {},
   "outputs": [],
   "source": [
    "#o_internal_links\to_external_links\n",
    "zero_oel = indonesia[indonesia['oplinks']==0]\n",
    "zero_oil = indonesia[indonesia['oel_links']==0]\n",
    "zero_in_links =  indonesia[indonesia['ipl_count']==0]\n",
    "not_redirect= indonesia[indonesia['rpage_title'].isnull()]"
   ]
  },
  {
   "cell_type": "code",
   "execution_count": null,
   "metadata": {},
   "outputs": [],
   "source": [
    "len(indonesia[indonesia['oplinks']==0])"
   ]
  },
  {
   "cell_type": "code",
   "execution_count": null,
   "metadata": {},
   "outputs": [],
   "source": [
    "len(indonesia[indonesia['oel_links']==0])"
   ]
  },
  {
   "cell_type": "code",
   "execution_count": null,
   "metadata": {},
   "outputs": [],
   "source": [
    "z = len(indonesia[indonesia['ipl_count']==0])\n",
    "z"
   ]
  },
  {
   "cell_type": "code",
   "execution_count": null,
   "metadata": {},
   "outputs": [],
   "source": [
    "z/len(indonesia)"
   ]
  },
  {
   "cell_type": "code",
   "execution_count": null,
   "metadata": {},
   "outputs": [],
   "source": [
    "zero_out_links_mask = (indonesia['oplinks']== 0) & (indonesia['oel_links'] == 0 ) \n",
    "zero_out_links = indonesia.loc[zero_out_links_mask]\n",
    "zero_out_links = zero_out_links[zero_out_links['rpage_title'].isnull()]\n",
    "\n",
    "#externallinks contains links to elsewhere, outside of all wikis\n",
    "#https://www.mediawiki.org/wiki/Manual:Externallinks_table (external links, from the page)"
   ]
  },
  {
   "cell_type": "code",
   "execution_count": null,
   "metadata": {},
   "outputs": [],
   "source": [
    "indonesia_links = indonesia[['page_title','oplinks','oel_links','ipl_count', 'url_article_info', 'url']]"
   ]
  },
  {
   "cell_type": "code",
   "execution_count": null,
   "metadata": {},
   "outputs": [],
   "source": [
    "(~indonesia_links.all(1)).sum()"
   ]
  },
  {
   "cell_type": "code",
   "execution_count": null,
   "metadata": {},
   "outputs": [],
   "source": [
    "zero_out_links_mask2 = (indonesia_links['oplinks']== 0) & (indonesia_links['oel_links'] == 0 ) \n",
    "zero_out_links2 = indonesia_links.loc[zero_out_links_mask2]\n",
    "#zero_out_links2 = zero_out_links2[zero_out_links2['rpage_title'].isnull()]"
   ]
  },
  {
   "cell_type": "code",
   "execution_count": null,
   "metadata": {},
   "outputs": [],
   "source": [
    "len(zero_out_links)"
   ]
  },
  {
   "cell_type": "code",
   "execution_count": null,
   "metadata": {},
   "outputs": [],
   "source": [
    "len(zero_out_links2)"
   ]
  },
  {
   "cell_type": "code",
   "execution_count": null,
   "metadata": {},
   "outputs": [],
   "source": [
    "zero_out_links2.to_csv(\"{}.csv\")"
   ]
  },
  {
   "cell_type": "code",
   "execution_count": null,
   "metadata": {},
   "outputs": [],
   "source": [
    "zero_out_links.database_code.unique()"
   ]
  },
  {
   "cell_type": "code",
   "execution_count": null,
   "metadata": {},
   "outputs": [],
   "source": [
    "zero_out_links.describe()"
   ]
  },
  {
   "cell_type": "code",
   "execution_count": null,
   "metadata": {},
   "outputs": [],
   "source": [
    "zero_oel.describe()"
   ]
  },
  {
   "cell_type": "code",
   "execution_count": null,
   "metadata": {},
   "outputs": [],
   "source": [
    "zero_oil.describe()"
   ]
  },
  {
   "cell_type": "markdown",
   "metadata": {},
   "source": [
    "### external links <a class=\"anchor\" id=\"extlinks\"></a>\n",
    "[Back to Table of Contents](#toc)"
   ]
  },
  {
   "cell_type": "code",
   "execution_count": null,
   "metadata": {},
   "outputs": [],
   "source": [
    "# check to see if any of the targets are duplicated in the article\n",
    "oel_r.duplicated()"
   ]
  },
  {
   "cell_type": "markdown",
   "metadata": {},
   "source": [
    "#### Categorize opls & oextlinks"
   ]
  },
  {
   "cell_type": "code",
   "execution_count": null,
   "metadata": {},
   "outputs": [],
   "source": [
    "# use bins to seperate number of pagelinks into categories\n",
    "#seperate number of links into bins defined for oel_bins \n",
    "opls[\"binned_links\"] = pd.cut(opls[\"oplinks\"], oel_bins, right=False)\n",
    "\n",
    "#sort\n",
    "opls[\"binned_links\"].value_counts(sort = False)"
   ]
  },
  {
   "cell_type": "code",
   "execution_count": null,
   "metadata": {},
   "outputs": [],
   "source": [
    "# use bins to seperate number of pagelinks into categories\n",
    "#seperate number of links into bins defined for oext_bins \n",
    "oextlinks[\"binned_links\"] = pd.cut(oextlinks[\"oelinks\"], oext_bins, right=False)\n",
    "\n",
    "#sort\n",
    "oextlinks[\"binned_links\"].value_counts(sort = False)"
   ]
  },
  {
   "cell_type": "code",
   "execution_count": null,
   "metadata": {},
   "outputs": [],
   "source": []
  }
 ],
 "metadata": {
  "kernelspec": {
   "display_name": "Python 3",
   "language": "python",
   "name": "python3"
  },
  "language_info": {
   "codemirror_mode": {
    "name": "ipython",
    "version": 3
   },
   "file_extension": ".py",
   "mimetype": "text/x-python",
   "name": "python",
   "nbconvert_exporter": "python",
   "pygments_lexer": "ipython3",
   "version": "3.7.8"
  }
 },
 "nbformat": 4,
 "nbformat_minor": 4
}
