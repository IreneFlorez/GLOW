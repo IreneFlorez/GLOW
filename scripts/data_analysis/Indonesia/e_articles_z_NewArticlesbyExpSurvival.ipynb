{
 "cells": [
  {
   "cell_type": "code",
   "execution_count": null,
   "metadata": {},
   "outputs": [],
   "source": []
  },
  {
   "cell_type": "markdown",
   "metadata": {},
   "source": [
    "#### New articles (by experience & survival) <a class=\"anchor\" id=\"new_articles_filtered\"></a>\n",
    "[Back to Table of Contents](#toc)"
   ]
  },
  {
   "cell_type": "code",
   "execution_count": null,
   "metadata": {},
   "outputs": [],
   "source": [
    "#adapted from https://github.com/wikimedia-research/2018-19-Language-annual-plan-metrics/blob/master/Language-metrics.ipynb\n",
    "#6 months ≈ 26 weeks = 252 days\n",
    "\n",
    "\n",
    "acc_r = hive.run(\"\"\"\n",
    "SELECT\n",
    "    wiki_db, \n",
    "    IF(coalesce(datediff(event_timestamp, ssac.dt) > 252, true), \"experienced\", \"new\") AS user_experience,\n",
    "    IF(revision_is_deleted_by_page_deletion, \"deleted\", \"survived\") AS status,\n",
    "    count(*)/12 AS mon_num_articles_created\n",
    "FROM wmf.mediawiki_history mh\n",
    "LEFT JOIN event_sanitized.serversideaccountcreation ssac\n",
    "ON\n",
    "    ssac.event.username = event_user_text AND\n",
    "    ssac.year >= 0\n",
    "WHERE\n",
    "    mh.snapshot = \"{MWH_SNAPSHOT}\" \n",
    "    AND mh.event_timestamp >= \"{Y_START_DATE}\" \n",
    "    AND mh.event_timestamp < \"{TODAY_DATE}\"\n",
    "    AND event_entity = 'page' \n",
    "    AND event_type = \"create\"  \n",
    "    AND wiki_db in ({india_wiki_dbs})\n",
    "GROUP BY \n",
    "    wiki_db,\n",
    "    date_format(event_timestamp, \"YYYY-MM\"), \n",
    "    IF(coalesce(datediff(event_timestamp, ssac.dt) > 252, true), \"experienced\", \"new\"), \n",
    "    IF(revision_is_deleted_by_page_deletion, \"deleted\", \"survived\")\n",
    "\"\"\".format(**query_vars))\n",
    "\n",
    "art_creation_counts = acc_r.copy()\n",
    "\n",
    "#filter\n",
    "#art_creation_counts[art_creation_counts.wiki.isin(glow_wiki_list)]\n",
    "\n",
    "#adapted from https://github.com/wikimedia-research/2018-19-Language-annual-plan-metrics/blob/master/Language-metrics.ipynb\n",
    "#6 months ≈ 26 weeks = 252 days\n",
    "\n",
    "\n",
    "acc_r2 = hive.run(\"\"\"\n",
    "SELECT\n",
    "    wiki_db, \n",
    "    IF(coalesce(datediff(event_timestamp, ssac.dt) > 252, true), \"experienced\", \"new\") AS user_experience,\n",
    "    IF(revision_is_deleted_by_page_deletion, \"deleted\", \"survived\") AS status,\n",
    "    count(*) AS num_articles_created\n",
    "FROM wmf.mediawiki_history mh\n",
    "LEFT JOIN event_sanitized.serversideaccountcreation ssac\n",
    "ON\n",
    "    ssac.event.username = event_user_text AND\n",
    "    ssac.year >= 0\n",
    "WHERE\n",
    "    mh.snapshot = \"{MWH_SNAPSHOT}\" \n",
    "    AND mh.event_timestamp >= \"{Y_START_DATE}\" \n",
    "    AND event_entity = 'page' \n",
    "    AND event_type = \"create\"  \n",
    "    AND wiki_db in ({india_wiki_dbs})\n",
    "GROUP BY \n",
    "    wiki_db,\n",
    "    IF(coalesce(datediff(event_timestamp, ssac.dt) > 252, true), \"experienced\", \"new\"), \n",
    "    IF(revision_is_deleted_by_page_deletion, \"deleted\", \"survived\")\n",
    "\"\"\".format(**query_vars))"
   ]
  },
  {
   "cell_type": "code",
   "execution_count": null,
   "metadata": {},
   "outputs": [],
   "source": [
    "new_articles_all = art_creation_counts \\\n",
    "                  .groupby(['status', 'wiki_db'], as_index = False)['num_articles_created'] \\\n",
    "                  .sum() \\\n",
    "                  .pivot(index='wiki_db', columns='status', values='num_articles_created')\n",
    "fig = new_articles_all.loc[:,['survived','deleted']].plot.bar(stacked=True, figsize=(11, 6))\n",
    "fig.tick_params(axis = 'x', labelrotation=0)\n",
    "fig.set_ylabel('Number of articles')\n",
    "fig.set_title('Number of articles created by all users')\n",
    "fig.get_figure().savefig('./figs/articles_all_users.png', dpi=300)"
   ]
  },
  {
   "cell_type": "code",
   "execution_count": null,
   "metadata": {},
   "outputs": [],
   "source": [
    "new_articles_experienced = art_creation_counts[(art_creation_counts.user_experience == 'experienced')] \\\n",
    "                  .groupby(['status', 'wiki_db'], as_index = False)['num_articles_created'] \\\n",
    "                  .sum() \\\n",
    "                  .pivot(index='wiki_db', columns='status', values='num_articles_created')\n",
    "fig = new_articles_experienced.loc[:,['survived','deleted']].plot.bar(stacked=True, figsize=(11, 6))\n",
    "fig.tick_params(axis = 'x', labelrotation=0)\n",
    "fig.set_ylabel('Number of articles')\n",
    "fig.set_title('Number of articles created by experienced users')\n",
    "fig.get_figure().savefig('./figs/articles_experienced_users.png', dpi=300)"
   ]
  },
  {
   "cell_type": "code",
   "execution_count": null,
   "metadata": {},
   "outputs": [],
   "source": [
    "new_articles_new = art_creation_counts[(art_creation_counts.user_experience == 'new')] \\\n",
    "               .groupby(['status', 'wiki_db'], as_index = False)['num_articles_created'] \\\n",
    "               .sum() \\\n",
    "               .pivot(index='wiki_db', columns='status', values='num_articles_created')\n",
    "fig = new_articles_new.loc[:,['survived','deleted']].plot.bar(stacked=True, figsize=(11, 6))\n",
    "fig.tick_params(axis = 'x', labelrotation=0)\n",
    "fig.set_ylabel('Number of articles')\n",
    "fig.set_title('Number of articles created by new users')\n",
    "fig.get_figure().savefig('./figs/articles_new_users.png', dpi=300)"
   ]
  }
 ],
 "metadata": {
  "kernelspec": {
   "display_name": "Python 3",
   "language": "python",
   "name": "python3"
  },
  "language_info": {
   "codemirror_mode": {
    "name": "ipython",
    "version": 3
   },
   "file_extension": ".py",
   "mimetype": "text/x-python",
   "name": "python",
   "nbconvert_exporter": "python",
   "pygments_lexer": "ipython3",
   "version": "3.7.8"
  }
 },
 "nbformat": 4,
 "nbformat_minor": 4
}
