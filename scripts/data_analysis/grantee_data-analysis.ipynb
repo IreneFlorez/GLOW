{
 "cells": [
  {
   "cell_type": "markdown",
   "metadata": {},
   "source": [
    "# Grantee Data Analysis"
   ]
  },
  {
   "cell_type": "code",
   "execution_count": 1,
   "metadata": {},
   "outputs": [],
   "source": [
    "import pandas as pd\n",
    "import numpy as np\n",
    "import wmfdata as wmf\n",
    "from wmfdata import charting, mariadb, hive\n",
    "from wmfdata.utils import pct_str, pd_display_all"
   ]
  },
  {
   "cell_type": "code",
   "execution_count": 2,
   "metadata": {},
   "outputs": [],
   "source": [
    "participants_tally_2019 = pd.read_csv(\"../../data/processed/participants_list_received_clean/2019/participants_tally_2019.csv\", sep=',', encoding = 'utf-8')"
   ]
  },
  {
   "cell_type": "code",
   "execution_count": 3,
   "metadata": {},
   "outputs": [],
   "source": [
    "participants_tally_2018 = pd.read_csv(\"../../data/processed/participants_list_received_clean/2018/PTP_participants_grantees_article_counts_clean.csv\", sep=',', encoding = 'utf-8')"
   ]
  },
  {
   "cell_type": "code",
   "execution_count": 4,
   "metadata": {},
   "outputs": [],
   "source": [
    "# read data from inner join of 2019 and 2018 participants: participants in this year's GLOW a) that also were grantees b) that were also participants last year\n",
    "participants_last_grantees = pd.read_csv(\"../../data/processed/participants_list_received_clean/2019/participants_last_grantees.csv\", sep=',', encoding = 'utf-8')\n",
    "participants_last_participants = pd.read_csv(\"../../data/processed/participants_list_received_clean/2019/participants_last_participants.csv\", sep=',', encoding = 'utf-8')"
   ]
  },
  {
   "cell_type": "markdown",
   "metadata": {},
   "source": [
    "### GLOW signup"
   ]
  },
  {
   "cell_type": "code",
   "execution_count": 5,
   "metadata": {},
   "outputs": [
    {
     "data": {
      "text/plain": [
       "True     328\n",
       "False     34\n",
       "Name: glow_editor_signup, dtype: int64"
      ]
     },
     "execution_count": 5,
     "metadata": {},
     "output_type": "execute_result"
    }
   ],
   "source": [
    "participants_tally_2019['glow_editor_signup'].value_counts()"
   ]
  },
  {
   "cell_type": "code",
   "execution_count": 6,
   "metadata": {},
   "outputs": [
    {
     "data": {
      "text/plain": [
       "True     291\n",
       "False     27\n",
       "Name: glow_editor_signup, dtype: int64"
      ]
     },
     "execution_count": 6,
     "metadata": {},
     "output_type": "execute_result"
    }
   ],
   "source": [
    "participants_tally_2018['glow_editor_signup'].value_counts()"
   ]
  },
  {
   "cell_type": "code",
   "execution_count": 7,
   "metadata": {},
   "outputs": [
    {
     "data": {
      "text/html": [
       "<div>\n",
       "<style scoped>\n",
       "    .dataframe tbody tr th:only-of-type {\n",
       "        vertical-align: middle;\n",
       "    }\n",
       "\n",
       "    .dataframe tbody tr th {\n",
       "        vertical-align: top;\n",
       "    }\n",
       "\n",
       "    .dataframe thead th {\n",
       "        text-align: right;\n",
       "    }\n",
       "</style>\n",
       "<table border=\"1\" class=\"dataframe\">\n",
       "  <thead>\n",
       "    <tr style=\"text-align: right;\">\n",
       "      <th></th>\n",
       "      <th></th>\n",
       "      <th>count</th>\n",
       "      <th>mean</th>\n",
       "      <th>std</th>\n",
       "      <th>min</th>\n",
       "      <th>25%</th>\n",
       "      <th>50%</th>\n",
       "      <th>75%</th>\n",
       "      <th>max</th>\n",
       "    </tr>\n",
       "    <tr>\n",
       "      <th>incentive_recipient</th>\n",
       "      <th>glow_editor_signup</th>\n",
       "      <th></th>\n",
       "      <th></th>\n",
       "      <th></th>\n",
       "      <th></th>\n",
       "      <th></th>\n",
       "      <th></th>\n",
       "      <th></th>\n",
       "      <th></th>\n",
       "    </tr>\n",
       "  </thead>\n",
       "  <tbody>\n",
       "    <tr>\n",
       "      <th>False</th>\n",
       "      <th>True</th>\n",
       "      <td>268.0</td>\n",
       "      <td>33.070896</td>\n",
       "      <td>184.395456</td>\n",
       "      <td>1.0</td>\n",
       "      <td>1.0</td>\n",
       "      <td>3.5</td>\n",
       "      <td>15.0</td>\n",
       "      <td>2880.0</td>\n",
       "    </tr>\n",
       "    <tr>\n",
       "      <th rowspan=\"2\" valign=\"top\">True</th>\n",
       "      <th>False</th>\n",
       "      <td>34.0</td>\n",
       "      <td>10.764706</td>\n",
       "      <td>61.197672</td>\n",
       "      <td>0.0</td>\n",
       "      <td>0.0</td>\n",
       "      <td>0.0</td>\n",
       "      <td>0.0</td>\n",
       "      <td>357.0</td>\n",
       "    </tr>\n",
       "    <tr>\n",
       "      <th>True</th>\n",
       "      <td>60.0</td>\n",
       "      <td>76.316667</td>\n",
       "      <td>134.414675</td>\n",
       "      <td>1.0</td>\n",
       "      <td>6.0</td>\n",
       "      <td>19.5</td>\n",
       "      <td>78.5</td>\n",
       "      <td>635.0</td>\n",
       "    </tr>\n",
       "  </tbody>\n",
       "</table>\n",
       "</div>"
      ],
      "text/plain": [
       "                                        count       mean         std  min  \\\n",
       "incentive_recipient glow_editor_signup                                      \n",
       "False               True                268.0  33.070896  184.395456  1.0   \n",
       "True                False                34.0  10.764706   61.197672  0.0   \n",
       "                    True                 60.0  76.316667  134.414675  1.0   \n",
       "\n",
       "                                        25%   50%   75%     max  \n",
       "incentive_recipient glow_editor_signup                           \n",
       "False               True                1.0   3.5  15.0  2880.0  \n",
       "True                False               0.0   0.0   0.0   357.0  \n",
       "                    True                6.0  19.5  78.5   635.0  "
      ]
     },
     "execution_count": 7,
     "metadata": {},
     "output_type": "execute_result"
    }
   ],
   "source": [
    "participants_tally_2019.groupby(['incentive_recipient','glow_editor_signup'])['total_articles'].describe()"
   ]
  },
  {
   "cell_type": "code",
   "execution_count": 8,
   "metadata": {},
   "outputs": [
    {
     "name": "stdout",
     "output_type": "stream",
     "text": [
      "<class 'pandas.core.frame.DataFrame'>\n",
      "Int64Index: 60 entries, 4 to 348\n",
      "Data columns (total 5 columns):\n",
      "username               60 non-null object\n",
      "incentive_recipient    60 non-null bool\n",
      "incentive_type         60 non-null object\n",
      "glow_editor_signup     60 non-null bool\n",
      "total_articles         60 non-null float64\n",
      "dtypes: bool(2), float64(1), object(2)\n",
      "memory usage: 2.0+ KB\n"
     ]
    }
   ],
   "source": [
    "participants_tally_2019.loc[(participants_tally_2019['incentive_recipient']==True) & (participants_tally_2019['glow_editor_signup']==True)].info()"
   ]
  },
  {
   "cell_type": "markdown",
   "metadata": {},
   "source": [
    "### incentive_recipient"
   ]
  },
  {
   "cell_type": "code",
   "execution_count": 9,
   "metadata": {},
   "outputs": [
    {
     "data": {
      "text/plain": [
       "False    268\n",
       "True      94\n",
       "Name: incentive_recipient, dtype: int64"
      ]
     },
     "execution_count": 9,
     "metadata": {},
     "output_type": "execute_result"
    }
   ],
   "source": [
    "participants_tally_2019['incentive_recipient'].value_counts()"
   ]
  },
  {
   "cell_type": "code",
   "execution_count": 10,
   "metadata": {},
   "outputs": [
    {
     "data": {
      "text/plain": [
       "False    252\n",
       "True      66\n",
       "Name: incentive_recipient, dtype: int64"
      ]
     },
     "execution_count": 10,
     "metadata": {},
     "output_type": "execute_result"
    }
   ],
   "source": [
    "participants_tally_2018['incentive_recipient'].value_counts()"
   ]
  },
  {
   "cell_type": "markdown",
   "metadata": {},
   "source": [
    "### incentive_type count"
   ]
  },
  {
   "cell_type": "code",
   "execution_count": 11,
   "metadata": {},
   "outputs": [
    {
     "data": {
      "text/plain": [
       "0                  268\n",
       "internet            43\n",
       "laptop_internet     36\n",
       "laptop              15\n",
       "Name: incentive_type, dtype: int64"
      ]
     },
     "execution_count": 11,
     "metadata": {},
     "output_type": "execute_result"
    }
   ],
   "source": [
    "participants_tally_2019['incentive_type'].value_counts()"
   ]
  },
  {
   "cell_type": "code",
   "execution_count": 12,
   "metadata": {},
   "outputs": [
    {
     "data": {
      "text/plain": [
       "0                  252\n",
       "laptop_internet     28\n",
       "laptop              22\n",
       "internet            16\n",
       "Name: incentive_type, dtype: int64"
      ]
     },
     "execution_count": 12,
     "metadata": {},
     "output_type": "execute_result"
    }
   ],
   "source": [
    "participants_tally_2018['incentive_type'].value_counts()"
   ]
  },
  {
   "cell_type": "markdown",
   "metadata": {},
   "source": [
    "### Create a mask for GLOW editors"
   ]
  },
  {
   "cell_type": "code",
   "execution_count": 13,
   "metadata": {},
   "outputs": [],
   "source": [
    "glow_2019_m = participants_tally_2019['glow_editor_signup']==True\n",
    "glow_2018_m = participants_tally_2018['glow_editor_signup']==True"
   ]
  },
  {
   "cell_type": "code",
   "execution_count": 14,
   "metadata": {},
   "outputs": [],
   "source": [
    "g18 = participants_tally_2018.loc[glow_2018_m]\n",
    "g19 = participants_tally_2019.loc[glow_2019_m]\n",
    "\n",
    "glow_2019 = g19.copy()\n",
    "glow_2018 = g18.copy()"
   ]
  },
  {
   "cell_type": "code",
   "execution_count": 15,
   "metadata": {},
   "outputs": [
    {
     "data": {
      "text/plain": [
       "False    268\n",
       "True      60\n",
       "Name: incentive_recipient, dtype: int64"
      ]
     },
     "execution_count": 15,
     "metadata": {},
     "output_type": "execute_result"
    }
   ],
   "source": [
    "glow_2019['incentive_recipient'].value_counts()"
   ]
  },
  {
   "cell_type": "markdown",
   "metadata": {},
   "source": [
    "### output by incentive - broad"
   ]
  },
  {
   "cell_type": "code",
   "execution_count": 16,
   "metadata": {},
   "outputs": [
    {
     "data": {
      "text/plain": [
       "incentive_recipient\n",
       "False    8863.0\n",
       "True     4579.0\n",
       "Name: total_articles, dtype: float64"
      ]
     },
     "execution_count": 16,
     "metadata": {},
     "output_type": "execute_result"
    }
   ],
   "source": [
    "glow_2019.groupby('incentive_recipient')['total_articles'].sum()"
   ]
  },
  {
   "cell_type": "code",
   "execution_count": 17,
   "metadata": {},
   "outputs": [
    {
     "data": {
      "text/plain": [
       "incentive_recipient\n",
       "False    2830.0\n",
       "True     1904.0\n",
       "Name: article_count, dtype: float64"
      ]
     },
     "execution_count": 17,
     "metadata": {},
     "output_type": "execute_result"
    }
   ],
   "source": [
    "glow_2018.groupby('incentive_recipient')['article_count'].sum()"
   ]
  },
  {
   "cell_type": "markdown",
   "metadata": {},
   "source": [
    "### output by incentive - detailed"
   ]
  },
  {
   "cell_type": "code",
   "execution_count": 18,
   "metadata": {},
   "outputs": [
    {
     "data": {
      "text/plain": [
       "incentive_type\n",
       "laptop             1013.0\n",
       "laptop_internet    1385.0\n",
       "internet           2181.0\n",
       "0                  8863.0\n",
       "Name: total_articles, dtype: float64"
      ]
     },
     "execution_count": 18,
     "metadata": {},
     "output_type": "execute_result"
    }
   ],
   "source": [
    "glow_2019.groupby('incentive_type')['total_articles'].sum().sort_values()"
   ]
  },
  {
   "cell_type": "code",
   "execution_count": 19,
   "metadata": {},
   "outputs": [
    {
     "data": {
      "text/plain": [
       "incentive_type\n",
       "laptop_internet     223.0\n",
       "internet            321.0\n",
       "laptop             1360.0\n",
       "0                  2830.0\n",
       "Name: article_count, dtype: float64"
      ]
     },
     "execution_count": 19,
     "metadata": {},
     "output_type": "execute_result"
    }
   ],
   "source": [
    "glow_2018.groupby('incentive_type')['article_count'].sum().sort_values()"
   ]
  },
  {
   "cell_type": "markdown",
   "metadata": {},
   "source": [
    "### Descriptive statistics"
   ]
  },
  {
   "cell_type": "code",
   "execution_count": 20,
   "metadata": {},
   "outputs": [
    {
     "data": {
      "text/html": [
       "<div>\n",
       "<style scoped>\n",
       "    .dataframe tbody tr th:only-of-type {\n",
       "        vertical-align: middle;\n",
       "    }\n",
       "\n",
       "    .dataframe tbody tr th {\n",
       "        vertical-align: top;\n",
       "    }\n",
       "\n",
       "    .dataframe thead th {\n",
       "        text-align: right;\n",
       "    }\n",
       "</style>\n",
       "<table border=\"1\" class=\"dataframe\">\n",
       "  <thead>\n",
       "    <tr style=\"text-align: right;\">\n",
       "      <th></th>\n",
       "      <th>count</th>\n",
       "      <th>mean</th>\n",
       "      <th>std</th>\n",
       "      <th>min</th>\n",
       "      <th>25%</th>\n",
       "      <th>50%</th>\n",
       "      <th>75%</th>\n",
       "      <th>max</th>\n",
       "    </tr>\n",
       "    <tr>\n",
       "      <th>incentive_type</th>\n",
       "      <th></th>\n",
       "      <th></th>\n",
       "      <th></th>\n",
       "      <th></th>\n",
       "      <th></th>\n",
       "      <th></th>\n",
       "      <th></th>\n",
       "      <th></th>\n",
       "    </tr>\n",
       "  </thead>\n",
       "  <tbody>\n",
       "    <tr>\n",
       "      <th>0</th>\n",
       "      <td>268.0</td>\n",
       "      <td>33.070896</td>\n",
       "      <td>184.395456</td>\n",
       "      <td>1.0</td>\n",
       "      <td>1.0</td>\n",
       "      <td>3.5</td>\n",
       "      <td>15.0</td>\n",
       "      <td>2880.0</td>\n",
       "    </tr>\n",
       "    <tr>\n",
       "      <th>internet</th>\n",
       "      <td>25.0</td>\n",
       "      <td>87.240000</td>\n",
       "      <td>174.627289</td>\n",
       "      <td>1.0</td>\n",
       "      <td>5.0</td>\n",
       "      <td>14.0</td>\n",
       "      <td>37.0</td>\n",
       "      <td>635.0</td>\n",
       "    </tr>\n",
       "    <tr>\n",
       "      <th>laptop</th>\n",
       "      <td>8.0</td>\n",
       "      <td>126.625000</td>\n",
       "      <td>169.814973</td>\n",
       "      <td>5.0</td>\n",
       "      <td>9.0</td>\n",
       "      <td>46.0</td>\n",
       "      <td>199.0</td>\n",
       "      <td>492.0</td>\n",
       "    </tr>\n",
       "    <tr>\n",
       "      <th>laptop_internet</th>\n",
       "      <td>27.0</td>\n",
       "      <td>51.296296</td>\n",
       "      <td>59.519108</td>\n",
       "      <td>1.0</td>\n",
       "      <td>7.0</td>\n",
       "      <td>21.0</td>\n",
       "      <td>79.0</td>\n",
       "      <td>212.0</td>\n",
       "    </tr>\n",
       "  </tbody>\n",
       "</table>\n",
       "</div>"
      ],
      "text/plain": [
       "                 count        mean         std  min  25%   50%    75%     max\n",
       "incentive_type                                                               \n",
       "0                268.0   33.070896  184.395456  1.0  1.0   3.5   15.0  2880.0\n",
       "internet          25.0   87.240000  174.627289  1.0  5.0  14.0   37.0   635.0\n",
       "laptop             8.0  126.625000  169.814973  5.0  9.0  46.0  199.0   492.0\n",
       "laptop_internet   27.0   51.296296   59.519108  1.0  7.0  21.0   79.0   212.0"
      ]
     },
     "execution_count": 20,
     "metadata": {},
     "output_type": "execute_result"
    }
   ],
   "source": [
    "glow_2019.groupby('incentive_type')['total_articles'].describe()"
   ]
  },
  {
   "cell_type": "code",
   "execution_count": 21,
   "metadata": {},
   "outputs": [
    {
     "data": {
      "text/html": [
       "<div>\n",
       "<style scoped>\n",
       "    .dataframe tbody tr th:only-of-type {\n",
       "        vertical-align: middle;\n",
       "    }\n",
       "\n",
       "    .dataframe tbody tr th {\n",
       "        vertical-align: top;\n",
       "    }\n",
       "\n",
       "    .dataframe thead th {\n",
       "        text-align: right;\n",
       "    }\n",
       "</style>\n",
       "<table border=\"1\" class=\"dataframe\">\n",
       "  <thead>\n",
       "    <tr style=\"text-align: right;\">\n",
       "      <th></th>\n",
       "      <th>count</th>\n",
       "      <th>mean</th>\n",
       "      <th>std</th>\n",
       "      <th>min</th>\n",
       "      <th>25%</th>\n",
       "      <th>50%</th>\n",
       "      <th>75%</th>\n",
       "      <th>max</th>\n",
       "    </tr>\n",
       "    <tr>\n",
       "      <th>incentive_type</th>\n",
       "      <th></th>\n",
       "      <th></th>\n",
       "      <th></th>\n",
       "      <th></th>\n",
       "      <th></th>\n",
       "      <th></th>\n",
       "      <th></th>\n",
       "      <th></th>\n",
       "    </tr>\n",
       "  </thead>\n",
       "  <tbody>\n",
       "    <tr>\n",
       "      <th>0</th>\n",
       "      <td>252.0</td>\n",
       "      <td>11.230159</td>\n",
       "      <td>28.256695</td>\n",
       "      <td>1.0</td>\n",
       "      <td>1.00</td>\n",
       "      <td>3.0</td>\n",
       "      <td>10.0</td>\n",
       "      <td>328.0</td>\n",
       "    </tr>\n",
       "    <tr>\n",
       "      <th>internet</th>\n",
       "      <td>9.0</td>\n",
       "      <td>35.666667</td>\n",
       "      <td>59.222040</td>\n",
       "      <td>1.0</td>\n",
       "      <td>3.00</td>\n",
       "      <td>8.0</td>\n",
       "      <td>43.0</td>\n",
       "      <td>182.0</td>\n",
       "    </tr>\n",
       "    <tr>\n",
       "      <th>laptop</th>\n",
       "      <td>16.0</td>\n",
       "      <td>85.000000</td>\n",
       "      <td>136.072530</td>\n",
       "      <td>0.0</td>\n",
       "      <td>5.00</td>\n",
       "      <td>24.5</td>\n",
       "      <td>110.5</td>\n",
       "      <td>431.0</td>\n",
       "    </tr>\n",
       "    <tr>\n",
       "      <th>laptop_internet</th>\n",
       "      <td>14.0</td>\n",
       "      <td>15.928571</td>\n",
       "      <td>16.083744</td>\n",
       "      <td>0.0</td>\n",
       "      <td>2.75</td>\n",
       "      <td>8.0</td>\n",
       "      <td>26.5</td>\n",
       "      <td>47.0</td>\n",
       "    </tr>\n",
       "  </tbody>\n",
       "</table>\n",
       "</div>"
      ],
      "text/plain": [
       "                 count       mean         std  min   25%   50%    75%    max\n",
       "incentive_type                                                              \n",
       "0                252.0  11.230159   28.256695  1.0  1.00   3.0   10.0  328.0\n",
       "internet           9.0  35.666667   59.222040  1.0  3.00   8.0   43.0  182.0\n",
       "laptop            16.0  85.000000  136.072530  0.0  5.00  24.5  110.5  431.0\n",
       "laptop_internet   14.0  15.928571   16.083744  0.0  2.75   8.0   26.5   47.0"
      ]
     },
     "execution_count": 21,
     "metadata": {},
     "output_type": "execute_result"
    }
   ],
   "source": [
    "glow_2018.groupby('incentive_type')['article_count'].describe()"
   ]
  },
  {
   "cell_type": "code",
   "execution_count": 22,
   "metadata": {},
   "outputs": [
    {
     "data": {
      "text/plain": [
       "5983"
      ]
     },
     "execution_count": 22,
     "metadata": {},
     "output_type": "execute_result"
    }
   ],
   "source": [
    "#2019: 8,863 (not including 2880 from single high output editor = 5983\n",
    "8863-2880"
   ]
  },
  {
   "cell_type": "code",
   "execution_count": 23,
   "metadata": {},
   "outputs": [],
   "source": [
    "bins = [0, 1, 5, 10, 25, 50, 100, 300, 600, 1000, 2000, 3000]\n",
    "participants_output_binned_2019 = pd.cut(glow_2019['total_articles'], bins=bins).value_counts()\n",
    "participants_output_binned_2018 = pd.cut(glow_2018['article_count'], bins=bins).value_counts()"
   ]
  },
  {
   "cell_type": "code",
   "execution_count": 24,
   "metadata": {},
   "outputs": [
    {
     "data": {
      "text/plain": [
       "(1, 5]          91\n",
       "(0, 1]          76\n",
       "(5, 10]         44\n",
       "(10, 25]        38\n",
       "(25, 50]        29\n",
       "(100, 300]      22\n",
       "(50, 100]       21\n",
       "(300, 600]       5\n",
       "(2000, 3000]     1\n",
       "(600, 1000]      1\n",
       "(1000, 2000]     0\n",
       "Name: total_articles, dtype: int64"
      ]
     },
     "execution_count": 24,
     "metadata": {},
     "output_type": "execute_result"
    }
   ],
   "source": [
    "participants_output_binned_2019"
   ]
  },
  {
   "cell_type": "code",
   "execution_count": 25,
   "metadata": {},
   "outputs": [],
   "source": [
    "participants_output_binned_2019.plot();"
   ]
  },
  {
   "cell_type": "code",
   "execution_count": 26,
   "metadata": {},
   "outputs": [
    {
     "data": {
      "text/plain": [
       "(1, 5]          95\n",
       "(0, 1]          89\n",
       "(10, 25]        40\n",
       "(5, 10]         28\n",
       "(25, 50]        17\n",
       "(50, 100]       11\n",
       "(100, 300]       6\n",
       "(300, 600]       3\n",
       "(2000, 3000]     0\n",
       "(1000, 2000]     0\n",
       "(600, 1000]      0\n",
       "Name: article_count, dtype: int64"
      ]
     },
     "execution_count": 26,
     "metadata": {},
     "output_type": "execute_result"
    }
   ],
   "source": [
    "participants_output_binned_2018"
   ]
  },
  {
   "cell_type": "code",
   "execution_count": 27,
   "metadata": {},
   "outputs": [
    {
     "data": {
      "image/png": "[encoded data removed]",
      "text/plain": [
       "<Figure size 432x288 with 1 Axes>"
      ]
     },
     "metadata": {
      "needs_background": "light"
     },
     "output_type": "display_data"
    }
   ],
   "source": [
    "participants_output_binned_2018.plot();"
   ]
  },
  {
   "cell_type": "code",
   "execution_count": 28,
   "metadata": {},
   "outputs": [
    {
     "data": {
      "image/png": "[encoded data removed]",
      "text/plain": [
       "<Figure size 432x288 with 1 Axes>"
      ]
     },
     "metadata": {
      "needs_background": "light"
     },
     "output_type": "display_data"
    }
   ],
   "source": [
    "glow_2019['total_articles'].hist();"
   ]
  },
  {
   "cell_type": "code",
   "execution_count": 29,
   "metadata": {},
   "outputs": [
    {
     "data": {
      "image/png": "[encoded data removed]",
      "text/plain": [
       "<Figure size 432x288 with 1 Axes>"
      ]
     },
     "metadata": {
      "needs_background": "light"
     },
     "output_type": "display_data"
    }
   ],
   "source": [
    "glow_2018['article_count'].hist();"
   ]
  },
  {
   "cell_type": "markdown",
   "metadata": {},
   "source": [
    "### Review"
   ]
  },
  {
   "cell_type": "raw",
   "metadata": {},
   "source": [
    "P2019 = participants_tally_2019.groupby('incentive_type')['total_articles'].sum().reset_index()\n",
    "P2019['articles_pct'] = 100 * P2019['total_articles']  / P2019['total_articles'].sum()"
   ]
  },
  {
   "cell_type": "code",
   "execution_count": 30,
   "metadata": {},
   "outputs": [],
   "source": [
    "P2019 = (glow_2019.groupby(['incentive_type', 'incentive_recipient'], sort=False)['total_articles']\n",
    "        .agg([('incentive_count', 'count'),('articles_total', 'sum')])\n",
    "        .reset_index())\n",
    "\n",
    "P2019['articles_pct'] = 100 * P2019['articles_total']  / P2019['articles_total'].sum()"
   ]
  },
  {
   "cell_type": "code",
   "execution_count": 31,
   "metadata": {},
   "outputs": [
    {
     "data": {
      "text/html": [
       "<div>\n",
       "<style scoped>\n",
       "    .dataframe tbody tr th:only-of-type {\n",
       "        vertical-align: middle;\n",
       "    }\n",
       "\n",
       "    .dataframe tbody tr th {\n",
       "        vertical-align: top;\n",
       "    }\n",
       "\n",
       "    .dataframe thead th {\n",
       "        text-align: right;\n",
       "    }\n",
       "</style>\n",
       "<table border=\"1\" class=\"dataframe\">\n",
       "  <thead>\n",
       "    <tr style=\"text-align: right;\">\n",
       "      <th></th>\n",
       "      <th>incentive_type</th>\n",
       "      <th>incentive_recipient</th>\n",
       "      <th>incentive_count</th>\n",
       "      <th>articles_total</th>\n",
       "      <th>articles_pct</th>\n",
       "    </tr>\n",
       "  </thead>\n",
       "  <tbody>\n",
       "    <tr>\n",
       "      <th>0</th>\n",
       "      <td>0</td>\n",
       "      <td>False</td>\n",
       "      <td>268</td>\n",
       "      <td>8863.0</td>\n",
       "      <td>65.935129</td>\n",
       "    </tr>\n",
       "    <tr>\n",
       "      <th>1</th>\n",
       "      <td>laptop_internet</td>\n",
       "      <td>True</td>\n",
       "      <td>27</td>\n",
       "      <td>1385.0</td>\n",
       "      <td>10.303526</td>\n",
       "    </tr>\n",
       "    <tr>\n",
       "      <th>2</th>\n",
       "      <td>internet</td>\n",
       "      <td>True</td>\n",
       "      <td>25</td>\n",
       "      <td>2181.0</td>\n",
       "      <td>16.225264</td>\n",
       "    </tr>\n",
       "    <tr>\n",
       "      <th>3</th>\n",
       "      <td>laptop</td>\n",
       "      <td>True</td>\n",
       "      <td>8</td>\n",
       "      <td>1013.0</td>\n",
       "      <td>7.536081</td>\n",
       "    </tr>\n",
       "  </tbody>\n",
       "</table>\n",
       "</div>"
      ],
      "text/plain": [
       "    incentive_type  incentive_recipient  incentive_count  articles_total  \\\n",
       "0                0                False              268          8863.0   \n",
       "1  laptop_internet                 True               27          1385.0   \n",
       "2         internet                 True               25          2181.0   \n",
       "3           laptop                 True                8          1013.0   \n",
       "\n",
       "   articles_pct  \n",
       "0     65.935129  \n",
       "1     10.303526  \n",
       "2     16.225264  \n",
       "3      7.536081  "
      ]
     },
     "execution_count": 31,
     "metadata": {},
     "output_type": "execute_result"
    }
   ],
   "source": [
    "P2019"
   ]
  },
  {
   "cell_type": "code",
   "execution_count": 32,
   "metadata": {},
   "outputs": [
    {
     "data": {
      "text/html": [
       "<div>\n",
       "<style scoped>\n",
       "    .dataframe tbody tr th:only-of-type {\n",
       "        vertical-align: middle;\n",
       "    }\n",
       "\n",
       "    .dataframe tbody tr th {\n",
       "        vertical-align: top;\n",
       "    }\n",
       "\n",
       "    .dataframe thead th {\n",
       "        text-align: right;\n",
       "    }\n",
       "</style>\n",
       "<table border=\"1\" class=\"dataframe\">\n",
       "  <thead>\n",
       "    <tr style=\"text-align: right;\">\n",
       "      <th></th>\n",
       "      <th>incentive_type</th>\n",
       "      <th>incentive_recipient</th>\n",
       "      <th>incentive_count</th>\n",
       "      <th>articles_total</th>\n",
       "      <th>articles_pct</th>\n",
       "    </tr>\n",
       "  </thead>\n",
       "  <tbody>\n",
       "    <tr>\n",
       "      <th>0</th>\n",
       "      <td>0</td>\n",
       "      <td>False</td>\n",
       "      <td>268</td>\n",
       "      <td>8863.0</td>\n",
       "      <td>65.935129</td>\n",
       "    </tr>\n",
       "    <tr>\n",
       "      <th>2</th>\n",
       "      <td>internet</td>\n",
       "      <td>True</td>\n",
       "      <td>25</td>\n",
       "      <td>2181.0</td>\n",
       "      <td>16.225264</td>\n",
       "    </tr>\n",
       "    <tr>\n",
       "      <th>1</th>\n",
       "      <td>laptop_internet</td>\n",
       "      <td>True</td>\n",
       "      <td>27</td>\n",
       "      <td>1385.0</td>\n",
       "      <td>10.303526</td>\n",
       "    </tr>\n",
       "    <tr>\n",
       "      <th>3</th>\n",
       "      <td>laptop</td>\n",
       "      <td>True</td>\n",
       "      <td>8</td>\n",
       "      <td>1013.0</td>\n",
       "      <td>7.536081</td>\n",
       "    </tr>\n",
       "  </tbody>\n",
       "</table>\n",
       "</div>"
      ],
      "text/plain": [
       "    incentive_type  incentive_recipient  incentive_count  articles_total  \\\n",
       "0                0                False              268          8863.0   \n",
       "2         internet                 True               25          2181.0   \n",
       "1  laptop_internet                 True               27          1385.0   \n",
       "3           laptop                 True                8          1013.0   \n",
       "\n",
       "   articles_pct  \n",
       "0     65.935129  \n",
       "2     16.225264  \n",
       "1     10.303526  \n",
       "3      7.536081  "
      ]
     },
     "execution_count": 32,
     "metadata": {},
     "output_type": "execute_result"
    }
   ],
   "source": [
    "P2019.sort_values(by='articles_pct', ascending=False)"
   ]
  },
  {
   "cell_type": "code",
   "execution_count": 33,
   "metadata": {},
   "outputs": [],
   "source": [
    "P2018 = (glow_2018.groupby(['incentive_type', 'incentive_recipient'], sort=False)['article_count']\n",
    "        .agg([('incentive_count', 'count'),('articles_total', 'sum')])\n",
    "        .reset_index())\n",
    "\n",
    "P2018['articles_pct'] = 100 * P2018['articles_total']  / P2018['articles_total'].sum()"
   ]
  },
  {
   "cell_type": "code",
   "execution_count": 34,
   "metadata": {},
   "outputs": [
    {
     "data": {
      "text/html": [
       "<div>\n",
       "<style scoped>\n",
       "    .dataframe tbody tr th:only-of-type {\n",
       "        vertical-align: middle;\n",
       "    }\n",
       "\n",
       "    .dataframe tbody tr th {\n",
       "        vertical-align: top;\n",
       "    }\n",
       "\n",
       "    .dataframe thead th {\n",
       "        text-align: right;\n",
       "    }\n",
       "</style>\n",
       "<table border=\"1\" class=\"dataframe\">\n",
       "  <thead>\n",
       "    <tr style=\"text-align: right;\">\n",
       "      <th></th>\n",
       "      <th>incentive_type</th>\n",
       "      <th>incentive_recipient</th>\n",
       "      <th>incentive_count</th>\n",
       "      <th>articles_total</th>\n",
       "      <th>articles_pct</th>\n",
       "    </tr>\n",
       "  </thead>\n",
       "  <tbody>\n",
       "    <tr>\n",
       "      <th>0</th>\n",
       "      <td>0</td>\n",
       "      <td>False</td>\n",
       "      <td>252</td>\n",
       "      <td>2830.0</td>\n",
       "      <td>59.780313</td>\n",
       "    </tr>\n",
       "    <tr>\n",
       "      <th>1</th>\n",
       "      <td>laptop_internet</td>\n",
       "      <td>True</td>\n",
       "      <td>14</td>\n",
       "      <td>223.0</td>\n",
       "      <td>4.710604</td>\n",
       "    </tr>\n",
       "    <tr>\n",
       "      <th>2</th>\n",
       "      <td>internet</td>\n",
       "      <td>True</td>\n",
       "      <td>9</td>\n",
       "      <td>321.0</td>\n",
       "      <td>6.780735</td>\n",
       "    </tr>\n",
       "    <tr>\n",
       "      <th>3</th>\n",
       "      <td>laptop</td>\n",
       "      <td>True</td>\n",
       "      <td>16</td>\n",
       "      <td>1360.0</td>\n",
       "      <td>28.728348</td>\n",
       "    </tr>\n",
       "  </tbody>\n",
       "</table>\n",
       "</div>"
      ],
      "text/plain": [
       "    incentive_type  incentive_recipient  incentive_count  articles_total  \\\n",
       "0                0                False              252          2830.0   \n",
       "1  laptop_internet                 True               14           223.0   \n",
       "2         internet                 True                9           321.0   \n",
       "3           laptop                 True               16          1360.0   \n",
       "\n",
       "   articles_pct  \n",
       "0     59.780313  \n",
       "1      4.710604  \n",
       "2      6.780735  \n",
       "3     28.728348  "
      ]
     },
     "execution_count": 34,
     "metadata": {},
     "output_type": "execute_result"
    }
   ],
   "source": [
    "P2018"
   ]
  },
  {
   "cell_type": "code",
   "execution_count": 35,
   "metadata": {},
   "outputs": [
    {
     "data": {
      "text/html": [
       "<div>\n",
       "<style scoped>\n",
       "    .dataframe tbody tr th:only-of-type {\n",
       "        vertical-align: middle;\n",
       "    }\n",
       "\n",
       "    .dataframe tbody tr th {\n",
       "        vertical-align: top;\n",
       "    }\n",
       "\n",
       "    .dataframe thead th {\n",
       "        text-align: right;\n",
       "    }\n",
       "</style>\n",
       "<table border=\"1\" class=\"dataframe\">\n",
       "  <thead>\n",
       "    <tr style=\"text-align: right;\">\n",
       "      <th></th>\n",
       "      <th>incentive_type</th>\n",
       "      <th>incentive_recipient</th>\n",
       "      <th>incentive_count</th>\n",
       "      <th>articles_total</th>\n",
       "      <th>articles_pct</th>\n",
       "    </tr>\n",
       "  </thead>\n",
       "  <tbody>\n",
       "    <tr>\n",
       "      <th>0</th>\n",
       "      <td>0</td>\n",
       "      <td>False</td>\n",
       "      <td>252</td>\n",
       "      <td>2830.0</td>\n",
       "      <td>59.780313</td>\n",
       "    </tr>\n",
       "    <tr>\n",
       "      <th>3</th>\n",
       "      <td>laptop</td>\n",
       "      <td>True</td>\n",
       "      <td>16</td>\n",
       "      <td>1360.0</td>\n",
       "      <td>28.728348</td>\n",
       "    </tr>\n",
       "    <tr>\n",
       "      <th>2</th>\n",
       "      <td>internet</td>\n",
       "      <td>True</td>\n",
       "      <td>9</td>\n",
       "      <td>321.0</td>\n",
       "      <td>6.780735</td>\n",
       "    </tr>\n",
       "    <tr>\n",
       "      <th>1</th>\n",
       "      <td>laptop_internet</td>\n",
       "      <td>True</td>\n",
       "      <td>14</td>\n",
       "      <td>223.0</td>\n",
       "      <td>4.710604</td>\n",
       "    </tr>\n",
       "  </tbody>\n",
       "</table>\n",
       "</div>"
      ],
      "text/plain": [
       "    incentive_type  incentive_recipient  incentive_count  articles_total  \\\n",
       "0                0                False              252          2830.0   \n",
       "3           laptop                 True               16          1360.0   \n",
       "2         internet                 True                9           321.0   \n",
       "1  laptop_internet                 True               14           223.0   \n",
       "\n",
       "   articles_pct  \n",
       "0     59.780313  \n",
       "3     28.728348  \n",
       "2      6.780735  \n",
       "1      4.710604  "
      ]
     },
     "execution_count": 35,
     "metadata": {},
     "output_type": "execute_result"
    }
   ],
   "source": [
    "P2018.sort_values(by='articles_pct', ascending=False)"
   ]
  },
  {
   "cell_type": "markdown",
   "metadata": {},
   "source": [
    "### Questions"
   ]
  },
  {
   "cell_type": "markdown",
   "metadata": {},
   "source": [
    "How many of this year's participants participated last year? \n",
    "> 82\n",
    "\n",
    "How many of this year's participants were grantees last year?\n",
    "> 30\n",
    "\n",
    "How many of this year's editor grantees were editor grantees last year?\n",
    "> 11 (9 of these received internet in GLOW)\n",
    "\n",
    "*Does one incentive outperform another?*\n",
    "Incentive performance, as far as articles submitted, is roughly correlated with the frequency of that incentive. \n",
    "The fewer counts of an incentive, the fewer total articles that will be associated with that incentive."
   ]
  },
  {
   "cell_type": "markdown",
   "metadata": {},
   "source": [
    "How did returning editors perform?\n",
    "> 38 wrote less\n",
    "\n",
    "> 3 wrote the same amount\n",
    "\n",
    "> 41 wrote more"
   ]
  },
  {
   "cell_type": "raw",
   "metadata": {},
   "source": [
    "edit bins\n",
    "5-99\n",
    "100-999\n",
    "10,000\n",
    "1,000-9999"
   ]
  },
  {
   "cell_type": "code",
   "execution_count": 36,
   "metadata": {},
   "outputs": [],
   "source": [
    "bins2 = [0, 1, 5, 99, 300, 3000]\n",
    "names = ['<2', '2-5', '6-99', '100-300', '301+']\n",
    "\n",
    "z = pd.cut(glow_2019['total_articles'], bins=bins2, labels=names).value_counts()\n",
    "z18 = pd.cut(glow_2018['article_count'], bins=bins2, labels=names).value_counts()"
   ]
  },
  {
   "cell_type": "code",
   "execution_count": 37,
   "metadata": {},
   "outputs": [
    {
     "data": {
      "text/plain": [
       "6-99       132\n",
       "2-5         91\n",
       "<2          76\n",
       "100-300     22\n",
       "301+         7\n",
       "Name: total_articles, dtype: int64"
      ]
     },
     "execution_count": 37,
     "metadata": {},
     "output_type": "execute_result"
    }
   ],
   "source": [
    "z"
   ]
  },
  {
   "cell_type": "code",
   "execution_count": 38,
   "metadata": {},
   "outputs": [
    {
     "data": {
      "image/png": "[encoded data removed]",
      "text/plain": [
       "<Figure size 432x288 with 1 Axes>"
      ]
     },
     "metadata": {
      "needs_background": "light"
     },
     "output_type": "display_data"
    }
   ],
   "source": [
    "z.plot(kind='bar');"
   ]
  },
  {
   "cell_type": "code",
   "execution_count": 39,
   "metadata": {
    "collapsed": true,
    "jupyter": {
     "outputs_hidden": true
    }
   },
   "outputs": [
    {
     "data": {
      "text/plain": [
       "6-99       95\n",
       "2-5        95\n",
       "<2         89\n",
       "100-300     7\n",
       "301+        3\n",
       "Name: article_count, dtype: int64"
      ]
     },
     "execution_count": 39,
     "metadata": {},
     "output_type": "execute_result"
    }
   ],
   "source": [
    "z18"
   ]
  },
  {
   "cell_type": "code",
   "execution_count": 40,
   "metadata": {},
   "outputs": [
    {
     "data": {
      "image/png": "[encoded data removed]",
      "text/plain": [
       "<Figure size 432x288 with 1 Axes>"
      ]
     },
     "metadata": {
      "needs_background": "light"
     },
     "output_type": "display_data"
    }
   ],
   "source": [
    "z18.plot(kind='bar');"
   ]
  },
  {
   "cell_type": "code",
   "execution_count": 41,
   "metadata": {},
   "outputs": [],
   "source": [
    "glow_2019['article_cnt_range'] = pd.cut(glow_2019['total_articles'], bins2, labels=names)\n",
    "glow_2018['article_cnt_range'] = pd.cut(glow_2018['article_count'], bins2, labels=names)\n",
    "\n",
    "#participants_tally_2019['binned'] = pd.cut(glow_2019['total_articles'], bins)"
   ]
  },
  {
   "cell_type": "code",
   "execution_count": 46,
   "metadata": {},
   "outputs": [],
   "source": [
    "glow_18s = glow_2018[['username', 'article_count']]\n",
    "glow_19s = glow_2019[['username', 'total_articles']]\n",
    "\n",
    "#common participants \n",
    "cp = participants_last_participants.merge(glow_18s, how='left', on='username')\n",
    "cp = cp.merge(glow_19s, how='left', on='username')\n",
    "cp.fillna(0)\n",
    "\n",
    "#add columns\n",
    "cp['pct_change_output'] =100 * cp[['article_count', 'total_articles']].pct_change(axis=1)['total_articles']\n",
    "cp['article_cnt_range18'] = pd.cut(cp['article_count'], bins2, labels=names)\n",
    "cp['article_cnt_range19'] = pd.cut(cp['total_articles'], bins2, labels=names)"
   ]
  },
  {
   "cell_type": "code",
   "execution_count": 127,
   "metadata": {},
   "outputs": [],
   "source": [
    "change_matrix = cp.groupby('pp_inctv').pct_change_output.apply(lambda x: pd.Series([(x < 0).sum(), (x == 0).sum(), (x > 0).sum()])).unstack().reset_index().rename(columns={0:'-',\n",
    "                                                                                                                                                                          1 : '=%',\n",
    "                                                                                                                                                                         2:'+%',\n",
    "                                                                                                                                                                         })\n"
   ]
  },
  {
   "cell_type": "code",
   "execution_count": 128,
   "metadata": {},
   "outputs": [
    {
     "data": {
      "text/html": [
       "<div>\n",
       "<style scoped>\n",
       "    .dataframe tbody tr th:only-of-type {\n",
       "        vertical-align: middle;\n",
       "    }\n",
       "\n",
       "    .dataframe tbody tr th {\n",
       "        vertical-align: top;\n",
       "    }\n",
       "\n",
       "    .dataframe thead th {\n",
       "        text-align: right;\n",
       "    }\n",
       "</style>\n",
       "<table border=\"1\" class=\"dataframe\">\n",
       "  <thead>\n",
       "    <tr style=\"text-align: right;\">\n",
       "      <th></th>\n",
       "      <th>pp_inctv</th>\n",
       "      <th>-</th>\n",
       "      <th>=%</th>\n",
       "      <th>+%</th>\n",
       "    </tr>\n",
       "  </thead>\n",
       "  <tbody>\n",
       "    <tr>\n",
       "      <th>0</th>\n",
       "      <td>0</td>\n",
       "      <td>25</td>\n",
       "      <td>2</td>\n",
       "      <td>31</td>\n",
       "    </tr>\n",
       "    <tr>\n",
       "      <th>1</th>\n",
       "      <td>internet</td>\n",
       "      <td>3</td>\n",
       "      <td>1</td>\n",
       "      <td>2</td>\n",
       "    </tr>\n",
       "    <tr>\n",
       "      <th>2</th>\n",
       "      <td>laptop</td>\n",
       "      <td>5</td>\n",
       "      <td>0</td>\n",
       "      <td>7</td>\n",
       "    </tr>\n",
       "    <tr>\n",
       "      <th>3</th>\n",
       "      <td>laptop_internet</td>\n",
       "      <td>5</td>\n",
       "      <td>0</td>\n",
       "      <td>1</td>\n",
       "    </tr>\n",
       "  </tbody>\n",
       "</table>\n",
       "</div>"
      ],
      "text/plain": [
       "          pp_inctv   -  =%  +%\n",
       "0                0  25   2  31\n",
       "1         internet   3   1   2\n",
       "2           laptop   5   0   7\n",
       "3  laptop_internet   5   0   1"
      ]
     },
     "execution_count": 128,
     "metadata": {},
     "output_type": "execute_result"
    }
   ],
   "source": [
    "change_matrix"
   ]
  },
  {
   "cell_type": "code",
   "execution_count": 129,
   "metadata": {},
   "outputs": [
    {
     "data": {
      "text/plain": [
       "-     38\n",
       "=%     3\n",
       "+%    41\n",
       "dtype: int64"
      ]
     },
     "execution_count": 129,
     "metadata": {},
     "output_type": "execute_result"
    }
   ],
   "source": [
    "change_matrix.sum(numeric_only=True)"
   ]
  },
  {
   "cell_type": "code",
   "execution_count": 140,
   "metadata": {},
   "outputs": [],
   "source": [
    "sig_change_matrix = cp.groupby('pp_inctv').pct_change_output.apply(lambda x: pd.Series([(x >=20).sum(), (x >=50).sum(),(x >=100).sum()])).unstack().reset_index().rename(columns={\n",
    "                              0 : '>25%',\n",
    "                             1:'>75%',\n",
    "                            2:'>100%',\n",
    "                             })"
   ]
  },
  {
   "cell_type": "code",
   "execution_count": 141,
   "metadata": {},
   "outputs": [
    {
     "data": {
      "text/html": [
       "<div>\n",
       "<style scoped>\n",
       "    .dataframe tbody tr th:only-of-type {\n",
       "        vertical-align: middle;\n",
       "    }\n",
       "\n",
       "    .dataframe tbody tr th {\n",
       "        vertical-align: top;\n",
       "    }\n",
       "\n",
       "    .dataframe thead th {\n",
       "        text-align: right;\n",
       "    }\n",
       "</style>\n",
       "<table border=\"1\" class=\"dataframe\">\n",
       "  <thead>\n",
       "    <tr style=\"text-align: right;\">\n",
       "      <th></th>\n",
       "      <th>pp_inctv</th>\n",
       "      <th>&gt;25%</th>\n",
       "      <th>&gt;75%</th>\n",
       "      <th>&gt;100%</th>\n",
       "    </tr>\n",
       "  </thead>\n",
       "  <tbody>\n",
       "    <tr>\n",
       "      <th>0</th>\n",
       "      <td>0</td>\n",
       "      <td>29</td>\n",
       "      <td>27</td>\n",
       "      <td>22</td>\n",
       "    </tr>\n",
       "    <tr>\n",
       "      <th>1</th>\n",
       "      <td>internet</td>\n",
       "      <td>2</td>\n",
       "      <td>2</td>\n",
       "      <td>1</td>\n",
       "    </tr>\n",
       "    <tr>\n",
       "      <th>2</th>\n",
       "      <td>laptop</td>\n",
       "      <td>5</td>\n",
       "      <td>4</td>\n",
       "      <td>3</td>\n",
       "    </tr>\n",
       "    <tr>\n",
       "      <th>3</th>\n",
       "      <td>laptop_internet</td>\n",
       "      <td>1</td>\n",
       "      <td>1</td>\n",
       "      <td>1</td>\n",
       "    </tr>\n",
       "  </tbody>\n",
       "</table>\n",
       "</div>"
      ],
      "text/plain": [
       "          pp_inctv  >25%  >75%  >100%\n",
       "0                0    29    27     22\n",
       "1         internet     2     2      1\n",
       "2           laptop     5     4      3\n",
       "3  laptop_internet     1     1      1"
      ]
     },
     "execution_count": 141,
     "metadata": {},
     "output_type": "execute_result"
    }
   ],
   "source": [
    "sig_change_matrix"
   ]
  },
  {
   "cell_type": "code",
   "execution_count": 142,
   "metadata": {},
   "outputs": [
    {
     "data": {
      "text/plain": [
       ">25%     37\n",
       ">75%     34\n",
       ">100%    27\n",
       "dtype: int64"
      ]
     },
     "execution_count": 142,
     "metadata": {},
     "output_type": "execute_result"
    }
   ],
   "source": [
    "sig_change_matrix.sum(numeric_only=True)"
   ]
  },
  {
   "cell_type": "raw",
   "metadata": {},
   "source": [
    "change_matrix.append(change_matrix.sum(numeric_only=True), ignore_index=True)"
   ]
  },
  {
   "cell_type": "markdown",
   "metadata": {},
   "source": [
    "Did returning grantees perform similarly this year?\n",
    ">2018 laptop recipients(10):\n",
    "7 increased output; 5 decreased output\n",
    "7 received internet grants in 2019\n",
    "\n",
    ">2018 laptop_internet recipients (6):\n",
    "1 increased output; 5 decreased output\n",
    "1 received internet grant in 2019\n",
    "\n",
    ">2018 internet recipients(6):\n",
    "2 increased output; 1 maintained output; 3 decreased output\n",
    "2 received laptop_internet grants; 1 received internet in 2019\n"
   ]
  },
  {
   "cell_type": "code",
   "execution_count": null,
   "metadata": {},
   "outputs": [],
   "source": []
  },
  {
   "cell_type": "markdown",
   "metadata": {},
   "source": [
    "did the contest borrow productivity from a future period?\n",
    ">unlikely\n",
    "\n",
    "did the contest change future behavior? \n",
    ">maybe for subsets of editors\n",
    "\n",
    "did we change the edit trajectory of editors via inclusion in glow generally?\n",
    ">more research is needed where we look at groups of editors based on their edit count bins"
   ]
  },
  {
   "cell_type": "raw",
   "metadata": {},
   "source": [
    "GLOW_editor_edits_summed.to_csv(\"../../data/processed/editors/GLOW_editor_edits_summed.csv\", sep=',', encoding = 'utf-8', index=False)"
   ]
  },
  {
   "cell_type": "code",
   "execution_count": 57,
   "metadata": {},
   "outputs": [
    {
     "data": {
      "text/plain": [
       "<matplotlib.axes._subplots.AxesSubplot at 0x7f9e7b569908>"
      ]
     },
     "execution_count": 57,
     "metadata": {},
     "output_type": "execute_result"
    },
    {
     "data": {
      "image/png": "[encoded data removed]",
      "text/plain": [
       "<matplotlib.figure.Figure at 0x7f9e77f14b38>"
      ]
     },
     "metadata": {},
     "output_type": "display_data"
    }
   ],
   "source": [
    "GLOW_editor_edits_summed.plot(style='.-', \n",
    "                              figsize=(18, 16), \n",
    "                              title='Editors & their total edits per month'\n",
    "                             );"
   ]
  },
  {
   "cell_type": "code",
   "execution_count": 58,
   "metadata": {},
   "outputs": [
    {
     "data": {
      "text/plain": [
       "<matplotlib.text.Text at 0x7f9e7afa90f0>"
      ]
     },
     "execution_count": 58,
     "metadata": {},
     "output_type": "execute_result"
    },
    {
     "data": {
      "image/png": "[encoded data removed]",
      "text/plain": [
       "<matplotlib.figure.Figure at 0x7f9e77f088d0>"
      ]
     },
     "metadata": {},
     "output_type": "display_data"
    }
   ],
   "source": [
    "ax = GLOW_editor_edits_summed.plot(lw=2, \n",
    "                                   colormap='jet', \n",
    "                                   marker='.', \n",
    "                                   markersize=10, \n",
    "                                   title='Editors & their total edits per month')\n",
    "ax.set_xlabel(\"x label\")\n",
    "ax.set_ylabel(\"y label\")"
   ]
  },
  {
   "cell_type": "raw",
   "metadata": {},
   "source": [
    "GLOW_editor_edits.to_csv(\"../../data/processed/editors/GLOW_editor_edits.csv\", sep=',', encoding = 'utf-8', index=False)"
   ]
  },
  {
   "cell_type": "code",
   "execution_count": 34,
   "metadata": {},
   "outputs": [],
   "source": [
    "GLOW_editor_edits = GLOW_editor_edits.set_index('event_timestamp')\n",
    "total_edits_by_date_r = GLOW_editor_edits[['event_user_text']]\n",
    "total_edits_by_date = total_edits_by_date_r.groupby(total_edits_by_date_r.index.date).count().rename(columns={'event_user_text':'occurrences_by_date'})"
   ]
  },
  {
   "cell_type": "code",
   "execution_count": 61,
   "metadata": {},
   "outputs": [
    {
     "data": {
      "image/png": "[encoded data removed]",
      "text/plain": [
       "<matplotlib.figure.Figure at 0x7f9e78501dd8>"
      ]
     },
     "metadata": {},
     "output_type": "display_data"
    }
   ],
   "source": [
    "%matplotlib inline\n",
    "total_edits_by_date['occurrences_by_date'].plot(style='.-', \n",
    "                                                figsize=(18, 16),\n",
    "                                               title='Total total edits by GLOW editors per month');\n",
    "#fig=plt.figure(figsize=(18, 16), dpi= 80, facecolor='w', edgecolor='k')"
   ]
  },
  {
   "cell_type": "markdown",
   "metadata": {},
   "source": [
    "did we change the edit trajectory of editors by giving them grants?"
   ]
  },
  {
   "cell_type": "code",
   "execution_count": null,
   "metadata": {},
   "outputs": [],
   "source": []
  }
 ],
 "metadata": {
  "kernelspec": {
   "display_name": "Python 3",
   "language": "python",
   "name": "python3"
  },
  "language_info": {
   "codemirror_mode": {
    "name": "ipython",
    "version": 3
   },
   "file_extension": ".py",
   "mimetype": "text/x-python",
   "name": "python",
   "nbconvert_exporter": "python",
   "pygments_lexer": "ipython3",
   "version": "3.5.3"
  }
 },
 "nbformat": 4,
 "nbformat_minor": 4
}
