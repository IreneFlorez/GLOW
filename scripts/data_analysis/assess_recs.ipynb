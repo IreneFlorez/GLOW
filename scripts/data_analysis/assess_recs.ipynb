{
 "cells": [
  {
   "cell_type": "code",
   "execution_count": 90,
   "metadata": {},
   "outputs": [],
   "source": [
    "import os\n",
    "from glob import glob\n",
    "import pandas as pd\n",
    "import numpy as np\n",
    "\n",
    "import wmfdata as wmf\n",
    "from wmfdata import charting, mariadb, hive\n",
    "from wmfdata.utils import pct_str, pd_display_all\n",
    "import urllib\n",
    "from urllib.parse import unquote"
   ]
  },
  {
   "cell_type": "code",
   "execution_count": null,
   "metadata": {},
   "outputs": [],
   "source": [
    "df = pd.read_csv(\"../../data/processed/query_results/topic_lists/indonesia/rec_qids_iwls.csv\", sep=',', encoding = 'utf-8') "
   ]
  },
  {
   "cell_type": "markdown",
   "metadata": {},
   "source": [
    "## Translation articles - iwlinks match"
   ]
  },
  {
   "cell_type": "code",
   "execution_count": null,
   "metadata": {},
   "outputs": [],
   "source": [
    "#create boolean column: TRUE if 'iwsites' column str contains 'database_code' value\n",
    "#substring search for the database code in the “iwsites” column, if the database code is set\n",
    "#[dbcode in iwsites if dbcode is not None else False for (dbcode, iwsites) in zip(translation_rec_iwl_q['database_code'], translation_rec_iwl_q['iwsites'])]\n",
    "translation_rec_iwl_q['database_code_in_iwsites'] = [x[0] in x[1] if x[0] is not None else False for x in zip(translation_rec_iwl_q['database_code'], translation_rec_iwl_q['iwsites'])]"
   ]
  },
  {
   "cell_type": "code",
   "execution_count": null,
   "metadata": {},
   "outputs": [],
   "source": [
    "translation_rec_iwl_q['database_code_in_iwsites'].values.sum()"
   ]
  },
  {
   "cell_type": "code",
   "execution_count": null,
   "metadata": {},
   "outputs": [],
   "source": [
    "suggestions_created_a = translation_rec_iwl_q[translation_rec_iwl_q['database_code_in_iwsites'] == True]"
   ]
  },
  {
   "cell_type": "code",
   "execution_count": null,
   "metadata": {},
   "outputs": [],
   "source": [
    "count_suggestions_created_a = translation_rec_iwl_q['database_code_in_iwsites'].values.sum()\n",
    "print(count_suggestions_created_a)"
   ]
  },
  {
   "cell_type": "markdown",
   "metadata": {},
   "source": [
    "## Translation articles - Qid match"
   ]
  },
  {
   "cell_type": "code",
   "execution_count": null,
   "metadata": {},
   "outputs": [],
   "source": [
    "#objective: count matches by wikidata item in the suggested language"
   ]
  },
  {
   "cell_type": "code",
   "execution_count": null,
   "metadata": {},
   "outputs": [],
   "source": [
    "#use groupby to get a df of articles that DON'T have an interwiki link associated with the \n",
    "#suggestion database_code, aka, they weren't created as far as we know so far\n",
    "\n",
    "located =  translation_rec_iwl_q[translation_rec_iwl_q['database_code_in_iwsites'] == True]\n",
    "not_yet_located = translation_rec_iwl_q[translation_rec_iwl_q['database_code_in_iwsites'] == False]"
   ]
  },
  {
   "cell_type": "code",
   "execution_count": null,
   "metadata": {},
   "outputs": [],
   "source": [
    "fountain_titles = pd.read_csv(\"../../data/raw/articles/2019/contest_titles_n_updated.csv\", sep=',', encoding = 'utf-8')\n",
    "fountain_titles_to_cull = fountain_titles[['wiki_db', 'QID']]\n",
    "fountain_titles_to_cull = fountain_titles_to_cull.rename(columns={'wiki_db': 'database_code'})"
   ]
  },
  {
   "cell_type": "code",
   "execution_count": null,
   "metadata": {},
   "outputs": [],
   "source": [
    "translation_sugg_to_cull = not_yet_located[['database_code','QID']]\n",
    "suggestions_created_b = pd.merge(fountain_titles_to_cull, not_yet_located, on=['database_code', 'QID'], how='inner')\n",
    "count_suggestions_created_b = len(suggestions_created_b)\n",
    "print(count_suggestions_created_b)"
   ]
  },
  {
   "cell_type": "markdown",
   "metadata": {},
   "source": [
    "## > How many translation articles from the full suggestion list were created since the GLOW contest? "
   ]
  },
  {
   "cell_type": "code",
   "execution_count": null,
   "metadata": {},
   "outputs": [],
   "source": [
    "def percentage(part, whole):\n",
    "  return 100 * float(part)/float(whole)"
   ]
  },
  {
   "cell_type": "code",
   "execution_count": null,
   "metadata": {},
   "outputs": [],
   "source": [
    "translation_recs = len(translation_topic_rec_df_CLEAN)\n",
    "editing_recs = len(editing_topic_rec_df_CLEAN)\n",
    "edited_count = len(nppt_articles_edits_after_contest_start_unique)\n",
    "translation_count = len(suggestions_created_a)+len(suggestions_created_b)\n",
    "print(\"Total values in full rec list:\", len(full_topic_rec_df_ci))\n",
    "print('***')\n",
    "print(\"total recs in translation:\", len(translation_topic_rec_df_CLEAN))\n",
    "print(\"total recs in editing:\", len(editing_topic_rec_df_CLEAN))\n",
    "print('***')\n",
    "print(percentage(edited_count,editing_recs),\"% created from editing list\")\n",
    "print(percentage(translation_count,translation_recs),\"% created from translation list\")"
   ]
  },
  {
   "cell_type": "code",
   "execution_count": null,
   "metadata": {},
   "outputs": [],
   "source": [
    "print(len(nppt_articles_edits), \"articles from the provided editing list of articles have been edited since the contest started\")\n",
    "print(len(nppt_articles_edits_contest_unique), \"of these were edited during the contest\")"
   ]
  },
  {
   "cell_type": "markdown",
   "metadata": {},
   "source": [
    "### > articles were picked from the suggestion lists (out of 34k+)"
   ]
  },
  {
   "cell_type": "code",
   "execution_count": null,
   "metadata": {},
   "outputs": [],
   "source": [
    "print(\"edited since the contest started\", edited_count)\n",
    "print(\"edited during the contest\", len(nppt_articles_edits_contest_unique))\n",
    "print(\"translated since the contest started\", translation_count)\n",
    "print('***')\n",
    "print(\"Total since the contest started\", edited_count+translation_count)\n",
    "print(\"Total during the contest\", len(nppt_articles_edits_contest_unique)+translation_count)"
   ]
  },
  {
   "cell_type": "raw",
   "metadata": {},
   "source": [
    "#suggestions_created_b =  articles from the provided 'translation' list of articles were created, since the contest started, and had a matching QID added\n",
    "\n",
    "suggestions_created_a = articles from the provided 'translation' list of articles were created, since the contest started, and had IWLinks added"
   ]
  },
  {
   "cell_type": "code",
   "execution_count": null,
   "metadata": {},
   "outputs": [],
   "source": [
    "#includes the 1894 with related interwiki links\n",
    "suggestions_created_a.to_csv(\"../../data/processed/query_results/topic_lists/suggestions_created_a.csv\", sep=',', encoding = 'utf-8', index=False)"
   ]
  },
  {
   "cell_type": "code",
   "execution_count": null,
   "metadata": {},
   "outputs": [],
   "source": [
    "#includes the 61\n",
    "suggestions_created_b.to_csv(\"../../data/processed/query_results/topic_lists/suggestions_created_b.csv\", sep=',', encoding = 'utf-8', index=False)"
   ]
  },
  {
   "cell_type": "code",
   "execution_count": null,
   "metadata": {},
   "outputs": [],
   "source": [
    "nppt_articles_edits_contest_unique.to_csv(\"../../data/processed/query_results/topic_lists/stubs_edited_during_contest.csv\", sep=',', encoding = 'utf-8', index=False)"
   ]
  },
  {
   "cell_type": "markdown",
   "metadata": {},
   "source": [
    "#### To Do in the future, topics"
   ]
  },
  {
   "cell_type": "markdown",
   "metadata": {},
   "source": [
    "TODO:\n",
    "get latest topic model - see Isaac\n",
    "Answer the following questions in the future, if time/project level interest:\n",
    "Q: which topics did editors write about?\n",
    "Q: what did editors select from these suggestions? \n",
    "Q: which topics most resonated or were most popular to write about from these lists? by wiki?\n",
    "Q: which topics did our partner pass on to us...which search terms made their way to us?"
   ]
  },
  {
   "cell_type": "raw",
   "metadata": {},
   "source": [
    "editing_recs = qid_r2_editing_CLEAN[['page_title', 'QID']]"
   ]
  },
  {
   "cell_type": "raw",
   "metadata": {},
   "source": [
    "suggestion_qids = pd.concat([qid_r_en_CLEAN, editing_recs], sort=True, ignore_index=True)"
   ]
  },
  {
   "cell_type": "raw",
   "metadata": {},
   "source": [
    "suggestion_qids.to_csv(\"../../data/processed/query_results/topic_lists/suggestions_qids.csv\", sep=',', encoding = 'utf-8', index=False)"
   ]
  }
 ],
 "metadata": {
  "kernelspec": {
   "display_name": "Python 3",
   "language": "python",
   "name": "python3"
  },
  "language_info": {
   "codemirror_mode": {
    "name": "ipython",
    "version": 3
   },
   "file_extension": ".py",
   "mimetype": "text/x-python",
   "name": "python",
   "nbconvert_exporter": "python",
   "pygments_lexer": "ipython3",
   "version": "3.7.8"
  }
 },
 "nbformat": 4,
 "nbformat_minor": 4
}
