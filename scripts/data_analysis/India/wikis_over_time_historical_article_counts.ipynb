{
 "cells": [
  {
   "cell_type": "markdown",
   "metadata": {},
   "source": [
    "# Wikis over time: historical article counts"
   ]
  },
  {
   "cell_type": "code",
   "execution_count": null,
   "metadata": {},
   "outputs": [],
   "source": [
    "import datetime as dt \n",
    "from datetime import datetime, timedelta, date\n",
    "import dateutil\n",
    "\n",
    "import matplotlib as mpl\n",
    "import matplotlib.pyplot as plt\n",
    "import matplotlib.ticker as ticker\n",
    "import matplotlib.dates as mdates\n",
    "import seaborn as sns\n",
    "import pandas as pd\n",
    "import numpy as np\n",
    "\n",
    "#%load_ext sql_magic\n",
    "%matplotlib inline"
   ]
  },
  {
   "cell_type": "code",
   "execution_count": null,
   "metadata": {},
   "outputs": [],
   "source": [
    "%run ../.././data_wrangling/2b_data_handling.ipynb"
   ]
  },
  {
   "cell_type": "code",
   "execution_count": null,
   "metadata": {},
   "outputs": [],
   "source": [
    "c_w_editors = pd.read_csv(\"../../data/raw/editors/2019/tiger2_participants_report/wiki_editor_art_counts.csv\", sep=',', encoding = 'utf-8', parse_dates=True)\n",
    "c_w_editors.columns = ['language_name', 'article_total', 'total_editor_count', 'contest_link']\n",
    "c_w_editors['language_name'] = c_w_editors['language_name'].replace({'Bengali':'Bangla'})"
   ]
  },
  {
   "cell_type": "code",
   "execution_count": null,
   "metadata": {},
   "outputs": [],
   "source": [
    "glow_wikis = pd.read_csv(\"../../data/raw/glow_wikis.csv\", sep=',', encoding = 'utf-8', parse_dates=True)"
   ]
  },
  {
   "cell_type": "markdown",
   "metadata": {},
   "source": [
    "## Articles<a class=\"anchor\" id=\"editors\"></a>\n",
    "[Back to Table of Contents](#toc)"
   ]
  },
  {
   "cell_type": "markdown",
   "metadata": {},
   "source": [
    "## Historical Article Counts"
   ]
  },
  {
   "cell_type": "code",
   "execution_count": null,
   "metadata": {},
   "outputs": [],
   "source": [
    "wiki_counts = pd.read_csv(\"../../data/processed/query_results/regional_counts/wiki_counts_India_2016_2020.csv\", thousands=',', encoding = 'utf-8', parse_dates=True) #parse_dates=['date']"
   ]
  },
  {
   "cell_type": "code",
   "execution_count": null,
   "metadata": {},
   "outputs": [],
   "source": [
    "wiki_counts['date']= pd.to_datetime(wiki_counts['date'])"
   ]
  },
  {
   "cell_type": "code",
   "execution_count": null,
   "metadata": {},
   "outputs": [],
   "source": [
    "wiki_counts_arabic = pd.read_csv(\"../../data/processed/query_results/regional_counts/arabic/wiki_counts_mena_2016_2020.csv\", thousands=',', encoding = 'utf-8', parse_dates=True)"
   ]
  },
  {
   "cell_type": "code",
   "execution_count": null,
   "metadata": {},
   "outputs": [],
   "source": [
    "fig, ax = plt.subplots(figsize=(15,11))\n",
    "wiki_counts.groupby(['month_year', 'lang']).sum()['count'].unstack().plot(ax=ax)\n",
    "plt.title('GLOW India Article Counts 2016-2020')\n",
    "ax.set_xlabel('date')\n",
    "ax.set_ylabel('count')\n",
    "plt.title('GLOW India Article Counts 2016-2020')\n",
    "plt.savefig('../../results/figs/regional_counts/india/wiki_counts_India_GLOW_2016_2020.png')\n",
    "plt.show();"
   ]
  },
  {
   "cell_type": "code",
   "execution_count": null,
   "metadata": {},
   "outputs": [],
   "source": [
    "sns.set() \n",
    "fig = plt.figure(figsize=(15,11))\n",
    "ax = fig.add_subplot(111)\n",
    "\n",
    "ax.set_title('wiki counts India GLOW')\n",
    "sns.lineplot(x=\"month_year\", y=\"count\", hue=\"lang\", \n",
    "            data=wiki_counts)\n",
    "\n",
    "plt.xticks(rotation=45)\n",
    "plt.title('GLOW India Wiki Counts 2016-2020')\n",
    "\n",
    "plt.tight_layout()\n",
    "plt.savefig('../../results/figs/regional_counts/india/wiki_counts_India_GLOW_2016_2020_b.png')\n",
    "plt.show();"
   ]
  },
  {
   "cell_type": "code",
   "execution_count": null,
   "metadata": {},
   "outputs": [],
   "source": [
    "pd.pivot_table(wiki_counts.reset_index(),\n",
    "               index='month_year', columns='lang', values='count'\n",
    "              ).plot(subplots=True, figsize=(15,21))\n",
    "\n",
    "plt.savefig('../../results/figs/regional_counts/india/wiki_counts_India_GLOW_wiki_subplots_pivot.png');"
   ]
  },
  {
   "cell_type": "code",
   "execution_count": null,
   "metadata": {},
   "outputs": [],
   "source": [
    "wiki_counts_India_agg = wiki_counts.groupby('month_year').sum().plot(kind='bar', figsize=(15,11), grid=True)\n",
    "plt.tight_layout()\n",
    "ax.yaxis.set_major_formatter(mpl.ticker.StrMethodFormatter('{x:,.0f}'))\n",
    "plt.title('GLOW India Article Counts Aggregated 2016-2020')\n",
    "plt.xticks(rotation=45)\n",
    "plt.savefig('../../results/figs/regional_counts/india/wiki_counts_India_GLOW_aggregated.png')\n",
    "plt.show();"
   ]
  }
 ],
 "metadata": {
  "kernelspec": {
   "display_name": "Python 3",
   "language": "python",
   "name": "python3"
  },
  "language_info": {
   "codemirror_mode": {
    "name": "ipython",
    "version": 3
   },
   "file_extension": ".py",
   "mimetype": "text/x-python",
   "name": "python",
   "nbconvert_exporter": "python",
   "pygments_lexer": "ipython3",
   "version": "3.7.8"
  }
 },
 "nbformat": 4,
 "nbformat_minor": 4
}
