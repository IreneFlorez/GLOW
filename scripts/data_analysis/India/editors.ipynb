{
 "cells": [
  {
   "cell_type": "code",
   "execution_count": null,
   "metadata": {},
   "outputs": [],
   "source": [
    "import matplotlib as mpl\n",
    "import matplotlib.pyplot as plt\n",
    "import matplotlib.ticker as ticker\n",
    "import matplotlib.dates as mdates\n",
    "import seaborn as sns\n",
    "import pandas as pd\n",
    "import numpy as np\n",
    "from collections import Counter\n",
    "#%load_ext sql_magic\n",
    "#%matplotlib inline"
   ]
  },
  {
   "cell_type": "markdown",
   "metadata": {},
   "source": [
    "### New Editors"
   ]
  },
  {
   "cell_type": "code",
   "execution_count": null,
   "metadata": {},
   "outputs": [],
   "source": [
    "pv_t = pd.read_csv(\"../../data/processed/query_results/editors/new_editors_per_month.csv\", sep=',', encoding = 'utf-8')"
   ]
  },
  {
   "cell_type": "markdown",
   "metadata": {},
   "source": [
    "### Editor survey data"
   ]
  },
  {
   "cell_type": "code",
   "execution_count": null,
   "metadata": {},
   "outputs": [],
   "source": [
    "compiled_data = pd.read_csv(\"../../data/processed/survey_data/[Writing contest] India DATA - Sheet3.csv\")\n",
    "\n",
    "compiled_data = compiled_data.rename(columns={'[compiled] Project Tiger 2.0 Motivation': 'motivation',\n",
    "                                              '[compiled] What type of support did you receive? ': 'tiger_grant'\n",
    "                                             }\n",
    "                                    )"
   ]
  },
  {
   "cell_type": "code",
   "execution_count": null,
   "metadata": {},
   "outputs": [],
   "source": [
    "blockers = compiled_data.iloc[:,-1].to_frame()\n",
    "blockers.columns = ['blockers']\n",
    "blockers['blockers'] = blockers['blockers'].str.replace('multiple: ','')\n",
    "\n",
    "# new data frame with split value columns \n",
    "new = blockers['blockers'].str.split(\",\", n = 2, expand = True) \n",
    "  \n",
    "# making separate first column from new data frame \n",
    "blockers[\"First\"]= new[0] \n",
    "  \n",
    "# making separate second column from new data frame \n",
    "blockers[\"Second\"]= new[1]\n",
    "blockers[\"Third\"]= new[2]\n",
    "  \n",
    "# Dropping old column\n",
    "blockers.drop(columns =[\"blockers\"], inplace = True)\n",
    "\n",
    "blockers = blockers.reset_index()\n",
    "melt_df = blockers.set_index('index').stack().reset_index(drop=True, level=1)\n",
    "\n",
    "#x.to_frame().reset_index()\n",
    "blockers_df = pd.DataFrame(melt_df)\n",
    "blockers_df[0] = blockers_df[0].str.lstrip() #remove space at beginning of string\n",
    "\n",
    "df = blockers_df.copy(deep=True)\n",
    "\n",
    "df = blockers_df[~blockers_df[0].str.contains(\"not sure|other|Another reason\")]"
   ]
  },
  {
   "cell_type": "code",
   "execution_count": null,
   "metadata": {},
   "outputs": [],
   "source": [
    "blocker_counts = df.groupby(0).size()"
   ]
  },
  {
   "cell_type": "code",
   "execution_count": null,
   "metadata": {},
   "outputs": [],
   "source": [
    "blocker_counts"
   ]
  },
  {
   "cell_type": "code",
   "execution_count": null,
   "metadata": {},
   "outputs": [],
   "source": [
    "ax = df[0].value_counts().plot(kind='bar', title='Tiger Blockers', color=\"#FF8C00\")\n",
    "ax.set_xlabel(\"What, if anything, has prevented you from participating in this project?\")\n",
    "ax.set_ylabel(\"Number of editors\")\n",
    "ax.set_ylim([0,30])\n",
    "\n",
    "for p in ax.patches:\n",
    "    width, height = p.get_width(), p.get_height()\n",
    "    x, y = p.get_xy() \n",
    "    ax.text(x+width/2, \n",
    "            y+height/2, \n",
    "            '{:.0f}%'.format(height*100/len(df)), \n",
    "            horizontalalignment='center',\n",
    "            verticalalignment='center'\n",
    "           )\n",
    "    \n",
    "#count\n",
    "#for p in ax.patches:\n",
    "#    width, height = p.get_width(), p.get_height()\n",
    "#    x, y = p.get_xy() \n",
    "#    ax.text(x+width/2, \n",
    "#            y+height/2, \n",
    "#            '{:.0f}'.format(height), \n",
    "#            horizontalalignment='center', \n",
    "#            verticalalignment='center',\n",
    "#           )"
   ]
  },
  {
   "cell_type": "code",
   "execution_count": null,
   "metadata": {},
   "outputs": [],
   "source": [
    "blockers_grants = compiled_data[['tiger_grant', 'barriers']]"
   ]
  },
  {
   "cell_type": "code",
   "execution_count": null,
   "metadata": {},
   "outputs": [],
   "source": [
    "blockers_grants\n",
    "z = blockers_grants[blockers_grants.barriers.str.contains(\"tec\")]"
   ]
  },
  {
   "cell_type": "code",
   "execution_count": null,
   "metadata": {},
   "outputs": [],
   "source": [
    "z"
   ]
  },
  {
   "cell_type": "code",
   "execution_count": null,
   "metadata": {},
   "outputs": [],
   "source": [
    "\n",
    "tiger2_motivation = compiled_data[['barriers', 'motivation']].copy(deep=True)\n",
    "tiger2_motivation['motivation'] = tiger2_motivation['motivation'].str.replace('multiple:', '')\n",
    "\n",
    "tiger2_motivation['motivation'] = tiger2_motivation['motivation'].replace(0, np.nan)\n",
    "# new data frame with split value columns \n",
    "n = tiger2_motivation['motivation'].str.split(\",\", n = 1, expand = True) \n",
    "\n",
    "# making separate first column from new data frame \n",
    "tiger2_motivation[\"First\"]= n[0] \n",
    "  \n",
    "# making separate second column from new data frame \n",
    "tiger2_motivation[\"Second\"]= n[1]\n",
    "  \n",
    "# Dropping old column\n",
    "tiger2_motivation.drop(columns =[\"motivation\", \"barriers\"], inplace = True)\n",
    "\n",
    "\n",
    "tiger2_motivation = tiger2_motivation.reset_index()\n",
    "melt_df = tiger2_motivation.set_index('index').stack().reset_index(drop=True, level=1)\n",
    "\n",
    "#x.to_frame().reset_index()\n",
    "motivation_df = pd.DataFrame(melt_df)\n",
    "motivation_df[0] = motivation_df[0].str.lstrip() #remove space at beginning of string\n",
    "\n",
    "mdf = motivation_df.copy(deep=True)"
   ]
  },
  {
   "cell_type": "code",
   "execution_count": null,
   "metadata": {},
   "outputs": [],
   "source": [
    "filtered_motivation = mdf[mdf[0].notnull()]\n",
    "filtered_motivation = filtered_motivation[~filtered_motivation[0].str.contains(\"none\")]"
   ]
  },
  {
   "cell_type": "code",
   "execution_count": null,
   "metadata": {},
   "outputs": [],
   "source": [
    "ax = filtered_motivation[0].value_counts().plot(kind='bar', title='Tiger Motivation', color=\"#FF8C00\")\n",
    "#ax.set_xlabel(\"What, if anything, has prevented you from participating in this project?\")\n",
    "ax.set_ylabel(\"Frequency\")\n",
    "for p in ax.patches:\n",
    "    width, height = p.get_width(), p.get_height()\n",
    "    x, y = p.get_xy() \n",
    "    ax.text(x+width/2, \n",
    "            y+height/2, \n",
    "            '{:.0f}%'.format(height*100/len(filtered_motivation)), \n",
    "            horizontalalignment='center',\n",
    "            verticalalignment='center'\n",
    "           )"
   ]
  },
  {
   "cell_type": "code",
   "execution_count": null,
   "metadata": {},
   "outputs": [],
   "source": [
    "filtered_motivation[0].value_counts(normalize=True) * 100"
   ]
  },
  {
   "cell_type": "code",
   "execution_count": null,
   "metadata": {},
   "outputs": [],
   "source": [
    "collab_competition = filtered_motivation[0].str.count(\"collaboration|interwiki competition\").sum()/ len(filtered_motivation)*100\n",
    "\n",
    "contribution = filtered_motivation[0].str.count(\"language contribution|contribution|reduce content gap|reduce gender content gap\").sum()/ len(filtered_motivation)*100"
   ]
  },
  {
   "cell_type": "code",
   "execution_count": null,
   "metadata": {},
   "outputs": [],
   "source": [
    "contribution"
   ]
  },
  {
   "cell_type": "code",
   "execution_count": null,
   "metadata": {},
   "outputs": [],
   "source": [
    "collab_competition"
   ]
  },
  {
   "cell_type": "code",
   "execution_count": null,
   "metadata": {},
   "outputs": [],
   "source": []
  }
 ],
 "metadata": {
  "kernelspec": {
   "display_name": "Python 3",
   "language": "python",
   "name": "python3"
  },
  "language_info": {
   "codemirror_mode": {
    "name": "ipython",
    "version": 3
   },
   "file_extension": ".py",
   "mimetype": "text/x-python",
   "name": "python",
   "nbconvert_exporter": "python",
   "pygments_lexer": "ipython3",
   "version": "3.7.8"
  }
 },
 "nbformat": 4,
 "nbformat_minor": 4
}
