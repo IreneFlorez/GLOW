{
 "cells": [
  {
   "cell_type": "code",
   "execution_count": null,
   "metadata": {},
   "outputs": [],
   "source": [
    "import matplotlib as mpl\n",
    "import matplotlib.pyplot as plt\n",
    "import matplotlib.ticker as ticker\n",
    "import matplotlib.dates as mdates\n",
    "from matplotlib import pylab\n",
    "import pandas as pd\n",
    "\n",
    "%matplotlib inline"
   ]
  },
  {
   "cell_type": "code",
   "execution_count": null,
   "metadata": {},
   "outputs": [],
   "source": [
    "import seaborn as sns\n",
    "sns.set_style(\"whitegrid\")\n",
    "import numpy as np"
   ]
  },
  {
   "cell_type": "code",
   "execution_count": null,
   "metadata": {},
   "outputs": [],
   "source": [
    "%run ../.././data_wrangling/2b_data_handling.ipynb"
   ]
  },
  {
   "cell_type": "code",
   "execution_count": null,
   "metadata": {},
   "outputs": [],
   "source": [
    "import datetime\n",
    "d = datetime.date(2019, 10, 10)\n",
    "isinstance(d, datetime.date)"
   ]
  },
  {
   "cell_type": "code",
   "execution_count": null,
   "metadata": {},
   "outputs": [],
   "source": [
    "final_frame_updated_pv_topics_suggs = pd.read_csv(\"../../../data/processed/query_results/content_quality/b5_final_frame_updated_pv_topics_g_suggs.csv\", sep=',', encoding = 'utf-8') "
   ]
  },
  {
   "cell_type": "code",
   "execution_count": null,
   "metadata": {},
   "outputs": [],
   "source": [
    "interim_frame_updated_pv_topics_suggs = pd.read_csv(\"../../../data/processed/query_results/content_quality/5_interim_frame_updated_w_g_suggs.csv\", sep=',', encoding = 'utf-8') "
   ]
  },
  {
   "cell_type": "code",
   "execution_count": null,
   "metadata": {},
   "outputs": [],
   "source": [
    "feb_global_views_referrer = pd.read_csv(\"../../../data/processed/query_results/content_quality/feb_global_views_referrer.csv\", sep=',', encoding = 'utf-8') "
   ]
  },
  {
   "cell_type": "code",
   "execution_count": null,
   "metadata": {},
   "outputs": [],
   "source": [
    "indonesia = pd.read_csv(\"../../../data/raw/articles/2019/query_results/content_quality/per_wiki_full/Indonesia/articles_w_july_incountry_pageviews_recs.csv\", sep=',')"
   ]
  },
  {
   "cell_type": "markdown",
   "metadata": {},
   "source": [
    "## Handle Data"
   ]
  },
  {
   "cell_type": "code",
   "execution_count": null,
   "metadata": {},
   "outputs": [],
   "source": [
    "ifupvts_lim = interim_frame_updated_pv_topics_suggs[[\n",
    "    'page_id',\n",
    "    'database_code',\n",
    "    'page_title',\n",
    "    'page_len',\n",
    "    'article_type',\n",
    "    'g_suggestion',\n",
    "]].copy()"
   ]
  },
  {
   "cell_type": "code",
   "execution_count": null,
   "metadata": {},
   "outputs": [],
   "source": [
    "feb_global_views_referrer = feb_global_views_referrer.rename(columns = {'wikicode':'database_code',\n",
    "                                                                      'referer_class':'referrer_class'})"
   ]
  },
  {
   "cell_type": "code",
   "execution_count": null,
   "metadata": {},
   "outputs": [],
   "source": [
    "fgvr = feb_global_views_referrer.copy()\n",
    "fgvr.replace({'referrer_class' : { 'none' : 'none_unknown', \n",
    "                                                       'unknown' : 'none_unknown',\n",
    "                                                       'external (search engine)': 'external_comb',\n",
    "                                                       'external': 'external_comb'\n",
    "                                                      }}, inplace=True)"
   ]
  },
  {
   "cell_type": "code",
   "execution_count": null,
   "metadata": {},
   "outputs": [],
   "source": [
    "rdf = pd.merge(ifupvts_lim, feb_global_views_referrer, how='left', on=['page_id', 'page_title','database_code'])"
   ]
  },
  {
   "cell_type": "code",
   "execution_count": null,
   "metadata": {},
   "outputs": [],
   "source": [
    "interim_df = interim_frame_updated_pv_topics_suggs[[\n",
    "    'database_code',\n",
    "    'page_len',\n",
    "    'relative_page_len',\n",
    "    'first_edited',\n",
    "    'article_type',\n",
    "    'translation_tool',\n",
    "    'views_1M',\n",
    "    'views_1M_all',\n",
    "    'predicted_label_1',\n",
    "    'g_suggestion',\n",
    "]].copy()"
   ]
  },
  {
   "cell_type": "markdown",
   "metadata": {},
   "source": [
    "#### page_len"
   ]
  },
  {
   "cell_type": "code",
   "execution_count": null,
   "metadata": {},
   "outputs": [],
   "source": [
    "#Creating the page_len_bins\n",
    "bins = [0, 1000, 5000, 10000, 20000, 30000, 40000, 50000, 100000, 200000]\n",
    "interim_df['page_len_bins'] = pd.cut(interim_df['page_len'], bins)"
   ]
  },
  {
   "cell_type": "code",
   "execution_count": null,
   "metadata": {},
   "outputs": [],
   "source": [
    "b = pd.cut(interim_df['page_len'], bins=bins).value_counts()\n",
    "b.plot()\n",
    "plt.xticks(rotation=45);"
   ]
  },
  {
   "cell_type": "markdown",
   "metadata": {},
   "source": [
    "#### page_len_relative"
   ]
  },
  {
   "cell_type": "code",
   "execution_count": null,
   "metadata": {},
   "outputs": [],
   "source": [
    "#Creating the page_len_bins\n",
    "plr_bins = [0, .2, .5, .7, .9, 1]\n",
    "names= ['1','2','3','4','5']\n",
    "\n",
    "#create bin column\n",
    "interim_df['rel_page_len_bins'] = pd.cut(interim_df['relative_page_len'], plr_bins)\n",
    "\n",
    "#create renamed bin column for charting and change dtype to into\n",
    "interim_df['rplb_charting'] = pd.cut(interim_df['relative_page_len'], plr_bins, labels=names)\n",
    "interim_df.rplb_charting = pd.to_numeric(interim_df.rplb_charting, errors='coerce')"
   ]
  },
  {
   "cell_type": "code",
   "execution_count": null,
   "metadata": {},
   "outputs": [],
   "source": [
    "#attention: PA wiki had 1 featured article\n",
    "#attention: tcywiki and satwiki had zero featured articles, so these use the median article length as their anchor\n",
    "plr_att_list = ['tcywiki', 'satwiki', 'pawiki']\n",
    "plr_limited_list = ['pawiki']\n",
    "solid_plr_wikis_df = interim_df[~interim_df['database_code'].isin(plr_att_list)]\n",
    "mid_plr_wikis_df = interim_df[~interim_df['database_code'].isin(plr_limited_list)]"
   ]
  },
  {
   "cell_type": "markdown",
   "metadata": {},
   "source": [
    "#### stub_lifetime_M"
   ]
  },
  {
   "cell_type": "code",
   "execution_count": null,
   "metadata": {},
   "outputs": [],
   "source": [
    "#handling first_edited\n",
    "#interim_df.first_edited = interim_df.first_edited.apply(np.datetime64) #creates datetime index column\n",
    "interim_df['first_edited'] = pd.to_datetime(interim_df['first_edited']).dt.date\n",
    "\n",
    "#create mask\n",
    "expanded_articles = interim_df['article_type'] == 'expanded'\n",
    "new_articles = interim_df['article_type'] == 'new'"
   ]
  },
  {
   "cell_type": "code",
   "execution_count": null,
   "metadata": {},
   "outputs": [],
   "source": [
    "#create a time delta column, negative if the article existed as a stub prior to the start of the contest\n",
    "interim_df['stub_lifetime_M'] = (interim_df['first_edited']-d).astype('timedelta64[M]')\n",
    "#interim_df['stub_lifetime'] = (interim_df['first_edited']-d)\n",
    "#z = (d - interim_df['first_edited']).dt.seconds"
   ]
  },
  {
   "cell_type": "code",
   "execution_count": null,
   "metadata": {},
   "outputs": [],
   "source": [
    "#check dispersion in stub_lifetime_M\n",
    "sns.stripplot(data = interim_df, y = 'stub_lifetime_M', jitter = True);\n",
    "#sns.plt.ylim(0, 500)\n",
    "#sns.plt.show()"
   ]
  },
  {
   "cell_type": "code",
   "execution_count": null,
   "metadata": {},
   "outputs": [],
   "source": [
    "# Review 'page_len' distribution \n",
    "plt.figure();\n",
    "age_hist = interim_df['stub_lifetime_M'].plot.hist(bins=10)\n",
    "age_hist.set_xlabel(\"stub_lifetime_M\")\n",
    "age_hist.set_ylabel(\"Articles\")\n",
    "age_hist.set_title('Distribution of stub_lifetime_M');\n"
   ]
  },
  {
   "cell_type": "code",
   "execution_count": null,
   "metadata": {},
   "outputs": [],
   "source": [
    "#Creating the stub_lifetime_bins\n",
    "slb_bins = [-200, -150, -100, -50, 0, 5]\n",
    "slb_names = ['4','3','2','1','0']\n",
    "\n",
    "interim_df['stub_lifetime_bins'] = pd.cut(interim_df['stub_lifetime_M'], slb_bins)\n",
    "\n",
    "interim_df['stub_stlb_charting'] = pd.cut(interim_df['stub_lifetime_M'], slb_bins, labels=slb_names)\n",
    "interim_df.stub_stlb_charting = pd.to_numeric(interim_df.stub_stlb_charting, errors='coerce')"
   ]
  },
  {
   "cell_type": "code",
   "execution_count": null,
   "metadata": {},
   "outputs": [],
   "source": [
    "t = pd.cut(interim_df['stub_lifetime_M'], bins=slb_bins).value_counts()\n",
    "t.plot();"
   ]
  },
  {
   "cell_type": "markdown",
   "metadata": {},
   "source": [
    "#### Topics"
   ]
  },
  {
   "cell_type": "code",
   "execution_count": null,
   "metadata": {},
   "outputs": [],
   "source": [
    "#create mask\n",
    "expanded_articles = interim_df['article_type'] == 'expanded'\n",
    "new_articles = interim_df['article_type'] == 'new'\n",
    "\n",
    "expanded_final_frame = final_frame_updated_pv_topics_suggs['article_type'] == 'expanded'\n",
    "new_final_frame = final_frame_updated_pv_topics_suggs['article_type'] == 'new'"
   ]
  },
  {
   "cell_type": "markdown",
   "metadata": {},
   "source": [
    "### General Review"
   ]
  },
  {
   "cell_type": "code",
   "execution_count": null,
   "metadata": {},
   "outputs": [],
   "source": [
    "#unique value counts per column\n",
    "for c in interim_df.columns:\n",
    "    print (\"---- %s ---\" % c)\n",
    "    print (interim_df[c].value_counts())"
   ]
  },
  {
   "cell_type": "code",
   "execution_count": null,
   "metadata": {},
   "outputs": [],
   "source": [
    "#all accepted and surviving articles, core metrics\n",
    "plt.figure(figsize = (20,8))\n",
    "sns.heatmap(indonesia.corr(), annot=True, cmap='coolwarm');"
   ]
  },
  {
   "cell_type": "code",
   "execution_count": null,
   "metadata": {},
   "outputs": [],
   "source": [
    "c = indonesia.corr().abs()\n",
    "\n",
    "s = c.unstack()\n",
    "so = s.sort_values(kind=\"quicksort\")"
   ]
  },
  {
   "cell_type": "code",
   "execution_count": null,
   "metadata": {},
   "outputs": [],
   "source": [
    "so"
   ]
  },
  {
   "cell_type": "code",
   "execution_count": null,
   "metadata": {},
   "outputs": [],
   "source": [
    "plt.figure(figsize = (20,8))\n",
    "sns.heatmap(indonesia[['july_view_count_internal', 'g_suggestion', \n",
    "                       'editors_nm', 'iwsitelinks', 'talk_page_edits',\n",
    "                      'QID', 'micro_editors', 'recs_given_order', 'relative_page_len', 'page_len','editors_nm',\n",
    "                      ]].corr(), annot=True, cmap='coolwarm');"
   ]
  },
  {
   "cell_type": "code",
   "execution_count": null,
   "metadata": {},
   "outputs": [],
   "source": [
    "#heatmap excluding PAwiki articles which only had 1 'featured article' (generally...not specific to GLOW)\n",
    "sns.heatmap(mid_plr_wikis_df[['views_1M_all', 'g_suggestion', 'rplb_charting', 'page_len', 'relative_page_len']].corr(), annot=True, cmap='coolwarm');\n"
   ]
  },
  {
   "cell_type": "code",
   "execution_count": null,
   "metadata": {},
   "outputs": [],
   "source": [
    "#heatmap using only articles from wikis with 'featured articles' (generally...not specific to GLOW)\n",
    "sns.heatmap(solid_plr_wikis_df[['views_1M_all', 'g_suggestion', 'rplb_charting', 'page_len', 'relative_page_len']].corr(), annot=True, cmap='coolwarm');\n"
   ]
  },
  {
   "cell_type": "code",
   "execution_count": null,
   "metadata": {},
   "outputs": [],
   "source": [
    "interim_df.describe()"
   ]
  },
  {
   "cell_type": "code",
   "execution_count": null,
   "metadata": {},
   "outputs": [],
   "source": [
    "def describe(df, stats):\n",
    "    d = df.describe()\n",
    "    return d.append(df.reindex(d.columns, axis=1).agg(stats))\n",
    "\n",
    "\n",
    "#describe(interim_df, ['skew', 'mad', 'kurt'])"
   ]
  },
  {
   "cell_type": "markdown",
   "metadata": {},
   "source": [
    "#### Select columns"
   ]
  },
  {
   "cell_type": "code",
   "execution_count": null,
   "metadata": {},
   "outputs": [],
   "source": [
    "list(interim_df)"
   ]
  },
  {
   "cell_type": "code",
   "execution_count": null,
   "metadata": {},
   "outputs": [],
   "source": [
    "select_columns = [\n",
    " 'g_suggestion',\n",
    " 'article_type',\n",
    " 'translation_tool',\n",
    " ]\n",
    "\n",
    "columns = [\n",
    " 'g_suggestion',\n",
    " 'article_type',\n",
    " 'stub_lifetime_bins',\n",
    " 'translation_tool',\n",
    " 'page_len_bins',\n",
    " 'database_code',\n",
    " 'predicted_label_1',\n",
    " ]"
   ]
  },
  {
   "cell_type": "code",
   "execution_count": null,
   "metadata": {},
   "outputs": [],
   "source": [
    "for r in select_columns :\n",
    "    print(interim_df.groupby(r)['views_1M_all'].describe().sort_values(by=['count','mean'],ascending=False))\n",
    "    print('*********************************')"
   ]
  },
  {
   "cell_type": "code",
   "execution_count": null,
   "metadata": {},
   "outputs": [],
   "source": [
    "#avg views for each unique value by columns\n",
    "for r in columns :\n",
    "    print(interim_df.groupby(r)['views_1M_all'].mean().sort_values(ascending=False))\n",
    "    print('*********************************')"
   ]
  },
  {
   "cell_type": "code",
   "execution_count": null,
   "metadata": {},
   "outputs": [],
   "source": [
    "#all pages average pageviews\n",
    "interim_df[\"views_1M_all\"].mean()"
   ]
  },
  {
   "cell_type": "code",
   "execution_count": null,
   "metadata": {},
   "outputs": [],
   "source": [
    "#all pages average pageviews, from within India\n",
    "interim_df[\"views_1M\"].mean()"
   ]
  },
  {
   "cell_type": "code",
   "execution_count": null,
   "metadata": {},
   "outputs": [],
   "source": [
    "#new pages average pageviews\n",
    "final_frame_updated_pv_topics_suggs[\"views_1M_all\"].mean()"
   ]
  },
  {
   "cell_type": "code",
   "execution_count": null,
   "metadata": {},
   "outputs": [],
   "source": [
    "#new pages average pageviews, from within India\n",
    "final_frame_updated_pv_topics_suggs[\"views_1M\"].mean()"
   ]
  },
  {
   "cell_type": "markdown",
   "metadata": {},
   "source": [
    "## Article type"
   ]
  },
  {
   "cell_type": "code",
   "execution_count": null,
   "metadata": {},
   "outputs": [],
   "source": [
    "interim_df.groupby('article_type', sort=True)['views_1M_all'].agg(['mean','count','sum']).sort_values(by=['mean'], ascending=False)"
   ]
  },
  {
   "cell_type": "code",
   "execution_count": null,
   "metadata": {},
   "outputs": [],
   "source": [
    "interim_df.groupby('article_type')['views_1M_all'].agg(['mean'])"
   ]
  },
  {
   "cell_type": "code",
   "execution_count": null,
   "metadata": {},
   "outputs": [],
   "source": [
    "#calculate how many more views expanded articles received on average over new articles\n",
    "e = interim_df.groupby('article_type')['views_1M_all'].mean()\n",
    "e_impact = e[0]/e[1]\n",
    "e_impact"
   ]
  },
  {
   "cell_type": "code",
   "execution_count": null,
   "metadata": {},
   "outputs": [],
   "source": [
    "interim_df.groupby('article_type').views_1M_all.mean().plot(kind='bar');"
   ]
  },
  {
   "cell_type": "code",
   "execution_count": null,
   "metadata": {},
   "outputs": [],
   "source": [
    "#Total Views by Wiki: Expanded vs New\n",
    "indonesia.groupby([\"database_code\", \"article_type\"])[\"july_view_count_internal\"].sum().unstack().plot(kind=\"bar\", color=['b', 'g'],stacked=True);"
   ]
  },
  {
   "cell_type": "code",
   "execution_count": null,
   "metadata": {},
   "outputs": [],
   "source": [
    "#Total Views by Wiki: Expanded vs New\n",
    "interim_df.groupby([\"database_code\", \"article_type\"])[\"views_1M_all\"].sum().unstack().plot(kind=\"bar\", color=['b', 'g'],stacked=True);"
   ]
  },
  {
   "cell_type": "code",
   "execution_count": null,
   "metadata": {},
   "outputs": [],
   "source": [
    "#Avg Views by Wiki: Expanded vs New\n",
    "interim_df.groupby([\"database_code\", \"article_type\"])[\"views_1M_all\"].mean().unstack().plot(kind=\"bar\", color=['b', 'g'], stacked=True);"
   ]
  },
  {
   "cell_type": "markdown",
   "metadata": {},
   "source": [
    "## G_suggestions"
   ]
  },
  {
   "cell_type": "code",
   "execution_count": null,
   "metadata": {},
   "outputs": [],
   "source": [
    "interim_df.groupby('g_suggestion', sort=True)['views_1M_all'].agg(['mean','count','sum']).sort_values(by=['mean'], ascending=False)"
   ]
  },
  {
   "cell_type": "code",
   "execution_count": null,
   "metadata": {},
   "outputs": [],
   "source": [
    "#calculate how many more views g_suggested articles received on average over non g_suggested articles\n",
    "g = interim_df.groupby('g_suggestion')['views_1M_all'].mean()\n",
    "g_impact = g[1]/g[0]\n",
    "g_impact"
   ]
  },
  {
   "cell_type": "code",
   "execution_count": null,
   "metadata": {},
   "outputs": [],
   "source": [
    "interim_df.groupby('g_suggestion').views_1M_all.mean().plot(kind='bar')\n",
    "\n",
    "\n",
    "plt.title('Average Pageviews, Google Suggestions',fontsize=16)\n",
    "plt.xlabel('Google Suggestion',fontsize=13)\n",
    "plt.ylabel('Average Views',fontsize=13)\n",
    "plt.xticks(rotation=360)\n",
    "plt.tick_params(labelsize=12)\n",
    "#plt.savefig('../../results/figs/pageviews/g_suggestion.png');"
   ]
  },
  {
   "cell_type": "code",
   "execution_count": null,
   "metadata": {},
   "outputs": [],
   "source": [
    "interim_df.groupby('g_suggestion').views_1M_all.mean()"
   ]
  },
  {
   "cell_type": "code",
   "execution_count": null,
   "metadata": {},
   "outputs": [],
   "source": [
    "interim_df.groupby('g_suggestion').views_1M.mean().plot(kind='bar', color=[\"#FF8C00\", \"#1f77b4\"]);"
   ]
  },
  {
   "cell_type": "code",
   "execution_count": null,
   "metadata": {},
   "outputs": [],
   "source": [
    "subset.groupby('g_suggestion').july_view_count_internal.mean().plot(kind='bar', color=[\"#FF8C00\", \"#1f77b4\"]);"
   ]
  },
  {
   "cell_type": "markdown",
   "metadata": {},
   "source": [
    "## G_suggestions & Article Type"
   ]
  },
  {
   "cell_type": "code",
   "execution_count": null,
   "metadata": {},
   "outputs": [],
   "source": [
    "interim_df.groupby(['g_suggestion', 'article_type'], sort=True)['views_1M_all'].describe()"
   ]
  },
  {
   "cell_type": "code",
   "execution_count": null,
   "metadata": {},
   "outputs": [],
   "source": [
    "g = sns.catplot(x=\"article_type\", y=\"views_1M_all\", hue=\"g_suggestion\", data=interim_df,\n",
    "                height=6, kind=\"bar\", palette=[\"#FF8C00\", \"#1f77b4\"],legend_out = False) #palette=\"muted\", \n",
    "g.despine(left=True)\n",
    "\n",
    "# check axes and find which have legend\n",
    "leg = g.axes.flat[0].get_legend()\n",
    "new_title = 'List Type'\n",
    "leg.set_title(new_title)\n",
    "new_labels = ['Non-Google List', 'Google List']\n",
    "for t, l in zip(leg.texts, new_labels): t.set_text(l)\n",
    "\n",
    "plt.title(\"Pageviews by Article Type & List Type\",fontsize=16)\n",
    "plt.xlabel('Article Type: new or expanded',fontsize=13)\n",
    "plt.ylabel('Average Views',fontsize=13)\n",
    "\n",
    "plt.savefig('../../../results/figs/pageviews/avg_pv_type_suggestion.svg')\n",
    "plt.show(g)"
   ]
  },
  {
   "cell_type": "code",
   "execution_count": null,
   "metadata": {},
   "outputs": [],
   "source": [
    "f = sns.catplot(x=\"article_type\", y=\"views_1M\", hue=\"g_suggestion\", data=interim_df,\n",
    "                height=6, kind=\"bar\", palette=[\"#FF8C00\", \"#1f77b4\"],legend_out = False) #palette=\"muted\", \n",
    "f.despine(left=True)\n",
    "\n",
    "# check axes and find which have legend\n",
    "leg = f.axes.flat[0].get_legend()\n",
    "new_title = 'List Type'\n",
    "leg.set_title(new_title)\n",
    "new_labels = ['Non-Google List', 'Google List']\n",
    "for t, l in zip(leg.texts, new_labels): t.set_text(l)\n",
    "\n",
    "plt.title(\"Pageviews by Article Type & List Type\",fontsize=16)\n",
    "plt.xlabel('Article Type: new or expanded',fontsize=13)\n",
    "plt.ylabel('Average Views',fontsize=13)\n",
    "\n",
    "#plt.savefig('../../../results/figs/pageviews/avg_pv_type_suggestion.svg')\n",
    "plt.show(f)"
   ]
  },
  {
   "cell_type": "code",
   "execution_count": null,
   "metadata": {},
   "outputs": [],
   "source": [
    "interim_df.groupby(['g_suggestion', 'article_type'], sort=True)['views_1M'].describe()"
   ]
  },
  {
   "cell_type": "code",
   "execution_count": null,
   "metadata": {},
   "outputs": [],
   "source": [
    "subset.groupby(['g_suggestion', 'article_type'], sort=True)['july_view_count_internal'].describe()"
   ]
  },
  {
   "cell_type": "code",
   "execution_count": null,
   "metadata": {},
   "outputs": [],
   "source": [
    "subset = indonesia.copy(deep=True)\n",
    "subset['article_type'] = subset['article_type'].str.replace('post', 'new')\n",
    "\n",
    "e = sns.catplot(x=\"article_type\", y=\"july_view_count_internal\", hue=\"g_suggestion\", data=subset,\n",
    "                height=6, kind=\"bar\", palette=[\"#FF8C00\", \"#1f77b4\"],legend_out = False) #palette=\"muted\", \n",
    "e.despine(left=True)\n",
    "\n",
    "# check axes and find which have legend\n",
    "leg = e.axes.flat[0].get_legend()\n",
    "new_title = 'List Type'\n",
    "leg.set_title(new_title)\n",
    "new_labels = ['Non-Google List', 'Google List']\n",
    "for t, l in zip(leg.texts, new_labels): t.set_text(l)\n",
    "\n",
    "plt.title(\"Pageviews by Article Type & List Type\",fontsize=16)\n",
    "plt.xlabel('Article Type: new or expanded',fontsize=13)\n",
    "plt.ylabel('Average Views',fontsize=13)\n",
    "\n",
    "#plt.savefig('../../../results/figs/pageviews/avg_pv_type_suggestion.svg')\n",
    "plt.show(e)"
   ]
  },
  {
   "cell_type": "code",
   "execution_count": null,
   "metadata": {},
   "outputs": [],
   "source": [
    "interim_df.groupby(['database_code','g_suggestion'], sort=True)['views_1M_all'].describe()"
   ]
  },
  {
   "cell_type": "code",
   "execution_count": null,
   "metadata": {},
   "outputs": [],
   "source": [
    "pd.pivot_table(interim_df, values = 'views_1M_all', index = 'database_code',\n",
    "               columns = 'g_suggestion',aggfunc ='mean').plot.bar().set_title(\"Pageviews per Wiki by Suggestion\");"
   ]
  },
  {
   "cell_type": "code",
   "execution_count": null,
   "metadata": {},
   "outputs": [],
   "source": [
    "interim_df.groupby(['database_code','g_suggestion', 'article_type'], sort=True)['views_1M_all'].describe()"
   ]
  },
  {
   "cell_type": "code",
   "execution_count": null,
   "metadata": {},
   "outputs": [],
   "source": [
    "#Avg Views by Wiki: g_suggestions vs. internal lists\n",
    "interim_df.groupby([\"database_code\", \"g_suggestion\", \"article_type\"], sort=False)[\"views_1M_all\"].mean().unstack().plot(kind=\"bar\", figsize=(15,9), color=['g', 'b'],stacked=True);"
   ]
  },
  {
   "cell_type": "code",
   "execution_count": null,
   "metadata": {},
   "outputs": [],
   "source": [
    "#Avg Views by Wiki: Expanded vs New\n",
    "n = interim_df.groupby([\"database_code\", \"g_suggestion\", \"article_type\"], sort=False)[\"views_1M_all\"].mean().unstack().sort_values(['expanded'],ascending=False).plot(kind=\"bar\", figsize=(15,9), color=['g', 'b'], stacked=True);"
   ]
  },
  {
   "cell_type": "code",
   "execution_count": null,
   "metadata": {},
   "outputs": [],
   "source": [
    "#Avg Views by Wiki: Expanded vs New\n",
    "interim_df.groupby([\"database_code\", \"article_type\", \"g_suggestion\"], sort=False)[\"views_1M_all\"].mean().unstack().plot(kind=\"bar\", figsize=(15,9),stacked=True);"
   ]
  },
  {
   "cell_type": "code",
   "execution_count": null,
   "metadata": {},
   "outputs": [],
   "source": [
    "#Avg Views by Wiki: Expanded vs New - ordered\n",
    "interim_df.groupby([\"database_code\", \"article_type\", \"g_suggestion\"], sort=False)[\"views_1M_all\"].mean().unstack().sort_values([True],ascending=False).plot(kind=\"bar\", figsize=(15,9), stacked=True);"
   ]
  },
  {
   "cell_type": "markdown",
   "metadata": {},
   "source": [
    "### Stub lifetime"
   ]
  },
  {
   "cell_type": "code",
   "execution_count": null,
   "metadata": {},
   "outputs": [],
   "source": [
    "interim_df.groupby('stub_lifetime_bins')['views_1M_all'].describe()"
   ]
  },
  {
   "cell_type": "code",
   "execution_count": null,
   "metadata": {},
   "outputs": [],
   "source": [
    "interim_df.groupby('stub_lifetime_bins')['views_1M_all'].agg(['mean','count','sum']).sort_values(by=['sum'], ascending=False)"
   ]
  },
  {
   "cell_type": "code",
   "execution_count": null,
   "metadata": {},
   "outputs": [],
   "source": [
    "interim_df.groupby(['database_code','g_suggestion', 'stub_lifetime_bins'], sort=True)['views_1M_all'].describe()[['count','mean']]\n"
   ]
  },
  {
   "cell_type": "code",
   "execution_count": null,
   "metadata": {},
   "outputs": [],
   "source": [
    "sns.lmplot(data = interim_df, x = 'stub_lifetime_M', y = 'views_1M_all', col='g_suggestion', fit_reg = True);"
   ]
  },
  {
   "cell_type": "code",
   "execution_count": null,
   "metadata": {},
   "outputs": [],
   "source": [
    "f = sns.lmplot(x = 'stub_lifetime_M', y = 'views_1M_all', hue='g_suggestion', col='database_code',\n",
    "               data=interim_df, height=6, col_wrap=5, aspect=.4, x_jitter=.5)\n",
    "\n",
    "f = (f.set_axis_labels(\"Stub Lifetime\", \"Pageviews\")\n",
    "      .set(xlim=(5, -200), ylim=(0, 3000),)\n",
    "           #xticks=[---], yticks=[---])\n",
    "      .fig.subplots_adjust(wspace=.1))"
   ]
  },
  {
   "cell_type": "markdown",
   "metadata": {},
   "source": [
    "## Page_length & Relative page length"
   ]
  },
  {
   "cell_type": "raw",
   "metadata": {},
   "source": [
    "sns.lmplot(data = interim_df[new_articles], x = 'stub_stlb_charting', y = 'views_1M_all', fit_reg = True);"
   ]
  },
  {
   "cell_type": "raw",
   "metadata": {},
   "source": [
    "#copied from above as a reminder\n",
    "plr_att_list = ['tcywiki', 'satwiki', 'pawiki']\n",
    "plr_limited_list = ['pawiki']\n",
    "solid_plr_wikis_df = interim_df[~interim_df['database_code'].isin(plr_att_list)]\n",
    "mid_plr_wikis_df = interim_df[~interim_df['database_code'].isin(plr_limited_list)]"
   ]
  },
  {
   "cell_type": "code",
   "execution_count": null,
   "metadata": {},
   "outputs": [],
   "source": [
    "interim_df.groupby('page_len_bins')['views_1M_all'].describe()"
   ]
  },
  {
   "cell_type": "code",
   "execution_count": null,
   "metadata": {},
   "outputs": [],
   "source": [
    "sns.lmplot(data = interim_df, x = 'page_len', y = 'views_1M_all', fit_reg = True);"
   ]
  },
  {
   "cell_type": "code",
   "execution_count": null,
   "metadata": {},
   "outputs": [],
   "source": [
    "#Higher values here denote proximity to the median relative length of a wiki's featured article, \n",
    "#for example a '5' here is equal to a 1.0 score noting a full matches to the length of the median length of a featured article in that wiki  \n",
    "solid_plr_wikis_df.groupby('rplb_charting').views_1M_all.mean().plot(kind='bar');"
   ]
  },
  {
   "cell_type": "code",
   "execution_count": null,
   "metadata": {},
   "outputs": [],
   "source": [
    "#pageviews by rel_page_len_bins per wiki\n",
    "#attention: PA wiki had 1 featured article\n",
    "#attention: tcywiki and satwiki had zero featured articles, so these use the median article length as their anchor\n",
    "pv_given_rplb_by_wiki = interim_df.groupby(['database_code', 'rel_page_len_bins'], sort=True)['views_1M_all'].describe()"
   ]
  },
  {
   "cell_type": "code",
   "execution_count": null,
   "metadata": {},
   "outputs": [],
   "source": [
    "pv_given_rplb_by_wiki"
   ]
  },
  {
   "cell_type": "code",
   "execution_count": null,
   "metadata": {},
   "outputs": [],
   "source": [
    "interim_df.groupby(['database_code','g_suggestion', 'rel_page_len_bins'], sort=False)['views_1M_all'].describe()[['count','mean']]"
   ]
  },
  {
   "cell_type": "code",
   "execution_count": null,
   "metadata": {},
   "outputs": [],
   "source": [
    "interim_df.groupby(['database_code','g_suggestion', 'rel_page_len_bins'], sort=False)['views_1M_all'].describe()[['count','mean']].sort_values(by=['count', 'mean'], ascending=False)"
   ]
  },
  {
   "cell_type": "code",
   "execution_count": null,
   "metadata": {},
   "outputs": [],
   "source": [
    "interim_df.groupby(['database_code','g_suggestion', 'rel_page_len_bins'], sort=False)['views_1M_all'].agg(['mean','count','sum']).sort_values(by=['mean'], ascending=False)"
   ]
  },
  {
   "cell_type": "code",
   "execution_count": null,
   "metadata": {},
   "outputs": [],
   "source": [
    "interim_df['rel_page_len_bins'].unique()"
   ]
  },
  {
   "cell_type": "raw",
   "metadata": {},
   "source": [
    "1 = 0.0 - 0.2\n",
    "2 = 0.2 - 0.5\n",
    "3 = 0.5 - 0.7\n",
    "4 = 0.7 - 0.9\n",
    "5 = 0.9 - 1.0"
   ]
  },
  {
   "cell_type": "code",
   "execution_count": null,
   "metadata": {},
   "outputs": [],
   "source": [
    "sns.lmplot(data = interim_df, x = 'rplb_charting', y = 'views_1M_all', fit_reg = True);\n",
    "#sns.plt.xlim(0, 6)\n",
    "#sns.plt.title('---')\n",
    "#sns.plt.show()"
   ]
  },
  {
   "cell_type": "code",
   "execution_count": null,
   "metadata": {},
   "outputs": [],
   "source": [
    "#Expanded articles, article length and views\n",
    "sns.lmplot(data = interim_df[expanded_articles], x = 'rplb_charting', y = 'views_1M_all', fit_reg = True);"
   ]
  },
  {
   "cell_type": "code",
   "execution_count": null,
   "metadata": {},
   "outputs": [],
   "source": [
    "#New articles, article length and views\n",
    "sns.lmplot(data = interim_df[new_articles], x = 'rplb_charting', y = 'views_1M_all', fit_reg = True);"
   ]
  },
  {
   "cell_type": "markdown",
   "metadata": {},
   "source": [
    "## Topics"
   ]
  },
  {
   "cell_type": "code",
   "execution_count": null,
   "metadata": {},
   "outputs": [],
   "source": [
    "indonesia.groupby('predicted_label_1')['july_view_count_internal'].describe().sort_values(by=['count', 'mean'], ascending=False)"
   ]
  },
  {
   "cell_type": "code",
   "execution_count": null,
   "metadata": {},
   "outputs": [],
   "source": [
    "interim_df.groupby('predicted_label_1')['views_1M_all'].describe().sort_values(by=['count', 'mean'], ascending=False)"
   ]
  },
  {
   "cell_type": "code",
   "execution_count": null,
   "metadata": {},
   "outputs": [],
   "source": [
    "#get only topics with more than 25 associated articles\n",
    "topics_grouped = interim_df.groupby('predicted_label_1')\n",
    "topics_over_25 = interim_df[interim_df.groupby('predicted_label_1')['views_1M_all'].transform('count') > 25]"
   ]
  },
  {
   "cell_type": "code",
   "execution_count": null,
   "metadata": {},
   "outputs": [],
   "source": [
    "#top topics by number of associated articles\n",
    "topics_over_25.groupby('predicted_label_1').size().sort_values( ascending=False)"
   ]
  },
  {
   "cell_type": "code",
   "execution_count": null,
   "metadata": {},
   "outputs": [],
   "source": [
    "topics_over_25.groupby('predicted_label_1')['views_1M_all'].describe().sort_values(by=['mean'], ascending=False)"
   ]
  },
  {
   "cell_type": "code",
   "execution_count": null,
   "metadata": {},
   "outputs": [],
   "source": [
    "topics_over_25.groupby('predicted_label_1')['views_1M_all'].agg(['mean','count','sum']).sort_values(by=['mean'], ascending=False)"
   ]
  },
  {
   "cell_type": "code",
   "execution_count": null,
   "metadata": {},
   "outputs": [],
   "source": [
    "topics_over_25.groupby('predicted_label_1')['views_1M_all'].agg(['mean','count','sum']).sort_values(by=['sum'], ascending=False)"
   ]
  },
  {
   "cell_type": "code",
   "execution_count": null,
   "metadata": {},
   "outputs": [],
   "source": [
    "#get top ~10 topics\n",
    "\n",
    "top_topics_df = interim_df[interim_df.groupby('predicted_label_1')['views_1M_all'].transform('count') > 100]\n",
    "\n",
    "#topics_grouped = interim_df.groupby('predicted_label_1')\n",
    "#df1 = interim_df[interim_df.groupby('predicted_label_1')['views_1M_all'].transform('count') > 25]"
   ]
  },
  {
   "cell_type": "code",
   "execution_count": null,
   "metadata": {},
   "outputs": [],
   "source": [
    "top_topics_df.groupby([\"article_type\", 'predicted_label_1'])['views_1M_all'].describe().sort_values(by=['predicted_label_1'], ascending=False)"
   ]
  },
  {
   "cell_type": "code",
   "execution_count": null,
   "metadata": {},
   "outputs": [],
   "source": [
    "top_topics_df.groupby(['predicted_label_1',\"g_suggestion\", ])['views_1M_all'].describe().sort_values(by=['predicted_label_1'], ascending=False)"
   ]
  },
  {
   "cell_type": "code",
   "execution_count": null,
   "metadata": {},
   "outputs": [],
   "source": [
    "top_topics_df.groupby([\"article_type\", 'predicted_label_1', \"g_suggestion\"])['views_1M_all'].describe().sort_values(by=['predicted_label_1', \"g_suggestion\"], ascending=False)"
   ]
  },
  {
   "cell_type": "raw",
   "metadata": {},
   "source": [
    "interim_df[new_articles].groupby(['g_suggestion', 'predicted_label_1'])['views_1M_all'].agg(['mean','count','sum']).sort_values(by=['sum'], ascending=False)"
   ]
  },
  {
   "cell_type": "raw",
   "metadata": {},
   "source": [
    "final_frame_updated_pv_topics_suggs[new_final_frame].groupby('g_category')['views_1M_all'].agg(['mean','count','sum']).sort_values(by=['sum'], ascending=False).head(5)"
   ]
  },
  {
   "cell_type": "markdown",
   "metadata": {},
   "source": [
    "## Referral Source"
   ]
  },
  {
   "cell_type": "code",
   "execution_count": null,
   "metadata": {},
   "outputs": [],
   "source": [
    "feb_global_views_referrer.groupby('referrer_class')['feb_view_count_global'].agg(['mean','count','sum']).sort_values(by=['mean'], ascending=False)"
   ]
  },
  {
   "cell_type": "code",
   "execution_count": null,
   "metadata": {},
   "outputs": [],
   "source": [
    "rdf.groupby('referrer_class')['feb_view_count_global'].agg(['mean','count','sum']).sort_values(by=['mean'], ascending=False)"
   ]
  },
  {
   "cell_type": "code",
   "execution_count": null,
   "metadata": {},
   "outputs": [],
   "source": [
    "t = feb_global_views_referrer.groupby('referrer_class')['feb_view_count_global'].agg(['mean','count','sum']).sort_values(by=['mean'], ascending=False).reset_index()\n",
    "entries = t['count'].sum()\n",
    "_pvsum = t['sum'].sum()\n",
    "print('raw entries', entries)\n",
    "print('raw pgview sum', _pvsum)"
   ]
  },
  {
   "cell_type": "code",
   "execution_count": null,
   "metadata": {},
   "outputs": [],
   "source": [
    "n = rdf.groupby('referrer_class')['feb_view_count_global'].agg(['mean','count','sum']).sort_values(by=['mean'], ascending=False).reset_index()\n",
    "entries = n['count'].sum()\n",
    "_pvsum = n['sum'].sum()\n",
    "print('merged entries', entries)\n",
    "print('merged pgview sum', _pvsum)"
   ]
  },
  {
   "cell_type": "code",
   "execution_count": null,
   "metadata": {},
   "outputs": [],
   "source": [
    "rdf.groupby(['referrer_class', 'g_suggestion'], sort=False)[\"feb_view_count_global\"].mean().unstack().sort_values([True],ascending=False).plot(kind=\"bar\", figsize=(15,9), stacked=True);"
   ]
  },
  {
   "cell_type": "code",
   "execution_count": null,
   "metadata": {},
   "outputs": [],
   "source": [
    "pd.pivot_table(rdf.sort_values('feb_view_count_global'), values = 'feb_view_count_global', index = 'referrer_class',\n",
    "               columns = 'g_suggestion',aggfunc ='mean').plot.bar().set_title(\"Avg pageviews by referrer and suggestion\");"
   ]
  },
  {
   "cell_type": "code",
   "execution_count": null,
   "metadata": {},
   "outputs": [],
   "source": [
    "#define rows\n",
    "mask = rdf['referrer_class'].isin(['unknown', 'external'])\n",
    "rdf_select = rdf[~mask]\n",
    "\n",
    "#define order\n",
    "referral_types = ['external (search engine)', 'none', 'internal']\n",
    "mapping = {referral_type: i for i, referral_type in enumerate(referral_types)}\n",
    "key = rdf_select['article_type'].map(mapping)\n",
    "\n",
    "#rdf_select.iloc[key.argsort()]\n",
    "df_grouped = rdf_select.iloc[key.argsort()]\n",
    "\n",
    "gapv = pd.pivot_table(df_grouped.sort_values('article_type', ascending=True), \n",
    "                      values = 'feb_view_count_global', \n",
    "                      index = 'referrer_class',\n",
    "                      columns = ['g_suggestion', 'article_type'],\n",
    "                      aggfunc ='mean'\n",
    "                     )\n",
    "\n",
    "gapv.plot(kind = 'bar', figsize=(20,10))\n",
    "\n",
    "plt.title('Avg pageviews by referrer, type, suggestion',fontsize=24)\n",
    "plt.xlabel('Referral Source Category',fontsize=28)\n",
    "plt.ylabel('Average Views',fontsize=28)\n",
    "plt.xticks(rotation=360)\n",
    "plt.tick_params(labelsize=22)\n",
    "#plt.savefig('../../results/figs/pageviews/Avg_pv_referrer_suggestion_type.png')\n",
    "plt.show();\n",
    "\n",
    "#color scheme by sugg type\n",
    "#label bars"
   ]
  },
  {
   "cell_type": "code",
   "execution_count": null,
   "metadata": {},
   "outputs": [],
   "source": []
  },
  {
   "cell_type": "code",
   "execution_count": null,
   "metadata": {},
   "outputs": [],
   "source": [
    "gapv"
   ]
  },
  {
   "cell_type": "code",
   "execution_count": null,
   "metadata": {},
   "outputs": [],
   "source": [
    "fgvr.groupby('referrer_class')[\"feb_view_count_global\"].mean().sort_values(ascending=False).plot(kind=\"bar\", \n",
    "                                                                                                 figsize=(15,9), \n",
    "                                                                                                 stacked=True);"
   ]
  },
  {
   "cell_type": "code",
   "execution_count": null,
   "metadata": {},
   "outputs": [],
   "source": []
  }
 ],
 "metadata": {
  "kernelspec": {
   "display_name": "Python 3",
   "language": "python",
   "name": "python3"
  },
  "language_info": {
   "codemirror_mode": {
    "name": "ipython",
    "version": 3
   },
   "file_extension": ".py",
   "mimetype": "text/x-python",
   "name": "python",
   "nbconvert_exporter": "python",
   "pygments_lexer": "ipython3",
   "version": "3.7.8"
  }
 },
 "nbformat": 4,
 "nbformat_minor": 4
}
