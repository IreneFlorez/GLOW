{
 "cells": [
  {
   "cell_type": "code",
   "execution_count": 1,
   "metadata": {},
   "outputs": [],
   "source": [
    "import matplotlib as mpl\n",
    "import matplotlib.pyplot as plt\n",
    "import matplotlib.ticker as ticker\n",
    "import matplotlib.dates as mdates\n",
    "import seaborn as sns\n",
    "import pandas as pd\n",
    "import numpy as np\n",
    "from collections import Counter\n",
    "#%load_ext sql_magic\n",
    "#%matplotlib inline"
   ]
  },
  {
   "cell_type": "markdown",
   "metadata": {},
   "source": [
    "### New Editors"
   ]
  },
  {
   "cell_type": "code",
   "execution_count": 40,
   "metadata": {},
   "outputs": [],
   "source": [
    "pv_t = pd.read_csv(\"../../data/processed/query_results/editors/new_editors_per_month.csv\", sep=',', encoding = 'utf-8')"
   ]
  },
  {
   "cell_type": "markdown",
   "metadata": {},
   "source": [
    "### Editor survey data"
   ]
  },
  {
   "cell_type": "code",
   "execution_count": 2,
   "metadata": {},
   "outputs": [],
   "source": [
    "compiled_data = pd.read_csv(\"../../data/processed/survey_data/[Writing contest] India DATA - Sheet3.csv\")\n",
    "\n",
    "compiled_data = compiled_data.rename(columns={'[compiled] Project Tiger 2.0 Motivation': 'motivation',\n",
    "                                              '[compiled] What type of support did you receive? ': 'tiger_grant'\n",
    "                                             }\n",
    "                                    )"
   ]
  },
  {
   "cell_type": "code",
   "execution_count": 3,
   "metadata": {},
   "outputs": [],
   "source": [
    "blockers = compiled_data.iloc[:,-1].to_frame()\n",
    "blockers.columns = ['blockers']\n",
    "blockers['blockers'] = blockers['blockers'].str.replace('multiple: ','')\n",
    "\n",
    "# new data frame with split value columns \n",
    "new = blockers['blockers'].str.split(\",\", n = 2, expand = True) \n",
    "  \n",
    "# making separate first column from new data frame \n",
    "blockers[\"First\"]= new[0] \n",
    "  \n",
    "# making separate second column from new data frame \n",
    "blockers[\"Second\"]= new[1]\n",
    "blockers[\"Third\"]= new[2]\n",
    "  \n",
    "# Dropping old column\n",
    "blockers.drop(columns =[\"blockers\"], inplace = True)\n",
    "\n",
    "blockers = blockers.reset_index()\n",
    "melt_df = blockers.set_index('index').stack().reset_index(drop=True, level=1)\n",
    "\n",
    "#x.to_frame().reset_index()\n",
    "blockers_df = pd.DataFrame(melt_df)\n",
    "blockers_df[0] = blockers_df[0].str.lstrip() #remove space at beginning of string\n",
    "\n",
    "df = blockers_df.copy(deep=True)\n",
    "\n",
    "df = blockers_df[~blockers_df[0].str.contains(\"not sure|other|Another reason\")]"
   ]
  },
  {
   "cell_type": "code",
   "execution_count": 4,
   "metadata": {},
   "outputs": [],
   "source": [
    "blocker_counts = df.groupby(0).size()"
   ]
  },
  {
   "cell_type": "code",
   "execution_count": 5,
   "metadata": {},
   "outputs": [
    {
     "data": {
      "text/plain": [
       "0\n",
       "newcomer integration     1\n",
       "skills                   8\n",
       "technical               15\n",
       "time                    29\n",
       "dtype: int64"
      ]
     },
     "execution_count": 5,
     "metadata": {},
     "output_type": "execute_result"
    }
   ],
   "source": [
    "blocker_counts"
   ]
  },
  {
   "cell_type": "code",
   "execution_count": 6,
   "metadata": {},
   "outputs": [
    {
     "data": {
      "image/png": "[encoded data removed]",
      "text/plain": [
       "<Figure size 432x288 with 1 Axes>"
      ]
     },
     "metadata": {
      "needs_background": "light"
     },
     "output_type": "display_data"
    }
   ],
   "source": [
    "ax = df[0].value_counts().plot(kind='bar', title='Tiger Blockers', color=\"#FF8C00\")\n",
    "ax.set_xlabel(\"What, if anything, has prevented you from participating in this project?\")\n",
    "ax.set_ylabel(\"Number of editors\")\n",
    "ax.set_ylim([0,30])\n",
    "\n",
    "for p in ax.patches:\n",
    "    width, height = p.get_width(), p.get_height()\n",
    "    x, y = p.get_xy() \n",
    "    ax.text(x+width/2, \n",
    "            y+height/2, \n",
    "            '{:.0f}%'.format(height*100/len(df)), \n",
    "            horizontalalignment='center',\n",
    "            verticalalignment='center'\n",
    "           )\n",
    "    \n",
    "#count\n",
    "#for p in ax.patches:\n",
    "#    width, height = p.get_width(), p.get_height()\n",
    "#    x, y = p.get_xy() \n",
    "#    ax.text(x+width/2, \n",
    "#            y+height/2, \n",
    "#            '{:.0f}'.format(height), \n",
    "#            horizontalalignment='center', \n",
    "#            verticalalignment='center',\n",
    "#           )"
   ]
  },
  {
   "cell_type": "code",
   "execution_count": 7,
   "metadata": {},
   "outputs": [],
   "source": [
    "blockers_grants = compiled_data[['tiger_grant', 'barriers']]"
   ]
  },
  {
   "cell_type": "code",
   "execution_count": 8,
   "metadata": {},
   "outputs": [],
   "source": [
    "blockers_grants\n",
    "z = blockers_grants[blockers_grants.barriers.str.contains(\"tec\")]"
   ]
  },
  {
   "cell_type": "code",
   "execution_count": 9,
   "metadata": {},
   "outputs": [
    {
     "data": {
      "text/html": [
       "<div>\n",
       "<style scoped>\n",
       "    .dataframe tbody tr th:only-of-type {\n",
       "        vertical-align: middle;\n",
       "    }\n",
       "\n",
       "    .dataframe tbody tr th {\n",
       "        vertical-align: top;\n",
       "    }\n",
       "\n",
       "    .dataframe thead th {\n",
       "        text-align: right;\n",
       "    }\n",
       "</style>\n",
       "<table border=\"1\" class=\"dataframe\">\n",
       "  <thead>\n",
       "    <tr style=\"text-align: right;\">\n",
       "      <th></th>\n",
       "      <th>tiger_grant</th>\n",
       "      <th>barriers</th>\n",
       "    </tr>\n",
       "  </thead>\n",
       "  <tbody>\n",
       "    <tr>\n",
       "      <th>7</th>\n",
       "      <td>Laptop &amp; Internet stipend</td>\n",
       "      <td>technical</td>\n",
       "    </tr>\n",
       "    <tr>\n",
       "      <th>15</th>\n",
       "      <td>Laptop</td>\n",
       "      <td>technical</td>\n",
       "    </tr>\n",
       "    <tr>\n",
       "      <th>18</th>\n",
       "      <td>Laptop</td>\n",
       "      <td>multiple: skills, technical</td>\n",
       "    </tr>\n",
       "    <tr>\n",
       "      <th>25</th>\n",
       "      <td>NaN</td>\n",
       "      <td>technical</td>\n",
       "    </tr>\n",
       "    <tr>\n",
       "      <th>26</th>\n",
       "      <td>NaN</td>\n",
       "      <td>multiple: skills, technical</td>\n",
       "    </tr>\n",
       "    <tr>\n",
       "      <th>32</th>\n",
       "      <td>NaN</td>\n",
       "      <td>multiple: time, technical, newcomer integration</td>\n",
       "    </tr>\n",
       "    <tr>\n",
       "      <th>36</th>\n",
       "      <td>NaN</td>\n",
       "      <td>technical</td>\n",
       "    </tr>\n",
       "    <tr>\n",
       "      <th>37</th>\n",
       "      <td>NaN</td>\n",
       "      <td>technical</td>\n",
       "    </tr>\n",
       "    <tr>\n",
       "      <th>38</th>\n",
       "      <td>NaN</td>\n",
       "      <td>technical</td>\n",
       "    </tr>\n",
       "    <tr>\n",
       "      <th>39</th>\n",
       "      <td>NaN</td>\n",
       "      <td>multiple: technical, other</td>\n",
       "    </tr>\n",
       "    <tr>\n",
       "      <th>44</th>\n",
       "      <td>NaN</td>\n",
       "      <td>multiple: time, technical</td>\n",
       "    </tr>\n",
       "    <tr>\n",
       "      <th>59</th>\n",
       "      <td>NaN</td>\n",
       "      <td>technical</td>\n",
       "    </tr>\n",
       "    <tr>\n",
       "      <th>60</th>\n",
       "      <td>NaN</td>\n",
       "      <td>multiple: time, technical</td>\n",
       "    </tr>\n",
       "    <tr>\n",
       "      <th>61</th>\n",
       "      <td>NaN</td>\n",
       "      <td>multiple: time, technical</td>\n",
       "    </tr>\n",
       "    <tr>\n",
       "      <th>64</th>\n",
       "      <td>NaN</td>\n",
       "      <td>multiple: technical, other</td>\n",
       "    </tr>\n",
       "  </tbody>\n",
       "</table>\n",
       "</div>"
      ],
      "text/plain": [
       "                  tiger_grant                                         barriers\n",
       "7   Laptop & Internet stipend                                        technical\n",
       "15                     Laptop                                        technical\n",
       "18                     Laptop                      multiple: skills, technical\n",
       "25                        NaN                                        technical\n",
       "26                        NaN                      multiple: skills, technical\n",
       "32                        NaN  multiple: time, technical, newcomer integration\n",
       "36                        NaN                                        technical\n",
       "37                        NaN                                        technical\n",
       "38                        NaN                                        technical\n",
       "39                        NaN                       multiple: technical, other\n",
       "44                        NaN                        multiple: time, technical\n",
       "59                        NaN                                        technical\n",
       "60                        NaN                        multiple: time, technical\n",
       "61                        NaN                        multiple: time, technical\n",
       "64                        NaN                       multiple: technical, other"
      ]
     },
     "execution_count": 9,
     "metadata": {},
     "output_type": "execute_result"
    }
   ],
   "source": [
    "z"
   ]
  },
  {
   "cell_type": "code",
   "execution_count": 10,
   "metadata": {},
   "outputs": [],
   "source": [
    "\n",
    "tiger2_motivation = compiled_data[['barriers', 'motivation']].copy(deep=True)\n",
    "tiger2_motivation['motivation'] = tiger2_motivation['motivation'].str.replace('multiple:', '')\n",
    "\n",
    "tiger2_motivation['motivation'] = tiger2_motivation['motivation'].replace(0, np.nan)\n",
    "# new data frame with split value columns \n",
    "n = tiger2_motivation['motivation'].str.split(\",\", n = 1, expand = True) \n",
    "\n",
    "# making separate first column from new data frame \n",
    "tiger2_motivation[\"First\"]= n[0] \n",
    "  \n",
    "# making separate second column from new data frame \n",
    "tiger2_motivation[\"Second\"]= n[1]\n",
    "  \n",
    "# Dropping old column\n",
    "tiger2_motivation.drop(columns =[\"motivation\", \"barriers\"], inplace = True)\n",
    "\n",
    "\n",
    "tiger2_motivation = tiger2_motivation.reset_index()\n",
    "melt_df = tiger2_motivation.set_index('index').stack().reset_index(drop=True, level=1)\n",
    "\n",
    "#x.to_frame().reset_index()\n",
    "motivation_df = pd.DataFrame(melt_df)\n",
    "motivation_df[0] = motivation_df[0].str.lstrip() #remove space at beginning of string\n",
    "\n",
    "mdf = motivation_df.copy(deep=True)"
   ]
  },
  {
   "cell_type": "code",
   "execution_count": 11,
   "metadata": {},
   "outputs": [],
   "source": [
    "filtered_motivation = mdf[mdf[0].notnull()]\n",
    "filtered_motivation = filtered_motivation[~filtered_motivation[0].str.contains(\"none\")]"
   ]
  },
  {
   "cell_type": "code",
   "execution_count": 12,
   "metadata": {},
   "outputs": [
    {
     "data": {
      "image/png": "[encoded data removed]",
      "text/plain": [
       "<Figure size 432x288 with 1 Axes>"
      ]
     },
     "metadata": {
      "needs_background": "light"
     },
     "output_type": "display_data"
    }
   ],
   "source": [
    "ax = filtered_motivation[0].value_counts().plot(kind='bar', title='Tiger Motivation', color=\"#FF8C00\")\n",
    "#ax.set_xlabel(\"What, if anything, has prevented you from participating in this project?\")\n",
    "ax.set_ylabel(\"Frequency\")\n",
    "for p in ax.patches:\n",
    "    width, height = p.get_width(), p.get_height()\n",
    "    x, y = p.get_xy() \n",
    "    ax.text(x+width/2, \n",
    "            y+height/2, \n",
    "            '{:.0f}%'.format(height*100/len(filtered_motivation)), \n",
    "            horizontalalignment='center',\n",
    "            verticalalignment='center'\n",
    "           )"
   ]
  },
  {
   "cell_type": "code",
   "execution_count": 13,
   "metadata": {},
   "outputs": [
    {
     "data": {
      "text/plain": [
       "language contribution        37.878788\n",
       "contribution                 22.727273\n",
       "collaboration                10.606061\n",
       "reduce content gap            9.090909\n",
       "prize                         7.575758\n",
       "skills building               6.060606\n",
       "interwiki competition         4.545455\n",
       "reduce gender content gap     1.515152\n",
       "Name: 0, dtype: float64"
      ]
     },
     "execution_count": 13,
     "metadata": {},
     "output_type": "execute_result"
    }
   ],
   "source": [
    "filtered_motivation[0].value_counts(normalize=True) * 100"
   ]
  },
  {
   "cell_type": "code",
   "execution_count": 14,
   "metadata": {},
   "outputs": [],
   "source": [
    "collab_competition = filtered_motivation[0].str.count(\"collaboration|interwiki competition\").sum()/ len(filtered_motivation)*100\n",
    "\n",
    "contribution = filtered_motivation[0].str.count(\"language contribution|contribution|reduce content gap|reduce gender content gap\").sum()/ len(filtered_motivation)*100"
   ]
  },
  {
   "cell_type": "code",
   "execution_count": 15,
   "metadata": {},
   "outputs": [
    {
     "data": {
      "text/plain": [
       "71.21212121212122"
      ]
     },
     "execution_count": 15,
     "metadata": {},
     "output_type": "execute_result"
    }
   ],
   "source": [
    "contribution"
   ]
  },
  {
   "cell_type": "code",
   "execution_count": 16,
   "metadata": {},
   "outputs": [
    {
     "data": {
      "text/plain": [
       "15.151515151515152"
      ]
     },
     "execution_count": 16,
     "metadata": {},
     "output_type": "execute_result"
    }
   ],
   "source": [
    "collab_competition"
   ]
  },
  {
   "cell_type": "code",
   "execution_count": null,
   "metadata": {},
   "outputs": [],
   "source": []
  }
 ],
 "metadata": {
  "kernelspec": {
   "display_name": "Python 3",
   "language": "python",
   "name": "python3"
  },
  "language_info": {
   "codemirror_mode": {
    "name": "ipython",
    "version": 3
   },
   "file_extension": ".py",
   "mimetype": "text/x-python",
   "name": "python",
   "nbconvert_exporter": "python",
   "pygments_lexer": "ipython3",
   "version": "3.5.3"
  }
 },
 "nbformat": 4,
 "nbformat_minor": 4
}
