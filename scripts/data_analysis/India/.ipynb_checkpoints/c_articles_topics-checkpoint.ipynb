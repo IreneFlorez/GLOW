{
 "cells": [
  {
   "cell_type": "markdown",
   "metadata": {},
   "source": [
    "### Topics"
   ]
  },
  {
   "cell_type": "code",
   "execution_count": null,
   "metadata": {},
   "outputs": [],
   "source": [
    "import matplotlib as mpl\n",
    "import matplotlib.pyplot as plt\n",
    "import matplotlib.ticker as ticker\n",
    "import matplotlib.dates as mdates\n",
    "import seaborn as sns\n",
    "import pandas as pd\n",
    "import numpy as np\n",
    "\n",
    "%load_ext sql_magic\n",
    "%matplotlib inline"
   ]
  },
  {
   "cell_type": "code",
   "execution_count": null,
   "metadata": {},
   "outputs": [],
   "source": [
    "new_articles = pd.read_csv(\"../../data/processed/query_results/content_quality/final_frame_updated_pv_topcs.csv\", sep=',', encoding = 'utf-8', parse_dates=True) \n",
    "interim = pd.read_csv(\"../../data/processed/query_results/content_quality/interim_frame_updated.csv\", sep=',', encoding = 'utf-8', parse_dates=True)"
   ]
  },
  {
   "cell_type": "code",
   "execution_count": null,
   "metadata": {},
   "outputs": [],
   "source": [
    "interim_frame_updated_pv_topics_suggs = pd.read_csv(\"../../data/processed/query_results/content_quality/5_interim_frame_updated_w_g_suggs.csv\", sep=',', encoding = 'utf-8') "
   ]
  },
  {
   "cell_type": "code",
   "execution_count": null,
   "metadata": {},
   "outputs": [],
   "source": [
    "label1 = interim_frame_updated_pv_topics_suggs.predicted_label_1.unique()\n",
    "\n",
    "## Plotting an histogram with the neighborhoods sorted alphabetically. \n",
    "plt.figure(figsize=(16,6))\n",
    "ax = sns.countplot(x='predicted_label_1', data=interim_frame_updated_pv_topics_suggs, order=label1)\n",
    "ax.set_xticklabels(ax.get_xticklabels(), rotation=40, ha=\"right\", fontsize=8)\n",
    "plt.title('Topics distribution', fontsize=14, fontweight='bold')\n",
    "plt.show()"
   ]
  },
  {
   "cell_type": "code",
   "execution_count": null,
   "metadata": {},
   "outputs": [],
   "source": [
    "#discover which topics are most represented\n",
    "new_articles['predicted_label_1'].value_counts().plot(kind='bar', figsize=(20,3))\n",
    "plt.xlabel('Topic', fontsize=14)\n",
    "plt.ylabel('Count', fontsize=14)\n",
    "plt.title('Distribution of Article Topics',fontsize=16)\n",
    "\n",
    "plt.show;"
   ]
  },
  {
   "cell_type": "code",
   "execution_count": null,
   "metadata": {},
   "outputs": [],
   "source": [
    "new_articles['predicted_label_1'].value_counts().nlargest(30)"
   ]
  },
  {
   "cell_type": "code",
   "execution_count": null,
   "metadata": {},
   "outputs": [],
   "source": [
    "#create a list of top 25 topics to get a better view of those\n",
    "top_25_topics_list = list(new_articles['predicted_label_1'].value_counts().nlargest(25).index)"
   ]
  },
  {
   "cell_type": "code",
   "execution_count": null,
   "metadata": {},
   "outputs": [],
   "source": [
    "top_25_topics = new_articles['predicted_label_1'].value_counts().nlargest(25).rename_axis('topics').reset_index(name='counts')"
   ]
  },
  {
   "cell_type": "code",
   "execution_count": null,
   "metadata": {},
   "outputs": [],
   "source": [
    "sorted_topic = new_articles['predicted_label_1'].value_counts().head(25).index\n",
    "sns.set(style='darkgrid')\n",
    "g = sns.countplot(data=new_articles, x='predicted_label_1', order = sorted_topic, orient='h')\n",
    "plt.xticks(rotation=90)\n",
    "plt.xlabel('Topic', fontsize=14)\n",
    "plt.ylabel('Count', fontsize=14)\n",
    "plt.title('Distribution of Article Topics: Top 25 Represented Topics', fontsize=16)\n",
    "\n",
    "g.figure.set_figwidth(14)\n",
    "g.figure.set_figheight(8.27)\n",
    "\n",
    "\n",
    "#plt.figure(figsize=(15,16))\n",
    "#plt.rcParams['figure.figsize']=(10,18)\n",
    "#sns.set(rc={'figure.figsize': (2,6)})\n",
    "#plt\n",
    "#figure(num=None, figsize=(1,1), dpi=80, facecolor='w', edgecolor='k');"
   ]
  },
  {
   "cell_type": "raw",
   "metadata": {},
   "source": [
    "new_articles['predicted_label_1'](kind='pie', figsize=(5,5), startangle=90)\n",
    "plt.title('Topic Predictions')\n",
    "plt.ylabel('');"
   ]
  },
  {
   "cell_type": "code",
   "execution_count": null,
   "metadata": {},
   "outputs": [],
   "source": [
    "#others\n",
    "new_row = pd.DataFrame(data = {\n",
    "    'topics' : ['others (31-50 articles each)'],\n",
    "    'counts' : [top_25_topics['counts'][21:].sum()]\n",
    "})\n",
    "\n",
    "#combining top with others\n",
    "df2 = pd.concat([top_25_topics[:21], new_row],sort=True)\n",
    "\n",
    "#plotting -- for comparison left all countries and right \n",
    "#the others combined\n",
    "fig, ax = plt.subplots(figsize = (19,14))\n",
    "\n",
    "#top_25_topics.plot(kind = 'pie', y = 'counts', labels = top_25_topics['topics'], ax = axes[0])\n",
    "df2.plot(kind = 'pie', y = 'counts', labels = df2['topics'], ax = ax)\n",
    "\n",
    "plt.legend(loc='center left', bbox_to_anchor=(1.0, 1.1))\n",
    "\n",
    "#axes[0].set_title('all topics')\n",
    "ax.set_title('Top 25 Topics')\n",
    "\n",
    "plt.show()"
   ]
  },
  {
   "cell_type": "raw",
   "metadata": {},
   "source": [
    "#others\n",
    "new_row = pd.DataFrame(data = {\n",
    "    'topics' : ['others (<50 each)'],\n",
    "    'counts' : [top_25_topics['counts'][21:].sum()]\n",
    "})\n",
    "\n",
    "#combining top with others\n",
    "df2 = pd.concat([top_25_topics[:21], new_row],sort=True)\n",
    "\n",
    "#plotting -- for comparison left all countries and right \n",
    "#the others combined\n",
    "fig, axes = plt.subplots(nrows = 1, ncols = 2, figsize = (19,14))\n",
    "\n",
    "top_25_topics.plot(kind = 'pie', y = 'counts', labels = top_25_topics['topics'], ax = axes[0])\n",
    "df2.plot(kind = 'pie', y = 'counts', labels = df2['topics'], ax = axes[1])\n",
    "\n",
    "plt.legend(loc='center left', bbox_to_anchor=(1.0, 1.2))\n",
    "\n",
    "axes[0].set_title('all topics')\n",
    "axes[1].set_title('top 20')\n",
    "\n",
    "plt.show()"
   ]
  },
  {
   "cell_type": "code",
   "execution_count": null,
   "metadata": {},
   "outputs": [],
   "source": []
  }
 ],
 "metadata": {
  "kernelspec": {
   "display_name": "Python 3",
   "language": "python",
   "name": "python3"
  },
  "language_info": {
   "codemirror_mode": {
    "name": "ipython",
    "version": 3
   },
   "file_extension": ".py",
   "mimetype": "text/x-python",
   "name": "python",
   "nbconvert_exporter": "python",
   "pygments_lexer": "ipython3",
   "version": "3.7.8"
  }
 },
 "nbformat": 4,
 "nbformat_minor": 4
}
