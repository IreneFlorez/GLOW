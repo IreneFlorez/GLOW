{
 "cells": [
  {
   "cell_type": "code",
   "execution_count": null,
   "metadata": {},
   "outputs": [],
   "source": [
    "# from SPARQLWrapper import SPARQLWrapper, JSON\n",
    "\n",
    "#from ratelimiter import RateLimiter\n",
    "from collections import OrderedDict\n",
    "import pandas as pd\n",
    "#%load_ext sql_magic\n",
    "\n",
    "import os\n",
    "import glob\n",
    "from urllib.parse import unquote\n",
    "\n",
    "import wmfdata as wmf\n",
    "from wmfdata import charting, mariadb, hive\n",
    "from wmfdata.utils import pct_str, pd_display_all\n",
    "\n",
    "%matplotlib inline\n",
    "import matplotlib.pyplot as plt\n",
    "plt.style.use('ggplot')\n",
    "import seaborn as sns"
   ]
  },
  {
   "cell_type": "code",
   "execution_count": null,
   "metadata": {},
   "outputs": [],
   "source": [
    "#read csv\n",
    "df_relative_length = pd.read_csv('../../../../data/processed/relative_length/indonesia_relative_lengths.csv', encoding='utf-8', index=False)"
   ]
  },
  {
   "cell_type": "code",
   "execution_count": null,
   "metadata": {},
   "outputs": [],
   "source": [
    "#count of clean-non-null entries of featured articles in each wiki\n",
    "df_relative_length.groupby(df_relative_length['database_code'])['page_len'].count()"
   ]
  },
  {
   "cell_type": "code",
   "execution_count": null,
   "metadata": {},
   "outputs": [],
   "source": [
    "#count of clean-non-null entries of featured articles in each wiki\n",
    "df_relative_length.groupby(df_relative_length['wikicode'])['page_len'].count()"
   ]
  },
  {
   "cell_type": "code",
   "execution_count": null,
   "metadata": {},
   "outputs": [],
   "source": [
    "median_values = df_relative_length.groupby(df_relative_length['database_code'])['page_len'].median()"
   ]
  },
  {
   "cell_type": "code",
   "execution_count": null,
   "metadata": {},
   "outputs": [],
   "source": [
    "%store median_values"
   ]
  },
  {
   "cell_type": "code",
   "execution_count": null,
   "metadata": {},
   "outputs": [],
   "source": [
    "ax = median_values.plot (kind='bar', figsize=(10,6), color=\"indigo\", fontsize=11);\n",
    "ax.set_alpha(0.8)\n",
    "ax.set_title(\"Median Values\", fontsize=22)\n",
    "ax.set_ylabel(\"page_len\", fontsize=15);\n",
    "plt.show()\n",
    "path = './results/figs/relative_length/'\n",
    "plt.savefig(path+'1_median_values.png');"
   ]
  },
  {
   "cell_type": "code",
   "execution_count": null,
   "metadata": {},
   "outputs": [],
   "source": [
    "#about error bars: https://en.wikipedia.org/wiki/Error_bar\n",
    "sns.set(style='whitegrid')\n",
    "plt.figure(figsize=(13,7))\n",
    "g = sns.barplot(x='wikicode', y='page_len', data=df_relative_length)\n",
    "g.set_yscale(\"log\")\n",
    "plt.title('Logscale Pagelen Bar Plot: as,bn,gu,hi,kn,ml,mr,or,pa,sa,ta,te,ur')\n",
    "path = './results/figs/relative_length/'\n",
    "plt.savefig(path+'2_logscale_pagelens_by_wiki');"
   ]
  },
  {
   "cell_type": "code",
   "execution_count": null,
   "metadata": {},
   "outputs": [],
   "source": [
    "# Sort the dataframe by wikicode and plot in distplot\n",
    "# see more about y axis kde value: https://stackoverflow.com/questions/51666784/what-is-y-axis-in-seaborn-distplot\n",
    "wikicode_bn = df_relative_length.loc[df_relative_length['wikicode'] == 'bnwiki'] #normal distribution\n",
    "wikicode_ml = df_relative_length.loc[df_relative_length['wikicode'] == 'mlwiki'] \n",
    "sns.distplot(wikicode_bn[['page_len']], hist=False, rug=True, label ='bnwiki')\n",
    "sns.distplot(wikicode_ml[['page_len']], hist=False, rug=True, label ='mlwiki')\n",
    "plt.ylabel('Density')\n",
    "plt.xlabel('Page Length')\n",
    "plt.title('Page Length & KDE: bn, ml')\n",
    "plt.legend()\n",
    "plt.show()\n",
    "path = './results/figs/relative_length/'\n",
    "plt.savefig(path+'3_Pagelen_KDE_bn_ml.png');"
   ]
  },
  {
   "cell_type": "code",
   "execution_count": null,
   "metadata": {},
   "outputs": [],
   "source": [
    "wikicode_hi = df_relative_length.loc[df_relative_length['wikicode'] == 'hiwiki']\n",
    "wikicode_kn = df_relative_length.loc[df_relative_length['wikicode'] == 'knwiki'] \n",
    "wikicode_gu = df_relative_length.loc[df_relative_length['wikicode'] == 'guwiki']\n",
    "wikicode_te = df_relative_length.loc[df_relative_length['wikicode'] == 'tewiki']\n",
    "\n",
    "sns.distplot(wikicode_hi[['page_len']], hist=False, rug=True, label ='hiwiki')\n",
    "sns.distplot(wikicode_kn[['page_len']], hist=False, rug=True, label ='knwiki')\n",
    "sns.distplot(wikicode_gu[['page_len']], hist=False, rug=True, label ='guwiki')\n",
    "sns.distplot(wikicode_te[['page_len']], hist=False, rug=True, label ='tewiki')\n",
    "plt.ylabel('Density')\n",
    "plt.xlabel('Page Length')\n",
    "plt.title('Page Length & KDE: hi, kn, gu, te')\n",
    "plt.legend()\n",
    "plt.show()\n",
    "path = './results/figs/relative_length/'\n",
    "plt.savefig(path+'4_Pagelen_KDE_hi_kn_gu_te');"
   ]
  },
  {
   "cell_type": "code",
   "execution_count": null,
   "metadata": {},
   "outputs": [],
   "source": [
    "wikicode_ur = df_relative_length.loc[df_relative_length['wikicode'] == 'urwiki']\n",
    "wikicode_sa = df_relative_length.loc[df_relative_length['wikicode'] == 'sawiki']\n",
    "sns.distplot(wikicode_ur[['page_len']], rug=True, label ='urwiki')\n",
    "sns.distplot(wikicode_sa[['page_len']], hist=False, rug=True, label ='sawiki')\n",
    "plt.ylabel('Density')\n",
    "plt.xlabel('Page Length')\n",
    "plt.title('Page Length & KDE: sa, ur')\n",
    "plt.legend()\n",
    "plt.show()\n",
    "path = './results/figs/relative_length/'\n",
    "plt.savefig(path+'5_Pagelen_KDE_sa_ur');"
   ]
  },
  {
   "cell_type": "code",
   "execution_count": null,
   "metadata": {},
   "outputs": [],
   "source": [
    "wikicode_or = df_relative_length.loc[df_relative_length['wikicode'] == 'orwiki']\n",
    "sns.distplot(wikicode_or[['page_len']], rug=True, label ='orwiki')\n",
    "plt.ylabel('Density')\n",
    "plt.xlabel('Page Length')\n",
    "plt.title('Page Length & KDE: or')\n",
    "plt.legend()\n",
    "plt.show()\n",
    "path = './results/figs/relative_length/'\n",
    "plt.savefig(path+'6_Pagelen_KDE_or');"
   ]
  },
  {
   "cell_type": "code",
   "execution_count": null,
   "metadata": {},
   "outputs": [],
   "source": [
    "plt.figure(figsize=(17,8))\n",
    "wikicode_as = df_relative_length.loc[df_relative_length['wikicode'] == 'aswiki'] #12 featured articles\n",
    "wikicode_mr = df_relative_length.loc[df_relative_length['wikicode'] == 'mrwiki']\n",
    "wikicode_ta = df_relative_length.loc[df_relative_length['wikicode'] == 'tawiki'] #13 featured articles\n",
    "sns.distplot(wikicode_as[['page_len']], rug=True, label = 'aswiki')\n",
    "sns.distplot(wikicode_mr[['page_len']], rug=True, label = 'mrwiki')\n",
    "sns.distplot(wikicode_ta[['page_len']], rug=True, label = 'tawiki')\n",
    "plt.ylabel('Density')\n",
    "plt.xlabel('Page Length')\n",
    "plt.title('Page Length & KDE: as, mr, ta')\n",
    "plt.legend()\n",
    "plt.show()\n",
    "path = './results/figs/relative_length/'\n",
    "plt.savefig(path+'7_Pagelen_KDE_as_mr_ta');"
   ]
  },
  {
   "cell_type": "code",
   "execution_count": null,
   "metadata": {},
   "outputs": [],
   "source": [
    "review_wikis = df_relative_length[df_relative_length['wikicode'].isin(['aswiki', 'mrwiki', 'tawiki'  ]) ]"
   ]
  },
  {
   "cell_type": "code",
   "execution_count": null,
   "metadata": {},
   "outputs": [],
   "source": [
    "review_wiki_list = review_wikis.wikicode.unique()\n",
    "plt.figure(figsize=(13,7))\n",
    "plt.hist([review_wikis.loc[review_wikis.wikicode ==x, 'page_len']for x in review_wiki_list], label=review_wiki_list);\n",
    "plt.ylabel('Count')\n",
    "plt.xlabel('Page Length')\n",
    "plt.title('Page Length & Count: mr, ta, as')\n",
    "plt.legend()\n",
    "plt.show()\n",
    "path = './results/figs/relative_length/'\n",
    "plt.savefig(path+'8_Pagelen_count_mr_ta_as');"
   ]
  },
  {
   "cell_type": "code",
   "execution_count": null,
   "metadata": {},
   "outputs": [],
   "source": [
    "#about error bars: https://en.wikipedia.org/wiki/Error_bar\n",
    "sns.set(style='whitegrid')\n",
    "plt.figure(figsize=(13,7))\n",
    "g = sns.barplot(x='wikicode', y='page_len', data=review_wikis)\n",
    "g.set_yscale(\"log\")\n",
    "plt.title('Logscale Pagelen Bar Plot: mr, ta, as')\n",
    "path = './results/figs/relative_length/'\n",
    "plt.savefig(path+'9_logscale_barplot_mr_ta_as');"
   ]
  },
  {
   "cell_type": "markdown",
   "metadata": {},
   "source": [
    "### Address pawiki which only had one featured article"
   ]
  },
  {
   "cell_type": "code",
   "execution_count": null,
   "metadata": {},
   "outputs": [],
   "source": [
    "#wikicode_pa has only one featured article\n",
    "df_relative_length.loc[df_relative_length['wikicode'] == 'pawiki']"
   ]
  },
  {
   "cell_type": "code",
   "execution_count": null,
   "metadata": {},
   "outputs": [],
   "source": [
    "median_value_pa = df_relative_length[df_relative_length['wikicode']== 'pawiki'].page_len"
   ]
  },
  {
   "cell_type": "markdown",
   "metadata": {},
   "source": [
    "### Address tcywiki and satwiki which had zero featured articles"
   ]
  },
  {
   "cell_type": "code",
   "execution_count": null,
   "metadata": {},
   "outputs": [],
   "source": [
    "tcy_articles_r = wmf.mariadb.run(articles_len_wiki_query, 'tcywiki')\n",
    "sat_articles_r = wmf.mariadb.run(articles_len_wiki_query, 'satwiki')"
   ]
  },
  {
   "cell_type": "markdown",
   "metadata": {},
   "source": [
    "#### start by cleaning tcy_articles_r data"
   ]
  },
  {
   "cell_type": "code",
   "execution_count": null,
   "metadata": {},
   "outputs": [],
   "source": [
    "# |\n",
    "#check to see if any of the page_ids are redirects or double redirects\n",
    "((tcy_articles_r['p1_is_redirect']==1) & (tcy_articles_r['is_double_redirect']==1)).any()"
   ]
  },
  {
   "cell_type": "code",
   "execution_count": null,
   "metadata": {},
   "outputs": [],
   "source": [
    "# |\n",
    "#check to see if any of the page_ids are redirects or double redirects\n",
    "((tcy_articles_r['p1_is_redirect']==1) | (tcy_articles_r['is_double_redirect']==1)).any()"
   ]
  },
  {
   "cell_type": "code",
   "execution_count": null,
   "metadata": {},
   "outputs": [],
   "source": [
    "# act on the results ...featured_pages_redirects_r\n",
    "\n",
    "#create a df \n",
    "all_surviving_articles_tcy = tcy_articles_r[['page_id','page_title', 'page_len']] \n",
    "\n",
    "#seperate the redirected items into their own df\n",
    "redirects_tcy = tcy_articles_r.loc[tcy_articles_r['p1_is_redirect']==1]\n",
    "#pull only p1.page_id, p1.page_title, p1.page_len \n",
    "redirect_df_tcy = redirects_tcy[['page_id','page_title','page_len']] \n",
    "\n",
    "#remove the redirect items from the all_surviving_articles df & create global articles df\n",
    "articles_tcy =  all_surviving_articles_tcy[~all_surviving_articles_tcy.isin(redirect_df_tcy)].dropna(how='all')\n"
   ]
  },
  {
   "cell_type": "markdown",
   "metadata": {},
   "source": [
    "#### now clean sat_articles_r data"
   ]
  },
  {
   "cell_type": "code",
   "execution_count": null,
   "metadata": {},
   "outputs": [],
   "source": [
    "# Now with sat_articles_r\n",
    "#check to see if any of the page_ids are redirects or double redirects\n",
    "((sat_articles_r['p1_is_redirect']==1) & (sat_articles_r['is_double_redirect']==1)).any()"
   ]
  },
  {
   "cell_type": "code",
   "execution_count": null,
   "metadata": {},
   "outputs": [],
   "source": [
    "# |\n",
    "#check to see if any of the page_ids are redirects or double redirects\n",
    "((sat_articles_r['p1_is_redirect']==1) | (sat_articles_r['is_double_redirect']==1)).any()"
   ]
  },
  {
   "cell_type": "code",
   "execution_count": null,
   "metadata": {},
   "outputs": [],
   "source": [
    "# act on the results ...featured_pages_redirects_r\n",
    "\n",
    "#create a df \n",
    "all_surviving_articles_sat = sat_articles_r[['page_id','page_title', 'page_len']] \n",
    "\n",
    "#seperate the redirected items into their own df\n",
    "redirects_sat = sat_articles_r.loc[sat_articles_r['p1_is_redirect']==1]\n",
    "#pull only p1.page_id, p1.page_title, p1.page_len \n",
    "redirect_df_sat = redirects_sat[['page_id','page_title','page_len']] \n",
    "\n",
    "#remove the redirect items from the all_surviving_articles df & create global articles df\n",
    "articles_sat =  all_surviving_articles_sat[~all_surviving_articles_sat.isin(redirect_df_sat)].dropna(how='all')\n"
   ]
  },
  {
   "cell_type": "code",
   "execution_count": null,
   "metadata": {},
   "outputs": [],
   "source": [
    "articles_tcy.info()"
   ]
  },
  {
   "cell_type": "code",
   "execution_count": null,
   "metadata": {},
   "outputs": [],
   "source": [
    "articles_sat.info()"
   ]
  },
  {
   "cell_type": "code",
   "execution_count": null,
   "metadata": {},
   "outputs": [],
   "source": [
    "median_values_sat = articles_sat['page_len'].median()\n",
    "median_values_sat "
   ]
  },
  {
   "cell_type": "code",
   "execution_count": null,
   "metadata": {},
   "outputs": [],
   "source": [
    "articles_sat['page_len'].hist(bins=30, figsize=(16,18))\n",
    "plt.ylabel('Count')\n",
    "plt.xlabel('Page Length')\n",
    "plt.title('Page Length Distribution: sat')\n",
    "path = './results/figs/relative_length/'\n",
    "plt.savefig(path+'10_pagelen_dis_sat');"
   ]
  },
  {
   "cell_type": "code",
   "execution_count": null,
   "metadata": {},
   "outputs": [],
   "source": [
    "median_values_tcy = articles_tcy['page_len'].median()\n",
    "median_values_tcy"
   ]
  },
  {
   "cell_type": "code",
   "execution_count": null,
   "metadata": {},
   "outputs": [],
   "source": [
    "articles_tcy['page_len'].hist(bins=20, figsize=(16,18))\n",
    "plt.ylabel('Count')\n",
    "plt.xlabel('Page Length')\n",
    "plt.title('Page Length Distribution: tcy')\n",
    "path = './results/figs/relative_length/'\n",
    "plt.savefig(path+'11_pagelen_dis_tcy');"
   ]
  },
  {
   "cell_type": "markdown",
   "metadata": {},
   "source": [
    "## create an index of median values"
   ]
  },
  {
   "cell_type": "code",
   "execution_count": null,
   "metadata": {},
   "outputs": [],
   "source": [
    "#first convert tcy and sat median values into a df\n",
    "tcy_sat = pd.DataFrame({'wikicode': {0:'satwiki', 1: 'tcywiki'},\n",
    "                        'page_len': {0:6438, 1:3133}\n",
    "                       })"
   ]
  },
  {
   "cell_type": "code",
   "execution_count": null,
   "metadata": {},
   "outputs": [],
   "source": [
    "median_values = median_values.to_frame().reset_index()"
   ]
  },
  {
   "cell_type": "code",
   "execution_count": null,
   "metadata": {},
   "outputs": [],
   "source": [
    "median_value_pa = median_value_pa.to_frame().reset_index().rename(columns={'index':'wikicode'})"
   ]
  },
  {
   "cell_type": "code",
   "execution_count": null,
   "metadata": {},
   "outputs": [],
   "source": [
    "median_value_pa['wikicode']= median_value_pa['wikicode'].map({461:'pawiki'})"
   ]
  },
  {
   "cell_type": "code",
   "execution_count": null,
   "metadata": {},
   "outputs": [],
   "source": [
    "IN_median_vi = pd.concat([median_values,median_value_pa, tcy_sat])"
   ]
  },
  {
   "cell_type": "code",
   "execution_count": null,
   "metadata": {},
   "outputs": [],
   "source": [
    "IN_median_vi.sort_values(['page_len']).reset_index(drop=True);"
   ]
  },
  {
   "cell_type": "code",
   "execution_count": null,
   "metadata": {},
   "outputs": [],
   "source": [
    "IN_median_vi.rename(columns={'page_len': 'mpl_index'}, inplace=True)"
   ]
  },
  {
   "cell_type": "code",
   "execution_count": null,
   "metadata": {},
   "outputs": [],
   "source": [
    "%store IN_median_vi"
   ]
  },
  {
   "cell_type": "code",
   "execution_count": null,
   "metadata": {},
   "outputs": [],
   "source": []
  }
 ],
 "metadata": {
  "kernelspec": {
   "display_name": "Python 3",
   "language": "python",
   "name": "python3"
  },
  "language_info": {
   "codemirror_mode": {
    "name": "ipython",
    "version": 3
   },
   "file_extension": ".py",
   "mimetype": "text/x-python",
   "name": "python",
   "nbconvert_exporter": "python",
   "pygments_lexer": "ipython3",
   "version": "3.7.8"
  }
 },
 "nbformat": 4,
 "nbformat_minor": 4
}
