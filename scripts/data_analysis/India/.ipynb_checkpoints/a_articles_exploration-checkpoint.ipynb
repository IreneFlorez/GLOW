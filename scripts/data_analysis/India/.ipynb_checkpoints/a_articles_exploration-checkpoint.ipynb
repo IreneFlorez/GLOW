{
 "cells": [
  {
   "cell_type": "markdown",
   "metadata": {},
   "source": [
    "# Quick Exploration"
   ]
  },
  {
   "cell_type": "raw",
   "metadata": {},
   "source": [
    "TODO\n",
    "1. add note: see relative length for PA wikis\n",
    "2. fix charts"
   ]
  },
  {
   "cell_type": "code",
   "execution_count": null,
   "metadata": {},
   "outputs": [],
   "source": []
  },
  {
   "cell_type": "code",
   "execution_count": null,
   "metadata": {},
   "outputs": [],
   "source": [
    "import matplotlib as mpl\n",
    "import matplotlib.pyplot as plt\n",
    "import matplotlib.ticker as ticker\n",
    "import matplotlib.dates as mdates\n",
    "import seaborn as sns\n",
    "import pandas as pd\n",
    "import numpy as np\n",
    "\n",
    "#%load_ext sql_magic\n",
    "%matplotlib inline"
   ]
  },
  {
   "cell_type": "code",
   "execution_count": null,
   "metadata": {},
   "outputs": [],
   "source": [
    "#fyi, file names updated\n",
    "#new_articles = pd.read_csv(\"../../data/processed/query_results/content_quality/b4_final_frame_updated_pv_topcs.csv\", sep=',', encoding = 'utf-8', parse_dates=True) "
   ]
  },
  {
   "cell_type": "code",
   "execution_count": null,
   "metadata": {},
   "outputs": [],
   "source": [
    "new_articles = pd.read_csv(\"../../data/processed/query_results/content_quality/final_frame_updated_pv_topcs.csv\", sep=',', encoding = 'utf-8', parse_dates=True) \n",
    "interim = pd.read_csv(\"../../data/processed/query_results/content_quality/interim_frame_updated.csv\", sep=',', encoding = 'utf-8', parse_dates=True)"
   ]
  },
  {
   "cell_type": "code",
   "execution_count": null,
   "metadata": {},
   "outputs": [],
   "source": [
    "final_frame_updated_pv_topics_suggs = pd.read_csv(\"../../data/processed/query_results/content_quality/b5_final_frame_updated_pv_topics_g_suggs.csv\", sep=',', encoding = 'utf-8') "
   ]
  },
  {
   "cell_type": "code",
   "execution_count": null,
   "metadata": {},
   "outputs": [],
   "source": [
    "interim_frame_updated_pv_topics_suggs = pd.read_csv(\"../../data/processed/query_results/content_quality/5_interim_frame_updated_w_g_suggs.csv\", sep=',', encoding = 'utf-8') "
   ]
  },
  {
   "cell_type": "code",
   "execution_count": null,
   "metadata": {},
   "outputs": [],
   "source": [
    "new_articles.info()"
   ]
  },
  {
   "cell_type": "code",
   "execution_count": null,
   "metadata": {},
   "outputs": [],
   "source": [
    "interim.info()"
   ]
  },
  {
   "cell_type": "code",
   "execution_count": null,
   "metadata": {},
   "outputs": [],
   "source": [
    "#check for outliers in page_len\n",
    "sns.stripplot(data = interim, y = 'page_len', jitter = True);\n",
    "#sns.plt.ylim(0, 500)\n",
    "#sns.plt.show()"
   ]
  },
  {
   "cell_type": "code",
   "execution_count": null,
   "metadata": {},
   "outputs": [],
   "source": [
    "#check for outliers in page_len\n",
    "sns.stripplot(data = interim, y = 'page_len', jitter = True);\n",
    "sns.plt.ylim(0, 100000)\n",
    "sns.plt.show()"
   ]
  },
  {
   "cell_type": "code",
   "execution_count": null,
   "metadata": {},
   "outputs": [],
   "source": [
    "# Review 'page_len' distribution \n",
    "plt.figure();\n",
    "age_hist = interim['page_len'].plot.hist(bins=10)\n",
    "age_hist.set_xlabel(\"page_len\")\n",
    "age_hist.set_ylabel(\"Articles\")\n",
    "age_hist.set_title('Distribution of page_len');"
   ]
  },
  {
   "cell_type": "code",
   "execution_count": null,
   "metadata": {},
   "outputs": [],
   "source": [
    "## exploratory analysis"
   ]
  },
  {
   "cell_type": "code",
   "execution_count": null,
   "metadata": {},
   "outputs": [],
   "source": [
    "new_articles.describe()"
   ]
  },
  {
   "cell_type": "code",
   "execution_count": null,
   "metadata": {},
   "outputs": [],
   "source": [
    "interim.describe()"
   ]
  },
  {
   "cell_type": "code",
   "execution_count": null,
   "metadata": {},
   "outputs": [],
   "source": [
    "na_agg = new_articles[[ #for aggregating\n",
    "'wikicode',\n",
    "'iwsitelinks',\n",
    "'article_type',\n",
    "'page_len',\n",
    "'relative_page_len',\n",
    "'total_edits',\n",
    "'editors',\n",
    "'views_1M',\n",
    "'views_1M_all',\n",
    "'editors_1stM',\n",
    "'edits_1M',\n",
    "'minor_edits',\n",
    "'major_editors',\n",
    "'IP_editors',\n",
    "'micro_editors',\n",
    "'revertrate',\n",
    "'first_edited',\n",
    "'last_edited',\n",
    "'talk_page_edits',\n",
    "'watch_count',\n",
    "'o_internal_links',\n",
    "'o_external_links',\n",
    "'incoming_links']]\n",
    "\n",
    "#select only numeric columns for hist plotting\n",
    "numerics = ['int', 'float64']\n",
    "na_numeric = new_articles.select_dtypes(include=numerics)"
   ]
  },
  {
   "cell_type": "code",
   "execution_count": null,
   "metadata": {},
   "outputs": [],
   "source": [
    "na_agg.groupby(['wikicode']).agg(['nunique'])"
   ]
  },
  {
   "cell_type": "code",
   "execution_count": null,
   "metadata": {},
   "outputs": [],
   "source": [
    "na_agg.groupby(['wikicode']).agg(['median', 'max'])"
   ]
  },
  {
   "cell_type": "code",
   "execution_count": null,
   "metadata": {},
   "outputs": [],
   "source": [
    "na_numeric.hist(figsize=(15,15));"
   ]
  },
  {
   "cell_type": "code",
   "execution_count": null,
   "metadata": {},
   "outputs": [],
   "source": [
    "new_articles.corr()"
   ]
  },
  {
   "cell_type": "code",
   "execution_count": null,
   "metadata": {},
   "outputs": [],
   "source": [
    "corr = new_articles.corr()\n",
    "corr = (corr)\n",
    "sns.heatmap(corr,\n",
    "           xticklabels=corr.columns.values,\n",
    "           yticklabels=corr.columns.values,\n",
    "           cmap=\"coolwarm\", center=0);"
   ]
  },
  {
   "cell_type": "code",
   "execution_count": null,
   "metadata": {},
   "outputs": [],
   "source": [
    "plt.figure(figsize = (20,8))\n",
    "sns.heatmap(new_articles.corr(), annot=True, cmap='coolwarm');"
   ]
  },
  {
   "cell_type": "code",
   "execution_count": null,
   "metadata": {},
   "outputs": [],
   "source": [
    "#new articles - full frame\n",
    "plt.figure(figsize = (21,19))\n",
    "sns.heatmap(final_frame_updated_pv_topics_suggs.corr(), annot=True, cmap='coolwarm');"
   ]
  },
  {
   "cell_type": "markdown",
   "metadata": {},
   "source": [
    "## Isolated/Underdeveloped articles"
   ]
  },
  {
   "cell_type": "code",
   "execution_count": null,
   "metadata": {},
   "outputs": [],
   "source": [
    "#o_internal_links\to_external_links\n",
    "zero_oel = new_articles[new_articles['o_internal_links']==0]\n",
    "zero_oil = new_articles[new_articles['o_external_links']==0]\n",
    "zero_in_links =  new_articles[new_articles['incoming_links']==0]"
   ]
  },
  {
   "cell_type": "code",
   "execution_count": null,
   "metadata": {},
   "outputs": [],
   "source": [
    "len(new_articles[new_articles['o_internal_links']==0])"
   ]
  },
  {
   "cell_type": "code",
   "execution_count": null,
   "metadata": {},
   "outputs": [],
   "source": [
    "len(new_articles[new_articles['o_external_links']==0])"
   ]
  },
  {
   "cell_type": "code",
   "execution_count": null,
   "metadata": {},
   "outputs": [],
   "source": [
    "z = len(new_articles[new_articles['incoming_links']==0])\n",
    "z"
   ]
  },
  {
   "cell_type": "code",
   "execution_count": null,
   "metadata": {},
   "outputs": [],
   "source": [
    "z/len(new_articles)"
   ]
  },
  {
   "cell_type": "code",
   "execution_count": null,
   "metadata": {},
   "outputs": [],
   "source": [
    "zero_out_links_mask = (new_articles['o_internal_links']== 0) & (new_articles['o_external_links'] == 0)\n",
    "zero_out_links = new_articles.loc[zero_out_links_mask]"
   ]
  },
  {
   "cell_type": "code",
   "execution_count": null,
   "metadata": {},
   "outputs": [],
   "source": [
    "len(zero_out_links)"
   ]
  },
  {
   "cell_type": "code",
   "execution_count": null,
   "metadata": {},
   "outputs": [],
   "source": [
    "zero_out_links.wikicode.unique()"
   ]
  },
  {
   "cell_type": "code",
   "execution_count": null,
   "metadata": {},
   "outputs": [],
   "source": [
    "zero_out_links.describe()"
   ]
  },
  {
   "cell_type": "code",
   "execution_count": null,
   "metadata": {},
   "outputs": [],
   "source": [
    "zero_oel.describe()"
   ]
  },
  {
   "cell_type": "code",
   "execution_count": null,
   "metadata": {},
   "outputs": [],
   "source": [
    "zero_oil.describe()"
   ]
  },
  {
   "cell_type": "code",
   "execution_count": null,
   "metadata": {},
   "outputs": [],
   "source": []
  }
 ],
 "metadata": {
  "kernelspec": {
   "display_name": "Python 3",
   "language": "python",
   "name": "python3"
  },
  "language_info": {
   "codemirror_mode": {
    "name": "ipython",
    "version": 3
   },
   "file_extension": ".py",
   "mimetype": "text/x-python",
   "name": "python",
   "nbconvert_exporter": "python",
   "pygments_lexer": "ipython3",
   "version": "3.7.8"
  }
 },
 "nbformat": 4,
 "nbformat_minor": 4
}
