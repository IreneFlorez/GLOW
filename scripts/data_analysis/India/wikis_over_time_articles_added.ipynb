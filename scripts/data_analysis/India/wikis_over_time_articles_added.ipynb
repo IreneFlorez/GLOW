{
 "cells": [
  {
   "cell_type": "markdown",
   "metadata": {},
   "source": [
    "# Wikis over time: Articles Added"
   ]
  },
  {
   "cell_type": "code",
   "execution_count": null,
   "metadata": {},
   "outputs": [],
   "source": [
    "import datetime\n",
    "from datetime import datetime, timedelta, date\n",
    "#import dateutil\n",
    "\n",
    "import matplotlib as mpl\n",
    "import matplotlib.pyplot as plt\n",
    "import matplotlib.ticker as ticker\n",
    "import matplotlib.dates as mdates\n",
    "import seaborn as sns\n",
    "import pandas as pd\n",
    "import numpy as np\n",
    "\n",
    "#%load_ext sql_magic\n",
    "%matplotlib inline"
   ]
  },
  {
   "cell_type": "code",
   "execution_count": null,
   "metadata": {},
   "outputs": [],
   "source": [
    "%run ../.././data_wrangling/2b_data_handling.ipynb"
   ]
  },
  {
   "cell_type": "code",
   "execution_count": null,
   "metadata": {},
   "outputs": [],
   "source": [
    "c_w_editors = pd.read_csv(\"../../../data/raw/editors/2019/tiger2_participants_report/wiki_editor_art_counts.csv\", sep=',', encoding = 'utf-8', parse_dates=True)\n",
    "c_w_editors.columns = ['language_name', 'article_total', 'total_editor_count', 'contest_link']\n",
    "c_w_editors['language_name'] = c_w_editors['language_name'].replace({'Bengali':'Bangla'})"
   ]
  },
  {
   "cell_type": "code",
   "execution_count": null,
   "metadata": {},
   "outputs": [],
   "source": [
    "glow_wikis = pd.read_csv(\"../../../data/raw/glow_wikis.csv\", sep=',', encoding = 'utf-8', parse_dates=True)"
   ]
  },
  {
   "cell_type": "code",
   "execution_count": null,
   "metadata": {},
   "outputs": [],
   "source": [
    "#dates for chart filtering\n",
    "import datetime\n",
    "z = datetime.date(2018,1,1)\n",
    "y = datetime.date(2019,1,1)\n",
    "ptp = datetime.date(2018,5,1)\n",
    "c = datetime.date(2019,10,10)\n",
    "e = datetime.date(2020,1,11)"
   ]
  },
  {
   "cell_type": "markdown",
   "metadata": {},
   "source": [
    "## Articles added 2016-2019"
   ]
  },
  {
   "cell_type": "code",
   "execution_count": null,
   "metadata": {},
   "outputs": [],
   "source": [
    "new_per_wp_16_20 = pd.read_csv(\"../../../data/processed/query_results/regional_counts/edited_pages_new_16_20.csv\",sep=',', encoding = 'utf-8', parse_dates=True)\n",
    "new_per_wp_16_20['month'] = pd.to_datetime(new_per_wp_16_20['month'])\n",
    "new_per_wp_16_20['month_year']= new_per_wp_16_20['month'].dt.to_period('M')\n",
    "new_per_wp_16_20['date'] = new_per_wp_16_20['month'].apply(pd.to_datetime)\n",
    "\n",
    "new_per_wp_16_20['date'] = new_per_wp_16_20['date'].apply(pd.to_datetime)\n",
    "new_per_wp_16_20['date'] =  pd.to_datetime(new_per_wp_16_20['date'],utc=True)\n",
    "new_per_wp_16_20['date'] = new_per_wp_16_20['date'].dt.date\n",
    "new_per_wp_16_20['month'] = pd.to_datetime(new_per_wp_16_20['month'],utc=True) # trouble, still have diff timezone aware/notaware entries\n",
    "new_per_wp_16_20['year'] = new_per_wp_16_20['year'].astype(str).astype(int)"
   ]
  },
  {
   "cell_type": "code",
   "execution_count": null,
   "metadata": {},
   "outputs": [],
   "source": [
    "new_per_wp_16_20.groupby('project')['new_pages'].describe()"
   ]
  },
  {
   "cell_type": "code",
   "execution_count": null,
   "metadata": {},
   "outputs": [],
   "source": [
    "avg_new_pages_by_project = new_per_wp_16_20.groupby('project')['new_pages'].mean()\n",
    "avg_new_pages_by_project.sort_values(ascending=False).plot(kind='bar');"
   ]
  },
  {
   "cell_type": "code",
   "execution_count": null,
   "metadata": {},
   "outputs": [],
   "source": [
    "sns.set() \n",
    "fig = plt.figure(figsize=(15,11))\n",
    "ax = fig.add_subplot(111)\n",
    "\n",
    "ax.set_title('India pages added per month 2016-2019')\n",
    "sns.lineplot(x=\"month\", y=\"new_pages\", hue=\"countries\",  \n",
    "            data=new_per_wp_16_20[new_per_wp_16_20.countries.isin(['India'])])\n",
    "\n",
    "plt.xticks(rotation=45)\n",
    "plt.title('Indic Wikis: number pages added per month 2016-2020')\n",
    "\n",
    "plt.tight_layout()\n",
    "#plt.savefig('figs/p_GLOW_avg_pages_added_per_month_2016_2020');\n",
    "plt.savefig('../../../results/figs/regional_counts/india/pages_added_per_month_GLOW_India_2016_2020.png')\n",
    "plt.show();"
   ]
  },
  {
   "cell_type": "code",
   "execution_count": null,
   "metadata": {},
   "outputs": [],
   "source": [
    "sns.set() \n",
    "fig = plt.figure(figsize=(15,11))\n",
    "ax = fig.add_subplot(111)\n",
    "\n",
    "ax.set_title('India wikis pages added per month 2016-2020')\n",
    "sns.lineplot(x=\"date\", y=\"new_pages\", hue=\"project\", \n",
    "            data=new_per_wp_16_20[new_per_wp_16_20.countries.isin(['India'])])\n",
    "\n",
    "plt.xticks(rotation=45)\n",
    "plt.setp(ax.get_xticklabels()[1::2], visible=False, weight='light')\n",
    "plt.title('Indic wikis: number of pages added per month 2016-2020')\n",
    "#ax.set_xlim(z, new_articles_df['date'].max())\n",
    "#ax.set_ylim([0, 3000])\n",
    "plt.tight_layout()\n",
    "plt.show();"
   ]
  },
  {
   "cell_type": "code",
   "execution_count": null,
   "metadata": {},
   "outputs": [],
   "source": [
    "sns.set() \n",
    "fig = plt.figure(figsize=(15,11))\n",
    "ax = fig.add_subplot(111)\n",
    "\n",
    "ax.set_title('India pages added per month 2018-2020')\n",
    "sns.lineplot(x=\"date\", y=\"new_pages\", \n",
    "            data=new_per_wp_16_20[new_per_wp_16_20.countries.isin(['India'])])\n",
    "\n",
    "plt.xticks(rotation=45)\n",
    "plt.title('Indic Wikis: number of pages added per month 2018-2020')\n",
    "\n",
    "plt.tight_layout()\n",
    "\n",
    "\n",
    "\n",
    "fig.autofmt_xdate()\n",
    "#ax.set_xlim([datetime.date(2018, 1, 1), datetime.date(2020, 6, 1)])\n",
    "ax.set_xlim(z, new_per_wp_16_20['date'].max())\n",
    "ax.set_ylim([0, 900])\n",
    "\n",
    "#plt.savefig('../../../results/figs/regional_counts/india/pages_added_per_month_GLOW_India_2018_2020.png')\n",
    "plt.show();"
   ]
  },
  {
   "cell_type": "markdown",
   "metadata": {},
   "source": [
    "## 2018/19-20"
   ]
  },
  {
   "cell_type": "raw",
   "metadata": {},
   "source": [
    "new_per_wp = pd.read_csv(\"../../../data/processed/query_results/regional_counts/edited_pages_new_19_20.csv\",sep=',', encoding = 'utf-8', parse_dates=True)\n",
    "new_per_wp_20 = pd.read_csv(\"../../../data/processed/query_results/regional_counts/edited_pages_new_india_indonesia_2020.csv\",sep=',', encoding = 'utf-8', parse_dates=True)\n",
    "\n",
    "new_per_wp['month'] = pd.to_datetime(new_per_wp['month'])\n",
    "new_per_wp['month_year']= new_per_wp['month'].dt.to_period('M')\n",
    "new_per_wp['date'] = new_per_wp['month'].apply(pd.to_datetime)\n",
    "del new_per_wp['index']\n",
    "                                                           \n",
    "new_per_wp_20['month'] = pd.to_datetime(new_per_wp_20['month'])\n",
    "new_per_wp_20['year']= new_per_wp_20['month'].dt.to_period('Y')\n",
    "columnsTitles = ['month', 'new_pages', 'project', 'year', 'countries','month_year', 'date']\n",
    "new_per_wp_20 = new_per_wp_20.reindex(columns=columnsTitles)\n",
    "\n",
    "# India_new_per_wp['date'] = pd.to_datetime(India_new_per_wp['month'], format = '%Y-%m-%d')"
   ]
  },
  {
   "cell_type": "code",
   "execution_count": null,
   "metadata": {},
   "outputs": [],
   "source": [
    "most_recent_pull = pd.read_csv(\"../../../data/processed/query_results/regional_counts/edited_pages_new_June2020pull.csv\",sep=',', encoding = 'utf-8', parse_dates=True)\n",
    "\n",
    "most_recent_pull['month'] = pd.to_datetime(most_recent_pull['month'])\n",
    "most_recent_pull['month_year']= most_recent_pull['month'].dt.to_period('M')\n",
    "most_recent_pull['date'] = most_recent_pull['month'].apply(pd.to_datetime)\n",
    "most_recent_pull['year'] = most_recent_pull['month'].dt.year"
   ]
  },
  {
   "cell_type": "code",
   "execution_count": null,
   "metadata": {},
   "outputs": [],
   "source": [
    "new_articles_df = most_recent_pull.copy()\n",
    "\n",
    "new_articles_df['date'] = new_articles_df['date'].apply(pd.to_datetime)\n",
    "new_articles_df['date'] =  pd.to_datetime(new_articles_df['date'],utc=True)\n",
    "new_articles_df['date'] = new_articles_df['date'].dt.date\n",
    "new_articles_df['month'] = pd.to_datetime(new_articles_df['month'],utc=True) # trouble, still have diff timezone aware/notaware entries\n",
    "new_articles_df['year'] = new_articles_df['year'].astype(str).astype(int)\n",
    "\n",
    "new_articles_df = new_articles_df.drop_duplicates(subset=['countries', 'date', 'new_pages', 'project'], keep=\"first\")"
   ]
  },
  {
   "cell_type": "code",
   "execution_count": null,
   "metadata": {},
   "outputs": [],
   "source": [
    "india_df = new_articles_df[(new_articles_df['countries']=='India')]\n",
    "india_df_2019 = new_articles_df[(new_articles_df['countries']=='India') & (new_articles_df['year'] == 2019)]\n",
    "india_df_2019_20 = new_articles_df[(new_articles_df['countries']=='India') & (new_articles_df['year'] >= 2019)]"
   ]
  },
  {
   "cell_type": "code",
   "execution_count": null,
   "metadata": {},
   "outputs": [],
   "source": [
    "#look for dupes in a smaller dataset\n",
    "vals = india_df_2019_20[\"new_pages\"]\n",
    "india_df_2019_20[vals.isin(vals[vals.duplicated()])].sort_values(by=\"new_pages\")"
   ]
  },
  {
   "cell_type": "code",
   "execution_count": null,
   "metadata": {},
   "outputs": [],
   "source": [
    "import datetime\n",
    "#df = new_articles_df[(new_articles_df['date'] >= '2018-01-01') & (new_articles_df['date'] < '2020-06-01')]\n",
    "#df = new_articles_df[(new_articles_df['date']>=datetime.date(2018,1,1)) & (new_articles_df['date']<datetime.date(2020,6,1))]\n",
    "\n",
    "india_glow_start = datetime.datetime.strptime(query_vars['contest_start_dt_first_day_of_m'], '%Y-%m-%d').date()\n",
    "india_glow_end = datetime.datetime.strptime(query_vars['contest_end_dt_first_day_next_m'], '%Y-%m-%d').date()\n",
    "india_glow_start_12Mpre = datetime.datetime.strptime(query_vars['contest_start_dt_first_day_12m_pre'], '%Y-%m-%d').date()\n",
    "india_glow_start_4Mpre = datetime.datetime.strptime(query_vars['contest_start_dt_first_day_4m_pre'], '%Y-%m-%d').date()\n",
    "\n",
    "india_glow_12M_pre_mask = (new_articles_df['date']>= india_glow_start_12Mpre) & (new_articles_df['date'] < india_glow_start) & (new_articles_df['countries']=='India')\n",
    "india_glow_4M_pre_mask = (new_articles_df['date']>= india_glow_start_4Mpre) & (new_articles_df['date'] < india_glow_start) & (new_articles_df['countries']=='India')\n",
    "india_glow_mask = (new_articles_df['date']>= india_glow_start) & (new_articles_df['date'] < india_glow_end) & (new_articles_df['countries']=='India')\n",
    "india_glow_2019_post_mask = (new_articles_df['date'] >= india_glow_end) & (new_articles_df['countries']=='India')\n",
    "\n",
    "\n",
    "india_glow_12M_pre = new_articles_df.loc[india_glow_12M_pre_mask]\n",
    "india_glow_4M_pre = new_articles_df.loc[india_glow_4M_pre_mask]\n",
    "india_glow = new_articles_df.loc[india_glow_mask]\n",
    "india_post_glow = new_articles_df.loc[india_glow_2019_post_mask]\n",
    "\n",
    "#india_post_glow = new_articles_df.loc[(new_articles_df['date'] > '2020-01-01') & (new_articles_df['countries'] =='India')]"
   ]
  },
  {
   "cell_type": "markdown",
   "metadata": {},
   "source": [
    "### Data exploration"
   ]
  },
  {
   "cell_type": "code",
   "execution_count": null,
   "metadata": {},
   "outputs": [],
   "source": [
    "india_df.groupby('project')['new_pages'].describe()"
   ]
  },
  {
   "cell_type": "code",
   "execution_count": null,
   "metadata": {},
   "outputs": [],
   "source": [
    "sns.set() \n",
    "fig = plt.figure(figsize=(15,11))\n",
    "ax = fig.add_subplot(111)\n",
    "\n",
    "ax.set_title('India pages added per month 2019-2020')\n",
    "sns.lineplot(x=\"month\", y=\"new_pages\", hue=\"countries\", \n",
    "            data=new_articles_df[new_articles_df.countries.isin(['India'])])\n",
    "\n",
    "plt.xticks(rotation=45)\n",
    "plt.title('Indic Wikis: number of pages added per month Jan_2019-March_2020')\n",
    "\n",
    "plt.tight_layout()\n",
    "\n",
    "plt.savefig('../../../results/figs/regional_counts/india/pages_added_per_month_GLOW_India_2019_2020.png')\n",
    "plt.show();"
   ]
  },
  {
   "cell_type": "markdown",
   "metadata": {},
   "source": [
    "## Looking at data by time periods to explore contest period impacts"
   ]
  },
  {
   "cell_type": "markdown",
   "metadata": {},
   "source": [
    "#### 2019 - 2020"
   ]
  },
  {
   "cell_type": "code",
   "execution_count": null,
   "metadata": {},
   "outputs": [],
   "source": [
    "india_glow_12M_pre.describe()"
   ]
  },
  {
   "cell_type": "code",
   "execution_count": null,
   "metadata": {},
   "outputs": [],
   "source": [
    "india_glow_5M_pre.month_year.unique()"
   ]
  },
  {
   "cell_type": "code",
   "execution_count": null,
   "metadata": {},
   "outputs": [],
   "source": [
    "india_glow_4M_pre.describe()"
   ]
  },
  {
   "cell_type": "code",
   "execution_count": null,
   "metadata": {},
   "outputs": [],
   "source": [
    "india_glow_5M_pre.describe()"
   ]
  },
  {
   "cell_type": "code",
   "execution_count": null,
   "metadata": {},
   "outputs": [],
   "source": [
    "india_glow.month_year.unique()"
   ]
  },
  {
   "cell_type": "code",
   "execution_count": null,
   "metadata": {},
   "outputs": [],
   "source": [
    "india_glow.describe()"
   ]
  },
  {
   "cell_type": "code",
   "execution_count": null,
   "metadata": {},
   "outputs": [],
   "source": [
    "india_post_glow.month_year.unique()"
   ]
  },
  {
   "cell_type": "code",
   "execution_count": null,
   "metadata": {},
   "outputs": [],
   "source": [
    "india_post_glow.describe()"
   ]
  },
  {
   "cell_type": "code",
   "execution_count": null,
   "metadata": {},
   "outputs": [],
   "source": [
    "india_glow_12M_pre.groupby('project')['new_pages'].describe()"
   ]
  },
  {
   "cell_type": "code",
   "execution_count": null,
   "metadata": {},
   "outputs": [],
   "source": [
    "india_glow_5M_pre.groupby('project')['new_pages'].describe()"
   ]
  },
  {
   "cell_type": "code",
   "execution_count": null,
   "metadata": {},
   "outputs": [],
   "source": [
    "a = india_glow_4M_pre.groupby('project')['new_pages'].describe()\n",
    "a"
   ]
  },
  {
   "cell_type": "code",
   "execution_count": null,
   "metadata": {},
   "outputs": [],
   "source": [
    "c = india_glow.groupby('project')['new_pages'].describe()\n",
    "c"
   ]
  },
  {
   "cell_type": "code",
   "execution_count": null,
   "metadata": {},
   "outputs": [],
   "source": [
    "a = a.reset_index()\n",
    "c = c.reset_index()"
   ]
  },
  {
   "cell_type": "code",
   "execution_count": null,
   "metadata": {},
   "outputs": [],
   "source": [
    "change_df = a[['project', 'mean']].merge(c[['project', 'mean']], how='left', on='project')"
   ]
  },
  {
   "cell_type": "code",
   "execution_count": null,
   "metadata": {},
   "outputs": [],
   "source": [
    "change_df['change'] = (change_df['mean_x'] / change_df['mean_y'].shift(1) - 1).fillna(0)"
   ]
  },
  {
   "cell_type": "code",
   "execution_count": null,
   "metadata": {},
   "outputs": [],
   "source": [
    "change_df"
   ]
  },
  {
   "cell_type": "code",
   "execution_count": null,
   "metadata": {},
   "outputs": [],
   "source": [
    "india_glow_5M_pre.groupby('month_year')['new_pages'].describe()"
   ]
  },
  {
   "cell_type": "code",
   "execution_count": null,
   "metadata": {},
   "outputs": [],
   "source": [
    "india_glow.groupby('project')['new_pages'].describe()"
   ]
  },
  {
   "cell_type": "markdown",
   "metadata": {},
   "source": [
    "## Look at time periods by wiki"
   ]
  },
  {
   "cell_type": "code",
   "execution_count": null,
   "metadata": {},
   "outputs": [],
   "source": [
    "new_articles_df['pct_ch'] = (new_articles_df.groupby('project')['new_pages'].apply(pd.Series.pct_change) + 1)\n",
    "new_articles_df['percentile_rank'] = new_articles_df.groupby(['date', 'project'])['new_pages'].rank(pct=True)\n",
    "\n",
    "new_articles_df = new_articles_df.sort_values(['new_pages']).reset_index(drop=True)\n",
    "d= new_articles_df[new_articles_df.countries.isin(['India'])]\n",
    "d = d.copy()"
   ]
  },
  {
   "cell_type": "code",
   "execution_count": null,
   "metadata": {},
   "outputs": [],
   "source": [
    "d.info()"
   ]
  },
  {
   "cell_type": "code",
   "execution_count": null,
   "metadata": {},
   "outputs": [],
   "source": [
    "d.describe()"
   ]
  },
  {
   "cell_type": "code",
   "execution_count": null,
   "metadata": {},
   "outputs": [],
   "source": []
  },
  {
   "cell_type": "code",
   "execution_count": null,
   "metadata": {},
   "outputs": [],
   "source": [
    "#df.query('during > pre')\n",
    "#(df[\"B\"] > 50) & (df[\"C\"] == 900)\n",
    "# df['col'] = df['col'].dt.to_period(\"Q\") #avg by quarter"
   ]
  },
  {
   "cell_type": "code",
   "execution_count": null,
   "metadata": {},
   "outputs": [],
   "source": [
    "#create before, during, after columns\n",
    "#https://stackoverflow.com/questions/47218138/python-pandas-if-datetime-values-fall-under-certain-date-duration-create-a-col\n",
    "#https://stackoverflow.com/questions/19913659/pandas-conditional-creation-of-a-series-dataframe-column?noredirect=1&lq=1\n",
    "\n",
    "### id periods                                                                                                                 \n",
    "period_conditions = [\n",
    "    (d['date'] < ptp), #hist\n",
    "    (d['date'] >= ptp) & (d['date'] < c),#pre\n",
    "    (d['date'] >= c) & (d['date'] < e),#during\n",
    "    (d['date'] >e)#post\n",
    "              ]\n",
    "mchoices = ['hist_max', 'pre_max', 'during_max', 'post_max']\n",
    "d['period'] = np.select(period_conditions, mchoices, default='m')\n",
    "#get each group's pre, during, & post contest max \n",
    "df_max = d.groupby(['project', 'period']).agg({'new_pages':'max'}).unstack('period').reset_index()\n",
    "df_max.columns = ['project', 'during_max', 'post_max', 'pre_max']\n",
    "\n",
    "#get each group's pre & during & post contest avg\n",
    "achoices = ['hist_avg', 'pre_avg', 'during_avg', 'post_avg']\n",
    "d['period'] = np.select(period_conditions, achoices, default='a')\n",
    "df_avg = d.groupby(['project', 'period']).agg({'new_pages':'mean'}).unstack('period').reset_index()\n",
    "df_avg.columns = ['project', 'during_avg', 'post_avg', 'pre_avg']\n",
    "\n",
    "\n",
    "#during_max','hist_max','post_max','pre_max'"
   ]
  },
  {
   "cell_type": "code",
   "execution_count": null,
   "metadata": {},
   "outputs": [],
   "source": [
    "#merge\n",
    "df_avg_max= df_max.merge(df_avg, how='left', on='project').drop_duplicates().reset_index()\n",
    "#flatten multiindex and rename columns, then delete index column\n",
    "#df_avg_max.columns = df_avg_max.columns.get_level_values(0)"
   ]
  },
  {
   "cell_type": "code",
   "execution_count": null,
   "metadata": {},
   "outputs": [],
   "source": [
    "df_avg_max"
   ]
  },
  {
   "cell_type": "code",
   "execution_count": null,
   "metadata": {},
   "outputs": [],
   "source": [
    "#df_avg_max.columns =['index','project','during_max','hist_max','post_max','pre_max','during_avg','hist_avg','post_avg','pre_avg']\n",
    "del df_avg_max['index']"
   ]
  },
  {
   "cell_type": "code",
   "execution_count": null,
   "metadata": {},
   "outputs": [],
   "source": [
    "#removed hist"
   ]
  },
  {
   "cell_type": "code",
   "execution_count": null,
   "metadata": {},
   "outputs": [],
   "source": [
    "### categorize max and averages\n",
    "ma_labels = ['sustained', 'post','contained', 'pre']\n",
    "#identify rows where wikis reached new highs during the contest, compared to pre contest etc.\n",
    "\n",
    "max_cond = [\n",
    "    (df_avg_max['during_max'] > df_avg_max['pre_max']) & (df_avg_max['post_max'] >df_avg_max['during_max']), #sustained\n",
    "    \n",
    "    \n",
    "    (df_avg_max['post_max'] > df_avg_max['during_max']) & (df_avg_max['post_max'] > df_avg_max['pre_max']), #post-op\n",
    "    \n",
    "    \n",
    "    (df_avg_max['during_max'] > df_avg_max['post_max']) & (df_avg_max['during_max']>df_avg_max['pre_max'] ), #contest-only\n",
    "    \n",
    "   # (df_avg_max['hist_max'] > df_avg_max['pre_max']),#hist\n",
    "    (df_avg_max['pre_max'] > df_avg_max['during_max']) & (df_avg_max['pre_max'] > df_avg_max['post_max']),#pre\n",
    "    \n",
    "    \n",
    "]\n",
    " \n",
    "avg_cond = [\n",
    "    (df_avg_max['pre_avg']  < df_avg_max['during_avg']) & (df_avg_max['during_avg'] > df_avg_max['post_avg']), #sustained\n",
    "    \n",
    "    (df_avg_max['post_avg'] > df_avg_max['during_avg']) & (df_avg_max['post_avg']   > df_avg_max['pre_avg']), #post-op\n",
    "    \n",
    "    \n",
    "    (df_avg_max['during_avg'] > df_avg_max['pre_avg']) & (df_avg_max['during_avg']> df_avg_max['post_avg']), #contest-only\n",
    "    \n",
    "   # (df_avg_max['hist_avg'] > df_avg_max['pre_avg']),#hist\n",
    "    (df_avg_max['pre_avg'] > df_avg_max['during_avg']) & (df_avg_max['pre_avg']  > df_avg_max['post_avg']),#pre\n",
    "    \n",
    "]\n",
    "    \n",
    "\n",
    "df_avg_max['impact_group_max'] = np.select(max_cond, ma_labels, default='m')                                                 \n",
    "df_avg_max['impact_group_avg'] = np.select(avg_cond, ma_labels, default='a')"
   ]
  },
  {
   "cell_type": "code",
   "execution_count": null,
   "metadata": {},
   "outputs": [],
   "source": [
    "ig_u = df_avg_max.merge(glow_wikis, how='left', on='project').merge(c_w_editors, how='left', on='language_name').drop_duplicates().reset_index()"
   ]
  },
  {
   "cell_type": "code",
   "execution_count": null,
   "metadata": {},
   "outputs": [],
   "source": [
    "ig_u.columns"
   ]
  },
  {
   "cell_type": "code",
   "execution_count": null,
   "metadata": {},
   "outputs": [],
   "source": [
    "igu_cols = [\n",
    "'project', \n",
    " 'language_name',\n",
    " 'impact_group_max', \n",
    " 'impact_group_avg',\n",
    " 'total_editor_count',\n",
    " 'hist_max',\n",
    " 'pre_max',\n",
    " 'during_max',\n",
    " 'post_max',\n",
    " 'hist_avg',\n",
    " 'pre_avg',\n",
    " 'during_avg',\n",
    " 'post_avg', \n",
    " 'database_code',\n",
    " 'contest_link']\n",
    "ig_u = ig_u[igu_cols]"
   ]
  },
  {
   "cell_type": "code",
   "execution_count": null,
   "metadata": {},
   "outputs": [],
   "source": [
    "ig_u.sort_values(by=['impact_group_avg', 'impact_group_max', 'total_editor_count'])"
   ]
  },
  {
   "cell_type": "code",
   "execution_count": null,
   "metadata": {},
   "outputs": [],
   "source": [
    "ig_u.to_csv(\"../../data/processed/ig_u.csv\", index=False)"
   ]
  },
  {
   "cell_type": "code",
   "execution_count": null,
   "metadata": {},
   "outputs": [],
   "source": [
    "ig_u.groupby(['impact_group_max'])['total_editor_count'].mean().reset_index().sort_values(by='total_editor_count')"
   ]
  },
  {
   "cell_type": "code",
   "execution_count": null,
   "metadata": {},
   "outputs": [],
   "source": [
    "ig_u.groupby(['impact_group_avg'])['total_editor_count'].mean().reset_index().sort_values(by='total_editor_count')"
   ]
  },
  {
   "cell_type": "markdown",
   "metadata": {},
   "source": [
    "## Visualizing wiki activity given time periods"
   ]
  },
  {
   "cell_type": "code",
   "execution_count": null,
   "metadata": {},
   "outputs": [],
   "source": [
    "g = sns.FacetGrid(d, col=\"project\", col_wrap=5) \n",
    "g.map(plt.scatter, \"date\",\"new_pages\", alpha=.7)\n",
    "plt.gcf().set_size_inches(15, 15)\n",
    "plt.show()\n",
    "g.add_legend();"
   ]
  },
  {
   "cell_type": "code",
   "execution_count": null,
   "metadata": {},
   "outputs": [],
   "source": [
    "#divide into groups given the above and chart below\n",
    "g1 = ['hi.wikipedia.org', 'ta.wikipedia.org','bn.wikipedia.org', 'ur.wikipedia.org']\n",
    "g2 = ['ml.wikipedia.org', 'mr.wikipedia.org', 'pa.wikipedia.org']\n",
    "g3 = ['te.wikipedia.org', 'kn.wikipedia.org', 'sat.wikipedia.org']\n",
    "g4 = ['pnb.wikipedia.org']\n",
    "g5 = ['tcy.wikipedia.org', 'sa.wikipedia.org', 'as.wikipedia.org', 'gu.wikipedia.org', 'or.wikipedia.org']\n",
    "\n",
    "g1df = d[d.project.isin(g1)]\n",
    "g2df = d[d.project.isin(g2)]\n",
    "g3df = d[d.project.isin(g3)]\n",
    "g4df = d[d.project.isin(g4)]\n",
    "g5df = d[d.project.isin(g5)]\n",
    "\n",
    "#graph\n",
    "\n",
    "f, axes =  plt.subplots(nrows=2, ncols=3, figsize=(18, 6), sharex=True, sharey=True)\n",
    "plt.xticks(rotation=45)\n",
    "\n",
    "sns.lineplot(data=g5df[g5df.date>z], x='date', y='new_pages', hue=\"project\", ax=axes[0,0], legend='brief')\n",
    "sns.lineplot(data=g4df[g4df.date>z], x='date', y='new_pages', hue=\"project\", ax=axes[0,1], legend='brief')\n",
    "\n",
    "#sns.lineplot(data=d[d.project=='pnb.wikipedia.org'], x='date', y='new_pages', hue=\"project\", ax=axes[0,2], legend='brief')\n",
    "\n",
    "sns.lineplot(data=g3df[g3df.date>z], x='date', y='new_pages', hue=\"project\", ax=axes[1,0], legend='brief')\n",
    "sns.lineplot(data=g2df[g2df.date>z], x='date', y='new_pages', hue=\"project\", ax=axes[1,1], legend='brief')\n",
    "sns.lineplot(data=g1df[g1df.date>z], x='date', y='new_pages', hue=\"project\", ax=axes[1,2], legend='brief');"
   ]
  },
  {
   "cell_type": "code",
   "execution_count": null,
   "metadata": {},
   "outputs": [],
   "source": [
    "#divide into groups given the above and chart below\n",
    "n1 = ['bn.wikipedia.org', 'ur.wikipedia.org']\n",
    "n2 = ['ml.wikipedia.org', 'mr.wikipedia.org', ]\n",
    "n3 = ['te.wikipedia.org', 'gu.wikipedia.org','as.wikipedia.org','pa.wikipedia.org', 'ta.wikipedia.org']\n",
    "n4 = ['pnb.wikipedia.org','or.wikipedia.org','hi.wikipedia.org']\n",
    "n5 = ['tcy.wikipedia.org', 'sa.wikipedia.org', 'kn.wikipedia.org', 'sat.wikipedia.org']\n",
    "\n",
    "n1df = d[d.project.isin(n1)]\n",
    "n2df = d[d.project.isin(n2)]\n",
    "n3df = d[d.project.isin(n3)]\n",
    "n4df = d[d.project.isin(n4)]\n",
    "n5df = d[d.project.isin(n5)]\n",
    "\n",
    "#graph\n",
    "\n",
    "f, axes =  plt.subplots(nrows=2, ncols=3, figsize=(18, 6), sharex=True, sharey=True)\n",
    "plt.xticks(rotation=45)\n",
    "\n",
    "sns.lineplot(data=n5df[n5df.date>=c], x='date', y='pct_ch', hue=\"project\", ax=axes[0,0], legend='brief')\n",
    "\n",
    "\n",
    "#sns.lineplot(data=d[d.project=='pnb.wikipedia.org'], x='date', y='new_pages', hue=\"project\", ax=axes[0,2], legend='brief')\n",
    "\n",
    "sns.lineplot(data=n3df[n3df.date>=c], x='date', y='pct_ch', hue=\"project\", ax=axes[0,1], legend='brief')\n",
    "sns.lineplot(data=n2df[n2df.date>=c], x='date', y='pct_ch', hue=\"project\", ax=axes[0,2], legend='brief')\n",
    "\n",
    "sns.lineplot(data=n4df[n4df.date>=c], x='date', y='pct_ch', hue=\"project\", ax=axes[1,1], legend='brief')\n",
    "sns.lineplot(data=n1df[n1df.date>=c], x='date', y='pct_ch', hue=\"project\", ax=axes[1,2], legend='brief');"
   ]
  },
  {
   "cell_type": "code",
   "execution_count": null,
   "metadata": {},
   "outputs": [],
   "source": [
    "sns.set() \n",
    "fig = plt.figure(figsize=(15,11))\n",
    "ax = fig.add_subplot(111)\n",
    "\n",
    "ax.set_title('---')\n",
    "sns.lineplot(x=\"date\", y=\"new_pages\", hue=\"project\", \n",
    "            data=g1df)\n",
    "\n",
    "plt.xticks(rotation=45)\n",
    "plt.setp(ax.get_xticklabels()[1::2], visible=False, weight='light')\n",
    "plt.title('---')\n",
    "ax.set_xlim(z, new_articles_df['date'].max())\n",
    "ax.set_ylim([0, 3500])\n",
    "plt.tight_layout()\n",
    "plt.show();"
   ]
  },
  {
   "cell_type": "code",
   "execution_count": null,
   "metadata": {},
   "outputs": [],
   "source": [
    "#https://meta.wikimedia.org/wiki/Growing_Local_Language_Content_on_Wikipedia_(Project_Tiger_2.0)/Writing_Contest/Edit-a-thons_and_requests\n",
    "g0 =['te.wikipedia.org', 'ta.wikipedia.org','gu.wikipedia.org', 'pa.wikipedia.org']\n",
    "\n",
    "g0df = d[d.project.isin(g0)]\n",
    "\n",
    "sns.set() \n",
    "fig = plt.figure(figsize=(15,11))\n",
    "ax = fig.add_subplot(111)\n",
    "\n",
    "ax.set_title('---')\n",
    "sns.lineplot(x=\"date\", y=\"pct_ch\", hue=\"project\", \n",
    "            data=g0df)\n",
    "\n",
    "plt.xticks(rotation=45)\n",
    "plt.setp(ax.get_xticklabels()[1::2], visible=False, weight='light')\n",
    "plt.title('---')\n",
    "ax.set_xlim(y, new_articles_df['date'].max())\n",
    "#ax.set_ylim([0, 3000])\n",
    "plt.tight_layout()\n",
    "plt.show();"
   ]
  },
  {
   "cell_type": "code",
   "execution_count": null,
   "metadata": {},
   "outputs": [],
   "source": [
    "f, axes =  plt.subplots(nrows=1, ncols=3, figsize=(18, 6), sharex=True, sharey=True)\n",
    "plt.xticks(rotation=45)\n",
    "sns.lineplot(data=g0df[g0df.date>=c], x='date', y='new_pages', hue=\"project\", ax=axes[0], legend='brief')\n",
    "sns.lineplot(data=g2df[g2df.date>=c], x='date', y='new_pages', hue=\"project\", ax=axes[1], legend='brief')\n",
    "sns.lineplot(data=g1df[g1df.date>=c], x='date', y='new_pages', hue=\"project\", ax=axes[2], legend='brief');"
   ]
  },
  {
   "cell_type": "code",
   "execution_count": null,
   "metadata": {},
   "outputs": [],
   "source": [
    "f, axes =  plt.subplots(nrows=1, ncols=3, figsize=(18, 6), sharex=True, sharey=True)\n",
    "plt.xticks(rotation=45)\n",
    "sns.lineplot(data=g0df[g0df.date>=y], x='date', y='new_pages', hue=\"project\", ax=axes[0], legend='brief')\n",
    "sns.lineplot(data=g2df[g2df.date>=y], x='date', y='new_pages', hue=\"project\", ax=axes[1], legend='brief')\n",
    "sns.lineplot(data=g1df[g1df.date>=y], x='date', y='new_pages', hue=\"project\", ax=axes[2], legend='brief');"
   ]
  },
  {
   "cell_type": "code",
   "execution_count": null,
   "metadata": {},
   "outputs": [],
   "source": [
    "\n",
    "f, axes =  plt.subplots(nrows=1, ncols=3, figsize=(18, 6), sharex=True, sharey=True)\n",
    "plt.xticks(rotation=45)\n",
    "sns.lineplot(data=g0df[g0df.date>=z], x='date', y='new_pages', hue=\"project\", ax=axes[0], legend='brief')\n",
    "sns.lineplot(data=g2df[g2df.date>=z], x='date', y='new_pages', hue=\"project\", ax=axes[1], legend='brief')\n",
    "sns.lineplot(data=g1df[g1df.date>=z], x='date', y='new_pages', hue=\"project\", ax=axes[2], legend='brief');"
   ]
  },
  {
   "cell_type": "code",
   "execution_count": null,
   "metadata": {},
   "outputs": [],
   "source": [
    "c = datetime.date(2019,10,1)\n",
    "f, axes =  plt.subplots(nrows=1, ncols=3, figsize=(18, 6), sharex=True, sharey=True)\n",
    "plt.xticks(rotation=45)\n",
    "sns.lineplot(data=g0df[g0df.date>=c], x='date', y='pct_ch', ax=axes[0], legend='brief')\n",
    "sns.lineplot(data=g2df[g2df.date>=c], x='date', y='pct_ch', ax=axes[1], legend='brief')\n",
    "sns.lineplot(data=g1df[g1df.date>=c], x='date', y='pct_ch', ax=axes[2], legend='brief');"
   ]
  },
  {
   "cell_type": "code",
   "execution_count": null,
   "metadata": {},
   "outputs": [],
   "source": [
    "f, axes =  plt.subplots(nrows=1, ncols=2, figsize=(18, 6), sharex=True, sharey=True)\n",
    "plt.xticks(rotation=45)\n",
    "sns.lineplot(data=n3df[n3df.date>=c], x='date', y='pct_ch', hue=\"project\", ax=axes[0], legend='brief')\n",
    "sns.lineplot(data=n2df[n2df.date>c], x='date', y='pct_ch', hue=\"project\", ax=axes[1], legend='brief');"
   ]
  },
  {
   "cell_type": "code",
   "execution_count": null,
   "metadata": {},
   "outputs": [],
   "source": [
    "f, axes =  plt.subplots(nrows=1, ncols=2, figsize=(18, 6), sharex=True, sharey=True)\n",
    "plt.xticks(rotation=45)\n",
    "sns.lineplot(data=n3df[n3df.date>=y], x='date', y='pct_ch', hue=\"project\", ax=axes[0], legend='brief')\n",
    "sns.lineplot(data=n2df[n2df.date>y], x='date', y='pct_ch', hue=\"project\", ax=axes[1], legend='brief');"
   ]
  },
  {
   "cell_type": "code",
   "execution_count": null,
   "metadata": {},
   "outputs": [],
   "source": []
  },
  {
   "cell_type": "code",
   "execution_count": null,
   "metadata": {},
   "outputs": [],
   "source": [
    "sns.set() \n",
    "fig = plt.figure(figsize=(15,11))\n",
    "ax = fig.add_subplot(111)\n",
    "\n",
    "ax.set_title('---')\n",
    "sns.lineplot(x=\"date\", y=\"pct_ch\", hue=\"project\", \n",
    "            data=new_articles_df[new_articles_df.countries.isin(['India'])])\n",
    "\n",
    "plt.xticks(rotation=45)\n",
    "plt.setp(ax.get_xticklabels()[1::2], visible=False, weight='light')\n",
    "plt.title('---')\n",
    "ax.set_xlim(c, new_articles_df['date'].max())\n",
    "ax.set_ylim([0, 20])\n",
    "plt.tight_layout()\n",
    "plt.show();"
   ]
  },
  {
   "cell_type": "code",
   "execution_count": null,
   "metadata": {},
   "outputs": [],
   "source": [
    "sns.set() \n",
    "fig = plt.figure(figsize=(15,11))\n",
    "ax = fig.add_subplot(111)\n",
    "#ax= sns.catplot(x=\"month\", y=\"new_pages\", hue=\"countries\", kind=\"point\", height=8.27, aspect=11.7/8.27, data=new_per_wp[new_per_wp.countries.isin(['India','Indonesia'])])\n",
    "\n",
    "ax.set_title('India wikis pages added per month 2016-2020')\n",
    "sns.lineplot(x=\"month\", y=\"new_pages\", hue=\"project\", \n",
    "            data=new_per_wp_16_20[new_per_wp_16_20.countries.isin(['India'])])\n",
    "\n",
    "plt.xticks(rotation=45)\n",
    "plt.setp(ax.get_xticklabels()[1::2], visible=False, weight='light')\n",
    "plt.title('Indic wikis: number of pages added per month 2016-2020')\n",
    "\n",
    "plt.tight_layout()\n",
    "#plt.savefig('figs/p_India_avg_pages_added_per_month_2016_2019')\n",
    "plt.savefig('../../results/figs/regional_counts/india/pages_added_per_month_GLOW_Indic_wikis_2016_2020.png')\n",
    "plt.show();"
   ]
  },
  {
   "cell_type": "raw",
   "metadata": {},
   "source": [
    "#CHART!\n",
    "#https://seaborn.pydata.org/generated/seaborn.catplot.html\n",
    "\n",
    "\n",
    "sns.set() \n",
    "ax = sns.catplot(\n",
    "    #height=8.27, aspect=11.7/8.27, \n",
    "    x=\"month\", \n",
    "    y=\"new_pages\", \n",
    "    hue='project', \n",
    "    col='countries', \n",
    "    data=new_per_wp[new_per_wp.countries.isin(['India'])], \n",
    "    col_wrap=3)\n",
    "\n",
    "fig.subplots_adjust(wspace=0, hspace=0)\n",
    "\n",
    "for ax in ax.axes:\n",
    "    for label in ax.get_xticklabels():\n",
    "        label.set_rotation(45)\n",
    "        label.set_ha('right')\n",
    "        label.set_visible(False)\n",
    "        \n",
    "plt.setp(ax.axes.get_xticklabels()[::5], visible=True)\n",
    "#plt.savefig('figs/p_comparative_avg_pages_added_per_month_2016_2019');"
   ]
  },
  {
   "cell_type": "code",
   "execution_count": null,
   "metadata": {},
   "outputs": [],
   "source": []
  },
  {
   "cell_type": "code",
   "execution_count": null,
   "metadata": {},
   "outputs": [],
   "source": [
    "#change column names, see also:\n",
    "#https://stackoverflow.com/questions/42060394/how-to-change-the-columns-name-from-a-tuple-to-string\n",
    "\n",
    "my_colnames = []\n",
    "for i, a in enumerate(npwp_pivot.columns.get_level_values(1)):\n",
    "    my_colnames.append(str(a) + '_' + str(npwp_pivot.columns.get_level_values(0)[i]))\n",
    "npwp_pivot.columns = my_colnames"
   ]
  },
  {
   "cell_type": "raw",
   "metadata": {},
   "source": [
    "npwp_pivot.columns = npwp_pivot.columns.droplevel(0)\n",
    "npwp_pivot.columns.name = None\n",
    "npwp_pivot = npwp_pivot.reset_index()"
   ]
  },
  {
   "cell_type": "code",
   "execution_count": null,
   "metadata": {},
   "outputs": [],
   "source": [
    "#sort columns\n",
    "npwp_pivot = npwp_pivot.reindex(sorted(npwp_pivot.columns), axis=1)\n",
    "\n",
    "#shift project column to first place\n",
    "cols = list(npwp_pivot.columns)\n",
    "cols =[cols[-1]] + cols[:-1]\n",
    "npwp_pivot = npwp_pivot[cols]\n",
    "\n",
    "#reset index\n",
    "npwp_pivot = npwp_pivot.reset_index()"
   ]
  },
  {
   "cell_type": "code",
   "execution_count": null,
   "metadata": {},
   "outputs": [],
   "source": [
    "#create df with 2019 data to merge in... USE CONTEST PERIOD AND/OR COMPARISON PERIOD \n",
    "current_articles_added_avg = npwp_pivot[['project', '2019_mean', '2019_min', '2019_max']]\n",
    "\n",
    "#rename column names\n",
    "current_articles_added_avg.rename(columns = \n",
    "                                 {\n",
    "                                   'project' : 'wiki',\n",
    "                                   '2019_mean':'avg_m_articles_added',\n",
    "                                   '2019_min': 'min_articles_added',\n",
    "                                   '2019_max': 'max_articles_added'  \n",
    "                                 }\n",
    "                                 );"
   ]
  },
  {
   "cell_type": "code",
   "execution_count": null,
   "metadata": {},
   "outputs": [],
   "source": [
    "#create new countries column\n",
    "current_articles_added_avg['countries'] = current_articles_added_avg['project'].apply(add_country_column).str[0]\n",
    "#rename the MENA entry in the countries column\n",
    "current_articles_added_avg['countries'] = current_articles_added_avg['countries'].replace({'M':'MENA'})\n",
    "\n",
    "#shift project column to first place\n",
    "cols = list(current_articles_added_avg.columns)\n",
    "cols =[cols[-1]] + cols[:-1]\n",
    "current_articles_added_avg = current_articles_added_avg[cols]\n",
    "\n",
    "#sort table\n",
    "current_articles_added_avg.sort_values(['countries', '2019_mean'], ascending=[True, False]);"
   ]
  },
  {
   "cell_type": "code",
   "execution_count": null,
   "metadata": {},
   "outputs": [],
   "source": [
    "#sort and reset index\n",
    "current_articles_added_avg = current_articles_added_avg.sort_values(by=['2019_mean'], ascending=False)\n",
    "current_articles_added_avg.reset_index(drop=True, inplace=True)"
   ]
  },
  {
   "cell_type": "code",
   "execution_count": null,
   "metadata": {},
   "outputs": [],
   "source": [
    "current_articles_added_avg"
   ]
  },
  {
   "cell_type": "code",
   "execution_count": null,
   "metadata": {},
   "outputs": [],
   "source": [
    "# Setting the positions and width for the bars\n",
    "pos = list(range(len(current_articles_added_avg['2019_min']))) \n",
    "width = 0.25\n",
    "    \n",
    "# Plotting the bars\n",
    "fig, ax = plt.subplots(figsize=(12.1,8.9))\n",
    "\n",
    "# Create a bar with min data,\n",
    "# in position pos,\n",
    "plt.bar(pos, \n",
    "        #using df,\n",
    "        current_articles_added_avg['2019_min'], \n",
    "        # of width\n",
    "        width, \n",
    "        # with alpha 0.5\n",
    "        alpha=0.5, \n",
    "        # with color\n",
    "        color='#FFC222', \n",
    "        # with label the first value in first_name\n",
    "        label=current_articles_added_avg['project'][0]) \n",
    "\n",
    "# Create a bar with mean data,\n",
    "# in position pos + some width buffer,\n",
    "plt.bar([p + width for p in pos], \n",
    "        #using df,\n",
    "        current_articles_added_avg['2019_mean'],\n",
    "        # of width\n",
    "        width, \n",
    "        # with alpha 0.5\n",
    "        alpha=0.5, \n",
    "        # with color\n",
    "        color='#F78F1E', \n",
    "        # with label the second value in first_name\n",
    "        label=current_articles_added_avg['project'][1]) \n",
    "\n",
    "# Create a bar with max data,\n",
    "# in position pos + some width buffer,\n",
    "plt.bar([p + width*2 for p in pos], \n",
    "        #using df,\n",
    "        current_articles_added_avg['2019_max'], \n",
    "        # of width\n",
    "        width, \n",
    "        # with alpha 0.5\n",
    "        alpha=0.5, \n",
    "        # with color\n",
    "        color= '#EE3224',    \n",
    "        # with label the third value in first_name\n",
    "        label=current_articles_added_avg['project'][2]) \n",
    "\n",
    "\n",
    "\n",
    "\n",
    "# Set the y axis label\n",
    "ax.set_ylabel('pages_added')\n",
    "\n",
    "# Set the chart's title\n",
    "ax.set_title('avg pages added per month 2016-2019')\n",
    "\n",
    "# Set the position of the x ticks\n",
    "ax.set_xticks([p + 1.5 * width for p in pos])\n",
    "\n",
    "# Set the labels for the x ticks\n",
    "ax.set_xticklabels(current_articles_added_avg['project'])\n",
    "\n",
    "plt.xticks(rotation=45, ha='right')\n",
    "\n",
    "# Setting the x-axis and y-axis limits\n",
    "plt.xlim(min(pos)-width, max(pos)+width*4)\n",
    "plt.ylim([0, max(current_articles_added_avg['2019_min'] + current_articles_added_avg['2019_mean'] + current_articles_added_avg['2019_max'])] )\n",
    "\n",
    "# Adding the legend and showing the plot\n",
    "plt.legend(['2019_min', '2019_mean', '2019_max'], loc='upper right')\n",
    "plt.grid()\n",
    "plt.savefig('figs/p_avg_pages_added_per_month_2016_2019')\n",
    "plt.show();"
   ]
  },
  {
   "cell_type": "code",
   "execution_count": null,
   "metadata": {},
   "outputs": [],
   "source": [
    "include_list = ['Argentina', 'India', 'Indonesia']\n",
    "caaa_iia = current_articles_added_avg[current_articles_added_avg.countries.isin(include_list)].sort_values(by=['2019_mean'], ascending=False)\n",
    "caaa_iia .reset_index(drop=True, inplace=True)"
   ]
  },
  {
   "cell_type": "code",
   "execution_count": null,
   "metadata": {},
   "outputs": [],
   "source": [
    "caaa_iia"
   ]
  },
  {
   "cell_type": "code",
   "execution_count": null,
   "metadata": {},
   "outputs": [],
   "source": [
    "# Setting the positions and width for the bars\n",
    "pos = list(range(len(caaa_iia['2019_min']))) \n",
    "width = 0.25 \n",
    "    \n",
    "# Plotting the bars\n",
    "fig, ax = plt.subplots(figsize=(12.1,8.9))\n",
    "\n",
    "# Create a bar with min data,\n",
    "# in position pos,\n",
    "plt.bar(pos, \n",
    "        #using df\n",
    "        caaa_iia['2019_min'], \n",
    "        # of width\n",
    "        width, \n",
    "        # with alpha 0.5\n",
    "        alpha=0.5, \n",
    "        # with color\n",
    "        color='#FFC222', \n",
    "        # with label the first value in first_name\n",
    "        label=caaa_iia['project'][0]) \n",
    "\n",
    "# Create a bar with mean data,\n",
    "# in position pos + some width buffer,\n",
    "plt.bar([p + width for p in pos], \n",
    "        #using df\n",
    "        caaa_iia['2019_mean'],\n",
    "        # of width\n",
    "        width, \n",
    "        # with alpha 0.5\n",
    "        alpha=0.5, \n",
    "        # with color\n",
    "        color='#F78F1E', \n",
    "        # with label the second value in first_name\n",
    "        label=caaa_iia['project'][1]) \n",
    "\n",
    "# Create a bar with max data,\n",
    "# in position pos + some width buffer,\n",
    "plt.bar([p + width*2 for p in pos], \n",
    "        #using df\n",
    "        caaa_iia['2019_max'], \n",
    "        #current_articles_added_avg[current_articles_added_avg.countries.isin(['India'])])\n",
    "        # of width\n",
    "        width, \n",
    "        # with alpha 0.5\n",
    "        alpha=0.5, \n",
    "        # with color\n",
    "        color= '#EE3224',    \n",
    "        # with label the third value in first_name\n",
    "        label=caaa_iia['project'][2]) \n",
    "\n",
    "# Set the y axis label\n",
    "ax.set_ylabel('pages_added')\n",
    "\n",
    "# Set the chart's title\n",
    "ax.set_title('India/Indonesia/Argentina avg pages added per month 2016-2019')\n",
    "\n",
    "# Set the position of the x ticks\n",
    "ax.set_xticks([p + 1.5 * width for p in pos])\n",
    "\n",
    "# Set the labels for the x ticks\n",
    "ax.set_xticklabels(caaa_iia['project'])\n",
    "\n",
    "plt.xticks(rotation=45, ha='right')\n",
    "\n",
    "# Setting the x-axis and y-axis limits\n",
    "plt.xlim(min(pos)-width, max(pos)+width*4)\n",
    "plt.ylim([0, max(caaa_iia['2019_min'] + caaa_iia['2019_mean'] + caaa_iia['2019_max'])] )\n",
    "\n",
    "# Adding the legend and showing the plot\n",
    "plt.legend(['2019_min', '2019_mean', '2019_max'], loc='upper right')\n",
    "plt.grid()\n",
    "plt.savefig('figs/p_India_Indonesia_Argentina_avg_pages_added_per_month_2016_2019')\n",
    "plt.show();\n"
   ]
  }
 ],
 "metadata": {
  "kernelspec": {
   "display_name": "Python 3",
   "language": "python",
   "name": "python3"
  },
  "language_info": {
   "codemirror_mode": {
    "name": "ipython",
    "version": 3
   },
   "file_extension": ".py",
   "mimetype": "text/x-python",
   "name": "python",
   "nbconvert_exporter": "python",
   "pygments_lexer": "ipython3",
   "version": "3.7.8"
  }
 },
 "nbformat": 4,
 "nbformat_minor": 4
}
