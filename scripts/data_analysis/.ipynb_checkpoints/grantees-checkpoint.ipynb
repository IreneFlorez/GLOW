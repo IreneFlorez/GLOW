{
 "cells": [
  {
   "cell_type": "markdown",
   "metadata": {},
   "source": [
    "# Grantee Data Analysis"
   ]
  },
  {
   "cell_type": "code",
   "execution_count": null,
   "metadata": {},
   "outputs": [],
   "source": [
    "import matplotlib as mpl\n",
    "import matplotlib.pyplot as plt\n",
    "import matplotlib.ticker as ticker\n",
    "import matplotlib.dates as mdates\n",
    "import seaborn as sns\n",
    "import pandas as pd\n",
    "import numpy as np\n",
    "\n",
    "%load_ext sql_magic\n",
    "%matplotlib inline\n",
    "plt.rcParams.update({'figure.max_open_warning': 0})"
   ]
  },
  {
   "cell_type": "code",
   "execution_count": null,
   "metadata": {},
   "outputs": [],
   "source": [
    "participants_tally_2019 = pd.read_csv(\"../../data/processed/participants_list_received_clean/2019/participants_tally_2019.csv\", sep=',', encoding = 'utf-8')\n",
    "participants_tally_2018 = pd.read_csv(\"../../data/processed/participants_list_received_clean/2018/PTP_participants_grantees_article_counts_clean.csv\", sep=',', encoding = 'utf-8')"
   ]
  },
  {
   "cell_type": "code",
   "execution_count": null,
   "metadata": {},
   "outputs": [],
   "source": [
    "# read data from inner join of 2019 and 2018 participants: participants in this year's GLOW a) that also were grantees b) that were also participants last year\n",
    "participants_last_grantees = pd.read_csv(\"../../data/processed/participants_list_received_clean/2019/participants_last_grantees.csv\", sep=',', encoding = 'utf-8')\n",
    "participants_last_participants = pd.read_csv(\"../../data/processed/participants_list_received_clean/2019/participants_last_participants.csv\", sep=',', encoding = 'utf-8')"
   ]
  },
  {
   "cell_type": "code",
   "execution_count": null,
   "metadata": {},
   "outputs": [],
   "source": [
    "editor_reg_contest_2019 = pd.read_csv(\"../../data/processed/query_results/editors/editor_reg_contest.csv\", sep=',', encoding = 'utf-8', infer_datetime_format=True, parse_dates=['reg_date'])"
   ]
  },
  {
   "cell_type": "code",
   "execution_count": null,
   "metadata": {},
   "outputs": [],
   "source": [
    "editor_reg_contest_2018 = pd.read_csv(\"../../data/processed/query_results/editors/editor_reg_contest_18.csv\", sep=',', encoding = 'utf-8', infer_datetime_format=True, parse_dates=['reg_date'])"
   ]
  },
  {
   "cell_type": "code",
   "execution_count": null,
   "metadata": {},
   "outputs": [],
   "source": [
    "#2018 weekly edits by ptp chromebook grantees\n",
    "weekly_edits_ptp_grantees = pd.read_csv(\"../../data/processed/editors/weekly_edits_ptp_grantees.csv\", sep=',', encoding = 'utf-8', infer_datetime_format=True)"
   ]
  },
  {
   "cell_type": "code",
   "execution_count": null,
   "metadata": {},
   "outputs": [],
   "source": [
    "#2017-2020 edits by ptp chromebook grantees\n",
    "edits_ptp_grantees_edits_summed = pd.read_csv(\"../../data/processed/editors/edits_ptp_grantees_edits_summed.csv\", sep=',', encoding = 'utf-8', infer_datetime_format=True, parse_dates=['editor_edits_per_month'])"
   ]
  },
  {
   "cell_type": "code",
   "execution_count": null,
   "metadata": {},
   "outputs": [],
   "source": [
    "edits_ptp_grantees_edits_summed['editor_edits_per_month'] = edits_ptp_grantees_edits_summed['editor_edits_per_month'].astype(str).astype(int)"
   ]
  },
  {
   "cell_type": "code",
   "execution_count": null,
   "metadata": {},
   "outputs": [],
   "source": [
    "GLOW_editor_edits = pd.read_csv(\"../../data/processed/editors/GLOW_editor_edits.csv\", sep=',', encoding = 'utf-8', infer_datetime_format=True, parse_dates=['event_timestamp'])"
   ]
  },
  {
   "cell_type": "code",
   "execution_count": null,
   "metadata": {},
   "outputs": [],
   "source": [
    "GLOW_editor_edits_summed = pd.read_csv(\"../../data/processed/editors/GLOW_editor_edits_summed.csv\", sep=',', encoding = 'utf-8', infer_datetime_format=True)"
   ]
  },
  {
   "cell_type": "code",
   "execution_count": null,
   "metadata": {},
   "outputs": [],
   "source": [
    "participants_tr_2019 = pd.merge(participants_tally_2019, editor_reg_contest_2019, on='username', how='left')\n",
    "participants_tr_2018 = pd.merge(participants_tally_2018, editor_reg_contest_2018, on='username', how='left')"
   ]
  },
  {
   "cell_type": "code",
   "execution_count": null,
   "metadata": {},
   "outputs": [],
   "source": [
    "participants_tr_2018.columns = [str(col) + '_2018' for col in participants_tr_2018.columns]\n",
    "participants_tr_2019.columns = [str(col) + '_2019' for col in participants_tr_2019.columns]\n",
    "participants_tr_2018 = participants_tr_2018.rename(columns={'username_2018':'username', 'reg_date_2018':'reg_date'})\n",
    "participants_tr_2019 = participants_tr_2019.rename(columns={'username_2019':'username', 'reg_date_2019':'reg_date'});"
   ]
  },
  {
   "cell_type": "code",
   "execution_count": null,
   "metadata": {},
   "outputs": [],
   "source": [
    "all_participants = pd.merge(participants_tr_2018, participants_tr_2019, on=['username', 'reg_date'], how='outer')"
   ]
  },
  {
   "cell_type": "markdown",
   "metadata": {},
   "source": [
    "### GLOW signup"
   ]
  },
  {
   "cell_type": "code",
   "execution_count": null,
   "metadata": {},
   "outputs": [],
   "source": [
    "participants_tally_2019['glow_editor_signup'].value_counts()"
   ]
  },
  {
   "cell_type": "code",
   "execution_count": null,
   "metadata": {},
   "outputs": [],
   "source": [
    "participants_tally_2018['glow_editor_signup'].value_counts()"
   ]
  },
  {
   "cell_type": "code",
   "execution_count": null,
   "metadata": {},
   "outputs": [],
   "source": [
    "participants_tally_2019.groupby(['incentive_recipient','glow_editor_signup'])['total_articles'].describe()"
   ]
  },
  {
   "cell_type": "code",
   "execution_count": null,
   "metadata": {},
   "outputs": [],
   "source": [
    "participants_tally_2019.loc[(participants_tally_2019['incentive_recipient']==True) & (participants_tally_2019['glow_editor_signup']==True)].info()"
   ]
  },
  {
   "cell_type": "markdown",
   "metadata": {},
   "source": [
    "### incentive_recipient"
   ]
  },
  {
   "cell_type": "code",
   "execution_count": null,
   "metadata": {},
   "outputs": [],
   "source": [
    "participants_tally_2019['incentive_recipient'].value_counts()"
   ]
  },
  {
   "cell_type": "code",
   "execution_count": null,
   "metadata": {},
   "outputs": [],
   "source": [
    "participants_tally_2018['incentive_recipient'].value_counts()"
   ]
  },
  {
   "cell_type": "markdown",
   "metadata": {},
   "source": [
    "### incentive_type count"
   ]
  },
  {
   "cell_type": "code",
   "execution_count": null,
   "metadata": {},
   "outputs": [],
   "source": [
    "participants_tally_2019['incentive_type'].value_counts()"
   ]
  },
  {
   "cell_type": "code",
   "execution_count": null,
   "metadata": {},
   "outputs": [],
   "source": [
    "participants_tally_2018['incentive_type'].value_counts()"
   ]
  },
  {
   "cell_type": "markdown",
   "metadata": {},
   "source": [
    "### Create a mask for GLOW editors"
   ]
  },
  {
   "cell_type": "code",
   "execution_count": null,
   "metadata": {},
   "outputs": [],
   "source": [
    "glow_2019_m = participants_tally_2019['glow_editor_signup']==True\n",
    "glow_2018_m = participants_tally_2018['glow_editor_signup']==True"
   ]
  },
  {
   "cell_type": "code",
   "execution_count": null,
   "metadata": {},
   "outputs": [],
   "source": [
    "g18 = participants_tally_2018.loc[glow_2018_m]\n",
    "g19 = participants_tally_2019.loc[glow_2019_m]\n",
    "\n",
    "glow_2019 = g19.copy()\n",
    "glow_2018 = g18.copy()"
   ]
  },
  {
   "cell_type": "code",
   "execution_count": null,
   "metadata": {},
   "outputs": [],
   "source": [
    "glow_2019['incentive_recipient'].value_counts()"
   ]
  },
  {
   "cell_type": "markdown",
   "metadata": {},
   "source": [
    "### output by incentive - broad"
   ]
  },
  {
   "cell_type": "code",
   "execution_count": null,
   "metadata": {},
   "outputs": [],
   "source": [
    "glow_2019.groupby('incentive_recipient')['total_articles'].sum()"
   ]
  },
  {
   "cell_type": "code",
   "execution_count": null,
   "metadata": {},
   "outputs": [],
   "source": [
    "glow_2018.groupby('incentive_recipient')['article_count'].sum()"
   ]
  },
  {
   "cell_type": "markdown",
   "metadata": {},
   "source": [
    "### output by incentive - detailed"
   ]
  },
  {
   "cell_type": "code",
   "execution_count": null,
   "metadata": {},
   "outputs": [],
   "source": [
    "glow_2019.groupby('incentive_type')['total_articles'].sum().sort_values()"
   ]
  },
  {
   "cell_type": "code",
   "execution_count": null,
   "metadata": {},
   "outputs": [],
   "source": [
    "glow_2018.groupby('incentive_type')['article_count'].sum().sort_values()"
   ]
  },
  {
   "cell_type": "markdown",
   "metadata": {},
   "source": [
    "### Descriptive statistics"
   ]
  },
  {
   "cell_type": "code",
   "execution_count": null,
   "metadata": {},
   "outputs": [],
   "source": [
    "glow_2019.groupby('incentive_type')['total_articles'].describe()"
   ]
  },
  {
   "cell_type": "code",
   "execution_count": null,
   "metadata": {},
   "outputs": [],
   "source": [
    "glow_2018.groupby('incentive_type')['article_count'].describe()"
   ]
  },
  {
   "cell_type": "code",
   "execution_count": null,
   "metadata": {},
   "outputs": [],
   "source": [
    "#2019: 8,863 (not including 2880 from single high output editor = 5983\n",
    "8863-2880"
   ]
  },
  {
   "cell_type": "code",
   "execution_count": null,
   "metadata": {},
   "outputs": [],
   "source": [
    "bins = [0, 1, 5, 10, 25, 50, 100, 300, 600, 1000, 2000, 3000]\n",
    "participants_output_binned_2019 = pd.cut(glow_2019['total_articles'], bins=bins).value_counts()\n",
    "participants_output_binned_2018 = pd.cut(glow_2018['article_count'], bins=bins).value_counts()"
   ]
  },
  {
   "cell_type": "code",
   "execution_count": null,
   "metadata": {},
   "outputs": [],
   "source": [
    "participants_output_binned_2019"
   ]
  },
  {
   "cell_type": "code",
   "execution_count": null,
   "metadata": {},
   "outputs": [],
   "source": [
    "participants_output_binned_2019.plot();"
   ]
  },
  {
   "cell_type": "code",
   "execution_count": null,
   "metadata": {},
   "outputs": [],
   "source": [
    "participants_output_binned_2018"
   ]
  },
  {
   "cell_type": "code",
   "execution_count": null,
   "metadata": {},
   "outputs": [],
   "source": [
    "participants_output_binned_2018.plot();"
   ]
  },
  {
   "cell_type": "code",
   "execution_count": null,
   "metadata": {},
   "outputs": [],
   "source": [
    "glow_2019['total_articles'].hist();"
   ]
  },
  {
   "cell_type": "code",
   "execution_count": null,
   "metadata": {},
   "outputs": [],
   "source": [
    "glow_2018['article_count'].hist();"
   ]
  },
  {
   "cell_type": "markdown",
   "metadata": {},
   "source": [
    "### Review"
   ]
  },
  {
   "cell_type": "raw",
   "metadata": {},
   "source": [
    "P2019 = participants_tally_2019.groupby('incentive_type')['total_articles'].sum().reset_index()\n",
    "P2019['articles_pct'] = 100 * P2019['total_articles']  / P2019['total_articles'].sum()"
   ]
  },
  {
   "cell_type": "code",
   "execution_count": null,
   "metadata": {},
   "outputs": [],
   "source": [
    "P2019 = (glow_2019.groupby(['incentive_type', 'incentive_recipient'], sort=False)['total_articles']\n",
    "        .agg([('incentive_count', 'count'),('articles_total', 'sum')])\n",
    "        .reset_index())\n",
    "\n",
    "P2019['articles_pct'] = 100 * P2019['articles_total']  / P2019['articles_total'].sum()"
   ]
  },
  {
   "cell_type": "code",
   "execution_count": null,
   "metadata": {},
   "outputs": [],
   "source": [
    "P2019"
   ]
  },
  {
   "cell_type": "code",
   "execution_count": null,
   "metadata": {},
   "outputs": [],
   "source": [
    "P2019.sort_values(by='articles_pct', ascending=False)"
   ]
  },
  {
   "cell_type": "code",
   "execution_count": null,
   "metadata": {},
   "outputs": [],
   "source": [
    "P2018 = (glow_2018.groupby(['incentive_type', 'incentive_recipient'], sort=False)['article_count']\n",
    "        .agg([('incentive_count', 'count'),('articles_total', 'sum')])\n",
    "        .reset_index())\n",
    "\n",
    "P2018['articles_pct'] = 100 * P2018['articles_total']  / P2018['articles_total'].sum()"
   ]
  },
  {
   "cell_type": "code",
   "execution_count": null,
   "metadata": {},
   "outputs": [],
   "source": [
    "P2018"
   ]
  },
  {
   "cell_type": "code",
   "execution_count": null,
   "metadata": {},
   "outputs": [],
   "source": [
    "P2018.sort_values(by='articles_pct', ascending=False)"
   ]
  },
  {
   "cell_type": "markdown",
   "metadata": {},
   "source": [
    "### Questions"
   ]
  },
  {
   "cell_type": "markdown",
   "metadata": {},
   "source": [
    "How many of this year's participants participated last year? \n",
    "> 82\n",
    "\n",
    "How many of this year's participants were grantees last year?\n",
    "> 30\n",
    "\n",
    "How many of this year's editor grantees were editor grantees last year?\n",
    "> 11 (9 of these received internet in GLOW)\n",
    "\n",
    "*Does one incentive outperform another?*\n",
    "Incentive performance, as far as articles submitted, is roughly correlated with the frequency of that incentive. \n",
    "The fewer counts of an incentive, the fewer total articles that will be associated with that incentive."
   ]
  },
  {
   "cell_type": "markdown",
   "metadata": {},
   "source": [
    "How did returning editors perform?\n",
    "> 38 wrote less\n",
    "\n",
    "> 3 wrote the same amount\n",
    "\n",
    "> 41 wrote more"
   ]
  },
  {
   "cell_type": "raw",
   "metadata": {},
   "source": [
    "edit bins\n",
    "5-99\n",
    "100-999\n",
    "10,000\n",
    "1,000-9999"
   ]
  },
  {
   "cell_type": "code",
   "execution_count": null,
   "metadata": {},
   "outputs": [],
   "source": [
    "bins2 = [0, 1, 5, 99, 300, 3000]\n",
    "names = ['<2', '2-5', '6-99', '100-300', '301+']\n",
    "\n",
    "z = pd.cut(glow_2019['total_articles'], bins=bins2, labels=names).value_counts()\n",
    "z18 = pd.cut(glow_2018['article_count'], bins=bins2, labels=names).value_counts()"
   ]
  },
  {
   "cell_type": "code",
   "execution_count": null,
   "metadata": {},
   "outputs": [],
   "source": [
    "z"
   ]
  },
  {
   "cell_type": "code",
   "execution_count": null,
   "metadata": {},
   "outputs": [],
   "source": [
    "z.plot(kind='bar');"
   ]
  },
  {
   "cell_type": "code",
   "execution_count": null,
   "metadata": {},
   "outputs": [],
   "source": [
    "z18"
   ]
  },
  {
   "cell_type": "code",
   "execution_count": null,
   "metadata": {},
   "outputs": [],
   "source": [
    "z18.plot(kind='bar');"
   ]
  },
  {
   "cell_type": "code",
   "execution_count": null,
   "metadata": {},
   "outputs": [],
   "source": [
    "glow_2019['article_cnt_range'] = pd.cut(glow_2019['total_articles'], bins2, labels=names)\n",
    "glow_2018['article_cnt_range'] = pd.cut(glow_2018['article_count'], bins2, labels=names)\n",
    "\n",
    "#participants_tally_2019['binned'] = pd.cut(glow_2019['total_articles'], bins)"
   ]
  },
  {
   "cell_type": "code",
   "execution_count": null,
   "metadata": {},
   "outputs": [],
   "source": [
    "glow_18s = glow_2018[['username', 'article_count']]\n",
    "glow_19s = glow_2019[['username', 'total_articles']]\n",
    "\n",
    "#common participants \n",
    "cp = participants_last_participants.merge(glow_18s, how='left', on='username')\n",
    "cp = cp.merge(glow_19s, how='left', on='username')\n",
    "cp.fillna(0)\n",
    "\n",
    "#add columns\n",
    "cp['pct_change_output'] =100 * cp[['article_count', 'total_articles']].pct_change(axis=1)['total_articles']\n",
    "cp['article_cnt_range18'] = pd.cut(cp['article_count'], bins2, labels=names)\n",
    "cp['article_cnt_range19'] = pd.cut(cp['total_articles'], bins2, labels=names)"
   ]
  },
  {
   "cell_type": "code",
   "execution_count": null,
   "metadata": {},
   "outputs": [],
   "source": [
    "change_matrix = cp.groupby('pp_inctv').pct_change_output.apply(lambda x: pd.Series([(x < 0).sum(), (x == 0).sum(), (x > 0).sum()])).unstack().reset_index().rename(columns={0:'-',\n",
    "                                                                                                                                                                          1 : '=%',\n",
    "                                                                                                                                                                         2:'+%',\n",
    "                                                                                                                                                                         })\n"
   ]
  },
  {
   "cell_type": "code",
   "execution_count": null,
   "metadata": {},
   "outputs": [],
   "source": [
    "change_matrix"
   ]
  },
  {
   "cell_type": "code",
   "execution_count": null,
   "metadata": {
    "jupyter": {
     "source_hidden": true
    }
   },
   "outputs": [],
   "source": [
    "change_matrix.sum(numeric_only=True)"
   ]
  },
  {
   "cell_type": "code",
   "execution_count": null,
   "metadata": {
    "jupyter": {
     "source_hidden": true
    }
   },
   "outputs": [],
   "source": [
    "sig_change_matrix = cp.groupby('pp_inctv').pct_change_output.apply(lambda x: pd.Series([(x >=20).sum(), (x >=50).sum(),(x >=100).sum()])).unstack().reset_index().rename(columns={\n",
    "                              0 : '>25%',\n",
    "                             1:'>75%',\n",
    "                            2:'>100%',\n",
    "                             })"
   ]
  },
  {
   "cell_type": "code",
   "execution_count": null,
   "metadata": {
    "jupyter": {
     "source_hidden": true
    }
   },
   "outputs": [],
   "source": [
    "sig_change_matrix"
   ]
  },
  {
   "cell_type": "code",
   "execution_count": null,
   "metadata": {
    "jupyter": {
     "source_hidden": true
    }
   },
   "outputs": [],
   "source": [
    "sig_change_matrix.sum(numeric_only=True)"
   ]
  },
  {
   "cell_type": "markdown",
   "metadata": {},
   "source": [
    "Did Project Tiger Pilot editors increase their GLOW article count after receiving Chromebook grants? \n",
    ">Seven 2018 Chromebook grantees submitted more articles during the GLOW contest. "
   ]
  },
  {
   "cell_type": "raw",
   "metadata": {},
   "source": [
    "change_matrix.append(change_matrix.sum(numeric_only=True), ignore_index=True)"
   ]
  },
  {
   "cell_type": "markdown",
   "metadata": {},
   "source": [
    "Did returning grantees perform similarly this year?\n",
    ">2018 laptop recipients - 16 awarded in 2018, (12 returned to edit):\n",
    "7 increased output; 5 decreased output\n",
    "7 received internet grants in 2019\n",
    "\n",
    ">2018 laptop_internet recipients  - 14 awarded in 2018, (6 returned to edit):\n",
    "1 increased output; 5 decreased output\n",
    "1 received internet grant in 2019\n",
    "\n",
    ">2018 internet recipients  - 9 awarded in 2018, (6 returned to edit):\n",
    "2 increased output; 1 maintained output; 3 decreased output\n",
    "2 received laptop_internet grants; 1 received internet in 2019\n"
   ]
  },
  {
   "cell_type": "markdown",
   "metadata": {},
   "source": [
    "Are any returning grantees included in this year's non-grantee cohort?"
   ]
  },
  {
   "cell_type": "code",
   "execution_count": null,
   "metadata": {},
   "outputs": [],
   "source": [
    "#get count of 2019 non-grantee editors who were grantees in 2018\n",
    "\n",
    "last_years_recipients_this_years_nongrantees = all_participants.loc[(all_participants['incentive_recipient_2018']==True) & \n",
    "                     (all_participants['incentive_recipient_2019']==False)]"
   ]
  },
  {
   "cell_type": "code",
   "execution_count": null,
   "metadata": {},
   "outputs": [],
   "source": [
    "last_years_recipients_this_years_nongrantees.sort_values(by='total_articles_2019', ascending=False).info()"
   ]
  },
  {
   "cell_type": "code",
   "execution_count": null,
   "metadata": {},
   "outputs": [],
   "source": [
    "last_years_recipients_this_years_nongrantees.loc[last_years_recipients_this_years_nongrantees['total_articles_2019']>= 100].info()"
   ]
  },
  {
   "cell_type": "code",
   "execution_count": null,
   "metadata": {},
   "outputs": [],
   "source": [
    "last_years_recipients_this_years_nongrantees.groupby('incentive_type_2018')['total_articles_2019'].describe()"
   ]
  },
  {
   "cell_type": "markdown",
   "metadata": {},
   "source": [
    "How many articles does this group account for?"
   ]
  },
  {
   "cell_type": "code",
   "execution_count": null,
   "metadata": {},
   "outputs": [],
   "source": [
    "last_years_recipients_this_years_nongrantees['total_articles_2019'].sum()"
   ]
  },
  {
   "cell_type": "markdown",
   "metadata": {},
   "source": [
    "Did the contest borrow productivity from a future period?\n",
    ">more research is needed; \n",
    "\n",
    "Did the contest change future behavior? \n",
    ">maybe for subsets of editors\n",
    "\n",
    "Did we change the edit trajectory of editors via inclusion in glow generally?\n",
    ">more research is needed where we look at groups of editors based on their edit count bins"
   ]
  },
  {
   "cell_type": "code",
   "execution_count": null,
   "metadata": {},
   "outputs": [],
   "source": [
    "GLOW_editor_edits = GLOW_editor_edits.set_index('event_timestamp')\n",
    "total_edits_by_date_r = GLOW_editor_edits[['event_user_text']]\n",
    "total_edits_by_date = total_edits_by_date_r.groupby(total_edits_by_date_r.index.date).count().rename(columns={'event_user_text':'occurrences_by_date'})"
   ]
  },
  {
   "cell_type": "code",
   "execution_count": null,
   "metadata": {},
   "outputs": [],
   "source": [
    "\n",
    "total_edits_by_date['occurrences_by_date'].plot(style='.-', \n",
    "                                                figsize=(18, 16),\n",
    "                                               title='Total edits by GLOW editors per month');\n",
    "#fig=plt.figure(figsize=(18, 16), dpi= 80, facecolor='w', edgecolor='k')"
   ]
  },
  {
   "cell_type": "markdown",
   "metadata": {},
   "source": [
    "### Edits by PTP Chromebook grantees"
   ]
  },
  {
   "cell_type": "raw",
   "metadata": {},
   "source": [
    "The 2018 Chromebook grants appear to have been most effective for a subset of experienced but-not-yet-prolific contest editors. \n",
    "Those editors that had reached a max total of 600-2k edits per month saw positive increases in their edit trajectories post contest. Very prolific editors that had already seen months where they made more than 2,000 edits did not see a change in their edit trajectory. Those editors that had not yet reached 600 edits per month prior to the contest saw a mixed change in their edit trajectory. Given the small sample, it will be interesting to see if these results are also true for the GLOW Project Tiger 2.0 Chromebook grantee editors.\n",
    "\n",
    "Did Project Tiger Pilot editors that received Chromebook grants increase their output in the next Project Tiger 2.0 contest? Not on the whole; Seven 2018 Chromebook grantees submitted more articles during the GLOW contest. However, the increases don't outperform those increases demonstrated by non-grantees during the contest. The remaining 15 editors submitted the same or fewer articles during the GLOW contest...or didn't participate in the GLOW contest as editors.  \n",
    "\n",
    "Items to consider: 1) Chromebook recipients have been pre-selected. The Chromebooks were not given at random. The Chromebooks, in this case, may have been given to already stellar or promising editors. Of the 22 Chromebook grantees, 20 had accounts created prior to 2018; 17 were editors as of or before 2016. To note, for two of the 22 grantees, I couldn't locate account registration dates; This may be due to username typos. I'm happy to follow-up on this.  \n",
    "2) Chromebooks may be having an indirect impact. The Chromebooks may be a part of the implementation structure of the contest which acts as a general editing impetus. The existence of the Chromebook as an incentive in the contest may be helping particular editors to output a little more than they would usually. And the granting of Chromebooks may be part of a social contract between editors. I have heard in informational interviews that Chromebook grantees feel indebted to their wiki for the Chromebook and wish to give back by continuing to participate and helping achieve the broader mission of making their language relevant and accessible online."
   ]
  },
  {
   "cell_type": "code",
   "execution_count": null,
   "metadata": {},
   "outputs": [],
   "source": [
    "laptop_grantees_PTP18 = all_participants.loc[(all_participants['incentive_recipient_2018']==True) & (all_participants['incentive_type_2018']=='laptop')].sort_values(by='reg_date')"
   ]
  },
  {
   "cell_type": "code",
   "execution_count": null,
   "metadata": {},
   "outputs": [],
   "source": [
    "laptop_grantees_PTP18.info()"
   ]
  },
  {
   "cell_type": "code",
   "execution_count": null,
   "metadata": {},
   "outputs": [],
   "source": [
    "laptop_grantees_PTP18['article_count_pct_change']= 100*(laptop_grantees_PTP18[['article_count_2018','total_articles_2019']].pct_change(axis=1)['total_articles_2019'])"
   ]
  },
  {
   "cell_type": "code",
   "execution_count": null,
   "metadata": {},
   "outputs": [],
   "source": [
    "laptop_grantees_PTP18_change = laptop_grantees_PTP18['article_count_pct_change'].reset_index().sort_values(ascending=False, by='article_count_pct_change')"
   ]
  },
  {
   "cell_type": "code",
   "execution_count": null,
   "metadata": {},
   "outputs": [],
   "source": [
    "del laptop_grantees_PTP18_change['index']\n",
    "laptop_grantees_PTP18_change"
   ]
  },
  {
   "cell_type": "markdown",
   "metadata": {},
   "source": [
    "Did Project Tiger Pilot Chromebook grantee editors increase their 2018 non-minor edit count peaks after receiving Chromebook grants? \n",
    "> Yes: 16 of 20 editors that received Chromebook grants reached higher 2018 edit counts post Project Tiger contest. However, all Chromebook grantees continued to edit in spurts and the peaks were not largely maintained. "
   ]
  },
  {
   "cell_type": "code",
   "execution_count": null,
   "metadata": {},
   "outputs": [],
   "source": [
    "weekly_edits_ptp_grantees['event_user_text'].nunique()"
   ]
  },
  {
   "cell_type": "code",
   "execution_count": null,
   "metadata": {},
   "outputs": [],
   "source": [
    "weekly_edits_ptp_grantees = weekly_edits_ptp_grantees.sort_values(by = ['event_user_text', 'week_n'])"
   ]
  },
  {
   "cell_type": "markdown",
   "metadata": {},
   "source": [
    "Note: PTP Contest weeks = 10-22"
   ]
  },
  {
   "cell_type": "code",
   "execution_count": null,
   "metadata": {},
   "outputs": [],
   "source": [
    "fig, ax = plt.subplots(1,1);\n",
    "weekly_edits_ptp_grantees.groupby(\"event_user_text\").plot.scatter(x=\"week_n\", y=\"edits\", ax=ax);\n",
    "plt.savefig('../../results/figs/editors/2018_all_laptop_grantees_major_edits.png');"
   ]
  },
  {
   "cell_type": "code",
   "execution_count": null,
   "metadata": {},
   "outputs": [],
   "source": [
    "weekly_edits_ptp_grantees.groupby(\"event_user_text\").plot.scatter(x=\"week_n\", y=\"edits\");\n",
    "plt.savefig('../../results/figs/editors/2018_laptop_grantee_major_edits.png');"
   ]
  },
  {
   "cell_type": "markdown",
   "metadata": {},
   "source": [
    "Did Project Tiger Pilot Chromebook grantee editors continue editing through March 2020? \n",
    "> Yes, 16 of 20 Chromebook grantee editors continue editing as of April 1st. "
   ]
  },
  {
   "cell_type": "markdown",
   "metadata": {},
   "source": [
    "Did we change the edit trajectory of editors by giving them laptop grants? \n",
    "> Yes, for some editors. Those editors that had reached a max total of 600-2k edits per month saw positive increases in their edit trajectories. Very prolific editors that had already seen months where they made more than 2,000 edits did not see a change in their edit trajectory. Those editors that had not yet reached 600 edits per month prior to the contest did not see a change in their edit trajectory. "
   ]
  },
  {
   "cell_type": "code",
   "execution_count": null,
   "metadata": {},
   "outputs": [],
   "source": [
    "#2018\n",
    "pd.pivot_table(weekly_edits_ptp_grantees.reset_index(),\n",
    "               index='week_n', columns='event_user_text', values='edits'\n",
    "              ).plot(subplots=True, figsize=(15,21));"
   ]
  },
  {
   "cell_type": "code",
   "execution_count": null,
   "metadata": {},
   "outputs": [],
   "source": [
    "#2017-2020\n",
    "pd.pivot_table(edits_ptp_grantees_edits_summed.reset_index(),\n",
    "               index='month/year', columns='event_user_text', values='editor_edits_per_month'\n",
    "              ).plot(subplots=True, figsize=(15,21));"
   ]
  },
  {
   "cell_type": "code",
   "execution_count": null,
   "metadata": {},
   "outputs": [],
   "source": [
    "over_400_mask = (edits_ptp_grantees_edits_summed['month/year'] < 2018.3) & (edits_ptp_grantees_edits_summed['editor_edits_per_month'] >= 400)\n",
    "over_800_mask = (edits_ptp_grantees_edits_summed['month/year'] < 2018.3) & (edits_ptp_grantees_edits_summed['editor_edits_per_month'] >= 800)\n",
    "over_2k_mask = (edits_ptp_grantees_edits_summed['month/year'] < 2018.3) & (edits_ptp_grantees_edits_summed['editor_edits_per_month'] >= 2000)\n",
    "\n",
    "mask_selects400 = edits_ptp_grantees_edits_summed[over_400_mask]\n",
    "mask_selects_800 = edits_ptp_grantees_edits_summed[over_800_mask]\n",
    "mask_selects_2k = edits_ptp_grantees_edits_summed[over_2k_mask]\n",
    "\n",
    "grantees_w_over_400_pm_pre = list(mask_selects400['event_user_text'].unique())\n",
    "grantees_w_over_800_pm_pre = list(mask_selects_800['event_user_text'].unique())\n",
    "grantees_w_over_2k_pm_pre = list(mask_selects_2k['event_user_text'].unique())\n",
    "grantees_w_800_2k_pm_pre = [x for x in grantees_w_over_800_pm_pre if x not in grantees_w_over_2k_pm_pre]\n"
   ]
  },
  {
   "cell_type": "code",
   "execution_count": null,
   "metadata": {},
   "outputs": [],
   "source": [
    "2001+\n",
    "801-2000\n",
    "100-800\n",
    "\n",
    "\n",
    "2001+\n",
    "1001-2000\n",
    "100-1000"
   ]
  },
  {
   "cell_type": "markdown",
   "metadata": {},
   "source": [
    "#### Segment into editors that had not reached 400+ edits per month prior to the contest"
   ]
  },
  {
   "cell_type": "code",
   "execution_count": null,
   "metadata": {},
   "outputs": [],
   "source": [
    "under_400_df = edits_ptp_grantees_edits_summed[~edits_ptp_grantees_edits_summed['event_user_text'].isin(grantees_w_over_400_pm_pre)]"
   ]
  },
  {
   "cell_type": "code",
   "execution_count": null,
   "metadata": {},
   "outputs": [],
   "source": [
    "sns.set() \n",
    "fig = plt.figure(figsize=(15,11))\n",
    "ax = fig.add_subplot(111)\n",
    "\n",
    "sns.lineplot(x=\"month/year\", y=\"editor_edits_per_month\", hue=\"event_user_text\", \n",
    "            data=under_400_df)\n",
    "\n",
    "plt.xticks(rotation=45)\n",
    "plt.title('---')\n",
    "\n",
    "plt.tight_layout()\n",
    "plt.show()"
   ]
  },
  {
   "cell_type": "code",
   "execution_count": null,
   "metadata": {},
   "outputs": [],
   "source": []
  },
  {
   "cell_type": "code",
   "execution_count": null,
   "metadata": {},
   "outputs": [],
   "source": []
  },
  {
   "cell_type": "markdown",
   "metadata": {},
   "source": [
    "#### Segment into editors that had <800 edits per month prior to the contest"
   ]
  },
  {
   "cell_type": "code",
   "execution_count": null,
   "metadata": {},
   "outputs": [],
   "source": [
    "small_df = edits_ptp_grantees_edits_summed[~edits_ptp_grantees_edits_summed['event_user_text'].isin(grantees_w_over_800_pm_pre)]"
   ]
  },
  {
   "cell_type": "code",
   "execution_count": null,
   "metadata": {},
   "outputs": [],
   "source": [
    "sns.set() \n",
    "fig = plt.figure(figsize=(15,11))\n",
    "ax = fig.add_subplot(111)\n",
    "\n",
    "sns.lineplot(x=\"month/year\", y=\"editor_edits_per_month\", hue=\"event_user_text\", \n",
    "            data=small_df)\n",
    "\n",
    "plt.xticks(rotation=45)\n",
    "plt.title('---')\n",
    "\n",
    "plt.tight_layout()\n",
    "plt.show()"
   ]
  },
  {
   "cell_type": "markdown",
   "metadata": {},
   "source": [
    "#### Segment into editors that had reached 800-2000 edits per month prior to the contest"
   ]
  },
  {
   "cell_type": "code",
   "execution_count": null,
   "metadata": {},
   "outputs": [],
   "source": [
    "mid_df = edits_ptp_grantees_edits_summed[edits_ptp_grantees_edits_summed['event_user_text'].isin(grantees_w_800_2k_pm_pre)]"
   ]
  },
  {
   "cell_type": "code",
   "execution_count": null,
   "metadata": {},
   "outputs": [],
   "source": [
    "sns.set() \n",
    "fig = plt.figure(figsize=(15,11))\n",
    "ax = fig.add_subplot(111)\n",
    "\n",
    "sns.lineplot(x=\"month/year\", y=\"editor_edits_per_month\", hue=\"event_user_text\", \n",
    "            data=mid_df)\n",
    "\n",
    "plt.xticks(rotation=45)\n",
    "plt.title('---')\n",
    "\n",
    "plt.tight_layout()\n",
    "plt.show()"
   ]
  },
  {
   "cell_type": "markdown",
   "metadata": {},
   "source": [
    "#### Segment into editors that had reached 2000 edits per month prior to the contest"
   ]
  },
  {
   "cell_type": "code",
   "execution_count": null,
   "metadata": {},
   "outputs": [],
   "source": [
    "over2k_df = edits_ptp_grantees_edits_summed[edits_ptp_grantees_edits_summed['event_user_text'].isin(grantees_w_over_2k_pm_pre)]"
   ]
  },
  {
   "cell_type": "code",
   "execution_count": null,
   "metadata": {},
   "outputs": [],
   "source": [
    "sns.set() \n",
    "fig = plt.figure(figsize=(15,11))\n",
    "ax = fig.add_subplot(111)\n",
    "\n",
    "sns.lineplot(x=\"month/year\", y=\"editor_edits_per_month\", hue=\"event_user_text\", \n",
    "            data=over2k_df)\n",
    "\n",
    "plt.xticks(rotation=45)\n",
    "plt.title('---')\n",
    "\n",
    "plt.tight_layout()\n",
    "plt.show()"
   ]
  },
  {
   "cell_type": "code",
   "execution_count": null,
   "metadata": {},
   "outputs": [],
   "source": [
    "plt.close('all')"
   ]
  }
 ],
 "metadata": {
  "kernelspec": {
   "display_name": "Python 3",
   "language": "python",
   "name": "python3"
  },
  "language_info": {
   "codemirror_mode": {
    "name": "ipython",
    "version": 3
   },
   "file_extension": ".py",
   "mimetype": "text/x-python",
   "name": "python",
   "nbconvert_exporter": "python",
   "pygments_lexer": "ipython3",
   "version": "3.5.3"
  }
 },
 "nbformat": 4,
 "nbformat_minor": 4
}
