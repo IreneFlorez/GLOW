{
 "cells": [
  {
   "cell_type": "code",
   "execution_count": 42,
   "metadata": {},
   "outputs": [],
   "source": [
    "import os\n",
    "from glob import glob\n",
    "import pandas as pd\n",
    "\n",
    "import wmfdata as wmf\n",
    "from wmfdata import charting, mariadb, hive\n",
    "from wmfdata.utils import pct_str, pd_display_all\n",
    "from urllib.parse import unquote"
   ]
  },
  {
   "cell_type": "code",
   "execution_count": 43,
   "metadata": {},
   "outputs": [],
   "source": [
    "filename = '../../data/raw/articles/2019/Tiger 2.0 - article page stats.xlsx'\n",
    "\n",
    "cols2skip = [0,2,3]\n",
    "cols = [i for i in range(10) if i not in cols2skip]\n",
    "dfs = pd.read_excel(filename, sheet_name=None, usecols=cols, header=None) #skiprows=1\n",
    "\n",
    "df = pd.concat([df.assign(name=n) for n,df in dfs.items()], sort=True)\n",
    "df.columns = ['page_title', 'language_name']"
   ]
  },
  {
   "cell_type": "code",
   "execution_count": 44,
   "metadata": {},
   "outputs": [
    {
     "data": {
      "text/plain": [
       "15"
      ]
     },
     "execution_count": 44,
     "metadata": {},
     "output_type": "execute_result"
    }
   ],
   "source": [
    "#check the langauage names (aka sheets by wiki) and make sure we can identify each language\n",
    "#pnbwiki\tWestern Punjabi\thttps://pnb.wikipedia.org/\n",
    "#pawiki\tPunjabi\tPunjabi(Gurumukhi)\thttps://pa.wikipedia.org/\n",
    "\n",
    "df['language_name'] = df['language_name'].replace('Bengali', 'Bangla')\n",
    "df['language_name'] = df['language_name'].replace('Punjabi(Gurumukhi)', 'Punjabi')\n",
    "\n",
    "lang_names =tuple(df['language_name'].unique())\n",
    "len(lang_names)"
   ]
  },
  {
   "cell_type": "code",
   "execution_count": 45,
   "metadata": {},
   "outputs": [],
   "source": [
    "ci = wmf.hive.run(\"\"\"\n",
    "SELECT  database_code, language_name, language_code\n",
    "FROM canonical_data.wikis\n",
    "WHERE language_name IN {lang_names} AND database_group = 'wikipedia'\n",
    "\"\"\".format(lang_names=lang_names))"
   ]
  },
  {
   "cell_type": "code",
   "execution_count": 46,
   "metadata": {},
   "outputs": [],
   "source": [
    "#merge\n",
    "df_ci = df.merge(ci, how=\"left\", on=['language_name'])"
   ]
  },
  {
   "cell_type": "code",
   "execution_count": 47,
   "metadata": {},
   "outputs": [],
   "source": [
    "df_ci_articles = df_ci.loc[df_ci['page_title'].notnull(), ['page_title', 'language_name', 'database_code', 'language_code']]"
   ]
  },
  {
   "cell_type": "code",
   "execution_count": 48,
   "metadata": {},
   "outputs": [
    {
     "name": "stdout",
     "output_type": "stream",
     "text": [
      "<class 'pandas.core.frame.DataFrame'>\n",
      "Int64Index: 9173 entries, 0 to 9771\n",
      "Data columns (total 4 columns):\n",
      "page_title       9173 non-null object\n",
      "language_name    9173 non-null object\n",
      "database_code    9173 non-null object\n",
      "language_code    9173 non-null object\n",
      "dtypes: object(4)\n",
      "memory usage: 358.3+ KB\n"
     ]
    }
   ],
   "source": [
    "df_ci_articles.info()"
   ]
  },
  {
   "cell_type": "code",
   "execution_count": 49,
   "metadata": {},
   "outputs": [],
   "source": [
    "#normalize the titles\n",
    "df_ci_articles['page_title'] = df_ci_articles['page_title'].str.replace(' ', '_').copy(deep=False)"
   ]
  },
  {
   "cell_type": "code",
   "execution_count": 50,
   "metadata": {},
   "outputs": [],
   "source": [
    "df_ci_articles.to_csv(\"../../data/raw/articles/2019/clean/articles.csv\", sep=',', encoding = 'utf-8', index=False)"
   ]
  },
  {
   "cell_type": "code",
   "execution_count": 51,
   "metadata": {},
   "outputs": [],
   "source": [
    "df_ci_articles_s = df_ci_articles[['page_title', 'language_code']]"
   ]
  },
  {
   "cell_type": "code",
   "execution_count": 52,
   "metadata": {},
   "outputs": [
    {
     "data": {
      "text/plain": [
       "15"
      ]
     },
     "execution_count": 52,
     "metadata": {},
     "output_type": "execute_result"
    }
   ],
   "source": [
    "len(df_ci_articles['language_code'].unique())"
   ]
  },
  {
   "cell_type": "code",
   "execution_count": 53,
   "metadata": {},
   "outputs": [],
   "source": [
    "wikis_in_submitted_articles_df = list(df_ci_articles['language_code'].unique())"
   ]
  },
  {
   "cell_type": "code",
   "execution_count": 54,
   "metadata": {},
   "outputs": [
    {
     "name": "stdout",
     "output_type": "stream",
     "text": [
      "Stored 'wikis_in_submitted_articles_df' (list)\n"
     ]
    }
   ],
   "source": [
    "%store wikis_in_submitted_articles_df"
   ]
  },
  {
   "cell_type": "code",
   "execution_count": 55,
   "metadata": {},
   "outputs": [
    {
     "name": "stdout",
     "output_type": "stream",
     "text": [
      "<class 'pandas.core.frame.DataFrame'>\n",
      "Int64Index: 9173 entries, 0 to 9771\n",
      "Data columns (total 2 columns):\n",
      "page_title       9173 non-null object\n",
      "language_code    9173 non-null object\n",
      "dtypes: object(2)\n",
      "memory usage: 215.0+ KB\n"
     ]
    }
   ],
   "source": [
    "df_ci_articles_s.info()"
   ]
  },
  {
   "cell_type": "code",
   "execution_count": 60,
   "metadata": {},
   "outputs": [],
   "source": [
    "z=df_ci_articles_s.groupby(['language_code']).agg(['nunique'])"
   ]
  },
  {
   "cell_type": "code",
   "execution_count": 61,
   "metadata": {},
   "outputs": [],
   "source": [
    "z.columns = ['nunique'] "
   ]
  },
  {
   "cell_type": "code",
   "execution_count": 62,
   "metadata": {},
   "outputs": [
    {
     "data": {
      "text/html": [
       "<div>\n",
       "<style scoped>\n",
       "    .dataframe tbody tr th:only-of-type {\n",
       "        vertical-align: middle;\n",
       "    }\n",
       "\n",
       "    .dataframe tbody tr th {\n",
       "        vertical-align: top;\n",
       "    }\n",
       "\n",
       "    .dataframe thead th {\n",
       "        text-align: right;\n",
       "    }\n",
       "</style>\n",
       "<table border=\"1\" class=\"dataframe\">\n",
       "  <thead>\n",
       "    <tr style=\"text-align: right;\">\n",
       "      <th></th>\n",
       "      <th>language_code</th>\n",
       "      <th>nunique</th>\n",
       "    </tr>\n",
       "  </thead>\n",
       "  <tbody>\n",
       "    <tr>\n",
       "      <th>11</th>\n",
       "      <td>ta</td>\n",
       "      <td>2929</td>\n",
       "    </tr>\n",
       "    <tr>\n",
       "      <th>8</th>\n",
       "      <td>pa</td>\n",
       "      <td>1751</td>\n",
       "    </tr>\n",
       "    <tr>\n",
       "      <th>14</th>\n",
       "      <td>ur</td>\n",
       "      <td>1373</td>\n",
       "    </tr>\n",
       "    <tr>\n",
       "      <th>1</th>\n",
       "      <td>bn</td>\n",
       "      <td>1223</td>\n",
       "    </tr>\n",
       "    <tr>\n",
       "      <th>10</th>\n",
       "      <td>sat</td>\n",
       "      <td>493</td>\n",
       "    </tr>\n",
       "    <tr>\n",
       "      <th>3</th>\n",
       "      <td>hi</td>\n",
       "      <td>253</td>\n",
       "    </tr>\n",
       "    <tr>\n",
       "      <th>5</th>\n",
       "      <td>ml</td>\n",
       "      <td>229</td>\n",
       "    </tr>\n",
       "    <tr>\n",
       "      <th>2</th>\n",
       "      <td>gu</td>\n",
       "      <td>201</td>\n",
       "    </tr>\n",
       "    <tr>\n",
       "      <th>4</th>\n",
       "      <td>kn</td>\n",
       "      <td>200</td>\n",
       "    </tr>\n",
       "    <tr>\n",
       "      <th>0</th>\n",
       "      <td>as</td>\n",
       "      <td>195</td>\n",
       "    </tr>\n",
       "    <tr>\n",
       "      <th>7</th>\n",
       "      <td>or</td>\n",
       "      <td>136</td>\n",
       "    </tr>\n",
       "    <tr>\n",
       "      <th>6</th>\n",
       "      <td>mr</td>\n",
       "      <td>122</td>\n",
       "    </tr>\n",
       "    <tr>\n",
       "      <th>12</th>\n",
       "      <td>tcy</td>\n",
       "      <td>24</td>\n",
       "    </tr>\n",
       "    <tr>\n",
       "      <th>13</th>\n",
       "      <td>te</td>\n",
       "      <td>24</td>\n",
       "    </tr>\n",
       "    <tr>\n",
       "      <th>9</th>\n",
       "      <td>sa</td>\n",
       "      <td>19</td>\n",
       "    </tr>\n",
       "  </tbody>\n",
       "</table>\n",
       "</div>"
      ],
      "text/plain": [
       "   language_code  nunique\n",
       "11            ta     2929\n",
       "8             pa     1751\n",
       "14            ur     1373\n",
       "1             bn     1223\n",
       "10           sat      493\n",
       "3             hi      253\n",
       "5             ml      229\n",
       "2             gu      201\n",
       "4             kn      200\n",
       "0             as      195\n",
       "7             or      136\n",
       "6             mr      122\n",
       "12           tcy       24\n",
       "13            te       24\n",
       "9             sa       19"
      ]
     },
     "execution_count": 62,
     "metadata": {},
     "output_type": "execute_result"
    }
   ],
   "source": [
    "z.reset_index().sort_values('nunique', ascending=False)"
   ]
  },
  {
   "cell_type": "code",
   "execution_count": 65,
   "metadata": {},
   "outputs": [
    {
     "name": "stdout",
     "output_type": "stream",
     "text": [
      "9172\n"
     ]
    }
   ],
   "source": [
    "print(z['nunique'].sum())"
   ]
  },
  {
   "cell_type": "code",
   "execution_count": 63,
   "metadata": {},
   "outputs": [],
   "source": [
    "aswiki_titles_normalized = tuple(list(articles_s.loc[articles_s['language_code'] == 'as', 'page_title']))\n",
    "bnwiki_titles_normalized = tuple(list(articles_s.loc[articles_s['language_code'] == 'bn', 'page_title']))\n",
    "guwiki_titles_normalized = tuple(list(articles_s.loc[articles_s['language_code'] == 'gu', 'page_title']))\n",
    "hiwiki_titles_normalized = tuple(list(articles_s.loc[articles_s['language_code'] == 'hi', 'page_title']))\n",
    "knwiki_titles_normalized = tuple(list(articles_s.loc[articles_s['language_code'] == 'kn', 'page_title']))\n",
    "mlwiki_titles_normalized = tuple(list(articles_s.loc[articles_s['language_code'] == 'ml', 'page_title']))\n",
    "mrwiki_titles_normalized = tuple(list(articles_s.loc[articles_s['language_code'] == 'mr', 'page_title']))\n",
    "orwiki_titles_normalized = tuple(list(articles_s.loc[articles_s['language_code'] == 'or', 'page_title']))\n",
    "pawiki_titles_normalized = tuple(list(articles_s.loc[articles_s['language_code'] == 'pa', 'page_title']))\n",
    "sawiki_titles_normalized = tuple(list(articles_s.loc[articles_s['language_code'] == 'sa', 'page_title']))\n",
    "satwiki_titles_normalized = tuple(list(articles_s.loc[articles_s['language_code'] == 'sat', 'page_title']))\n",
    "tawiki_titles_normalized = tuple(list(articles_s.loc[articles_s['language_code'] == 'ta', 'page_title']))\n",
    "tewiki_titles_normalized = tuple(list(articles_s.loc[articles_s['language_code'] == 'te', 'page_title']))\n",
    "tcywiki_titles_normalized = tuple(list(articles_s.loc[articles_s['language_code'] == 'tcy', 'page_title']))\n",
    "urwiki_titles_normalized = tuple(list(articles_s.loc[articles_s['language_code'] == 'ur', 'page_title']))"
   ]
  },
  {
   "cell_type": "code",
   "execution_count": 64,
   "metadata": {},
   "outputs": [
    {
     "name": "stdout",
     "output_type": "stream",
     "text": [
      "Stored 'aswiki_titles_normalized' (tuple)\n",
      "Stored 'bnwiki_titles_normalized' (tuple)\n",
      "Stored 'guwiki_titles_normalized' (tuple)\n",
      "Stored 'hiwiki_titles_normalized' (tuple)\n",
      "Stored 'knwiki_titles_normalized' (tuple)\n",
      "Stored 'mlwiki_titles_normalized' (tuple)\n",
      "Stored 'mrwiki_titles_normalized' (tuple)\n",
      "Stored 'orwiki_titles_normalized' (tuple)\n",
      "Stored 'pawiki_titles_normalized' (tuple)\n",
      "Stored 'sawiki_titles_normalized' (tuple)\n",
      "Stored 'satwiki_titles_normalized' (tuple)\n",
      "Stored 'tawiki_titles_normalized' (tuple)\n",
      "Stored 'tewiki_titles_normalized' (tuple)\n",
      "Stored 'tcywiki_titles_normalized' (tuple)\n",
      "Stored 'urwiki_titles_normalized' (tuple)\n"
     ]
    }
   ],
   "source": [
    "%store aswiki_titles_normalized\n",
    "%store bnwiki_titles_normalized\n",
    "%store guwiki_titles_normalized \n",
    "%store hiwiki_titles_normalized \n",
    "%store knwiki_titles_normalized\n",
    "%store mlwiki_titles_normalized\n",
    "%store mrwiki_titles_normalized\n",
    "%store orwiki_titles_normalized\n",
    "%store pawiki_titles_normalized\n",
    "%store sawiki_titles_normalized\n",
    "%store satwiki_titles_normalized\n",
    "%store tawiki_titles_normalized \n",
    "%store tewiki_titles_normalized \n",
    "%store tcywiki_titles_normalized\n",
    "%store urwiki_titles_normalized "
   ]
  },
  {
   "cell_type": "code",
   "execution_count": null,
   "metadata": {},
   "outputs": [],
   "source": []
  }
 ],
 "metadata": {
  "kernelspec": {
   "display_name": "Python 3",
   "language": "python",
   "name": "python3"
  },
  "language_info": {
   "codemirror_mode": {
    "name": "ipython",
    "version": 3
   },
   "file_extension": ".py",
   "mimetype": "text/x-python",
   "name": "python",
   "nbconvert_exporter": "python",
   "pygments_lexer": "ipython3",
   "version": "3.5.3"
  }
 },
 "nbformat": 4,
 "nbformat_minor": 4
}
