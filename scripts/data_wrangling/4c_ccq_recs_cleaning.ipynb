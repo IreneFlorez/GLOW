{
 "cells": [
  {
   "cell_type": "code",
   "execution_count": 1,
   "metadata": {},
   "outputs": [],
   "source": [
    "import pandas as pd\n",
    "import numpy as np"
   ]
  },
  {
   "cell_type": "markdown",
   "metadata": {},
   "source": [
    "### Indonesia"
   ]
  },
  {
   "cell_type": "code",
   "execution_count": 74,
   "metadata": {},
   "outputs": [],
   "source": [
    "articles = pd.read_csv(\"../../data/processed/query_results/content_quality/indonesia/CQ_all_articles.csv\")\n",
    "recs     = pd.read_csv(\"../../data/processed/query_results/topic_lists/indonesia/rec_qids_iwls.csv\", sep=',', encoding = 'utf-8') \n",
    "pv_df    = pd.read_csv(\"../../data/raw/articles/2019/query_results/content_quality/per_wiki_full/Indonesia/articles_w_july_incountry_pageviews.csv\", sep=',', encoding = 'utf-8')\n",
    "\n",
    "articles_labels_df = pd.read_csv(\"../../data/processed/query_results/topic_lists/GLOW_Saraswati1_topics_df.csv\", sep=',', encoding = 'utf-8')"
   ]
  },
  {
   "cell_type": "code",
   "execution_count": null,
   "metadata": {},
   "outputs": [],
   "source": []
  },
  {
   "cell_type": "code",
   "execution_count": 75,
   "metadata": {},
   "outputs": [],
   "source": [
    "recs['g_suggestion'] = True\n",
    "articles = articles.reindex(sorted(articles.columns), axis=1)\n",
    "recs = recs.reindex(sorted(recs.columns), axis=1)\n",
    "pv_df = pv_df.reindex(sorted(pv_df.columns), axis=1)"
   ]
  },
  {
   "cell_type": "code",
   "execution_count": 76,
   "metadata": {},
   "outputs": [
    {
     "name": "stdout",
     "output_type": "stream",
     "text": [
      "744\n",
      "4\n",
      "14\n",
      "0\n",
      "91\n",
      "86\n",
      "16\n"
     ]
    }
   ],
   "source": [
    "rec_QIDs= list(recs['QID'].unique())\n",
    "rec_page_titles = list(recs['page_title'].unique())\n",
    "rec_page_ids= list(recs['page_id'].unique())\n",
    "rec_local_wikipedias= list(recs['local_wikipedia'].unique())\n",
    "\n",
    "rec_Topics= list(recs['Topic'].unique())\n",
    "rec_article_suggestions= list(recs['article_suggestion'].unique())\n",
    "rec_local_encoded_titles= list(recs['local_encoded_title'].unique())\n",
    "\n",
    "print(len(pv_df[pv_df['QID'].isin(rec_QIDs)]))\n",
    "print(len(pv_df[pv_df['page_id'].isin(rec_page_ids)]))\n",
    "print(len(pv_df[pv_df['page_title'].isin(rec_page_titles)]))\n",
    "\n",
    "print(len(pv_df[pv_df['page_title'].isin(rec_local_wikipedias)]))\n",
    "print(len(pv_df[pv_df['page_title'].isin(rec_Topics)]))\n",
    "print(len(pv_df[pv_df['page_title'].isin(rec_article_suggestions)]))\n",
    "print(len(pv_df[pv_df['page_title'].isin(rec_local_encoded_titles)]))"
   ]
  },
  {
   "cell_type": "code",
   "execution_count": 77,
   "metadata": {},
   "outputs": [],
   "source": [
    "recs_select = recs[['g_suggestion','QID', 'database_code', 'given_order', 'suggestion_type',\n",
    "                         'page_title','page_id','local_wikipedia','Topic', 'article_suggestion', 'local_encoded_title'\n",
    "                        ]]\n",
    "\n",
    "recs_select.rename(columns={'given_order'        :'recs_given_order',\n",
    "                           'suggestion_type'    : 'recs_suggestion_type',\n",
    "                           'local_wikipedia'    : 'recs_local_wikipedia',\n",
    "                           'Topic'              :'recs_Topic',\n",
    "                           'article_suggestion' : 'recs_article_suggestion',\n",
    "                           'local_encoded_title':'recs_local_encoded_title',\n",
    "                          }, inplace=True)"
   ]
  },
  {
   "cell_type": "code",
   "execution_count": 78,
   "metadata": {},
   "outputs": [],
   "source": [
    "m = pv_df.merge(recs_select[['QID','database_code','recs_given_order','recs_suggestion_type', 'g_suggestion']],  how='left', on=['QID', 'database_code']).merge(recs_select[['page_id','database_code','recs_given_order','recs_suggestion_type']], how='left', on=['page_id', 'database_code']).drop(['recs_given_order_y','recs_suggestion_type_y'], axis=1).rename(columns={'given_order':'recs_given_order','recs_given_order_x': 'recs_given_order','recs_suggestion_type_x': 'recs_suggestion_type'})"
   ]
  },
  {
   "cell_type": "code",
   "execution_count": 79,
   "metadata": {},
   "outputs": [],
   "source": [
    "z = m.merge(recs_select[['page_title','database_code','recs_given_order','recs_suggestion_type', 'g_suggestion']], how='left', on=['page_title', 'database_code'])\n",
    "z.loc[~z[\"recs_suggestion_type_y\"].isnull(),'recs_suggestion_type_x'] = z[\"recs_suggestion_type_y\"] \n",
    "z.loc[~z[\"recs_given_order_y\"].isnull(),'recs_given_order_x'] = z[\"recs_given_order_y\"] \n",
    "z = z.drop(['recs_given_order_y','recs_suggestion_type_y'], axis=1).rename(columns={'recs_given_order_x':'recs_given_order','recs_suggestion_type_x': 'recs_suggestion_type'})\n",
    "\n",
    "z = z.reindex(sorted(z.columns), axis=1)\n",
    "z[\"cg_suggestion\"] = z[['g_suggestion_x', 'g_suggestion_y']].any(axis='columns')\n",
    "z = z.drop(['g_suggestion_x','g_suggestion_y'], axis=1).rename(columns={'cg_suggestion':'g_suggestion'})"
   ]
  },
  {
   "cell_type": "code",
   "execution_count": 80,
   "metadata": {},
   "outputs": [],
   "source": [
    "n = z.merge(recs_select[['recs_Topic','database_code','recs_given_order','recs_suggestion_type', 'g_suggestion']], how='left', left_on=['page_title', 'database_code'], right_on=['recs_Topic', 'database_code'])\n",
    "n.loc[n[\"recs_suggestion_type_x\"].isnull(),'recs_suggestion_type_x'] = n[\"recs_suggestion_type_y\"] \n",
    "n.loc[n[\"recs_given_order_x\"].isnull(),'recs_given_order_x'] = n[\"recs_given_order_y\"] \n",
    "n[\"cg_suggestion\"] = n[['g_suggestion_x', 'g_suggestion_y']].any(axis='columns')\n",
    "n = n.drop(['recs_given_order_y','recs_suggestion_type_y','g_suggestion_x','g_suggestion_y'], axis=1).rename(columns={'recs_given_order_x':'recs_given_order',\n",
    "                                                                                                                      'recs_suggestion_type_x': 'recs_suggestion_type',\n",
    "                                                                                                                      'cg_suggestion':'g_suggestion'\n",
    "                                                                                                                     })\n"
   ]
  },
  {
   "cell_type": "code",
   "execution_count": 81,
   "metadata": {},
   "outputs": [],
   "source": [
    "w = n.merge(recs_select[['recs_article_suggestion','database_code','recs_given_order','recs_suggestion_type', 'g_suggestion']], how='left', left_on=['page_title', 'database_code'], right_on=['recs_article_suggestion', 'database_code'])\n",
    "w.loc[w[\"recs_suggestion_type_x\"].isnull(),'recs_suggestion_type_x'] = w[\"recs_suggestion_type_y\"] \n",
    "w.loc[w[\"recs_given_order_x\"].isnull(),'recs_given_order_x'] = w[\"recs_given_order_y\"] \n",
    "w[\"cg_suggestion\"] = w[['g_suggestion_x', 'g_suggestion_y']].any(axis='columns')\n",
    "w = w.drop(['recs_given_order_y','recs_suggestion_type_y','g_suggestion_x','g_suggestion_y'], axis=1).rename(columns={'recs_given_order_x':'recs_given_order',\n",
    "                                                                                                                      'recs_suggestion_type_x': 'recs_suggestion_type',\n",
    "                                                                                                                      'cg_suggestion':'g_suggestion'\n",
    "                                                                                                                     })"
   ]
  },
  {
   "cell_type": "code",
   "execution_count": 82,
   "metadata": {},
   "outputs": [],
   "source": [
    "z = w.merge(recs_select[['recs_local_encoded_title','database_code','recs_given_order','recs_suggestion_type', 'g_suggestion']], how='left', left_on=['page_title', 'database_code'], right_on=['recs_local_encoded_title', 'database_code'])\n",
    "z.loc[z[\"recs_suggestion_type_x\"].isnull(),'recs_suggestion_type_x'] = z[\"recs_suggestion_type_y\"] \n",
    "z.loc[z[\"recs_given_order_x\"].isnull(),'recs_given_order_x'] = z[\"recs_given_order_y\"] \n",
    "z[\"cg_suggestion\"] = z[['g_suggestion_x', 'g_suggestion_y']].any(axis='columns')\n",
    "z = z.drop(['recs_given_order_y','recs_suggestion_type_y','g_suggestion_x','g_suggestion_y'], axis=1).rename(columns={'recs_given_order_x':'recs_given_order',\n",
    "                                                                                                                      'recs_suggestion_type_x': 'recs_suggestion_type',\n",
    "                                                                                                                      'cg_suggestion':'g_suggestion'\n",
    "                                                                                                                     })"
   ]
  },
  {
   "cell_type": "code",
   "execution_count": 83,
   "metadata": {},
   "outputs": [
    {
     "data": {
      "text/plain": [
       "1793"
      ]
     },
     "execution_count": 83,
     "metadata": {},
     "output_type": "execute_result"
    }
   ],
   "source": [
    "len(z)"
   ]
  },
  {
   "cell_type": "code",
   "execution_count": 84,
   "metadata": {},
   "outputs": [
    {
     "data": {
      "text/plain": [
       "Editing        8393\n",
       "Translating    4659\n",
       "Name: suggestion_type, dtype: int64"
      ]
     },
     "execution_count": 84,
     "metadata": {},
     "output_type": "execute_result"
    }
   ],
   "source": [
    "recs['suggestion_type'].value_counts()"
   ]
  },
  {
   "cell_type": "code",
   "execution_count": 85,
   "metadata": {},
   "outputs": [],
   "source": [
    "articles_labels_df['QID']= articles_labels_df['QID'].str.replace('Q', '')\n",
    "articles_labels_df['QID'] = articles_labels_df['QID'].astype(np.int64)"
   ]
  },
  {
   "cell_type": "code",
   "execution_count": 86,
   "metadata": {},
   "outputs": [],
   "source": [
    "final =  articles_labels_df[['QID', 'page_title','predicted_label_1','pl1_score']].merge(z, how='right', on=['page_title', 'QID'])"
   ]
  },
  {
   "cell_type": "code",
   "execution_count": 87,
   "metadata": {},
   "outputs": [],
   "source": [
    "final = final.drop_duplicates(subset=['page_title', 'database_code', 'page_id', 'filename', 'QID'], keep='first') "
   ]
  },
  {
   "cell_type": "code",
   "execution_count": 88,
   "metadata": {},
   "outputs": [],
   "source": [
    "final.to_csv(\"../../data/raw/articles/2019/query_results/content_quality/per_wiki_full/Indonesia/articles_w_july_incountry_pageviews_recs.csv\", sep=',', encoding = 'utf-8')"
   ]
  },
  {
   "cell_type": "markdown",
   "metadata": {},
   "source": [
    "## India"
   ]
  },
  {
   "cell_type": "raw",
   "metadata": {},
   "source": [
    "#add column for whether it was a g_suggestion or not\n",
    "suggestions_created_b['g_suggestion'] = True\n",
    "suggestions_created_a['g_suggestion'] = True\n",
    "nppt_articles_edits_contest_unique['g_suggestion'] = True"
   ]
  },
  {
   "cell_type": "raw",
   "metadata": {},
   "source": [
    "#select columns to concat below\n",
    "suggestions_created_a_selects = suggestions_created_a[['g_suggestion','QID', 'database_code']]\n",
    "suggestions_created_b_selects = suggestions_created_b[['g_suggestion','QID', 'database_code']]\n",
    "#concat\n",
    "translations_created = pd.concat([suggestions_created_a_selects, suggestions_created_b_selects], sort=True)"
   ]
  },
  {
   "cell_type": "raw",
   "metadata": {},
   "source": [
    "#merge with translations_created\n",
    "final_frame_updated_pv_topics_b_a = final_frame_updated_pv_topics.merge(translations_created, \n",
    "                                                                        how=\"left\", \n",
    "                                                                        on=['QID', 'database_code']\n",
    "                                                                ).fillna(False)"
   ]
  },
  {
   "cell_type": "raw",
   "metadata": {},
   "source": [
    "#merge \n",
    "interim_frame_updated_pv_topics_suggs = interim_frame_updated_pv_topics.merge(translations_created, \n",
    "                                                                        how=\"left\", \n",
    "                                                                        on=['QID', 'database_code'],\n",
    "                                                                        suffixes=('_interim', '_new')\n",
    "                                                                ).merge(nppt_articles_edits_contest_unique, \n",
    "                                                                        how=\"left\", \n",
    "                                                                        on=['page_title', 'page_id','database_code'],\n",
    "                                                                        suffixes=('_merge', '_stub')\n",
    "                                                                )\n",
    "\n",
    "#replace any NaN values in g_suggestion_merge column with the corresponding value of g_suggestion_stub column. Delete the 'g_suggestion_stub' column. Then rename the g_suggestion_merge column and convert remaining NaNs to False\n",
    "interim_frame_updated_pv_topics_suggs.g_suggestion_merge.fillna(interim_frame_updated_pv_topics_suggs.g_suggestion_stub, inplace=True)\n",
    "del interim_frame_updated_pv_topics_suggs['g_suggestion_stub']\n",
    "interim_frame_updated_pv_topics_suggs.rename(columns={'g_suggestion_merge':'g_suggestion'}, inplace = True)\n",
    "interim_frame_updated_pv_topics_suggs['g_suggestion'] = interim_frame_updated_pv_topics_suggs['g_suggestion'].fillna(False)\n",
    "\n",
    "#create a clean boolean column based on the two in-conflict suggestions columns\n",
    "#interim_frame_pv_sba['g_suggestion'] = (interim_frame_pv_sba['g_suggestion_merge']==True) | (interim_frame_pv_sba['g_suggestion_stub']==True)\n",
    "#interim_frame_pv_sba_c = interim_frame_pv_sba.drop('g_suggestion_merge', axis=1).drop('g_suggestion_stub', axis=1)"
   ]
  },
  {
   "cell_type": "code",
   "execution_count": 16,
   "metadata": {},
   "outputs": [
    {
     "name": "stdout",
     "output_type": "stream",
     "text": [
      "# final submits that were g_suggestions 855\n",
      "# interim submits that were g_suggestions 1536\n"
     ]
    }
   ],
   "source": [
    "print('# final submits that were g_suggestions' , len(final_frame_updated_pv_topics_b_a[final_frame_updated_pv_topics_b_a['g_suggestion']==True]))\n",
    "print('# interim submits that were g_suggestions' , len(interim_frame_updated_pv_topics_suggs[interim_frame_updated_pv_topics_suggs['g_suggestion']==True]))"
   ]
  },
  {
   "cell_type": "raw",
   "metadata": {},
   "source": [
    "#save\n",
    "final_frame_updated_pv_topics_b_a.to_csv(\"../../data/processed/query_results/content_quality/b5_final_frame_updated_pv_topics_g_suggs.csv\", sep=',', encoding = 'utf-8', index=False) "
   ]
  },
  {
   "cell_type": "raw",
   "metadata": {},
   "source": [
    "#save\n",
    "interim_frame_updated_pv_topics_suggs.to_csv(\"../../data/processed/query_results/content_quality/5_interim_frame_updated_w_g_suggs.csv\", sep=',', encoding = 'utf-8', index=False) "
   ]
  },
  {
   "cell_type": "code",
   "execution_count": null,
   "metadata": {},
   "outputs": [],
   "source": []
  }
 ],
 "metadata": {
  "kernelspec": {
   "display_name": "Python 3",
   "language": "python",
   "name": "python3"
  },
  "language_info": {
   "codemirror_mode": {
    "name": "ipython",
    "version": 3
   },
   "file_extension": ".py",
   "mimetype": "text/x-python",
   "name": "python",
   "nbconvert_exporter": "python",
   "pygments_lexer": "ipython3",
   "version": "3.5.3"
  }
 },
 "nbformat": 4,
 "nbformat_minor": 4
}
