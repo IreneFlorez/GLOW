{
 "cells": [
  {
   "cell_type": "markdown",
   "metadata": {},
   "source": [
    "# GLOW - Data Handling"
   ]
  },
  {
   "cell_type": "markdown",
   "metadata": {},
   "source": [
    "## Table of Contents  <a class=\"anchor\" id=\"toc\"></a>\n",
    "\n",
    "* [Data Handling](#top)\n",
    "    1. [functions](#nea)\n",
    "    2. [filter definitions](#pagelen)\n",
    "    3. [methods](#pageviews_detailed)"
   ]
  },
  {
   "cell_type": "code",
   "execution_count": 2,
   "metadata": {},
   "outputs": [],
   "source": [
    "import datetime as dt \n",
    "from datetime import date\n",
    "from datetime import datetime, timedelta\n",
    "import dateutil\n",
    "from dateutil.relativedelta import relativedelta\n",
    "from dateutil.relativedelta import *\n",
    "import gc\n",
    "import pandas as pd"
   ]
  },
  {
   "cell_type": "markdown",
   "metadata": {},
   "source": [
    "## Functions\n",
    "[Back to Table of Contents](#toc)"
   ]
  },
  {
   "cell_type": "markdown",
   "metadata": {},
   "source": [
    "## Data Handling\n",
    "[Back to Table of Contents](#toc)"
   ]
  },
  {
   "cell_type": "code",
   "execution_count": 3,
   "metadata": {},
   "outputs": [],
   "source": [
    "def top_10(df, col):\n",
    "    return df.sort_values(col, ascending=False).head(10)"
   ]
  },
  {
   "cell_type": "code",
   "execution_count": 4,
   "metadata": {},
   "outputs": [],
   "source": [
    "def merge_in(df, on=\"database_code\"):\n",
    "    global wikis\n",
    "    wikis = pd.merge(wikis, df, how=\"left\", on=on).fillna(0)"
   ]
  },
  {
   "cell_type": "code",
   "execution_count": 5,
   "metadata": {},
   "outputs": [],
   "source": [
    "def merge_in_content(df, on=\"page_id\"):\n",
    "    global articles\n",
    "    articles = pd.merge(articles, df, how=\"left\", on=on).fillna(0)"
   ]
  },
  {
   "cell_type": "code",
   "execution_count": 6,
   "metadata": {},
   "outputs": [],
   "source": [
    "def add_country_column(wiki):\n",
    "    if wiki in glow_india.get_quoted_wiki_domains():\n",
    "        return glow_india.get_countries()\n",
    "    elif wiki in glow_indonesia.get_quoted_wiki_domains():\n",
    "        return glow_indonesia.get_countries()\n",
    "    elif wiki in glow_mena.get_quoted_wiki_domains():\n",
    "        return 'MENA'\n",
    "    elif wiki in glow_argentina.get_quoted_wiki_domains():\n",
    "        return glow_argentina.get_countries()\n",
    "    elif wiki in glow_nigeria.get_quoted_wiki_domains():\n",
    "        return glow_nigeria.get_countries()\n",
    "    else:\n",
    "        return 'not_known'"
   ]
  },
  {
   "cell_type": "code",
   "execution_count": 7,
   "metadata": {},
   "outputs": [],
   "source": [
    "def create_fill_column(x):\n",
    "    if (x < quality_vars.get('contest_start_dt')):\n",
    "        return('expanded')\n",
    "    elif (x > quality_vars.get('contest_end_dt')):\n",
    "        return('post')\n",
    "    elif (x >= quality_vars.get('contest_start_dt')) & (x <= quality_vars.get('contest_end_dt')):\n",
    "        return('new')"
   ]
  },
  {
   "cell_type": "code",
   "execution_count": 8,
   "metadata": {},
   "outputs": [],
   "source": [
    "#create bins to seperate number of editors/links into categories\n",
    "epa_bins = [0, 1, 2, 4, 6, 8, 10, 20, 100, 200]\n",
    "oel_bins = [0, 1, 2, 4, 6, 8, 10, 12, 14, 16, 18, 20, 100, 200]\n",
    "oext_bins = [0, 1, 2, 4, 6, 8, 10, 12, 14, 16, 18, 20, 30, 40, 50, 100, 200]"
   ]
  },
  {
   "cell_type": "raw",
   "metadata": {},
   "source": [
    "Isaac's - edit bins\n",
    "0 edits: 26%\n",
    "1-4 edits: 18%\n",
    "5-99 edits: 32%\n",
    "100-999 edits: 14%\n",
    "1000+ edits: 10%"
   ]
  },
  {
   "cell_type": "markdown",
   "metadata": {},
   "source": [
    "## Filter definitions\n",
    "[Back to Table of Contents](#toc)"
   ]
  },
  {
   "cell_type": "code",
   "execution_count": 9,
   "metadata": {},
   "outputs": [],
   "source": [
    "#Parent class\n",
    "class GlowProject:\n",
    "    '''\n",
    "    A Glow project.\n",
    "    '''\n",
    "\n",
    "    #Expect boolean\n",
    "    #glow_project = glow_project\n",
    "    \n",
    "    _instances = set()\n",
    "    \n",
    "    def __init__(self, countries, iso_codes, wiki_codes, wiki_names): \n",
    "        '''\n",
    "        :param countries: names of the countries that are part of this project\n",
    "        :type countries: list\n",
    "        \n",
    "        :param iso_codes: iso_codes of the countries that are part of this project\n",
    "        :type iso_codes: list\n",
    "        \n",
    "        :param wiki_codes: abbreviated codes of the wikis that are part of this project\n",
    "        :type wiki_codes: list\n",
    "        \n",
    "        :param wiki_names: full names of the wikis that are part of this project (expected to be corresponding to the codes in `wiki_code`)\n",
    "        :type wiki_names: list\n",
    "        \n",
    "        :param start_date: start date of the project (as a YYYY-MM-dd formatted string)\n",
    "        :type start_date: str\n",
    "        \n",
    "        :param end_date: end date of the project (as a YYYY-MM-dd formatted string)\n",
    "        :type end_date: str\n",
    "\n",
    "        \n",
    "        '''\n",
    "        \n",
    "        self.countries = countries\n",
    "        self.iso_codes = iso_codes\n",
    "        self.wiki_codes = wiki_codes #wiki abbreviation\n",
    "        self.wiki_names = wiki_names #language name for the wiki\n",
    "\n",
    "        \n",
    "        \n",
    "        \n",
    "    @classmethod\n",
    "    def getinstances(cls):\n",
    "        dead = set()\n",
    "        for ref in cls._instances:\n",
    "            obj = ref()\n",
    "            if obj is not None:\n",
    "                yield obj\n",
    "            else:\n",
    "                dead.add(ref)\n",
    "        cls._instances -= dead\n",
    "        \n",
    "   \n",
    "    def get_glow_meta_info(): #TO DO  \n",
    "        for obj in GlowProject.get_instances():\n",
    "            print (obj.countries)\n",
    "    \n",
    "    def get_countries(self):\n",
    "        return (self.countries)\n",
    "    \n",
    "    def get_wiki_names(self):\n",
    "        return(self.wiki_names)\n",
    "    \n",
    "    def get_wiki_codes(self):\n",
    "        return(self.wiki_codes)\n",
    "    \n",
    "    \n",
    "    \n",
    "    \n",
    "    def get_wiki_dbs_mariadb(self):\n",
    "        '''\n",
    "        Return a list of all the wiki_db+\"wiki\", databases,\n",
    "        associated with this project for use with MariaDB queries.\n",
    "        '''\n",
    "        dbs = [\"{}wiki\".format(wiki_code.lower()) for wiki_code in self.wiki_codes]\n",
    "        return(dbs)\n",
    "    \n",
    "    def get_quoted_wiki_dbs(self):\n",
    "        '''\n",
    "        Return a quoted, comma-separated list of the names of the wiki_dbs, databases,\n",
    "        associated with this project.\n",
    "        '''\n",
    "        return(', '.join(['\"{}wiki\"'.format(wiki_code.lower()) for wiki_code in self.wiki_codes]))      \n",
    "\n",
    "    def get_wiki_codes(self):\n",
    "        '''\n",
    "        Return a quoted, comma-separated list of the wiki_codes \n",
    "        associated with this project.\n",
    "        '''\n",
    "        return(', '.join(['{}'.format(wiki_code) for wiki_code in self.wiki_codes]))\n",
    "       \n",
    "    def get_quoted_wiki_projects(self):\n",
    "        '''\n",
    "        Return a quoted, comma-separated list of the wiki projects \n",
    "        associated with this project. Example: \"bn.wikipedia\".\n",
    "        '''\n",
    "        return(', '.join(['\"{}.wikipedia\"'.format(wiki_code.lower()) for wiki_code in self.wiki_codes]))\n",
    "    \n",
    "    def get_quoted_wiki_domains(self):\n",
    "        '''\n",
    "        Return a quoted, comma-separated list of the wiki domains \n",
    "        associated with this project. Example: \"bn.wikipedia.org\".\n",
    "        '''\n",
    "        return(', '.join(['\"{}.wikipedia.org\"'.format(wiki_code.lower()) for wiki_code in self.wiki_codes]))\n",
    "    \n",
    "    \n",
    "    def get_quoted_glow_countries():\n",
    "        '''\n",
    "        Return a quoted, comma-separated list of the country or countries \n",
    "        associated with the Glow project at large.\n",
    "        '''\n",
    "        glow_countries = []\n",
    "        for obj in gc.get_objects():\n",
    "            if isinstance(obj, GlowProject):\n",
    "                glow_countries.append(obj.countries)\n",
    "    \n",
    "        glow_countries_list = [item for gatherlist in list(glow_countries) for item in gatherlist]\n",
    "        return(', '.join(['\"{}\"'.format(country) for country in glow_countries_list]))\n",
    "    \n",
    "    def get_quoted_glow_wiki_codes():\n",
    "        '''\n",
    "        Return a quoted, comma-separated list of the wiki_codes \n",
    "        associated with the Glow project at large.\n",
    "        '''\n",
    "        glow_wiki_codes = []\n",
    "        for obj in gc.get_objects():\n",
    "            if isinstance(obj, GlowProject):\n",
    "                glow_wiki_codes.append(obj.wiki_codes)\n",
    "    \n",
    "        glow_wiki_codes_list = [item for gatherlist in list(glow_wiki_codes) for item in gatherlist]\n",
    "        return(', '.join(['\"{}\"'.format(wiki_code) for wiki_code in glow_wiki_codes_list]))\n",
    "    \n",
    "    def get_quoted_glow_wiki_dbs():\n",
    "        '''\n",
    "        Return a quoted, comma-separated list of the wiki_dbs \n",
    "        associated with the Glow project at large.\n",
    "        '''\n",
    "        glow_wiki_dbs = []\n",
    "        for obj in gc.get_objects():\n",
    "            if isinstance(obj, GlowProject):\n",
    "                glow_wiki_dbs.append(obj.wiki_codes)\n",
    "    \n",
    "        glow_wiki_codes_dbs = [item for gatherlist in list(glow_wiki_dbs) for item in gatherlist]\n",
    "        return(', '.join(['\"{}wiki\"'.format(wiki_code.lower()) for wiki_code in glow_wiki_codes_dbs]))\n",
    "    \n",
    "    def get_quoted_glow_wiki_projects():\n",
    "        '''\n",
    "        Return a quoted, comma-separated list of the wiki projects \n",
    "        associated with the Glow project at large. Example: \"bn.wikipedia\".\n",
    "        '''\n",
    "        glow_wiki_projects = []\n",
    "        for obj in gc.get_objects():\n",
    "            if isinstance(obj, GlowProject):\n",
    "                glow_wiki_projects.append(obj.wiki_codes)\n",
    "    \n",
    "        glow_wiki_codes_projects = [item for gatherlist in list(glow_wiki_projects) for item in gatherlist]\n",
    "        return(', '.join(['\"{}.wikipedia\"'.format(wiki_code.lower()) for wiki_code in glow_wiki_codes_projects]))\n",
    "    \n",
    "    def get_quoted_glow_wiki_domains():\n",
    "        '''\n",
    "        Return a quoted, comma-separated list of the wiki domains \n",
    "        associated with the Glow project at large. Example: \"bn.wikipedia.org\".\n",
    "        '''\n",
    "        glow_wiki_domains = []\n",
    "        for obj in gc.get_objects():\n",
    "            if isinstance(obj, GlowProject):\n",
    "                glow_wiki_domains.append(obj.wiki_codes)\n",
    "    \n",
    "        glow_wiki_codes_domains = [item for gatherlist in list(glow_wiki_domains) for item in gatherlist]\n",
    "        return(', '.join(['\"{}.wikipedia.org\"'.format(wiki_code.lower()) for wiki_code in glow_wiki_codes_domains]))\n",
    "    "
   ]
  },
  {
   "cell_type": "code",
   "execution_count": 10,
   "metadata": {},
   "outputs": [],
   "source": [
    "#countries, iso_codes, wiki_codes, wiki_names\n",
    "\n",
    "glow_india = GlowProject(\n",
    "    ['India'],\n",
    "    ['IN'],\n",
    "    ['AS','BN','GU','HI','KN','ML','MR','OR','PA', #add in sorted order\n",
    "     'PNB','SA','SAT','TA','TCY','TE','UR'],#add in sorted order\n",
    "    ['Bengali Wikipedia','Hindi Wikipedia','Malayalam Wikipedia','Punjabi Wikipedia', 'Punjabi Western Wikipedia',\n",
    "     'Tamil Wikipedia','Telugu Wikipedia', 'Assamese Wikipedia', 'Sanskrit Wikipedia', 'Kannada Wikipedia', \n",
    "     'Tulu Wikipedia', 'Gujarati Wikipedia', 'Marathi Wikipedia', \n",
    "     'Santali Wikipedia', 'Urdu Wikipedia', 'Odia Wikipedia'],\n",
    "    \n",
    "    ##Adding start and end time of the project. In this\n",
    "    ##case they're defined by today, TBD\n",
    "    #(dt.datetime.today() - dt.timedelta(days=30)).strftime('%Y-%m'),\n",
    "    #dt.datetime.today().strftime('%Y-%m'),\n",
    ")\n",
    "\n",
    "\n",
    "glow_indonesia = GlowProject(\n",
    "    ['Indonesia'],\n",
    "    ['ID'],\n",
    "    ['ID', 'JV', 'MIN', 'SU'],\n",
    "    ['Indonesian Wikipedia','Sundanese Wikipedia','Javanese Wikipedia','Minangkabau Wikipedia'],    \n",
    ")\n",
    "\n",
    "glow_mena = GlowProject( \n",
    "    ['Egypt','Jordan','Tunisia','Algeria','Morocco','Lebanon','Iraq'],\n",
    "    ['EG','JO','TN','DZ','MA','LB','IQ'],\n",
    "    ['AR'],\n",
    "    ['Arabic Wikipedia'],\n",
    "\n",
    ")\n"
   ]
  },
  {
   "cell_type": "raw",
   "metadata": {},
   "source": [
    "\n",
    "glow_argentina = GlowProject(\n",
    "    ['Argentina'],\n",
    "    ['AR'],\n",
    "    ['ES'],\n",
    "    ['Spanish Wikipedia'],\n",
    ")\n",
    "glow_nigeria = GlowProject(\n",
    "    ['Nigeria'],\n",
    "    ['NG'],\n",
    "    ['EN'],\n",
    "    ['English Wikipedia'],\n",
    ")"
   ]
  },
  {
   "cell_type": "code",
   "execution_count": 11,
   "metadata": {},
   "outputs": [],
   "source": [
    "#fyi, big wikis list is hard coded... \"wikidatawiki\", \"commonswiki\",\"enwiki\"\n",
    "\n",
    "#list format query variables for querying databases that can be accessed via wmf.mariadb\n",
    "india_glow_wiki_dbs_mariadb = glow_india.get_wiki_dbs_mariadb() \n",
    "\n",
    "contest_start = '2019-10-10'\n",
    "contest_end = '2020-02-11'\n",
    "\n",
    "# Metric month. The mediawiki_history snapshot must be from the metrics month or later.\n",
    "last_month = dt.date.today().replace(day=1) - dt.timedelta(days=1)\n",
    "start = dt.datetime.strptime(\"2019-01-01\", \"%Y-%m-%d\")\n",
    "end = start+timedelta(days=365)"
   ]
  },
  {
   "cell_type": "markdown",
   "metadata": {},
   "source": [
    "### Content metrics via API"
   ]
  },
  {
   "cell_type": "code",
   "execution_count": 12,
   "metadata": {},
   "outputs": [],
   "source": [
    "headers = {\n",
    "    \"User-Agent\": \"Partnerships' GLOW project Data Analyst\"\n",
    "}\n",
    "\n",
    "PAGES_START = \"2019-01\" #\"2016-01\" \n",
    "\n",
    "# so we can easily use them to format strings\n",
    "metrics_month = pd.Period(PAGES_START)"
   ]
  },
  {
   "cell_type": "raw",
   "metadata": {},
   "source": [
    "# Metric month. The mediawiki_history snapshot must be from the metrics month or later.\n",
    "METRICS_MONTH_TEXT = last_month.strftime(\"%Y-%m\")\n",
    "# Convert our metrics month to all the formats we need and provide them in a dict\n",
    "# so we can easily use them to format strings\n",
    "metrics_month = pd.Period(METRICS_MONTH_TEXT)"
   ]
  },
  {
   "cell_type": "markdown",
   "metadata": {},
   "source": [
    "### query_vars"
   ]
  },
  {
   "cell_type": "code",
   "execution_count": 13,
   "metadata": {},
   "outputs": [],
   "source": [
    "#str/tuple/dt/datetime  format query variables for querying databases that can be accessed via wmf.hive \n",
    "query_vars = dict(\n",
    "    india_countries = glow_india.get_countries(),\n",
    "    india_wiki_codes = glow_india.get_wiki_codes(),\n",
    "    india_wiki_dbs = glow_india.get_quoted_wiki_dbs(), \n",
    "    #india_country_codes = glow_india.get_quoted_iso_codes(), \n",
    "    india_wiki_projects = glow_india.get_quoted_wiki_projects(),\n",
    "    india_domains = glow_india.get_quoted_wiki_domains(),\n",
    "    \n",
    "    indonesia_countries = glow_indonesia.get_countries(),\n",
    "    indonesia_wiki_dbs = glow_indonesia.get_quoted_wiki_dbs(),\n",
    "    #indonesia_country_codes = glow_indonesia.get_quoted_iso_codes(),\n",
    "    indonesia_wiki_projects = glow_indonesia.get_quoted_wiki_projects(),\n",
    "    indonesia_domains = glow_indonesia.get_quoted_wiki_domains(),\n",
    "    \n",
    "    mena_countries = glow_mena.get_countries(),\n",
    "    mena_wiki_dbs = glow_mena.get_quoted_wiki_dbs(),\n",
    "    #mena_country_codes = glow_mena.get_quoted_iso_codes(),\n",
    "    mena_wiki_projects = glow_mena.get_quoted_wiki_projects(),\n",
    "    mena_domains = glow_mena.get_quoted_wiki_domains(),\n",
    "    \n",
    "    glow_countries = GlowProject.get_quoted_glow_countries(),\n",
    "    glow_wiki_codes = GlowProject.get_quoted_glow_wiki_codes(),\n",
    "    glow_wiki_dbs = GlowProject.get_quoted_glow_wiki_dbs(),\n",
    "    glow_projects = GlowProject.get_quoted_glow_wiki_projects(),\n",
    "    #glow_iso_codes = GlowProject.get_quoted_glow_iso_codes(),\n",
    "    glow_domains = GlowProject.get_quoted_glow_wiki_domains(),\n",
    "    \n",
    "    wikis_big = (\"enwiki\", \"wikidatawiki\", \"commonswiki\", \"wikisource\"),\n",
    "        \n",
    "    #india_country = glow_india.get_quoted_countries(),\n",
    "    MWH_SNAPSHOT = last_month.strftime(\"%Y-%m\"),\n",
    "    \n",
    "    TODAY_DATE = dt.datetime.now().strftime('%Y-%m'),\n",
    "    TODAY_DATE_FULL= dt.datetime.now().strftime('%Y-%m-%d'),\n",
    "    TODAY_DATE_pv = dt.datetime.now().strftime('%Y%m'),\n",
    "    #TODAY_DATE_YEAR = dt.datetime.now().strftime('%Y'),\n",
    "    #TODAY_DATE_MONTH = dt.datetime.now().strftime('%m'),\n",
    "    \n",
    "    M_START_DATE = (datetime.today() - timedelta(days=30)).strftime('%Y-%m'),\n",
    "    #M_START_DATE_YEAR = (datetime.today() - timedelta(days=30)).strftime('%Y'),\n",
    "    #M_START_DATE_MONTH = (datetime.today() - timedelta(days=30)).strftime('%m'),  \n",
    "    \n",
    "    M2_START_DATE = (datetime.today() - timedelta(days=60)).strftime('%Y-%m'),\n",
    "    M2_START_DATE_pv = (datetime.today() - timedelta(days=60)).strftime('%Y%m'),\n",
    "    \n",
    "    Y_START_DATE = (datetime.today() - timedelta(days=365)).strftime('%Y-%m'),\n",
    "    Y_START_DATE_pv = (datetime.today() - timedelta(days=365)).strftime('%Y%m'),\n",
    "    Y_START_DATE_FULL = (datetime.today() - timedelta(days=365)).strftime('%Y-%m-%d'),\n",
    "    #Y_START_DATE_YEAR = (datetime.today() - timedelta(days=365)).strftime('%Y'),\n",
    "    #Y_START_DATE_MONTH = (datetime.today() - timedelta(days=365)).strftime('%m'),\n",
    "    \n",
    "    Y2_START_DATE = (datetime.today() - timedelta(days=730)).strftime('%Y-%m'),\n",
    "\n",
    "#API data_params    \n",
    "    api_metrics_month_start = metrics_month.asfreq(\"D\", how=\"start\").strftime(\"%Y%m%d\"),\n",
    "    api_metrics_month_end = (metrics_month + 14).asfreq(\"D\", how=\"start\").strftime(\"%Y%m%d\"), #50\n",
    "    \n",
    "    contest_start_dt_first_day_of_m = datetime.strptime(contest_start, '%Y-%m-%d').replace(day=1).strftime('%Y-%m-%d'),\n",
    "    contest_start_dt_first_day_5m_pre = (datetime.strptime(contest_start, '%Y-%m-%d') + relativedelta(months=-5, day=1)).strftime('%Y-%m-%d'),\n",
    "    contest_start_dt_first_day_12m_pre = (datetime.strptime(contest_start, '%Y-%m-%d') + relativedelta(months=-12, day=1)).strftime('%Y-%m-%d'),\n",
    "    \n",
    "    contest_end_dt_first_day_next_m = (datetime.strptime(contest_end, '%Y-%m-%d') + relativedelta(months=1, day=1)).strftime('%Y-%m-%d'),\n",
    "    #contest_end_dt_first_day_next_m = datetime.strptime(contest_end, '%Y-%m-%d').replace(day=1)+ relativedelta(months=1),\n",
    "    #contest_end_dt_next_day = datetime.strptime(contest_end, '%Y-%m-%d') + dt.timedelta(days=+1),\n",
    "    #contest_end_dt_first_day_5m_pre = datetime.strptime(contest_end, '%Y-%m-%d') + relativedelta(months=-5, day=1),\n",
    "    #contest_end_dt_first_day_12m_pre = datetime.strptime(contest_start, '%Y-%m-%d') + relativedelta(months=-12, day=1),\n",
    "    \n",
    "    \n",
    "#5c collect baselines date_params \n",
    "    contest_start_dt = datetime.strptime(contest_start, '%Y-%m-%d').strftime('%Y-%m'),\n",
    "    contest_start_dt_FULL = datetime.strptime(contest_start, '%Y-%m-%d').strftime('%Y-%m-%d'),\n",
    "    contest_start_dt_pv = datetime.strptime(contest_start, '%Y-%m-%d').strftime('%Y%m'),\n",
    "    \n",
    "    contest_start_dt_next_m_pv = (datetime.strptime(contest_start, '%Y-%m-%d') + relativedelta(months=1)).strftime('%Y%m'),    \n",
    "    contest_start_dt_12m_pre_pv = (datetime.strptime(contest_start, '%Y-%m-%d') - timedelta(days=365)).strftime('%Y%m'),\n",
    "    \n",
    "    #prior round\n",
    "    contest_start_dt_12m_pre = (datetime.strptime(contest_start, '%Y-%m-%d') - timedelta(days=365)).strftime('%Y-%m'),\n",
    "    contest_start_dt_13m_pre = (datetime.strptime(contest_start, '%Y-%m-%d') + relativedelta(months=-13)).strftime('%Y-%m'),\n",
    "    \n",
    "    contest_start_dt_12m_pre_FULL  = (datetime.strptime(contest_start, '%Y-%m-%d') - timedelta(days=365)).strftime('%Y-%m-%d'),\n",
    "    \n",
    "\n",
    "    \n",
    "    #current round\n",
    "    contest_end_dt = datetime.strptime(contest_end, '%Y-%m-%d').strftime('%Y-%m'),\n",
    "    contest_end_dt_FULL = datetime.strptime(contest_end, '%Y-%m-%d').strftime('%Y-%m-%d'),\n",
    "    \n",
    "    contest_end_dt_next_m = (datetime.strptime(contest_end, '%Y-%m-%d') + relativedelta(months=1)).strftime('%Y-%m'),\n",
    "    contest_end_dt_next_m_pv = (datetime.strptime(contest_end, '%Y-%m-%d') + relativedelta(months=1)).strftime('%Y%m'),\n",
    "    contest_end_dt_pv = datetime.strptime(contest_end, '%Y-%m-%d').strftime('%Y%m'),\n",
    "\n",
    ")"
   ]
  },
  {
   "cell_type": "code",
   "execution_count": 19,
   "metadata": {},
   "outputs": [
    {
     "data": {
      "text/plain": [
       "['India']"
      ]
     },
     "execution_count": 19,
     "metadata": {},
     "output_type": "execute_result"
    }
   ],
   "source": [
    "#need country codes variable..now just have countries\n",
    "query_vars['india_countries']"
   ]
  },
  {
   "cell_type": "raw",
   "metadata": {},
   "source": [
    "india_glow_2019_12M_pre_mask = (new_per_wp['date']>= query_vars['contest_start_dt_first_day_12m_pre']) & \n",
    "                                (new_per_wp['date'] < india_glow_start) & (new_per_wp['countries']=='India')\n",
    "    \n",
    "india_glow_2019_5M_pre_mask = (new_per_wp['date']>= query_vars['contest_start_dt_first_day_5m_pre']) & \n",
    "                                (new_per_wp['date'] < india_glow_start) & (new_per_wp['countries']=='India')\n",
    "    \n",
    "india_glow_mask = (new_per_wp['date']>= india_glow_start) & (new_per_wp['date'] <= india_glow_end) & \n",
    "                                (new_per_wp['countries']=='India')\n"
   ]
  },
  {
   "cell_type": "raw",
   "metadata": {},
   "source": [
    "argentina_countries = glow_argentina.get_countries(),\n",
    "    argentina_wiki_dbs = glow_argentina.get_quoted_wiki_dbs(),\n",
    "    #argentina_country_codes = glow_argentina.get_quoted_iso_codes(),\n",
    "    argentina_wiki_projects = glow_argentina.get_quoted_wiki_projects(),\n",
    "    argentina_domains = glow_argentina.get_quoted_wiki_domains(),\n",
    "    \n",
    "    nigeria_countries = glow_nigeria.get_countries(),\n",
    "    nigeria_wiki_dbs = glow_nigeria.get_quoted_wiki_dbs(),\n",
    "    #nigeria_country_codes = glow_nigeria.get_quoted_iso_codes(),\n",
    "    nigeria_wiki_projects = glow_nigeria.get_quoted_wiki_projects(),\n",
    "    nigeria_domains = glow_nigeria.get_quoted_wiki_domains(),"
   ]
  },
  {
   "cell_type": "code",
   "execution_count": 21,
   "metadata": {},
   "outputs": [
    {
     "name": "stdout",
     "output_type": "stream",
     "text": [
      "Stored 'query_vars' (dict)\n"
     ]
    }
   ],
   "source": [
    "%store query_vars"
   ]
  },
  {
   "cell_type": "markdown",
   "metadata": {},
   "source": [
    "### content quality"
   ]
  },
  {
   "cell_type": "code",
   "execution_count": 75,
   "metadata": {},
   "outputs": [],
   "source": [
    "#variables and dates for content quality notebook\n",
    "#change pv month, country\n",
    "quality_vars = dict(\n",
    "    country_code  = \"IN\",\n",
    "    contest_start = contest_start,\n",
    "    contest_end   = contest_end,\n",
    "    contest_start_dt        = datetime.strptime(contest_start, '%Y-%m-%d'),\n",
    "    contest_end_dt          = datetime.strptime(contest_end, '%Y-%m-%d'),\n",
    "    contest_end_dt_month    = datetime.strptime(contest_end, '%Y-%m-%d').strftime('%m'),\n",
    "    contest_end_dt_day      = datetime.strptime(contest_end, '%Y-%m-%d').strftime('%d'),\n",
    "    contest_end_dt_1M_month = (datetime.strptime(contest_end, '%Y-%m-%d') + timedelta(days=30)).strftime('%m'),\n",
    "    contest_end_dt_1M_day   = (datetime.strptime(contest_end, '%Y-%m-%d') + timedelta(days=30)).strftime('%d'),\n",
    "    MWH_SNAPSHOT = last_month.strftime(\"%Y-%m\"),\n",
    ")"
   ]
  },
  {
   "cell_type": "code",
   "execution_count": null,
   "metadata": {},
   "outputs": [],
   "source": [
    "%store quality_vars"
   ]
  }
 ],
 "metadata": {
  "kernelspec": {
   "display_name": "Python 3",
   "language": "python",
   "name": "python3"
  },
  "language_info": {
   "codemirror_mode": {
    "name": "ipython",
    "version": 3
   },
   "file_extension": ".py",
   "mimetype": "text/x-python",
   "name": "python",
   "nbconvert_exporter": "python",
   "pygments_lexer": "ipython3",
   "version": "3.5.3"
  }
 },
 "nbformat": 4,
 "nbformat_minor": 4
}
