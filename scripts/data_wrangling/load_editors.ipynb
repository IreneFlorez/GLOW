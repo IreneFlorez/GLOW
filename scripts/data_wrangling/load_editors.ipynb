{
 "cells": [
  {
   "cell_type": "code",
   "execution_count": 1,
   "metadata": {},
   "outputs": [
    {
     "name": "stderr",
     "output_type": "stream",
     "text": [
      "You are using wmfdata 0.1.0 (latest).\n",
      "\n",
      "You can find the source for `wmfdata` at https://github.com/neilpquinn/wmfdata\n"
     ]
    }
   ],
   "source": [
    "import pandas as pd\n",
    "from wmfdata import hive, charting\n",
    "from wmfdata.charting import comma_fmt, pct_fmt\n",
    "from wmfdata.utils import pct_str"
   ]
  },
  {
   "cell_type": "code",
   "execution_count": 2,
   "metadata": {},
   "outputs": [],
   "source": [
    "#clear cache, restart kernel, then clear cache again then run the pip install below\n",
    "rm -rf ~/.cache/pip/http/*"
   ]
  },
  {
   "cell_type": "raw",
   "metadata": {},
   "source": [
    "pip install --upgrade git+https://github.com/neilpquinn/wmfdata.git@hive-engines"
   ]
  },
  {
   "cell_type": "markdown",
   "metadata": {},
   "source": [
    "## Read and clean data"
   ]
  },
  {
   "cell_type": "code",
   "execution_count": 7,
   "metadata": {},
   "outputs": [],
   "source": [
    "tp_filepath = \"../../data/raw/editors/2019/tiger2_participants_report/total_participants.csv\"\n",
    "sr_filepath = \"../../data/raw/editors/2019/tiger2_participants_report/support_recipients.csv\"\n",
    "\n",
    "#participants.to_csv(filepath, index=False, header=False)\n",
    "total_participants = pd.read_csv(tp_filepath)\n",
    "support_recipients = pd.read_csv(sr_filepath)"
   ]
  },
  {
   "cell_type": "code",
   "execution_count": 8,
   "metadata": {},
   "outputs": [],
   "source": [
    "#rename column for later merging\n",
    "total_participants = total_participants.rename(columns={'Which incentive?':'Incentive type',\n",
    "                                                       'Recieved incentive?': 'Received incentive?'\n",
    "                                                       })\n",
    "\n",
    "support_recipients = support_recipients.rename(columns={'Recieved incentive?': 'Received incentive?'\n",
    "                                                       })"
   ]
  },
  {
   "cell_type": "code",
   "execution_count": 9,
   "metadata": {},
   "outputs": [],
   "source": [
    "#identify editors not in editor list\n",
    "e_p = list(total_participants['Username'])\n",
    "e_r = list(support_recipients['Username'])\n",
    "\n",
    "support_editors_missing_from_participants = list(set(e_r)-set(e_p))\n",
    "srta = support_recipients.loc[support_recipients['Username'].isin(support_editors_missing_from_participants)]"
   ]
  },
  {
   "cell_type": "code",
   "execution_count": 10,
   "metadata": {},
   "outputs": [
    {
     "name": "stderr",
     "output_type": "stream",
     "text": [
      "/home/iflorez/venv/lib/python3.5/site-packages/ipykernel_launcher.py:1: SettingWithCopyWarning: \n",
      "A value is trying to be set on a copy of a slice from a DataFrame.\n",
      "Try using .loc[row_indexer,col_indexer] = value instead\n",
      "\n",
      "See the caveats in the documentation: http://pandas.pydata.org/pandas-docs/stable/user_guide/indexing.html#returning-a-view-versus-a-copy\n",
      "  \"\"\"Entry point for launching an IPython kernel.\n"
     ]
    }
   ],
   "source": [
    "srta['glow_editor_signup'] = 'no'\n",
    "total_participants['glow_editor_signup'] = 'yes'"
   ]
  },
  {
   "cell_type": "code",
   "execution_count": 11,
   "metadata": {},
   "outputs": [],
   "source": [
    "participants_recipients_all = pd.concat([total_participants, srta])"
   ]
  },
  {
   "cell_type": "code",
   "execution_count": 12,
   "metadata": {},
   "outputs": [],
   "source": [
    "#identify dupes \n",
    "#articles_w_QID_duplicated = df_w_ids_no_nulls[df_w_ids_no_nulls.duplicated(subset=['Language', 'Articles', 'wiki_db', 'QID'], keep=False)]\n",
    "\n",
    "#keep only first instance of dupes of full row duplicates\n",
    "dupes = participants_recipients_all[participants_recipients_all.duplicated(subset=['Username', 'Received incentive?', 'Incentive type'], keep=False)]"
   ]
  },
  {
   "cell_type": "code",
   "execution_count": 13,
   "metadata": {},
   "outputs": [],
   "source": [
    "dupes = dupes.reset_index().drop('index', axis=1).sort_values('Username')"
   ]
  },
  {
   "cell_type": "code",
   "execution_count": 14,
   "metadata": {},
   "outputs": [],
   "source": [
    "participants_recipients_all.fillna(0, inplace=True)"
   ]
  },
  {
   "cell_type": "code",
   "execution_count": 15,
   "metadata": {},
   "outputs": [],
   "source": [
    "participants_recipients_all['glow_editor_signup'] = participants_recipients_all['glow_editor_signup'].replace(to_replace=['No', 'Yes'], value=[0, 1])\n",
    "participants_recipients_all['glow_editor_signup'] = participants_recipients_all['glow_editor_signup'].replace(to_replace=['no', 'yes'], value=[0, 1])"
   ]
  },
  {
   "cell_type": "code",
   "execution_count": 16,
   "metadata": {},
   "outputs": [],
   "source": [
    "participants_recipients_all['Received incentive?'] = participants_recipients_all['Received incentive?'].replace(to_replace=['No', 'Yes'], value=[0, 1])\n",
    "#participants_recipients_all['Received incentive?'] = participants_recipients_all['Received incentive?'].replace(to_replace=['no', 'yes'], value=[0, 1])"
   ]
  },
  {
   "cell_type": "code",
   "execution_count": 17,
   "metadata": {},
   "outputs": [],
   "source": [
    "participants_recipients_all['Received incentive?'] = participants_recipients_all['Received incentive?'].astype('bool')\n",
    "participants_recipients_all['glow_editor_signup'] = participants_recipients_all['glow_editor_signup'].astype('bool')"
   ]
  },
  {
   "cell_type": "code",
   "execution_count": null,
   "metadata": {},
   "outputs": [],
   "source": [
    "#TODO Incentive type > categorical (can do ordering with pandas)..but Hive may not allow for categorical. parquet maybe"
   ]
  },
  {
   "cell_type": "markdown",
   "metadata": {},
   "source": [
    "## Preparing to create table and load into hive"
   ]
  },
  {
   "cell_type": "code",
   "execution_count": 18,
   "metadata": {},
   "outputs": [],
   "source": [
    "participants_recipients_all.to_csv(\"../../data/processed/participants_list_received_clean/2019/participants_recipients_all.csv\", sep=',', encoding = 'utf-8', index=False)"
   ]
  },
  {
   "cell_type": "code",
   "execution_count": null,
   "metadata": {
    "jupyter": {
     "source_hidden": true
    }
   },
   "outputs": [],
   "source": [
    "!hive -e LOAD DATA LOCAL INPATH \"../../data/processed/participants_list_received_clean/2019/participants_recipients_all.csv\" \n",
    "INTO TABLE florez.glow_tiger_participants;"
   ]
  },
  {
   "cell_type": "markdown",
   "metadata": {},
   "source": [
    "# Getting a list of participants into Hive"
   ]
  },
  {
   "cell_type": "code",
   "execution_count": 4,
   "metadata": {},
   "outputs": [
    {
     "name": "stderr",
     "output_type": "stream",
     "text": [
      "log4j:WARN No such property [maxBackupIndex] in org.apache.log4j.DailyRollingFileAppender.\n",
      "\n",
      "Logging initialized using configuration in file:/etc/hive/conf.analytics-hadoop/hive-log4j.properties\n",
      "Loading data to table florez.glow_tiger_participants\n",
      "OK\n",
      "Time taken: 1.657 seconds\n",
      "\n"
     ]
    }
   ],
   "source": [
    "participants_recipients_all = \"../../data/processed/participants_list_received_clean/2019/participants_recipients_all.csv\"\n",
    "hive.load_csv(\n",
    "    participants_recipients_all,\n",
    "    field_spec=\"user_name string, incentive_recipient boolean, incentive_type string, glow_editor_signup boolean\",\n",
    "    db_name=\"florez\",\n",
    "    table_name=\"glow_tiger_participants\",\n",
    "    sep=','\n",
    ")"
   ]
  },
  {
   "cell_type": "code",
   "execution_count": null,
   "metadata": {},
   "outputs": [],
   "source": []
  },
  {
   "cell_type": "code",
   "execution_count": null,
   "metadata": {},
   "outputs": [],
   "source": []
  },
  {
   "cell_type": "code",
   "execution_count": null,
   "metadata": {},
   "outputs": [],
   "source": []
  }
 ],
 "metadata": {
  "kernelspec": {
   "display_name": "Python 3",
   "language": "python",
   "name": "python3"
  },
  "language_info": {
   "codemirror_mode": {
    "name": "ipython",
    "version": 3
   },
   "file_extension": ".py",
   "mimetype": "text/x-python",
   "name": "python",
   "nbconvert_exporter": "python",
   "pygments_lexer": "ipython3",
   "version": "3.5.3"
  }
 },
 "nbformat": 4,
 "nbformat_minor": 4
}
