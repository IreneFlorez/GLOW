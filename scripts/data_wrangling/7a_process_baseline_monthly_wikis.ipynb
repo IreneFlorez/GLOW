{
 "cells": [
  {
   "cell_type": "markdown",
   "metadata": {},
   "source": [
    "# process/get baselines - monthly wikis"
   ]
  },
  {
   "cell_type": "code",
   "execution_count": 10,
   "metadata": {},
   "outputs": [],
   "source": [
    "from pyspark.sql.types import ArrayType, StringType\n",
    "\n",
    "from pyspark.context import SparkContext\n",
    "from pyspark.sql.session import SparkSession\n",
    "\n",
    "import datetime as dt\n",
    "\n",
    "import pandas as pd\n",
    "import numpy as np"
   ]
  },
  {
   "cell_type": "code",
   "execution_count": 11,
   "metadata": {},
   "outputs": [
    {
     "name": "stdout",
     "output_type": "stream",
     "text": [
      "Stored 'query_vars' (dict)\n",
      "Stored 'quality_vars' (dict)\n"
     ]
    }
   ],
   "source": [
    "%run 2b_data_handling.ipynb\n",
    "%run 6a_collect_baseline_monthly_wikis.ipynb"
   ]
  },
  {
   "cell_type": "raw",
   "metadata": {},
   "source": [
    "countries = spark.sql(countries_r.format(**query_vars)).toPandas();"
   ]
  },
  {
   "cell_type": "raw",
   "metadata": {},
   "source": [
    "wikis = spark.sql(wikis_r.format(**query_vars)).toPandas()"
   ]
  },
  {
   "cell_type": "raw",
   "metadata": {},
   "source": [
    "wikis.to_csv(\"../../data/processed/query_results/wikis.csv\", sep=',', encoding = 'utf-8', index=False)"
   ]
  },
  {
   "cell_type": "raw",
   "metadata": {},
   "source": [
    "wikis_c = wikis.copy()\n",
    "wikis_c = wikis_c.reset_index()\n",
    "india_wikis = wikis_c.loc[wikis_a['database_code'].isin(india_glow_wiki_dbs_mariadb)]"
   ]
  },
  {
   "cell_type": "code",
   "execution_count": 12,
   "metadata": {},
   "outputs": [],
   "source": [
    "wikis = pd.read_csv(\"../../data/processed/query_results/wikis.csv\", sep=',', encoding = 'utf-8')"
   ]
  },
  {
   "cell_type": "markdown",
   "metadata": {},
   "source": [
    "#### Devices <a class=\"anchor\" id=\"article_detail\"></a>\n",
    "[Back to Table of Contents](#toc)"
   ]
  },
  {
   "cell_type": "code",
   "execution_count": 13,
   "metadata": {},
   "outputs": [],
   "source": [
    "mca_uds = spark.sql(mca_uds_r.format(**query_vars)).toPandas()\n",
    "mca_uds[\"domain_name\"] = \"https://\" + mca_uds[\"domain_name\"]\n",
    "\n",
    "wikis = wikis.merge(mca_uds, how='left', on='domain_name')"
   ]
  },
  {
   "cell_type": "markdown",
   "metadata": {},
   "source": [
    "#### Editors<a class=\"anchor\" id=\"editors\"></a>\n",
    "[Back to Table of Contents](#toc)"
   ]
  },
  {
   "cell_type": "code",
   "execution_count": 14,
   "metadata": {},
   "outputs": [],
   "source": [
    "mce = spark.sql(mce_r.format(**query_vars)).toPandas()\n",
    "merge_in(mce)"
   ]
  },
  {
   "cell_type": "code",
   "execution_count": 15,
   "metadata": {},
   "outputs": [],
   "source": [
    "mnae = spark.sql(mnae_r.format(**query_vars)).toPandas()\n",
    "merge_in(mnae)"
   ]
  },
  {
   "cell_type": "code",
   "execution_count": 16,
   "metadata": {},
   "outputs": [],
   "source": [
    "mae = spark.sql(mae_r.format(**query_vars)).toPandas()\n",
    "merge_in(mnae)"
   ]
  },
  {
   "cell_type": "code",
   "execution_count": null,
   "metadata": {},
   "outputs": [],
   "source": [
    "ner = spark.sql(ner_r.format(**query_vars)).toPandas()\n",
    "merge_in(ner)"
   ]
  },
  {
   "cell_type": "markdown",
   "metadata": {},
   "source": [
    "#### Articles<a class=\"anchor\" id=\"editors\"></a>\n",
    "[Back to Table of Contents](#toc)"
   ]
  },
  {
   "cell_type": "code",
   "execution_count": 19,
   "metadata": {},
   "outputs": [],
   "source": [
    "m_new_article_counts = spark.sql(m_new_article_counts_r.format(**query_vars)).toPandas()\n",
    "merge_in(m_new_article_counts)"
   ]
  },
  {
   "cell_type": "code",
   "execution_count": 20,
   "metadata": {},
   "outputs": [],
   "source": [
    "m_new_articles_edited = spark.sql(m_new_articles_edited_r.format(**query_vars)).toPandas()\n",
    "merge_in(m_new_articles_edited)"
   ]
  },
  {
   "cell_type": "code",
   "execution_count": 21,
   "metadata": {},
   "outputs": [],
   "source": [
    "eae = spark.sql(eae_r.format(**query_vars)).toPandas()\n",
    "merge_in(eae)"
   ]
  },
  {
   "cell_type": "code",
   "execution_count": 22,
   "metadata": {},
   "outputs": [],
   "source": [
    "dra = spark.sql(dra_r.format(**query_vars)).toPandas()\n",
    "merge_in(dra)"
   ]
  },
  {
   "cell_type": "code",
   "execution_count": null,
   "metadata": {},
   "outputs": [],
   "source": [
    "wikis"
   ]
  },
  {
   "cell_type": "markdown",
   "metadata": {},
   "source": [
    "## save to csv"
   ]
  },
  {
   "cell_type": "code",
   "execution_count": 24,
   "metadata": {},
   "outputs": [],
   "source": [
    "wikis.to_csv(\"../../data/processed/query_results/regional_counts/baseline/baseline_monthly_wikis.csv\", sep=',', encoding = 'utf-8', index=False)"
   ]
  },
  {
   "cell_type": "code",
   "execution_count": null,
   "metadata": {},
   "outputs": [],
   "source": []
  }
 ],
 "metadata": {
  "kernelspec": {
   "display_name": "PySpark - YARN (large)",
   "language": "python",
   "name": "spark_yarn_pyspark_large"
  },
  "language_info": {
   "codemirror_mode": {
    "name": "ipython",
    "version": 3
   },
   "file_extension": ".py",
   "mimetype": "text/x-python",
   "name": "python",
   "nbconvert_exporter": "python",
   "pygments_lexer": "ipython3",
   "version": "3.5.3"
  }
 },
 "nbformat": 4,
 "nbformat_minor": 4
}
