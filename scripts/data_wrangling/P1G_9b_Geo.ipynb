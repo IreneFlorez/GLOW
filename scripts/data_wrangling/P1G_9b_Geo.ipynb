{
 "cells": [
  {
   "cell_type": "code",
   "execution_count": null,
   "metadata": {},
   "outputs": [],
   "source": [
    "%run P1G_1_data_handling.ipynb"
   ]
  },
  {
   "cell_type": "markdown",
   "metadata": {},
   "source": [
    "## 5. Geo <a class=\"anchor\" id=\"article_detail\"></a>\n",
    "[Back to Table of Contents](#toc)"
   ]
  },
  {
   "cell_type": "markdown",
   "metadata": {},
   "source": [
    "(is_pageview AND namespace_id = 0) => page views to articles\n",
    "(uri_query LIKE '%action=edit%') => desktop wikitext editor\n",
    "(uri_query LIKE '%action=visualeditor%') => desktop and mobile visualeditor\n",
    "(uri_query LIKe '%&intestactions=edit&intestactionsdetail=full&uiprop=options%') => mobile wikitext editor"
   ]
  },
  {
   "cell_type": "markdown",
   "metadata": {},
   "source": [
    "### Editors (and their activity level) across countries <a class=\"anchor\" id=\"editors_activities_countries\"></a>\n",
    "[Back to Table of Contents](#toc)"
   ]
  },
  {
   "cell_type": "code",
   "execution_count": null,
   "metadata": {},
   "outputs": [],
   "source": [
    "editors_by_activity_level_r = hive.run(\"\"\"\n",
    "SELECT country_code,\n",
    "       wiki_db AS project,\n",
    "       activity_level,\n",
    "       SUM(distinct_editors) AS editor_count\n",
    "FROM   wmf.geoeditors_monthly\n",
    "WHERE  \n",
    "    month >= \"{Y_START_DATE}\"\n",
    "    AND month <=\"{TODAY_DATE}\"\n",
    "    AND wiki_db IN ({glow_wiki_dbs})\n",
    "    AND country_code IN ({glow_iso_codes})\n",
    "GROUP BY\n",
    "       country_code, wiki_db, activity_level\n",
    "\"\"\".format(**query_vars))\n",
    "\n",
    "editors_by_activity_level = editors_by_activity_level_r.copy()"
   ]
  },
  {
   "cell_type": "markdown",
   "metadata": {},
   "source": [
    "### Editors by localization <a class=\"anchor\" id=\"edit_localization_editors\"></a>\n",
    "[Back to Table of Contents](#toc)"
   ]
  },
  {
   "cell_type": "code",
   "execution_count": null,
   "metadata": {},
   "outputs": [],
   "source": [
    "eoel_r = hive.run([\n",
    "    'set hive.groupby.orderby.position.alias = TRUE',\n",
    "    \"\"\"\n",
    "SELECT \n",
    "    CASE\n",
    "        WHEN wiki_db IN ({india_wiki_dbs}) AND country_code IN ({india_country_codes}) THEN 'In_glow_india'\n",
    "        WHEN wiki_db IN ({india_wiki_dbs}) AND country_code NOT IN ({india_country_codes}) THEN 'Out_glow_india'\n",
    "        \n",
    "        WHEN wiki_db IN ({indonesia_wiki_dbs}) AND country_code IN ({indonesia_country_codes}) THEN 'In_glow_indonesia'\n",
    "        WHEN wiki_db IN ({indonesia_wiki_dbs}) AND country_code NOT IN ({indonesia_country_codes}) THEN 'Out_glow_indonesia'\n",
    "        \n",
    "        WHEN wiki_db IN ({argentina_wiki_dbs}) AND country_code IN ({argentina_country_codes}) THEN 'In_glow_argentina'\n",
    "        WHEN wiki_db IN ({argentina_wiki_dbs}) AND country_code NOT IN ({argentina_country_codes}) THEN 'Out_glow_argentina'\n",
    "        \n",
    "        WHEN wiki_db IN ({nigeria_wiki_dbs}) AND country_code IN ({nigeria_country_codes}) THEN 'In_glow_nigeria'\n",
    "        WHEN wiki_db IN ({nigeria_wiki_dbs}) AND country_code NOT IN ({nigeria_country_codes}) THEN 'Out_glow_nigeria'\n",
    "        \n",
    "        WHEN wiki_db IN ({mena_wiki_dbs}) AND country_code IN ({mena_country_codes}) THEN 'In_glow_mena'\n",
    "        WHEN wiki_db IN ({mena_wiki_dbs}) AND country_code NOT IN ({mena_country_codes}) THEN 'Out_glow_mena'\n",
    "        ELSE NULL\n",
    "    END AS editor_location,\n",
    "    SUM(distinct_editors) AS distinct_editors\n",
    "FROM wmf.geoeditors_monthly\n",
    "WHERE \n",
    "    month >= \"{M_START_DATE}\"\n",
    "    AND month <= \"{TODAY_DATE}\"\n",
    "GROUP BY 1\n",
    "\n",
    "\"\"\".format(**query_vars)\n",
    "])\n",
    "\n",
    "eoel = eoel_r.copy()"
   ]
  },
  {
   "cell_type": "code",
   "execution_count": null,
   "metadata": {},
   "outputs": [],
   "source": [
    "eoel_piv = hive.run([\n",
    "    'set hive.groupby.orderby.position.alias = TRUE',\n",
    "    \"\"\"\n",
    "SELECT  wiki_db, distinct_editors,\n",
    "        CASE WHEN editor_location = 'In' THEN distinct_editors END AS in_region,\n",
    "        CASE WHEN editor_location = 'Out' THEN distinct_editors END AS out_region\n",
    "FROM   (SELECT \n",
    "        country_code,\n",
    "        wiki_db,\n",
    "        CASE\n",
    "            WHEN wiki_db IN ({india_wiki_dbs}) AND country_code IN ({india_country_codes}) THEN 'In'\n",
    "            WHEN wiki_db IN ({india_wiki_dbs}) AND country_code NOT IN ({india_country_codes}) THEN 'Out'\n",
    "\n",
    "            WHEN wiki_db IN ({indonesia_wiki_dbs}) AND country_code IN ({indonesia_country_codes}) THEN 'In'\n",
    "            WHEN wiki_db IN ({indonesia_wiki_dbs}) AND country_code NOT IN ({indonesia_country_codes}) THEN 'Out'\n",
    "\n",
    "            WHEN wiki_db IN ({argentina_wiki_dbs}) AND country_code IN ({argentina_country_codes}) THEN 'In'\n",
    "            WHEN wiki_db IN ({argentina_wiki_dbs}) AND country_code NOT IN ({argentina_country_codes}) THEN 'Out'\n",
    "\n",
    "            WHEN wiki_db IN ({nigeria_wiki_dbs}) AND country_code IN ({nigeria_country_codes}) THEN 'In'\n",
    "            WHEN wiki_db IN ({nigeria_wiki_dbs}) AND country_code NOT IN ({nigeria_country_codes}) THEN 'Out'\n",
    "\n",
    "            WHEN wiki_db IN ({mena_wiki_dbs}) AND country_code IN ({mena_country_codes}) THEN 'In'\n",
    "            WHEN wiki_db IN ({mena_wiki_dbs}) AND country_code NOT IN ({mena_country_codes}) THEN 'Out'\n",
    "            ELSE 'no_location_data'\n",
    "        END AS editor_location,\n",
    "        SUM(distinct_editors) AS distinct_editors\n",
    "    FROM wmf.geoeditors_monthly\n",
    "    WHERE \n",
    "        month >= \"{M_START_DATE}\"\n",
    "        AND month <= \"{TODAY_DATE}\"\n",
    "    GROUP BY 1,2,3) sub\n",
    "WHERE wiki_db IN ({glow_wiki_dbs}) AND\n",
    "      country_code IN ({glow_iso_codes})\n",
    "GROUP BY 1,2,3,4\n",
    "\n",
    "\"\"\".format(**query_vars)\n",
    "])\n"
   ]
  },
  {
   "cell_type": "code",
   "execution_count": null,
   "metadata": {},
   "outputs": [],
   "source": [
    "a = eoel_piv.groupby(['wiki_db']).sum()\n"
   ]
  },
  {
   "cell_type": "markdown",
   "metadata": {},
   "source": [
    "### Edits by edit localization <a class=\"anchor\" id=\"edit_localization_editors\"></a>\n",
    "[Back to Table of Contents](#toc)"
   ]
  },
  {
   "cell_type": "raw",
   "metadata": {},
   "source": [
    "# same as below but this one gives the raw data too\n",
    "eel_r = hive.run([\n",
    "    'set hive.groupby.orderby.position.alias = TRUE',\n",
    "    \"\"\"\n",
    "SELECT \n",
    "    CASE\n",
    "        WHEN wiki_db IN ({india_wiki_dbs}) AND country_code IN ({india_country_codes}) THEN 'In_glow_india'\n",
    "        WHEN wiki_db IN ({india_wiki_dbs}) AND country_code NOT IN ({india_country_codes}) THEN 'Out_glow_india'\n",
    "        \n",
    "        WHEN wiki_db IN ({indonesia_wiki_dbs}) AND country_code IN ({indonesia_country_codes}) THEN 'In_glow_indonesia'\n",
    "        WHEN wiki_db IN ({indonesia_wiki_dbs}) AND country_code NOT IN ({indonesia_country_codes}) THEN 'Out_glow_indonesia'\n",
    "        \n",
    "        WHEN wiki_db IN ({argentina_wiki_dbs}) AND country_code IN ({argentina_country_codes}) THEN 'In_glow_argentina'\n",
    "        WHEN wiki_db IN ({argentina_wiki_dbs}) AND country_code NOT IN ({argentina_country_codes}) THEN 'Out_glow_argentina'\n",
    "        \n",
    "        WHEN wiki_db IN ({nigeria_wiki_dbs}) AND country_code IN ({nigeria_country_codes}) THEN 'In_glow_nigeria'\n",
    "        WHEN wiki_db IN ({nigeria_wiki_dbs}) AND country_code NOT IN ({nigeria_country_codes}) THEN 'Out_glow_nigeria'\n",
    "        \n",
    "        WHEN wiki_db IN ({mena_wiki_dbs}) AND country_code IN ({mena_country_codes}) THEN 'In_glow_mena'\n",
    "        WHEN wiki_db IN ({mena_wiki_dbs}) AND country_code NOT IN ({mena_country_codes}) THEN 'Out_glow_mena'\n",
    "        \n",
    "        ELSE NULL\n",
    "    END AS edit_location,\n",
    "    SUM(edit_count) AS num_edits,\n",
    "    SUM(namespace_zero_edit_count) AS article_edits,\n",
    "    (SUM(namespace_zero_edit_count)/SUM(edit_count)) AS  article_edit_proportion\n",
    "FROM wmf.geoeditors_edits_monthly\n",
    "WHERE \n",
    "    month >= \"{Y_START_DATE}\"\n",
    "    AND month <= \"{TODAY_DATE}\"\n",
    "GROUP BY 1\n",
    "HAVING edit_location IS NOT NULL\n",
    "\"\"\".format(**query_vars)\n",
    "])\n",
    "\n",
    "eel = eel_r.copy()\n",
    "eel"
   ]
  },
  {
   "cell_type": "code",
   "execution_count": null,
   "metadata": {},
   "outputs": [],
   "source": [
    "# TO DO \n",
    "# split out the edit_location column into two columns: IN vs OUT GLOW and location...this will help sort the list"
   ]
  },
  {
   "cell_type": "code",
   "execution_count": null,
   "metadata": {},
   "outputs": [],
   "source": [
    "eel_r2 = hive.run([\n",
    "    'set hive.groupby.orderby.position.alias = TRUE',\n",
    "    \"\"\"\n",
    "SELECT \n",
    "    wiki_db,\n",
    "    CASE\n",
    "        WHEN wiki_db IN ({india_wiki_dbs}) AND country_code IN ({india_country_codes}) THEN 'In_glow_india'\n",
    "        WHEN wiki_db IN ({indonesia_wiki_dbs}) AND country_code IN ({indonesia_country_codes}) THEN 'In_glow_indonesia'\n",
    "        WHEN wiki_db IN ({argentina_wiki_dbs}) AND country_code IN ({argentina_country_codes}) THEN 'In_glow_argentina' \n",
    "        WHEN wiki_db IN ({nigeria_wiki_dbs}) AND country_code IN ({nigeria_country_codes}) THEN 'In_glow_nigeria' \n",
    "        WHEN wiki_db IN ({mena_wiki_dbs}) AND country_code IN ({mena_country_codes}) THEN 'In_glow_mena'  \n",
    "        ELSE NULL\n",
    "    END AS edit_location,\n",
    "    (SUM(namespace_zero_edit_count)/SUM(edit_count)) AS  monthly_article_edit_localization_proportion\n",
    "FROM wmf.geoeditors_edits_monthly\n",
    "WHERE \n",
    "    month >= \"{Y_START_DATE}\"\n",
    "    AND month <= \"{TODAY_DATE}\"\n",
    "GROUP BY 1, 2\n",
    "HAVING edit_location IS NOT NULL\n",
    "\"\"\".format(**query_vars)\n",
    "])\n",
    "\n",
    "eel2 = eel_r2.copy()\n"
   ]
  },
  {
   "cell_type": "code",
   "execution_count": null,
   "metadata": {},
   "outputs": [],
   "source": [
    "eel_r2 = '''\n",
    "SELECT \n",
    "    wiki_db,\n",
    "    CASE\n",
    "        WHEN wiki_db IN ({india_wiki_dbs}) AND country_code IN ({india_country_codes}) THEN 'In_glow_india'\n",
    "        WHEN wiki_db IN ({indonesia_wiki_dbs}) AND country_code IN ({indonesia_country_codes}) THEN 'In_glow_indonesia'\n",
    "        WHEN wiki_db IN ({argentina_wiki_dbs}) AND country_code IN ({argentina_country_codes}) THEN 'In_glow_argentina' \n",
    "        WHEN wiki_db IN ({nigeria_wiki_dbs}) AND country_code IN ({nigeria_country_codes}) THEN 'In_glow_nigeria' \n",
    "        WHEN wiki_db IN ({mena_wiki_dbs}) AND country_code IN ({mena_country_codes}) THEN 'In_glow_mena'  \n",
    "        ELSE NULL\n",
    "    END AS edit_location,\n",
    "    (SUM(namespace_zero_edit_count)/SUM(edit_count)) AS  monthly_article_edit_localization_proportion\n",
    "FROM wmf.geoeditors_edits_monthly\n",
    "WHERE \n",
    "    month >= \"{Y_START_DATE}\"\n",
    "    AND month <= \"{TODAY_DATE}\"\n",
    "GROUP BY wiki_db,\n",
    "    CASE\n",
    "        WHEN wiki_db IN ({india_wiki_dbs}) AND country_code IN ({india_country_codes}) THEN 'In_glow_india'\n",
    "        WHEN wiki_db IN ({indonesia_wiki_dbs}) AND country_code IN ({indonesia_country_codes}) THEN 'In_glow_indonesia'\n",
    "        WHEN wiki_db IN ({argentina_wiki_dbs}) AND country_code IN ({argentina_country_codes}) THEN 'In_glow_argentina' \n",
    "        WHEN wiki_db IN ({nigeria_wiki_dbs}) AND country_code IN ({nigeria_country_codes}) THEN 'In_glow_nigeria' \n",
    "        WHEN wiki_db IN ({mena_wiki_dbs}) AND country_code IN ({mena_country_codes}) THEN 'In_glow_mena'  \n",
    "        ELSE NULL\n",
    "    END AS edit_location\n",
    "HAVING edit_location IS NOT NULL\n",
    "'''"
   ]
  },
  {
   "cell_type": "code",
   "execution_count": null,
   "metadata": {},
   "outputs": [],
   "source": [
    "eel2 = eel2[['wiki_db', 'article_edit_localization_proportion']]\n"
   ]
  },
  {
   "cell_type": "code",
   "execution_count": null,
   "metadata": {},
   "outputs": [],
   "source": [
    "eel2.to_csv(\"./data/glow/edit_localization_in_region_wiki.csv\", sep=',', encoding = 'utf-8')"
   ]
  },
  {
   "cell_type": "markdown",
   "metadata": {},
   "source": [
    "### PageViews across countries and wikis <a class=\"anchor\" id=\"pageviews\"></a>\n",
    "[Back to Table of Contents](#toc)"
   ]
  },
  {
   "cell_type": "markdown",
   "metadata": {},
   "source": [
    "----------- TO DO --------------\n",
    "\n",
    "---------- QUESTIONS ------------\n",
    "1. What is this line for? I don't see the sum that it's getting on the original dataepa :::: \n",
    "piv = glow_views.pivot_table(\"pageviews\", index=\"project\", columns=\"country_code\", aggfunc=\"sum\", fill_value=0)\n",
    "\n",
    "2. Why is the list of wiki projects so small? Something is off in the filtering. "
   ]
  },
  {
   "cell_type": "code",
   "execution_count": null,
   "metadata": {},
   "outputs": [],
   "source": [
    "#adapted from: https://github.com/wikimedia-research/Editing-movement-metrics/blob/2c261e94ceb4735f53bf51157272e967f5352e94/analysis/diversity-metrics.ipynb\n",
    "\n",
    "#get data and format df columns\n",
    "glow_views_r = '''\n",
    "SELECT project, \n",
    "       country_code, \n",
    "       SUM(view_count)/12 AS pageviews\n",
    "FROM wmf.projectview_hourly\n",
    "WHERE\n",
    "    CONCAT(year,LPAD(month,2,'0')) >= \"{Y_START_DATE_pv}\"\n",
    "    AND CONCAT(year,LPAD(month,2,'0')) < \"{TODAY_DATE_pv}\"\n",
    "    access_method in (\"mobile web\", \"mobile app\", \"desktop\") AND\n",
    "    project in ({glow_projects})\n",
    "GROUP BY project, country_code\n",
    "'''"
   ]
  },
  {
   "cell_type": "code",
   "execution_count": null,
   "metadata": {},
   "outputs": [],
   "source": [
    "glow_views.info()"
   ]
  },
  {
   "cell_type": "code",
   "execution_count": null,
   "metadata": {},
   "outputs": [],
   "source": [
    "glow_views_piv = glow_views.pivot_table(\"pageviews\", index=\"project\", columns=\"country_code\", aggfunc=\"sum\", fill_value=0)"
   ]
  },
  {
   "cell_type": "code",
   "execution_count": null,
   "metadata": {},
   "outputs": [],
   "source": [
    "countries_sorted = piv.apply(\"sum\", axis=0).sort_values(ascending=False).index\n",
    "\n",
    "with pd.option_context(\n",
    "    'display.max_rows', None, \n",
    "    'display.max_columns', None,\n",
    "    'display.max_colwidth', 500,\n",
    "):\n",
    "    display(piv.iloc[:, :25])"
   ]
  },
  {
   "cell_type": "code",
   "execution_count": null,
   "metadata": {},
   "outputs": [],
   "source": [
    "#adapted from: https://github.com/wikimedia-research/Editing-movement-metrics/blob/2c261e94ceb4735f53bf51157272e967f5352e94/analysis/diversity-metrics.ipynb\n",
    "\n",
    "#get data and format df columns\n",
    "glow_views_glow_countries_r = '''\n",
    "SELECT project, \n",
    "       country_code, \n",
    "       SUM(view_count)/12 AS pageviews\n",
    "FROM wmf.projectview_hourly\n",
    "WHERE\n",
    "    CONCAT(year,LPAD(month,2,'0')) >= \"{Y_START_DATE_pv}\"\n",
    "    AND CONCAT(year,LPAD(month,2,'0')) < \"{TODAY_DATE_pv}\" AND\n",
    "    access_method in (\"mobile web\", \"mobile app\", \"desktop\") AND\n",
    "    project in ({glow_projects})\n",
    "    AND country_code IN ({glow_iso_codes})\n",
    "GROUP BY project, country_code\n",
    "'''\n"
   ]
  },
  {
   "cell_type": "code",
   "execution_count": null,
   "metadata": {},
   "outputs": [],
   "source": []
  },
  {
   "cell_type": "code",
   "execution_count": null,
   "metadata": {},
   "outputs": [],
   "source": [
    "glow_views_glow_countries_r.to_csv(\"./data/glow/glow_views_glow_countries_yr.csv\", sep=',', encoding = 'utf-8')"
   ]
  }
 ],
 "metadata": {
  "kernelspec": {
   "display_name": "Python 3",
   "language": "python",
   "name": "python3"
  },
  "language_info": {
   "codemirror_mode": {
    "name": "ipython",
    "version": 3
   },
   "file_extension": ".py",
   "mimetype": "text/x-python",
   "name": "python",
   "nbconvert_exporter": "python",
   "pygments_lexer": "ipython3",
   "version": "3.5.3"
  }
 },
 "nbformat": 4,
 "nbformat_minor": 4
}
