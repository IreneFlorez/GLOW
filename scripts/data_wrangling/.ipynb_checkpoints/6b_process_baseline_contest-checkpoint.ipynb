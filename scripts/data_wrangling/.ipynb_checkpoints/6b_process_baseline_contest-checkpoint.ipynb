{
 "cells": [
  {
   "cell_type": "markdown",
   "metadata": {},
   "source": [
    "# process/get baselines - contest"
   ]
  },
  {
   "cell_type": "code",
   "execution_count": 75,
   "metadata": {},
   "outputs": [],
   "source": [
    "from pyspark.sql.types import ArrayType, StringType\n",
    "\n",
    "from pyspark.context import SparkContext\n",
    "from pyspark.sql.session import SparkSession\n",
    "\n",
    "import datetime as dt\n",
    "\n",
    "import pandas as pd\n",
    "import numpy as np"
   ]
  },
  {
   "cell_type": "code",
   "execution_count": 83,
   "metadata": {},
   "outputs": [
    {
     "name": "stdout",
     "output_type": "stream",
     "text": [
      "Stored 'query_vars' (dict)\n",
      "Stored 'quality_vars' (dict)\n"
     ]
    }
   ],
   "source": [
    "%run 2b_data_handling.ipynb\n",
    "%run 5d_collect_baseline_contest.ipynb"
   ]
  },
  {
   "cell_type": "code",
   "execution_count": 57,
   "metadata": {},
   "outputs": [],
   "source": [
    "wikis = pd.read_csv(\"../../data/processed/query_results/wikis.csv\", sep=',', encoding = 'utf-8')"
   ]
  },
  {
   "cell_type": "raw",
   "metadata": {},
   "source": [
    "remove dates before Oct 10, 2019\n",
    "remove dates after Feb 11, 2019\n",
    "\n",
    "same for editors\n",
    "\n",
    "also review added editor item"
   ]
  },
  {
   "cell_type": "markdown",
   "metadata": {},
   "source": [
    "#### Devices <a class=\"anchor\" id=\"article_detail\"></a>\n",
    "[Back to Table of Contents](#toc)"
   ]
  },
  {
   "cell_type": "code",
   "execution_count": 49,
   "metadata": {},
   "outputs": [],
   "source": [
    "mca_uds = spark.sql(mca_uds_contest_r.format(**query_vars)).toPandas()\n",
    "mca_uds[\"domain_name\"] = \"https://\" + mca_uds[\"domain_name\"]\n",
    "\n",
    "wikis = wikis.merge(mca_uds, how='left', on='domain_name')"
   ]
  },
  {
   "cell_type": "markdown",
   "metadata": {},
   "source": [
    "#### Editors<a class=\"anchor\" id=\"editors\"></a>\n",
    "[Back to Table of Contents](#toc)"
   ]
  },
  {
   "cell_type": "code",
   "execution_count": 62,
   "metadata": {},
   "outputs": [],
   "source": [
    "mce = spark.sql(mce_contest_r.format(**query_vars)).toPandas()\n",
    "merge_in(mce)"
   ]
  },
  {
   "cell_type": "code",
   "execution_count": 63,
   "metadata": {},
   "outputs": [],
   "source": [
    "mnae = spark.sql(mnae_contest_r.format(**query_vars)).toPandas()\n",
    "merge_in(mnae)"
   ]
  },
  {
   "cell_type": "code",
   "execution_count": 64,
   "metadata": {},
   "outputs": [],
   "source": [
    "mae = spark.sql(mae_contest_r.format(**query_vars)).toPandas()\n",
    "#merge_in(mnae)"
   ]
  },
  {
   "cell_type": "code",
   "execution_count": 65,
   "metadata": {},
   "outputs": [
    {
     "data": {
      "text/html": [
       "<div>\n",
       "<table border=\"1\" class=\"dataframe\">\n",
       "  <thead>\n",
       "    <tr style=\"text-align: right;\">\n",
       "      <th></th>\n",
       "      <th>database_code</th>\n",
       "      <th>indic_editors_on_big_wikis_m</th>\n",
       "    </tr>\n",
       "  </thead>\n",
       "  <tbody>\n",
       "    <tr>\n",
       "      <th>0</th>\n",
       "      <td>enwiki</td>\n",
       "      <td>92.2</td>\n",
       "    </tr>\n",
       "    <tr>\n",
       "      <th>1</th>\n",
       "      <td>wikidatawiki</td>\n",
       "      <td>169.8</td>\n",
       "    </tr>\n",
       "    <tr>\n",
       "      <th>2</th>\n",
       "      <td>commonswiki</td>\n",
       "      <td>82.4</td>\n",
       "    </tr>\n",
       "  </tbody>\n",
       "</table>\n",
       "</div>"
      ],
      "text/plain": [
       "  database_code  indic_editors_on_big_wikis_m\n",
       "0        enwiki                          92.2\n",
       "1  wikidatawiki                         169.8\n",
       "2   commonswiki                          82.4"
      ]
     },
     "execution_count": 65,
     "metadata": {},
     "output_type": "execute_result"
    }
   ],
   "source": [
    "mae"
   ]
  },
  {
   "cell_type": "code",
   "execution_count": 91,
   "metadata": {},
   "outputs": [],
   "source": [
    "mae.to_csv(\"../../data/processed/query_results/regional_counts/baseline/mae_contest.csv\", sep=',', encoding = 'utf-8', index=False)"
   ]
  },
  {
   "cell_type": "raw",
   "metadata": {},
   "source": [
    "mne = spark.sql(mne_contest_r.format(**query_vars)).toPandas()\n",
    "merge_in(mne)"
   ]
  },
  {
   "cell_type": "raw",
   "metadata": {},
   "source": [
    "ner = spark.sql(ner_contest_r.format(**query_vars)).toPandas()\n",
    "merge_in(ner)"
   ]
  },
  {
   "cell_type": "markdown",
   "metadata": {},
   "source": [
    "#### Readers<a class=\"anchor\" id=\"readers\"></a>\n",
    "[Back to Table of Contents](#toc)"
   ]
  },
  {
   "cell_type": "code",
   "execution_count": 68,
   "metadata": {},
   "outputs": [],
   "source": [
    "pv_rc = spark.sql(pv_rc_contest_r.format(**query_vars)).toPandas()"
   ]
  },
  {
   "cell_type": "code",
   "execution_count": 69,
   "metadata": {},
   "outputs": [],
   "source": [
    "pv_all = spark.sql(pv_all_contest_r .format(**query_vars)).toPandas()"
   ]
  },
  {
   "cell_type": "code",
   "execution_count": 71,
   "metadata": {},
   "outputs": [],
   "source": [
    "#save to process\n",
    "pv_rc.to_csv(\"../../data/processed/query_results/pv/pv_to_process/pv_rc.csv\", sep=',', encoding = 'utf-8', index=False)\n",
    "\n",
    "pv_all.to_csv(\"../../data/processed/query_results/pv/pv_to_process/pv_all.csv\", sep=',', encoding = 'utf-8', index=False)"
   ]
  },
  {
   "cell_type": "raw",
   "metadata": {},
   "source": [
    "remove dates before Oct 10, 2019\n",
    "remove dates after Feb 11, 2019"
   ]
  },
  {
   "cell_type": "markdown",
   "metadata": {},
   "source": [
    "#### Articles - at large<a class=\"anchor\" id=\"editors\"></a>\n",
    "[Back to Table of Contents](#toc)"
   ]
  },
  {
   "cell_type": "code",
   "execution_count": 84,
   "metadata": {},
   "outputs": [],
   "source": [
    "m_new_article_counts = spark.sql(m_new_article_counts_contest_r.format(**query_vars)).toPandas()\n",
    "#m_new_article_counts_c = m_new_article_counts.copy()\n",
    "merge_in(m_new_article_counts)"
   ]
  },
  {
   "cell_type": "code",
   "execution_count": 86,
   "metadata": {},
   "outputs": [],
   "source": [
    "m_new_articles_edited = spark.sql(m_new_articles_edited_contest_r.format(**query_vars)).toPandas()\n",
    "#m_new_articles_edited_c = m_new_articles_edited.copy()\n",
    "merge_in(m_new_articles_edited)"
   ]
  },
  {
   "cell_type": "code",
   "execution_count": 87,
   "metadata": {},
   "outputs": [],
   "source": [
    "eae = spark.sql(eae_contest_r.format(**query_vars)).toPandas()\n",
    "eae_c = eae.copy()\n",
    "merge_in(eae)"
   ]
  },
  {
   "cell_type": "code",
   "execution_count": 88,
   "metadata": {},
   "outputs": [],
   "source": [
    "dra = spark.sql(dra_contest_r.format(**query_vars)).toPandas()\n",
    "dra_c = dra.copy()\n",
    "merge_in(dra)"
   ]
  },
  {
   "cell_type": "markdown",
   "metadata": {},
   "source": [
    "## save to csv"
   ]
  },
  {
   "cell_type": "code",
   "execution_count": 90,
   "metadata": {},
   "outputs": [],
   "source": [
    "wikis.to_csv(\"../../data/processed/query_results/regional_counts/baseline/baseline_contest.csv\", sep=',', encoding = 'utf-8', index=False)"
   ]
  },
  {
   "cell_type": "code",
   "execution_count": null,
   "metadata": {},
   "outputs": [],
   "source": []
  }
 ],
 "metadata": {
  "kernelspec": {
   "display_name": "PySpark - YARN (large)",
   "language": "python",
   "name": "spark_yarn_pyspark_large"
  },
  "language_info": {
   "codemirror_mode": {
    "name": "ipython",
    "version": 3
   },
   "file_extension": ".py",
   "mimetype": "text/x-python",
   "name": "python",
   "nbconvert_exporter": "python",
   "pygments_lexer": "ipython3",
   "version": "3.5.3"
  }
 },
 "nbformat": 4,
 "nbformat_minor": 4
}
