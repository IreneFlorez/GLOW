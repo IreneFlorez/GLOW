{
 "cells": [
  {
   "cell_type": "markdown",
   "metadata": {},
   "source": [
    "# process/get baselines - monthly"
   ]
  },
  {
   "cell_type": "code",
   "execution_count": 7,
   "metadata": {},
   "outputs": [],
   "source": [
    "from pyspark.sql.types import ArrayType, StringType\n",
    "\n",
    "from pyspark.context import SparkContext\n",
    "from pyspark.sql.session import SparkSession\n",
    "\n",
    "import datetime as dt\n",
    "\n",
    "import pandas as pd\n",
    "import numpy as np"
   ]
  },
  {
   "cell_type": "code",
   "execution_count": 37,
   "metadata": {},
   "outputs": [
    {
     "name": "stdout",
     "output_type": "stream",
     "text": [
      "Stored 'query_vars' (dict)\n",
      "Stored 'quality_vars' (dict)\n"
     ]
    }
   ],
   "source": [
    "%run 2b_data_handling.ipynb\n",
    "%run 5c_collect_baseline_monthly.ipynb"
   ]
  },
  {
   "cell_type": "code",
   "execution_count": 9,
   "metadata": {},
   "outputs": [],
   "source": [
    "countries = spark.sql(countries_r.format(**query_vars)).toPandas();"
   ]
  },
  {
   "cell_type": "code",
   "execution_count": 10,
   "metadata": {},
   "outputs": [],
   "source": [
    "wikis = spark.sql(wikis_r.format(**query_vars)).toPandas()"
   ]
  },
  {
   "cell_type": "code",
   "execution_count": 11,
   "metadata": {},
   "outputs": [],
   "source": [
    "wikis.to_csv(\"../../data/processed/query_results/wikis.csv\", sep=',', encoding = 'utf-8', index=False)"
   ]
  },
  {
   "cell_type": "raw",
   "metadata": {},
   "source": [
    "wikis_c = wikis.copy()\n",
    "wikis_c = wikis_c.reset_index()\n",
    "india_wikis = wikis_c.loc[wikis_a['database_code'].isin(india_glow_wiki_dbs_mariadb)]"
   ]
  },
  {
   "cell_type": "code",
   "execution_count": 38,
   "metadata": {},
   "outputs": [],
   "source": [
    "wikis = pd.read_csv(\"../../data/processed/query_results/wikis.csv\", sep=',', encoding = 'utf-8')"
   ]
  },
  {
   "cell_type": "markdown",
   "metadata": {},
   "source": [
    "#### Devices <a class=\"anchor\" id=\"article_detail\"></a>\n",
    "[Back to Table of Contents](#toc)"
   ]
  },
  {
   "cell_type": "code",
   "execution_count": 12,
   "metadata": {},
   "outputs": [],
   "source": [
    "mca_uds = spark.sql(mca_uds_r.format(**query_vars)).toPandas()\n",
    "mca_uds[\"domain_name\"] = \"https://\" + mca_uds[\"domain_name\"]\n",
    "\n",
    "wikis = wikis.merge(mca_uds, how='left', on='domain_name')"
   ]
  },
  {
   "cell_type": "markdown",
   "metadata": {},
   "source": [
    "#### Editors<a class=\"anchor\" id=\"editors\"></a>\n",
    "[Back to Table of Contents](#toc)"
   ]
  },
  {
   "cell_type": "code",
   "execution_count": 13,
   "metadata": {},
   "outputs": [],
   "source": [
    "mce = spark.sql(mce_r.format(**query_vars)).toPandas()\n",
    "merge_in(mce)"
   ]
  },
  {
   "cell_type": "code",
   "execution_count": 14,
   "metadata": {},
   "outputs": [],
   "source": [
    "mnae = spark.sql(mnae_r.format(**query_vars)).toPandas()\n",
    "merge_in(mnae)"
   ]
  },
  {
   "cell_type": "code",
   "execution_count": 15,
   "metadata": {},
   "outputs": [],
   "source": [
    "mae = spark.sql(mae_r.format(**query_vars)).toPandas()\n",
    "#merge_in(mnae)"
   ]
  },
  {
   "cell_type": "code",
   "execution_count": 16,
   "metadata": {},
   "outputs": [
    {
     "data": {
      "text/html": [
       "<div>\n",
       "<table border=\"1\" class=\"dataframe\">\n",
       "  <thead>\n",
       "    <tr style=\"text-align: right;\">\n",
       "      <th></th>\n",
       "      <th>database_code</th>\n",
       "      <th>indic_editors_on_big_wikis_m</th>\n",
       "    </tr>\n",
       "  </thead>\n",
       "  <tbody>\n",
       "    <tr>\n",
       "      <th>0</th>\n",
       "      <td>enwiki</td>\n",
       "      <td>146712.833333</td>\n",
       "    </tr>\n",
       "    <tr>\n",
       "      <th>1</th>\n",
       "      <td>wikidatawiki</td>\n",
       "      <td>22553.500000</td>\n",
       "    </tr>\n",
       "    <tr>\n",
       "      <th>2</th>\n",
       "      <td>commonswiki</td>\n",
       "      <td>38676.333333</td>\n",
       "    </tr>\n",
       "  </tbody>\n",
       "</table>\n",
       "</div>"
      ],
      "text/plain": [
       "  database_code  indic_editors_on_big_wikis_m\n",
       "0        enwiki                 146712.833333\n",
       "1  wikidatawiki                  22553.500000\n",
       "2   commonswiki                  38676.333333"
      ]
     },
     "execution_count": 16,
     "metadata": {},
     "output_type": "execute_result"
    }
   ],
   "source": [
    "mae"
   ]
  },
  {
   "cell_type": "code",
   "execution_count": 17,
   "metadata": {},
   "outputs": [],
   "source": [
    "mae.to_csv(\"../../data/processed/query_results/regional_counts/baseline/mae_12m.csv\", sep=',', encoding = 'utf-8', index=False)"
   ]
  },
  {
   "cell_type": "raw",
   "metadata": {},
   "source": [
    "mne = spark.sql(mne_r.format(**query_vars)).toPandas()\n",
    "mne_c = mne.copy()\n",
    "merge_in(mne)"
   ]
  },
  {
   "cell_type": "raw",
   "metadata": {},
   "source": [
    "ner = spark.sql(ner_r.format(**query_vars)).toPandas()\n",
    "ner_c = ner.copy()\n",
    "merge_in(ner)"
   ]
  },
  {
   "cell_type": "markdown",
   "metadata": {},
   "source": [
    "#### Readers<a class=\"anchor\" id=\"readers\"></a>\n",
    "[Back to Table of Contents](#toc)"
   ]
  },
  {
   "cell_type": "code",
   "execution_count": 19,
   "metadata": {},
   "outputs": [],
   "source": [
    "pv_rc = spark.sql(pv_rc_r.format(**query_vars)).toPandas()"
   ]
  },
  {
   "cell_type": "code",
   "execution_count": 20,
   "metadata": {},
   "outputs": [],
   "source": [
    "pv_all = spark.sql(pv_all_r .format(**query_vars)).toPandas()"
   ]
  },
  {
   "cell_type": "code",
   "execution_count": 21,
   "metadata": {},
   "outputs": [],
   "source": [
    "#save to process\n",
    "pv_rc.to_csv(\"../../data/processed/query_results/pv/pv_to_process/pv_rc_12M.csv\", sep=',', encoding = 'utf-8', index=False)\n",
    "\n",
    "pv_all.to_csv(\"../../data/processed/query_results/pv/pv_to_process/pv_all_12M.csv\", sep=',', encoding = 'utf-8', index=False)"
   ]
  },
  {
   "cell_type": "raw",
   "metadata": {},
   "source": [
    "remove dates before Oct 10, 2019\n",
    "remove dates after Feb 11, 2019"
   ]
  },
  {
   "cell_type": "markdown",
   "metadata": {},
   "source": [
    "#### Articles<a class=\"anchor\" id=\"editors\"></a>\n",
    "[Back to Table of Contents](#toc)"
   ]
  },
  {
   "cell_type": "code",
   "execution_count": 22,
   "metadata": {},
   "outputs": [],
   "source": [
    "m_new_article_counts = spark.sql(m_new_article_counts_r.format(**query_vars)).toPandas()\n",
    "#m_new_article_counts_c = m_new_article_counts.copy()\n",
    "merge_in(m_new_article_counts)"
   ]
  },
  {
   "cell_type": "code",
   "execution_count": 23,
   "metadata": {},
   "outputs": [],
   "source": [
    "m_new_articles_edited = spark.sql(m_new_articles_edited_r.format(**query_vars)).toPandas()\n",
    "#m_new_articles_edited_c = m_new_articles_edited.copy()\n",
    "merge_in(m_new_articles_edited)"
   ]
  },
  {
   "cell_type": "code",
   "execution_count": 24,
   "metadata": {},
   "outputs": [],
   "source": [
    "eae = spark.sql(eae_r.format(**query_vars)).toPandas()\n",
    "#eae_c = eae.copy()\n",
    "merge_in(eae)"
   ]
  },
  {
   "cell_type": "code",
   "execution_count": 46,
   "metadata": {},
   "outputs": [],
   "source": [
    "dra = spark.sql(dra_r.format(**query_vars)).toPandas()\n",
    "#dra_c = dra.copy()\n",
    "merge_in(dra)"
   ]
  },
  {
   "cell_type": "markdown",
   "metadata": {},
   "source": [
    "## save to csv"
   ]
  },
  {
   "cell_type": "code",
   "execution_count": 50,
   "metadata": {},
   "outputs": [],
   "source": [
    "wikis.to_csv(\"../../data/processed/query_results/regional_counts/baseline/baseline_monthly.csv\", sep=',', encoding = 'utf-8', index=False)"
   ]
  },
  {
   "cell_type": "code",
   "execution_count": null,
   "metadata": {},
   "outputs": [],
   "source": []
  }
 ],
 "metadata": {
  "kernelspec": {
   "display_name": "PySpark - YARN (large)",
   "language": "python",
   "name": "spark_yarn_pyspark_large"
  },
  "language_info": {
   "codemirror_mode": {
    "name": "ipython",
    "version": 3
   },
   "file_extension": ".py",
   "mimetype": "text/x-python",
   "name": "python",
   "nbconvert_exporter": "python",
   "pygments_lexer": "ipython3",
   "version": "3.5.3"
  }
 },
 "nbformat": 4,
 "nbformat_minor": 4
}
