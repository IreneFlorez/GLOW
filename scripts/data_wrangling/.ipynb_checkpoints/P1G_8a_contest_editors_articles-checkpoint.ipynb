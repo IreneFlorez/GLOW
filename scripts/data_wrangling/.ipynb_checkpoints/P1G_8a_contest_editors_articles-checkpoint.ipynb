{
 "cells": [
  {
   "cell_type": "markdown",
   "metadata": {},
   "source": [
    "# GLOW - Contest Editors & Articles"
   ]
  },
  {
   "cell_type": "markdown",
   "metadata": {},
   "source": [
    "## Table of Contents  <a class=\"anchor\" id=\"toc\"></a>\n",
    "\n",
    "* [Contest editors & articles](#top)\n",
    "\n",
    "    1. [Editors](#editors)\n",
    "        1. [Editors](#editors_monthly)\n",
    "        2. [Monthly Active Editors](#editors_active)\n",
    "        3. [Monthly New Editors](#editors_new)\n",
    "        4. [New editor retention](#new_editor_retention)\n",
    "    2. [Articles](#articles)\n",
    "        1. [Articles Count by wiki](#articles_count) \n",
    "        2. [New Articles](#new_articles)\n",
    "        3. [Edits to existing articles](#article_edits)\n",
    "        4. [New articles: by date/exp/survival](#new_articles_filtered)"
   ]
  },
  {
   "cell_type": "code",
   "execution_count": 1,
   "metadata": {},
   "outputs": [],
   "source": [
    "#TO DO  https://github.com/wikimedia-research/canonical-data/blob/master/countries.csv\n",
    "\n",
    "#https://better.engineering/2019/07/29/modeling-conversion-rates-and-saving-millions-of-dollars-using-kaplan-meier-and-gamma-distributions/\n",
    "\n",
    "#investigating time spent by global wiki users https://opensym.org/wp-content/uploads/2019/08/os19-paper-A14-teblunthuis.pdf\n",
    "\n",
    "#topics viz https://nbviewer.jupyter.org/github/conniecc1/topics-modeling/blob/master/TopicPageviewsSept2019.ipynb"
   ]
  },
  {
   "cell_type": "code",
   "execution_count": 19,
   "metadata": {},
   "outputs": [
    {
     "name": "stdout",
     "output_type": "stream",
     "text": [
      "The sql_magic extension is already loaded. To reload it, use:\n",
      "  %reload_ext sql_magic\n"
     ]
    }
   ],
   "source": [
    "import wmfdata as wmf\n",
    "from wmfdata import charting, mariadb, hive\n",
    "from wmfdata.utils import pct_str, pd_display_all\n",
    "import requests\n",
    "import re\n",
    "from urllib import request\n",
    "import json\n",
    "\n",
    "import pandas as pd\n",
    "import matplotlib as mpl\n",
    "import matplotlib.pyplot as plt\n",
    "import numpy as np\n",
    "import seaborn as sns\n",
    "\n",
    "import jupyter_contrib_nbextensions\n",
    "import datetime as dt \n",
    "from datetime import datetime, timedelta, date\n",
    "import dateutil\n",
    "#from dateutil.relativedelta import relativedelta\n",
    "\n",
    "import logging\n",
    "import gc\n",
    "import weakref\n",
    "import pprint\n",
    "\n",
    "%load_ext sql_magic"
   ]
  },
  {
   "cell_type": "markdown",
   "metadata": {},
   "source": [
    "### Get clean article list: id, wiki, redirects <a class=\"anchor\" id=\"get_clean_list\"></a>\n",
    "[Back to Table of Contents](#toc)"
   ]
  },
  {
   "cell_type": "raw",
   "metadata": {},
   "source": [
    "#%run ./data_collection/collecting_articles.ipynb\n",
    "#%store -r PA_18_PT_articles #first run variable\n",
    "#WHY IS THIS A list of 1323? not 1320?\n",
    "\n",
    "#%store -r pa_articles_2018 # petscan\n",
    "\n",
    "\n",
    "#%run ./data_collection/collecting_articles.ipynb\n",
    "%store -r pa_articles_PT18 \n",
    "%store -r pa_articles_PT18_denormalized\n",
    "%store -r pa_editors_PT18 \n",
    "\n",
    "%store -r pa_articles_wla18\n",
    "%store -r pa_articles_wla18_denormalized\n",
    "%store -r pa_editors_wla18 \n",
    "\n",
    "%store -r hi_articles_PT18\n",
    "%store -r hi_articles_PT18_denormalized\n",
    "%store -r hi_editors_PT18 \n",
    "\n",
    "%store -r hi_articles_wla18\n",
    "%store -r hi_articles_wla18_denormalized\n",
    "%store -r hi_editors_wla18 \n",
    "\n",
    "%store -r ml_articles_PT18\n",
    "%store -r ml_articles_PT18_denormalized\n",
    "%store -r ml_editors_PT18 \n",
    "\n",
    "%store -r ml_articles_wla18\n",
    "%store -r ml_articles_wla18_denormalized\n",
    "%store -r ml_editors_wla18 "
   ]
  },
  {
   "cell_type": "code",
   "execution_count": 433,
   "metadata": {},
   "outputs": [],
   "source": [
    "%store -r pa_articles_2018\n",
    "%store -r pa_editors_2018"
   ]
  },
  {
   "cell_type": "code",
   "execution_count": null,
   "metadata": {},
   "outputs": [],
   "source": [
    "#editors existing\n",
    "#editors new\n",
    "#editors active\n",
    "#editors resource recipients"
   ]
  },
  {
   "cell_type": "markdown",
   "metadata": {},
   "source": [
    "## Campaign new editors"
   ]
  },
  {
   "cell_type": "code",
   "execution_count": 454,
   "metadata": {},
   "outputs": [],
   "source": [
    "editors_that_reg_b4_contest = wmf.mariadb.run(\"\"\"\n",
    "SELECT \n",
    "    DATE_FORMAT(user_registration,\"%Y-%m-%d\") AS reg_date\n",
    "FROM user\n",
    "WHERE\n",
    "    user_name IN ({pa_editors_2018})\n",
    "    AND user_registration >= \"2018-03-01\"\n",
    "\"\"\".format(pa_editors_2018=pa_editors_2018), \"pawiki\")"
   ]
  },
  {
   "cell_type": "markdown",
   "metadata": {},
   "source": [
    "## Campaign editor retention"
   ]
  },
  {
   "cell_type": "code",
   "execution_count": 486,
   "metadata": {},
   "outputs": [],
   "source": [
    "#six months after contest ends, 2018-11-31\n",
    "editor_activity = wmf.mariadb.run(\"\"\"\n",
    "SELECT \n",
    "    DATE_FORMAT(user_touched,\"%Y-%m-%d\") AS last_edit, \n",
    "    user_editcount\n",
    "FROM user\n",
    "WHERE\n",
    "    user_name IN ({pa_editors_2018})\n",
    "    AND user_touched >= \"2018-11-31\"\n",
    "\"\"\".format(pa_editors_2018=pa_editors_2018), \"pawiki\")"
   ]
  },
  {
   "cell_type": "code",
   "execution_count": null,
   "metadata": {},
   "outputs": [],
   "source": [
    "# six months after contest ends, 2018-11-31\n",
    "\n",
    "## articles_expanded = first_edit_timestamp[(first_edit_timestamp['first_edited'] < '2018-11-01') | (first_edit_timestamp['first_edited'] > '2018-11-30') ]\n",
    "#\n",
    "\n",
    "editor_retention_nm_pa_editors_PT18 = wmf.mariadb.run(\"\"\"\n",
    "SELECT COUNT(DISTINCT user_id) AS editor_retention_pa_pt18\n",
    "FROM user\n",
    "JOIN revision \n",
    "on rev_user = user_id\n",
    "WHERE user_name IN ({pa_editors_PT18})\n",
    "  AND rev_timestamp >= \"20181131000000\"\n",
    "  AND rev_timestamp <= \"20190330000000\"\n",
    "  AND rev_minor_edit != 0\n",
    "\"\"\".format(pa_editors_PT18=pa_editors_PT18), \"pawiki\")"
   ]
  },
  {
   "cell_type": "code",
   "execution_count": null,
   "metadata": {},
   "outputs": [],
   "source": [
    "# editor_retention_nm_pa_editors_PT18"
   ]
  },
  {
   "cell_type": "code",
   "execution_count": 488,
   "metadata": {},
   "outputs": [],
   "source": [
    "#six months after contest ends, 2018-11-31\n",
    "editor_retention_all = wmf.mariadb.run(\"\"\"\n",
    "SELECT COUNT(DISTINCT user_id)\n",
    "FROM user\n",
    "JOIN revision \n",
    "on rev_user = user_id\n",
    "WHERE user_name IN ({pa_editors_2018})\n",
    "  AND rev_timestamp >= \"2018-11-31\"\n",
    "\"\"\".format(pa_editors_2018=pa_editors_2018), \"pawiki\")"
   ]
  },
  {
   "cell_type": "code",
   "execution_count": 490,
   "metadata": {},
   "outputs": [],
   "source": [
    "#six months after contest ends, 2018-11-31\n",
    "editor_retention_nm = wmf.mariadb.run(\"\"\"\n",
    "SELECT COUNT(DISTINCT user_id)\n",
    "FROM user\n",
    "JOIN revision \n",
    "on rev_user = user_id\n",
    "WHERE user_name IN ({pa_editors_2018})\n",
    "  AND rev_timestamp >= \"2018-11-31\"\n",
    "  AND rev_minor_edit != 0\n",
    "\"\"\".format(pa_editors_2018=pa_editors_2018), \"pawiki\")"
   ]
  },
  {
   "cell_type": "markdown",
   "metadata": {},
   "source": [
    "## Articles"
   ]
  },
  {
   "cell_type": "code",
   "execution_count": null,
   "metadata": {},
   "outputs": [],
   "source": [
    "# articles count new\n",
    "# articles count expanded\n",
    "# articles count by resource recipients\n",
    "# articles count by date/exp/survival"
   ]
  },
  {
   "cell_type": "markdown",
   "metadata": {},
   "source": [
    "### New articles <a class=\"anchor\" id=\"new_articles\"></a>\n",
    "[Back to Table of Contents](#toc)"
   ]
  },
  {
   "cell_type": "code",
   "execution_count": null,
   "metadata": {},
   "outputs": [],
   "source": [
    "#TO DO use some of the queries in the content quality notebook to get counts here\n",
    "%store -r articles_expanded\n",
    "%store -r articles_new"
   ]
  },
  {
   "cell_type": "code",
   "execution_count": 498,
   "metadata": {},
   "outputs": [],
   "source": [
    "nac_r_campaign_pt = hive.run(\"\"\"\n",
    "SELECT\n",
    "    wiki_db, \n",
    "    count(DISTINCT page_title)\n",
    "FROM wmf.mediawiki_history mh\n",
    "WHERE\n",
    "    mh.snapshot = \"2019-09\" \n",
    "    AND mh.event_timestamp >= \"2018-03\"\n",
    "    AND event_entity = \"page\"\n",
    "    AND event_type = \"create\"\n",
    "    AND wiki_db = 'pawiki'\n",
    "    AND page_title IN ({pa_articles_2018})\n",
    "GROUP BY wiki_db\n",
    "\"\"\".format(pa_articles_2018=pa_articles_2018))"
   ]
  },
  {
   "cell_type": "markdown",
   "metadata": {},
   "source": [
    "### Topics & wikidata"
   ]
  },
  {
   "cell_type": "code",
   "execution_count": null,
   "metadata": {},
   "outputs": [],
   "source": [
    "# READ DATA from Content quality and get aggregate totals for topics & wikidata\n",
    "# top article categories\n",
    "# num of pages created from topic lists\n",
    "# top articles by pageviews"
   ]
  },
  {
   "cell_type": "code",
   "execution_count": null,
   "metadata": {},
   "outputs": [],
   "source": []
  }
 ],
 "metadata": {
  "kernelspec": {
   "display_name": "Python 3",
   "language": "python",
   "name": "python3"
  },
  "language_info": {
   "codemirror_mode": {
    "name": "ipython",
    "version": 3
   },
   "file_extension": ".py",
   "mimetype": "text/x-python",
   "name": "python",
   "nbconvert_exporter": "python",
   "pygments_lexer": "ipython3",
   "version": "3.5.3"
  }
 },
 "nbformat": 4,
 "nbformat_minor": 4
}
