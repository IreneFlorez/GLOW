{
 "cells": [
  {
   "cell_type": "markdown",
   "metadata": {},
   "source": [
    "# Collect contest editors - region"
   ]
  },
  {
   "cell_type": "markdown",
   "metadata": {},
   "source": [
    "## Table of Contents  <a class=\"anchor\" id=\"toc\"></a>\n",
    "\n",
    "* [GLOW Wiki Baselines](#top)\n",
    "\n",
    "    1. [Editors](#editors)\n"
   ]
  },
  {
   "cell_type": "markdown",
   "metadata": {},
   "source": [
    "## Editors<a class=\"anchor\" id=\"editors\"></a>\n",
    "[Back to Table of Contents](#toc)"
   ]
  },
  {
   "cell_type": "code",
   "execution_count": null,
   "metadata": {},
   "outputs": [],
   "source": [
    "#https://hue.wikimedia.org/hue/metastore/table/cchen/editor_month"
   ]
  },
  {
   "cell_type": "markdown",
   "metadata": {},
   "source": [
    "#### Monthly editors & monthly new <a class=\"anchor\" id=\"editors_monthly\"></a>\n",
    "[Back to Table of Contents](#toc)"
   ]
  },
  {
   "cell_type": "code",
   "execution_count": 1,
   "metadata": {},
   "outputs": [],
   "source": [
    "#adapted from:\n",
    "#https://github.com/wikimedia-research/wiki-segmentation\n",
    "#https://github.com/wikimedia-research/Editing-movement-metrics\n",
    "\n",
    "mce_contest_r = '''\n",
    "SELECT\n",
    "    COUNT(*) / 5 AS monthly_editors,\n",
    "    sum(CAST(TRUNC(em.user_registration, 'MM') = TRUNC(month, 'MM') AS INT))/ 5 AS monthly_new_editors\n",
    "FROM florez.glow_tiger_participants gtp  \n",
    "LEFT JOIN cchen.editor_month em\n",
    "    ON gtp.username = em.user_name \n",
    "WHERE\n",
    "    em.month >= \"{contest_start_dt}\"\n",
    "    AND em.month < \"{contest_end_dt_next_m}\"\n",
    "    AND em.wiki IN ({india_wiki_dbs}) \n",
    "    AND em.user_id != 0 \n",
    "    AND em.bot_by_group = FALSE\n",
    "    AND (em.user_name not regexp \"bot\\\\b\" or em.user_name in (\"Paucabot\", \"Niabot\", \"Marbot\"))\n",
    "'''"
   ]
  },
  {
   "cell_type": "code",
   "execution_count": null,
   "metadata": {},
   "outputs": [],
   "source": [
    "#adapted from:\n",
    "#https://github.com/wikimedia-research/wiki-segmentation\n",
    "#https://github.com/wikimedia-research/Editing-movement-metrics\n",
    "\n",
    "mce_pre_r = '''\n",
    "SELECT\n",
    "    COUNT(*) / 12 AS monthly_editors,\n",
    "    sum(CAST(TRUNC(em.user_registration, 'MM') = TRUNC(month, 'MM') AS INT))/ 12 AS monthly_new_editors\n",
    "FROM florez.glow_tiger_participants gtp  \n",
    "LEFT JOIN cchen.editor_month em\n",
    "    ON gtp.username = em.user_name \n",
    "WHERE\n",
    "    em.month >= \"{contest_start_dt_12m_pre}\"\n",
    "    AND em.month < \"{contest_start_dt}\"\n",
    "    AND em.wiki IN ({india_wiki_dbs}) \n",
    "    AND em.user_id != 0 \n",
    "    AND em.bot_by_group = FALSE\n",
    "    AND (em.user_name not regexp \"bot\\\\b\" or em.user_name in (\"Paucabot\", \"Niabot\", \"Marbot\"))\n",
    "'''"
   ]
  },
  {
   "cell_type": "markdown",
   "metadata": {},
   "source": [
    "#### Monthly active editors <a class=\"anchor\" id=\"editors_active\"></a>\n",
    "[Back to Table of Contents](#toc)"
   ]
  },
  {
   "cell_type": "code",
   "execution_count": 2,
   "metadata": {},
   "outputs": [],
   "source": [
    "#monthly active editors\n",
    "#adapted from:\n",
    "#https://github.com/wikimedia-research/wiki-segmentation\n",
    "#https://github.com/wikimedia-research/Editing-movement-metrics\n",
    "\n",
    "mnae_contest_r = '''\n",
    "SELECT\n",
    "    COUNT(*) / 5 AS monthly_active_editors,\n",
    "    SUM(\n",
    "        CAST(TRUNC(em.user_registration, 'MM') = TRUNC(month, 'MM') AS INT)\n",
    "        )/ 5 AS monthly_new_active_editors\n",
    "FROM florez.glow_tiger_participants gtp  \n",
    "LEFT JOIN cchen.editor_month em\n",
    "    ON gtp.username = em.user_name \n",
    "WHERE\n",
    "    content_edits >= 5 \n",
    "    AND em.month >= \"{contest_start_dt}\"\n",
    "    AND em.month < \"{contest_end_dt_next_m}\"\n",
    "    AND em.wiki IN ({india_wiki_dbs}) \n",
    "    AND em.user_id != 0 \n",
    "    AND em.bot_by_group = FALSE\n",
    "    AND (em.user_name not regexp \"bot\\\\b\" or em.user_name in (\"Paucabot\", \"Niabot\", \"Marbot\"))  \n",
    "'''"
   ]
  },
  {
   "cell_type": "code",
   "execution_count": null,
   "metadata": {},
   "outputs": [],
   "source": [
    "mnae_pre_r = '''\n",
    "SELECT\n",
    "    COUNT(*) / 12 AS monthly_active_editors,\n",
    "    SUM(\n",
    "        CAST(TRUNC(em.user_registration, 'MM') = TRUNC(month, 'MM') AS INT)\n",
    "        )/ 12 AS monthly_new_active_editors\n",
    "FROM florez.glow_tiger_participants gtp  \n",
    "LEFT JOIN cchen.editor_month em\n",
    "    ON gtp.username = em.user_name \n",
    "WHERE\n",
    "    content_edits >= 5 \n",
    "    AND em.month >= \"{contest_start_dt_12m_pre}\"\n",
    "    AND em.month < \"{contest_start_dt}\"\n",
    "    AND em.wiki IN ({india_wiki_dbs}) \n",
    "    AND em.user_id != 0 \n",
    "    AND em.bot_by_group = FALSE\n",
    "    AND (em.user_name not regexp \"bot\\\\b\" or em.user_name in (\"Paucabot\", \"Niabot\", \"Marbot\"))  \n",
    "'''"
   ]
  },
  {
   "cell_type": "markdown",
   "metadata": {},
   "source": [
    "#### Monthly Editors - including group of big wikis <a class=\"anchor\" id=\"editors_active\"></a>\n",
    "[Back to Table of Contents](#toc)"
   ]
  },
  {
   "cell_type": "code",
   "execution_count": 1,
   "metadata": {},
   "outputs": [],
   "source": [
    "mae_contest_r = '''\n",
    "SELECT\n",
    "    COUNT(*) / 5 AS indic_editors_on_big_wikis_m\n",
    "FROM florez.glow_tiger_participants gtp  \n",
    "LEFT JOIN cchen.editor_month em\n",
    "    ON gtp.username = em.user_name \n",
    "WHERE\n",
    "    em.month >= \"{contest_start_dt}\"\n",
    "    AND em.month < \"{contest_end_dt_next_m}\"\n",
    "    AND em.wiki IN {wikis_big} \n",
    "    AND em.user_id != 0 \n",
    "    AND em.bot_by_group = FALSE\n",
    "    AND (em.user_name not regexp \"bot\\\\b\" or em.user_name in (\"Paucabot\", \"Niabot\", \"Marbot\"))  \n",
    "'''"
   ]
  },
  {
   "cell_type": "code",
   "execution_count": null,
   "metadata": {},
   "outputs": [],
   "source": [
    "mae_pre_r = '''\n",
    "SELECT\n",
    "    COUNT(*) / 12 AS indic_editors_on_big_wikis_m\n",
    "FROM florez.glow_tiger_participants gtp  \n",
    "LEFT JOIN cchen.editor_month em\n",
    "    ON gtp.username = em.user_name \n",
    "WHERE\n",
    "    em.month >= \"{contest_start_dt_12m_pre}\"\n",
    "    AND em.month < \"{contest_start_dt}\"\n",
    "    AND em.wiki IN {wikis_big} \n",
    "    AND em.user_id != 0 \n",
    "    AND em.bot_by_group = FALSE\n",
    "    AND (em.user_name not regexp \"bot\\\\b\" or em.user_name in (\"Paucabot\", \"Niabot\", \"Marbot\"))  \n",
    "'''"
   ]
  },
  {
   "cell_type": "code",
   "execution_count": null,
   "metadata": {},
   "outputs": [],
   "source": [
    "#adapted from:\n",
    "#https://github.com/wikimedia-research/wiki-segmentation\n",
    "#https://github.com/wikimedia-research/Editing-movement-metrics\n",
    "\n",
    "ner_contest_r = '''\n",
    "select \n",
    "    sum(cast(ne.2nd_month_edits >= 1 as int)) / sum(cast(ne.1st_month_edits >= 1 as int)) AS new_editor_retention\n",
    "FROM florez.glow_tiger_participants gtp  \n",
    "LEFT JOIN neilpquinn.new_editors ne\n",
    "    ON gtp.username = ne.user_name\n",
    "where \n",
    "    ne.cohort >= \"{contest_start_dt}\"\n",
    "    AND ne.cohort < \"{contest_end_dt_next_m}\"\n",
    "    AND ne.wiki IN ({india_wiki_dbs})\n",
    "'''"
   ]
  },
  {
   "cell_type": "code",
   "execution_count": null,
   "metadata": {},
   "outputs": [],
   "source": [
    "ner_pre_r = '''\n",
    "select \n",
    "    sum(cast(ne.2nd_month_edits >= 1 as int)) / sum(cast(ne.1st_month_edits >= 1 as int)) AS new_editor_retention\n",
    "FROM florez.glow_tiger_participants gtp  \n",
    "LEFT JOIN neilpquinn.new_editors ne\n",
    "    ON gtp.username = ne.user_name\n",
    "where \n",
    "    ne.cohort >= \"{contest_start_dt_12m_pre}\"\n",
    "    AND ne.cohort < \"{contest_start_dt}\"\n",
    "    AND ne.wiki IN ({india_wiki_dbs})\n",
    "'''"
   ]
  },
  {
   "cell_type": "markdown",
   "metadata": {},
   "source": [
    "### Editor's registration dates, to identify new editors"
   ]
  },
  {
   "cell_type": "code",
   "execution_count": null,
   "metadata": {},
   "outputs": [],
   "source": [
    "#event_user_creation_timestamp\tstring\tCreation timestamp of the user that caused the event (from logging table)\n",
    "#https://wikitech.wikimedia.org/wiki/Analytics/Data_Lake/Edits/MediaWiki_history#Schema\n",
    "\n",
    "editor_reg_contest_2019_r = '''\n",
    "SELECT\n",
    "    gtp.username,\n",
    "    em.wiki,\n",
    "    TRUNC(em.user_registration, 'MM') AS reg_date\n",
    "FROM florez.glow_tiger_participants gtp  \n",
    "LEFT JOIN cchen.editor_month em\n",
    "    ON gtp.username = em.user_name \n",
    "WHERE \n",
    "    em.user_id != 0 \n",
    "    AND em.bot_by_group = FALSE\n",
    "    AND (em.user_name not regexp \"bot\\\\b\" or em.user_name in (\"Paucabot\", \"Niabot\", \"Marbot\")) \n",
    "'''"
   ]
  },
  {
   "cell_type": "code",
   "execution_count": null,
   "metadata": {},
   "outputs": [],
   "source": [
    "editor_reg_contest_2018_r = '''\n",
    "SELECT\n",
    "    ptp.username,\n",
    "    em.wiki,\n",
    "    TRUNC(em.user_registration, 'MM') AS reg_date\n",
    "FROM florez.glow_tiger_pilot_participants ptp  \n",
    "LEFT JOIN cchen.editor_month em\n",
    "    ON ptp.username = em.user_name \n",
    "WHERE \n",
    "    em.user_id != 0 \n",
    "    AND em.bot_by_group = FALSE\n",
    "    AND (em.user_name not regexp \"bot\\\\b\" or em.user_name in (\"Paucabot\", \"Niabot\", \"Marbot\")) \n",
    "'''"
   ]
  },
  {
   "cell_type": "markdown",
   "metadata": {},
   "source": [
    "### Edits"
   ]
  },
  {
   "cell_type": "code",
   "execution_count": 2,
   "metadata": {},
   "outputs": [],
   "source": [
    "GLOW_editor_edits_r = '''\n",
    "SELECT mh.event_user_text, \n",
    "       mh.event_timestamp\n",
    "FROM florez.glow_tiger_participants gtp\n",
    "JOIN wmf.mediawiki_history mh\n",
    "    on gtp.username = mh.event_user_text\n",
    "WHERE (mh.snapshot='2020-03') \n",
    "    AND mh.event_timestamp >= '2018-01-01' \n",
    "    AND event_entity = \"revision\"\n",
    "    AND event_type = \"create\"\n",
    "    --order by event_user_revision_count desc\n",
    "'''"
   ]
  },
  {
   "cell_type": "code",
   "execution_count": null,
   "metadata": {},
   "outputs": [],
   "source": [
    "weekly_edits_query_ptp_grantees_r='''\n",
    "SELECT mh.event_user_text, \n",
    "       WEEKOFYEAR(mh.event_timestamp) AS week_n,\n",
    "       COUNT(mh.revision_id) AS edits\n",
    "FROM florez.glow_tiger_pilot_participants ptp\n",
    "JOIN wmf.mediawiki_history mh\n",
    "    on ptp.username = mh.event_user_text\n",
    "WHERE (mh.snapshot='2020-03') \n",
    "    AND mh.event_timestamp >= '2018-01-01' \n",
    "    AND mh.event_timestamp < '2019-01-01'\n",
    "    AND event_entity = \"revision\"\n",
    "    AND event_type = \"create\"\n",
    "    AND ptp.incentive_recipient = True\n",
    "    AND ptp.incentive_type = 'laptop'\n",
    "    AND mh.revision_minor_edit = false\n",
    "GROUP BY mh.event_user_text, weekofyear(mh.event_timestamp)\n",
    "'''"
   ]
  },
  {
   "cell_type": "code",
   "execution_count": null,
   "metadata": {},
   "outputs": [],
   "source": [
    "edits_query_ptp_grantees_r='''\n",
    "SELECT mh.event_user_text, \n",
    "       mh.event_timestamp AS edit_date,\n",
    "       COUNT(mh.revision_id) AS edits\n",
    "FROM florez.glow_tiger_pilot_participants ptp\n",
    "JOIN wmf.mediawiki_history mh\n",
    "    on ptp.username = mh.event_user_text\n",
    "WHERE (mh.snapshot='2020-03') \n",
    "    AND mh.event_timestamp >= '2017-01-01' \n",
    "    AND mh.event_timestamp < '2020-04-01'\n",
    "    AND event_entity = \"revision\"\n",
    "    AND event_type = \"create\"\n",
    "    AND ptp.incentive_recipient = True\n",
    "    AND ptp.incentive_type = 'laptop'\n",
    "    AND mh.revision_minor_edit = false\n",
    "GROUP BY mh.event_user_text, mh.event_timestamp\n",
    "'''"
   ]
  },
  {
   "cell_type": "code",
   "execution_count": null,
   "metadata": {},
   "outputs": [],
   "source": [
    "weekly_edits_query='''\n",
    "SELECT gtp.username,\n",
    "    WEEKOFYEAR(event_timestamp) AS week_n, \n",
    "    COUNT(revision_id) AS edits\n",
    "FROM florez.glow_tiger_participants gtp\n",
    "JOIN wmf.mediawiki_history mh\n",
    "    on gtp.username = mh.event_user_text\n",
    "WHERE\n",
    "    event_entity = 'revision' \n",
    "    AND event_type = 'create' \n",
    "    AND DATE(event_timestamp) >= '2018-01-01'  \n",
    "    AND snapshot = '2020-04'\n",
    "    AND incentive_recipient = True\n",
    "    AND incentive_type = 'laptop'\n",
    "GROUP BY weekofyear(event_timestamp) \n",
    "'''"
   ]
  },
  {
   "cell_type": "code",
   "execution_count": null,
   "metadata": {},
   "outputs": [],
   "source": [
    "weekly_edits_query_ptp='''\n",
    "SELECT gtp.username,\n",
    "    WEEKOFYEAR(mh.event_timestamp) AS week_n, \n",
    "    COUNT(mh.revision_id) AS edits\n",
    "FROM florez.glow_tiger_pilot_participants gtp\n",
    "JOIN wmf.mediawiki_history mh\n",
    "    on gtp.username = mh.event_user_text\n",
    "WHERE (mh.snapshot='2020-04')\n",
    "    AND mh.event_entity = 'revision' \n",
    "    AND mh.event_type = 'create' \n",
    "    AND mh.event_timestamp >= '2018-01-01'  \n",
    "    AND gtp.incentive_recipient = True\n",
    "    AND gtp.incentive_type = 'laptop'\n",
    "    AND mh.revision_minor_edit = false\n",
    "GROUP BY gtp.username, mh.event_timestamp\n",
    "'''"
   ]
  },
  {
   "cell_type": "raw",
   "metadata": {},
   "source": [
    "weekly_edits_query_ptp='''\n",
    "SELECT gtp.username,\n",
    "    WEEKOFYEAR(mh.event_timestamp) AS week_n, \n",
    "    COUNT(mh.revision_id) AS edits\n",
    "FROM florez.glow_tiger_pilot_participants gtp\n",
    "JOIN wmf.mediawiki_history mh\n",
    "    on gtp.username = mh.event_user_text\n",
    "WHERE (mh.snapshot='2020-04')\n",
    "    AND mh.event_entity = 'revision' \n",
    "    AND mh.event_type = 'create' \n",
    "    AND DATE(event_timestamp) >= '2018-01-01'  \n",
    "    AND gtp.incentive_recipient = True\n",
    "    AND gtp.incentive_type = 'laptop'\n",
    "GROUP BY gtp.username, mh.event_timestamp\n",
    "'''"
   ]
  }
 ],
 "metadata": {
  "kernelspec": {
   "display_name": "Python 3",
   "language": "python",
   "name": "python3"
  },
  "language_info": {
   "codemirror_mode": {
    "name": "ipython",
    "version": 3
   },
   "file_extension": ".py",
   "mimetype": "text/x-python",
   "name": "python",
   "nbconvert_exporter": "python",
   "pygments_lexer": "ipython3",
   "version": "3.5.3"
  }
 },
 "nbformat": 4,
 "nbformat_minor": 4
}
