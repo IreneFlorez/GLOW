{
 "cells": [
  {
   "cell_type": "code",
   "execution_count": 1,
   "metadata": {},
   "outputs": [],
   "source": [
    "import pandas as pd\n",
    "import numpy as np\n",
    "import json"
   ]
  },
  {
   "cell_type": "markdown",
   "metadata": {},
   "source": [
    "## Final Frame articles"
   ]
  },
  {
   "cell_type": "code",
   "execution_count": 2,
   "metadata": {},
   "outputs": [],
   "source": [
    "#read articles\n",
    "#articles = pd.read_csv(\"../../data/processed/query_results/content_quality/b3_final_frame_updated_pv.csv\", sep=',', encoding = 'utf-8')\n",
    "\n",
    "articles = pd.read_csv(\"../../data/processed/query_results/content_quality/indonesia/CQ_all_articles.csv\")\n",
    "\n",
    "#create new df from articles which has only pagetitle (underscores not spaces) and QID for each GLOW article\n",
    "df = articles.filter(['QID', 'page_title'], axis=1)\n",
    "#df['QID'] = df['QID'].astype(int)\n",
    "#df['QID'] = 'Q'+ df['QID'].astype(str)"
   ]
  },
  {
   "cell_type": "code",
   "execution_count": null,
   "metadata": {},
   "outputs": [],
   "source": [
    "len(df.loc[df['QID']==0])"
   ]
  },
  {
   "cell_type": "code",
   "execution_count": 4,
   "metadata": {},
   "outputs": [],
   "source": [
    "#remove Q0 ids which will block the model from working\n",
    "#Qzero = df.loc[df['QID']=='Q0']\n",
    "df = df[df.QID !=0]\n",
    "\n",
    "#df['QID'] = df['QID'].apply(str)\n",
    "df['QID'] = 'Q' + df['QID'].astype(str)\n",
    "df.rename(columns={'page_title':'title'}, inplace=True)"
   ]
  },
  {
   "cell_type": "markdown",
   "metadata": {},
   "source": [
    "### Topics"
   ]
  },
  {
   "cell_type": "markdown",
   "metadata": {},
   "source": [
    "#### data to json .txt file"
   ]
  },
  {
   "cell_type": "code",
   "execution_count": 7,
   "metadata": {},
   "outputs": [],
   "source": [
    "#QID string item, article item\n",
    "f = open(\"../../data/processed/query_results/topic_lists/topic_model/inputs_GLOW_Saraswati1.txt\", \"w\")\n",
    "\n",
    "for row in df.iterrows():\n",
    "    row[1].to_json(f)\n",
    "    f.write(\"\\n\")"
   ]
  },
  {
   "cell_type": "markdown",
   "metadata": {},
   "source": [
    "#### >> get topic data, using model & terminal on local "
   ]
  },
  {
   "cell_type": "raw",
   "metadata": {},
   "source": [
    "#https://github.com/geohci/wikidata-topic-model\n",
    "#https://meta.wikimedia.org/wiki/Research_talk:Characterizing_Wikipedia_Reader_Behaviour/Demographics_and_Wikipedia_use_cases/Work_log/2019-09-11\n",
    "#start terminal\n",
    ">> $ source activate fasttext\n",
    ">> $ cd <appropriate folder path>\n",
    ">> $ python3 wikidata_ids_to_topics_api.py\n"
   ]
  },
  {
   "cell_type": "markdown",
   "metadata": {},
   "source": [
    "##### read results"
   ]
  },
  {
   "cell_type": "code",
   "execution_count": 8,
   "metadata": {},
   "outputs": [],
   "source": [
    "# import the json objects from the .txt file into a list of dictionaries\n",
    "#with open('../../data/processed/query_results/topic_lists/topic_model/output_GLOW_ProjectTiger2topic_predictions.txt') as file:\n",
    "with open('../../data/processed/query_results/topic_lists/topic_model/Indonesia_outputs/output_GLOW_Saraswati1topic_predictions.txt') as file:\n",
    "\n",
    "    Q_articles = []\n",
    "    for line in file:\n",
    "        Q_articles.append(json.loads(line))\n",
    "        \n",
    "Q_articles_df = pd.DataFrame(Q_articles)"
   ]
  },
  {
   "cell_type": "code",
   "execution_count": null,
   "metadata": {},
   "outputs": [],
   "source": [
    "Q_articles_df.info()"
   ]
  },
  {
   "cell_type": "code",
   "execution_count": 10,
   "metadata": {},
   "outputs": [],
   "source": [
    "# https://stackoverflow.com/questions/18665284/how-do-i-access-embedded-json-objects-in-a-pandas-dataframe\n",
    "##seperate out the labels column to take a closer look\n",
    "labels_df = Q_articles_df['labels'].apply(pd.Series)\n",
    "\n",
    "#pull out the label % confidence number from label 1 \n",
    "label1_confnum = labels_df[0].apply(pd.Series)\n",
    "#pull out the label % confidence number from label2\n",
    "label2_confnum = labels_df[1].apply(pd.Series)\n",
    "\n",
    "#rename column names\n",
    "label1_confnum.rename(columns={0:'predicted_label_1', 1:'pl1_score'},inplace=True)\n",
    "label2_confnum.rename(columns={0:'predicted_label_2', 1:'pl2_score'},inplace=True)\n",
    "\n",
    "#concat back into the df\n",
    "labels_confnum_combo = pd.concat([label1_confnum, label2_confnum.apply(pd.Series)], axis=1)\n",
    "articles_labels_df = pd.concat([Q_articles_df, labels_confnum_combo.apply(pd.Series)], axis=1)\n",
    "\n",
    "#chage QID to q_id\n",
    "#articles_labels_df.rename(columns={'QID':'q_id'},inplace=True)\n",
    "articles_labels_df.rename(columns={'title':'page_title', 'labels': 'predicted_labels'},inplace=True)"
   ]
  },
  {
   "cell_type": "code",
   "execution_count": null,
   "metadata": {},
   "outputs": [],
   "source": [
    "articles_labels_df.info()"
   ]
  },
  {
   "cell_type": "code",
   "execution_count": 12,
   "metadata": {},
   "outputs": [],
   "source": [
    "#save to df\n",
    "articles_labels_df.to_csv(\"../../data/processed/query_results/topic_lists/GLOW_Saraswati1_topics_df.csv\", sep=',', encoding = 'utf-8', index=False)"
   ]
  },
  {
   "cell_type": "code",
   "execution_count": 17,
   "metadata": {},
   "outputs": [],
   "source": [
    "#prep the merge, if necessary\n",
    "#interim_articles['QID'] = interim_articles['QID'].astype(int)\n",
    "#interim_articles['QID'] = 'Q'+ interim_articles['QID'].astype(str)\n",
    "#merge\n",
    "interim_frame_updated_pv_topics = pd.merge(interim_articles, articles_int_labels_df, on=['page_title', 'QID'], how=\"left\").fillna(0);\n",
    "#save to csv\n",
    "interim_frame_updated_pv_topics.to_csv(\"../../data/processed/query_results/content_quality/4_interim_frame_updated_pv_topcs.csv\", sep=',', encoding = 'utf-8', index=False)\n"
   ]
  },
  {
   "cell_type": "markdown",
   "metadata": {},
   "source": [
    "#### wikidata P31 value -- at present requires additional optimization to run and provides few results given our inputs"
   ]
  },
  {
   "cell_type": "raw",
   "metadata": {
    "jupyter": {
     "outputs_hidden": true
    }
   },
   "source": [
    "preptitles = ', '.join('\"{0}\"@pa'.format(w) for w in clean_new_pagetitles_list) \n",
    "\n",
    "query = \"\"\"\n",
    "SELECT DISTINCT ?item ?lemma ?instance_of \n",
    "WHERE {\n",
    "  ?item wdt:P31 ?instance_of.    \n",
    "  ?sitelink schema:about ?item;\n",
    "   schema:isPartOf <https://pa.wikipedia.org/>;\n",
    "   schema:name ?lemma.\n",
    "   FILTER (?lemma IN (  %s )).\n",
    "   SERVICE wikibase:label { bd:serviceParam wikibase:language \"en\". }\n",
    "}   \n",
    "\"\"\"%preptitles\n",
    "\n",
    "print(query)"
   ]
  },
  {
   "cell_type": "raw",
   "metadata": {
    "jupyter": {
     "outputs_hidden": true
    }
   },
   "source": [
    "# read manual P31 pull data\n",
    "PA_P31 = pd.read_csv(\"../GlowPrivate/data/raw/P31/PA_P31data.csv\", sep=',', encoding = 'utf-8')"
   ]
  },
  {
   "cell_type": "raw",
   "metadata": {},
   "source": [
    "# https://stackoverflow.com/questions/13650840/use-another-sparql-inside-sparql-in-clause\n",
    "# https://github.com/santhoshtr/wikivue/blob/master/src/wiki/api/wikidata.js\n",
    "# P31 matched to top topics QUERY - \n",
    "\n",
    "SELECT DISTINCT ?lemma ?categoryLabel ?item ?itemLabel ?itemDescription \n",
    "    WHERE{\n",
    "      VALUES ?category {\n",
    "        wd:Q735\n",
    "        wd:Q2095\n",
    "        wd:Q309\n",
    "        wd:Q178561\n",
    "        wd:Q31629\n",
    "        wd:Q1071\n",
    "        wd:Q192864\n",
    "        wd:Q395\n",
    "        wd:Q11016\n",
    "        wd:Q7189713\n",
    "        wd:Q1322005\n",
    "        wd:Q315\n",
    "      } #\n",
    "      ?item p:P31/ps:P31/wdt:P279* ?category. # Item is of type or subtype an item in the above list of categories\n",
    "      ?article schema:about ?item ; \n",
    "               schema:isPartOf <https://{%s}.wikipedia.org/>. # Exist in ${language}\n",
    "      FILTER (?lemma IN ({%s})).\n",
    "      SERVICE wikibase:label { bd:serviceParam wikibase:language \"en\". }\n",
    "    }"
   ]
  },
  {
   "cell_type": "raw",
   "metadata": {},
   "source": [
    "# https://stackoverflow.com/questions/13650840/use-another-sparql-inside-sparql-in-clause\n",
    "# https://github.com/santhoshtr/wikivue/blob/master/src/wiki/api/wikidata.js\n",
    "\n",
    "import requests\n",
    "import pandas as pd\n",
    "from collections import OrderedDict\n",
    "from ratelimit import limits, sleep_and_retry\n",
    "        \n",
    "\n",
    "ONE_MINUTE = 60\n",
    "@sleep_and_retry\n",
    "@limits(calls=15, period=ONE_MINUTE)\n",
    "def call_api():\n",
    "    \n",
    "    url = 'https://query.wikidata.org/sparql'\n",
    "    headers = {'Content-Type': 'application/sparql-query', \n",
    "               'User-Agent': 'Partnerships GLOW project Data Analyst'}\n",
    "    query = \"\"\"\n",
    "            SELECT DISTINCT ?item ?lemma ?instance_of \n",
    "            WHERE {\n",
    "              ?item wdt:P31 ?instance_of.    \n",
    "              ?sitelink schema:about ?item;\n",
    "               schema:isPartOf <https://en.wikipedia.org/>;\n",
    "               schema:name ?lemma.\n",
    "               FILTER (?lemma IN (  \"Sam Walton\"@en, \"Nutcracker\"@en ) ).\n",
    "               SERVICE wikibase:label { bd:serviceParam wikibase:language \"en\". }\n",
    "            }   \n",
    "            \"\"\"\n",
    "    r = requests.post(url, headers=headers, data=query)\n",
    "    if r.status_code != 200:\n",
    "        raise Exception('API response: {}'.format(r.status_code))\n",
    "    return r\n",
    "\n",
    "call_api()\n",
    "\n",
    "data = r.json()\n",
    "\n",
    "gwd = []\n",
    "for item in data['results']['bindings']:\n",
    "    gwd.append(OrderedDict({\n",
    "        'page_title': item['lemma']['value'],\n",
    "        'q_id': item['item']['value'],\n",
    "        'instance_of': item['instance_of']['value'],\n",
    "        }))\n",
    "\n",
    "q_df = pd.DataFrame(gwd)\n",
    "q_df.set_index('page_title', inplace=True)\n",
    "q_df = q_df.rename(columns={'q_id':'q_url', 'instance_of':'P31_url'})\n",
    "#q_df['qid'] = q_df['q_id_url'].str.extract('([Q]\\d+|1)', expand=True)# includes the Q at the start\n",
    "q_df['qid'] = q_df['q_url'].str.extract('([0-9]+(?=[^Q]*$))', expand=True) # excludes the Q at the start\n",
    "q_df['P31'] = q_df['P31_url'].str.extract('([Q]\\d+|1)', expand=True)"
   ]
  },
  {
   "cell_type": "raw",
   "metadata": {},
   "source": [
    "#P31 processing\n",
    "# see: https://github.com/santhoshtr/wikivue/blob/master/src/wiki/topics.json\n",
    "\n",
    "lang_top_topics = [\n",
    "    {\n",
    "        \"wd\": \"Q735\",\n",
    "        \"name\": \"Arts\",\n",
    "        \"image\": \"https://commons.wikimedia.org/wiki/Special:FilePath/Sebastiano_Ricci_002.jpg\"\n",
    "    },\n",
    "    {\n",
    "        \"wd\": \"Q2095\",\n",
    "        \"name\": \"Food\",\n",
    "        \"image\": \"https://commons.wikimedia.org/wiki/Special:FilePath/Good_Food_Display_-_NCI_Visuals_Online.jpg\"\n",
    "    },\n",
    "    {\n",
    "        \"wd\": \"Q309\",\n",
    "        \"name\": \"History\",\n",
    "        \"image\": \"https://commons.wikimedia.org/wiki/Special:FilePath/Ancientlibraryalex.jpg\"\n",
    "    },\n",
    "    {\n",
    "        \"wd\": \"Q178561\",\n",
    "        \"name\": \"Battles\",\n",
    "        \"image\": \"https://commons.wikimedia.org/wiki/Special:FilePath/Battle_of_Gibraltar_1607.jpg\"\n",
    "    },\n",
    "    {\n",
    "        \"wd\": \"Q31629\",\n",
    "        \"name\": \"Sports\",\n",
    "        \"image\":\"https://commons.wikimedia.org/wiki/Special:FilePath/Youth-soccer-indiana.jpg\"\n",
    "    },\n",
    "    {\n",
    "        \"wd\": \"Q1071\",\n",
    "        \"name\": \"Geography\",\n",
    "        \"image\": \"https://commons.wikimedia.org/wiki/Special:FilePath/OrteliusWorldMap.jpeg\"\n",
    "    },\n",
    "    {\n",
    "        \"wd\": \"Q192864\",\n",
    "        \"name\": \"Science\",\n",
    "        \"image\": \"https://commons.wikimedia.org/wiki/Special:FilePath/CMS_Higgs-event.jpg\"\n",
    "    },\n",
    "    {\n",
    "        \"wd\": \"Q395\",\n",
    "        \"name\": \"Maths\",\n",
    "        \"image\": \"https://commons.wikimedia.org/wiki/Special:FilePath/CMAP_-_Centre_de_Math%C3%A9matiques_Appliqu%C3%A9es_de_l%27Ecole_polytechnique_%2825911635211%29.jpg\"\n",
    "    },\n",
    "    {\n",
    "        \"wd\": \"Q11016\",\n",
    "        \"name\": \"Tech\",\n",
    "        \"image\": \"https://commons.wikimedia.org/wiki/Special:FilePath/Technologie.jpg\"\n",
    "    },\n",
    "    {\n",
    "        \"wd\":\"Q7189713\",\n",
    "        \"name\": \"Health\",\n",
    "        \"image\": \"http://commons.wikimedia.org/wiki/Special:FilePath/Heart_anterior_exterior_view.jpg\"\n",
    "    },\n",
    "    {\n",
    "        \"wd\":\"Q1322005\",\n",
    "        \"name\": \"Nature\",\n",
    "        \"image\": \"http://commons.wikimedia.org/wiki/Special:FilePath/Desert_Electric.jpg\"\n",
    "    },\n",
    "    {\n",
    "        \"wd\":\"Q315\",\n",
    "        \"name\": \"Language\",\n",
    "        \"image\": \"http://commons.wikimedia.org/wiki/Special:FilePath/File:Pieter_Bruegel_the_Elder_-_The_Tower_of_Babel_(Vienna)_-_Google_Art_Project_-_edited.jpg\"\n",
    "    }\n",
    "]"
   ]
  },
  {
   "cell_type": "raw",
   "metadata": {},
   "source": [
    "for d in lang_top_topics:\n",
    "    print(d['wd'])"
   ]
  },
  {
   "cell_type": "raw",
   "metadata": {},
   "source": [
    "#q_df['qid'] = q_df['q_id_url'].str.extract('([Q]\\d+|1)', expand=True)# includes the Q at the start\n",
    "q_df['qid'] = q_df['q_url'].str.extract('([0-9]+(?=[^Q]*$))', expand=True) # excludes the Q at the start\n",
    "q_df['P31'] = q_df['P31_url'].str.extract('([Q]\\d+|1)', expand=True)"
   ]
  },
  {
   "cell_type": "code",
   "execution_count": null,
   "metadata": {},
   "outputs": [],
   "source": []
  },
  {
   "cell_type": "raw",
   "metadata": {},
   "source": []
  }
 ],
 "metadata": {
  "kernelspec": {
   "display_name": "Python 3",
   "language": "python",
   "name": "python3"
  },
  "language_info": {
   "codemirror_mode": {
    "name": "ipython",
    "version": 3
   },
   "file_extension": ".py",
   "mimetype": "text/x-python",
   "name": "python",
   "nbconvert_exporter": "python",
   "pygments_lexer": "ipython3",
   "version": "3.7.8"
  }
 },
 "nbformat": 4,
 "nbformat_minor": 4
}
