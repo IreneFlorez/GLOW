{
 "cells": [
  {
   "cell_type": "markdown",
   "metadata": {},
   "source": [
    "# GLOW - Setup: Collect Baselines - Contest"
   ]
  },
  {
   "cell_type": "markdown",
   "metadata": {},
   "source": [
    "## Table of Contents  <a class=\"anchor\" id=\"toc\"></a>\n",
    "\n",
    "* [GLOW Wiki Baselines](#top)\n",
    "\n",
    "    1. [Editors](#editors)\n",
    "        1. [Editors](#editors_monthly)\n",
    "        2. [Monthly Active Editors](#editors_active)\n",
    "        3. [Monthly New Editors](#editors_new)\n",
    "        4. [New editor retention](#new_editor_retention)\n",
    "    2. [Articles](#articles)\n",
    "        1. [Articles Count by wiki](#articles_count) \n",
    "        2. [New Articles](#new_articles)\n",
    "        3. [Edits to existing articles](#article_edits)\n",
    "        4. [New articles: by date/exp/survival](#new_articles_filtered)\n",
    "    3. [Readers](#readers)\n",
    "        1. [Pageviews](#pageviews_detailed)\n",
    "    4. [Geo](#stage1b)\n",
    "        1. [Monthly Unique Devices](#editors_activity_countries)\n",
    "        2. [Edits geolocated](#editors_activity_countries)\n",
    "        3. [Editors geolocated](#editors_activity_countries)\n",
    "        4. [Pageviews across countries & wikis](#pageviews)"
   ]
  },
  {
   "cell_type": "raw",
   "metadata": {},
   "source": [
    "select count(*) \n",
    "from wmf.mediawiki_history mh \n",
    "left join florez.glow_tiger_articles gta \n",
    "   on gta.page_id = mh.page_id  \n",
    "      AND mh.wiki_db = gta.database_code\n",
    "where mh.snapshot = '2020-03' \n",
    "   AND mh.event_timestamp >= '2019-10-10' \n",
    "   AND mh.event_timestamp < '2019-12-10'  \n",
    "   AND event_entity = \"revision\" \n",
    "   AND event_type = \"create\" \n",
    "group by wiki_db\n",
    "LIMIT 5"
   ]
  },
  {
   "cell_type": "markdown",
   "metadata": {},
   "source": [
    "## Devices <a class=\"anchor\" id=\"article_detail\"></a>\n",
    "[Back to Table of Contents](#toc)"
   ]
  },
  {
   "cell_type": "markdown",
   "metadata": {},
   "source": [
    "#### Monthly Unique Devices <a class=\"anchor\" id=\"devices\"></a>\n",
    "[Back to Table of Contents](#toc)"
   ]
  },
  {
   "cell_type": "code",
   "execution_count": 4,
   "metadata": {},
   "outputs": [],
   "source": [
    "mca_uds_contest_r = '''\n",
    "SELECT\n",
    "    regexp_replace(\n",
    "        regexp_replace(\n",
    "            regexp_replace(domain, \"zero\\\\\\\\.\", \"\"),\n",
    "        '^m\\\\\\\\.', ''),\n",
    "    '\\\\\\\\.m\\\\\\\\.', '.') AS domain_name,\n",
    "  SUM(uniques_estimate) / 5 AS monthly_unique_devices\n",
    "FROM wmf.unique_devices_per_domain_monthly\n",
    "WHERE \n",
    "    CONCAT(year,LPAD(month,2,'0')) >= ({contest_start_dt_pv})\n",
    "    AND CONCAT(year,LPAD(month,2,'0')) < ({contest_end_dt_next_m_pv})\n",
    "    AND country_code IN ('IN')\n",
    "    AND domain IN ({india_domains})\n",
    "GROUP BY    \n",
    "    regexp_replace(\n",
    "        regexp_replace(\n",
    "            regexp_replace(domain, \"zero\\\\\\\\.\", \"\"),\n",
    "        '^m\\\\\\\\.', ''),\n",
    "    '\\\\\\\\.m\\\\\\\\.', '.')\n",
    "''' "
   ]
  },
  {
   "cell_type": "markdown",
   "metadata": {},
   "source": [
    "## Editors<a class=\"anchor\" id=\"editors\"></a>\n",
    "[Back to Table of Contents](#toc)"
   ]
  },
  {
   "cell_type": "code",
   "execution_count": null,
   "metadata": {},
   "outputs": [],
   "source": [
    "#https://hue.wikimedia.org/hue/metastore/table/cchen/editor_month"
   ]
  },
  {
   "cell_type": "markdown",
   "metadata": {},
   "source": [
    "#### Monthly editors & monthly new <a class=\"anchor\" id=\"editors_monthly\"></a>\n",
    "[Back to Table of Contents](#toc)"
   ]
  },
  {
   "cell_type": "code",
   "execution_count": 1,
   "metadata": {},
   "outputs": [],
   "source": [
    "#adapted from:\n",
    "#https://github.com/wikimedia-research/wiki-segmentation\n",
    "#https://github.com/wikimedia-research/Editing-movement-metrics\n",
    "\n",
    "mce_contest_r = '''\n",
    "SELECT\n",
    "    em.wiki AS database_code,\n",
    "    COUNT(*) / 5 AS monthly_editors,\n",
    "    sum(CAST(TRUNC(em.user_registration, 'MM') = TRUNC(month, 'MM') AS INT))/ 5 AS monthly_new_editors\n",
    "FROM florez.glow_tiger_participants gtp  \n",
    "LEFT JOIN cchen.editor_month em\n",
    "    ON gtp.user_name = em.user_name \n",
    "WHERE\n",
    "    em.month >= \"{contest_start_dt}\"\n",
    "    AND em.month < \"{contest_end_dt_next_m}\"\n",
    "    AND em.wiki IN ({india_wiki_dbs}) \n",
    "    AND em.user_id != 0 \n",
    "    AND em.bot_by_group = FALSE\n",
    "    AND (em.user_name not regexp \"bot\\\\b\" or em.user_name in (\"Paucabot\", \"Niabot\", \"Marbot\"))\n",
    "GROUP BY em.wiki\n",
    "'''"
   ]
  },
  {
   "cell_type": "markdown",
   "metadata": {},
   "source": [
    "#### Monthly New Active Editors & monthly active editors <a class=\"anchor\" id=\"editors_active\"></a>\n",
    "[Back to Table of Contents](#toc)"
   ]
  },
  {
   "cell_type": "code",
   "execution_count": 2,
   "metadata": {},
   "outputs": [],
   "source": [
    "#monthly active editors\n",
    "#adapted from:\n",
    "#https://github.com/wikimedia-research/wiki-segmentation\n",
    "#https://github.com/wikimedia-research/Editing-movement-metrics\n",
    "\n",
    "mnae_contest_r = '''\n",
    "SELECT\n",
    "    em.wiki AS database_code,\n",
    "    COUNT(*) / 5 AS monthly_active_editors,\n",
    "    SUM(\n",
    "        CAST(TRUNC(em.user_registration, 'MM') = TRUNC(month, 'MM') AS INT)\n",
    "        )/ 5 AS monthly_new_active_editors\n",
    "FROM florez.glow_tiger_participants gtp  \n",
    "LEFT JOIN cchen.editor_month em\n",
    "    ON gtp.user_name = em.user_name \n",
    "WHERE\n",
    "    content_edits >= 5 \n",
    "    AND em.month >= \"{contest_start_dt}\"\n",
    "    AND em.month < \"{contest_end_dt_next_m}\"\n",
    "    AND em.wiki IN ({india_wiki_dbs}) \n",
    "    AND em.user_id != 0 \n",
    "    AND em.bot_by_group = FALSE\n",
    "    AND (em.user_name not regexp \"bot\\\\b\" or em.user_name in (\"Paucabot\", \"Niabot\", \"Marbot\"))  \n",
    "GROUP BY em.wiki\n",
    "'''"
   ]
  },
  {
   "cell_type": "markdown",
   "metadata": {},
   "source": [
    "#### Monthly Editors - including group of big wikis <a class=\"anchor\" id=\"editors_active\"></a>\n",
    "[Back to Table of Contents](#toc)"
   ]
  },
  {
   "cell_type": "code",
   "execution_count": 3,
   "metadata": {},
   "outputs": [],
   "source": [
    "mae_contest_r = '''\n",
    "SELECT\n",
    "    em.wiki AS database_code,\n",
    "    COUNT(*) / 5 AS indic_editors_on_big_wikis_m\n",
    "FROM florez.glow_tiger_participants gtp  \n",
    "LEFT JOIN cchen.editor_month em\n",
    "    ON gtp.user_name = em.user_name \n",
    "WHERE\n",
    "    em.month >= \"{contest_start_dt}\"\n",
    "    AND em.month < \"{contest_end_dt_next_m}\"\n",
    "    AND em.wiki IN {wikis_big} \n",
    "    AND em.user_id != 0 \n",
    "    AND em.bot_by_group = FALSE\n",
    "    AND (em.user_name not regexp \"bot\\\\b\" or em.user_name in (\"Paucabot\", \"Niabot\", \"Marbot\"))  \n",
    "GROUP BY em.wiki\n",
    "'''"
   ]
  },
  {
   "cell_type": "markdown",
   "metadata": {},
   "source": [
    "#### Monthly New Editors <a class=\"anchor\" id=\"editors_new\"></a>\n",
    "[Back to Table of Contents](#toc)"
   ]
  },
  {
   "cell_type": "raw",
   "metadata": {
    "jupyter": {
     "source_hidden": true
    }
   },
   "source": [
    "#monthly new editors\n",
    "\n",
    "#adapted from:\n",
    "#https://github.com/wikimedia-research/wiki-segmentation\n",
    "\n",
    "mne_contest_r = '''\n",
    "select\n",
    "    wiki AS database_code,\n",
    "    sum(CAST(TRUNC(user_registration, 'MM') = TRUNC(month, 'MM') AS INT))/ 12 AS monthly_new_editors\n",
    "from neilpquinn.editor_month\n",
    "where\n",
    "    month >= \"{contest_start_dt_12m_pre_FULL}\"\n",
    "    AND month < \"{TODAY_DATE_FULL}\" \n",
    "    AND wiki IN ({india_wiki_dbs})\n",
    "    AND user_id != 0\n",
    "    AND (user_name not regexp \"bot\\\\b\" or user_name in (\"Paucabot\", \"Niabot\", \"Marbot\"))\n",
    "group by wiki\n",
    "'''"
   ]
  },
  {
   "cell_type": "markdown",
   "metadata": {},
   "source": [
    "#### New editor retention <a class=\"anchor\" id=\"new_editor_retention\"></a>\n",
    "[Back to Table of Contents](#toc)"
   ]
  },
  {
   "cell_type": "raw",
   "metadata": {
    "jupyter": {
     "source_hidden": true
    }
   },
   "source": [
    "#adapted from:\n",
    "#https://github.com/wikimedia-research/wiki-segmentation\n",
    "#https://github.com/wikimedia-research/Editing-movement-metrics\n",
    "\n",
    "ner_contest_r = '''\n",
    "select \n",
    "    wiki AS database_code,\n",
    "    sum(cast(2nd_month_edits >= 1 as int)) / sum(cast(1st_month_edits >= 1 as int)) AS new_editor_retention\n",
    "from neilpquinn.new_editors\n",
    "where \n",
    "    cohort >= \"{contest_start_dt_12m_pre}\"\n",
    "    AND cohort < \"{TODAY_DATE}\"\n",
    "    AND wiki IN ({india_wiki_dbs})\n",
    "group by wiki\n",
    "limit 1000\n",
    "'''"
   ]
  },
  {
   "cell_type": "raw",
   "metadata": {
    "jupyter": {
     "source_hidden": true
    }
   },
   "source": [
    "with open(\"queries/new_editor_retention.hql\") as f:\n",
    "    q = f.read()\n",
    "\n",
    "ner = wmf.hive.run(\n",
    "    q.format(start = \"{contest_start_dt_12m_pre}\", end = \"{TODAY_DATE}\").format(**query_vars))\n",
    "\n",
    "##ner = x where x in IN ({india_wiki_dbs})"
   ]
  },
  {
   "cell_type": "markdown",
   "metadata": {},
   "source": [
    "### Language Switching <a class=\"anchor\" id=\"language_switching\"></a>\n",
    "[Back to Table of Contents](#toc)"
   ]
  },
  {
   "cell_type": "raw",
   "metadata": {
    "jupyter": {
     "source_hidden": true
    }
   },
   "source": [
    "#https://github.com/geohci/language-switching\n",
    "language_switching = hive.run(\"\"\"\n",
    "SELECT reflect('org.apache.commons.codec.digest.DigestUtils', 'sha512Hex', CONCAT(user_agent, client_ip, \"{SALT}\")) AS user,\n",
    "       concat(translate(normalized_host.project, '-', '_'), 'wiki') AS project,\n",
    "       COALESCE(pageview_info[\"page_title\"], \"EDITATTEMPT\") as page_title,\n",
    "       page_id AS page_id,\n",
    "       dt,\n",
    "       geocoded_data['country'] AS country\n",
    "  FROM wmf.webrequest \n",
    " WHERE normalized_host.project_family = \"wikipedia\"\n",
    "       AND ((is_pageview AND namespace_id = 0)\n",
    "            OR (uri_query LIKE '%action=edit%' OR uri_query LIKE '%action=visualeditor%'\n",
    "                OR uri_query LIKE '%&intestactions=edit&intestactionsdetail=full&uiprop=options%'))\n",
    "       AND agent_type = \"user\" \n",
    "       AND year = {YEAR} AND month = {MONTH} AND day = {DAY}\n",
    "       AND SUBSTR(ip, -1, 1) = {# FROM 0-9}\n",
    "\"\"\".format(**query_vars))\n",
    "           "
   ]
  },
  {
   "cell_type": "markdown",
   "metadata": {},
   "source": [
    "## Readers<a class=\"anchor\" id=\"readers\"></a>\n",
    "[Back to Table of Contents](#toc)"
   ]
  },
  {
   "cell_type": "markdown",
   "metadata": {},
   "source": [
    "#### PageViews by referer_class and access_method <a class=\"anchor\" id=\"pageviews_detailed\"></a>\n",
    "[Back to Table of Contents](#toc)"
   ]
  },
  {
   "cell_type": "code",
   "execution_count": null,
   "metadata": {},
   "outputs": [],
   "source": [
    "#https://hue.wikimedia.org/hue/metastore/table/florez/glow_tiger_articles"
   ]
  },
  {
   "cell_type": "code",
   "execution_count": null,
   "metadata": {},
   "outputs": [],
   "source": [
    "pv_rc_contest_r = '''\n",
    "SELECT \n",
    "  country_code,\n",
    "  project,\n",
    "  SUM(view_count) as view_count,\n",
    "  referer_class,\n",
    "  CONCAT(year,LPAD(month,2,'0'),LPAD(day,2,'0')) AS view_date\n",
    "FROM wmf.pageview_hourly\n",
    "WHERE\n",
    "  CONCAT(year,LPAD(month,2,'0')) >= {contest_start_dt_pv}\n",
    "  AND CONCAT(year,LPAD(month,2,'0')) < {contest_end_dt_next_m_pv}\n",
    "  AND agent_type='user'\n",
    "  AND country_code = 'IN'\n",
    "  AND project IN ({india_wiki_projects})\n",
    "GROUP BY \n",
    "  country_code, project, referer_class, year, month, day\n",
    "'''"
   ]
  },
  {
   "cell_type": "code",
   "execution_count": null,
   "metadata": {},
   "outputs": [],
   "source": [
    "pv_all_contest_r = '''\n",
    "SELECT \n",
    "  country_code,\n",
    "  project,\n",
    "  SUM(view_count) as view_count,\n",
    "  referer_class,\n",
    "  CONCAT(year,LPAD(month,2,'0'),LPAD(day,2,'0')) AS view_date\n",
    "FROM wmf.pageview_hourly\n",
    "WHERE\n",
    "  CONCAT(year,LPAD(month,2,'0')) >= {contest_start_dt_pv}\n",
    "  AND CONCAT(year,LPAD(month,2,'0')) < {contest_end_dt_next_m_pv}\n",
    "  AND agent_type='user'\n",
    "  AND project IN ({india_wiki_projects})\n",
    "GROUP BY \n",
    "  country_code, project, referer_class, year, month, day\n",
    "'''"
   ]
  },
  {
   "cell_type": "raw",
   "metadata": {},
   "source": [
    "#same as above but broken down by month, instead of just giving a sum\n",
    "\n",
    "\n",
    "pv_rc_contest_r = '''\n",
    "SELECT \n",
    "  country_code,\n",
    "  project,\n",
    "  SUM(view_count)/12 as view_count,\n",
    "  referer_class,\n",
    "FROM wmf.pageview_hourly\n",
    "WHERE\n",
    "  CONCAT(year,LPAD(month,2,'0')) >= {contest_start_dt_12m_pre_pv}\n",
    "  AND CONCAT(year,LPAD(month,2,'0')) < {contest_end_dt_next_m_pv}\n",
    "  AND agent_type='user'\n",
    "  AND country_code = {india_country_codes}\n",
    "  AND project IN ({india_wiki_projects})\n",
    "GROUP BY \n",
    "  country_code, project, referer_class, year, month\n",
    "'''"
   ]
  },
  {
   "cell_type": "raw",
   "metadata": {},
   "source": [
    "#https://github.com/wikimedia-research/Readers-core-metrics/blob/master/01_interactions_metrics.ipynb\n",
    "#https://wikitech.wikimedia.org/wiki/Analytics/Data_Lake/Traffic/Pageview_hourly\n",
    "pv_am_contest_r = hive.run(\"\"\"\n",
    "SELECT \n",
    "  country_code,\n",
    "  project,\n",
    "  SUM(IF(access_method = 'mobile app', view_count, null)) AS apps,\n",
    "  SUM(IF(access_method = 'desktop', view_count, null)) AS desktop,\n",
    "  SUM(IF(access_method = 'mobile web', view_count, null)) AS mobileweb,\n",
    "  SUM(view_count) as total,\n",
    "  year, month\n",
    "FROM wmf.pageview_hourly\n",
    "WHERE\n",
    "  CONCAT(year,LPAD(month,2,'0')) >= {TODAY_DATE_pv}\n",
    "  AND CONCAT(year,LPAD(month,2,'0')) < {M2_START_DATE_pv}\n",
    "  AND agent_type='user'\n",
    "  AND country_code = {india_country_codes}\n",
    "  AND project IN ({india_wiki_projects})\n",
    "GROUP BY \n",
    "  country_code, project, year, month\n",
    "\"\"\".format(**query_vars))\n",
    "\n",
    "pv_am = pv_am_contest_r.copy()\n",
    "pv_am"
   ]
  },
  {
   "cell_type": "raw",
   "metadata": {},
   "source": [
    "#https://github.com/wikimedia-research/Readers-core-metrics/blob/master/01_interactions_metrics.ipynb\n",
    "#https://wikitech.wikimedia.org/wiki/Analytics/Data_Lake/Traffic/Pageview_hourly\n",
    "pv_am_detail_contest_r = hive.run(\"\"\"\n",
    "SELECT \n",
    "  country_code,\n",
    "  project,\n",
    "  page_id,\n",
    "  referer_class,\n",
    "  access_method,\n",
    "  SUM(view_count) as am_total,\n",
    "  SUM(IF(access_method = 'mobile app', view_count, null)) AS apps,\n",
    "  SUM(IF(access_method = 'desktop', view_count, null)) AS desktop,\n",
    "  SUM(IF(access_method = 'mobile web', view_count, null)) AS mobileweb,\n",
    "  year, month\n",
    "FROM wmf.pageview_hourly\n",
    "  WHERE\n",
    "  CONCAT(year,LPAD(month,2,'0')) >= {TODAY_DATE_pv}\n",
    "  AND CONCAT(year,LPAD(month,2,'0')) < {M2_START_DATE_pv}\n",
    "  AND agent_type='user'\n",
    "  AND country_code = {india_country_codes}\n",
    "  AND page_id != 0\n",
    "  AND project IN ({india_wiki_projects})\n",
    "GROUP BY \n",
    "  country_code, project, page_id, referer_class, access_method, year, month\n",
    "\"\"\".format(**query_vars))\n",
    "\n",
    "pv_am_detail = pv_am_detail_contest_r.copy()\n",
    "pv_am_detail.head()"
   ]
  },
  {
   "cell_type": "markdown",
   "metadata": {},
   "source": [
    "## Articles<a class=\"anchor\" id=\"editors\"></a>\n",
    "[Back to Table of Contents](#toc)"
   ]
  },
  {
   "cell_type": "markdown",
   "metadata": {},
   "source": [
    "#### New articles <a class=\"anchor\" id=\"new_articles\"></a>\n",
    "[Back to Table of Contents](#toc)"
   ]
  },
  {
   "cell_type": "code",
   "execution_count": 94,
   "metadata": {},
   "outputs": [],
   "source": [
    "#adapted from https://github.com/wikimedia-research/2018-19-Language-annual-plan-metrics/blob/master/Language-metrics.ipynb\n",
    "#https://wikitech.wikimedia.org/wiki/Analytics/Data_Lake/Edits/Mediawiki_history\n",
    "#revision\tcreate = Making an edit\n",
    "# 6 months ≈ 26 weeks = 252 days\n",
    "# period below starts 2019/07 \n",
    "\n",
    "# Making the first edit to a page\n",
    "\n",
    "m_new_article_counts_contest_r = ''' \n",
    "select\n",
    "    mh.wiki_db AS database_code,\n",
    "    count(*)/5 AS mon_new_articles\n",
    "from wmf.mediawiki_history mh\n",
    "left join event_sanitized.serversideaccountcreation ssac\n",
    "on\n",
    "    ssac.event.username = event_user_text and\n",
    "    ssac.year >= 0\n",
    "where\n",
    "    mh.snapshot = \"{MWH_SNAPSHOT}\"\n",
    "    AND mh.event_timestamp >= \"{contest_start_dt_FULL}\"\n",
    "    AND mh.event_timestamp < \"{contest_end_dt_FULL}\" \n",
    "    AND event_entity = \"revision\"\n",
    "    AND event_type = \"create\"\n",
    "    AND mh.wiki_db in ({india_wiki_dbs})\n",
    "GROUP BY wiki_db\n",
    "''' "
   ]
  },
  {
   "cell_type": "markdown",
   "metadata": {},
   "source": [
    "#### avg_num_new_articles_edited <a class=\"anchor\" id=\"new_articles\"></a>\n",
    "[Back to Table of Contents](#toc)"
   ]
  },
  {
   "cell_type": "code",
   "execution_count": null,
   "metadata": {},
   "outputs": [],
   "source": [
    "#adapted from https://github.com/wikimedia-research/2018-19-Language-annual-plan-metrics/blob/master/Language-metrics.ipynb\n",
    "#https://wikitech.wikimedia.org/wiki/Analytics/Data_Lake/Edits/Mediawiki_history\n",
    "#page\tcreate = Making the first edit to a page\n",
    "\n",
    "#6 months ≈ 26 weeks = 252 days\n",
    "\n",
    "#Making the first edit to a page\n",
    "m_new_articles_edited_contest_r = ''' \n",
    "SELECT\n",
    "    wiki_db database_code,\n",
    "    count(*)/5 AS mon_new_articles_edited\n",
    "FROM wmf.mediawiki_history mh\n",
    "WHERE\n",
    "    mh.snapshot = \"{MWH_SNAPSHOT}\" \n",
    "    AND mh.event_timestamp >= \"{contest_start_dt_FULL}\"\n",
    "    AND mh.event_timestamp < \"{contest_end_dt_FULL}\" \n",
    "    AND event_entity = \"page\"\n",
    "    AND event_type = \"create\"\n",
    "    AND wiki_db in ({india_wiki_dbs})\n",
    "GROUP BY wiki_db\n",
    "''' \n",
    "\n",
    "#AND ssac.webhost LIKE '%wikipedia.org'"
   ]
  },
  {
   "cell_type": "markdown",
   "metadata": {},
   "source": [
    "#### Existing articles, recently edited <a class=\"anchor\" id=\"article_edits\"></a>\n",
    "[Back to Table of Contents](#toc)"
   ]
  },
  {
   "cell_type": "code",
   "execution_count": null,
   "metadata": {},
   "outputs": [],
   "source": [
    "#adapted from https://github.com/wikimedia-research/2018-19-Language-annual-plan-metrics/blob/master/Language-metrics.ipynb\n",
    "#https://wikitech.wikimedia.org/wiki/Analytics/Data_Lake/Edits/Mediawiki_history\n",
    "#6 months ≈ 26 weeks = 252 days\n",
    "#period below starts 2019/07 \n",
    "\n",
    "eae_contest_r = ''' \n",
    "select\n",
    "    wiki_db database_code,\n",
    "    count(*)/5 as avg_n_existing_articles_edited\n",
    "from wmf.mediawiki_history mh\n",
    "where\n",
    "    mh.snapshot = \"{MWH_SNAPSHOT}\"  \n",
    "    AND mh.event_timestamp >= \"{contest_start_dt_FULL}\"\n",
    "    AND mh.event_timestamp < \"{contest_end_dt_FULL}\" \n",
    "    AND event_entity = \"revision\"\n",
    "    AND event_type = \"create\" \n",
    "    AND wiki_db in ({india_wiki_dbs})\n",
    "GROUP BY wiki_db\n",
    "''' "
   ]
  },
  {
   "cell_type": "markdown",
   "metadata": {},
   "source": [
    "#### Daily revisions by wiki <a class=\"anchor\" id=\"daily_wiki_revisions\"></a>\n",
    "[Back to Table of Contents](#toc)"
   ]
  },
  {
   "cell_type": "code",
   "execution_count": null,
   "metadata": {},
   "outputs": [],
   "source": [
    "##Daily revisions by wiki\n",
    "\n",
    "#`dr` stands for \"daily revisions\"\n",
    "dra_contest_r = ''' \n",
    "    select\n",
    "        wiki_db AS database_code,\n",
    "        sum(if(metric = \"daily_edits\", value, 0)) - sum(if(metric = \"daily_edits_by_bot_users\", value, 0))/12 as nonbot_revs\n",
    "    from wmf.mediawiki_metrics\n",
    "    where\n",
    "        snapshot = \"{MWH_SNAPSHOT}\" \n",
    "        AND dt >=\"{contest_start_dt_FULL}\"\n",
    "        AND dt <\"{contest_end_dt_FULL}\"\n",
    "        AND metric in (\"daily_edits\", \"daily_edits_by_bot_users\")\n",
    "        AND wiki_db IN ({india_wiki_dbs})\n",
    "    group by wiki_db\n",
    "''' "
   ]
  }
 ],
 "metadata": {
  "kernelspec": {
   "display_name": "Python 3",
   "language": "python",
   "name": "python3"
  },
  "language_info": {
   "codemirror_mode": {
    "name": "ipython",
    "version": 3
   },
   "file_extension": ".py",
   "mimetype": "text/x-python",
   "name": "python",
   "nbconvert_exporter": "python",
   "pygments_lexer": "ipython3",
   "version": "3.5.3"
  }
 },
 "nbformat": 4,
 "nbformat_minor": 4
}
