{
 "cells": [
  {
   "cell_type": "raw",
   "metadata": {},
   "source": [
    "#TODO Incentive type > categorical (can do ordering with pandas)..but Hive may not allow for categorical. parquet maybe\n",
    "\n",
    "1. Get list of articles from WAM and WLW and filter those out from the GLOW data. \n",
    "2. Get list of last years editors\n",
    "3. get list of jury? >> seperate table - jury "
   ]
  },
  {
   "cell_type": "code",
   "execution_count": 8,
   "metadata": {},
   "outputs": [],
   "source": [
    "wi = {\n",
    "    'PA': {'title' : 'ਮੁੱਖ_ਸਫ਼ਾ', 'namespace': 0},\n",
    "    'ML': {'title' :'പ്രധാന_താൾ', 'namespace': 0},\n",
    "    'BN': {'title' : 'প্রধান_পাতা', 'namespace': 0},\n",
    "    'HI': {'title' : 'मुखपृष्ठ', 'namespace': 0},\n",
    "    'PNB': {'title' : 'پہلا_صفہ', 'namespace': 0},\n",
    "    'TA': {'title' : 'முதற்_பக்கம்', 'namespace': 0},\n",
    "    'TE': {'title' : 'మొదటి_పేజీ', 'namespace': 0}, \n",
    "    'AS': {'title' : 'বেটুপাত', 'namespace': 0},\n",
    "    'SA': {'title' : 'मुख्यपृष्ठम्', 'namespace': 0},\n",
    "    'KN': {'title' : 'ಮುಖ್ಯ_ಪುಟ', 'namespace': 0},\n",
    "    'TCY': {'title' : 'ಮುಖ್ಯ_ಪುಟ', 'namespace': 0},\n",
    "    'GU': {'title' : 'મુખપૃષ્ઠ', 'namespace': 0},\n",
    "    'BN': {'title' : 'প্রধান_পাতা', 'namespace': 0},\n",
    "    'MR': {'title' : 'मुखपृष्ठ', 'namespace': 0},\n",
    "    'SAT': {'title' : 'ᱢᱩᱬᱩᱛ_ᱥᱟᱦᱴᱟ', 'namespace': 0},\n",
    "    'UR': {'title' : 'صفحۂ_اول', 'namespace': 0}, \n",
    "    'OR': {'title' : 'ପ୍ରଧାନ_ପୃଷ୍ଠା', 'namespace': 0}   \n",
    "}"
   ]
  },
  {
   "cell_type": "code",
   "execution_count": null,
   "metadata": {},
   "outputs": [],
   "source": [
    "wi = {\n",
    "        {'Punjabi': 'PA', mainpage = {'mainpage_title' : 'ਮੁੱਖ_ਸਫ਼ਾ', 'mainpage_namespace': 0}},\n",
    "        {'PNB' \n",
    "        mainpage = {'mainpage_title' : 'پہلا_صفہ', 'mainpage_namespace': 0}\n",
    "        \n",
    "        {'Malayalam': 'ML', mainpage = {'mainpage_title' :'പ്രധാന_താൾ', 'mainpage_namespace': 0}},\n",
    "        {'Bengali':  'BN', mainpage = {'mainpage_title' : 'প্রধান_পাতা', 'mainpage_namespace': 0}},\n",
    "        {'Hindi': 'HI', mainpage = {'mainpage_title' : 'मुखपृष्ठ', 'mainpage_namespace': 0}},\n",
    "        {'Tamil': 'TA', mainpage = {'mainpage_title' : 'முதற்_பக்கம்', 'mainpage_namespace': 0}},\n",
    "        {'Telugu': 'TE', mainpage = {'mainpage_title' : 'మొదటి_పేజీ', 'mainpage_namespace': 0}}, \n",
    "        {'Assamese': 'AS', mainpage = {'mainpage_title' : 'বেটুপাত', 'mainpage_namespace': 0}},\n",
    "        {'Sanskrit': 'SA', mainpage = {'mainpage_title' : 'मुख्यपृष्ठम्', 'mainpage_namespace': 0}},\n",
    "        {'Kannada': 'KN', mainpage = {'mainpage_title' : 'ಮುಖ್ಯ_ಪುಟ', 'mainpage_namespace': 0}},\n",
    "        {'Gujarati': 'GU', mainpage = {'mainpage_title' : 'મુખપૃષ્ઠ', 'mainpage_namespace': 0}},\n",
    "        {'Bengali': 'BN', mainpage = {'mainpage_title' : 'প্রধান_পাতা', 'mainpage_namespace': 0}},\n",
    "        {'Tulu': 'TCY', mainpage = {'mainpage_title' : 'ಮುಖ್ಯ_ಪುಟ', 'mainpage_namespace': 0}},\n",
    "        {'Marathi': 'MR', mainpage = {'mainpage_title' : 'मुखपृष्ठ', 'mainpage_namespace': 0}},\n",
    "        {'Santali': 'SAT', mainpage = {'mainpage_title' : 'ᱢᱩᱬᱩᱛ_ᱥᱟᱦᱴᱟ', 'mainpage_namespace': 0}},\n",
    "        {'Urdu': 'UR', mainpage = {'mainpage_title' : 'صفحۂ_اول', 'mainpage_namespace': 0}}, \n",
    "        {'Odia': 'OR', mainpage = {'mainpage_title' : 'ପ୍ରଧାନ_ପୃଷ୍ଠା', 'mainpage_namespace': 0}}   \n",
    "\n",
    "}"
   ]
  },
  {
   "cell_type": "code",
   "execution_count": null,
   "metadata": {},
   "outputs": [],
   "source": [
    "wi2 = {\n",
    "    'PA': {\n",
    "            'wikiname': 'Punjabi'\n",
    "            'mainpage_title' : 'ਮੁੱਖ_ਸਫ਼ਾ', \n",
    "            'mainpage_namespace': 0},\n",
    "    \n",
    "    'ML': {'wikiname': 'Malayalam'\n",
    "        'mainpage_title' :'പ്രധാന_താൾ', \n",
    "           'mainpage_namespace': 0},\n",
    "           \n",
    "    'BN': {'wikiname': 'Bengali'\n",
    "           'mainpage_title' : 'প্রধান_পাতা', \n",
    "           'mainpage_namespace': 0},\n",
    "           \n",
    "    'HI': {'wikiname': 'Hindi'\n",
    "           'mainpage_title' : 'मुखपृष्ठ', \n",
    "           'mainpage_namespace': 0},\n",
    "           \n",
    "    'PNB': {'wikiname': \n",
    "           'mainpage_title' : 'پہلا_صفہ', \n",
    "            'mainpage_namespace': 0},\n",
    "            \n",
    "    'TA': {'wikiname': 'Tamil'\n",
    "           'mainpage_title' : 'முதற்_பக்கம்', \n",
    "           'mainpage_namespace': 0},\n",
    "           \n",
    "    'TE': {'wikiname': 'Telugu'\n",
    "        'mainpage_title' : 'మొదటి_పేజీ', \n",
    "           'mainpage_namespace': 0}, \n",
    "           \n",
    "    'AS': {'wikiname': 'Assamese'\n",
    "           'mainpage_title' : 'বেটুপাত', \n",
    "           'mainpage_namespace': 0},\n",
    "           \n",
    "    'SA': {'wikiname': 'Sanskrit'\n",
    "           'mainpage_title' : 'मुख्यपृष्ठम्', \n",
    "           'mainpage_namespace': 0},\n",
    "           \n",
    "    'KN': {'wikiname': 'Kannada'\n",
    "           'mainpage_title' : 'ಮುಖ್ಯ_ಪುಟ', \n",
    "           'mainpage_namespace': 0},\n",
    "            \n",
    "    'GU': {'wikiname':  'Gujarati'\n",
    "           'mainpage_title' : 'મુખપૃષ્ઠ', \n",
    "           'mainpage_namespace': 0},\n",
    "           \n",
    "    'BN': {'wikiname': 'Bengali'\n",
    "           'mainpage_title' : 'প্রধান_পাতা', \n",
    "           'mainpage_namespace': 0},\n",
    "           \n",
    "    'TCY': {'wikiname': 'Tulu'\n",
    "           'mainpage_title' : 'ಮುಖ್ಯ_ಪುಟ', \n",
    "            'mainpage_namespace': 0},\n",
    "            \n",
    "    'MR': {'wikiname': 'Marathi'\n",
    "           'mainpage_title' : 'मुखपृष्ठ', \n",
    "           'mainpage_namespace': 0},\n",
    "           \n",
    "    'SAT': {'wikiname': 'Santali'\n",
    "           'mainpage_title' : 'ᱢᱩᱬᱩᱛ_ᱥᱟᱦᱴᱟ', \n",
    "            'mainpage_namespace': 0},\n",
    "            \n",
    "    'UR': {'wikiname': 'Urdu'\n",
    "           'mainpage_title' : 'صفحۂ_اول', \n",
    "           'mainpage_namespace': 0}, \n",
    "           \n",
    "    'OR': {'wikiname':'Odia'\n",
    "           'mainpage_title' : 'ପ୍ରଧାନ_ପୃଷ୍ଠା', \n",
    "           'mainpage_namespace': 0}   \n",
    "\n",
    "}"
   ]
  },
  {
   "cell_type": "code",
   "execution_count": 121,
   "metadata": {},
   "outputs": [],
   "source": [
    "#check for dupes\n",
    "z = len(idc)-idc.nunique()"
   ]
  },
  {
   "cell_type": "code",
   "execution_count": 122,
   "metadata": {},
   "outputs": [
    {
     "data": {
      "text/plain": [
       "article_name     288\n",
       "contest_code    8788\n",
       "dateAdded         13\n",
       "finish          8810\n",
       "start           8812\n",
       "user_name       8432\n",
       "wiki            8802\n",
       "dtype: int64"
      ]
     },
     "execution_count": 122,
     "metadata": {},
     "output_type": "execute_result"
    }
   ],
   "source": [
    "z"
   ]
  },
  {
   "cell_type": "code",
   "execution_count": 111,
   "metadata": {},
   "outputs": [
    {
     "data": {
      "text/plain": [
       "['article_name',\n",
       " 'contest_code',\n",
       " 'dateAdded',\n",
       " 'finish',\n",
       " 'jury',\n",
       " 'start',\n",
       " 'user_name',\n",
       " 'wiki']"
      ]
     },
     "execution_count": 111,
     "metadata": {},
     "output_type": "execute_result"
    }
   ],
   "source": [
    "idc_r.columns.to_list()"
   ]
  },
  {
   "cell_type": "code",
   "execution_count": null,
   "metadata": {},
   "outputs": [],
   "source": []
  },
  {
   "cell_type": "raw",
   "metadata": {},
   "source": [
    "try:\n",
    "                get_date = driver.find_element_by_xpath(date_xpath).text\n",
    "                get_wiki_name = driver.find_elements_by_xpath (wiki_xpath)\n",
    "                get_article_count = driver.find_elements_by_xpath (ac_xpath)\n",
    "            \n",
    "            \n",
    "                ac_dict['date'] = date = get_date\n",
    "                ac_dict['lang'] = \"\".join([element.text for element in get_wiki_name]) \n",
    "                ac_dict['count'] = \"\".join([element.text for element in get_article_count]) \n",
    "            \n",
    "            except Exception:\n",
    "                pass\n",
    "            \n",
    "           \n",
    "            #print(ac_dict)\n",
    "            t_ac.append(ac_dict.copy())"
   ]
  },
  {
   "cell_type": "raw",
   "metadata": {},
   "source": [
    "#prettify data\n",
    "lens = [len(item) for item in core['articles']]\n",
    "df = pd.DataFrame({\n",
    "    'wiki':np.repeat(core['wiki'].values, lens),\n",
    "    'code':np.repeat(core['code'].values, lens),\n",
    "    'finish':np.repeat(core['finish'].values, lens),\n",
    "    'start':np.repeat(core['start'].values, lens),\n",
    "    'jury':np.repeat(core['jury'].values, lens),\n",
    "    'articles':np.hstack(core['articles']),\n",
    "                      })\n",
    "df = pd.concat([df_out.drop(['articles'], axis=1), df_out['articles'].apply(pd.Series)],axis=1)\n",
    "df = df[['wiki', 'code', 'start', 'finish', 'jury', 'dateAdded', 'name', 'user']]\n",
    "df.columns = ['wiki', 'code', 'start', 'finish', 'jury', 'dateAdded', 'article_name', 'editor']"
   ]
  },
  {
   "cell_type": "code",
   "execution_count": null,
   "metadata": {},
   "outputs": [],
   "source": [
    "'BN': {'title' : 'প্রধান_পাতা', 'namespace': 0},\n",
    "'PNB': {'title' : 'پہلا_صفہ', 'namespace': 0},\n",
    "'AS': {'title' : 'বেটুপাত', 'namespace': 0},\n",
    "'SA': {'title' : 'मुख्यपृष्ठम्', 'namespace': 0},\n",
    "'TCY': {'title' : 'ಮುಖ್ಯ_ಪುಟ', 'namespace': 0},\n",
    "\n",
    "'GU': {'title' : 'મુખપૃષ્ઠ', 'namespace': 0},\n",
    "'BN': {'title' : 'প্রধান_পাতা', 'namespace': 0},\n",
    "\n",
    "\n",
    "'ML': {'title' :'പ്രധാന_താൾ', 'namespace': 0},\n",
    "'PA': {'title' : 'ਮੁੱਖ_ਸਫ਼ਾ', 'namespace': 0},\n",
    "'SAT': {'title' : 'ᱢᱩᱬᱩᱛ_ᱥᱟᱦᱴᱟ', 'namespace': 0},\n",
    "'UR': {'title' : 'صفحۂ_اول', 'namespace': 0}, \n",
    "'TA': {'title' : 'முதற்_பக்கம்', 'namespace': 0},\n",
    "'TE': {'title' : 'మొదటి_పేజీ', 'namespace': 0}, \n",
    "'OR': {'title' : 'ପ୍ରଧାନ_ପୃଷ୍ଠା', 'namespace': 0} \n",
    "'MR': {'title' : 'मुखपृष्ठ', 'namespace': 0},\n",
    "'KN': {'title' : 'ಮುಖ್ಯ_ಪುಟ', 'namespace': 0},\n",
    "'HI': {'title' : 'मुखपृष्ठ', 'namespace': 0},"
   ]
  },
  {
   "cell_type": "code",
   "execution_count": 60,
   "metadata": {},
   "outputs": [],
   "source": [
    "contests = {'wlw_2019':{'url_base': 'https://tools.wmflabs.org/fountain/editathons/wlwsa2020-{}','urls': []},\n",
    "            'ptp_2018':{'url_base': 'https://tools.wmflabs.org/fountain/api/editathons/project-tiger-2018-{}','urls':[]},\n",
    "            'wam_2019':{'url_base': 'https://tools.wmflabs.org/fountain/editathons/asian-month-2019-{}', 'urls':[] }}"
   ]
  },
  {
   "cell_type": "code",
   "execution_count": 69,
   "metadata": {},
   "outputs": [],
   "source": [
    "#https://stackoverflow.com/questions/9807634/find-all-occurrences-of-a-key-in-nested-dictionaries-and-lists\n",
    "def gen_dict_extract(key, var):\n",
    "    if hasattr(var,'items'):\n",
    "        for k, v in var.items():\n",
    "            if k == key:\n",
    "                yield v\n",
    "            if isinstance(v, dict):\n",
    "                for result in gen_dict_extract(key, v):\n",
    "                    yield result\n",
    "            elif isinstance(v, list):\n",
    "                for d in v:\n",
    "                    for result in gen_dict_extract(key, d):\n",
    "                        yield result"
   ]
  },
  {
   "cell_type": "code",
   "execution_count": 22,
   "metadata": {
    "collapsed": true,
    "jupyter": {
     "outputs_hidden": true
    }
   },
   "outputs": [
    {
     "data": {
      "text/plain": [
       "'https://tools.wmflabs.org/fountain/editathons/asian-month-2019-'"
      ]
     },
     "execution_count": 22,
     "metadata": {},
     "output_type": "execute_result"
    }
   ],
   "source": [
    "#attempt to get it to work for a dict of urls and add values back into dictionary\n",
    "\n",
    "#get working urls\n",
    "wikicodes = ['bn', 'ur', 'te', 'ta', 'sat', 'pa', 'mr', 'ml', 'kn', 'hi', 'gu', 'pnb', 'tcy', 'as', 'or','ml_or']\n",
    "\n",
    "url_bases = ['https://tools.wmflabs.org/fountain/api/editathons/project-tiger-2018-',\n",
    "            'https://tools.wmflabs.org/fountain/editathons/wlwsa2020-', #wlw_campaigns_2019\n",
    "            'https://tools.wmflabs.org/fountain/editathons/asian-month-2019-']\n",
    "\n",
    "url_bases_gen = list(gen_dict_extract('url_base', contests))\n",
    "\n",
    "for url in url_bases_gen:\n",
    "    urls_to_review = list()\n",
    "    for wikicode in wikicodes:\n",
    "        urls = (url_base.format(wikicode))\n",
    "        urls_to_review.append(urls)\n",
    "\n",
    "        #'https://tools.wmflabs.org/fountain/api/editathons/project-tiger-2018-'\n",
    "        #'https://tools.wmflabs.org/fountain/editathons/wlwsa2020-' #wlw_campaigns_2019\n",
    "\n",
    "    not_found_urls = list()\n",
    "    # Iterate here on the urls\n",
    "    # The below code could be executed for each url\n",
    "    for url in urls_to_review:\n",
    "        r = requests.get(url)\n",
    "        if r.status_code == 404:\n",
    "            not_found_urls.append(url)\n",
    "\n",
    "    working_urls = list(set(urls_to_review)-set(not_found_urls))\n",
    "    \n",
    "    ### create new list of urls for each url in url_bases_gen"
   ]
  },
  {
   "cell_type": "code",
   "execution_count": null,
   "metadata": {},
   "outputs": [],
   "source": []
  },
  {
   "cell_type": "code",
   "execution_count": null,
   "metadata": {},
   "outputs": [],
   "source": []
  },
  {
   "cell_type": "code",
   "execution_count": null,
   "metadata": {},
   "outputs": [],
   "source": []
  }
 ],
 "metadata": {
  "kernelspec": {
   "display_name": "Python 3",
   "language": "python",
   "name": "python3"
  },
  "language_info": {
   "codemirror_mode": {
    "name": "ipython",
    "version": 3
   },
   "file_extension": ".py",
   "mimetype": "text/x-python",
   "name": "python",
   "nbconvert_exporter": "python",
   "pygments_lexer": "ipython3",
   "version": "3.5.3"
  }
 },
 "nbformat": 4,
 "nbformat_minor": 4
}
