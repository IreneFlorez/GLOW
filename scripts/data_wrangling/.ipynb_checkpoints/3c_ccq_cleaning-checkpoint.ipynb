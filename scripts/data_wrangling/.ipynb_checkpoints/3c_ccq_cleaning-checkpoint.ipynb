{
 "cells": [
  {
   "cell_type": "code",
   "execution_count": 16,
   "metadata": {},
   "outputs": [],
   "source": [
    "import pandas as pd\n",
    "import glob"
   ]
  },
  {
   "cell_type": "code",
   "execution_count": 10,
   "metadata": {},
   "outputs": [],
   "source": [
    "f_path = r'../../data/processed/query_results/content_quality/per_wiki/' \n",
    "all_final_files = glob.glob(f_path + \"/*.csv\")\n",
    "tu = []\n",
    "for filename in all_final_files:\n",
    "    df = pd.read_csv(filename, index_col=None, header=0)\n",
    "    tu.append(df)\n",
    "final_frame = pd.concat(tu, axis=0, ignore_index=True)"
   ]
  },
  {
   "cell_type": "code",
   "execution_count": 15,
   "metadata": {},
   "outputs": [
    {
     "name": "stdout",
     "output_type": "stream",
     "text": [
      "<class 'pandas.core.frame.DataFrame'>\n",
      "RangeIndex: 2166 entries, 0 to 2165\n",
      "Data columns (total 28 columns):\n",
      "wikicode                    2166 non-null object\n",
      "page_id                     2166 non-null float64\n",
      "page_title                  2166 non-null object\n",
      "page_len                    2166 non-null float64\n",
      "relative_page_len           2166 non-null float64\n",
      "at_edits                    2166 non-null object\n",
      "at_create                   2166 non-null int64\n",
      "QID                         2166 non-null float64\n",
      "first_edited                2166 non-null object\n",
      "views_1m                    2166 non-null float64\n",
      "article_type                2166 non-null object\n",
      "editors_1stM                2166 non-null float64\n",
      "edits_1M                    2166 non-null float64\n",
      "num_edits_all_time          2166 non-null float64\n",
      "minor_edits_all_time        2166 non-null float64\n",
      "last_edited                 2166 non-null object\n",
      "all_editors_of_all_edits    2166 non-null float64\n",
      "editors_nm                  2166 non-null float64\n",
      "IP_editors                  2166 non-null float64\n",
      "micro_editors               2166 non-null float64\n",
      "talk_page_edits             2166 non-null float64\n",
      "watch_count                 2166 non-null float64\n",
      "revertrate                  2166 non-null int64\n",
      "oplinks                     2166 non-null float64\n",
      "oelinks                     2166 non-null float64\n",
      "ipl_count                   2166 non-null float64\n",
      "iwsitelinks                 2166 non-null float64\n",
      "iwsites                     2166 non-null object\n",
      "dtypes: float64(19), int64(2), object(7)\n",
      "memory usage: 473.9+ KB\n"
     ]
    }
   ],
   "source": [
    "final_frame.info()"
   ]
  },
  {
   "cell_type": "code",
   "execution_count": 25,
   "metadata": {},
   "outputs": [
    {
     "data": {
      "text/html": [
       "<div>\n",
       "<style scoped>\n",
       "    .dataframe tbody tr th:only-of-type {\n",
       "        vertical-align: middle;\n",
       "    }\n",
       "\n",
       "    .dataframe tbody tr th {\n",
       "        vertical-align: top;\n",
       "    }\n",
       "\n",
       "    .dataframe thead th {\n",
       "        text-align: right;\n",
       "    }\n",
       "</style>\n",
       "<table border=\"1\" class=\"dataframe\">\n",
       "  <thead>\n",
       "    <tr style=\"text-align: right;\">\n",
       "      <th></th>\n",
       "      <th>wikicode</th>\n",
       "      <th>page_id</th>\n",
       "      <th>page_title</th>\n",
       "      <th>page_len</th>\n",
       "      <th>relative_page_len</th>\n",
       "      <th>at_edits</th>\n",
       "      <th>at_create</th>\n",
       "      <th>QID</th>\n",
       "      <th>first_edited</th>\n",
       "      <th>views_1m</th>\n",
       "      <th>article_type</th>\n",
       "    </tr>\n",
       "  </thead>\n",
       "  <tbody>\n",
       "    <tr>\n",
       "      <th>0</th>\n",
       "      <td>hiwiki</td>\n",
       "      <td>1109108.0</td>\n",
       "      <td>अशदोद</td>\n",
       "      <td>11482.0</td>\n",
       "      <td>0.126370</td>\n",
       "      <td>['contenttranslation', 'contenttranslation-v2']</td>\n",
       "      <td>0</td>\n",
       "      <td>171639.0</td>\n",
       "      <td>2019-11-25</td>\n",
       "      <td>0.0</td>\n",
       "      <td>new</td>\n",
       "    </tr>\n",
       "    <tr>\n",
       "      <th>1</th>\n",
       "      <td>hiwiki</td>\n",
       "      <td>75608.0</td>\n",
       "      <td>आज़मगढ़</td>\n",
       "      <td>25877.0</td>\n",
       "      <td>0.284801</td>\n",
       "      <td>0</td>\n",
       "      <td>0</td>\n",
       "      <td>526757.0</td>\n",
       "      <td>2007-05-23</td>\n",
       "      <td>123.0</td>\n",
       "      <td>expanded</td>\n",
       "    </tr>\n",
       "    <tr>\n",
       "      <th>2</th>\n",
       "      <td>hiwiki</td>\n",
       "      <td>75608.0</td>\n",
       "      <td>आज़मगढ़</td>\n",
       "      <td>25877.0</td>\n",
       "      <td>0.284801</td>\n",
       "      <td>0</td>\n",
       "      <td>0</td>\n",
       "      <td>526757.0</td>\n",
       "      <td>2007-05-23</td>\n",
       "      <td>54.0</td>\n",
       "      <td>expanded</td>\n",
       "    </tr>\n",
       "    <tr>\n",
       "      <th>3</th>\n",
       "      <td>hiwiki</td>\n",
       "      <td>75608.0</td>\n",
       "      <td>आज़मगढ़</td>\n",
       "      <td>25877.0</td>\n",
       "      <td>0.284801</td>\n",
       "      <td>0</td>\n",
       "      <td>0</td>\n",
       "      <td>526757.0</td>\n",
       "      <td>2007-05-23</td>\n",
       "      <td>9.0</td>\n",
       "      <td>expanded</td>\n",
       "    </tr>\n",
       "    <tr>\n",
       "      <th>4</th>\n",
       "      <td>hiwiki</td>\n",
       "      <td>75608.0</td>\n",
       "      <td>आज़मगढ़</td>\n",
       "      <td>25877.0</td>\n",
       "      <td>0.284801</td>\n",
       "      <td>0</td>\n",
       "      <td>0</td>\n",
       "      <td>526757.0</td>\n",
       "      <td>2007-05-23</td>\n",
       "      <td>5.0</td>\n",
       "      <td>expanded</td>\n",
       "    </tr>\n",
       "    <tr>\n",
       "      <th>...</th>\n",
       "      <td>...</td>\n",
       "      <td>...</td>\n",
       "      <td>...</td>\n",
       "      <td>...</td>\n",
       "      <td>...</td>\n",
       "      <td>...</td>\n",
       "      <td>...</td>\n",
       "      <td>...</td>\n",
       "      <td>...</td>\n",
       "      <td>...</td>\n",
       "      <td>...</td>\n",
       "    </tr>\n",
       "    <tr>\n",
       "      <th>2161</th>\n",
       "      <td>bnwiki</td>\n",
       "      <td>306394.0</td>\n",
       "      <td>হাত</td>\n",
       "      <td>22700.0</td>\n",
       "      <td>0.149025</td>\n",
       "      <td>0</td>\n",
       "      <td>0</td>\n",
       "      <td>33767.0</td>\n",
       "      <td>2013-04-28</td>\n",
       "      <td>2.0</td>\n",
       "      <td>expanded</td>\n",
       "    </tr>\n",
       "    <tr>\n",
       "      <th>2162</th>\n",
       "      <td>bnwiki</td>\n",
       "      <td>2859.0</td>\n",
       "      <td>হায়দ্রাবাদ</td>\n",
       "      <td>50173.0</td>\n",
       "      <td>0.329386</td>\n",
       "      <td>0</td>\n",
       "      <td>0</td>\n",
       "      <td>1361.0</td>\n",
       "      <td>2006-04-05</td>\n",
       "      <td>49.0</td>\n",
       "      <td>expanded</td>\n",
       "    </tr>\n",
       "    <tr>\n",
       "      <th>2163</th>\n",
       "      <td>bnwiki</td>\n",
       "      <td>2859.0</td>\n",
       "      <td>হায়দ্রাবাদ</td>\n",
       "      <td>50173.0</td>\n",
       "      <td>0.329386</td>\n",
       "      <td>0</td>\n",
       "      <td>0</td>\n",
       "      <td>1361.0</td>\n",
       "      <td>2006-04-05</td>\n",
       "      <td>14.0</td>\n",
       "      <td>expanded</td>\n",
       "    </tr>\n",
       "    <tr>\n",
       "      <th>2164</th>\n",
       "      <td>bnwiki</td>\n",
       "      <td>2859.0</td>\n",
       "      <td>হায়দ্রাবাদ</td>\n",
       "      <td>50173.0</td>\n",
       "      <td>0.329386</td>\n",
       "      <td>0</td>\n",
       "      <td>0</td>\n",
       "      <td>1361.0</td>\n",
       "      <td>2006-04-05</td>\n",
       "      <td>4.0</td>\n",
       "      <td>expanded</td>\n",
       "    </tr>\n",
       "    <tr>\n",
       "      <th>2165</th>\n",
       "      <td>bnwiki</td>\n",
       "      <td>270928.0</td>\n",
       "      <td>হিস্টেরিয়া</td>\n",
       "      <td>13398.0</td>\n",
       "      <td>0.087958</td>\n",
       "      <td>0</td>\n",
       "      <td>0</td>\n",
       "      <td>144119.0</td>\n",
       "      <td>2012-05-04</td>\n",
       "      <td>5.0</td>\n",
       "      <td>expanded</td>\n",
       "    </tr>\n",
       "  </tbody>\n",
       "</table>\n",
       "<p>2166 rows × 11 columns</p>\n",
       "</div>"
      ],
      "text/plain": [
       "     wikicode    page_id   page_title  page_len  relative_page_len  \\\n",
       "0      hiwiki  1109108.0        अशदोद   11482.0           0.126370   \n",
       "1      hiwiki    75608.0      आज़मगढ़   25877.0           0.284801   \n",
       "2      hiwiki    75608.0      आज़मगढ़   25877.0           0.284801   \n",
       "3      hiwiki    75608.0      आज़मगढ़   25877.0           0.284801   \n",
       "4      hiwiki    75608.0      आज़मगढ़   25877.0           0.284801   \n",
       "...       ...        ...          ...       ...                ...   \n",
       "2161   bnwiki   306394.0          হাত   22700.0           0.149025   \n",
       "2162   bnwiki     2859.0  হায়দ্রাবাদ   50173.0           0.329386   \n",
       "2163   bnwiki     2859.0  হায়দ্রাবাদ   50173.0           0.329386   \n",
       "2164   bnwiki     2859.0  হায়দ্রাবাদ   50173.0           0.329386   \n",
       "2165   bnwiki   270928.0  হিস্টেরিয়া   13398.0           0.087958   \n",
       "\n",
       "                                             at_edits  at_create       QID  \\\n",
       "0     ['contenttranslation', 'contenttranslation-v2']          0  171639.0   \n",
       "1                                                   0          0  526757.0   \n",
       "2                                                   0          0  526757.0   \n",
       "3                                                   0          0  526757.0   \n",
       "4                                                   0          0  526757.0   \n",
       "...                                               ...        ...       ...   \n",
       "2161                                                0          0   33767.0   \n",
       "2162                                                0          0    1361.0   \n",
       "2163                                                0          0    1361.0   \n",
       "2164                                                0          0    1361.0   \n",
       "2165                                                0          0  144119.0   \n",
       "\n",
       "     first_edited  views_1m article_type  \n",
       "0      2019-11-25       0.0          new  \n",
       "1      2007-05-23     123.0     expanded  \n",
       "2      2007-05-23      54.0     expanded  \n",
       "3      2007-05-23       9.0     expanded  \n",
       "4      2007-05-23       5.0     expanded  \n",
       "...           ...       ...          ...  \n",
       "2161   2013-04-28       2.0     expanded  \n",
       "2162   2006-04-05      49.0     expanded  \n",
       "2163   2006-04-05      14.0     expanded  \n",
       "2164   2006-04-05       4.0     expanded  \n",
       "2165   2012-05-04       5.0     expanded  \n",
       "\n",
       "[2166 rows x 11 columns]"
      ]
     },
     "execution_count": 25,
     "metadata": {},
     "output_type": "execute_result"
    }
   ],
   "source": [
    "interim_frame"
   ]
  },
  {
   "cell_type": "code",
   "execution_count": 21,
   "metadata": {},
   "outputs": [],
   "source": [
    "#interim_frame['at_edits'] = interim_frame['at_edits'].astype('bool')"
   ]
  },
  {
   "cell_type": "code",
   "execution_count": 20,
   "metadata": {},
   "outputs": [
    {
     "data": {
      "text/plain": [
       "wikicode             0.000000\n",
       "page_id              0.000000\n",
       "page_title           0.000000\n",
       "page_len             0.000000\n",
       "relative_page_len    0.000000\n",
       "at_edits             0.100185\n",
       "at_create            1.000000\n",
       "QID                  0.049400\n",
       "first_edited         0.000000\n",
       "views_1m             0.444137\n",
       "article_type         0.000000\n",
       "dtype: float64"
      ]
     },
     "execution_count": 20,
     "metadata": {},
     "output_type": "execute_result"
    }
   ],
   "source": [
    "interim_frame[interim_frame == 0].count(axis=0)/len(interim_frame.index)"
   ]
  },
  {
   "cell_type": "code",
   "execution_count": 23,
   "metadata": {},
   "outputs": [],
   "source": [
    "i_path = '../../data/raw/articles/2019/query_results/content_quality/per_wiki/'\n",
    "all_interim_files = glob.glob(i_path + \"/*.csv\")\n",
    "\n",
    "li = []\n",
    "for filename in all_interim_files:\n",
    "    z = pd.read_csv(filename, index_col=None, header=0)\n",
    "    li.append(z)\n",
    "interim_frame = pd.concat(li, axis=0, ignore_index=True)"
   ]
  },
  {
   "cell_type": "code",
   "execution_count": 24,
   "metadata": {},
   "outputs": [
    {
     "name": "stdout",
     "output_type": "stream",
     "text": [
      "<class 'pandas.core.frame.DataFrame'>\n",
      "RangeIndex: 2166 entries, 0 to 2165\n",
      "Data columns (total 11 columns):\n",
      "wikicode             2166 non-null object\n",
      "page_id              2166 non-null float64\n",
      "page_title           2166 non-null object\n",
      "page_len             2166 non-null float64\n",
      "relative_page_len    2166 non-null float64\n",
      "at_edits             2166 non-null object\n",
      "at_create            2166 non-null int64\n",
      "QID                  2166 non-null float64\n",
      "first_edited         2166 non-null object\n",
      "views_1m             2166 non-null float64\n",
      "article_type         2166 non-null object\n",
      "dtypes: float64(5), int64(1), object(5)\n",
      "memory usage: 186.3+ KB\n"
     ]
    }
   ],
   "source": [
    "interim_frame.info()"
   ]
  },
  {
   "cell_type": "code",
   "execution_count": null,
   "metadata": {},
   "outputs": [],
   "source": []
  },
  {
   "cell_type": "markdown",
   "metadata": {},
   "source": [
    "# Assess collected data"
   ]
  },
  {
   "cell_type": "code",
   "execution_count": null,
   "metadata": {},
   "outputs": [],
   "source": []
  },
  {
   "cell_type": "code",
   "execution_count": null,
   "metadata": {},
   "outputs": [],
   "source": []
  },
  {
   "cell_type": "code",
   "execution_count": null,
   "metadata": {},
   "outputs": [],
   "source": []
  },
  {
   "cell_type": "code",
   "execution_count": null,
   "metadata": {},
   "outputs": [],
   "source": []
  },
  {
   "cell_type": "code",
   "execution_count": null,
   "metadata": {},
   "outputs": [],
   "source": [
    "dups\n",
    "nulls\n",
    "\n",
    "# articles\n"
   ]
  },
  {
   "cell_type": "code",
   "execution_count": null,
   "metadata": {},
   "outputs": [],
   "source": [
    "# articles.info()"
   ]
  },
  {
   "cell_type": "code",
   "execution_count": null,
   "metadata": {},
   "outputs": [],
   "source": [
    "# articles.isna().sum()"
   ]
  },
  {
   "cell_type": "code",
   "execution_count": null,
   "metadata": {},
   "outputs": [],
   "source": [
    "# (articles==0).astype(int).sum()"
   ]
  },
  {
   "cell_type": "markdown",
   "metadata": {},
   "source": [
    "#### Test results"
   ]
  },
  {
   "cell_type": "code",
   "execution_count": null,
   "metadata": {},
   "outputs": [],
   "source": [
    "# AND rev_timestamp <= DATE_ADD(day, 29, first_edit)\n",
    "#DATE_ADD('2010-12-31 23:59:59', INTERVAL 1 DAY) \n",
    "#HAVING DATE_FORMAT(rev_timestamp,\"%y-%m-%d\") <= DATE_ADD(DATE_FORMAT(MIN(rev_timestamp),\"%y-%m-%d\"), INTERVAL 1 MONTH)\n",
    "#--rev_id <= DATEADD(day, 29, page_first_edit_timestamp)\n",
    "#where mydate between '2015-10-02' and dateadd(d, 2, '2015-10-02')\n",
    "#--WHERE where edit_date between DATE_FORMAT(page_first_edit_timestamp,\"%y-%m-%d\") and dateadd(d, 29, DATE_FORMAT(page_first_edit_timestamp,\"%y-%m-%d\"))\n",
    "#--WHERE edit_date <= DATE_ADD(month, 1, first_edit_date)"
   ]
  },
  {
   "cell_type": "code",
   "execution_count": null,
   "metadata": {},
   "outputs": [],
   "source": [
    "#interwiki links review"
   ]
  },
  {
   "cell_type": "raw",
   "metadata": {},
   "source": [
    "# manual check to see if item Q440 has 111 interwiki site links\n",
    "articles.loc[articles['q_id']==440]"
   ]
  },
  {
   "cell_type": "raw",
   "metadata": {},
   "source": [
    "# https://xtools.wmflabs.org/articleinfo/pa.wikipedia.org/ਸਲਵਾਦੋਰ_ਅਲੀਐਂਦੇ\n",
    "#https://xtools.wmflabs.org/articleinfo/pa.wikipedia.org/.ਹੈਕ_(ਵੀਡੀਓ_ਗੇਮ_ਸੀਰੀਜ਼)"
   ]
  },
  {
   "cell_type": "code",
   "execution_count": null,
   "metadata": {},
   "outputs": [],
   "source": [
    "# check the validity manually by checking page_id to get title and checking the articleinfo tool \n",
    "#articles.loc[articles['page_id']==108735]\n",
    "#also: https://xtools.wmflabs.org/articleinfo/pa.wikipedia.org/ਲਵੰਨਮ"
   ]
  },
  {
   "cell_type": "raw",
   "metadata": {},
   "source": [
    "# https://xtools.wmflabs.org/articleinfo/pa.wikipedia.org/ੲੇਂਜ਼ੋ_ਫੇਰਾਰੀ\n",
    "    2 editors, zero ip edits, zero bot edits\n",
    "\n",
    "#https://xtools.wmflabs.org/articleinfo/pa.wikipedia.org/ੳੁਪ_ਨਗਰ\n",
    "    \t108203\tੳੁਪ_ਨਗਰ\tright\n",
    "        106620\tੳੁੱਚੀ_ਛਾਲ\tright\n",
    "        104749\t2012_(ਫ਼ਿਲਮ)\tright"
   ]
  },
  {
   "cell_type": "code",
   "execution_count": null,
   "metadata": {},
   "outputs": [],
   "source": [
    "# check the validity manually by checking page_id to get title and checking the articleinfo tool \n",
    "#articles.loc[articles['page_id']==108220]\n",
    "#also: https://xtools.wmflabs.org/articleinfo/pa.wikipedia.org/ਬ੍ਰਾਇਨ_ਦੇ_ਪਾਲਮਾ\n",
    "\n",
    "#articles.loc[articles['page_id']==3673]\n",
    "#https://xtools.wmflabs.org/articleinfo/pa.wikipedia.org/ਸ਼ੁੱਕਰ_(ਗ੍ਰਹਿ)\n",
    "#https://pa.wikipedia.org/w/index.php?title=ਸ਼ੁੱਕਰ_(ਗ੍ਰਹਿ)&action=history\n",
    "\n",
    "#articles.loc[articles['page_id']==2320]\n",
    "#https://xtools.wmflabs.org/articleinfo/pa.wikipedia.org/ਯੂਰਪ\n",
    "#https://pa.wikipedia.org/w/index.php?title=ਯੂਰਪ&action=history"
   ]
  },
  {
   "cell_type": "raw",
   "metadata": {},
   "source": [
    "# check validity of results manually by pulling rev ids and ips \n",
    "\n",
    "check_tuipe_r = wmf.mariadb.run(\"\"\"\n",
    "SELECT \n",
    "  revision.rev_page AS page_id, revactor_actor, actor_name\n",
    "FROM revision\n",
    "  JOIN revision_actor_temp ON (rev_id = revactor_rev)\n",
    "  JOIN actor ON (revactor_actor = actor_id)\n",
    "WHERE (rev_deleted & 4) = 0\n",
    "  AND actor_user IS NULL -- non-registered user\n",
    "  AND revision.rev_page IN (7040)\n",
    "\"\"\", \"pawiki\")"
   ]
  },
  {
   "cell_type": "code",
   "execution_count": null,
   "metadata": {},
   "outputs": [],
   "source": [
    "# locate a page_title for a manual check of page to see that the numbers make sense\n",
    "#https://pa.wikipedia.org/w/index.php?title=ਸਕਾਰਲੈਟ_ਜੋਹਾਨਸਨ&action=history\n",
    "#http://pa.wikipedia.org/wiki/ਸਕਾਰਲੈਟ_ਜੋਹਾਨਸਨ\n",
    "#https://xtools.wmflabs.org/articleinfo/pa.wikipedia.org/ਸਕਾਰਲੈਟ_ਜੋਹਾਨਸਨ"
   ]
  },
  {
   "cell_type": "code",
   "execution_count": null,
   "metadata": {},
   "outputs": [],
   "source": [
    "editor_calculations.loc[editor_calculations['page_id'] ==  104044]"
   ]
  },
  {
   "cell_type": "code",
   "execution_count": null,
   "metadata": {},
   "outputs": [],
   "source": [
    "articles.loc[articles['page_id'] ==  104044]"
   ]
  },
  {
   "cell_type": "code",
   "execution_count": null,
   "metadata": {},
   "outputs": [],
   "source": [
    "#review incoming pagelinks"
   ]
  },
  {
   "cell_type": "raw",
   "metadata": {},
   "source": [
    "# test result\n",
    "#test method 1: http://dispenser.info.tm/~dispenser/cgi-bin/backlinkscount.py?title=%E0%A8%AF%E0%A9%82%E0%A8%B0%E0%A8%AA&filter=nonredirects&db=pawiki\n",
    "#test method 2:\n",
    "incoming_pagelinks.loc[incoming_pagelinks['page_id'] == 2320]"
   ]
  },
  {
   "cell_type": "raw",
   "metadata": {},
   "source": [
    "# test method 2:\n",
    "test3 = incoming_pagelinks_r.loc[incoming_pagelinks_r['page_id'] == 2320]\n",
    "test3.info()"
   ]
  },
  {
   "cell_type": "code",
   "execution_count": null,
   "metadata": {},
   "outputs": [],
   "source": []
  },
  {
   "cell_type": "markdown",
   "metadata": {},
   "source": [
    "# Clean data"
   ]
  },
  {
   "cell_type": "code",
   "execution_count": null,
   "metadata": {},
   "outputs": [],
   "source": [
    "# articles['pv_proportion_all']= articles['views_l2m_all']/articles['views_l2m_all'].sum()\n",
    "articles['pv_proportion_in']= articles['views_l2m']/articles['views_l2m'].sum()\n",
    "pv_topics_all = articles.sort_values(by='views_l2m_all', ascending=False)\n",
    "pv_topics_in = articles.sort_values(by='views_l2m', ascending=False)"
   ]
  },
  {
   "cell_type": "raw",
   "metadata": {},
   "source": [
    "# enwiki_pv_sept_all['proportion']= enwiki_pv_sept_all['pageviews']/enwiki_pv_sept_all['pageviews'].sum()\n",
    "enwiki_pv_sep_all = enwiki_pv_sept_all.sort_values(by='pageviews', ascending=False)"
   ]
  },
  {
   "cell_type": "raw",
   "metadata": {},
   "source": [
    "# enwiki_page_sept_summary = enwiki_pv_topic_sept[['page_title','pageviews','proportion','predicted']].sort_values(by='pageviews', ascending=False).reset_index(drop=True).head(50)"
   ]
  },
  {
   "cell_type": "code",
   "execution_count": null,
   "metadata": {},
   "outputs": [],
   "source": [
    "# "
   ]
  },
  {
   "cell_type": "raw",
   "metadata": {},
   "source": [
    "# articles_topic_summary = (df[df.page_title != 'Main_Page']\n",
    "          .groupby('lname1', as_index = False)['pageviews', 'proportion']\n",
    "          .sum()\n",
    "          .sort_values(by='pageviews', ascending=False))"
   ]
  },
  {
   "cell_type": "code",
   "execution_count": null,
   "metadata": {},
   "outputs": [],
   "source": []
  },
  {
   "cell_type": "code",
   "execution_count": null,
   "metadata": {},
   "outputs": [],
   "source": [
    "create mask for new articles only ...expanded"
   ]
  },
  {
   "cell_type": "markdown",
   "metadata": {},
   "source": [
    "# Download data"
   ]
  },
  {
   "cell_type": "code",
   "execution_count": null,
   "metadata": {},
   "outputs": [],
   "source": [
    "# articles.to_csv(\"./data/processed/query_results/content_quality/{}clean.csv\", sep=',', encoding = 'utf-8')"
   ]
  },
  {
   "cell_type": "code",
   "execution_count": null,
   "metadata": {},
   "outputs": [],
   "source": [
    "# "
   ]
  }
 ],
 "metadata": {
  "kernelspec": {
   "display_name": "Python 3",
   "language": "python",
   "name": "python3"
  },
  "language_info": {
   "codemirror_mode": {
    "name": "ipython",
    "version": 3
   },
   "file_extension": ".py",
   "mimetype": "text/x-python",
   "name": "python",
   "nbconvert_exporter": "python",
   "pygments_lexer": "ipython3",
   "version": "3.5.3"
  }
 },
 "nbformat": 4,
 "nbformat_minor": 4
}
