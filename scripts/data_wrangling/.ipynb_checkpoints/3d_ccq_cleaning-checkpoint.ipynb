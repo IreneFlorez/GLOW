{
 "cells": [
  {
   "cell_type": "code",
   "execution_count": 1,
   "metadata": {},
   "outputs": [],
   "source": [
    "import pandas as pd\n",
    "import glob\n",
    "import numpy as np"
   ]
  },
  {
   "cell_type": "markdown",
   "metadata": {},
   "source": [
    "## read files"
   ]
  },
  {
   "cell_type": "code",
   "execution_count": 21,
   "metadata": {},
   "outputs": [],
   "source": [
    "#read interim frame\n",
    "i_path = '../../data/raw/articles/2019/query_results/content_quality/per_wiki/'\n",
    "all_interim_files = glob.glob(i_path + \"/*.csv\")\n",
    "\n",
    "li = []\n",
    "for filename in all_interim_files:\n",
    "    z = pd.read_csv(filename, index_col=None, header=0)\n",
    "    li.append(z)\n",
    "interim_frame = pd.concat(li, axis=0, ignore_index=True)"
   ]
  },
  {
   "cell_type": "code",
   "execution_count": 40,
   "metadata": {},
   "outputs": [],
   "source": [
    "#read full frame\n",
    "#f_path = r'../../data/processed/query_results/content_quality/per_wiki/' \n",
    "f_path = r'../../data/raw/articles/2019/query_results/content_quality/per_wiki_full/'\n",
    "all_final_files = glob.glob(f_path + \"/*.csv\")\n",
    "tu = []\n",
    "for filename in all_final_files:\n",
    "    df = pd.read_csv(filename, index_col=None, header=0)\n",
    "    tu.append(df)\n",
    "final_frame = pd.concat(tu, axis=0, ignore_index=True)"
   ]
  },
  {
   "cell_type": "code",
   "execution_count": 41,
   "metadata": {},
   "outputs": [],
   "source": [
    "#change file name as necessary\n",
    "topics = pd.read_csv(\"../../data/processed/query_results/topic_lists/GLOW_ProjectTiger2_topics_df.csv\", sep=',', encoding = 'utf-8')"
   ]
  },
  {
   "cell_type": "markdown",
   "metadata": {},
   "source": [
    "## rerun PV1M query"
   ]
  },
  {
   "cell_type": "code",
   "execution_count": 5,
   "metadata": {},
   "outputs": [],
   "source": [
    "import wmfdata as wmf\n",
    "from wmfdata import charting, mariadb, hive, spark\n",
    "from wmfdata.utils import pct_str, pd_display_all"
   ]
  },
  {
   "cell_type": "code",
   "execution_count": 6,
   "metadata": {},
   "outputs": [],
   "source": [
    "aswiki_ids = tuple(list(interim_frame.loc[interim_frame['wikicode'] == 'aswiki', 'page_id']))\n",
    "bnwiki_ids = tuple(list(interim_frame.loc[interim_frame['wikicode'] == 'bnwiki', 'page_id']))\n",
    "guwiki_ids = tuple(list(interim_frame.loc[interim_frame['wikicode'] == 'guwiki', 'page_id']))\n",
    "hiwiki_ids = tuple(list(interim_frame.loc[interim_frame['wikicode'] == 'hiwiki', 'page_id']))\n",
    "knwiki_ids = tuple(list(interim_frame.loc[interim_frame['wikicode'] == 'knwiki', 'page_id']))\n",
    "mlwiki_ids = tuple(list(interim_frame.loc[interim_frame['wikicode'] == 'mlwiki', 'page_id']))\n",
    "mrwiki_ids = tuple(list(interim_frame.loc[interim_frame['wikicode'] == 'mrwiki', 'page_id']))\n",
    "orwiki_ids = tuple(list(interim_frame.loc[interim_frame['wikicode'] == 'orwiki', 'page_id']))\n",
    "pawiki_ids = tuple(list(interim_frame.loc[interim_frame['wikicode'] == 'pawiki', 'page_id']))\n",
    "sawiki_ids = tuple(list(interim_frame.loc[interim_frame['wikicode'] == 'sawiki', 'page_id']))\n",
    "satwiki_ids = tuple(list(interim_frame.loc[interim_frame['wikicode'] == 'satwiki', 'page_id']))\n",
    "tawiki_ids = tuple(list(interim_frame.loc[interim_frame['wikicode'] == 'tawiki', 'page_id']))\n",
    "tewiki_ids = tuple(list(interim_frame.loc[interim_frame['wikicode'] == 'tewiki', 'page_id']))\n",
    "tcywiki_ids = tuple(list(interim_frame.loc[interim_frame['wikicode'] == 'tcywiki', 'page_id']))\n",
    "urwiki_ids = tuple(list(interim_frame.loc[interim_frame['wikicode'] == 'urwiki', 'page_id']))"
   ]
  },
  {
   "cell_type": "code",
   "execution_count": 7,
   "metadata": {},
   "outputs": [],
   "source": [
    "#replace contest start/end date, and country for each GLOW project\n",
    "contest_start = '2019-10-10'\n",
    "contest_end = '2020-02-11'\n",
    "quality_vars = dict(\n",
    "    country_code  = \"IN\",\n",
    "    aswiki_ids = aswiki_ids,\n",
    "    bnwiki_ids =  bnwiki_ids,\n",
    "    guwiki_ids =  guwiki_ids,\n",
    "    hiwiki_ids =  hiwiki_ids,\n",
    "    knwiki_ids =  knwiki_ids,\n",
    "    mlwiki_ids =  mlwiki_ids,\n",
    "    mrwiki_ids = mrwiki_ids,\n",
    "    orwiki_ids =  orwiki_ids,\n",
    "    pawiki_ids =  pawiki_ids,\n",
    "    sawiki_ids =  sawiki_ids,\n",
    "    satwiki_ids =  satwiki_ids,\n",
    "    tawiki_ids =  tawiki_ids,\n",
    "    tewiki_ids =  tewiki_ids,\n",
    "    tcywiki_ids =  tcywiki_ids,\n",
    "    urwiki_ids =  urwiki_ids,\n",
    "    )"
   ]
  },
  {
   "cell_type": "code",
   "execution_count": 8,
   "metadata": {},
   "outputs": [],
   "source": [
    "sa_pvs_r = spark.run(\"\"\"\n",
    "SELECT \n",
    "   page_id,\n",
    "   SUM(view_count) AS views_1M\n",
    "FROM wmf.pageview_hourly \n",
    "WHERE \n",
    "  year = 2020\n",
    "  AND month = 02\n",
    "  AND agent_type = 'user'\n",
    "  AND country_code = '{country_code}'\n",
    "  AND project = 'sa.wikipedia'\n",
    "  AND page_id IN {sawiki_ids}\n",
    "GROUP BY page_id\n",
    "\"\"\".format(**quality_vars))\n",
    "\n",
    "hi_pvs_r = spark.run(\"\"\"\n",
    "SELECT \n",
    "   page_id,\n",
    "   SUM(view_count) AS views_1M\n",
    "FROM wmf.pageview_hourly \n",
    "WHERE \n",
    "  year = 2020\n",
    "  AND month = 02\n",
    "  AND agent_type = 'user'\n",
    "  AND country_code = '{country_code}'\n",
    "  AND project = 'hi.wikipedia'\n",
    "  AND page_id IN {hiwiki_ids}\n",
    "GROUP BY page_id\n",
    "\"\"\".format(**quality_vars))\n",
    "\n",
    "pa_pvs_r = spark.run(\"\"\"\n",
    "SELECT \n",
    "   page_id,\n",
    "   SUM(view_count) AS views_1M\n",
    "FROM wmf.pageview_hourly \n",
    "WHERE \n",
    "  year = 2020\n",
    "  AND agent_type = 'user'\n",
    "  AND country_code = 'IN'\n",
    "  AND month = 02\n",
    "  AND project = 'pa.wikipedia'\n",
    "  AND page_id IN {pawiki_ids}\n",
    "GROUP BY page_id\n",
    "\"\"\".format(**quality_vars))\n",
    "\n",
    "as_pvs_r = spark.run(\"\"\"\n",
    "SELECT \n",
    "   page_id,\n",
    "   SUM(view_count) AS views_1M\n",
    "FROM wmf.pageview_hourly \n",
    "WHERE \n",
    "  year = 2020\n",
    "  AND month = 02 \n",
    "  AND agent_type = 'user'\n",
    "  AND country_code = '{country_code}'\n",
    "  AND project = 'as.wikipedia'\n",
    "  AND page_id IN {aswiki_ids}\n",
    "GROUP BY page_id\n",
    "\"\"\".format(**quality_vars))\n",
    "\n",
    "bn_pvs_r = spark.run(\"\"\"\n",
    "SELECT \n",
    "   page_id,\n",
    "   SUM(view_count) AS views_1M\n",
    "FROM wmf.pageview_hourly \n",
    "WHERE \n",
    "  year = 2020\n",
    "  AND month = 02 \n",
    "  AND agent_type = 'user'\n",
    "  AND country_code = '{country_code}'\n",
    "  AND project = 'bn.wikipedia'\n",
    "  AND page_id IN {bnwiki_ids}\n",
    "GROUP BY page_id\n",
    "\"\"\".format(**quality_vars))\n",
    "\n",
    "gu_pvs_r = spark.run(\"\"\"\n",
    "SELECT \n",
    "   page_id,\n",
    "   SUM(view_count) AS views_1M\n",
    "FROM wmf.pageview_hourly \n",
    "WHERE \n",
    "  year = 2020\n",
    "  AND month = 02 \n",
    "  AND agent_type = 'user'\n",
    "  AND country_code = '{country_code}'\n",
    "  AND project = 'gu.wikipedia'\n",
    "  AND page_id IN {guwiki_ids}\n",
    "GROUP BY page_id\n",
    "\"\"\".format(**quality_vars))\n",
    "\n",
    "kn_pvs_r = spark.run(\"\"\"\n",
    "SELECT \n",
    "   page_id,\n",
    "   SUM(view_count) AS views_1M\n",
    "FROM wmf.pageview_hourly \n",
    "WHERE \n",
    "  year = 2020\n",
    "  AND month = 02 \n",
    "  AND agent_type = 'user'\n",
    "  AND country_code = '{country_code}'\n",
    "  AND project = 'kn.wikipedia'\n",
    "  AND page_id IN {knwiki_ids}\n",
    "GROUP BY page_id\n",
    "\"\"\".format(**quality_vars))\n",
    "\n",
    "ml_pvs_r = spark.run(\"\"\"\n",
    "SELECT \n",
    "   page_id,\n",
    "   SUM(view_count) AS views_1M\n",
    "FROM wmf.pageview_hourly \n",
    "WHERE \n",
    "  year = 2020\n",
    "  AND month = 02\n",
    "  AND agent_type = 'user'\n",
    "  AND country_code = '{country_code}'\n",
    "  AND project = 'ml.wikipedia'\n",
    "  AND page_id IN {mlwiki_ids}\n",
    "GROUP BY page_id\n",
    "\"\"\".format(**quality_vars))\n",
    "\n",
    "mr_pvs_r = spark.run(\"\"\"\n",
    "SELECT \n",
    "   page_id,\n",
    "   SUM(view_count) AS views_1M\n",
    "FROM wmf.pageview_hourly \n",
    "WHERE \n",
    "  year = 2020\n",
    "  AND month = 02\n",
    "  AND agent_type = 'user'\n",
    "  AND country_code = '{country_code}'\n",
    "  AND project = 'mr.wikipedia'\n",
    "  AND page_id IN {mrwiki_ids}\n",
    "GROUP BY page_id\n",
    "\"\"\".format(**quality_vars))\n",
    "\n",
    "or_pvs_r = spark.run(\"\"\"\n",
    "SELECT \n",
    "   page_id,\n",
    "   SUM(view_count) AS views_1M\n",
    "FROM wmf.pageview_hourly \n",
    "WHERE \n",
    "  year = 2020\n",
    "  AND month = 02\n",
    "  AND agent_type = 'user'\n",
    "  AND country_code = '{country_code}'\n",
    "  AND project = 'or.wikipedia'\n",
    "  AND page_id IN {orwiki_ids}\n",
    "GROUP BY page_id\n",
    "\"\"\".format(**quality_vars))\n",
    "\n",
    "sat_pvs_r = spark.run(\"\"\"\n",
    "SELECT \n",
    "   page_id,\n",
    "   SUM(view_count) AS views_1M\n",
    "FROM wmf.pageview_hourly \n",
    "WHERE \n",
    "  year = 2020\n",
    "  AND month = 02\n",
    "  AND agent_type = 'user'\n",
    "  AND country_code = '{country_code}'\n",
    "  AND project = 'sat.wikipedia'\n",
    "  AND page_id IN {satwiki_ids}\n",
    "GROUP BY page_id\n",
    "\"\"\".format(**quality_vars))\n",
    "\n",
    "ta_pvs_r = spark.run(\"\"\"\n",
    "SELECT \n",
    "   page_id,\n",
    "   SUM(view_count) AS views_1M\n",
    "FROM wmf.pageview_hourly \n",
    "WHERE \n",
    "  year = 2020\n",
    "  AND month = 02 \n",
    "  AND agent_type = 'user'\n",
    "  AND country_code = '{country_code}'\n",
    "  AND project = 'ta.wikipedia'\n",
    "  AND page_id IN {tawiki_ids}\n",
    "GROUP BY page_id\n",
    "\"\"\".format(**quality_vars))\n",
    "\n",
    "te_pvs_r = spark.run(\"\"\"\n",
    "SELECT \n",
    "   page_id,\n",
    "   SUM(view_count) AS views_1M\n",
    "FROM wmf.pageview_hourly \n",
    "WHERE \n",
    "  year = 2020\n",
    "  AND month = 02 \n",
    "  AND agent_type = 'user'\n",
    "  AND country_code = '{country_code}'\n",
    "  AND project = 'te.wikipedia'\n",
    "  AND page_id IN {tewiki_ids}\n",
    "GROUP BY page_id\n",
    "\"\"\".format(**quality_vars))\n",
    "\n",
    "tcy_pvs_r = spark.run(\"\"\"\n",
    "SELECT \n",
    "   page_id,\n",
    "   SUM(view_count) AS views_1M\n",
    "FROM wmf.pageview_hourly \n",
    "WHERE \n",
    "  year = 2020\n",
    "  AND month = 02\n",
    "  AND agent_type = 'user'\n",
    "  AND country_code = '{country_code}'\n",
    "  AND project = 'tcy.wikipedia'\n",
    "  AND page_id IN {tcywiki_ids}\n",
    "GROUP BY page_id\n",
    "\"\"\".format(**quality_vars))\n",
    "\n",
    "ur_pvs_r = spark.run(\"\"\"\n",
    "SELECT \n",
    "   page_id,\n",
    "   SUM(view_count) AS views_1M\n",
    "FROM wmf.pageview_hourly \n",
    "WHERE \n",
    "  year = 2020\n",
    "  AND month = 02\n",
    "  AND agent_type = 'user'\n",
    "  AND country_code = '{country_code}'\n",
    "  AND project = 'ur.wikipedia'\n",
    "  AND page_id IN {urwiki_ids}\n",
    "GROUP BY page_id\n",
    "\"\"\".format(**quality_vars))"
   ]
  },
  {
   "cell_type": "code",
   "execution_count": 9,
   "metadata": {},
   "outputs": [],
   "source": [
    "pa_pvs_r['wikicode'] = 'pawiki' \n",
    "ml_pvs_r['wikicode'] = 'mlwiki'\n",
    "hi_pvs_r['wikicode'] = 'hiwiki'\n",
    "or_pvs_r['wikicode'] = 'orwiki'\n",
    "ur_pvs_r['wikicode'] = 'urwiki'\n",
    "ta_pvs_r['wikicode'] = 'tawiki'\n",
    "kn_pvs_r['wikicode'] = 'knwiki'\n",
    "mr_pvs_r['wikicode'] = 'mrwiki'\n",
    "gu_pvs_r['wikicode'] = 'guwiki'\n",
    "te_pvs_r['wikicode'] = 'tewiki'\n",
    "bn_pvs_r['wikicode'] = 'bnwiki'\n",
    "tcy_pvs_r['wikicode'] = 'tcywiki'\n",
    "as_pvs_r['wikicode'] = 'aswiki'\n",
    "sa_pvs_r['wikicode'] = 'sawiki'\n",
    "sat_pvs_r['wikicode'] = 'satwiki'"
   ]
  },
  {
   "cell_type": "code",
   "execution_count": 13,
   "metadata": {},
   "outputs": [],
   "source": [
    "sa_pvs_all_r = spark.run(\"\"\"\n",
    "SELECT \n",
    "   page_id,\n",
    "   SUM(view_count) AS views_1M_all\n",
    "FROM wmf.pageview_hourly \n",
    "WHERE \n",
    "  year = 2020\n",
    "  AND month = 02\n",
    "  AND agent_type = 'user'\n",
    "  AND project = 'sa.wikipedia'\n",
    "  AND page_id IN {sawiki_ids}\n",
    "GROUP BY page_id\n",
    "\"\"\".format(**quality_vars))\n",
    "\n",
    "hi_pvs_all_r = spark.run(\"\"\"\n",
    "SELECT \n",
    "   page_id,\n",
    "   SUM(view_count) AS views_1M_all\n",
    "FROM wmf.pageview_hourly \n",
    "WHERE \n",
    "  year = 2020\n",
    "  AND month = 02\n",
    "  AND agent_type = 'user'\n",
    "  AND project = 'hi.wikipedia'\n",
    "  AND page_id IN {hiwiki_ids}\n",
    "GROUP BY page_id\n",
    "\"\"\".format(**quality_vars))\n",
    "\n",
    "pa_pvs_all_r = spark.run(\"\"\"\n",
    "SELECT \n",
    "   page_id,\n",
    "   SUM(view_count) AS views_1M_all\n",
    "FROM wmf.pageview_hourly \n",
    "WHERE \n",
    "  year = 2020\n",
    "  AND month = 02\n",
    "  AND agent_type = 'user'\n",
    "  AND project = 'pa.wikipedia'\n",
    "  AND page_id IN {pawiki_ids}\n",
    "GROUP BY page_id\n",
    "\"\"\".format(**quality_vars))\n",
    "\n",
    "as_pvs_all_r = spark.run(\"\"\"\n",
    "SELECT \n",
    "   page_id,\n",
    "   SUM(view_count) AS views_1M_all\n",
    "FROM wmf.pageview_hourly \n",
    "WHERE \n",
    "  year = 2020\n",
    "  AND month = 02 \n",
    "  AND agent_type = 'user'\n",
    "  AND project = 'as.wikipedia'\n",
    "  AND page_id IN {aswiki_ids}\n",
    "GROUP BY page_id\n",
    "\"\"\".format(**quality_vars))\n",
    "\n",
    "bn_pvs_all_r = spark.run(\"\"\"\n",
    "SELECT \n",
    "   page_id,\n",
    "   SUM(view_count) AS views_1M_all\n",
    "FROM wmf.pageview_hourly \n",
    "WHERE \n",
    "  year = 2020\n",
    "  AND month = 02 \n",
    "  AND agent_type = 'user'\n",
    "  AND project = 'bn.wikipedia'\n",
    "  AND page_id IN {bnwiki_ids}\n",
    "GROUP BY page_id\n",
    "\"\"\".format(**quality_vars))\n",
    "\n",
    "gu_pvs_all_r = spark.run(\"\"\"\n",
    "SELECT \n",
    "   page_id,\n",
    "   SUM(view_count) AS views_1M_all\n",
    "FROM wmf.pageview_hourly \n",
    "WHERE \n",
    "  year = 2020\n",
    "  AND month = 02 \n",
    "  AND agent_type = 'user'\n",
    "  AND project = 'gu.wikipedia'\n",
    "  AND page_id IN {guwiki_ids}\n",
    "GROUP BY page_id\n",
    "\"\"\".format(**quality_vars))\n",
    "\n",
    "kn_pvs_all_r = spark.run(\"\"\"\n",
    "SELECT \n",
    "   page_id,\n",
    "   SUM(view_count) AS views_1M_all\n",
    "FROM wmf.pageview_hourly \n",
    "WHERE \n",
    "  year = 2020\n",
    "  AND month = 02 \n",
    "  AND agent_type = 'user'\n",
    "  AND project = 'kn.wikipedia'\n",
    "  AND page_id IN {knwiki_ids}\n",
    "GROUP BY page_id\n",
    "\"\"\".format(**quality_vars))\n",
    "\n",
    "ml_pvs_all_r = spark.run(\"\"\"\n",
    "SELECT \n",
    "   page_id,\n",
    "   SUM(view_count) AS views_1M_all\n",
    "FROM wmf.pageview_hourly \n",
    "WHERE \n",
    "  year = 2020\n",
    "  AND month = 02\n",
    "  AND agent_type = 'user'\n",
    "  AND project = 'ml.wikipedia'\n",
    "  AND page_id IN {mlwiki_ids}\n",
    "GROUP BY page_id\n",
    "\"\"\".format(**quality_vars))\n",
    "\n",
    "mr_pvs_all_r = spark.run(\"\"\"\n",
    "SELECT \n",
    "   page_id,\n",
    "   SUM(view_count) AS views_1M_all\n",
    "FROM wmf.pageview_hourly \n",
    "WHERE \n",
    "  year = 2020\n",
    "  AND month = 02\n",
    "  AND agent_type = 'user'\n",
    "  AND project = 'mr.wikipedia'\n",
    "  AND page_id IN {mrwiki_ids}\n",
    "GROUP BY page_id\n",
    "\"\"\".format(**quality_vars))\n",
    "\n",
    "or_pvs_all_r = spark.run(\"\"\"\n",
    "SELECT \n",
    "   page_id,\n",
    "   SUM(view_count) AS views_1M_all\n",
    "FROM wmf.pageview_hourly \n",
    "WHERE \n",
    "  year = 2020\n",
    "  AND month = 02\n",
    "  AND agent_type = 'user'\n",
    "  AND project = 'or.wikipedia'\n",
    "  AND page_id IN {orwiki_ids}\n",
    "GROUP BY page_id\n",
    "\"\"\".format(**quality_vars))\n",
    "\n",
    "sat_pvs_all_r = spark.run(\"\"\"\n",
    "SELECT \n",
    "   page_id,\n",
    "   SUM(view_count) AS views_1M_all\n",
    "FROM wmf.pageview_hourly \n",
    "WHERE \n",
    "  year = 2020\n",
    "  AND month = 02\n",
    "  AND agent_type = 'user'\n",
    "  AND project = 'sat.wikipedia'\n",
    "  AND page_id IN {satwiki_ids}\n",
    "GROUP BY page_id\n",
    "\"\"\".format(**quality_vars))\n",
    "\n",
    "ta_pvs_all_r = spark.run(\"\"\"\n",
    "SELECT \n",
    "   page_id,\n",
    "   SUM(view_count) AS views_1M_all\n",
    "FROM wmf.pageview_hourly \n",
    "WHERE \n",
    "  year = 2020\n",
    "  AND month = 02 \n",
    "  AND agent_type = 'user'\n",
    "  AND project = 'ta.wikipedia'\n",
    "  AND page_id IN {tawiki_ids}\n",
    "GROUP BY page_id\n",
    "\"\"\".format(**quality_vars))\n",
    "\n",
    "te_pvs_all_r = spark.run(\"\"\"\n",
    "SELECT \n",
    "   page_id,\n",
    "   SUM(view_count) AS views_1M_all\n",
    "FROM wmf.pageview_hourly \n",
    "WHERE \n",
    "  year = 2020\n",
    "  AND month = 02 \n",
    "  AND agent_type = 'user'\n",
    "  AND project = 'te.wikipedia'\n",
    "  AND page_id IN {tewiki_ids}\n",
    "GROUP BY page_id\n",
    "\"\"\".format(**quality_vars))\n",
    "\n",
    "tcy_pvs_all_r = spark.run(\"\"\"\n",
    "SELECT \n",
    "   page_id,\n",
    "   SUM(view_count) AS views_1M_all\n",
    "FROM wmf.pageview_hourly \n",
    "WHERE \n",
    "  year = 2020\n",
    "  AND month = 02\n",
    "  AND agent_type = 'user'\n",
    "  AND project = 'tcy.wikipedia'\n",
    "  AND page_id IN {tcywiki_ids}\n",
    "GROUP BY page_id\n",
    "\"\"\".format(**quality_vars))\n",
    "\n",
    "ur_pvs_all_r = spark.run(\"\"\"\n",
    "SELECT \n",
    "   page_id,\n",
    "   SUM(view_count) AS views_1M_all\n",
    "FROM wmf.pageview_hourly \n",
    "WHERE \n",
    "  year = 2020\n",
    "  AND month = 02\n",
    "  AND agent_type = 'user'\n",
    "  AND project = 'ur.wikipedia'\n",
    "  AND page_id IN {urwiki_ids}\n",
    "GROUP BY page_id\n",
    "\"\"\".format(**quality_vars))"
   ]
  },
  {
   "cell_type": "code",
   "execution_count": 14,
   "metadata": {},
   "outputs": [],
   "source": [
    "pa_pvs_all_r['wikicode'] = 'pawiki' \n",
    "ml_pvs_all_r['wikicode'] = 'mlwiki'\n",
    "hi_pvs_all_r['wikicode'] = 'hiwiki'\n",
    "or_pvs_all_r['wikicode'] = 'orwiki'\n",
    "ur_pvs_all_r['wikicode'] = 'urwiki'\n",
    "ta_pvs_all_r['wikicode'] = 'tawiki'\n",
    "kn_pvs_all_r['wikicode'] = 'knwiki'\n",
    "mr_pvs_all_r['wikicode'] = 'mrwiki'\n",
    "gu_pvs_all_r['wikicode'] = 'guwiki'\n",
    "te_pvs_all_r['wikicode'] = 'tewiki'\n",
    "bn_pvs_all_r['wikicode'] = 'bnwiki'\n",
    "tcy_pvs_all_r['wikicode'] = 'tcywiki'\n",
    "as_pvs_all_r['wikicode'] = 'aswiki'\n",
    "sa_pvs_all_r['wikicode'] = 'sawiki'\n",
    "sat_pvs_all_r['wikicode'] = 'satwiki'"
   ]
  },
  {
   "cell_type": "code",
   "execution_count": 433,
   "metadata": {},
   "outputs": [],
   "source": [
    "#test to gather all pageviews, not just those from India\n",
    "test = spark.run(\"\"\"\n",
    "SELECT \n",
    "   page_id,\n",
    "   SUM(view_count) AS views_1M\n",
    "FROM wmf.pageview_hourly \n",
    "WHERE \n",
    "  year = 2020\n",
    "  AND month = 02\n",
    "  AND agent_type = 'user'\n",
    "  AND project = 'sa.wikipedia'\n",
    "  AND page_id IN {sawiki_ids}\n",
    "GROUP BY page_id\n",
    "\"\"\".format(**quality_vars))"
   ]
  },
  {
   "cell_type": "code",
   "execution_count": 434,
   "metadata": {
    "collapsed": true,
    "jupyter": {
     "outputs_hidden": true
    }
   },
   "outputs": [
    {
     "data": {
      "text/html": [
       "<div>\n",
       "<style scoped>\n",
       "    .dataframe tbody tr th:only-of-type {\n",
       "        vertical-align: middle;\n",
       "    }\n",
       "\n",
       "    .dataframe tbody tr th {\n",
       "        vertical-align: top;\n",
       "    }\n",
       "\n",
       "    .dataframe thead th {\n",
       "        text-align: right;\n",
       "    }\n",
       "</style>\n",
       "<table border=\"1\" class=\"dataframe\">\n",
       "  <thead>\n",
       "    <tr style=\"text-align: right;\">\n",
       "      <th></th>\n",
       "      <th>page_id</th>\n",
       "      <th>views_1M</th>\n",
       "    </tr>\n",
       "  </thead>\n",
       "  <tbody>\n",
       "    <tr>\n",
       "      <th>0</th>\n",
       "      <td>68545</td>\n",
       "      <td>1</td>\n",
       "    </tr>\n",
       "    <tr>\n",
       "      <th>1</th>\n",
       "      <td>68538</td>\n",
       "      <td>8</td>\n",
       "    </tr>\n",
       "    <tr>\n",
       "      <th>2</th>\n",
       "      <td>2118</td>\n",
       "      <td>25</td>\n",
       "    </tr>\n",
       "    <tr>\n",
       "      <th>3</th>\n",
       "      <td>69010</td>\n",
       "      <td>6</td>\n",
       "    </tr>\n",
       "    <tr>\n",
       "      <th>4</th>\n",
       "      <td>58953</td>\n",
       "      <td>9</td>\n",
       "    </tr>\n",
       "    <tr>\n",
       "      <th>5</th>\n",
       "      <td>68809</td>\n",
       "      <td>3</td>\n",
       "    </tr>\n",
       "    <tr>\n",
       "      <th>6</th>\n",
       "      <td>68541</td>\n",
       "      <td>7</td>\n",
       "    </tr>\n",
       "    <tr>\n",
       "      <th>7</th>\n",
       "      <td>68756</td>\n",
       "      <td>8</td>\n",
       "    </tr>\n",
       "    <tr>\n",
       "      <th>8</th>\n",
       "      <td>68958</td>\n",
       "      <td>11</td>\n",
       "    </tr>\n",
       "    <tr>\n",
       "      <th>9</th>\n",
       "      <td>68536</td>\n",
       "      <td>3</td>\n",
       "    </tr>\n",
       "    <tr>\n",
       "      <th>10</th>\n",
       "      <td>68762</td>\n",
       "      <td>1</td>\n",
       "    </tr>\n",
       "    <tr>\n",
       "      <th>11</th>\n",
       "      <td>68729</td>\n",
       "      <td>3</td>\n",
       "    </tr>\n",
       "    <tr>\n",
       "      <th>12</th>\n",
       "      <td>68920</td>\n",
       "      <td>16</td>\n",
       "    </tr>\n",
       "    <tr>\n",
       "      <th>13</th>\n",
       "      <td>69054</td>\n",
       "      <td>9</td>\n",
       "    </tr>\n",
       "    <tr>\n",
       "      <th>14</th>\n",
       "      <td>16494</td>\n",
       "      <td>15</td>\n",
       "    </tr>\n",
       "    <tr>\n",
       "      <th>15</th>\n",
       "      <td>68537</td>\n",
       "      <td>5</td>\n",
       "    </tr>\n",
       "    <tr>\n",
       "      <th>16</th>\n",
       "      <td>68818</td>\n",
       "      <td>3</td>\n",
       "    </tr>\n",
       "    <tr>\n",
       "      <th>17</th>\n",
       "      <td>68788</td>\n",
       "      <td>3</td>\n",
       "    </tr>\n",
       "    <tr>\n",
       "      <th>18</th>\n",
       "      <td>68801</td>\n",
       "      <td>6</td>\n",
       "    </tr>\n",
       "  </tbody>\n",
       "</table>\n",
       "</div>"
      ],
      "text/plain": [
       "    page_id  views_1M\n",
       "0     68545         1\n",
       "1     68538         8\n",
       "2      2118        25\n",
       "3     69010         6\n",
       "4     58953         9\n",
       "5     68809         3\n",
       "6     68541         7\n",
       "7     68756         8\n",
       "8     68958        11\n",
       "9     68536         3\n",
       "10    68762         1\n",
       "11    68729         3\n",
       "12    68920        16\n",
       "13    69054         9\n",
       "14    16494        15\n",
       "15    68537         5\n",
       "16    68818         3\n",
       "17    68788         3\n",
       "18    68801         6"
      ]
     },
     "execution_count": 434,
     "metadata": {},
     "output_type": "execute_result"
    }
   ],
   "source": [
    "test"
   ]
  },
  {
   "cell_type": "raw",
   "metadata": {},
   "source": [
    "#data check with results from test above\n",
    "interim_frame.loc[(interim_frame['wikicode'] == 'sawiki') & (interim_frame['page_id']==68545)]"
   ]
  },
  {
   "cell_type": "code",
   "execution_count": null,
   "metadata": {},
   "outputs": [],
   "source": [
    "pdList = [as_pvs_r,\n",
    "        bn_pvs_r,\n",
    "        gu_pvs_r,\n",
    "        hi_pvs_r,\n",
    "        kn_pvs_r,\n",
    "        ml_pvs_r,\n",
    "        mr_pvs_r,\n",
    "        or_pvs_r,\n",
    "        pa_pvs_r,\n",
    "        sa_pvs_r,\n",
    "        sat_pvs_r,\n",
    "        ta_pvs_r,\n",
    "        te_pvs_r,\n",
    "        tcy_pvs_r,\n",
    "        ur_pvs_r\n",
    "] # List dataframes\n",
    "\n",
    "pv_df = pd.concat(pdList)\n",
    "\n",
    "pdList_all = [\n",
    "        as_pvs_all_r,\n",
    "        bn_pvs_all_r,\n",
    "        gu_pvs_all_r,\n",
    "        hi_pvs_all_r,\n",
    "        kn_pvs_all_r,\n",
    "        ml_pvs_all_r,\n",
    "        mr_pvs_all_r,\n",
    "        or_pvs_all_r,\n",
    "        pa_pvs_all_r,\n",
    "        sa_pvs_all_r,\n",
    "        sat_pvs_all_r,\n",
    "        ta_pvs_all_r,\n",
    "        te_pvs_all_r,\n",
    "        tcy_pvs_all_r,\n",
    "        ur_pvs_all_r\n",
    "] # List dataframes\n",
    "\n",
    "pv_all_df = pd.concat(pdList_all)"
   ]
  },
  {
   "cell_type": "code",
   "execution_count": 17,
   "metadata": {},
   "outputs": [],
   "source": [
    "#rename column\n",
    "pv_all_df.rename(columns={'views_1M':'views_1M_all'}, inplace = True)"
   ]
  },
  {
   "cell_type": "code",
   "execution_count": 11,
   "metadata": {},
   "outputs": [
    {
     "name": "stdout",
     "output_type": "stream",
     "text": [
      "<class 'pandas.core.frame.DataFrame'>\n",
      "Int64Index: 6002 entries, 0 to 869\n",
      "Data columns (total 3 columns):\n",
      "page_id     6002 non-null int32\n",
      "views_1M    6002 non-null int64\n",
      "wikicode    6002 non-null object\n",
      "dtypes: int32(1), int64(1), object(1)\n",
      "memory usage: 164.1+ KB\n"
     ]
    }
   ],
   "source": [
    "pv_df.info()"
   ]
  },
  {
   "cell_type": "code",
   "execution_count": 18,
   "metadata": {},
   "outputs": [
    {
     "name": "stdout",
     "output_type": "stream",
     "text": [
      "<class 'pandas.core.frame.DataFrame'>\n",
      "Int64Index: 8612 entries, 0 to 1334\n",
      "Data columns (total 3 columns):\n",
      "page_id         8612 non-null int32\n",
      "views_1M_all    8612 non-null int64\n",
      "wikicode        8612 non-null object\n",
      "dtypes: int32(1), int64(1), object(1)\n",
      "memory usage: 235.5+ KB\n"
     ]
    }
   ],
   "source": [
    "pv_all_df.info()"
   ]
  },
  {
   "cell_type": "code",
   "execution_count": 28,
   "metadata": {},
   "outputs": [],
   "source": [
    "#merge\n",
    "pv = pd.merge(pv_df, pv_all_df, on=['page_id', 'wikicode'], how=\"outer\").fillna(0)"
   ]
  },
  {
   "cell_type": "code",
   "execution_count": 29,
   "metadata": {},
   "outputs": [
    {
     "name": "stdout",
     "output_type": "stream",
     "text": [
      "<class 'pandas.core.frame.DataFrame'>\n",
      "Int64Index: 8612 entries, 0 to 8611\n",
      "Data columns (total 4 columns):\n",
      "page_id         8612 non-null int64\n",
      "views_1M        8612 non-null float64\n",
      "wikicode        8612 non-null object\n",
      "views_1M_all    8612 non-null int64\n",
      "dtypes: float64(1), int64(2), object(1)\n",
      "memory usage: 336.4+ KB\n"
     ]
    }
   ],
   "source": [
    "pv.info()"
   ]
  },
  {
   "cell_type": "code",
   "execution_count": 30,
   "metadata": {},
   "outputs": [
    {
     "data": {
      "text/html": [
       "<div>\n",
       "<style scoped>\n",
       "    .dataframe tbody tr th:only-of-type {\n",
       "        vertical-align: middle;\n",
       "    }\n",
       "\n",
       "    .dataframe tbody tr th {\n",
       "        vertical-align: top;\n",
       "    }\n",
       "\n",
       "    .dataframe thead th {\n",
       "        text-align: right;\n",
       "    }\n",
       "</style>\n",
       "<table border=\"1\" class=\"dataframe\">\n",
       "  <thead>\n",
       "    <tr style=\"text-align: right;\">\n",
       "      <th></th>\n",
       "      <th>page_id</th>\n",
       "      <th>views_1M</th>\n",
       "      <th>wikicode</th>\n",
       "      <th>views_1M_all</th>\n",
       "    </tr>\n",
       "  </thead>\n",
       "  <tbody>\n",
       "  </tbody>\n",
       "</table>\n",
       "</div>"
      ],
      "text/plain": [
       "Empty DataFrame\n",
       "Columns: [page_id, views_1M, wikicode, views_1M_all]\n",
       "Index: []"
      ]
     },
     "execution_count": 30,
     "metadata": {},
     "output_type": "execute_result"
    }
   ],
   "source": [
    "pv[pv.duplicated()]"
   ]
  },
  {
   "cell_type": "code",
   "execution_count": 31,
   "metadata": {},
   "outputs": [],
   "source": [
    "dupe_check = pv[pv.duplicated(['page_id', 'wikicode'])]"
   ]
  },
  {
   "cell_type": "code",
   "execution_count": 32,
   "metadata": {},
   "outputs": [
    {
     "data": {
      "text/plain": [
       "0"
      ]
     },
     "execution_count": 32,
     "metadata": {},
     "output_type": "execute_result"
    }
   ],
   "source": [
    "len(dupe_check)"
   ]
  },
  {
   "cell_type": "code",
   "execution_count": 33,
   "metadata": {},
   "outputs": [],
   "source": [
    "pv.to_csv(\"../../data/processed/query_results/content_quality/pv.csv\", sep=',', encoding = 'utf-8', index=False) "
   ]
  },
  {
   "cell_type": "markdown",
   "metadata": {},
   "source": [
    "# Assess collected data"
   ]
  },
  {
   "cell_type": "markdown",
   "metadata": {},
   "source": [
    "## Interim"
   ]
  },
  {
   "cell_type": "code",
   "execution_count": 22,
   "metadata": {},
   "outputs": [],
   "source": [
    "#remove faulty column\n",
    "del interim_frame['views_1m']"
   ]
  },
  {
   "cell_type": "code",
   "execution_count": 23,
   "metadata": {},
   "outputs": [],
   "source": [
    "#interim_frame['at_edits'] = interim_frame['at_edits'].astype('bool')"
   ]
  },
  {
   "cell_type": "raw",
   "metadata": {},
   "source": [
    "interim_frame[interim_frame == 0].count(axis=0)/len(interim_frame.index)"
   ]
  },
  {
   "cell_type": "code",
   "execution_count": 24,
   "metadata": {},
   "outputs": [
    {
     "data": {
      "text/plain": [
       "array(['new', 'expanded'], dtype=object)"
      ]
     },
     "execution_count": 24,
     "metadata": {},
     "output_type": "execute_result"
    }
   ],
   "source": [
    "interim_frame.article_type.unique()"
   ]
  },
  {
   "cell_type": "code",
   "execution_count": 25,
   "metadata": {},
   "outputs": [
    {
     "data": {
      "text/plain": [
       "3459"
      ]
     },
     "execution_count": 25,
     "metadata": {},
     "output_type": "execute_result"
    }
   ],
   "source": [
    "interim_frame.duplicated(subset=['page_id', 'wikicode', 'page_title'], keep=False).sum()"
   ]
  },
  {
   "cell_type": "code",
   "execution_count": 26,
   "metadata": {},
   "outputs": [],
   "source": [
    "#drop dupes\n",
    "interim_frame = interim_frame.drop_duplicates(subset=['page_id', 'wikicode', 'page_title'], keep='first')"
   ]
  },
  {
   "cell_type": "markdown",
   "metadata": {},
   "source": [
    "#### translation column to boolean"
   ]
  },
  {
   "cell_type": "code",
   "execution_count": 27,
   "metadata": {},
   "outputs": [
    {
     "data": {
      "text/plain": [
       "array(['0', \"['contenttranslation', 'contenttranslation-v2']\",\n",
       "       \"['contenttranslation']\",\n",
       "       \"['mw-removed-redirect', 'contenttranslation', 'contenttranslation-v2']\",\n",
       "       0,\n",
       "       \"['انگریزی عنوان', 'contenttranslation', 'contenttranslation-v2']\",\n",
       "       \"['campaign-external-machine-translation', 'contenttranslation', 'contenttranslation-v2']\",\n",
       "       \"['अनावश्यक nowiki टॅग', 'contenttranslation', 'contenttranslation-v2']\"],\n",
       "      dtype=object)"
      ]
     },
     "execution_count": 27,
     "metadata": {},
     "output_type": "execute_result"
    }
   ],
   "source": [
    "interim_frame['at_edits'].unique()"
   ]
  },
  {
   "cell_type": "code",
   "execution_count": 28,
   "metadata": {},
   "outputs": [
    {
     "data": {
      "text/plain": [
       "array([0])"
      ]
     },
     "execution_count": 28,
     "metadata": {},
     "output_type": "execute_result"
    }
   ],
   "source": [
    "interim_frame.at_create.unique()"
   ]
  },
  {
   "cell_type": "code",
   "execution_count": 29,
   "metadata": {},
   "outputs": [
    {
     "data": {
      "text/plain": [
       "True"
      ]
     },
     "execution_count": 29,
     "metadata": {},
     "output_type": "execute_result"
    }
   ],
   "source": [
    "#Are all values zero?\n",
    "(interim_frame['at_create'] == 0).all()"
   ]
  },
  {
   "cell_type": "code",
   "execution_count": 30,
   "metadata": {},
   "outputs": [],
   "source": [
    "del interim_frame['at_create']"
   ]
  },
  {
   "cell_type": "code",
   "execution_count": 31,
   "metadata": {},
   "outputs": [],
   "source": [
    "interim_frame['translation_tool'] = np.where(interim_frame.at_edits.str.len()>1, True, False)"
   ]
  },
  {
   "cell_type": "code",
   "execution_count": 32,
   "metadata": {},
   "outputs": [],
   "source": [
    "#create URL, article info, and page info URL columns\n",
    "interim_frame['url'] = interim_frame.wikicode.replace({'wiki':'.wiki'}, regex=True)\n",
    "\n",
    "interim_frame['url_article_info'] = 'https://xtools.wmflabs.org/articleinfo/'+interim_frame['url']\n",
    "interim_frame['url_article_info'] = interim_frame['url_article_info']+ 'pedia.org/' \n",
    "interim_frame['url_article_info'] = interim_frame['url_article_info'] +interim_frame['page_title'] \n",
    "\n",
    "interim_frame['url'] = 'https://' + interim_frame['url'] +'pedia.org/wiki/' \n",
    "interim_frame['url'] = interim_frame['url'] + interim_frame['page_title']\n",
    "\n",
    "#interim_frame['url_page_info'] = interim_frame['url'] + '&action=info'"
   ]
  },
  {
   "cell_type": "code",
   "execution_count": 36,
   "metadata": {},
   "outputs": [],
   "source": [
    "#merge interim_frame with pv_df\n",
    "interim_frame_pv = interim_frame.merge(pv, how=\"left\", on=['page_id', 'wikicode']).fillna(0)"
   ]
  },
  {
   "cell_type": "code",
   "execution_count": 38,
   "metadata": {},
   "outputs": [],
   "source": [
    "interim_frame_pv.to_csv(\"../../data/processed/query_results/content_quality/interim_frame_updated.csv\", sep=',', encoding = 'utf-8', index=False) "
   ]
  },
  {
   "cell_type": "markdown",
   "metadata": {},
   "source": [
    "## Full frame"
   ]
  },
  {
   "cell_type": "code",
   "execution_count": 42,
   "metadata": {},
   "outputs": [
    {
     "data": {
      "text/plain": [
       "3"
      ]
     },
     "execution_count": 42,
     "metadata": {},
     "output_type": "execute_result"
    }
   ],
   "source": [
    "#look for dupes\n",
    "final_frame.duplicated(subset=['page_id', 'wikicode', 'page_title'], keep=False).sum()"
   ]
  },
  {
   "cell_type": "code",
   "execution_count": 52,
   "metadata": {},
   "outputs": [
    {
     "data": {
      "text/plain": [
       "2"
      ]
     },
     "execution_count": 52,
     "metadata": {},
     "output_type": "execute_result"
    }
   ],
   "source": [
    "final_frame.duplicated(subset=['page_id', 'wikicode'], keep='first').sum()"
   ]
  },
  {
   "cell_type": "code",
   "execution_count": 43,
   "metadata": {},
   "outputs": [],
   "source": [
    "final_frame_dupes = pd.concat(g for _, g in final_frame.groupby(['page_id', 'wikicode']) if len(g) > 1)"
   ]
  },
  {
   "cell_type": "code",
   "execution_count": 44,
   "metadata": {},
   "outputs": [
    {
     "data": {
      "text/plain": [
       "1"
      ]
     },
     "execution_count": 44,
     "metadata": {},
     "output_type": "execute_result"
    }
   ],
   "source": [
    "#identify potential wikis whose articles are the ones duplicated\n",
    "len(final_frame_dupes.wikicode.unique())"
   ]
  },
  {
   "cell_type": "code",
   "execution_count": 45,
   "metadata": {},
   "outputs": [
    {
     "data": {
      "text/plain": [
       "array(['mrwiki'], dtype=object)"
      ]
     },
     "execution_count": 45,
     "metadata": {},
     "output_type": "execute_result"
    }
   ],
   "source": [
    "final_frame_dupes.wikicode.unique()"
   ]
  },
  {
   "cell_type": "code",
   "execution_count": 47,
   "metadata": {},
   "outputs": [],
   "source": [
    "#ff_pa = pd.read_csv('../../data/raw/articles/2019/query_results/content_quality/per_wiki_full/pa_articles.csv')"
   ]
  },
  {
   "cell_type": "code",
   "execution_count": 48,
   "metadata": {},
   "outputs": [],
   "source": [
    "ff_mr = pd.read_csv('../../data/raw/articles/2019/query_results/content_quality/per_wiki_full/mr_articles.csv')"
   ]
  },
  {
   "cell_type": "code",
   "execution_count": 49,
   "metadata": {},
   "outputs": [
    {
     "data": {
      "text/plain": [
       "122"
      ]
     },
     "execution_count": 49,
     "metadata": {},
     "output_type": "execute_result"
    }
   ],
   "source": [
    "len(ff_mr)"
   ]
  },
  {
   "cell_type": "code",
   "execution_count": 51,
   "metadata": {},
   "outputs": [],
   "source": [
    "#check to see that this mirrors or is in line with the number of approved articles\n",
    "#len(ff_pa)"
   ]
  },
  {
   "cell_type": "markdown",
   "metadata": {},
   "source": [
    "## clean"
   ]
  },
  {
   "cell_type": "code",
   "execution_count": 54,
   "metadata": {},
   "outputs": [],
   "source": [
    "#remove faulty column data\n",
    "del final_frame['views_1m']"
   ]
  },
  {
   "cell_type": "code",
   "execution_count": 55,
   "metadata": {},
   "outputs": [],
   "source": [
    "#drop dupes\n",
    "final_frame = final_frame.drop_duplicates(subset=['page_id', 'wikicode', 'page_title'], keep='first')"
   ]
  },
  {
   "cell_type": "code",
   "execution_count": 56,
   "metadata": {},
   "outputs": [
    {
     "data": {
      "text/plain": [
       "0"
      ]
     },
     "execution_count": 56,
     "metadata": {},
     "output_type": "execute_result"
    }
   ],
   "source": [
    "#check for dupes again to make sure the above worked\n",
    "final_frame.duplicated(subset=['page_id', 'wikicode', 'page_title'], keep=False).sum()"
   ]
  },
  {
   "cell_type": "code",
   "execution_count": 57,
   "metadata": {},
   "outputs": [
    {
     "data": {
      "text/plain": [
       "array(['new', 'expanded'], dtype=object)"
      ]
     },
     "execution_count": 57,
     "metadata": {},
     "output_type": "execute_result"
    }
   ],
   "source": [
    "final_frame.article_type.unique()"
   ]
  },
  {
   "cell_type": "code",
   "execution_count": 58,
   "metadata": {},
   "outputs": [],
   "source": [
    "#remove expanded rows\n",
    "final_frame_updated = final_frame[~final_frame.article_type.str.contains(\"expanded\")]"
   ]
  },
  {
   "cell_type": "code",
   "execution_count": 59,
   "metadata": {},
   "outputs": [
    {
     "data": {
      "text/plain": [
       "array(['new'], dtype=object)"
      ]
     },
     "execution_count": 59,
     "metadata": {},
     "output_type": "execute_result"
    }
   ],
   "source": [
    "final_frame_updated.article_type.unique()"
   ]
  },
  {
   "cell_type": "code",
   "execution_count": 60,
   "metadata": {},
   "outputs": [
    {
     "data": {
      "text/plain": [
       "wikicode                    0\n",
       "page_id                     0\n",
       "page_title                  0\n",
       "page_len                    0\n",
       "relative_page_len           0\n",
       "at_edits                    0\n",
       "at_create                   0\n",
       "QID                         0\n",
       "first_edited                0\n",
       "article_type                0\n",
       "editors_1stM                0\n",
       "edits_1M                    0\n",
       "num_edits_all_time          0\n",
       "minor_edits_all_time        0\n",
       "last_edited                 0\n",
       "all_editors_of_all_edits    0\n",
       "editors_nm                  0\n",
       "IP_editors                  0\n",
       "micro_editors               0\n",
       "talk_page_edits             0\n",
       "watch_count                 0\n",
       "revertrate                  0\n",
       "oplinks                     0\n",
       "oelinks                     0\n",
       "ipl_count                   0\n",
       "iwsitelinks                 0\n",
       "iwsites                     0\n",
       "dtype: int64"
      ]
     },
     "execution_count": 60,
     "metadata": {},
     "output_type": "execute_result"
    }
   ],
   "source": [
    "final_frame_updated.isna().sum()"
   ]
  },
  {
   "cell_type": "code",
   "execution_count": 76,
   "metadata": {},
   "outputs": [],
   "source": [
    "final_frame_updated_pv = final_frame_updated.merge(pv, how=\"left\", on=['page_id', 'wikicode']).fillna(0)"
   ]
  },
  {
   "cell_type": "markdown",
   "metadata": {},
   "source": [
    "## translation column to boolean"
   ]
  },
  {
   "cell_type": "code",
   "execution_count": 78,
   "metadata": {},
   "outputs": [
    {
     "data": {
      "text/plain": [
       "array(['0', \"['contenttranslation', 'contenttranslation-v2']\",\n",
       "       \"['contenttranslation']\",\n",
       "       \"['अनावश्यक nowiki टॅग', 'contenttranslation', 'contenttranslation-v2']\",\n",
       "       \"['campaign-external-machine-translation', 'contenttranslation', 'contenttranslation-v2']\",\n",
       "       0,\n",
       "       \"['انگریزی عنوان', 'contenttranslation', 'contenttranslation-v2']\"],\n",
       "      dtype=object)"
      ]
     },
     "execution_count": 78,
     "metadata": {},
     "output_type": "execute_result"
    }
   ],
   "source": [
    "final_frame_updated_pv['at_edits'].unique()"
   ]
  },
  {
   "cell_type": "code",
   "execution_count": 79,
   "metadata": {},
   "outputs": [
    {
     "data": {
      "text/plain": [
       "array([0])"
      ]
     },
     "execution_count": 79,
     "metadata": {},
     "output_type": "execute_result"
    }
   ],
   "source": [
    "final_frame_updated_pv.at_create.unique()"
   ]
  },
  {
   "cell_type": "code",
   "execution_count": 80,
   "metadata": {},
   "outputs": [
    {
     "data": {
      "text/plain": [
       "True"
      ]
     },
     "execution_count": 80,
     "metadata": {},
     "output_type": "execute_result"
    }
   ],
   "source": [
    "#Are all values zero?\n",
    "(final_frame_updated_pv['at_create'] == 0).all()"
   ]
  },
  {
   "cell_type": "code",
   "execution_count": 81,
   "metadata": {},
   "outputs": [],
   "source": [
    "final_frame_updated_pv['translation_tool'] = np.where(final_frame_updated_pv.at_edits.str.len()>1, True, False)"
   ]
  },
  {
   "cell_type": "code",
   "execution_count": 82,
   "metadata": {},
   "outputs": [],
   "source": [
    "#create URL, article info, and page info URL columns\n",
    "final_frame_updated_pv['url'] = final_frame_updated_pv.wikicode.replace({'wiki':'.wiki'}, regex=True)\n",
    "\n",
    "final_frame_updated_pv['url_article_info'] = 'https://xtools.wmflabs.org/articleinfo/'+final_frame_updated_pv['url']\n",
    "final_frame_updated_pv['url_article_info'] = final_frame_updated_pv['url_article_info']+ 'pedia.org/' \n",
    "final_frame_updated_pv['url_article_info'] = final_frame_updated_pv['url_article_info'] +final_frame_updated_pv['page_title'] \n",
    "\n",
    "final_frame_updated_pv['url'] = 'https://' + final_frame_updated_pv['url'] +'pedia.org/wiki/' \n",
    "final_frame_updated_pv['url'] = final_frame_updated_pv['url'] + final_frame_updated_pv['page_title']\n",
    "\n",
    "#final_frame_updated_pv['url_page_info'] = final_frame_updated_pv['url'] + '&action=info'\n"
   ]
  },
  {
   "cell_type": "code",
   "execution_count": 83,
   "metadata": {},
   "outputs": [],
   "source": [
    "cols_u = [\n",
    "'wikicode',\n",
    "'page_title',\n",
    "'url',\n",
    "'url_article_info',\n",
    "'page_id',\n",
    "'at_edits',\n",
    "'translation_tool',\n",
    "'QID',    \n",
    "'iwsitelinks',\n",
    "'iwsites', \n",
    "'article_type',    \n",
    "'page_len',\n",
    "'relative_page_len',\n",
    "'num_edits_all_time',\n",
    "'all_editors_of_all_edits',  \n",
    "'views_1M', \n",
    "'views_1M_all',    \n",
    "'editors_1stM',\n",
    "'edits_1M',\n",
    "'minor_edits_all_time',\n",
    "'editors_nm',\n",
    "'IP_editors',\n",
    "'micro_editors',\n",
    "'revertrate',    \n",
    "'first_edited',\n",
    "'last_edited',\n",
    "'talk_page_edits',\n",
    "'watch_count',\n",
    "'oplinks',\n",
    "'oelinks',\n",
    "'ipl_count',\n",
    "]"
   ]
  },
  {
   "cell_type": "code",
   "execution_count": 84,
   "metadata": {},
   "outputs": [],
   "source": [
    "#reorder df\n",
    "final_frame_updated_pv = final_frame_updated_pv[cols_u]"
   ]
  },
  {
   "cell_type": "code",
   "execution_count": 85,
   "metadata": {},
   "outputs": [],
   "source": [
    "#rename columns\n",
    "\n",
    "final_frame_updated_pv.rename(columns={\n",
    "                                    'num_edits_all_time':'total_edits', \n",
    "                                    'all_editors_of_all_edits':'editors',\n",
    "                                    'minor_edits_all_time': 'minor_edits',\n",
    "                                    'editors_nm': 'major_editors',\n",
    "                                    'oelinks': 'o_external_links',\n",
    "                                    'ipl_count':'incoming_links',\n",
    "                                    'oplinks':'o_internal_links'\n",
    "                                    }, \n",
    "                                    inplace = True)"
   ]
  },
  {
   "cell_type": "code",
   "execution_count": 89,
   "metadata": {},
   "outputs": [],
   "source": [
    "final_frame_updated_pv['QID'] = final_frame_updated_pv['QID'].astype(int)\n",
    "final_frame_updated_pv['QID'] = 'Q' + final_frame_updated_pv['QID'].astype(str)\n",
    "\n",
    "final_frame_updated_pv_topics = final_frame_updated_pv.merge(topics, on=['page_title', 'QID'], how=\"left\").fillna(0);"
   ]
  },
  {
   "cell_type": "markdown",
   "metadata": {},
   "source": [
    "# to csv"
   ]
  },
  {
   "cell_type": "code",
   "execution_count": 93,
   "metadata": {},
   "outputs": [],
   "source": [
    "final_frame_updated_pv_topics.to_csv(\"../../data/processed/query_results/content_quality/final_frame_updated_pv_topcs.csv\", sep=',', encoding = 'utf-8', index=False)"
   ]
  },
  {
   "cell_type": "markdown",
   "metadata": {},
   "source": [
    "#### Check data accuracy"
   ]
  },
  {
   "cell_type": "raw",
   "metadata": {},
   "source": [
    "final_frame_updated_pv.sample(18)"
   ]
  },
  {
   "cell_type": "code",
   "execution_count": null,
   "metadata": {},
   "outputs": [],
   "source": [
    "# (articles==0).astype(int).sum()"
   ]
  },
  {
   "cell_type": "code",
   "execution_count": null,
   "metadata": {},
   "outputs": [],
   "source": [
    "# AND rev_timestamp <= DATE_ADD(day, 29, first_edit)\n",
    "#DATE_ADD('2010-12-31 23:59:59', INTERVAL 1 DAY) \n",
    "#HAVING DATE_FORMAT(rev_timestamp,\"%y-%m-%d\") <= DATE_ADD(DATE_FORMAT(MIN(rev_timestamp),\"%y-%m-%d\"), INTERVAL 1 MONTH)\n",
    "#--rev_id <= DATEADD(day, 29, page_first_edit_timestamp)\n",
    "#where mydate between '2015-10-02' and dateadd(d, 2, '2015-10-02')\n",
    "#--WHERE where edit_date between DATE_FORMAT(page_first_edit_timestamp,\"%y-%m-%d\") and dateadd(d, 29, DATE_FORMAT(page_first_edit_timestamp,\"%y-%m-%d\"))\n",
    "#--WHERE edit_date <= DATE_ADD(month, 1, first_edit_date)"
   ]
  },
  {
   "cell_type": "code",
   "execution_count": null,
   "metadata": {},
   "outputs": [],
   "source": [
    "#interwiki links review"
   ]
  },
  {
   "cell_type": "raw",
   "metadata": {},
   "source": [
    "# manual check to see if item Q440 has 111 interwiki site links\n",
    "articles.loc[articles['q_id']==440]"
   ]
  },
  {
   "cell_type": "raw",
   "metadata": {},
   "source": [
    "# https://xtools.wmflabs.org/articleinfo/pa.wikipedia.org/ਸਲਵਾਦੋਰ_ਅਲੀਐਂਦੇ\n",
    "#https://xtools.wmflabs.org/articleinfo/pa.wikipedia.org/.ਹੈਕ_(ਵੀਡੀਓ_ਗੇਮ_ਸੀਰੀਜ਼)"
   ]
  },
  {
   "cell_type": "code",
   "execution_count": null,
   "metadata": {},
   "outputs": [],
   "source": [
    "# check the validity manually by checking page_id to get title and checking the articleinfo tool \n",
    "#articles.loc[articles['page_id']==108735]\n",
    "#also: https://xtools.wmflabs.org/articleinfo/pa.wikipedia.org/ਲਵੰਨਮ"
   ]
  },
  {
   "cell_type": "raw",
   "metadata": {},
   "source": [
    "# https://xtools.wmflabs.org/articleinfo/pa.wikipedia.org/ੲੇਂਜ਼ੋ_ਫੇਰਾਰੀ\n",
    "    2 editors, zero ip edits, zero bot edits\n",
    "\n",
    "#https://xtools.wmflabs.org/articleinfo/pa.wikipedia.org/ੳੁਪ_ਨਗਰ\n",
    "    \t108203\tੳੁਪ_ਨਗਰ\tright\n",
    "        106620\tੳੁੱਚੀ_ਛਾਲ\tright\n",
    "        104749\t2012_(ਫ਼ਿਲਮ)\tright"
   ]
  },
  {
   "cell_type": "code",
   "execution_count": null,
   "metadata": {},
   "outputs": [],
   "source": [
    "# check the validity manually by checking page_id to get title and checking the articleinfo tool \n",
    "#articles.loc[articles['page_id']==108220]\n",
    "#also: https://xtools.wmflabs.org/articleinfo/pa.wikipedia.org/ਬ੍ਰਾਇਨ_ਦੇ_ਪਾਲਮਾ\n",
    "\n",
    "#articles.loc[articles['page_id']==3673]\n",
    "#https://xtools.wmflabs.org/articleinfo/pa.wikipedia.org/ਸ਼ੁੱਕਰ_(ਗ੍ਰਹਿ)\n",
    "#https://pa.wikipedia.org/w/index.php?title=ਸ਼ੁੱਕਰ_(ਗ੍ਰਹਿ)&action=history\n",
    "\n",
    "#articles.loc[articles['page_id']==2320]\n",
    "#https://xtools.wmflabs.org/articleinfo/pa.wikipedia.org/ਯੂਰਪ\n",
    "#https://pa.wikipedia.org/w/index.php?title=ਯੂਰਪ&action=history"
   ]
  },
  {
   "cell_type": "raw",
   "metadata": {},
   "source": [
    "# check validity of results manually by pulling rev ids and ips \n",
    "\n",
    "check_tuipe_r = wmf.mariadb.run(\"\"\"\n",
    "SELECT \n",
    "  revision.rev_page AS page_id, revactor_actor, actor_name\n",
    "FROM revision\n",
    "  JOIN revision_actor_temp ON (rev_id = revactor_rev)\n",
    "  JOIN actor ON (revactor_actor = actor_id)\n",
    "WHERE (rev_deleted & 4) = 0\n",
    "  AND actor_user IS NULL -- non-registered user\n",
    "  AND revision.rev_page IN (7040)\n",
    "\"\"\", \"pawiki\")"
   ]
  },
  {
   "cell_type": "code",
   "execution_count": null,
   "metadata": {},
   "outputs": [],
   "source": [
    "# locate a page_id for a manual check of page to see that the numbers make sense\n",
    "#https://pa.wikipedia.org/w/index.php?title=ਸਕਾਰਲੈਟ_ਜੋਹਾਨਸਨ&action=history\n",
    "#http://pa.wikipedia.org/wiki/ਸਕਾਰਲੈਟ_ਜੋਹਾਨਸਨ\n",
    "#https://xtools.wmflabs.org/articleinfo/pa.wikipedia.org/ਸਕਾਰਲੈਟ_ਜੋਹਾਨਸਨ"
   ]
  },
  {
   "cell_type": "code",
   "execution_count": null,
   "metadata": {},
   "outputs": [],
   "source": [
    "#review incoming pagelinks"
   ]
  },
  {
   "cell_type": "raw",
   "metadata": {},
   "source": [
    "# test result\n",
    "#test method 1: http://dispenser.info.tm/~dispenser/cgi-bin/backlinkscount.py?title=%E0%A8%AF%E0%A9%82%E0%A8%B0%E0%A8%AA&filter=nonredirects&db=pawiki\n",
    "#test method 2:\n",
    "incoming_pagelinks.loc[incoming_pagelinks['page_id'] == 2320]"
   ]
  },
  {
   "cell_type": "raw",
   "metadata": {},
   "source": [
    "# test method 2:\n",
    "test3 = incoming_pagelinks_r.loc[incoming_pagelinks_r['page_id'] == 2320]\n",
    "test3.info()"
   ]
  },
  {
   "cell_type": "markdown",
   "metadata": {},
   "source": [
    "### archive pageview data cleaning"
   ]
  },
  {
   "cell_type": "raw",
   "metadata": {},
   "source": [
    "# articles['pv_proportion_all']= articles['views_l2m_all']/articles['views_l2m_all'].sum()\n",
    "articles['pv_proportion_in']= articles['views_l2m']/articles['views_l2m'].sum()\n",
    "pv_topics_all = articles.sort_values(by='views_l2m_all', ascending=False)\n",
    "pv_topics_in = articles.sort_values(by='views_l2m', ascending=False)"
   ]
  },
  {
   "cell_type": "raw",
   "metadata": {},
   "source": [
    "# enwiki_page_sept_summary = enwiki_pv_topic_sept[['page_id','pageviews','proportion','predicted']].sort_values(by='pageviews', ascending=False).reset_index(drop=True).head(50)"
   ]
  },
  {
   "cell_type": "raw",
   "metadata": {},
   "source": [
    "# articles_topic_summary = (df[df.page_id != 'Main_Page']\n",
    "          .groupby('lname1', as_index = False)['pageviews', 'proportion']\n",
    "          .sum()\n",
    "          .sort_values(by='pageviews', ascending=False))"
   ]
  },
  {
   "cell_type": "raw",
   "metadata": {},
   "source": [
    "create mask for new articles only ...expanded"
   ]
  },
  {
   "cell_type": "markdown",
   "metadata": {},
   "source": [
    "## TO DO"
   ]
  },
  {
   "cell_type": "code",
   "execution_count": null,
   "metadata": {},
   "outputs": [],
   "source": []
  }
 ],
 "metadata": {
  "kernelspec": {
   "display_name": "Python 3",
   "language": "python",
   "name": "python3"
  },
  "language_info": {
   "codemirror_mode": {
    "name": "ipython",
    "version": 3
   },
   "file_extension": ".py",
   "mimetype": "text/x-python",
   "name": "python",
   "nbconvert_exporter": "python",
   "pygments_lexer": "ipython3",
   "version": "3.5.3"
  }
 },
 "nbformat": 4,
 "nbformat_minor": 4
}
