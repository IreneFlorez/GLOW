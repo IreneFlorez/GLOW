{
 "cells": [
  {
   "cell_type": "markdown",
   "metadata": {},
   "source": [
    "# process/get contest editors region"
   ]
  },
  {
   "cell_type": "code",
   "execution_count": 67,
   "metadata": {},
   "outputs": [],
   "source": [
    "from pyspark.sql.types import ArrayType, StringType\n",
    "\n",
    "from pyspark.context import SparkContext\n",
    "from pyspark.sql.session import SparkSession\n",
    "\n",
    "import datetime as dt\n",
    "\n",
    "import pandas as pd\n",
    "import numpy as np"
   ]
  },
  {
   "cell_type": "code",
   "execution_count": 130,
   "metadata": {},
   "outputs": [
    {
     "name": "stdout",
     "output_type": "stream",
     "text": [
      "Stored 'query_vars' (dict)\n",
      "Stored 'quality_vars' (dict)\n"
     ]
    }
   ],
   "source": [
    "%run 2b_data_handling.ipynb\n",
    "%run 8a_collect_contest_editors_region.ipynb"
   ]
  },
  {
   "cell_type": "markdown",
   "metadata": {},
   "source": [
    "#### Editors<a class=\"anchor\" id=\"editors\"></a>\n",
    "[Back to Table of Contents](#toc)"
   ]
  },
  {
   "cell_type": "code",
   "execution_count": 3,
   "metadata": {},
   "outputs": [],
   "source": [
    "mce_contest = spark.sql(mce_contest_r.format(**query_vars)).toPandas()"
   ]
  },
  {
   "cell_type": "code",
   "execution_count": 4,
   "metadata": {},
   "outputs": [],
   "source": [
    "mce_pre = spark.sql(mce_pre_r.format(**query_vars)).toPandas()"
   ]
  },
  {
   "cell_type": "code",
   "execution_count": 5,
   "metadata": {},
   "outputs": [],
   "source": [
    "mnae_contest = spark.sql(mnae_contest_r.format(**query_vars)).toPandas()"
   ]
  },
  {
   "cell_type": "code",
   "execution_count": 6,
   "metadata": {},
   "outputs": [],
   "source": [
    "mnae_pre = spark.sql(mnae_pre_r.format(**query_vars)).toPandas()"
   ]
  },
  {
   "cell_type": "code",
   "execution_count": null,
   "metadata": {},
   "outputs": [],
   "source": [
    "mae_contest = spark.sql(mae_contest_r.format(**query_vars)).toPandas()"
   ]
  },
  {
   "cell_type": "code",
   "execution_count": 8,
   "metadata": {},
   "outputs": [],
   "source": [
    "mae_pre = spark.sql(mae_pre_r.format(**query_vars)).toPandas()"
   ]
  },
  {
   "cell_type": "code",
   "execution_count": 9,
   "metadata": {},
   "outputs": [],
   "source": [
    "ner_contest = spark.sql(ner_contest_r.format(**query_vars)).toPandas()"
   ]
  },
  {
   "cell_type": "code",
   "execution_count": 10,
   "metadata": {},
   "outputs": [],
   "source": [
    "ner_pre = spark.sql(ner_pre_r.format(**query_vars)).toPandas()"
   ]
  },
  {
   "cell_type": "code",
   "execution_count": 11,
   "metadata": {},
   "outputs": [],
   "source": [
    "contest_dfs = [mce_contest, mnae_contest, mae_contest, ner_contest]\n",
    "pre_dfs = [mce_pre, mnae_pre, mae_pre, ner_contest]\n",
    "\n",
    "contest_editors_region = pd.concat(contest_dfs, axis=1)\n",
    "pre_contest_editors_region = pd.concat(pre_dfs, axis=1)"
   ]
  },
  {
   "cell_type": "raw",
   "metadata": {},
   "source": [
    "pre_contest_editors_region"
   ]
  },
  {
   "cell_type": "raw",
   "metadata": {},
   "source": [
    "contest_editors_region"
   ]
  },
  {
   "cell_type": "markdown",
   "metadata": {},
   "source": [
    "## save to csv"
   ]
  },
  {
   "cell_type": "code",
   "execution_count": 14,
   "metadata": {},
   "outputs": [],
   "source": [
    "contest_editors_region.to_csv(\"../../data/processed/query_results/regional_counts/baseline/contest_editors_region.csv\", sep=',', encoding = 'utf-8', index=False)"
   ]
  },
  {
   "cell_type": "code",
   "execution_count": 15,
   "metadata": {},
   "outputs": [],
   "source": [
    "pre_contest_editors_region.to_csv(\"../../data/processed/query_results/regional_counts/baseline/pre_contest_editors_region.csv\", sep=',', encoding = 'utf-8', index=False)"
   ]
  },
  {
   "cell_type": "markdown",
   "metadata": {},
   "source": [
    "### Editor registrations"
   ]
  },
  {
   "cell_type": "code",
   "execution_count": 71,
   "metadata": {},
   "outputs": [],
   "source": [
    "editor_reg_contest_2019_raw = spark.sql(editor_reg_contest_2019_r.format(**query_vars)).toPandas()"
   ]
  },
  {
   "cell_type": "code",
   "execution_count": null,
   "metadata": {},
   "outputs": [],
   "source": [
    "editor_reg_contest_2019_raw['username'].nunique()"
   ]
  },
  {
   "cell_type": "code",
   "execution_count": 72,
   "metadata": {},
   "outputs": [],
   "source": [
    "editor_reg_contest_2019_raw['reg_date'] = pd.to_datetime(editor_reg_contest_2019_raw['reg_date'])"
   ]
  },
  {
   "cell_type": "code",
   "execution_count": null,
   "metadata": {},
   "outputs": [],
   "source": [
    "ud = editor_reg_contest_2019_raw['username']\n",
    "raw_dupes = editor_reg_contest_2019_raw[ud.isin(ud[ud.duplicated()])].sort_values(by=\"username\")\n",
    "raw_dupes['username'].nunique()"
   ]
  },
  {
   "cell_type": "code",
   "execution_count": 74,
   "metadata": {},
   "outputs": [],
   "source": [
    "editor_reg_contest_2019 = editor_reg_contest_2019_raw.groupby('username')['reg_date'].min().reset_index()"
   ]
  },
  {
   "cell_type": "code",
   "execution_count": null,
   "metadata": {},
   "outputs": [],
   "source": [
    "editor_reg_contest_2019.info()"
   ]
  },
  {
   "cell_type": "code",
   "execution_count": 84,
   "metadata": {},
   "outputs": [],
   "source": [
    "editor_reg_contest_2019.to_csv(\"../../data/processed/query_results/editors/editor_reg_contest.csv\", sep=',', encoding = 'utf-8', index=False)"
   ]
  },
  {
   "cell_type": "markdown",
   "metadata": {},
   "source": [
    "#### 2018"
   ]
  },
  {
   "cell_type": "code",
   "execution_count": 79,
   "metadata": {},
   "outputs": [],
   "source": [
    "editor_reg_contest_2018_raw = spark.sql(editor_reg_contest_2018_r.format(**query_vars)).toPandas()"
   ]
  },
  {
   "cell_type": "code",
   "execution_count": 80,
   "metadata": {},
   "outputs": [],
   "source": [
    "editor_reg_contest_2018_raw['reg_date'] = pd.to_datetime(editor_reg_contest_2018_raw['reg_date'])"
   ]
  },
  {
   "cell_type": "code",
   "execution_count": null,
   "metadata": {},
   "outputs": [],
   "source": [
    "ud18 = editor_reg_contest_2018_raw['username']\n",
    "raw_dupes = editor_reg_contest_2018_raw[ud18.isin(ud18[ud18.duplicated()])].sort_values(by=\"username\")\n",
    "raw_dupes['username'].nunique()"
   ]
  },
  {
   "cell_type": "code",
   "execution_count": 82,
   "metadata": {},
   "outputs": [],
   "source": [
    "editor_reg_contest_2018 = editor_reg_contest_2018_raw.groupby('username')['reg_date'].min().reset_index()"
   ]
  },
  {
   "cell_type": "code",
   "execution_count": 83,
   "metadata": {},
   "outputs": [],
   "source": [
    "editor_reg_contest_2018.to_csv(\"../../data/processed/query_results/editors/editor_reg_contest_18.csv\", sep=',', encoding = 'utf-8', index=False)"
   ]
  },
  {
   "cell_type": "markdown",
   "metadata": {},
   "source": [
    "### New Editors"
   ]
  },
  {
   "cell_type": "code",
   "execution_count": 15,
   "metadata": {},
   "outputs": [],
   "source": [
    "nrdf = editor_reg_contest_2019[editor_reg_contest_2019['reg_date'] >= '2019-10-01']"
   ]
  },
  {
   "cell_type": "code",
   "execution_count": null,
   "metadata": {},
   "outputs": [],
   "source": [
    "len(nrdf)"
   ]
  },
  {
   "cell_type": "code",
   "execution_count": null,
   "metadata": {},
   "outputs": [],
   "source": [
    "#get duplicates\n",
    "usernames = nrdf['username']\n",
    "nrdf_user_dupes = nrdf[usernames.isin(usernames[usernames.duplicated()])].sort_values(by=\"username\")\n",
    "nrdf_user_dupes['username'].nunique()"
   ]
  },
  {
   "cell_type": "code",
   "execution_count": null,
   "metadata": {},
   "outputs": [],
   "source": [
    "pvt_editor_reg = nrdf.groupby('trunc(CAST(user_registration AS DATE), MM)').count()"
   ]
  },
  {
   "cell_type": "code",
   "execution_count": 22,
   "metadata": {},
   "outputs": [],
   "source": [
    "pvt_editor_reg.to_csv(\"../../data/processed/query_results/editors/new_editors_per_month.csv\", sep=',', encoding = 'utf-8', index=False)"
   ]
  },
  {
   "cell_type": "markdown",
   "metadata": {},
   "source": [
    "### Edits"
   ]
  },
  {
   "cell_type": "code",
   "execution_count": 3,
   "metadata": {},
   "outputs": [],
   "source": [
    "GLOW_editor_edits = spark.sql(GLOW_editor_edits_r).toPandas()"
   ]
  },
  {
   "cell_type": "code",
   "execution_count": 13,
   "metadata": {},
   "outputs": [],
   "source": [
    "GLOW_editor_edits['event_timestamp'] = pd.to_datetime(GLOW_editor_edits['event_timestamp'])\n",
    "\n",
    "GLOW_editor_edits['week'] = GLOW_editor_edits.event_timestamp.dt.week\n",
    "GLOW_editor_edits['month'] = GLOW_editor_edits.event_timestamp.dt.month\n",
    "GLOW_editor_edits['month/year'] = GLOW_editor_edits['event_timestamp'].apply(lambda x: \"%d/%d\" % (x.month, x.year))\n",
    "\n",
    "#GLOW_editor_edits['month']pd.to_datetime(GLOW_editor_edits['event_timestamp'])"
   ]
  },
  {
   "cell_type": "code",
   "execution_count": null,
   "metadata": {},
   "outputs": [],
   "source": [
    "GLOW_editor_edits.to_csv(\"../../data/processed/editors/GLOW_editor_edits.csv\", sep=',', encoding = 'utf-8', index=False)"
   ]
  },
  {
   "cell_type": "code",
   "execution_count": 54,
   "metadata": {},
   "outputs": [],
   "source": [
    "GLOW_editor_edits_summed = GLOW_editor_edits.groupby(['month/year', 'event_user_text']).size().to_frame().reset_index().rename(columns={0:'editor_edits_per_month'})"
   ]
  },
  {
   "cell_type": "code",
   "execution_count": null,
   "metadata": {},
   "outputs": [],
   "source": [
    "GLOW_editor_edits_summed.to_csv(\"../../data/processed/editors/GLOW_editor_edits_summed.csv\", sep=',', encoding = 'utf-8', index=False)"
   ]
  },
  {
   "cell_type": "markdown",
   "metadata": {},
   "source": [
    "### Edits by PTP Chromebook grantees"
   ]
  },
  {
   "cell_type": "code",
   "execution_count": 91,
   "metadata": {},
   "outputs": [],
   "source": [
    "weekly_edits_query_ptp_grantees=spark.sql(weekly_edits_query_ptp_grantees_r).toPandas()"
   ]
  },
  {
   "cell_type": "code",
   "execution_count": 93,
   "metadata": {},
   "outputs": [],
   "source": [
    "weekly_edits_query_ptp_grantees.to_csv(\"../../data/processed/editors/weekly_edits_ptp_grantees.csv\", sep=',', encoding = 'utf-8', index=False)"
   ]
  },
  {
   "cell_type": "code",
   "execution_count": 131,
   "metadata": {},
   "outputs": [],
   "source": [
    "edits_ptp_grantees_r=spark.sql(edits_query_ptp_grantees_r).toPandas()"
   ]
  },
  {
   "cell_type": "code",
   "execution_count": 132,
   "metadata": {},
   "outputs": [],
   "source": [
    "edits_ptp_grantees = edits_ptp_grantees_r.copy()"
   ]
  },
  {
   "cell_type": "code",
   "execution_count": 133,
   "metadata": {},
   "outputs": [],
   "source": [
    "edits_ptp_grantees['edit_date'] = pd.to_datetime(edits_ptp_grantees['edit_date'])\n",
    "\n",
    "edits_ptp_grantees['week'] = edits_ptp_grantees.edit_date.dt.week\n",
    "edits_ptp_grantees['month'] = edits_ptp_grantees.edit_date.dt.month\n",
    "edits_ptp_grantees['year'] = edits_ptp_grantees.edit_date.dt.year\n",
    "edits_ptp_grantees['month/year'] = edits_ptp_grantees['edit_date'].apply(lambda x: \"%d.%d\" % (x.year, x.month))\n"
   ]
  },
  {
   "cell_type": "code",
   "execution_count": 134,
   "metadata": {},
   "outputs": [],
   "source": [
    "edits_ptp_grantees_edits_summed = edits_ptp_grantees.groupby(['month/year', 'event_user_text']).size().to_frame().reset_index().rename(columns={0:'editor_edits_per_month'})"
   ]
  },
  {
   "cell_type": "raw",
   "metadata": {},
   "source": [
    "edits_ptp_grantees_edits_summed.sort_values(by='editor_edits_per_month', ascending=False)"
   ]
  },
  {
   "cell_type": "code",
   "execution_count": 135,
   "metadata": {},
   "outputs": [],
   "source": [
    "edits_ptp_grantees_edits_summed.to_csv(\"../../data/processed/editors/edits_ptp_grantees_edits_summed.csv\", sep=',', encoding = 'utf-8', index=False)"
   ]
  },
  {
   "cell_type": "code",
   "execution_count": null,
   "metadata": {},
   "outputs": [],
   "source": []
  }
 ],
 "metadata": {
  "kernelspec": {
   "display_name": "PySpark - YARN (large)",
   "language": "python",
   "name": "spark_yarn_pyspark_large"
  },
  "language_info": {
   "codemirror_mode": {
    "name": "ipython",
    "version": 3
   },
   "file_extension": ".py",
   "mimetype": "text/x-python",
   "name": "python",
   "nbconvert_exporter": "python",
   "pygments_lexer": "ipython3",
   "version": "3.5.3"
  }
 },
 "nbformat": 4,
 "nbformat_minor": 4
}
