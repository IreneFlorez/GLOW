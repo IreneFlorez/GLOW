{
 "cells": [
  {
   "cell_type": "code",
   "execution_count": 1,
   "metadata": {},
   "outputs": [],
   "source": [
    "import pandas as pd\n",
    "import numpy as np"
   ]
  },
  {
   "cell_type": "code",
   "execution_count": 2,
   "metadata": {},
   "outputs": [],
   "source": [
    "#includes the 1894 with related interwiki links\n",
    "suggestions_created_a = pd.read_csv(\"../../data/processed/query_results/topic_lists/suggestions_created_a.csv\", sep=',', encoding = 'utf-8', parse_dates=True)\n",
    "\n",
    "#includes the 61\n",
    "suggestions_created_b = pd.read_csv(\"../../data/processed/query_results/topic_lists/suggestions_created_b.csv\", sep=',', encoding = 'utf-8', parse_dates=True)\n",
    "\n",
    "#stub edited\n",
    "nppt_articles_edits_contest_unique = pd.read_csv(\"../../data/processed/query_results/topic_lists/stubs_edited_during_contest.csv\", sep=',', encoding = 'utf-8', parse_dates=True)\n",
    "\n",
    "#final updated CQ frame of new articles, including content quality metrics\n",
    "final_frame_updated_pv_topics = pd.read_csv(\"../../data/processed/query_results/content_quality/b4_final_frame_updated_pv_topcs.csv\", sep=',', encoding = 'utf-8', parse_dates=True)\n",
    "\n",
    "#interim frame (with new and stub articles)\n",
    "interim_frame_updated_pv_topics = pd.read_csv(\"../../data/processed/query_results/content_quality/4_interim_frame_updated_pv_topcs.csv\", sep=',', encoding = 'utf-8', parse_dates=True) "
   ]
  },
  {
   "cell_type": "code",
   "execution_count": 10,
   "metadata": {},
   "outputs": [],
   "source": [
    "#handle final_frame_updated_pv_topics & suggestions_created_a, suggestions_created_b\n",
    "\n",
    "#rename column\n",
    "final_frame_updated_pv_topics.rename(columns={'wikicode':'database_code'}, inplace = True)\n",
    "interim_frame_updated_pv_topics.rename(columns={'wikicode':'database_code'}, inplace = True)\n",
    "\n",
    "#change datatype to enable merge\n",
    "#suggestions_created_a['iwsitelinks'] = suggestions_created_a['iwsitelinks'].astype(np.float64)\n",
    "\n",
    "#remove Q from QID strings in QID column\n",
    "final_frame_updated_pv_topics['QID'] = final_frame_updated_pv_topics['QID'].str[1:].astype(np.float64)\n",
    "interim_frame_updated_pv_topics['QID'] = interim_frame_updated_pv_topics['QID'].str[1:].astype(np.float64)\n",
    "\n",
    "#change format\n",
    "#final_frame_updated_pv_topics['QID'] = final_frame_updated_pv_topics['QID'].astype(np.float64)\n",
    "#interim_frame_updated_pv_topics['QID'] = interim_frame_updated_pv_topics['QID'].astype(np.float64)"
   ]
  },
  {
   "cell_type": "code",
   "execution_count": 11,
   "metadata": {},
   "outputs": [],
   "source": [
    "#add column for wether it was a g_suggestion or not\n",
    "suggestions_created_b['g_suggestion'] = True\n",
    "suggestions_created_a['g_suggestion'] = True\n",
    "nppt_articles_edits_contest_unique['g_suggestion'] = True"
   ]
  },
  {
   "cell_type": "code",
   "execution_count": 12,
   "metadata": {},
   "outputs": [],
   "source": [
    "#select columns to concat below\n",
    "suggestions_created_a_selects = suggestions_created_a[['g_suggestion','QID', 'database_code']]\n",
    "suggestions_created_b_selects = suggestions_created_b[['g_suggestion','QID', 'database_code']]\n",
    "#concat\n",
    "translations_created = pd.concat([suggestions_created_a_selects, suggestions_created_b_selects], sort=True)"
   ]
  },
  {
   "cell_type": "code",
   "execution_count": 15,
   "metadata": {},
   "outputs": [],
   "source": [
    "#merge with translations_created\n",
    "final_frame_updated_pv_topics_b_a = final_frame_updated_pv_topics.merge(translations_created, \n",
    "                                                                        how=\"left\", \n",
    "                                                                        on=['QID', 'database_code']\n",
    "                                                                ).fillna(False)"
   ]
  },
  {
   "cell_type": "code",
   "execution_count": 13,
   "metadata": {},
   "outputs": [],
   "source": [
    "#merge \n",
    "interim_frame_updated_pv_topics_suggs = interim_frame_updated_pv_topics.merge(translations_created, \n",
    "                                                                        how=\"left\", \n",
    "                                                                        on=['QID', 'database_code'],\n",
    "                                                                        suffixes=('_interim', '_new')\n",
    "                                                                ).merge(nppt_articles_edits_contest_unique, \n",
    "                                                                        how=\"left\", \n",
    "                                                                        on=['page_title', 'page_id','database_code'],\n",
    "                                                                        suffixes=('_merge', '_stub')\n",
    "                                                                )\n",
    "\n",
    "#replace any NaN values in g_suggestion_merge column with the corresponding value of g_suggestion_stub column. Delete the 'g_suggestion_stub' column. Then rename the g_suggestion_merge column and convert remaining NaNs to False\n",
    "interim_frame_updated_pv_topics_suggs.g_suggestion_merge.fillna(interim_frame_updated_pv_topics_suggs.g_suggestion_stub, inplace=True)\n",
    "del interim_frame_updated_pv_topics_suggs['g_suggestion_stub']\n",
    "interim_frame_updated_pv_topics_suggs.rename(columns={'g_suggestion_merge':'g_suggestion'}, inplace = True)\n",
    "interim_frame_updated_pv_topics_suggs['g_suggestion'] = interim_frame_updated_pv_topics_suggs['g_suggestion'].fillna(False)\n",
    "\n",
    "#create a clean boolean column based on the two in-conflict suggestions columns\n",
    "#interim_frame_pv_sba['g_suggestion'] = (interim_frame_pv_sba['g_suggestion_merge']==True) | (interim_frame_pv_sba['g_suggestion_stub']==True)\n",
    "#interim_frame_pv_sba_c = interim_frame_pv_sba.drop('g_suggestion_merge', axis=1).drop('g_suggestion_stub', axis=1)"
   ]
  },
  {
   "cell_type": "code",
   "execution_count": 16,
   "metadata": {},
   "outputs": [
    {
     "name": "stdout",
     "output_type": "stream",
     "text": [
      "# final submits that were g_suggestions 855\n",
      "# interim submits that were g_suggestions 1536\n"
     ]
    }
   ],
   "source": [
    "print('# final submits that were g_suggestions' , len(final_frame_updated_pv_topics_b_a[final_frame_updated_pv_topics_b_a['g_suggestion']==True]))\n",
    "print('# interim submits that were g_suggestions' , len(interim_frame_updated_pv_topics_suggs[interim_frame_updated_pv_topics_suggs['g_suggestion']==True]))"
   ]
  },
  {
   "cell_type": "code",
   "execution_count": 6,
   "metadata": {},
   "outputs": [],
   "source": [
    "#save\n",
    "final_frame_updated_pv_topics_b_a.to_csv(\"../../data/processed/query_results/content_quality/b5_final_frame_updated_pv_topics_g_suggs.csv\", sep=',', encoding = 'utf-8', index=False) "
   ]
  },
  {
   "cell_type": "code",
   "execution_count": 17,
   "metadata": {},
   "outputs": [],
   "source": [
    "#save\n",
    "interim_frame_updated_pv_topics_suggs.to_csv(\"../../data/processed/query_results/content_quality/5_interim_frame_updated_w_g_suggs.csv\", sep=',', encoding = 'utf-8', index=False) "
   ]
  },
  {
   "cell_type": "code",
   "execution_count": null,
   "metadata": {},
   "outputs": [],
   "source": []
  }
 ],
 "metadata": {
  "kernelspec": {
   "display_name": "Python 3",
   "language": "python",
   "name": "python3"
  },
  "language_info": {
   "codemirror_mode": {
    "name": "ipython",
    "version": 3
   },
   "file_extension": ".py",
   "mimetype": "text/x-python",
   "name": "python",
   "nbconvert_exporter": "python",
   "pygments_lexer": "ipython3",
   "version": "3.5.3"
  }
 },
 "nbformat": 4,
 "nbformat_minor": 4
}
