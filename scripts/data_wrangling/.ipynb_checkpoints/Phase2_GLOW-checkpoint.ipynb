{
 "cells": [
  {
   "cell_type": "markdown",
   "metadata": {},
   "source": [
    "## Table of Contents  <a class=\"anchor\" id=\"toc\"></a>\n",
    "\n",
    "1. [Stage 1: A](#stage1a)\n",
    "    1. [Editors across countries](#editors_countries)\n",
    "    2. [Editors (and activity level) across countries](#editors_activity_countries)\n",
    "    3. [Editors across wikis](#editors_wikis)\n",
    "    3. [Pageviews](#pageviews)\n",
    "    4. [New articles](#new_articles)\n",
    "    5. [Articles detail](#article_detail)\n",
    "\n",
    "2. [Stage 1: B](#stage1b)  \n",
    "    1. [Monthly unique devices](#monthly_devices)\n",
    "    2. [Monthly unique devices - countries](#monthly_devices)\n",
    "    \n",
    "    3. [Edits across devices](#edits_devices)\n",
    "    4. [Edits across wikis](#edits_wikis)\n",
    "    5. [Edit counts across wikis](#edit_counts_wikis)\n",
    "3. [Stage 2](#stage2)  \n",
    "    1. [Monthly article edits](#monthly_art_edits)\n",
    "    2. [Monthly active editors](#monthly_a_editors)\n",
    "\n",
    "    \n",
    "4. [](#)\n",
    "    1. [Testing](#testing) "
   ]
  },
  {
   "cell_type": "code",
   "execution_count": 1,
   "metadata": {},
   "outputs": [
    {
     "data": {
      "text/html": [
       "<script>\n",
       "code_show=true; \n",
       "function code_toggle() {\n",
       " if (code_show){\n",
       " $('div.input').hide();\n",
       " } else {\n",
       " $('div.input').show();\n",
       " }\n",
       " code_show = !code_show\n",
       "} \n",
       "$( document ).ready(code_toggle);\n",
       "</script>\n",
       "The raw code for this notebook is by default hidden for easier reading.\n",
       "<form action=\"javascript:code_toggle()\"><input type=\"submit\" value=\"Click here to toggle on/off the raw code\"></form>\n"
      ],
      "text/plain": [
       "<IPython.core.display.HTML object>"
      ]
     },
     "execution_count": 1,
     "metadata": {},
     "output_type": "execute_result"
    }
   ],
   "source": [
    "from IPython.display import HTML \n",
    "\n",
    "HTML('''<script>\n",
    "code_show=true; \n",
    "function code_toggle() {\n",
    " if (code_show){\n",
    " $('div.input').hide();\n",
    " } else {\n",
    " $('div.input').show();\n",
    " }\n",
    " code_show = !code_show\n",
    "} \n",
    "$( document ).ready(code_toggle);\n",
    "</script>\n",
    "The raw code for this notebook is by default hidden for easier reading.\n",
    "<form action=\"javascript:code_toggle()\"><input type=\"submit\" value=\"Click here to toggle on/off the raw code\"></form>\n",
    "''')"
   ]
  },
  {
   "cell_type": "code",
   "execution_count": 11,
   "metadata": {},
   "outputs": [],
   "source": [
    "from wmfdata import hive, charting\n",
    "from wmfdata.utils import pct_str, pd_display_all\n",
    "\n",
    "from urllib import request\n",
    "import json\n",
    "\n",
    "import pandas as pd\n",
    "import matplotlib as mpl\n",
    "import matplotlib.pyplot as plt\n",
    "\n",
    "from datetime import datetime, timedelta"
   ]
  },
  {
   "cell_type": "code",
   "execution_count": 3,
   "metadata": {},
   "outputs": [
    {
     "data": {
      "application/javascript": [
       "\n",
       "    require(['notebook/js/codecell'], function(codecell) {\n",
       "      // https://github.com/jupyter/notebook/issues/2453\n",
       "      codecell.CodeCell.options_default.highlight_modes['magic_text/x-sql'] = {'reg':[/^%read_sql/, /.*=\\s*%read_sql/,\n",
       "                                                                                      /^%%read_sql/]};\n",
       "      Jupyter.notebook.events.one('kernel_ready.Kernel', function(){\n",
       "          console.log('BBBBB');\n",
       "          Jupyter.notebook.get_cells().map(function(cell){\n",
       "              if (cell.cell_type == 'code'){ cell.auto_highlight(); } }) ;\n",
       "      });\n",
       "    });\n",
       "    "
      ]
     },
     "metadata": {},
     "output_type": "display_data"
    }
   ],
   "source": [
    "%load_ext sql_magic\n",
    "\n",
    "import findspark, os\n",
    "\n",
    "os.environ['SPARK_HOME'] = '/usr/lib/spark2';\n",
    "findspark.init()\n",
    "import pyspark\n",
    "import pyspark.sql\n",
    "conf = pyspark.SparkConf().setMaster(\"yarn\")  # Use master yarn here if you are going to query large datasets.\n",
    "sc = pyspark.SparkContext(conf=conf)\n",
    "spark_hive = pyspark.sql.HiveContext(sc)\n",
    "\n",
    "%config SQL.conn_name = 'spark_hive'"
   ]
  },
  {
   "cell_type": "code",
   "execution_count": 4,
   "metadata": {},
   "outputs": [
    {
     "data": {
      "text/html": [
       "        <script type=\"text/javascript\">\n",
       "        window.PlotlyConfig = {MathJaxConfig: 'local'};\n",
       "        if (window.MathJax) {MathJax.Hub.Config({SVG: {font: \"STIX-Web\"}});}\n",
       "        if (typeof require !== 'undefined') {\n",
       "        require.undef(\"plotly\");\n",
       "        requirejs.config({\n",
       "            paths: {\n",
       "                'plotly': ['https://cdn.plot.ly/plotly-latest.min']\n",
       "            }\n",
       "        });\n",
       "        require(['plotly'], function(Plotly) {\n",
       "            window._Plotly = Plotly;\n",
       "        });\n",
       "        }\n",
       "        </script>\n",
       "        "
      ]
     },
     "metadata": {},
     "output_type": "display_data"
    }
   ],
   "source": [
    "import plotly\n",
    "import plotly.graph_objs as go\n",
    "from plotly import tools\n",
    "import cufflinks as cf\n",
    "from datetime import datetime\n",
    "import dateutil\n",
    "\n",
    "plotly.offline.init_notebook_mode(connected=True)\n",
    "current_date = datetime.utcnow().strftime(\"%Y-%m-%d\")"
   ]
  },
  {
   "cell_type": "code",
   "execution_count": 5,
   "metadata": {},
   "outputs": [
    {
     "data": {
      "application/json": {
       "cell": {
        "!": "OSMagics",
        "HTML": "Other",
        "SVG": "Other",
        "bash": "Other",
        "capture": "ExecutionMagics",
        "debug": "ExecutionMagics",
        "file": "Other",
        "html": "DisplayMagics",
        "javascript": "DisplayMagics",
        "js": "DisplayMagics",
        "latex": "DisplayMagics",
        "markdown": "DisplayMagics",
        "perl": "Other",
        "prun": "ExecutionMagics",
        "pypy": "Other",
        "python": "Other",
        "python2": "Other",
        "python3": "Other",
        "read_sql": "SQL",
        "ruby": "Other",
        "script": "ScriptMagics",
        "sh": "Other",
        "svg": "DisplayMagics",
        "sx": "OSMagics",
        "system": "OSMagics",
        "time": "ExecutionMagics",
        "timeit": "ExecutionMagics",
        "writefile": "OSMagics"
       },
       "line": {
        "alias": "OSMagics",
        "alias_magic": "BasicMagics",
        "autocall": "AutoMagics",
        "automagic": "AutoMagics",
        "autosave": "KernelMagics",
        "bookmark": "OSMagics",
        "cat": "Other",
        "cd": "OSMagics",
        "clear": "KernelMagics",
        "colors": "BasicMagics",
        "config": "ConfigMagics",
        "connect_info": "KernelMagics",
        "cp": "Other",
        "debug": "ExecutionMagics",
        "dhist": "OSMagics",
        "dirs": "OSMagics",
        "doctest_mode": "BasicMagics",
        "ed": "Other",
        "edit": "KernelMagics",
        "env": "OSMagics",
        "gui": "BasicMagics",
        "hist": "Other",
        "history": "HistoryMagics",
        "killbgscripts": "ScriptMagics",
        "ldir": "Other",
        "less": "KernelMagics",
        "lf": "Other",
        "lk": "Other",
        "ll": "Other",
        "load": "CodeMagics",
        "load_ext": "ExtensionMagics",
        "loadpy": "CodeMagics",
        "logoff": "LoggingMagics",
        "logon": "LoggingMagics",
        "logstart": "LoggingMagics",
        "logstate": "LoggingMagics",
        "logstop": "LoggingMagics",
        "ls": "Other",
        "lsmagic": "BasicMagics",
        "lx": "Other",
        "macro": "ExecutionMagics",
        "magic": "BasicMagics",
        "man": "KernelMagics",
        "matplotlib": "PylabMagics",
        "mkdir": "Other",
        "more": "KernelMagics",
        "mv": "Other",
        "notebook": "BasicMagics",
        "page": "BasicMagics",
        "pastebin": "CodeMagics",
        "pdb": "ExecutionMagics",
        "pdef": "NamespaceMagics",
        "pdoc": "NamespaceMagics",
        "pfile": "NamespaceMagics",
        "pinfo": "NamespaceMagics",
        "pinfo2": "NamespaceMagics",
        "pip": "BasicMagics",
        "popd": "OSMagics",
        "pprint": "BasicMagics",
        "precision": "BasicMagics",
        "profile": "BasicMagics",
        "prun": "ExecutionMagics",
        "psearch": "NamespaceMagics",
        "psource": "NamespaceMagics",
        "pushd": "OSMagics",
        "pwd": "OSMagics",
        "pycat": "OSMagics",
        "pylab": "PylabMagics",
        "qtconsole": "KernelMagics",
        "quickref": "BasicMagics",
        "read_sql": "SQL",
        "recall": "HistoryMagics",
        "rehashx": "OSMagics",
        "reload_ext": "ExtensionMagics",
        "rep": "Other",
        "rerun": "HistoryMagics",
        "reset": "NamespaceMagics",
        "reset_selective": "NamespaceMagics",
        "rm": "Other",
        "rmdir": "Other",
        "run": "ExecutionMagics",
        "save": "CodeMagics",
        "sc": "OSMagics",
        "set_env": "OSMagics",
        "store": "StoreMagics",
        "sx": "OSMagics",
        "system": "OSMagics",
        "tb": "ExecutionMagics",
        "time": "ExecutionMagics",
        "timeit": "ExecutionMagics",
        "unalias": "OSMagics",
        "unload_ext": "ExtensionMagics",
        "who": "NamespaceMagics",
        "who_ls": "NamespaceMagics",
        "whos": "NamespaceMagics",
        "xdel": "NamespaceMagics",
        "xmode": "BasicMagics"
       }
      },
      "text/plain": [
       "Available line magics:\n",
       "%alias  %alias_magic  %autocall  %automagic  %autosave  %bookmark  %cat  %cd  %clear  %colors  %config  %connect_info  %cp  %debug  %dhist  %dirs  %doctest_mode  %ed  %edit  %env  %gui  %hist  %history  %killbgscripts  %ldir  %less  %lf  %lk  %ll  %load  %load_ext  %loadpy  %logoff  %logon  %logstart  %logstate  %logstop  %ls  %lsmagic  %lx  %macro  %magic  %man  %matplotlib  %mkdir  %more  %mv  %notebook  %page  %pastebin  %pdb  %pdef  %pdoc  %pfile  %pinfo  %pinfo2  %popd  %pprint  %precision  %profile  %prun  %psearch  %psource  %pushd  %pwd  %pycat  %pylab  %qtconsole  %quickref  %read_sql  %recall  %rehashx  %reload_ext  %rep  %rerun  %reset  %reset_selective  %rm  %rmdir  %run  %save  %sc  %set_env  %store  %sx  %system  %tb  %time  %timeit  %unalias  %unload_ext  %who  %who_ls  %whos  %xdel  %xmode\n",
       "\n",
       "Available cell magics:\n",
       "%%!  %%HTML  %%SVG  %%bash  %%capture  %%debug  %%file  %%html  %%javascript  %%js  %%latex  %%markdown  %%perl  %%prun  %%pypy  %%python  %%python2  %%python3  %%read_sql  %%ruby  %%script  %%sh  %%svg  %%sx  %%system  %%time  %%timeit  %%writefile\n",
       "\n",
       "Automagic is ON, % prefix IS NOT needed for line magics."
      ]
     },
     "execution_count": 5,
     "metadata": {},
     "output_type": "execute_result"
    }
   ],
   "source": [
    "%lsmagic"
   ]
  },
  {
   "cell_type": "markdown",
   "metadata": {},
   "source": [
    "## Set-up: filter lists & definitions\n",
    "[Back to Table of Contents](#toc)"
   ]
  },
  {
   "cell_type": "markdown",
   "metadata": {},
   "source": [
    "----------- TO DO --------------\n",
    "\n",
    "---------- QUESTIONS ------------\n",
    "\n",
    "1. Review glow wiki and country lists and tuple\n",
    "\n",
    "2. Review query dates\n",
    "\n",
    "3. setup wiki/country formatting #.format(mwh_snapshot=MWH_SNAPSHOT))\n",
    "\n",
    "4. setup date formatting #.format(mwh_snapshot=MWH_SNAPSHOT))"
   ]
  },
  {
   "cell_type": "code",
   "execution_count": 5,
   "metadata": {},
   "outputs": [],
   "source": [
    "#ISO & country codes\n",
    "iso_3166_url = \"https://raw.githubusercontent.com/umpirsky/country-list/master/data/en/country.json\"\n",
    "country_codes = json.loads(\n",
    "    request.urlopen(iso_3166_url).read().decode()\n",
    ")"
   ]
  },
  {
   "cell_type": "code",
   "execution_count": 6,
   "metadata": {},
   "outputs": [],
   "source": [
    "glow_3166_codes = ('AR','EG','NG','RI','IN','BN')\n",
    "glow_country_codes = ['Argentina', 'Egypt', 'Nigeria', 'Indonesia', 'India']\n",
    "glow_wiki_codes = [\"ES\",\"ARZ\",\"EN\",\"ID\",\"SU\",\"JV\",\"MIN\",\"BN\",\"HI\",\"ML\",\"PA\",\"TA\",\"TE\"]\n",
    "glow_wiki_list= list(map(lambda x:x.lower(), glow_wiki_codes))\n",
    "glow_wiki_list = list(map(lambda x:x+\"wiki\", glow_wiki_list))\n",
    "\n",
    "glow_wikis = {\n",
    "    'hi.wikipedia':  'Hindi Wikipedia',\n",
    "    'id.wikipedia':  'Indonesian Wikipedia',\n",
    "    'arz.wikipedia': 'Egyptian Arabic Wikipedia',\n",
    "    'ml.wikipedia':  'Malayalam Wikipedia',\n",
    "    'ta.wikipedia':  'Tamil Wikipedia',\n",
    "    'kn.wikipedia':  'Kannada Wikipedia',\n",
    "    'ms.wikipedia':  'Malay Wikipedia',\n",
    "    'ES.wikipedia':  'Spanish Wikipedia',\n",
    "    'EN.wikipedia':  'English Wikipedia',\n",
    "    'SU.wikipedia':  'Sundanese Wikipedia',\n",
    "    'JV.wikipedia':  'Javanese Wikipedia',\n",
    "    'MIN.wikipedia': 'Minangkabau Wikipedia',\n",
    "    'BN.wikipedia':  'Bengali Wikipedia',\n",
    "    'ML.wikipedia':  'Malayalam Wikipedia',\n",
    "    'TA.wikipedia':  'Tamil Wikipedia',\n",
    "    'TE.wikipedia':  'Telugu Wikipedia',\n",
    "    'PA.wikipedia':  'Punjabi Wikipedia',\n",
    "    }\n",
    "\n",
    "glow_control_wikis = {\n",
    "    'pt.wikipedia': 'Portuguese Wikipedia',\n",
    "\n",
    "    }\n",
    "\n",
    "glow_domains = glow_wikis.keys()\n",
    "glow_sql_tuple = \"(\" + \", \".join('\"{}\"'.format(d) for d in glow_domains)  + \")\""
   ]
  },
  {
   "cell_type": "code",
   "execution_count": 229,
   "metadata": {},
   "outputs": [
    {
     "data": {
      "text/plain": [
       "['eswiki',\n",
       " 'arzwiki',\n",
       " 'enwiki',\n",
       " 'idwiki',\n",
       " 'suwiki',\n",
       " 'jvwiki',\n",
       " 'minwiki',\n",
       " 'bnwiki',\n",
       " 'hiwiki',\n",
       " 'mlwiki',\n",
       " 'pawiki',\n",
       " 'tawiki',\n",
       " 'tewiki']"
      ]
     },
     "execution_count": 229,
     "metadata": {},
     "output_type": "execute_result"
    }
   ],
   "source": [
    "glow_wiki_list"
   ]
  },
  {
   "cell_type": "raw",
   "metadata": {},
   "source": [
    "#map the glow wikis to glow countries\n",
    "\n",
    "glow_india = {\n",
    "    'hi.wikipedia':  'Hindi Wikipedia',\n",
    "    'id.wikipedia':  'Indonesian Wikipedia',\n",
    "    'arz.wikipedia': 'Egyptian Arabic Wikipedia',\n",
    "    'ml.wikipedia':  'Malayalam Wikipedia',\n",
    "    'ta.wikipedia':  'Tamil Wikipedia',\n",
    "    'kn.wikipedia':  'Kannada Wikipedia',\n",
    "    'ms.wikipedia':  'Malay Wikipedia',\n",
    "    \n",
    "glow_mena [ \n",
    "    Egypt, \n",
    "    Jordan, \n",
    "    Tunisia, \n",
    "    Algeria, \n",
    "    Morocco, \n",
    "    Palestine, \n",
    "    Lebanon, \n",
    "    Iraq, \n",
    "    Saudi Arabia,\n",
    "    UAE\n",
    "]\n",
    "    \n",
    "glow_indonesia =  [\n",
    "    Bahasa Indonesia: ID\n",
    "    Sundanese:SU\n",
    "    Javanese: JV\n",
    "    Minangkabau: MIN\n",
    "]\n",
    "    \n",
    "\n",
    "glow_india = (Bengali: BN\n",
    "Hindi: HI\n",
    "Malayalam: ML\n",
    "Punjabi (western): PNB\n",
    "Tamil: TA\n",
    "Telugu:TE )"
   ]
  },
  {
   "cell_type": "code",
   "execution_count": 7,
   "metadata": {},
   "outputs": [],
   "source": [
    "MWH_SNAPSHOT = \"2019-06\""
   ]
  },
  {
   "cell_type": "code",
   "execution_count": 12,
   "metadata": {},
   "outputs": [
    {
     "ename": "AttributeError",
     "evalue": "type object 'datetime.datetime' has no attribute 'datetime'",
     "output_type": "error",
     "traceback": [
      "\u001b[0;31m---------------------------------------------------------------------------\u001b[0m",
      "\u001b[0;31mAttributeError\u001b[0m                            Traceback (most recent call last)",
      "\u001b[0;32m<ipython-input-12-ad90ce8f5ce2>\u001b[0m in \u001b[0;36m<module>\u001b[0;34m()\u001b[0m\n\u001b[1;32m      1\u001b[0m query_vars = dict(\n\u001b[1;32m      2\u001b[0m     \u001b[0mSTART_DATE\u001b[0m\u001b[0;34m=\u001b[0m\u001b[0;34m'20190101'\u001b[0m\u001b[0;34m,\u001b[0m\u001b[0;34m\u001b[0m\u001b[0m\n\u001b[0;32m----> 3\u001b[0;31m     \u001b[0mEND_DATE\u001b[0m\u001b[0;34m=\u001b[0m\u001b[0mdatetime\u001b[0m\u001b[0;34m.\u001b[0m\u001b[0mdatetime\u001b[0m\u001b[0;34m.\u001b[0m\u001b[0mtoday\u001b[0m\u001b[0;34m(\u001b[0m\u001b[0;34m)\u001b[0m\u001b[0;34m.\u001b[0m\u001b[0mstrftime\u001b[0m\u001b[0;34m(\u001b[0m\u001b[0;34m'%Y%m%d'\u001b[0m\u001b[0;34m)\u001b[0m\u001b[0;34m,\u001b[0m\u001b[0;34m\u001b[0m\u001b[0m\n\u001b[0m\u001b[1;32m      4\u001b[0m     \u001b[0mMWH_SNAPSHOT\u001b[0m \u001b[0;34m=\u001b[0m \u001b[0;34m\"2019-06\"\u001b[0m\u001b[0;34m\u001b[0m\u001b[0m\n\u001b[1;32m      5\u001b[0m )\n",
      "\u001b[0;31mAttributeError\u001b[0m: type object 'datetime.datetime' has no attribute 'datetime'"
     ]
    }
   ],
   "source": [
    "query_vars = dict(\n",
    "    START_DATE='20190101',\n",
    "    END_DATE=datetime.datetime.today().strftime('%Y%m%d'),\n",
    "    MWH_SNAPSHOT = \"2019-06\"\n",
    ")"
   ]
  },
  {
   "cell_type": "code",
   "execution_count": null,
   "metadata": {},
   "outputs": [],
   "source": []
  },
  {
   "cell_type": "markdown",
   "metadata": {},
   "source": [
    "## Stage 2 <a class=\"anchor\" id=\"stage2\"></a>\n",
    "[Back to Table of Contents](#toc)"
   ]
  },
  {
   "cell_type": "markdown",
   "metadata": {},
   "source": [
    "### 1. Monthly edits <a class=\"anchor\" id=\"monthly_art_edits\"></a>\n",
    "[Back to Table of Contents](#toc)"
   ]
  },
  {
   "cell_type": "markdown",
   "metadata": {},
   "source": [
    "----------- TO DO --------------\n",
    "\n",
    "---------- QUESTIONS ------------\n",
    "\n",
    "#https://github.com/wikimedia-research/wiki-segmentation/blob/master/data-collection/data-collection.ipynb\n",
    "\n",
    "#Monthly active editors\n",
    "\n",
    "How to get info on bots?\n",
    "is local_user_id exchangeable with user_id ?\n",
    "\n",
    "--AND local_user_id != 0\n",
    "    --bot_flag = 0 and (\n",
    "        --convert(user_name using utf8) not regexp \"bot\\\\\\\\b\" or\n",
    "        --convert(user_name using utf8) in (\"Paucabot\", \"Niabot\", \"Marbot\"))"
   ]
  },
  {
   "cell_type": "code",
   "execution_count": 29,
   "metadata": {},
   "outputs": [],
   "source": [
    "article_edits_glow = hive.run(\"\"\"\n",
    "SELECT trunc(event_timestamp, \"MONTH\") as month, \n",
    "       CASE WHEN wiki_db='arzwiki' THEN 'Egyptian-Arabic'\n",
    "                WHEN wiki_db='enwiki' THEN 'English-soonNigeria'\n",
    "                WHEN wiki_db='idwiki' THEN 'ID-Indonesia'\n",
    "                WHEN wiki_db='suwiki' THEN 'SU-Indonesia'\n",
    "                WHEN wiki_db='jvwiki' THEN 'JV-Indonesia'\n",
    "                WHEN wiki_db='minwiki' THEN 'MIN-Indonesia'\n",
    "                WHEN wiki_db='bnwiki' THEN 'BN-India'\n",
    "                WHEN wiki_db='hiwiki' THEN 'HI-India'\n",
    "                WHEN wiki_db='mlwiki' THEN 'ML-India'\n",
    "                WHEN wiki_db='pnbwiki' THEN 'PBN-India'\n",
    "                WHEN wiki_db='tawiki' THEN 'TA-India'\n",
    "                WHEN wiki_db='tewiki' THEN 'TE-India'\n",
    "                END,\n",
    "       SUM(CASE WHEN page_namespace_is_content THEN 1 ELSE 0 END) AS article_edits\n",
    "FROM wmf.mediawiki_history mwh\n",
    "INNER JOIN canonical_data.wikis cd\n",
    "        ON wiki_db = database_code  \n",
    "WHERE mwh.wiki_db in ('eswiki',\n",
    "                      'arzwiki',\n",
    "                      'enwiki',\n",
    "                      'idwiki',\n",
    "                      'suwiki',\n",
    "                      'jvwiki',\n",
    "                      'minwiki',\n",
    "                      'bnwiki',\n",
    "                      'hiwiki',\n",
    "                      'mlwiki',\n",
    "                      'pnbwiki',\n",
    "                      'tawiki',\n",
    "                      'tewiki') \n",
    "  AND event_timestamp between '2019-06-01' AND '2019-07-01'\n",
    "  AND mwh.page_namespace_is_content = TRUE\n",
    "  AND cd.database_group = \"wikipedia\"\n",
    "  AND snapshot = \"2019-05\"\n",
    "GROUP BY trunc(event_timestamp, \"MONTH\"), wiki_db\n",
    "\"\"\")"
   ]
  },
  {
   "cell_type": "code",
   "execution_count": 30,
   "metadata": {},
   "outputs": [
    {
     "data": {
      "text/html": [
       "<div>\n",
       "<table border=\"1\" class=\"dataframe\">\n",
       "  <thead>\n",
       "    <tr style=\"text-align: right;\">\n",
       "      <th></th>\n",
       "      <th>month</th>\n",
       "      <th>_c1</th>\n",
       "      <th>article_edits</th>\n",
       "    </tr>\n",
       "  </thead>\n",
       "  <tbody>\n",
       "    <tr>\n",
       "      <th>0</th>\n",
       "      <td>2019-06-01</td>\n",
       "      <td>Egyptian-Arabic</td>\n",
       "      <td>25</td>\n",
       "    </tr>\n",
       "    <tr>\n",
       "      <th>1</th>\n",
       "      <td>2019-06-01</td>\n",
       "      <td>BN-India</td>\n",
       "      <td>380</td>\n",
       "    </tr>\n",
       "    <tr>\n",
       "      <th>2</th>\n",
       "      <td>2019-06-01</td>\n",
       "      <td>English-soonNigeria</td>\n",
       "      <td>28840</td>\n",
       "    </tr>\n",
       "    <tr>\n",
       "      <th>3</th>\n",
       "      <td>2019-06-01</td>\n",
       "      <td>None</td>\n",
       "      <td>6508</td>\n",
       "    </tr>\n",
       "    <tr>\n",
       "      <th>4</th>\n",
       "      <td>2019-06-01</td>\n",
       "      <td>HI-India</td>\n",
       "      <td>610</td>\n",
       "    </tr>\n",
       "    <tr>\n",
       "      <th>5</th>\n",
       "      <td>2019-06-01</td>\n",
       "      <td>ID-Indonesia</td>\n",
       "      <td>5018</td>\n",
       "    </tr>\n",
       "    <tr>\n",
       "      <th>6</th>\n",
       "      <td>2019-06-01</td>\n",
       "      <td>JV-Indonesia</td>\n",
       "      <td>17</td>\n",
       "    </tr>\n",
       "    <tr>\n",
       "      <th>7</th>\n",
       "      <td>2019-06-01</td>\n",
       "      <td>MIN-Indonesia</td>\n",
       "      <td>1</td>\n",
       "    </tr>\n",
       "    <tr>\n",
       "      <th>8</th>\n",
       "      <td>2019-06-01</td>\n",
       "      <td>ML-India</td>\n",
       "      <td>154</td>\n",
       "    </tr>\n",
       "    <tr>\n",
       "      <th>9</th>\n",
       "      <td>2019-06-01</td>\n",
       "      <td>PBN-India</td>\n",
       "      <td>36</td>\n",
       "    </tr>\n",
       "    <tr>\n",
       "      <th>10</th>\n",
       "      <td>2019-06-01</td>\n",
       "      <td>SU-Indonesia</td>\n",
       "      <td>39</td>\n",
       "    </tr>\n",
       "    <tr>\n",
       "      <th>11</th>\n",
       "      <td>2019-06-01</td>\n",
       "      <td>TA-India</td>\n",
       "      <td>2310</td>\n",
       "    </tr>\n",
       "    <tr>\n",
       "      <th>12</th>\n",
       "      <td>2019-06-01</td>\n",
       "      <td>TE-India</td>\n",
       "      <td>289</td>\n",
       "    </tr>\n",
       "  </tbody>\n",
       "</table>\n",
       "</div>"
      ],
      "text/plain": [
       "         month                  _c1  article_edits\n",
       "0   2019-06-01      Egyptian-Arabic             25\n",
       "1   2019-06-01             BN-India            380\n",
       "2   2019-06-01  English-soonNigeria          28840\n",
       "3   2019-06-01                 None           6508\n",
       "4   2019-06-01             HI-India            610\n",
       "5   2019-06-01         ID-Indonesia           5018\n",
       "6   2019-06-01         JV-Indonesia             17\n",
       "7   2019-06-01        MIN-Indonesia              1\n",
       "8   2019-06-01             ML-India            154\n",
       "9   2019-06-01            PBN-India             36\n",
       "10  2019-06-01         SU-Indonesia             39\n",
       "11  2019-06-01             TA-India           2310\n",
       "12  2019-06-01             TE-India            289"
      ]
     },
     "execution_count": 30,
     "metadata": {},
     "output_type": "execute_result"
    }
   ],
   "source": [
    "article_edits_glow"
   ]
  },
  {
   "cell_type": "code",
   "execution_count": null,
   "metadata": {},
   "outputs": [],
   "source": [
    "article_edits_glow = hive.run(\"\"\"\n",
    "SELECT trunc(event_timestamp, \"MONTH\") as month, \n",
    "       CASE WHEN wiki_db='arzwiki' THEN 'Egyptian-Arabic'\n",
    "                WHEN wiki_db='enwiki' THEN 'English-soonNigeria'\n",
    "                WHEN wiki_db='idwiki' THEN 'ID-Indonesia'\n",
    "                WHEN wiki_db='suwiki' THEN 'SU-Indonesia'\n",
    "                WHEN wiki_db='jvwiki' THEN 'JV-Indonesia'\n",
    "                WHEN wiki_db='minwiki' THEN 'MIN-Indonesia'\n",
    "                WHEN wiki_db='bnwiki' THEN 'BN-India'\n",
    "                WHEN wiki_db='hiwiki' THEN 'HI-India'\n",
    "                WHEN wiki_db='mlwiki' THEN 'ML-India'\n",
    "                WHEN wiki_db='pnbwiki' THEN 'PBN-India'\n",
    "                WHEN wiki_db='tawiki' THEN 'TA-India'\n",
    "                WHEN wiki_db='tewiki' THEN 'TE-India'\n",
    "                END,\n",
    "       SUM(CASE WHEN page_namespace_is_content THEN 1 ELSE 0 END) AS article_edits\n",
    "FROM wmf.mediawiki_history mwh\n",
    "INNER JOIN canonical_data.wikis cd\n",
    "        ON wiki_db = database_code  \n",
    "WHERE mwh.wiki_db in ('eswiki',\n",
    "                      'arzwiki',\n",
    "                      'enwiki',\n",
    "                      'idwiki',\n",
    "                      'suwiki',\n",
    "                      'jvwiki',\n",
    "                      'minwiki',\n",
    "                      'bnwiki',\n",
    "                      'hiwiki',\n",
    "                      'mlwiki',\n",
    "                      'pnbwiki',\n",
    "                      'tawiki',\n",
    "                      'tewiki') \n",
    "  AND event_timestamp between '2019-06-01' AND '2019-07-01'\n",
    "  AND mwh.page_namespace_is_content = TRUE\n",
    "  AND cd.database_group = \"wikipedia\"\n",
    "  AND snapshot = \"2019-05\"\n",
    "GROUP BY trunc(event_timestamp, \"MONTH\"), wiki_db\n",
    "\"\"\")"
   ]
  },
  {
   "cell_type": "markdown",
   "metadata": {},
   "source": [
    "### 2. Monthly Active Editors <a class=\"anchor\" id=\"monthly_active_edits\"></a>\n",
    "[Back to Table of Contents](#toc)"
   ]
  },
  {
   "cell_type": "markdown",
   "metadata": {},
   "source": [
    "----------- TO DO --------------\n",
    "\n",
    "---------- QUESTIONS ------------"
   ]
  },
  {
   "cell_type": "code",
   "execution_count": 24,
   "metadata": {},
   "outputs": [],
   "source": [
    "Monthly_active_editors_all = hive.run(\"\"\"\n",
    "SELECT\n",
    "    wiki as database_code,\n",
    "    count(*) / 12 as monthly_active_editors\n",
    "FROM neilpquinn.editor_month\n",
    "where content_edits >= 5\n",
    "      AND month >= 2018-06-01\n",
    "      AND month < 2019-06-01\n",
    "      AND user_id != 0\n",
    "group by wiki\n",
    "\"\"\")"
   ]
  },
  {
   "cell_type": "code",
   "execution_count": 25,
   "metadata": {},
   "outputs": [],
   "source": [
    "Monthly_active_editors_glow = hive.run(\"\"\"\n",
    "SELECT\n",
    "    wiki as database_code,\n",
    "    count(*) / 12 as monthly_active_editors\n",
    "FROM neilpquinn.editor_month\n",
    "where wiki in ('eswiki',\n",
    "                 'arzwiki',\n",
    "                 'enwiki',\n",
    "                 'idwiki',\n",
    "                 'suwiki',\n",
    "                 'jvwiki',\n",
    "                 'minwiki',\n",
    "                 'bnwiki',\n",
    "                 'hiwiki',\n",
    "                 'mlwiki',\n",
    "                 'pnbwiki',\n",
    "                 'tawiki',\n",
    "                 'tewiki')\n",
    "      AND content_edits >= 5\n",
    "      AND month >= 2018-06-01\n",
    "      AND month < 2019-06-01\n",
    "      AND user_id != 0\n",
    "group by wiki\n",
    "\"\"\")"
   ]
  },
  {
   "cell_type": "code",
   "execution_count": 26,
   "metadata": {},
   "outputs": [
    {
     "data": {
      "text/html": [
       "<div>\n",
       "<table border=\"1\" class=\"dataframe\">\n",
       "  <thead>\n",
       "    <tr style=\"text-align: right;\">\n",
       "      <th></th>\n",
       "      <th>database_code</th>\n",
       "      <th>monthly_active_editors</th>\n",
       "    </tr>\n",
       "  </thead>\n",
       "  <tbody>\n",
       "  </tbody>\n",
       "</table>\n",
       "</div>"
      ],
      "text/plain": [
       "Empty DataFrame\n",
       "Columns: [database_code, monthly_active_editors]\n",
       "Index: []"
      ]
     },
     "execution_count": 26,
     "metadata": {},
     "output_type": "execute_result"
    }
   ],
   "source": [
    "Monthly_active_editors_glow"
   ]
  },
  {
   "cell_type": "code",
   "execution_count": null,
   "metadata": {},
   "outputs": [],
   "source": [
    "co_eds"
   ]
  },
  {
   "cell_type": "code",
   "execution_count": 27,
   "metadata": {},
   "outputs": [
    {
     "data": {
      "text/html": [
       "<div>\n",
       "<table border=\"1\" class=\"dataframe\">\n",
       "  <thead>\n",
       "    <tr style=\"text-align: right;\">\n",
       "      <th></th>\n",
       "      <th>database_code</th>\n",
       "      <th>monthly_active_editors</th>\n",
       "    </tr>\n",
       "  </thead>\n",
       "  <tbody>\n",
       "  </tbody>\n",
       "</table>\n",
       "</div>"
      ],
      "text/plain": [
       "Empty DataFrame\n",
       "Columns: [database_code, monthly_active_editors]\n",
       "Index: []"
      ]
     },
     "execution_count": 27,
     "metadata": {},
     "output_type": "execute_result"
    }
   ],
   "source": [
    "Monthly_active_editors_all"
   ]
  },
  {
   "cell_type": "markdown",
   "metadata": {},
   "source": [
    "### Testing <a class=\"anchor\" id=\"testing\"></a>\n",
    "[Back to Table of Contents](#toc)"
   ]
  },
  {
   "cell_type": "code",
   "execution_count": null,
   "metadata": {},
   "outputs": [],
   "source": [
    "WikiData - API\n",
    "\n",
    "\n",
    "https://phabricator.wikimedia.org/T159104\n",
    "https://phabricator.wikimedia.org/T215616\n",
    "https://phabricator.wikimedia.org/T209891#4798717\n",
    "https://github.com/wikimedia-research/translation-recs-app\n",
    "    \n",
    "https://opendata.stackexchange.com/questions/1022/how-can-i-get-the-wikidata-inter-language-links\n",
    "https://en.wikipedia.org/wiki/Wikipedia:Finding_a_Wikidata_ID\n",
    "https://wiki.dbpedia.org/\n",
    "https://www.mediawiki.org/wiki/Special:ApiSandbox\n",
    "search:dbpedia sparql examples"
   ]
  },
  {
   "cell_type": "code",
   "execution_count": null,
   "metadata": {},
   "outputs": [],
   "source": [
    "Readership --------------------->\n",
    "\n",
    "\n",
    "UsageStats:::\n",
    "https://analytics.wikimedia.org/datasets/wikipedia-android-app-reports/suggested-edits-v1.html            \n",
    "\n",
    "el_query <- \"USE event;\n",
    "SELECT\n",
    "  useragent.wmf_app_version AS app_version,\n",
    "  event.app_install_id AS install_id,\n",
    "  event.session_token AS session_id,\n",
    "  MIN(SUBSTR(event.client_dt, 1, 10)) AS session_start_date,\n",
    "  COUNT(1) AS n_suggested_edits_sessions,\n",
    "  SUM(event.time_spent) AS total_time_spent, -- in seconds\n",
    "  SUM(event.help_opened) AS n_help, -- total times user looked at help\n",
    "  SUM(event.scorecard_opened) AS n_scorecard, -- total times user looked at scorecard,\n",
    "  COALESCE(SUM(description_addition.impressions) + SUM(description_translation.impressions), 0L) AS n_suggestions, -- total impressions\n",
    "  COALESCE(SUM(description_addition.unique_clicks) + SUM(description_translation.unique_clicks), 0L) AS n_accepts, -- total unique clickthroughs\n",
    "  COALESCE(SUM(description_addition.total_clicks) + SUM(description_translation.total_clicks), 0L) AS n_clicks, -- total clickthroughs\n",
    "  COALESCE(SUM(description_addition.cancels) + SUM(description_translation.cancels), 0L) AS n_cancels,\n",
    "  COALESCE(SUM(description_addition.successes) + SUM(description_translation.successes), 0L) AS n_edits -- total Wikidata descriptions edits\n",
    "FROM MobileWikiAppSuggestedEdits\n",
    "LATERAL VIEW JSON_TUPLE(event.edit_tasks, 'add-description', 'translate-description') edit_tasks\n",
    "  AS add_desc, translate_desc\n",
    "LATERAL VIEW JSON_TUPLE(edit_tasks.add_desc, 'impressions', 'clicks', 'suggestions_clicked', 'cancels', 'successes') description_addition\n",
    "  AS impressions, total_clicks, unique_clicks, cancels, successes\n",
    "LATERAL VIEW JSON_TUPLE(edit_tasks.translate_desc, 'impressions', 'clicks', 'suggestions_clicked', 'cancels', 'successes') description_translation\n",
    "  AS impressions, total_clicks, unique_clicks, cancels, successes\n",
    "WHERE (\n",
    "    (year = 2019 AND month = 4 AND day >= 23) -- launch week\n",
    "    OR (year = 2019 AND month > 4) -- remainder of the year\n",
    "    OR year > 2019 -- going forward\n",
    "  )\n",
    "  AND INSTR(useragent.wmf_app_version, '-r-') > 0\n",
    "GROUP BY wiki, useragent.wmf_app_version, event.app_install_id, event.session_token;\""
   ]
  },
  {
   "cell_type": "code",
   "execution_count": null,
   "metadata": {},
   "outputs": [],
   "source": [
    "%%script false\n",
    "editors_r = hive.run(\"\"\"\n",
    "select\n",
    "    coalesce(event_user_text, event_user_text_historical) as user_name,\n",
    "    not event_user_is_anonymous as registered,\n",
    "    count(*) as yearly_edits,\n",
    "    sum(cast(\n",
    "        coalesce(mve.editor, \"desktop wikitext editor\") in (\"mobile visual editor\", \"mobile wikitext editor\")\n",
    "    as int)) / count(*) as mobile_edit_proportion\n",
    "from wmf.mediawiki_history mh \n",
    "left join neilpquinn.mob_or_ve_edits mve\n",
    "on \n",
    "    mve.wiki = mh.wiki_db and\n",
    "    mve.rev_id = mh.revision_id\n",
    "where\n",
    "    mh.event_timestamp >= \"2017-10\" and\n",
    "    event_entity = \"revision\" and\n",
    "    event_type = \"create\" and\n",
    "    snapshot = \"2018-09\"\n",
    "group by coalesce(event_user_text, event_user_text_historical), event_user_is_anonymous\n",
    "\"\"\")"
   ]
  },
  {
   "cell_type": "code",
   "execution_count": null,
   "metadata": {},
   "outputs": [],
   "source": [
    "%%read_sql\n",
    "SELECT trunc(event_timestamp, \"MONTH\") as month, \n",
    "       sum(cast(ARRAY_CONTAINS(revision_tags, \"mobile edit\") AS INT)) wikipedia_mobile_edits,\n",
    "       sum(cast(ARRAY_CONTAINS(revision_tags, \"mobile web edit\") AS INT)) wikipedia_mobile_edits,\n",
    "       sum(cast(ARRAY_CONTAINS(revision_tags, \"mobile app edit\") AS INT)) wikipedia_app_edits\n",
    "FROM (\n",
    "select\n",
    "    wiki_db,\n",
    "    event_timestamp,\n",
    "    array_contains(revision_tags, 'mobile web edit') as mobile_web_edit, \n",
    "    CASE\n",
    "        WHEN event_user_revision_count is NULL THEN 'undefined'\n",
    "        WHEN event_user_revision_count < 100 THEN 'under 100'\n",
    "        WHEN event_user_revision_count >= 100 AND event_user_revision_count < 500 THEN '100-499'\n",
    "        ELSE '500+'\n",
    "        END AS user_edit_count\n",
    "from wmf.mediawiki_history\n",
    "where\n",
    "    event_entity = 'revision' and\n",
    "    event_type = 'create' and\n",
    "    event_timestamp IS NOT NULL and\n",
    "    event_timestamp between '2019-06-01' and '2019-07-01' and \n",
    "    snapshot = '2019-06'\n",
    ") edits\n",
    "group by wiki_db, date_format(event_timestamp, 'yyyy-MM-dd'), user_edit_count\""
   ]
  },
  {
   "cell_type": "code",
   "execution_count": null,
   "metadata": {},
   "outputs": [],
   "source": [
    "%%read_sql pageviews -d\n",
    "select \n",
    "    CONCAT(year, '-', LPAD(month, 2, '0'), '-', LPAD(day, 2, '0')) AS date,\n",
    "    if(client_srp, 'Automatic translation from search result page', 'User initiated translation') as initiation_method,\n",
    "    if(to_language = 'id' or ((to_language is null or to_language='') and home_language = 'id'), TRUE, FALSE) as is_id,\n",
    "    sum(count) as pageviews\n",
    "from chelsyx.toledo_pageviews\n",
    "    where\n",
    "        ((year=2018 and month=12 and day > 2)\n",
    "    or year>=2019)\n",
    "    and agent_type = 'user'\n",
    "    and client_srp is not null\n",
    "group by year, month, day, client_srp,\n",
    "    if(to_language = 'id' or ((to_language is null or to_language='') and home_language = 'id'), TRUE, FALSE)\n",
    "order by year, month, day, client_srp\n",
    "limit 1000000"
   ]
  },
  {
   "cell_type": "code",
   "execution_count": null,
   "metadata": {},
   "outputs": [],
   "source": [
    "#filter\n",
    "glow_views = glow_views[glow_views.country_code.isin(glow_country_codes)]\n",
    "#co_eds1 = (co_eds.loc[co_eds['country_code'].isin([glow_country_codes])])\n",
    "#co_eds1 = co_eds[~co_eds['country_code'].isin(glow_country_codes)]\n",
    "#co_eds1[co_eds.index.map(lambda x: x in glow_country_codes)]"
   ]
  }
 ],
 "metadata": {
  "kernelspec": {
   "display_name": "Python 3",
   "language": "python",
   "name": "python3"
  },
  "language_info": {
   "codemirror_mode": {
    "name": "ipython",
    "version": 3
   },
   "file_extension": ".py",
   "mimetype": "text/x-python",
   "name": "python",
   "nbconvert_exporter": "python",
   "pygments_lexer": "ipython3",
   "version": "3.5.3"
  }
 },
 "nbformat": 4,
 "nbformat_minor": 2
}
