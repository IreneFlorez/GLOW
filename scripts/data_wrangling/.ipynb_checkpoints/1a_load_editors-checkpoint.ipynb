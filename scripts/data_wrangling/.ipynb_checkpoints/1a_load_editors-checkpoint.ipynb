{
 "cells": [
  {
   "cell_type": "code",
   "execution_count": 1,
   "metadata": {},
   "outputs": [],
   "source": [
    "import pandas as pd\n",
    "import numpy as np\n",
    "from wmfdata import hive, charting\n",
    "from wmfdata.charting import comma_fmt, pct_fmt\n",
    "from wmfdata.utils import pct_str"
   ]
  },
  {
   "cell_type": "raw",
   "metadata": {},
   "source": [
    "#clear cache, restart kernel, then clear cache again then run the pip install below\n",
    "rm -rf ~/.cache/pip/http/*"
   ]
  },
  {
   "cell_type": "raw",
   "metadata": {},
   "source": [
    "pip install --upgrade git+https://github.com/neilpquinn/wmfdata.git@hive-engines"
   ]
  },
  {
   "cell_type": "markdown",
   "metadata": {},
   "source": [
    "## Read data"
   ]
  },
  {
   "cell_type": "markdown",
   "metadata": {},
   "source": [
    "### Get data 2018"
   ]
  },
  {
   "cell_type": "code",
   "execution_count": 2,
   "metadata": {},
   "outputs": [],
   "source": [
    "#2018 \n",
    "t1_recipients =  pd.read_csv(\"../../data/raw/editors/2018/2018_grant_recipients.csv\", sep=',', encoding = 'utf-8')\n",
    "\n",
    "#ptp+ jury names\n",
    "idc_jury_clean = pd.read_csv(\"../../data/processed/contest_api/indic_contests_jury_data.csv\", sep=',', encoding = 'utf-8')\n",
    "\n",
    "#ptp+ editor names\n",
    "idc = pd.read_csv(\"../../data/processed/contest_api/indic_contests_data_clean.csv\", sep=',', encoding = 'utf-8')"
   ]
  },
  {
   "cell_type": "markdown",
   "metadata": {},
   "source": [
    "### Get data 2019"
   ]
  },
  {
   "cell_type": "code",
   "execution_count": 3,
   "metadata": {},
   "outputs": [],
   "source": [
    "participants = pd.read_csv(\"../../data/processed/participants_list_received_clean/2019/participants.csv\", sep=',', encoding = 'utf-8')"
   ]
  },
  {
   "cell_type": "code",
   "execution_count": 4,
   "metadata": {},
   "outputs": [],
   "source": [
    "#editors_report_articles_per_month\n",
    "erapm = pd.read_csv(\"../../data/raw/articles/2019/editors_report_articles_per_month.csv\", sep=',', encoding = 'utf-8')"
   ]
  },
  {
   "cell_type": "markdown",
   "metadata": {},
   "source": [
    "## Clean data"
   ]
  },
  {
   "cell_type": "code",
   "execution_count": 5,
   "metadata": {},
   "outputs": [],
   "source": [
    "#idc_s = idc.loc[idc.str.startswith('project-tiger-2018-', na=False)]\n",
    "idc_ptp18 = idc[idc['contest_code'].str.contains('project-tiger-2018-')]\n",
    "idc_ptp18_editors = list(idc_ptp18['user_name'].unique())"
   ]
  },
  {
   "cell_type": "code",
   "execution_count": 6,
   "metadata": {},
   "outputs": [
    {
     "data": {
      "text/plain": [
       "289"
      ]
     },
     "execution_count": 6,
     "metadata": {},
     "output_type": "execute_result"
    }
   ],
   "source": [
    "len(idc_ptp18_editors)"
   ]
  },
  {
   "cell_type": "code",
   "execution_count": 7,
   "metadata": {},
   "outputs": [],
   "source": [
    "idc_ptp18b = idc_ptp18.copy()\n",
    "idc_ptp18b = idc_ptp18b[['article_name', 'user_name']]"
   ]
  },
  {
   "cell_type": "code",
   "execution_count": 8,
   "metadata": {},
   "outputs": [],
   "source": [
    "idc_ptp18b = idc_ptp18b.rename(columns={'user_name': 'username',\n",
    "                                        'article_name': 'page_title',\n",
    "                                        })"
   ]
  },
  {
   "cell_type": "raw",
   "metadata": {},
   "source": [
    "idc_ptp18_editors = idc_ptp18b[['username', 'glow_editor_signup']]"
   ]
  },
  {
   "cell_type": "code",
   "execution_count": 9,
   "metadata": {},
   "outputs": [],
   "source": [
    "erapm2018  = idc_ptp18b[['username', 'page_title']].groupby('username').count().sort_values(by='page_title', ascending=False).rename(columns={'page_title':'article_count'}).reset_index(inplace=True)\n",
    "erapm2018['glow_editor_signup'] = True"
   ]
  },
  {
   "cell_type": "code",
   "execution_count": 11,
   "metadata": {},
   "outputs": [
    {
     "data": {
      "text/plain": [
       "289"
      ]
     },
     "execution_count": 11,
     "metadata": {},
     "output_type": "execute_result"
    }
   ],
   "source": [
    "len(erapm2018)"
   ]
  },
  {
   "cell_type": "code",
   "execution_count": 12,
   "metadata": {},
   "outputs": [],
   "source": [
    "#create bool column for glow_editor_signup using Fountain data in idc_ptp18_editors list\n",
    "t1_recipients[\"glow_editor_signup\"]=np.where(t1_recipients[\"username\"].isin(idc_ptp18_editors), 1,0)\n",
    "t1_recipients['glow_editor_signup'] = t1_recipients['glow_editor_signup'].astype('bool')\n",
    "\n",
    "#create column for recieved incentive\n",
    "t1_recipients['incentive_recipient'] = True"
   ]
  },
  {
   "cell_type": "code",
   "execution_count": 13,
   "metadata": {},
   "outputs": [
    {
     "data": {
      "text/plain": [
       "0"
      ]
     },
     "execution_count": 13,
     "metadata": {},
     "output_type": "execute_result"
    }
   ],
   "source": [
    "t1_recipients.duplicated(subset='username').sum()"
   ]
  },
  {
   "cell_type": "code",
   "execution_count": 14,
   "metadata": {},
   "outputs": [],
   "source": [
    "t1_recipients_clean = t1_recipients[['username', 'incentive_recipient', 'incentive_type', 'glow_editor_signup']]"
   ]
  },
  {
   "cell_type": "raw",
   "metadata": {},
   "source": [
    "idc_ptp18[idc_ptp18['user_name']=='zo']"
   ]
  },
  {
   "cell_type": "raw",
   "metadata": {},
   "source": [
    "t1_recipients_clean.to_csv(\"../../data/processed/participants_list_received_clean/2018/t1_recipients_clean.csv\", sep=',', encoding = 'utf-8', index=False)"
   ]
  },
  {
   "cell_type": "raw",
   "metadata": {},
   "source": [
    "erapm2018.to_csv(\"../../data/processed/participants_list_received_clean/2018/erapm2018.csv\", sep=',', encoding = 'utf-8', index=False)"
   ]
  },
  {
   "cell_type": "markdown",
   "metadata": {},
   "source": [
    "### Method 1"
   ]
  },
  {
   "cell_type": "raw",
   "metadata": {},
   "source": [
    "merge both dfs\n",
    "ptp18_participants = pd.merge(t1_recipients_clean, erapm2018, how='outer', on='username')"
   ]
  },
  {
   "cell_type": "markdown",
   "metadata": {},
   "source": [
    "### Method 2"
   ]
  },
  {
   "cell_type": "raw",
   "metadata": {},
   "source": [
    "#due to various script specific particulars it is easier to merge  and check rows by hand offline"
   ]
  },
  {
   "cell_type": "code",
   "execution_count": 21,
   "metadata": {},
   "outputs": [],
   "source": [
    "participants_tally_2018 = pd.read_csv(\"../../data/processed/participants_list_received_clean/2018/PTP_participants_grantees_article_counts.csv\", sep=',', encoding = 'utf-8')"
   ]
  },
  {
   "cell_type": "code",
   "execution_count": 25,
   "metadata": {},
   "outputs": [],
   "source": [
    "cols1 = ['incentive_recipient', 'glow_editor_signup']\n",
    "cols2 = ['incentive_type', 'article_count']\n",
    "\n",
    "participants_tally_2018[cols1] = participants_tally_2018[cols1].fillna(False)\n",
    "participants_tally_2018[cols2] = participants_tally_2018[cols2].fillna(0)"
   ]
  },
  {
   "cell_type": "code",
   "execution_count": 48,
   "metadata": {},
   "outputs": [],
   "source": [
    "participants_tally_2018_clean = participants_tally_2018.copy()"
   ]
  },
  {
   "cell_type": "code",
   "execution_count": 49,
   "metadata": {},
   "outputs": [],
   "source": [
    "participants_tally_2018_clean.to_csv(\"../../data/processed/participants_list_received_clean/2018/PTP_participants_grantees_article_counts_clean.csv\", sep=',', encoding = 'utf-8', index=False)"
   ]
  },
  {
   "cell_type": "markdown",
   "metadata": {},
   "source": [
    "## Clean data"
   ]
  },
  {
   "cell_type": "markdown",
   "metadata": {},
   "source": [
    "### Method 1"
   ]
  },
  {
   "cell_type": "code",
   "execution_count": null,
   "metadata": {},
   "outputs": [],
   "source": [
    "tp_filepath = \"../../data/raw/editors/2019/tiger2_participants_report/total_participants.csv\"\n",
    "sr_filepath = \"../../data/raw/editors/2019/tiger2_participants_report/support_recipients.csv\"\n",
    "\n",
    "#participants.to_csv(filepath, index=False, header=False)\n",
    "contributors = pd.read_csv(tp_filepath)\n",
    "support_recipients = pd.read_csv(sr_filepath)"
   ]
  },
  {
   "cell_type": "code",
   "execution_count": null,
   "metadata": {
    "jupyter": {
     "source_hidden": true
    }
   },
   "outputs": [],
   "source": [
    "#TO DO - make all names lower case and care for double entries where incentive is diff"
   ]
  },
  {
   "cell_type": "code",
   "execution_count": null,
   "metadata": {
    "jupyter": {
     "source_hidden": true
    }
   },
   "outputs": [],
   "source": [
    "#rename column for later merging\n",
    "contributors = contributors.rename(columns={'Which incentive?':'incentive_type',\n",
    "                                            'Recieved incentive?': 'incentive_recipient',\n",
    "                                            'Username': 'username'\n",
    "                                            })\n",
    "\n",
    "support_recipients = support_recipients.rename(columns={'Recieved incentive?': 'received_incentive',\n",
    "                                                        'Username': 'username',\n",
    "                                                        'Incentive type':'incentive_type'\n",
    "                                                       })\n",
    "\n",
    "#clean up typos in the the incentive type column\n",
    "contributors['incentive_type'] = contributors['incentive_type'].str.replace('Laptop, Internet' , 'laptop_internet')\n",
    "contributors['incentive_type'] = contributors['incentive_type'].str.replace('Laptop,Internet' , 'laptop_internet')\n",
    "support_recipients['incentive_type'] = support_recipients['incentive_type'].str.replace('Laptop,Internet' , 'laptop_internet')\n",
    "\n",
    "#create a column for GLOW participation\n",
    "contributors['glow_editor_signup'] = True\n",
    "\n",
    "contributors['received_incentive'] = contributors['received_incentive'].replace(to_replace=['No', 'Yes'], value=[0, 1])\n",
    "\n",
    "#handle column for 'Received incentive?'\n",
    "contributors['received_incentive'] = contributors['received_incentive'].astype('bool')\n",
    "support_recipients['received_incentive'] = support_recipients['received_incentive'].astype('bool')"
   ]
  },
  {
   "cell_type": "code",
   "execution_count": null,
   "metadata": {
    "jupyter": {
     "source_hidden": true
    }
   },
   "outputs": [],
   "source": [
    "contributors['incentive_type'].unique()"
   ]
  },
  {
   "cell_type": "code",
   "execution_count": null,
   "metadata": {
    "jupyter": {
     "source_hidden": true
    }
   },
   "outputs": [],
   "source": [
    "support_recipients['incentive_type'].unique()"
   ]
  },
  {
   "cell_type": "code",
   "execution_count": null,
   "metadata": {
    "jupyter": {
     "source_hidden": true
    }
   },
   "outputs": [],
   "source": [
    "#identify editors not in editor list\n",
    "e_p = list(contributors['username'])\n",
    "e_r = list(support_recipients['username'])\n",
    "\n",
    "support_recipients_missing = list(set(e_r)-set(e_p))\n",
    "srta_r = support_recipients.loc[support_recipients['username'].isin(support_recipients_missing)]\n",
    "srta = srta_r.copy()\n",
    "\n",
    "#srta['glow_editor_signup'] = False"
   ]
  },
  {
   "cell_type": "code",
   "execution_count": null,
   "metadata": {
    "jupyter": {
     "source_hidden": true
    }
   },
   "outputs": [],
   "source": [
    "participants = pd.concat([contributors, srta], sort=True).fillna(False)"
   ]
  },
  {
   "cell_type": "markdown",
   "metadata": {},
   "source": [
    "### Method 2"
   ]
  },
  {
   "cell_type": "code",
   "execution_count": 32,
   "metadata": {},
   "outputs": [],
   "source": [
    "replacements = {\n",
    "    'incentive_type' : {\n",
    "        'Laptop,Internet' : 'laptop_internet',\n",
    "        'Laptop, Internet' : 'laptop_internet',\n",
    "    }\n",
    "}\n",
    "\n",
    "participants.replace(replacements, inplace=True)\n",
    "\n",
    "#lowercase values\n",
    "participants['incentive_type'] = participants['incentive_type'].str.lower()\n",
    "\n",
    "#handle column for 'Received incentive?'\n",
    "participants = participants.rename(columns={'received_incentive': 'incentive_recipient'})\n",
    "\n",
    "\n",
    "participants['incentive_recipient'] = participants['incentive_recipient'].replace(to_replace=['No', 'Yes'], value=[0, 1])\n",
    "participants['incentive_recipient'] = participants['incentive_recipient'].astype('bool')"
   ]
  },
  {
   "cell_type": "code",
   "execution_count": 33,
   "metadata": {},
   "outputs": [],
   "source": [
    "editor_tallies = erapm [['user', 'Grand Total']]\n",
    "\n",
    "editor_tallies = editor_tallies.rename(columns={'user': 'username',\n",
    "                                                'Grand Total': 'total_articles'\n",
    "                                                       })"
   ]
  },
  {
   "cell_type": "code",
   "execution_count": 34,
   "metadata": {},
   "outputs": [],
   "source": [
    "participants_tally_2019 = pd.merge(participants, editor_tallies, how='left', on='username').fillna(0)"
   ]
  },
  {
   "cell_type": "code",
   "execution_count": 38,
   "metadata": {},
   "outputs": [],
   "source": [
    "participants_tally_2019.to_csv(\"../../data/processed/participants_list_received_clean/2019/participants_tally_2019.csv\", sep=',', encoding = 'utf-8', index=False)"
   ]
  },
  {
   "cell_type": "markdown",
   "metadata": {},
   "source": [
    "## Preparing to create table and load into hive"
   ]
  },
  {
   "cell_type": "code",
   "execution_count": 41,
   "metadata": {},
   "outputs": [],
   "source": [
    "participants2018 = participants_tally_2018[['glow_editor_signup', 'incentive_recipient', 'incentive_type', 'username']]\n",
    "participants2019 = participants_tally_2019[['glow_editor_signup', 'incentive_recipient', 'incentive_type', 'username']]"
   ]
  },
  {
   "cell_type": "code",
   "execution_count": 42,
   "metadata": {},
   "outputs": [],
   "source": [
    "participants2018.to_csv(\"../../data/processed/participants_list_received_clean/final/participants2018.csv\", sep=',', encoding = 'utf-8', index=False)"
   ]
  },
  {
   "cell_type": "code",
   "execution_count": 43,
   "metadata": {},
   "outputs": [],
   "source": [
    "participants2019.to_csv(\"../../data/processed/participants_list_received_clean/final/participants2019.csv\", sep=',', encoding = 'utf-8', index=False)"
   ]
  },
  {
   "cell_type": "raw",
   "metadata": {},
   "source": [
    "!hive -e \"Drop TABLE IF EXISTS florez.glow_tiger_participants\""
   ]
  },
  {
   "cell_type": "raw",
   "metadata": {},
   "source": [
    "!hive -e LOAD DATA LOCAL INPATH \"../../data/processed/participants_list_received_clean/2019/participants_recipients_all.csv\" \n",
    "INTO TABLE florez.glow_tiger_participants;"
   ]
  },
  {
   "cell_type": "markdown",
   "metadata": {},
   "source": [
    "# Getting a list of participants into Hive"
   ]
  },
  {
   "cell_type": "code",
   "execution_count": 45,
   "metadata": {},
   "outputs": [],
   "source": [
    "participants2019 = \"../../data/processed/participants_list_received_clean/final/participants2019.csv\"\n",
    "hive.load_csv(\n",
    "    participants2019,\n",
    "    field_spec=\"glow_editor_signup boolean, incentive_recipient boolean, incentive_type string, username string\",\n",
    "    db_name=\"florez\",\n",
    "    table_name=\"glow_tiger_participants\",\n",
    "    sep=','\n",
    ")"
   ]
  },
  {
   "cell_type": "code",
   "execution_count": 46,
   "metadata": {},
   "outputs": [],
   "source": [
    "participants2018 = \"../../data/processed/participants_list_received_clean/final/participants2018.csv\"\n",
    "hive.load_csv(\n",
    "    participants2018,\n",
    "    field_spec=\"glow_editor_signup boolean, incentive_recipient boolean, incentive_type string, username string\",\n",
    "    db_name=\"florez\",\n",
    "    table_name=\"glow_tiger_pilot_participants\",\n",
    "    sep=','\n",
    ")"
   ]
  },
  {
   "cell_type": "code",
   "execution_count": null,
   "metadata": {},
   "outputs": [],
   "source": []
  }
 ],
 "metadata": {
  "kernelspec": {
   "display_name": "Python 3",
   "language": "python",
   "name": "python3"
  },
  "language_info": {
   "codemirror_mode": {
    "name": "ipython",
    "version": 3
   },
   "file_extension": ".py",
   "mimetype": "text/x-python",
   "name": "python",
   "nbconvert_exporter": "python",
   "pygments_lexer": "ipython3",
   "version": "3.5.3"
  }
 },
 "nbformat": 4,
 "nbformat_minor": 4
}
