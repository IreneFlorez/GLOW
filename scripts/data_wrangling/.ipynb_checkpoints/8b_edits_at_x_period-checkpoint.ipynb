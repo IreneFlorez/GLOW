{
 "cells": [
  {
   "cell_type": "code",
   "execution_count": null,
   "metadata": {},
   "outputs": [],
   "source": []
  },
  {
   "cell_type": "markdown",
   "metadata": {},
   "source": [
    "### Edits to the article over time (x period after the contest ends)"
   ]
  },
  {
   "cell_type": "raw",
   "metadata": {},
   "source": [
    "# edits_nm_pa_editors_PT18 = wmf.mariadb.run(\"\"\"\n",
    "SELECT \n",
    "    user_id AS editor, \n",
    "    rev_timestamp AS edit_date,\n",
    "    wiki\n",
    "FROM user\n",
    "JOIN revision \n",
    "  on rev_user = user_id\n",
    "JOIN page\n",
    "  on rev_page = page_id\n",
    "WHERE user_name IN ({pa_editors_PT18})\n",
    "  AND rev_timestamp >= \"2018-01-01\"\n",
    "  AND rev_timestamp <= \"2019-11-12\"\n",
    "  AND rev_minor_edit != 0\n",
    "\"\"\".format(pa_editors_PT18=pa_editors_PT18), \"pawiki\")\n",
    "\n",
    "edits_nm_pa_editors_PT18['wiki'] = 'pawiki'\n",
    "edits_nm_pa_editors_PT18['contest']= 'PT18'\n",
    "\n",
    "query_vars = dict(\n",
    "    MWH_SNAPSHOT = \"2019-06\",\n",
    "    C_START_DATE = datetime.utcnow().strftime(\"%Y-%m-%d\"),\n",
    "    M_START_DATE = (datetime.today() - timedelta(days=30)).strftime('%Y-%m'),\n",
    "    M2_START_DATE = (datetime.today() - timedelta(days=60)).strftime('%Y-%m'),\n",
    "    Y_START_DATE = (datetime.today() - timedelta(days=365)).strftime('%Y-%m'),\n",
    "    END_DATE=dt.datetime.now().strftime('%Y-%m'),\n",
    ")"
   ]
  },
  {
   "cell_type": "code",
   "execution_count": null,
   "metadata": {},
   "outputs": [],
   "source": [
    "# six months after contest ends, 2018-11-31\n",
    "\n",
    "edits_nm_pa_editors_PT18 = wmf.mariadb.run(\"\"\"\n",
    "SELECT user_id AS editor, rev_timestamp AS edit_date\n",
    "FROM user\n",
    "JOIN revision \n",
    "on rev_user = user_id\n",
    "WHERE user_name IN ({pa_editors_PT18})\n",
    "  AND rev_timestamp > \"20170101000000\"\n",
    "  AND rev_minor_edit != 0\n",
    "\"\"\".format(pa_editors_PT18=pa_editors_PT18), \"pawiki\")\n",
    "\n",
    "edits_nm_pa_editors_PT18['wiki'] = 'pawiki'\n",
    "edits_nm_pa_editors_PT18['contest']= 'PT18'"
   ]
  },
  {
   "cell_type": "code",
   "execution_count": null,
   "metadata": {},
   "outputs": [],
   "source": [
    "# df = edits_nm_pa_editors_PT18"
   ]
  },
  {
   "cell_type": "code",
   "execution_count": null,
   "metadata": {},
   "outputs": [],
   "source": [
    "# df['edit_date'] = pd.to_datetime(df['edit_date'])"
   ]
  },
  {
   "cell_type": "code",
   "execution_count": null,
   "metadata": {},
   "outputs": [],
   "source": [
    "# df.sort_values(by='edit_date').tail()"
   ]
  },
  {
   "cell_type": "code",
   "execution_count": null,
   "metadata": {},
   "outputs": [],
   "source": [
    "#save data\n",
    "df.to_csv(\"./data/editor_r/editor_retention_PTP_wla_2018.csv\", sep=',', encoding = 'utf-8')"
   ]
  },
  {
   "cell_type": "raw",
   "metadata": {},
   "source": [
    "# fig, ax = plt.subplots(figsize=(15,7))\n",
    "df.groupby(['wiki','edit_date']).count()['contest'].unstack().plot(ax=ax)"
   ]
  },
  {
   "cell_type": "code",
   "execution_count": null,
   "metadata": {},
   "outputs": [],
   "source": [
    "# df\\\n",
    "    .groupby(['editor','edit_date', 'contest'])\\\n",
    "    .count()\\\n",
    "    .unstack()\\\n",
    "    .plot(kind='bar')"
   ]
  },
  {
   "cell_type": "code",
   "execution_count": null,
   "metadata": {},
   "outputs": [],
   "source": [
    "# py.plot([{\n",
    "    'x': df.index,\n",
    "    'y':df['contest']\n",
    "    'name': 'edit_date'\n",
    "}\n",
    "\n",
    "for row in df.edit_date])"
   ]
  },
  {
   "cell_type": "code",
   "execution_count": null,
   "metadata": {},
   "outputs": [],
   "source": [
    "# df_test = df.copy()"
   ]
  },
  {
   "cell_type": "code",
   "execution_count": null,
   "metadata": {},
   "outputs": [],
   "source": [
    "# df_test['edit_count'] = 1"
   ]
  },
  {
   "cell_type": "code",
   "execution_count": null,
   "metadata": {},
   "outputs": [],
   "source": [
    "# df_test"
   ]
  },
  {
   "cell_type": "code",
   "execution_count": null,
   "metadata": {},
   "outputs": [],
   "source": [
    "# (ggplot(df_test)\n",
    "    +aes(x='edit_date', y='editor')\n",
    " +geom_point()\n",
    ")"
   ]
  },
  {
   "cell_type": "code",
   "execution_count": null,
   "metadata": {},
   "outputs": [],
   "source": [
    "# sns.lmplot(x='edit_count', y='edit_date', data=df_test, col='wiki', hue='contest')"
   ]
  },
  {
   "cell_type": "code",
   "execution_count": null,
   "metadata": {},
   "outputs": [],
   "source": [
    "# "
   ]
  },
  {
   "cell_type": "code",
   "execution_count": null,
   "metadata": {},
   "outputs": [],
   "source": [
    "# "
   ]
  }
 ],
 "metadata": {
  "kernelspec": {
   "display_name": "Python 3",
   "language": "python",
   "name": "python3"
  },
  "language_info": {
   "codemirror_mode": {
    "name": "ipython",
    "version": 3
   },
   "file_extension": ".py",
   "mimetype": "text/x-python",
   "name": "python",
   "nbconvert_exporter": "python",
   "pygments_lexer": "ipython3",
   "version": "3.5.3"
  }
 },
 "nbformat": 4,
 "nbformat_minor": 4
}
