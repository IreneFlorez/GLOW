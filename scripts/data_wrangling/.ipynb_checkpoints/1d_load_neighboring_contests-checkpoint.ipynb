{
 "cells": [
  {
   "cell_type": "code",
   "execution_count": 1,
   "metadata": {},
   "outputs": [],
   "source": [
    "import requests\n",
    "import json\n",
    "from pandas.io.json import json_normalize\n",
    "import pandas as pd\n",
    "import numpy as np\n",
    "from datetime import datetime"
   ]
  },
  {
   "cell_type": "code",
   "execution_count": 2,
   "metadata": {},
   "outputs": [],
   "source": [
    "# get list of wikis_in_submitted_articles_df from 1b notebook\n",
    "%store -r wikis_in_submitted_articles_df\n",
    "\n",
    "#get working contest api urls\n",
    "wlw_2019_base = 'https://tools.wmflabs.org/fountain/api/editathons/wlwsa2020-{}'\n",
    "ptp_2018_base = 'https://tools.wmflabs.org/fountain/api/editathons/project-tiger-2018-{}'\n",
    "wam_2019_base = 'https://tools.wmflabs.org/fountain/api/editathons/asian-month-2019-{}'\n",
    "\n",
    "wikicodes = wikis_in_submitted_articles_df\n",
    "\n",
    "def get_contest_urls(url_base):\n",
    "    urls_to_review = list()\n",
    "    for wikicode in wikicodes:\n",
    "        urls = (url_base.format(wikicode))\n",
    "        urls_to_review.append(urls)\n",
    "\n",
    "    not_found_urls = []\n",
    "    working_urls = []\n",
    "    final_urls_list = []\n",
    "    # Iterate here on the urls\n",
    "    # The below code could be executed for each url\n",
    "    for url in urls_to_review:\n",
    "        r = requests.get(url)\n",
    "        if r.status_code == 404:\n",
    "            not_found_urls.append(url)\n",
    "\n",
    "    working_urls = list(set(urls_to_review)-set(not_found_urls))\n",
    "    return working_urls"
   ]
  },
  {
   "cell_type": "code",
   "execution_count": 95,
   "metadata": {},
   "outputs": [],
   "source": [
    "def get_contest_data(working_urls):\n",
    "    collected_data = pd.DataFrame([])\n",
    "    for url in working_urls:\n",
    "        URL = url\n",
    "        r = requests.get(URL)\n",
    "        pretty_json = json.loads(r.text)\n",
    "        #pretty_data_dump = json.dumps(pretty_json, indent=2)\n",
    "        data = json_normalize(pretty_json)\n",
    "        core = data[['wiki','code', 'finish', 'start', 'jury', 'articles']]\n",
    "        lens = [len(item) for item in core['articles']]\n",
    "        explode_elongate_prep = pd.DataFrame({\n",
    "            'wiki':np.repeat(core['wiki'].values, lens),\n",
    "            'code':np.repeat(core['code'].values, lens),\n",
    "            'finish':np.repeat(core['finish'].values, lens),\n",
    "            'start':np.repeat(core['start'].values, lens),\n",
    "            'jury':np.repeat(core['jury'].values, lens),\n",
    "            'articles':np.hstack(core['articles']),\n",
    "                              })\n",
    "        explode_elongate = pd.concat([explode_elongate_prep.drop(['articles'], axis=1), explode_elongate_prep['articles'].apply(pd.Series)],axis=1)\n",
    "        df = explode_elongate.rename(columns={'name': 'article_name', 'user': 'user_name', 'code': 'contest_code'})\n",
    "        \n",
    "        collected_data = collected_data.append(df, ignore_index=True, sort=False)\n",
    "    return collected_data"
   ]
  },
  {
   "cell_type": "code",
   "execution_count": null,
   "metadata": {},
   "outputs": [],
   "source": [
    "#run\n",
    "wlw_2019_w_urls = get_contest_urls(wlw_2019_base)\n",
    "ptp_2018_w_urls = get_contest_urls(ptp_2018_base)\n",
    "wam_2019_w_urls = get_contest_urls(wam_2019_base)"
   ]
  },
  {
   "cell_type": "code",
   "execution_count": 96,
   "metadata": {},
   "outputs": [],
   "source": [
    "wlw_2019_data = get_contest_data(wlw_2019_w_urls)\n",
    "ptp_2018_data = get_contest_data(ptp_2018_w_urls)\n",
    "wam_2019_data = get_contest_data(wam_2019_w_urls)"
   ]
  },
  {
   "cell_type": "code",
   "execution_count": 97,
   "metadata": {},
   "outputs": [],
   "source": [
    "#clean data each df\n",
    "\n",
    "df_wam_2019 = wam_2019_data[['wiki', 'contest_code', 'start', 'finish', 'jury', 'dateAdded', 'article_name', 'user_name']]\n",
    "cols_to_drop = ['marks','id']\n",
    "df_wlw_2019 = wlw_2019_data[wlw_2019_data.columns.drop(cols_to_drop)]\n",
    "df_ptp_2018 = ptp_2018_data[ptp_2018_data.columns.drop(cols_to_drop)]"
   ]
  },
  {
   "cell_type": "code",
   "execution_count": 107,
   "metadata": {},
   "outputs": [
    {
     "name": "stderr",
     "output_type": "stream",
     "text": [
      "/home/iflorez/venv/lib/python3.5/site-packages/ipykernel_launcher.py:3: FutureWarning: Sorting because non-concatenation axis is not aligned. A future version\n",
      "of pandas will change to not sort by default.\n",
      "\n",
      "To accept the future behavior, pass 'sort=False'.\n",
      "\n",
      "To retain the current behavior and silence the warning, pass 'sort=True'.\n",
      "\n",
      "  This is separate from the ipykernel package so we can avoid doing imports until\n"
     ]
    }
   ],
   "source": [
    "#combine dfs\n",
    "#indic_contests_data\n",
    "idc_r = pd.concat([df_wlw_2019, df_ptp_2018, df_wam_2019])\n",
    "\n",
    "#change date columns to datetime data type\n",
    "idc_r[['start', 'finish', 'dateAdded']] = idc_r[['start', 'finish', 'dateAdded']].apply(pd.to_datetime)\n",
    "\n",
    "#create seperate dfs from the raw df\n",
    "idc_jury = idc_r[['contest_code','finish','jury','start','wiki'],sort=True]\n",
    "idc = idc_r[['article_name','contest_code','dateAdded','finish','start','user_name','wiki'],sort=True]"
   ]
  },
  {
   "cell_type": "code",
   "execution_count": 131,
   "metadata": {},
   "outputs": [],
   "source": [
    "idc_jury_clean = idc_jury.drop_duplicates(subset=['contest_code', 'finish', 'start', 'wiki'], keep='first')"
   ]
  },
  {
   "cell_type": "code",
   "execution_count": 123,
   "metadata": {},
   "outputs": [],
   "source": [
    "dupes = idc[idc.duplicated(['article_name','contest_code','wiki','user_name'])]"
   ]
  },
  {
   "cell_type": "code",
   "execution_count": 124,
   "metadata": {},
   "outputs": [
    {
     "data": {
      "text/html": [
       "<div>\n",
       "<style scoped>\n",
       "    .dataframe tbody tr th:only-of-type {\n",
       "        vertical-align: middle;\n",
       "    }\n",
       "\n",
       "    .dataframe tbody tr th {\n",
       "        vertical-align: top;\n",
       "    }\n",
       "\n",
       "    .dataframe thead th {\n",
       "        text-align: right;\n",
       "    }\n",
       "</style>\n",
       "<table border=\"1\" class=\"dataframe\">\n",
       "  <thead>\n",
       "    <tr style=\"text-align: right;\">\n",
       "      <th></th>\n",
       "      <th>article_name</th>\n",
       "      <th>contest_code</th>\n",
       "      <th>dateAdded</th>\n",
       "      <th>finish</th>\n",
       "      <th>start</th>\n",
       "      <th>user_name</th>\n",
       "      <th>wiki</th>\n",
       "    </tr>\n",
       "  </thead>\n",
       "  <tbody>\n",
       "  </tbody>\n",
       "</table>\n",
       "</div>"
      ],
      "text/plain": [
       "Empty DataFrame\n",
       "Columns: [article_name, contest_code, dateAdded, finish, start, user_name, wiki]\n",
       "Index: []"
      ]
     },
     "execution_count": 124,
     "metadata": {},
     "output_type": "execute_result"
    }
   ],
   "source": [
    "dupes"
   ]
  },
  {
   "cell_type": "markdown",
   "metadata": {},
   "source": [
    "## Preparing to create table and load into hive"
   ]
  },
  {
   "cell_type": "code",
   "execution_count": 134,
   "metadata": {},
   "outputs": [],
   "source": [
    "idc_r.to_csv(\"../../data/processed/contest_api/indic_contests_data_raw.csv\", sep=',', encoding = 'utf-8', index=False)\n",
    "idc.to_csv(\"../../data/processed/contest_api/indic_contests_data_clean.csv\", sep=',', encoding = 'utf-8', index=False)\n",
    "idc_jury_clean.to_csv(\"../../data/processed/contest_api/indic_contests_jury_data.csv\", sep=',', encoding = 'utf-8', index=False)"
   ]
  },
  {
   "cell_type": "raw",
   "metadata": {
    "jupyter": {
     "source_hidden": true
    }
   },
   "source": [
    "!hive -e LOAD DATA LOCAL INPATH \"../../data/processed/participants_list_received_clean/2019/participants_recipients_all.csv\" \n",
    "INTO TABLE florez.glow_tiger_participants;"
   ]
  }
 ],
 "metadata": {
  "kernelspec": {
   "display_name": "Python 3",
   "language": "python",
   "name": "python3"
  },
  "language_info": {
   "codemirror_mode": {
    "name": "ipython",
    "version": 3
   },
   "file_extension": ".py",
   "mimetype": "text/x-python",
   "name": "python",
   "nbconvert_exporter": "python",
   "pygments_lexer": "ipython3",
   "version": "3.5.3"
  }
 },
 "nbformat": 4,
 "nbformat_minor": 4
}
