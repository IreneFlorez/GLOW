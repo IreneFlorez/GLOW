{
 "cells": [
  {
   "cell_type": "markdown",
   "metadata": {},
   "source": [
    "# Collect - Contest editors - wikis"
   ]
  },
  {
   "cell_type": "markdown",
   "metadata": {},
   "source": [
    "## Table of Contents  <a class=\"anchor\" id=\"toc\"></a>\n",
    "\n",
    "* [GLOW Wiki Baselines](#top)\n",
    "\n",
    "    1. [Editors](#editors)\n"
   ]
  },
  {
   "cell_type": "markdown",
   "metadata": {},
   "source": [
    "## Editors<a class=\"anchor\" id=\"editors\"></a>\n",
    "[Back to Table of Contents](#toc)"
   ]
  },
  {
   "cell_type": "code",
   "execution_count": null,
   "metadata": {},
   "outputs": [],
   "source": [
    "#https://hue.wikimedia.org/hue/metastore/table/cchen/editor_month"
   ]
  },
  {
   "cell_type": "markdown",
   "metadata": {},
   "source": [
    "#### Monthly editors & monthly new <a class=\"anchor\" id=\"editors_monthly\"></a>\n",
    "[Back to Table of Contents](#toc)"
   ]
  },
  {
   "cell_type": "code",
   "execution_count": 1,
   "metadata": {},
   "outputs": [],
   "source": [
    "#adapted from:\n",
    "#https://github.com/wikimedia-research/wiki-segmentation\n",
    "#https://github.com/wikimedia-research/Editing-movement-metrics\n",
    "\n",
    "mce_contest_r = '''\n",
    "SELECT\n",
    "    em.wiki AS database_code,\n",
    "    COUNT(*) / 5 AS monthly_editors,\n",
    "    sum(CAST(TRUNC(em.user_registration, 'MM') = TRUNC(month, 'MM') AS INT))/ 5 AS monthly_new_editors\n",
    "FROM florez.glow_tiger_participants gtp  \n",
    "LEFT JOIN cchen.editor_month em\n",
    "    ON gtp.username = em.user_name \n",
    "WHERE\n",
    "    em.month >= \"{contest_start_dt}\"\n",
    "    AND em.month < \"{contest_end_dt_next_m}\"\n",
    "    AND em.wiki IN ({india_wiki_dbs}) \n",
    "    AND em.user_id != 0 \n",
    "    AND em.bot_by_group = FALSE\n",
    "    AND (em.user_name not regexp \"bot\\\\b\" or em.user_name in (\"Paucabot\", \"Niabot\", \"Marbot\"))\n",
    "GROUP BY em.wiki\n",
    "'''"
   ]
  },
  {
   "cell_type": "markdown",
   "metadata": {},
   "source": [
    "#### Monthly New Active Editors & monthly active editors <a class=\"anchor\" id=\"editors_active\"></a>\n",
    "[Back to Table of Contents](#toc)"
   ]
  },
  {
   "cell_type": "code",
   "execution_count": 2,
   "metadata": {},
   "outputs": [],
   "source": [
    "#monthly active editors\n",
    "#adapted from:\n",
    "#https://github.com/wikimedia-research/wiki-segmentation\n",
    "#https://github.com/wikimedia-research/Editing-movement-metrics\n",
    "\n",
    "mnae_contest_r = '''\n",
    "SELECT\n",
    "    em.wiki AS database_code,\n",
    "    COUNT(*) / 5 AS monthly_active_editors,\n",
    "    SUM(\n",
    "        CAST(TRUNC(em.user_registration, 'MM') = TRUNC(month, 'MM') AS INT)\n",
    "        )/ 5 AS monthly_new_active_editors\n",
    "FROM florez.glow_tiger_participants gtp  \n",
    "LEFT JOIN cchen.editor_month em\n",
    "    ON gtp.username = em.user_name \n",
    "WHERE\n",
    "    content_edits >= 5 \n",
    "    AND em.month >= \"{contest_start_dt}\"\n",
    "    AND em.month < \"{contest_end_dt_next_m}\"\n",
    "    AND em.wiki IN ({india_wiki_dbs}) \n",
    "    AND em.user_id != 0 \n",
    "    AND em.bot_by_group = FALSE\n",
    "    AND (em.user_name not regexp \"bot\\\\b\" or em.user_name in (\"Paucabot\", \"Niabot\", \"Marbot\"))  \n",
    "GROUP BY em.wiki\n",
    "'''"
   ]
  },
  {
   "cell_type": "markdown",
   "metadata": {},
   "source": [
    "#### Monthly Editors - including group of big wikis <a class=\"anchor\" id=\"editors_active\"></a>\n",
    "[Back to Table of Contents](#toc)"
   ]
  },
  {
   "cell_type": "code",
   "execution_count": 3,
   "metadata": {},
   "outputs": [],
   "source": [
    "mae_contest_r = '''\n",
    "SELECT\n",
    "    em.wiki AS database_code,\n",
    "    COUNT(*) / 5 AS indic_editors_on_big_wikis_m\n",
    "FROM florez.glow_tiger_participants gtp  \n",
    "LEFT JOIN cchen.editor_month em\n",
    "    ON gtp.username = em.user_name \n",
    "WHERE\n",
    "    em.month >= \"{contest_start_dt}\"\n",
    "    AND em.month < \"{contest_end_dt_next_m}\"\n",
    "    AND em.wiki IN {wikis_big} \n",
    "    AND em.user_id != 0 \n",
    "    AND em.bot_by_group = FALSE\n",
    "    AND (em.user_name not regexp \"bot\\\\b\" or em.user_name in (\"Paucabot\", \"Niabot\", \"Marbot\"))  \n",
    "GROUP BY em.wiki\n",
    "'''"
   ]
  },
  {
   "cell_type": "markdown",
   "metadata": {},
   "source": [
    "#### New editor retention <a class=\"anchor\" id=\"new_editor_retention\"></a>\n",
    "[Back to Table of Contents](#toc)"
   ]
  },
  {
   "cell_type": "code",
   "execution_count": null,
   "metadata": {},
   "outputs": [],
   "source": [
    "#adapted from:\n",
    "#https://github.com/wikimedia-research/wiki-segmentation\n",
    "#https://github.com/wikimedia-research/Editing-movement-metrics\n",
    "\n",
    "ner_contest_r = '''\n",
    "select \n",
    "    ne.wiki AS database_code,\n",
    "    sum(cast(ne.2nd_month_edits >= 1 as int)) / sum(cast(ne.1st_month_edits >= 1 as int)) AS new_editor_retention\n",
    "FROM florez.glow_tiger_participants gtp  \n",
    "LEFT JOIN neilpquinn.new_editors ne\n",
    "    ON gtp.username = ne.user_name\n",
    "where \n",
    "    ne.cohort >= \"{contest_start_dt}\"\n",
    "    AND ne.cohort < \"{contest_end_dt_next_m}\"\n",
    "    AND ne.wiki IN ({india_wiki_dbs})\n",
    "group by wiki\n",
    "'''"
   ]
  },
  {
   "cell_type": "raw",
   "metadata": {},
   "source": [
    "with open(\"queries/new_editor_retention.hql\") as f:\n",
    "    q = f.read()\n",
    "\n",
    "ner = wmf.hive.run(\n",
    "    q.format(start = \"{contest_start_dt_12m_pre}\", end = \"{TODAY_DATE}\").format(**query_vars))\n",
    "\n",
    "##ner = x where x in IN ({india_wiki_dbs})"
   ]
  }
 ],
 "metadata": {
  "kernelspec": {
   "display_name": "Python 3",
   "language": "python",
   "name": "python3"
  },
  "language_info": {
   "codemirror_mode": {
    "name": "ipython",
    "version": 3
   },
   "file_extension": ".py",
   "mimetype": "text/x-python",
   "name": "python",
   "nbconvert_exporter": "python",
   "pygments_lexer": "ipython3",
   "version": "3.7.8"
  }
 },
 "nbformat": 4,
 "nbformat_minor": 4
}
