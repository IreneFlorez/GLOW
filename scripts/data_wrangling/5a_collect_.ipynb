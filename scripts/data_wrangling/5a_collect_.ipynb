{
 "cells": [
  {
   "cell_type": "code",
   "execution_count": null,
   "metadata": {},
   "outputs": [],
   "source": []
  },
  {
   "cell_type": "code",
   "execution_count": 2,
   "metadata": {},
   "outputs": [],
   "source": [
    "%run P1G_1_data_handling.ipynb"
   ]
  },
  {
   "cell_type": "code",
   "execution_count": 4,
   "metadata": {},
   "outputs": [
    {
     "data": {
      "text/html": [
       "<div>\n",
       "<table border=\"1\" class=\"dataframe\">\n",
       "  <thead>\n",
       "    <tr style=\"text-align: right;\">\n",
       "      <th></th>\n",
       "      <th>name</th>\n",
       "      <th>iso_code</th>\n",
       "    </tr>\n",
       "  </thead>\n",
       "  <tbody>\n",
       "    <tr>\n",
       "      <th>0</th>\n",
       "      <td>Algeria</td>\n",
       "      <td>DZ</td>\n",
       "    </tr>\n",
       "    <tr>\n",
       "      <th>1</th>\n",
       "      <td>Argentina</td>\n",
       "      <td>AR</td>\n",
       "    </tr>\n",
       "    <tr>\n",
       "      <th>2</th>\n",
       "      <td>Egypt</td>\n",
       "      <td>EG</td>\n",
       "    </tr>\n",
       "    <tr>\n",
       "      <th>3</th>\n",
       "      <td>India</td>\n",
       "      <td>IN</td>\n",
       "    </tr>\n",
       "    <tr>\n",
       "      <th>4</th>\n",
       "      <td>Indonesia</td>\n",
       "      <td>ID</td>\n",
       "    </tr>\n",
       "    <tr>\n",
       "      <th>5</th>\n",
       "      <td>Iraq</td>\n",
       "      <td>IQ</td>\n",
       "    </tr>\n",
       "    <tr>\n",
       "      <th>6</th>\n",
       "      <td>Jordan</td>\n",
       "      <td>JO</td>\n",
       "    </tr>\n",
       "    <tr>\n",
       "      <th>7</th>\n",
       "      <td>Lebanon</td>\n",
       "      <td>LB</td>\n",
       "    </tr>\n",
       "    <tr>\n",
       "      <th>8</th>\n",
       "      <td>Morocco</td>\n",
       "      <td>MA</td>\n",
       "    </tr>\n",
       "    <tr>\n",
       "      <th>9</th>\n",
       "      <td>Nigeria</td>\n",
       "      <td>NG</td>\n",
       "    </tr>\n",
       "    <tr>\n",
       "      <th>10</th>\n",
       "      <td>Tunisia</td>\n",
       "      <td>TN</td>\n",
       "    </tr>\n",
       "  </tbody>\n",
       "</table>\n",
       "</div>"
      ],
      "text/plain": [
       "         name iso_code\n",
       "0     Algeria       DZ\n",
       "1   Argentina       AR\n",
       "2       Egypt       EG\n",
       "3       India       IN\n",
       "4   Indonesia       ID\n",
       "5        Iraq       IQ\n",
       "6      Jordan       JO\n",
       "7     Lebanon       LB\n",
       "8     Morocco       MA\n",
       "9     Nigeria       NG\n",
       "10    Tunisia       TN"
      ]
     },
     "execution_count": 4,
     "metadata": {},
     "output_type": "execute_result"
    }
   ],
   "source": [
    "countries = spark.sql(countries_r.format(**query_vars)).toPandas();"
   ]
  },
  {
   "cell_type": "code",
   "execution_count": null,
   "metadata": {},
   "outputs": [],
   "source": [
    "wikis = spark.sql(wikis_r.format(**query_vars)).toPandas()"
   ]
  },
  {
   "cell_type": "code",
   "execution_count": 504,
   "metadata": {},
   "outputs": [],
   "source": [
    "wikis.to_csv(\"./data/glow/wikis.csv\", sep=',', encoding = 'utf-8', index=False)"
   ]
  },
  {
   "cell_type": "code",
   "execution_count": null,
   "metadata": {},
   "outputs": [],
   "source": [
    "wikis_c = wikis.copy()\n",
    "wikis_c = wikis_c.reset_index()\n",
    "india_wikis = wikis_c.loc[wikis_a['database_code'].isin(india_glow_wiki_dbs_mariadb)]"
   ]
  },
  {
   "cell_type": "markdown",
   "metadata": {},
   "source": [
    "#### Editors<a class=\"anchor\" id=\"editors\"></a>\n",
    "[Back to Table of Contents](#toc)"
   ]
  },
  {
   "cell_type": "code",
   "execution_count": 11,
   "metadata": {
    "collapsed": true,
    "jupyter": {
     "outputs_hidden": true
    }
   },
   "outputs": [
    {
     "data": {
      "text/html": [
       "<div>\n",
       "<style scoped>\n",
       "    .dataframe tbody tr th:only-of-type {\n",
       "        vertical-align: middle;\n",
       "    }\n",
       "\n",
       "    .dataframe tbody tr th {\n",
       "        vertical-align: top;\n",
       "    }\n",
       "\n",
       "    .dataframe thead th {\n",
       "        text-align: right;\n",
       "    }\n",
       "</style>\n",
       "<table border=\"1\" class=\"dataframe\">\n",
       "  <thead>\n",
       "    <tr style=\"text-align: right;\">\n",
       "      <th></th>\n",
       "      <th>database_code</th>\n",
       "      <th>avg_monthly_content_editors</th>\n",
       "    </tr>\n",
       "  </thead>\n",
       "  <tbody>\n",
       "    <tr>\n",
       "      <td>0</td>\n",
       "      <td>arwiki</td>\n",
       "      <td>2783.250000</td>\n",
       "    </tr>\n",
       "    <tr>\n",
       "      <td>1</td>\n",
       "      <td>aswiki</td>\n",
       "      <td>36.833333</td>\n",
       "    </tr>\n",
       "    <tr>\n",
       "      <td>2</td>\n",
       "      <td>bnwiki</td>\n",
       "      <td>673.416667</td>\n",
       "    </tr>\n",
       "    <tr>\n",
       "      <td>3</td>\n",
       "      <td>enwiki</td>\n",
       "      <td>116314.333333</td>\n",
       "    </tr>\n",
       "    <tr>\n",
       "      <td>4</td>\n",
       "      <td>eswiki</td>\n",
       "      <td>24260.166667</td>\n",
       "    </tr>\n",
       "    <tr>\n",
       "      <td>5</td>\n",
       "      <td>guwiki</td>\n",
       "      <td>62.250000</td>\n",
       "    </tr>\n",
       "    <tr>\n",
       "      <td>6</td>\n",
       "      <td>hiwiki</td>\n",
       "      <td>986.250000</td>\n",
       "    </tr>\n",
       "    <tr>\n",
       "      <td>7</td>\n",
       "      <td>idwiki</td>\n",
       "      <td>2057.333333</td>\n",
       "    </tr>\n",
       "    <tr>\n",
       "      <td>8</td>\n",
       "      <td>jvwiki</td>\n",
       "      <td>55.666667</td>\n",
       "    </tr>\n",
       "    <tr>\n",
       "      <td>9</td>\n",
       "      <td>knwiki</td>\n",
       "      <td>100.000000</td>\n",
       "    </tr>\n",
       "    <tr>\n",
       "      <td>10</td>\n",
       "      <td>minwiki</td>\n",
       "      <td>32.083333</td>\n",
       "    </tr>\n",
       "    <tr>\n",
       "      <td>11</td>\n",
       "      <td>mlwiki</td>\n",
       "      <td>227.750000</td>\n",
       "    </tr>\n",
       "    <tr>\n",
       "      <td>12</td>\n",
       "      <td>mrwiki</td>\n",
       "      <td>168.083333</td>\n",
       "    </tr>\n",
       "    <tr>\n",
       "      <td>13</td>\n",
       "      <td>orwiki</td>\n",
       "      <td>25.000000</td>\n",
       "    </tr>\n",
       "    <tr>\n",
       "      <td>14</td>\n",
       "      <td>pawiki</td>\n",
       "      <td>56.666667</td>\n",
       "    </tr>\n",
       "    <tr>\n",
       "      <td>15</td>\n",
       "      <td>pnbwiki</td>\n",
       "      <td>10.916667</td>\n",
       "    </tr>\n",
       "    <tr>\n",
       "      <td>16</td>\n",
       "      <td>satwiki</td>\n",
       "      <td>16.666667</td>\n",
       "    </tr>\n",
       "    <tr>\n",
       "      <td>17</td>\n",
       "      <td>sawiki</td>\n",
       "      <td>9.833333</td>\n",
       "    </tr>\n",
       "    <tr>\n",
       "      <td>18</td>\n",
       "      <td>suwiki</td>\n",
       "      <td>27.166667</td>\n",
       "    </tr>\n",
       "    <tr>\n",
       "      <td>19</td>\n",
       "      <td>tawiki</td>\n",
       "      <td>276.750000</td>\n",
       "    </tr>\n",
       "    <tr>\n",
       "      <td>20</td>\n",
       "      <td>tcywiki</td>\n",
       "      <td>10.833333</td>\n",
       "    </tr>\n",
       "    <tr>\n",
       "      <td>21</td>\n",
       "      <td>tewiki</td>\n",
       "      <td>124.416667</td>\n",
       "    </tr>\n",
       "    <tr>\n",
       "      <td>22</td>\n",
       "      <td>urwiki</td>\n",
       "      <td>142.916667</td>\n",
       "    </tr>\n",
       "  </tbody>\n",
       "</table>\n",
       "</div>"
      ],
      "text/plain": [
       "   database_code  avg_monthly_content_editors\n",
       "0         arwiki                  2783.250000\n",
       "1         aswiki                    36.833333\n",
       "2         bnwiki                   673.416667\n",
       "3         enwiki                116314.333333\n",
       "4         eswiki                 24260.166667\n",
       "5         guwiki                    62.250000\n",
       "6         hiwiki                   986.250000\n",
       "7         idwiki                  2057.333333\n",
       "8         jvwiki                    55.666667\n",
       "9         knwiki                   100.000000\n",
       "10       minwiki                    32.083333\n",
       "11        mlwiki                   227.750000\n",
       "12        mrwiki                   168.083333\n",
       "13        orwiki                    25.000000\n",
       "14        pawiki                    56.666667\n",
       "15       pnbwiki                    10.916667\n",
       "16       satwiki                    16.666667\n",
       "17        sawiki                     9.833333\n",
       "18        suwiki                    27.166667\n",
       "19        tawiki                   276.750000\n",
       "20       tcywiki                    10.833333\n",
       "21        tewiki                   124.416667\n",
       "22        urwiki                   142.916667"
      ]
     },
     "execution_count": 11,
     "metadata": {},
     "output_type": "execute_result"
    }
   ],
   "source": [
    "mce = spark.sql(mce_r.format(**query_vars)).toPandas()\n",
    "mce_c = mce.copy()\n",
    "merge_in(mce)"
   ]
  },
  {
   "cell_type": "code",
   "execution_count": 16,
   "metadata": {},
   "outputs": [],
   "source": [
    "mnae = spark.sql(mnae_r.format(**query_vars)).toPandas()\n",
    "mnae_c = mnae.copy()\n",
    "merge_in(mnae)"
   ]
  },
  {
   "cell_type": "code",
   "execution_count": null,
   "metadata": {},
   "outputs": [],
   "source": [
    "mne = spark.sql(mne_r.format(**query_vars)).toPandas()\n",
    "mne_c = mne.copy()\n",
    "merge_in(mne)"
   ]
  },
  {
   "cell_type": "code",
   "execution_count": null,
   "metadata": {},
   "outputs": [],
   "source": [
    "ner = spark.sql(ner_r.format(**query_vars)).toPandas()\n",
    "ner_c = ner.copy()\n",
    "merge_in(ner)"
   ]
  },
  {
   "cell_type": "markdown",
   "metadata": {},
   "source": [
    "#### Readers<a class=\"anchor\" id=\"readers\"></a>\n",
    "[Back to Table of Contents](#toc)"
   ]
  },
  {
   "cell_type": "code",
   "execution_count": null,
   "metadata": {},
   "outputs": [],
   "source": [
    "pv_rc = spark.sql(pv_rc_r.format(**query_vars)).toPandas()\n",
    "pv_rc_c = pv_rc.copy()\n",
    "merge_in(pv_rc)"
   ]
  },
  {
   "cell_type": "markdown",
   "metadata": {},
   "source": [
    "#### Devices <a class=\"anchor\" id=\"article_detail\"></a>\n",
    "[Back to Table of Contents](#toc)"
   ]
  },
  {
   "cell_type": "code",
   "execution_count": null,
   "metadata": {},
   "outputs": [],
   "source": [
    "mca_uds = spark.sql(mca_uds_r.format(**query_vars)).toPandas()\n",
    "mca_uds_c = mca_uds.copy()\n",
    "merge_in(mca_uds)"
   ]
  },
  {
   "cell_type": "markdown",
   "metadata": {},
   "source": [
    "#### Articles<a class=\"anchor\" id=\"editors\"></a>\n",
    "[Back to Table of Contents](#toc)"
   ]
  },
  {
   "cell_type": "code",
   "execution_count": null,
   "metadata": {},
   "outputs": [],
   "source": [
    "m_new_article_counts = spark.sql(m_new_article_counts_r.format(**query_vars)).toPandas()\n",
    "m_new_article_counts_c = m_new_article_counts.copy()\n",
    "merge_in(m_new_article_counts)"
   ]
  },
  {
   "cell_type": "code",
   "execution_count": null,
   "metadata": {},
   "outputs": [],
   "source": [
    "m_new_articles_edited = spark.sql(m_new_articles_edited_r.format(**query_vars)).toPandas()\n",
    "m_new_articles_edited_c = m_new_articles_edited.copy()\n",
    "merge_in(m_new_articles_edited)"
   ]
  },
  {
   "cell_type": "code",
   "execution_count": null,
   "metadata": {},
   "outputs": [],
   "source": [
    "eae = spark.sql(eae_r.format(**query_vars)).toPandas()\n",
    "eae_c = eae.copy()\n",
    "merge_in(eae)"
   ]
  },
  {
   "cell_type": "code",
   "execution_count": null,
   "metadata": {},
   "outputs": [],
   "source": [
    "dra = spark.sql(dra_r.format(**query_vars)).toPandas()\n",
    "dra_c = dra.copy()\n",
    "merge_in(dra)"
   ]
  }
 ],
 "metadata": {
  "kernelspec": {
   "display_name": "Python 3",
   "language": "python",
   "name": "python3"
  },
  "language_info": {
   "codemirror_mode": {
    "name": "ipython",
    "version": 3
   },
   "file_extension": ".py",
   "mimetype": "text/x-python",
   "name": "python",
   "nbconvert_exporter": "python",
   "pygments_lexer": "ipython3",
   "version": "3.5.3"
  }
 },
 "nbformat": 4,
 "nbformat_minor": 4
}
