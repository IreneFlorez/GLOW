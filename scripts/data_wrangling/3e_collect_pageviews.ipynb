{
 "cells": [
  {
   "cell_type": "code",
   "execution_count": null,
   "metadata": {},
   "outputs": [],
   "source": []
  },
  {
   "cell_type": "code",
   "execution_count": 1,
   "metadata": {},
   "outputs": [],
   "source": [
    "import pandas as pd\n",
    "import wmfdata as wmf\n",
    "from wmfdata import charting, mariadb, hive, spark\n",
    "from wmfdata.utils import pct_str, pd_display_all"
   ]
  },
  {
   "cell_type": "code",
   "execution_count": 16,
   "metadata": {},
   "outputs": [],
   "source": [
    "pv_india_users_feb = spark.run(\"\"\"\n",
    "SELECT \n",
    "  gta.database_code AS wikicode,\n",
    "  gta.page_id,\n",
    "  gta.page_title,\n",
    "  SUM(view_count) as feb_view_count_internal\n",
    "FROM florez.glow_tiger_articles gta\n",
    "LEFT JOIN canonical_data.wikis cdw\n",
    "    ON cdw.database_code = gta.database_code\n",
    "LEFT JOIN wmf.pageview_hourly pvh\n",
    "    ON gta.page_id = pvh.page_id\n",
    "    AND CONCAT(cdw.language_code, '.', cdw.database_group) = pvh.project \n",
    "    AND pvh.year = 2020\n",
    "    AND pvh.month = 2\n",
    "WHERE\n",
    "    pvh.agent_type='user'\n",
    "    AND pvh.country_code = 'IN'\n",
    "GROUP BY \n",
    "  gta.database_code, gta.page_id, gta.page_title\n",
    "\"\"\")"
   ]
  },
  {
   "cell_type": "code",
   "execution_count": null,
   "metadata": {},
   "outputs": [],
   "source": [
    "pv_india_users_feb"
   ]
  },
  {
   "cell_type": "code",
   "execution_count": 13,
   "metadata": {},
   "outputs": [],
   "source": [
    "pv_all_users_feb = spark.run(\"\"\"\n",
    "SELECT \n",
    "  gta.database_code AS wikicode,\n",
    "  gta.page_id,\n",
    "  gta.page_title,\n",
    "  SUM(view_count) as feb_view_count_global\n",
    "FROM florez.glow_tiger_articles gta\n",
    "LEFT JOIN canonical_data.wikis cdw\n",
    "    ON cdw.database_code = gta.database_code\n",
    "LEFT JOIN wmf.pageview_hourly pvh\n",
    "    ON gta.page_id = pvh.page_id\n",
    "    AND CONCAT(cdw.language_code, '.', cdw.database_group) = pvh.project \n",
    "    AND pvh.year = 2020\n",
    "    AND pvh.month = 2\n",
    "WHERE\n",
    "    pvh.agent_type='user'\n",
    "GROUP BY \n",
    "    gta.database_code, gta.page_id, gta.page_title\n",
    "\"\"\")"
   ]
  },
  {
   "cell_type": "code",
   "execution_count": null,
   "metadata": {},
   "outputs": [],
   "source": [
    "pv_all_users_feb"
   ]
  },
  {
   "cell_type": "code",
   "execution_count": 23,
   "metadata": {},
   "outputs": [],
   "source": [
    "pv_df = pd.merge(pv_all_users_feb, pv_india_users_feb, on=['database_code', 'page_id', 'page_title'], how = 'outer').fillna(0)"
   ]
  },
  {
   "cell_type": "code",
   "execution_count": null,
   "metadata": {},
   "outputs": [],
   "source": [
    "pv_df"
   ]
  },
  {
   "cell_type": "code",
   "execution_count": null,
   "metadata": {},
   "outputs": [],
   "source": [
    "pv_df[pv_df.duplicated()]"
   ]
  },
  {
   "cell_type": "code",
   "execution_count": 31,
   "metadata": {},
   "outputs": [],
   "source": [
    "dupe_check = pv_df[pv_df.duplicated(['page_id', 'wikicode'])]"
   ]
  },
  {
   "cell_type": "code",
   "execution_count": 32,
   "metadata": {},
   "outputs": [
    {
     "data": {
      "text/plain": [
       "0"
      ]
     },
     "execution_count": 32,
     "metadata": {},
     "output_type": "execute_result"
    }
   ],
   "source": [
    "len(dupe_check)"
   ]
  },
  {
   "cell_type": "code",
   "execution_count": 33,
   "metadata": {},
   "outputs": [],
   "source": [
    "pv_df.to_csv(\"../../data/processed/query_results/content_quality/pv.csv\", sep=',', encoding = 'utf-8', index=False) "
   ]
  },
  {
   "cell_type": "code",
   "execution_count": null,
   "metadata": {},
   "outputs": [],
   "source": [
    "#merge with interim df"
   ]
  },
  {
   "cell_type": "code",
   "execution_count": null,
   "metadata": {},
   "outputs": [],
   "source": [
    "interim_frame_updated = pd.read_csv(\"../../data/processed/query_results/content_quality/1_interim_frame_updated.csv\", sep=',', encoding = 'utf-8', parse_dates=True)  "
   ]
  },
  {
   "cell_type": "code",
   "execution_count": null,
   "metadata": {},
   "outputs": [],
   "source": [
    "interim_frame_pv  = pd.merge(pv_df, interim_frame_updated, on=['wikicode', 'page_id', 'page_title'], how = 'right').fillna(0)"
   ]
  },
  {
   "cell_type": "code",
   "execution_count": null,
   "metadata": {},
   "outputs": [],
   "source": [
    "interim_frame_pv.to_csv(\"../../data/processed/query_results/content_quality/3_interim_frame_pv.csv\", sep=',', encoding = 'utf-8', index=False) "
   ]
  },
  {
   "cell_type": "code",
   "execution_count": null,
   "metadata": {},
   "outputs": [],
   "source": [
    "#merge with full df"
   ]
  },
  {
   "cell_type": "code",
   "execution_count": null,
   "metadata": {},
   "outputs": [],
   "source": [
    "final_frame_updated = pd.read_csv(\"../../data/processed/query_results/content_quality/b1_final_frame_updated.csv\", sep=',', encoding = 'utf-8', parse_dates=True)  "
   ]
  },
  {
   "cell_type": "code",
   "execution_count": null,
   "metadata": {},
   "outputs": [],
   "source": [
    "final_frame_updated_pv  = pd.merge(pv_df, final_frame_updated, on=['wikicode', 'page_id', 'page_title'], how = 'right').fillna(0)"
   ]
  },
  {
   "cell_type": "code",
   "execution_count": null,
   "metadata": {},
   "outputs": [],
   "source": [
    "final_frame_updated_pv.to_csv(\"../../data/processed/query_results/content_quality/b3_final_frame_updated_pv.csv\", sep=',', encoding = 'utf-8', index=False) "
   ]
  },
  {
   "cell_type": "code",
   "execution_count": null,
   "metadata": {},
   "outputs": [],
   "source": []
  },
  {
   "cell_type": "code",
   "execution_count": null,
   "metadata": {},
   "outputs": [],
   "source": [
    "pv_all_users_feb = spark.run(\"\"\"\n",
    "SELECT \n",
    "  gta.database_code AS wikicode,\n",
    "  gta.page_id,\n",
    "  gta.page_title,\n",
    "  SUM(view_count) as feb_view_count_global\n",
    "FROM florez.glow_tiger_articles gta\n",
    "LEFT JOIN canonical_data.wikis cdw\n",
    "    ON cdw.database_code = gta.database_code\n",
    "LEFT JOIN wmf.pageview_hourly pvh\n",
    "    ON gta.page_id = pvh.page_id\n",
    "    AND CONCAT(cdw.language_code, '.', cdw.database_group) = pvh.project \n",
    "    AND pvh.year = 2020\n",
    "    AND pvh.month = 2\n",
    "WHERE\n",
    "    pvh.agent_type='user'\n",
    "GROUP BY \n",
    "    gta.database_code, gta.page_id, gta.page_title\n",
    "\"\"\")"
   ]
  },
  {
   "cell_type": "code",
   "execution_count": 14,
   "metadata": {},
   "outputs": [],
   "source": [
    "feb_global_views_referrer = spark.run(\"\"\"\n",
    "SELECT \n",
    "  gta.database_code AS wikicode,\n",
    "  gta.page_id,\n",
    "  gta.page_title,\n",
    "  SUM(view_count) as feb_view_count_global,\n",
    "  referer_class\n",
    "FROM florez.glow_tiger_articles gta\n",
    "LEFT JOIN canonical_data.wikis cdw\n",
    "    ON cdw.database_code = gta.database_code\n",
    "LEFT JOIN wmf.pageview_hourly pvh\n",
    "    ON gta.page_id = pvh.page_id\n",
    "    AND CONCAT(cdw.language_code, '.', cdw.database_group) = pvh.project \n",
    "    AND pvh.year = 2020\n",
    "    AND pvh.month = 2\n",
    "WHERE\n",
    "    pvh.agent_type='user'\n",
    "GROUP BY \n",
    "    gta.database_code, gta.page_id, gta.page_title, referer_class\n",
    "\"\"\")"
   ]
  },
  {
   "cell_type": "code",
   "execution_count": null,
   "metadata": {},
   "outputs": [],
   "source": [
    "feb_global_views_referrer.sort_values(by='page_id')"
   ]
  },
  {
   "cell_type": "code",
   "execution_count": null,
   "metadata": {},
   "outputs": [],
   "source": [
    "feb_global_views_referer = feb_global_views_referer.rename(columns = {'wikicode':'database_code'})"
   ]
  },
  {
   "cell_type": "code",
   "execution_count": 17,
   "metadata": {},
   "outputs": [],
   "source": [
    "feb_global_views_referrer.to_csv(\"../../data/processed/query_results/content_quality/feb_global_views_referrer.csv\", sep=',', encoding = 'utf-8', index=False) "
   ]
  },
  {
   "cell_type": "code",
   "execution_count": null,
   "metadata": {},
   "outputs": [],
   "source": []
  }
 ],
 "metadata": {
  "kernelspec": {
   "display_name": "Python 3",
   "language": "python",
   "name": "python3"
  },
  "language_info": {
   "codemirror_mode": {
    "name": "ipython",
    "version": 3
   },
   "file_extension": ".py",
   "mimetype": "text/x-python",
   "name": "python",
   "nbconvert_exporter": "python",
   "pygments_lexer": "ipython3",
   "version": "3.5.3"
  }
 },
 "nbformat": 4,
 "nbformat_minor": 4
}
