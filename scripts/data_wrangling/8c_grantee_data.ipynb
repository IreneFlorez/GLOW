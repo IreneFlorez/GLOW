{
 "cells": [
  {
   "cell_type": "code",
   "execution_count": 1,
   "metadata": {},
   "outputs": [],
   "source": [
    "import pandas as pd\n",
    "import wmfdata as wmf\n",
    "from wmfdata import charting, mariadb, hive\n",
    "from wmfdata.utils import pct_str, pd_display_all"
   ]
  },
  {
   "cell_type": "code",
   "execution_count": null,
   "metadata": {},
   "outputs": [],
   "source": [
    "participants_last_grantees = \"\"\"\n",
    "SELECT pp.username, \n",
    "pp.incentive_type AS pp_inctv,\n",
    "gtp.incentive_type AS gtp_inctv,\n",
    "pp.glow_editor_signup AS pp_editor_signup\n",
    "\n",
    "FROM florez.glow_tiger_participants gtp\n",
    "INNER JOIN glow_tiger_pilot_participants pp\n",
    "on gtp.username = pp.username\n",
    "WHERE gtp.glow_editor_signup = True\n",
    "AND pp.incentive_recipient = True\n",
    "\"\"\""
   ]
  },
  {
   "cell_type": "code",
   "execution_count": null,
   "metadata": {},
   "outputs": [],
   "source": [
    "participants_last_participants = \"\"\"\n",
    "SELECT pp.username, \n",
    "pp.incentive_type AS pp_inctv,\n",
    "gtp.incentive_type AS gtp_inctv,\n",
    "pp.glow_editor_signup AS pp_editor_signup\n",
    "FROM florez.glow_tiger_participants gtp\n",
    "INNER JOIN glow_tiger_pilot_participants pp\n",
    "on gtp.username = pp.username\n",
    "WHERE gtp.glow_editor_signup = True\n",
    "AND pp.glow_editor_signup = True\n",
    "\"\"\""
   ]
  },
  {
   "cell_type": "code",
   "execution_count": 2,
   "metadata": {},
   "outputs": [],
   "source": [
    "from pyspark.sql.types import ArrayType, StringType\n",
    "\n",
    "from pyspark.context import SparkContext\n",
    "from pyspark.sql.session import SparkSession\n",
    "\n",
    "import datetime as dt\n",
    "\n",
    "import pandas as pd\n",
    "import numpy as np"
   ]
  },
  {
   "cell_type": "code",
   "execution_count": 8,
   "metadata": {},
   "outputs": [],
   "source": [
    "non_grantees_last_grantees = \"\"\"\n",
    "SELECT count(*)\n",
    "FROM florez.glow_tiger_pilot_participants pp\n",
    "    on gtp.username = pp.username\n",
    "WHERE gtp.glow_editor_signup = True\n",
    "AND gtp.incentive_recipient = False\n",
    "AND pp.incentive_recipient = True\n",
    "AND pp.incentive_type ='laptop'\n",
    "\"\"\""
   ]
  },
  {
   "cell_type": "code",
   "execution_count": null,
   "metadata": {},
   "outputs": [],
   "source": [
    "nglg = spark.sql(non_grantees_last_grantees).toPandas()"
   ]
  },
  {
   "cell_type": "raw",
   "metadata": {},
   "source": [
    "contest_articles_by_incentive = '''\n",
    "SELECT\n",
    "    count(*)\n",
    "FROM florez.glow_tiger_articles gta\n",
    "LEFT JOIN wmf.mediawiki_history mh\n",
    "    on gta.page_id = mh.page_id\n",
    "WHERE gta.article_type = \"new\"\n",
    "    AND mh.snapshot = '2020-03' \n",
    "    AND mh.event_timestamp >= '2019-10-10' \n",
    "    AND mh.event_timestamp < '2020-02-10'  \n",
    "    AND event_entity = \"page\"\n",
    "    AND event_type = \"create\"\n",
    "GROUP BY database_code\n",
    "'''"
   ]
  },
  {
   "cell_type": "code",
   "execution_count": null,
   "metadata": {},
   "outputs": [],
   "source": []
  }
 ],
 "metadata": {
  "kernelspec": {
   "display_name": "Python 3",
   "language": "python",
   "name": "python3"
  },
  "language_info": {
   "codemirror_mode": {
    "name": "ipython",
    "version": 3
   },
   "file_extension": ".py",
   "mimetype": "text/x-python",
   "name": "python",
   "nbconvert_exporter": "python",
   "pygments_lexer": "ipython3",
   "version": "3.5.3"
  }
 },
 "nbformat": 4,
 "nbformat_minor": 4
}
