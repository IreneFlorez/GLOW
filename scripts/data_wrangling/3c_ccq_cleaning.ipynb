{
 "cells": [
  {
   "cell_type": "code",
   "execution_count": 18,
   "metadata": {},
   "outputs": [],
   "source": [
    "import pandas as pd\n",
    "import glob\n",
    "import numpy as np"
   ]
  },
  {
   "cell_type": "markdown",
   "metadata": {},
   "source": [
    "## read files"
   ]
  },
  {
   "cell_type": "code",
   "execution_count": 21,
   "metadata": {},
   "outputs": [],
   "source": [
    "#read interim frame\n",
    "i_path = '../../data/raw/articles/2019/query_results/content_quality/per_wiki/'\n",
    "all_interim_files = glob.glob(i_path + \"/*.csv\")\n",
    "\n",
    "li = []\n",
    "for filename in all_interim_files:\n",
    "    z = pd.read_csv(filename, index_col=None, header=0)\n",
    "    li.append(z)\n",
    "interim_frame = pd.concat(li, axis=0, ignore_index=True)"
   ]
  },
  {
   "cell_type": "code",
   "execution_count": 40,
   "metadata": {},
   "outputs": [],
   "source": [
    "#read full frame\n",
    "#f_path = r'../../data/processed/query_results/content_quality/per_wiki/' \n",
    "f_path = r'../../data/raw/articles/2019/query_results/content_quality/per_wiki_full/'\n",
    "all_final_files = glob.glob(f_path + \"/*.csv\")\n",
    "tu = []\n",
    "for filename in all_final_files:\n",
    "    df = pd.read_csv(filename, index_col=None, header=0)\n",
    "    tu.append(df)\n",
    "final_frame = pd.concat(tu, axis=0, ignore_index=True)"
   ]
  },
  {
   "cell_type": "markdown",
   "metadata": {},
   "source": [
    "# Assess collected data"
   ]
  },
  {
   "cell_type": "markdown",
   "metadata": {},
   "source": [
    "## Interim"
   ]
  },
  {
   "cell_type": "code",
   "execution_count": 22,
   "metadata": {},
   "outputs": [],
   "source": [
    "#remove faulty column\n",
    "del interim_frame['views_1m']"
   ]
  },
  {
   "cell_type": "code",
   "execution_count": 23,
   "metadata": {},
   "outputs": [],
   "source": [
    "#interim_frame['at_edits'] = interim_frame['at_edits'].astype('bool')"
   ]
  },
  {
   "cell_type": "raw",
   "metadata": {},
   "source": [
    "interim_frame[interim_frame == 0].count(axis=0)/len(interim_frame.index)"
   ]
  },
  {
   "cell_type": "code",
   "execution_count": 24,
   "metadata": {},
   "outputs": [
    {
     "data": {
      "text/plain": [
       "array(['new', 'expanded'], dtype=object)"
      ]
     },
     "execution_count": 24,
     "metadata": {},
     "output_type": "execute_result"
    }
   ],
   "source": [
    "interim_frame.article_type.unique()"
   ]
  },
  {
   "cell_type": "code",
   "execution_count": 25,
   "metadata": {},
   "outputs": [
    {
     "data": {
      "text/plain": [
       "3459"
      ]
     },
     "execution_count": 25,
     "metadata": {},
     "output_type": "execute_result"
    }
   ],
   "source": [
    "interim_frame.duplicated(subset=['page_id', 'wikicode', 'page_title'], keep=False).sum()"
   ]
  },
  {
   "cell_type": "code",
   "execution_count": 26,
   "metadata": {},
   "outputs": [],
   "source": [
    "#drop dupes\n",
    "interim_frame = interim_frame.drop_duplicates(subset=['page_id', 'wikicode', 'page_title'], keep='first')"
   ]
  },
  {
   "cell_type": "markdown",
   "metadata": {},
   "source": [
    "#### translation column to boolean"
   ]
  },
  {
   "cell_type": "code",
   "execution_count": 27,
   "metadata": {},
   "outputs": [
    {
     "data": {
      "text/plain": [
       "array(['0', \"['contenttranslation', 'contenttranslation-v2']\",\n",
       "       \"['contenttranslation']\",\n",
       "       \"['mw-removed-redirect', 'contenttranslation', 'contenttranslation-v2']\",\n",
       "       0,\n",
       "       \"['انگریزی عنوان', 'contenttranslation', 'contenttranslation-v2']\",\n",
       "       \"['campaign-external-machine-translation', 'contenttranslation', 'contenttranslation-v2']\",\n",
       "       \"['अनावश्यक nowiki टॅग', 'contenttranslation', 'contenttranslation-v2']\"],\n",
       "      dtype=object)"
      ]
     },
     "execution_count": 27,
     "metadata": {},
     "output_type": "execute_result"
    }
   ],
   "source": [
    "interim_frame['at_edits'].unique()"
   ]
  },
  {
   "cell_type": "code",
   "execution_count": 28,
   "metadata": {},
   "outputs": [
    {
     "data": {
      "text/plain": [
       "array([0])"
      ]
     },
     "execution_count": 28,
     "metadata": {},
     "output_type": "execute_result"
    }
   ],
   "source": [
    "interim_frame.at_create.unique()"
   ]
  },
  {
   "cell_type": "code",
   "execution_count": 29,
   "metadata": {},
   "outputs": [
    {
     "data": {
      "text/plain": [
       "True"
      ]
     },
     "execution_count": 29,
     "metadata": {},
     "output_type": "execute_result"
    }
   ],
   "source": [
    "#Are all values zero?\n",
    "(interim_frame['at_create'] == 0).all()"
   ]
  },
  {
   "cell_type": "code",
   "execution_count": 30,
   "metadata": {},
   "outputs": [],
   "source": [
    "del interim_frame['at_create']"
   ]
  },
  {
   "cell_type": "code",
   "execution_count": 31,
   "metadata": {},
   "outputs": [],
   "source": [
    "interim_frame['translation_tool'] = np.where(interim_frame.at_edits.str.len()>1, True, False)"
   ]
  },
  {
   "cell_type": "code",
   "execution_count": 32,
   "metadata": {},
   "outputs": [],
   "source": [
    "#create URL, article info, and page info URL columns\n",
    "interim_frame['url'] = interim_frame.wikicode.replace({'wiki':'.wiki'}, regex=True)\n",
    "\n",
    "interim_frame['url_article_info'] = 'https://xtools.wmflabs.org/articleinfo/'+interim_frame['url']\n",
    "interim_frame['url_article_info'] = interim_frame['url_article_info']+ 'pedia.org/' \n",
    "interim_frame['url_article_info'] = interim_frame['url_article_info'] +interim_frame['page_title'] \n",
    "\n",
    "interim_frame['url'] = 'https://' + interim_frame['url'] +'pedia.org/wiki/' \n",
    "interim_frame['url'] = interim_frame['url'] + interim_frame['page_title']\n",
    "\n",
    "#interim_frame['url_page_info'] = interim_frame['url'] + '&action=info'"
   ]
  },
  {
   "cell_type": "raw",
   "metadata": {},
   "source": [
    "#merge interim_frame with pv_df\n",
    "interim_frame_pv = interim_frame.merge(pv, how=\"left\", on=['page_id', 'wikicode']).fillna(0)"
   ]
  },
  {
   "cell_type": "code",
   "execution_count": null,
   "metadata": {},
   "outputs": [],
   "source": [
    "interim_frame['QID'] = interim_frame['QID'].astype(int)\n",
    "interim_frame['QID'] = 'Q' + interim_frame['QID'].astype(str)"
   ]
  },
  {
   "cell_type": "code",
   "execution_count": 38,
   "metadata": {},
   "outputs": [],
   "source": [
    "interim_frame.to_csv(\"../../data/processed/query_results/content_quality/1_interim_frame_updated.csv\", sep=',', encoding = 'utf-8', index=False) "
   ]
  },
  {
   "cell_type": "markdown",
   "metadata": {},
   "source": [
    "## Full frame"
   ]
  },
  {
   "cell_type": "code",
   "execution_count": 42,
   "metadata": {},
   "outputs": [
    {
     "data": {
      "text/plain": [
       "3"
      ]
     },
     "execution_count": 42,
     "metadata": {},
     "output_type": "execute_result"
    }
   ],
   "source": [
    "#look for dupes\n",
    "final_frame.duplicated(subset=['page_id', 'wikicode', 'page_title'], keep=False).sum()"
   ]
  },
  {
   "cell_type": "code",
   "execution_count": 52,
   "metadata": {},
   "outputs": [
    {
     "data": {
      "text/plain": [
       "2"
      ]
     },
     "execution_count": 52,
     "metadata": {},
     "output_type": "execute_result"
    }
   ],
   "source": [
    "final_frame.duplicated(subset=['page_id', 'wikicode'], keep='first').sum()"
   ]
  },
  {
   "cell_type": "code",
   "execution_count": 43,
   "metadata": {},
   "outputs": [],
   "source": [
    "final_frame_dupes = pd.concat(g for _, g in final_frame.groupby(['page_id', 'wikicode']) if len(g) > 1)"
   ]
  },
  {
   "cell_type": "code",
   "execution_count": 44,
   "metadata": {},
   "outputs": [
    {
     "data": {
      "text/plain": [
       "1"
      ]
     },
     "execution_count": 44,
     "metadata": {},
     "output_type": "execute_result"
    }
   ],
   "source": [
    "#identify potential wikis whose articles are the ones duplicated\n",
    "len(final_frame_dupes.wikicode.unique())"
   ]
  },
  {
   "cell_type": "code",
   "execution_count": 45,
   "metadata": {},
   "outputs": [
    {
     "data": {
      "text/plain": [
       "array(['mrwiki'], dtype=object)"
      ]
     },
     "execution_count": 45,
     "metadata": {},
     "output_type": "execute_result"
    }
   ],
   "source": [
    "final_frame_dupes.wikicode.unique()"
   ]
  },
  {
   "cell_type": "code",
   "execution_count": 47,
   "metadata": {},
   "outputs": [],
   "source": [
    "#ff_pa = pd.read_csv('../../data/raw/articles/2019/query_results/content_quality/per_wiki_full/pa_articles.csv')"
   ]
  },
  {
   "cell_type": "code",
   "execution_count": 48,
   "metadata": {},
   "outputs": [],
   "source": [
    "ff_mr = pd.read_csv('../../data/raw/articles/2019/query_results/content_quality/per_wiki_full/mr_articles.csv')"
   ]
  },
  {
   "cell_type": "code",
   "execution_count": 49,
   "metadata": {},
   "outputs": [
    {
     "data": {
      "text/plain": [
       "122"
      ]
     },
     "execution_count": 49,
     "metadata": {},
     "output_type": "execute_result"
    }
   ],
   "source": [
    "len(ff_mr)"
   ]
  },
  {
   "cell_type": "code",
   "execution_count": 51,
   "metadata": {},
   "outputs": [],
   "source": [
    "#check to see that this mirrors or is in line with the number of approved articles\n",
    "#len(ff_pa)"
   ]
  },
  {
   "cell_type": "markdown",
   "metadata": {},
   "source": [
    "## clean"
   ]
  },
  {
   "cell_type": "code",
   "execution_count": 54,
   "metadata": {},
   "outputs": [],
   "source": [
    "#remove faulty column data\n",
    "del final_frame['views_1m']"
   ]
  },
  {
   "cell_type": "code",
   "execution_count": 55,
   "metadata": {},
   "outputs": [],
   "source": [
    "#drop dupes\n",
    "final_frame = final_frame.drop_duplicates(subset=['page_id', 'wikicode', 'page_title'], keep='first')"
   ]
  },
  {
   "cell_type": "code",
   "execution_count": 56,
   "metadata": {},
   "outputs": [
    {
     "data": {
      "text/plain": [
       "0"
      ]
     },
     "execution_count": 56,
     "metadata": {},
     "output_type": "execute_result"
    }
   ],
   "source": [
    "#check for dupes again to make sure the above worked\n",
    "final_frame.duplicated(subset=['page_id', 'wikicode', 'page_title'], keep=False).sum()"
   ]
  },
  {
   "cell_type": "code",
   "execution_count": 57,
   "metadata": {},
   "outputs": [
    {
     "data": {
      "text/plain": [
       "array(['new', 'expanded'], dtype=object)"
      ]
     },
     "execution_count": 57,
     "metadata": {},
     "output_type": "execute_result"
    }
   ],
   "source": [
    "final_frame.article_type.unique()"
   ]
  },
  {
   "cell_type": "code",
   "execution_count": 58,
   "metadata": {},
   "outputs": [],
   "source": [
    "#remove expanded rows\n",
    "final_frame_updated = final_frame[~final_frame.article_type.str.contains(\"expanded\")]"
   ]
  },
  {
   "cell_type": "code",
   "execution_count": 59,
   "metadata": {},
   "outputs": [
    {
     "data": {
      "text/plain": [
       "array(['new'], dtype=object)"
      ]
     },
     "execution_count": 59,
     "metadata": {},
     "output_type": "execute_result"
    }
   ],
   "source": [
    "final_frame_updated.article_type.unique()"
   ]
  },
  {
   "cell_type": "code",
   "execution_count": 60,
   "metadata": {},
   "outputs": [
    {
     "data": {
      "text/plain": [
       "wikicode                    0\n",
       "page_id                     0\n",
       "page_title                  0\n",
       "page_len                    0\n",
       "relative_page_len           0\n",
       "at_edits                    0\n",
       "at_create                   0\n",
       "QID                         0\n",
       "first_edited                0\n",
       "article_type                0\n",
       "editors_1stM                0\n",
       "edits_1M                    0\n",
       "num_edits_all_time          0\n",
       "minor_edits_all_time        0\n",
       "last_edited                 0\n",
       "all_editors_of_all_edits    0\n",
       "editors_nm                  0\n",
       "IP_editors                  0\n",
       "micro_editors               0\n",
       "talk_page_edits             0\n",
       "watch_count                 0\n",
       "revertrate                  0\n",
       "oplinks                     0\n",
       "oelinks                     0\n",
       "ipl_count                   0\n",
       "iwsitelinks                 0\n",
       "iwsites                     0\n",
       "dtype: int64"
      ]
     },
     "execution_count": 60,
     "metadata": {},
     "output_type": "execute_result"
    }
   ],
   "source": [
    "final_frame_updated.isna().sum()"
   ]
  },
  {
   "cell_type": "raw",
   "metadata": {},
   "source": [
    "final_frame_updated_pv = final_frame_updated.merge(pv, how=\"left\", on=['page_id', 'wikicode']).fillna(0)"
   ]
  },
  {
   "cell_type": "markdown",
   "metadata": {},
   "source": [
    "## translation column to boolean"
   ]
  },
  {
   "cell_type": "code",
   "execution_count": 78,
   "metadata": {},
   "outputs": [
    {
     "data": {
      "text/plain": [
       "array(['0', \"['contenttranslation', 'contenttranslation-v2']\",\n",
       "       \"['contenttranslation']\",\n",
       "       \"['अनावश्यक nowiki टॅग', 'contenttranslation', 'contenttranslation-v2']\",\n",
       "       \"['campaign-external-machine-translation', 'contenttranslation', 'contenttranslation-v2']\",\n",
       "       0,\n",
       "       \"['انگریزی عنوان', 'contenttranslation', 'contenttranslation-v2']\"],\n",
       "      dtype=object)"
      ]
     },
     "execution_count": 78,
     "metadata": {},
     "output_type": "execute_result"
    }
   ],
   "source": [
    "final_frame_updated['at_edits'].unique()"
   ]
  },
  {
   "cell_type": "code",
   "execution_count": 79,
   "metadata": {},
   "outputs": [
    {
     "data": {
      "text/plain": [
       "array([0])"
      ]
     },
     "execution_count": 79,
     "metadata": {},
     "output_type": "execute_result"
    }
   ],
   "source": [
    "final_frame_updated.at_create.unique()"
   ]
  },
  {
   "cell_type": "code",
   "execution_count": 80,
   "metadata": {},
   "outputs": [
    {
     "data": {
      "text/plain": [
       "True"
      ]
     },
     "execution_count": 80,
     "metadata": {},
     "output_type": "execute_result"
    }
   ],
   "source": [
    "#Are all values zero?\n",
    "(final_frame_updated['at_create'] == 0).all()"
   ]
  },
  {
   "cell_type": "code",
   "execution_count": 81,
   "metadata": {},
   "outputs": [],
   "source": [
    "final_frame_updated['translation_tool'] = np.where(final_frame_updated.at_edits.str.len()>1, True, False)"
   ]
  },
  {
   "cell_type": "code",
   "execution_count": 82,
   "metadata": {},
   "outputs": [],
   "source": [
    "#create URL, article info, and page info URL columns\n",
    "final_frame_updated['url'] = final_frame_updated_pv.wikicode.replace({'wiki':'.wiki'}, regex=True)\n",
    "\n",
    "final_frame_updated['url_article_info'] = 'https://xtools.wmflabs.org/articleinfo/'+final_frame_updated['url']\n",
    "final_frame_updated['url_article_info'] = final_frame_updated['url_article_info']+ 'pedia.org/' \n",
    "final_frame_updated['url_article_info'] = final_frame_updated['url_article_info'] +final_frame_updated['page_title'] \n",
    "\n",
    "final_frame_updated['url'] = 'https://' + final_frame_updated['url'] +'pedia.org/wiki/' \n",
    "final_frame_updated['url'] = final_frame_updated['url'] + final_frame_updated['page_title']\n",
    "\n",
    "#final_frame_updated_pv['url_page_info'] = final_frame_updated_pv['url'] + '&action=info'\n"
   ]
  },
  {
   "cell_type": "code",
   "execution_count": 83,
   "metadata": {},
   "outputs": [],
   "source": [
    "cols_u = [\n",
    "'wikicode',\n",
    "'page_title',\n",
    "'url',\n",
    "'url_article_info',\n",
    "'page_id',\n",
    "'at_edits',\n",
    "'translation_tool',\n",
    "'QID',    \n",
    "'iwsitelinks',\n",
    "'iwsites', \n",
    "'article_type',    \n",
    "'page_len',\n",
    "'relative_page_len',\n",
    "'num_edits_all_time',\n",
    "'all_editors_of_all_edits',  \n",
    "#'views_1M', \n",
    "#'views_1M_all',    \n",
    "'editors_1stM',\n",
    "'edits_1M',\n",
    "'minor_edits_all_time',\n",
    "'editors_nm',\n",
    "'IP_editors',\n",
    "'micro_editors',\n",
    "'revertrate',    \n",
    "'first_edited',\n",
    "'last_edited',\n",
    "'talk_page_edits',\n",
    "'watch_count',\n",
    "'oplinks',\n",
    "'oelinks',\n",
    "'ipl_count',\n",
    "]"
   ]
  },
  {
   "cell_type": "code",
   "execution_count": 84,
   "metadata": {},
   "outputs": [],
   "source": [
    "#reorder df\n",
    "final_frame_updated = final_frame_updated[cols_u]"
   ]
  },
  {
   "cell_type": "code",
   "execution_count": 85,
   "metadata": {},
   "outputs": [],
   "source": [
    "#rename columns\n",
    "\n",
    "final_frame_updated.rename(columns={\n",
    "                                    'num_edits_all_time':'total_edits', \n",
    "                                    'all_editors_of_all_edits':'editors',\n",
    "                                    'minor_edits_all_time': 'minor_edits',\n",
    "                                    'editors_nm': 'major_editors',\n",
    "                                    'oelinks': 'o_external_links',\n",
    "                                    'ipl_count':'incoming_links',\n",
    "                                    'oplinks':'o_internal_links'\n",
    "                                    }, \n",
    "                                    inplace = True)"
   ]
  },
  {
   "cell_type": "code",
   "execution_count": 89,
   "metadata": {},
   "outputs": [],
   "source": [
    "final_frame_updated['QID'] = final_frame_updated['QID'].astype(int)\n",
    "final_frame_updated['QID'] = 'Q' + final_frame_updated['QID'].astype(str)"
   ]
  },
  {
   "cell_type": "markdown",
   "metadata": {},
   "source": [
    "# to csv"
   ]
  },
  {
   "cell_type": "code",
   "execution_count": 93,
   "metadata": {},
   "outputs": [],
   "source": [
    "final_frame_updated.to_csv(\"../../data/processed/query_results/content_quality/b1_final_frame_updated.csv\", sep=',', encoding = 'utf-8', index=False)"
   ]
  },
  {
   "cell_type": "code",
   "execution_count": null,
   "metadata": {},
   "outputs": [],
   "source": [
    "# locate a page_id for a manual check of page to see that the numbers make sense\n",
    "#https://pa.wikipedia.org/w/index.php?title=ਸਕਾਰਲੈਟ_ਜੋਹਾਨਸਨ&action=history\n",
    "#http://pa.wikipedia.org/wiki/ਸਕਾਰਲੈਟ_ਜੋਹਾਨਸਨ\n",
    "#https://xtools.wmflabs.org/articleinfo/pa.wikipedia.org/ਸਕਾਰਲੈਟ_ਜੋਹਾਨਸਨ"
   ]
  },
  {
   "cell_type": "code",
   "execution_count": null,
   "metadata": {},
   "outputs": [],
   "source": [
    "#review incoming pagelinks"
   ]
  },
  {
   "cell_type": "raw",
   "metadata": {},
   "source": [
    "# test result\n",
    "#test method 1: http://dispenser.info.tm/~dispenser/cgi-bin/backlinkscount.py?title=%E0%A8%AF%E0%A9%82%E0%A8%B0%E0%A8%AA&filter=nonredirects&db=pawiki\n",
    "#test method 2:\n",
    "incoming_pagelinks.loc[incoming_pagelinks['page_id'] == 2320]"
   ]
  },
  {
   "cell_type": "code",
   "execution_count": null,
   "metadata": {},
   "outputs": [],
   "source": []
  }
 ],
 "metadata": {
  "kernelspec": {
   "display_name": "Python 3",
   "language": "python",
   "name": "python3"
  },
  "language_info": {
   "codemirror_mode": {
    "name": "ipython",
    "version": 3
   },
   "file_extension": ".py",
   "mimetype": "text/x-python",
   "name": "python",
   "nbconvert_exporter": "python",
   "pygments_lexer": "ipython3",
   "version": "3.5.3"
  }
 },
 "nbformat": 4,
 "nbformat_minor": 4
}
