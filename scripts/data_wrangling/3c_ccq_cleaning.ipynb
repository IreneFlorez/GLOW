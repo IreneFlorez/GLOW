{
 "cells": [
  {
   "cell_type": "code",
   "execution_count": 26,
   "metadata": {},
   "outputs": [],
   "source": [
    "import pandas as pd\n",
    "import glob"
   ]
  },
  {
   "cell_type": "markdown",
   "metadata": {},
   "source": [
    "## Interim"
   ]
  },
  {
   "cell_type": "code",
   "execution_count": 29,
   "metadata": {},
   "outputs": [],
   "source": [
    "#interim_frame['at_edits'] = interim_frame['at_edits'].astype('bool')"
   ]
  },
  {
   "cell_type": "raw",
   "metadata": {},
   "source": [
    "interim_frame[interim_frame == 0].count(axis=0)/len(interim_frame.index)"
   ]
  },
  {
   "cell_type": "code",
   "execution_count": 30,
   "metadata": {},
   "outputs": [],
   "source": [
    "i_path = '../../data/raw/articles/2019/query_results/content_quality/per_wiki/'\n",
    "all_interim_files = glob.glob(i_path + \"/*.csv\")\n",
    "\n",
    "li = []\n",
    "for filename in all_interim_files:\n",
    "    z = pd.read_csv(filename, index_col=None, header=0)\n",
    "    li.append(z)\n",
    "interim_frame = pd.concat(li, axis=0, ignore_index=True)"
   ]
  },
  {
   "cell_type": "code",
   "execution_count": 32,
   "metadata": {},
   "outputs": [
    {
     "name": "stdout",
     "output_type": "stream",
     "text": [
      "<class 'pandas.core.frame.DataFrame'>\n",
      "RangeIndex: 10595 entries, 0 to 10594\n",
      "Data columns (total 11 columns):\n",
      "wikicode             10595 non-null object\n",
      "page_id              10595 non-null float64\n",
      "page_title           10595 non-null object\n",
      "page_len             10595 non-null float64\n",
      "relative_page_len    10595 non-null float64\n",
      "at_edits             10595 non-null object\n",
      "at_create            10595 non-null int64\n",
      "QID                  10595 non-null float64\n",
      "first_edited         10595 non-null object\n",
      "views_1m             10595 non-null float64\n",
      "article_type         10595 non-null object\n",
      "dtypes: float64(5), int64(1), object(5)\n",
      "memory usage: 910.6+ KB\n"
     ]
    }
   ],
   "source": [
    "interim_frame.info()"
   ]
  },
  {
   "cell_type": "code",
   "execution_count": 34,
   "metadata": {},
   "outputs": [
    {
     "data": {
      "text/html": [
       "<div>\n",
       "<style scoped>\n",
       "    .dataframe tbody tr th:only-of-type {\n",
       "        vertical-align: middle;\n",
       "    }\n",
       "\n",
       "    .dataframe tbody tr th {\n",
       "        vertical-align: top;\n",
       "    }\n",
       "\n",
       "    .dataframe thead th {\n",
       "        text-align: right;\n",
       "    }\n",
       "</style>\n",
       "<table border=\"1\" class=\"dataframe\">\n",
       "  <thead>\n",
       "    <tr style=\"text-align: right;\">\n",
       "      <th></th>\n",
       "      <th>wikicode</th>\n",
       "      <th>page_id</th>\n",
       "      <th>page_title</th>\n",
       "      <th>page_len</th>\n",
       "      <th>relative_page_len</th>\n",
       "      <th>at_edits</th>\n",
       "      <th>at_create</th>\n",
       "      <th>QID</th>\n",
       "      <th>first_edited</th>\n",
       "      <th>views_1m</th>\n",
       "      <th>article_type</th>\n",
       "    </tr>\n",
       "  </thead>\n",
       "  <tbody>\n",
       "    <tr>\n",
       "      <th>10592</th>\n",
       "      <td>bnwiki</td>\n",
       "      <td>801899.0</td>\n",
       "      <td>১৯৯২_ইয়েমেন_হোটেল_বোমা_হামলা</td>\n",
       "      <td>10344.0</td>\n",
       "      <td>0.067908</td>\n",
       "      <td>['contenttranslation', 'contenttranslation-v2']</td>\n",
       "      <td>0</td>\n",
       "      <td>16146803.0</td>\n",
       "      <td>2019-11-04</td>\n",
       "      <td>3.0</td>\n",
       "      <td>new</td>\n",
       "    </tr>\n",
       "    <tr>\n",
       "      <th>10593</th>\n",
       "      <td>bnwiki</td>\n",
       "      <td>15379.0</td>\n",
       "      <td>১৯৯৬_গ্রীষ্মকালীন_অলিম্পিক</td>\n",
       "      <td>11795.0</td>\n",
       "      <td>0.077434</td>\n",
       "      <td>0</td>\n",
       "      <td>0</td>\n",
       "      <td>8531.0</td>\n",
       "      <td>2006-09-02</td>\n",
       "      <td>0.0</td>\n",
       "      <td>expanded</td>\n",
       "    </tr>\n",
       "    <tr>\n",
       "      <th>10594</th>\n",
       "      <td>bnwiki</td>\n",
       "      <td>802207.0</td>\n",
       "      <td>৩২তম_দাবা_অলিম্পিয়াড</td>\n",
       "      <td>13532.0</td>\n",
       "      <td>0.088838</td>\n",
       "      <td>0</td>\n",
       "      <td>0</td>\n",
       "      <td>287085.0</td>\n",
       "      <td>2019-11-05</td>\n",
       "      <td>0.0</td>\n",
       "      <td>new</td>\n",
       "    </tr>\n",
       "  </tbody>\n",
       "</table>\n",
       "</div>"
      ],
      "text/plain": [
       "      wikicode   page_id                     page_title  page_len  \\\n",
       "10592   bnwiki  801899.0  ১৯৯২_ইয়েমেন_হোটেল_বোমা_হামলা   10344.0   \n",
       "10593   bnwiki   15379.0     ১৯৯৬_গ্রীষ্মকালীন_অলিম্পিক   11795.0   \n",
       "10594   bnwiki  802207.0          ৩২তম_দাবা_অলিম্পিয়াড   13532.0   \n",
       "\n",
       "       relative_page_len                                         at_edits  \\\n",
       "10592           0.067908  ['contenttranslation', 'contenttranslation-v2']   \n",
       "10593           0.077434                                                0   \n",
       "10594           0.088838                                                0   \n",
       "\n",
       "       at_create         QID first_edited  views_1m article_type  \n",
       "10592          0  16146803.0   2019-11-04       3.0          new  \n",
       "10593          0      8531.0   2006-09-02       0.0     expanded  \n",
       "10594          0    287085.0   2019-11-05       0.0          new  "
      ]
     },
     "execution_count": 34,
     "metadata": {},
     "output_type": "execute_result"
    }
   ],
   "source": [
    "interim_frame.tail(3)"
   ]
  },
  {
   "cell_type": "code",
   "execution_count": 37,
   "metadata": {},
   "outputs": [
    {
     "data": {
      "text/plain": [
       "array(['new', 'expanded'], dtype=object)"
      ]
     },
     "execution_count": 37,
     "metadata": {},
     "output_type": "execute_result"
    }
   ],
   "source": [
    "interim_frame.article_type.unique()"
   ]
  },
  {
   "cell_type": "code",
   "execution_count": 44,
   "metadata": {},
   "outputs": [],
   "source": [
    "del interim_frame['views_1m']"
   ]
  },
  {
   "cell_type": "code",
   "execution_count": 51,
   "metadata": {},
   "outputs": [],
   "source": [
    "interim_frame.to_csv(\"../../data/processed/query_results/content_quality/interim_frame_updated.csv\", sep=',', encoding = 'utf-8', index=False) #4"
   ]
  },
  {
   "cell_type": "markdown",
   "metadata": {},
   "source": [
    "## Full frame"
   ]
  },
  {
   "cell_type": "code",
   "execution_count": 27,
   "metadata": {},
   "outputs": [],
   "source": [
    "#f_path = r'../../data/processed/query_results/content_quality/per_wiki/' \n",
    "f_path = r'../../data/raw/articles/2019/query_results/content_quality/per_wiki_full/'\n",
    "all_final_files = glob.glob(f_path + \"/*.csv\")\n",
    "tu = []\n",
    "for filename in all_final_files:\n",
    "    df = pd.read_csv(filename, index_col=None, header=0)\n",
    "    tu.append(df)\n",
    "final_frame = pd.concat(tu, axis=0, ignore_index=True)"
   ]
  },
  {
   "cell_type": "code",
   "execution_count": 39,
   "metadata": {},
   "outputs": [
    {
     "name": "stdout",
     "output_type": "stream",
     "text": [
      "<class 'pandas.core.frame.DataFrame'>\n",
      "RangeIndex: 10595 entries, 0 to 10594\n",
      "Data columns (total 28 columns):\n",
      "wikicode                    10595 non-null object\n",
      "page_id                     10595 non-null float64\n",
      "page_title                  10595 non-null object\n",
      "page_len                    10595 non-null float64\n",
      "relative_page_len           10595 non-null float64\n",
      "at_edits                    10595 non-null object\n",
      "at_create                   10595 non-null int64\n",
      "QID                         10595 non-null float64\n",
      "first_edited                10595 non-null object\n",
      "views_1m                    10595 non-null float64\n",
      "article_type                10595 non-null object\n",
      "editors_1stM                10595 non-null float64\n",
      "edits_1M                    10595 non-null float64\n",
      "num_edits_all_time          10595 non-null float64\n",
      "minor_edits_all_time        10595 non-null float64\n",
      "last_edited                 10595 non-null object\n",
      "all_editors_of_all_edits    10595 non-null float64\n",
      "editors_nm                  10595 non-null float64\n",
      "IP_editors                  10595 non-null float64\n",
      "micro_editors               10595 non-null float64\n",
      "talk_page_edits             10595 non-null float64\n",
      "watch_count                 10595 non-null float64\n",
      "revertrate                  10595 non-null int64\n",
      "oplinks                     10595 non-null float64\n",
      "oelinks                     10595 non-null float64\n",
      "ipl_count                   10595 non-null float64\n",
      "iwsitelinks                 10595 non-null float64\n",
      "iwsites                     10595 non-null object\n",
      "dtypes: float64(19), int64(2), object(7)\n",
      "memory usage: 2.3+ MB\n"
     ]
    }
   ],
   "source": [
    "final_frame.info()"
   ]
  },
  {
   "cell_type": "code",
   "execution_count": 40,
   "metadata": {},
   "outputs": [],
   "source": [
    "del final_frame['views_1m']"
   ]
  },
  {
   "cell_type": "code",
   "execution_count": 38,
   "metadata": {},
   "outputs": [
    {
     "data": {
      "text/plain": [
       "array(['new', 'expanded'], dtype=object)"
      ]
     },
     "execution_count": 38,
     "metadata": {},
     "output_type": "execute_result"
    }
   ],
   "source": [
    "final_frame.article_type.unique()"
   ]
  },
  {
   "cell_type": "code",
   "execution_count": 45,
   "metadata": {},
   "outputs": [],
   "source": [
    "final_frame_updated = final_frame[~final_frame.article_type.str.contains(\"expanded\")]"
   ]
  },
  {
   "cell_type": "code",
   "execution_count": 46,
   "metadata": {},
   "outputs": [
    {
     "data": {
      "text/plain": [
       "array(['new'], dtype=object)"
      ]
     },
     "execution_count": 46,
     "metadata": {},
     "output_type": "execute_result"
    }
   ],
   "source": [
    "final_frame_updated.article_type.unique()"
   ]
  },
  {
   "cell_type": "code",
   "execution_count": 47,
   "metadata": {},
   "outputs": [
    {
     "name": "stdout",
     "output_type": "stream",
     "text": [
      "<class 'pandas.core.frame.DataFrame'>\n",
      "Int64Index: 8955 entries, 0 to 10594\n",
      "Data columns (total 27 columns):\n",
      "wikicode                    8955 non-null object\n",
      "page_id                     8955 non-null float64\n",
      "page_title                  8955 non-null object\n",
      "page_len                    8955 non-null float64\n",
      "relative_page_len           8955 non-null float64\n",
      "at_edits                    8955 non-null object\n",
      "at_create                   8955 non-null int64\n",
      "QID                         8955 non-null float64\n",
      "first_edited                8955 non-null object\n",
      "article_type                8955 non-null object\n",
      "editors_1stM                8955 non-null float64\n",
      "edits_1M                    8955 non-null float64\n",
      "num_edits_all_time          8955 non-null float64\n",
      "minor_edits_all_time        8955 non-null float64\n",
      "last_edited                 8955 non-null object\n",
      "all_editors_of_all_edits    8955 non-null float64\n",
      "editors_nm                  8955 non-null float64\n",
      "IP_editors                  8955 non-null float64\n",
      "micro_editors               8955 non-null float64\n",
      "talk_page_edits             8955 non-null float64\n",
      "watch_count                 8955 non-null float64\n",
      "revertrate                  8955 non-null int64\n",
      "oplinks                     8955 non-null float64\n",
      "oelinks                     8955 non-null float64\n",
      "ipl_count                   8955 non-null float64\n",
      "iwsitelinks                 8955 non-null float64\n",
      "iwsites                     8955 non-null object\n",
      "dtypes: float64(18), int64(2), object(7)\n",
      "memory usage: 1.9+ MB\n"
     ]
    }
   ],
   "source": [
    "final_frame_updated.info()"
   ]
  },
  {
   "cell_type": "code",
   "execution_count": 50,
   "metadata": {},
   "outputs": [],
   "source": [
    "final_frame_updated.to_csv(\"../../data/processed/query_results/content_quality/final_frame_updated.csv\", sep=',', encoding = 'utf-8', index=False) #4"
   ]
  },
  {
   "cell_type": "code",
   "execution_count": null,
   "metadata": {},
   "outputs": [],
   "source": []
  },
  {
   "cell_type": "markdown",
   "metadata": {},
   "source": [
    "## TO DO"
   ]
  },
  {
   "cell_type": "code",
   "execution_count": null,
   "metadata": {},
   "outputs": [],
   "source": [
    "1. recreate id list (and set related database_code)\n",
    "2. rerun PV1M query\n",
    "3. remerge\n",
    "\n",
    "4. see relative length for PA wikis and those that don't have rel data point anchor"
   ]
  },
  {
   "cell_type": "markdown",
   "metadata": {},
   "source": [
    "# Assess collected data"
   ]
  },
  {
   "cell_type": "code",
   "execution_count": null,
   "metadata": {},
   "outputs": [],
   "source": []
  },
  {
   "cell_type": "code",
   "execution_count": null,
   "metadata": {},
   "outputs": [],
   "source": []
  },
  {
   "cell_type": "code",
   "execution_count": null,
   "metadata": {},
   "outputs": [],
   "source": []
  },
  {
   "cell_type": "code",
   "execution_count": null,
   "metadata": {},
   "outputs": [],
   "source": []
  },
  {
   "cell_type": "code",
   "execution_count": null,
   "metadata": {},
   "outputs": [],
   "source": [
    "dups\n",
    "nulls\n",
    "\n",
    "# articles\n"
   ]
  },
  {
   "cell_type": "code",
   "execution_count": null,
   "metadata": {},
   "outputs": [],
   "source": [
    "# articles.info()"
   ]
  },
  {
   "cell_type": "code",
   "execution_count": null,
   "metadata": {},
   "outputs": [],
   "source": [
    "# articles.isna().sum()"
   ]
  },
  {
   "cell_type": "code",
   "execution_count": null,
   "metadata": {},
   "outputs": [],
   "source": [
    "# (articles==0).astype(int).sum()"
   ]
  },
  {
   "cell_type": "markdown",
   "metadata": {},
   "source": [
    "#### Test results"
   ]
  },
  {
   "cell_type": "code",
   "execution_count": null,
   "metadata": {},
   "outputs": [],
   "source": [
    "# AND rev_timestamp <= DATE_ADD(day, 29, first_edit)\n",
    "#DATE_ADD('2010-12-31 23:59:59', INTERVAL 1 DAY) \n",
    "#HAVING DATE_FORMAT(rev_timestamp,\"%y-%m-%d\") <= DATE_ADD(DATE_FORMAT(MIN(rev_timestamp),\"%y-%m-%d\"), INTERVAL 1 MONTH)\n",
    "#--rev_id <= DATEADD(day, 29, page_first_edit_timestamp)\n",
    "#where mydate between '2015-10-02' and dateadd(d, 2, '2015-10-02')\n",
    "#--WHERE where edit_date between DATE_FORMAT(page_first_edit_timestamp,\"%y-%m-%d\") and dateadd(d, 29, DATE_FORMAT(page_first_edit_timestamp,\"%y-%m-%d\"))\n",
    "#--WHERE edit_date <= DATE_ADD(month, 1, first_edit_date)"
   ]
  },
  {
   "cell_type": "code",
   "execution_count": null,
   "metadata": {},
   "outputs": [],
   "source": [
    "#interwiki links review"
   ]
  },
  {
   "cell_type": "raw",
   "metadata": {},
   "source": [
    "# manual check to see if item Q440 has 111 interwiki site links\n",
    "articles.loc[articles['q_id']==440]"
   ]
  },
  {
   "cell_type": "raw",
   "metadata": {},
   "source": [
    "# https://xtools.wmflabs.org/articleinfo/pa.wikipedia.org/ਸਲਵਾਦੋਰ_ਅਲੀਐਂਦੇ\n",
    "#https://xtools.wmflabs.org/articleinfo/pa.wikipedia.org/.ਹੈਕ_(ਵੀਡੀਓ_ਗੇਮ_ਸੀਰੀਜ਼)"
   ]
  },
  {
   "cell_type": "code",
   "execution_count": null,
   "metadata": {},
   "outputs": [],
   "source": [
    "# check the validity manually by checking page_id to get title and checking the articleinfo tool \n",
    "#articles.loc[articles['page_id']==108735]\n",
    "#also: https://xtools.wmflabs.org/articleinfo/pa.wikipedia.org/ਲਵੰਨਮ"
   ]
  },
  {
   "cell_type": "raw",
   "metadata": {},
   "source": [
    "# https://xtools.wmflabs.org/articleinfo/pa.wikipedia.org/ੲੇਂਜ਼ੋ_ਫੇਰਾਰੀ\n",
    "    2 editors, zero ip edits, zero bot edits\n",
    "\n",
    "#https://xtools.wmflabs.org/articleinfo/pa.wikipedia.org/ੳੁਪ_ਨਗਰ\n",
    "    \t108203\tੳੁਪ_ਨਗਰ\tright\n",
    "        106620\tੳੁੱਚੀ_ਛਾਲ\tright\n",
    "        104749\t2012_(ਫ਼ਿਲਮ)\tright"
   ]
  },
  {
   "cell_type": "code",
   "execution_count": null,
   "metadata": {},
   "outputs": [],
   "source": [
    "# check the validity manually by checking page_id to get title and checking the articleinfo tool \n",
    "#articles.loc[articles['page_id']==108220]\n",
    "#also: https://xtools.wmflabs.org/articleinfo/pa.wikipedia.org/ਬ੍ਰਾਇਨ_ਦੇ_ਪਾਲਮਾ\n",
    "\n",
    "#articles.loc[articles['page_id']==3673]\n",
    "#https://xtools.wmflabs.org/articleinfo/pa.wikipedia.org/ਸ਼ੁੱਕਰ_(ਗ੍ਰਹਿ)\n",
    "#https://pa.wikipedia.org/w/index.php?title=ਸ਼ੁੱਕਰ_(ਗ੍ਰਹਿ)&action=history\n",
    "\n",
    "#articles.loc[articles['page_id']==2320]\n",
    "#https://xtools.wmflabs.org/articleinfo/pa.wikipedia.org/ਯੂਰਪ\n",
    "#https://pa.wikipedia.org/w/index.php?title=ਯੂਰਪ&action=history"
   ]
  },
  {
   "cell_type": "raw",
   "metadata": {},
   "source": [
    "# check validity of results manually by pulling rev ids and ips \n",
    "\n",
    "check_tuipe_r = wmf.mariadb.run(\"\"\"\n",
    "SELECT \n",
    "  revision.rev_page AS page_id, revactor_actor, actor_name\n",
    "FROM revision\n",
    "  JOIN revision_actor_temp ON (rev_id = revactor_rev)\n",
    "  JOIN actor ON (revactor_actor = actor_id)\n",
    "WHERE (rev_deleted & 4) = 0\n",
    "  AND actor_user IS NULL -- non-registered user\n",
    "  AND revision.rev_page IN (7040)\n",
    "\"\"\", \"pawiki\")"
   ]
  },
  {
   "cell_type": "code",
   "execution_count": null,
   "metadata": {},
   "outputs": [],
   "source": [
    "# locate a page_title for a manual check of page to see that the numbers make sense\n",
    "#https://pa.wikipedia.org/w/index.php?title=ਸਕਾਰਲੈਟ_ਜੋਹਾਨਸਨ&action=history\n",
    "#http://pa.wikipedia.org/wiki/ਸਕਾਰਲੈਟ_ਜੋਹਾਨਸਨ\n",
    "#https://xtools.wmflabs.org/articleinfo/pa.wikipedia.org/ਸਕਾਰਲੈਟ_ਜੋਹਾਨਸਨ"
   ]
  },
  {
   "cell_type": "code",
   "execution_count": null,
   "metadata": {},
   "outputs": [],
   "source": [
    "editor_calculations.loc[editor_calculations['page_id'] ==  104044]"
   ]
  },
  {
   "cell_type": "code",
   "execution_count": null,
   "metadata": {},
   "outputs": [],
   "source": [
    "articles.loc[articles['page_id'] ==  104044]"
   ]
  },
  {
   "cell_type": "code",
   "execution_count": null,
   "metadata": {},
   "outputs": [],
   "source": [
    "#review incoming pagelinks"
   ]
  },
  {
   "cell_type": "raw",
   "metadata": {},
   "source": [
    "# test result\n",
    "#test method 1: http://dispenser.info.tm/~dispenser/cgi-bin/backlinkscount.py?title=%E0%A8%AF%E0%A9%82%E0%A8%B0%E0%A8%AA&filter=nonredirects&db=pawiki\n",
    "#test method 2:\n",
    "incoming_pagelinks.loc[incoming_pagelinks['page_id'] == 2320]"
   ]
  },
  {
   "cell_type": "raw",
   "metadata": {},
   "source": [
    "# test method 2:\n",
    "test3 = incoming_pagelinks_r.loc[incoming_pagelinks_r['page_id'] == 2320]\n",
    "test3.info()"
   ]
  },
  {
   "cell_type": "code",
   "execution_count": null,
   "metadata": {},
   "outputs": [],
   "source": []
  },
  {
   "cell_type": "markdown",
   "metadata": {},
   "source": [
    "# Clean data"
   ]
  },
  {
   "cell_type": "code",
   "execution_count": null,
   "metadata": {},
   "outputs": [],
   "source": [
    "# articles['pv_proportion_all']= articles['views_l2m_all']/articles['views_l2m_all'].sum()\n",
    "articles['pv_proportion_in']= articles['views_l2m']/articles['views_l2m'].sum()\n",
    "pv_topics_all = articles.sort_values(by='views_l2m_all', ascending=False)\n",
    "pv_topics_in = articles.sort_values(by='views_l2m', ascending=False)"
   ]
  },
  {
   "cell_type": "raw",
   "metadata": {},
   "source": [
    "# enwiki_pv_sept_all['proportion']= enwiki_pv_sept_all['pageviews']/enwiki_pv_sept_all['pageviews'].sum()\n",
    "enwiki_pv_sep_all = enwiki_pv_sept_all.sort_values(by='pageviews', ascending=False)"
   ]
  },
  {
   "cell_type": "raw",
   "metadata": {},
   "source": [
    "# enwiki_page_sept_summary = enwiki_pv_topic_sept[['page_title','pageviews','proportion','predicted']].sort_values(by='pageviews', ascending=False).reset_index(drop=True).head(50)"
   ]
  },
  {
   "cell_type": "code",
   "execution_count": null,
   "metadata": {},
   "outputs": [],
   "source": [
    "# "
   ]
  },
  {
   "cell_type": "raw",
   "metadata": {},
   "source": [
    "# articles_topic_summary = (df[df.page_title != 'Main_Page']\n",
    "          .groupby('lname1', as_index = False)['pageviews', 'proportion']\n",
    "          .sum()\n",
    "          .sort_values(by='pageviews', ascending=False))"
   ]
  },
  {
   "cell_type": "code",
   "execution_count": null,
   "metadata": {},
   "outputs": [],
   "source": []
  },
  {
   "cell_type": "code",
   "execution_count": null,
   "metadata": {},
   "outputs": [],
   "source": [
    "create mask for new articles only ...expanded"
   ]
  },
  {
   "cell_type": "markdown",
   "metadata": {},
   "source": [
    "# Download data"
   ]
  },
  {
   "cell_type": "code",
   "execution_count": null,
   "metadata": {},
   "outputs": [],
   "source": [
    "# articles.to_csv(\"./data/processed/query_results/content_quality/{}clean.csv\", sep=',', encoding = 'utf-8')"
   ]
  },
  {
   "cell_type": "code",
   "execution_count": null,
   "metadata": {},
   "outputs": [],
   "source": [
    "# "
   ]
  }
 ],
 "metadata": {
  "kernelspec": {
   "display_name": "Python 3",
   "language": "python",
   "name": "python3"
  },
  "language_info": {
   "codemirror_mode": {
    "name": "ipython",
    "version": 3
   },
   "file_extension": ".py",
   "mimetype": "text/x-python",
   "name": "python",
   "nbconvert_exporter": "python",
   "pygments_lexer": "ipython3",
   "version": "3.5.3"
  }
 },
 "nbformat": 4,
 "nbformat_minor": 4
}
