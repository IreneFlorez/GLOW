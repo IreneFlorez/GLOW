{
 "cells": [
  {
   "cell_type": "markdown",
   "metadata": {},
   "source": [
    "# Collect contest editors - region"
   ]
  },
  {
   "cell_type": "markdown",
   "metadata": {},
   "source": [
    "## Table of Contents  <a class=\"anchor\" id=\"toc\"></a>\n",
    "\n",
    "* [GLOW Wiki Baselines](#top)\n",
    "\n",
    "    1. [Editors](#editors)\n"
   ]
  },
  {
   "cell_type": "markdown",
   "metadata": {},
   "source": [
    "## Editors<a class=\"anchor\" id=\"editors\"></a>\n",
    "[Back to Table of Contents](#toc)"
   ]
  },
  {
   "cell_type": "code",
   "execution_count": null,
   "metadata": {},
   "outputs": [],
   "source": [
    "#https://hue.wikimedia.org/hue/metastore/table/cchen/editor_month"
   ]
  },
  {
   "cell_type": "markdown",
   "metadata": {},
   "source": [
    "#### Monthly editors & monthly new <a class=\"anchor\" id=\"editors_monthly\"></a>\n",
    "[Back to Table of Contents](#toc)"
   ]
  },
  {
   "cell_type": "code",
   "execution_count": 1,
   "metadata": {},
   "outputs": [],
   "source": [
    "#adapted from:\n",
    "#https://github.com/wikimedia-research/wiki-segmentation\n",
    "#https://github.com/wikimedia-research/Editing-movement-metrics\n",
    "\n",
    "mce_contest_r = '''\n",
    "SELECT\n",
    "    COUNT(*) / 5 AS monthly_editors,\n",
    "    sum(CAST(TRUNC(em.user_registration, 'MM') = TRUNC(month, 'MM') AS INT))/ 5 AS monthly_new_editors\n",
    "FROM florez.glow_tiger_participants gtp  \n",
    "LEFT JOIN cchen.editor_month em\n",
    "    ON gtp.username = em.user_name \n",
    "WHERE\n",
    "    em.month >= \"{contest_start_dt}\"\n",
    "    AND em.month < \"{contest_end_dt_next_m}\"\n",
    "    AND em.wiki IN ({india_wiki_dbs}) \n",
    "    AND em.user_id != 0 \n",
    "    AND em.bot_by_group = FALSE\n",
    "    AND (em.user_name not regexp \"bot\\\\b\" or em.user_name in (\"Paucabot\", \"Niabot\", \"Marbot\"))\n",
    "'''"
   ]
  },
  {
   "cell_type": "code",
   "execution_count": null,
   "metadata": {},
   "outputs": [],
   "source": [
    "#adapted from:\n",
    "#https://github.com/wikimedia-research/wiki-segmentation\n",
    "#https://github.com/wikimedia-research/Editing-movement-metrics\n",
    "\n",
    "mce_pre_r = '''\n",
    "SELECT\n",
    "    COUNT(*) / 12 AS monthly_editors,\n",
    "    sum(CAST(TRUNC(em.user_registration, 'MM') = TRUNC(month, 'MM') AS INT))/ 12 AS monthly_new_editors\n",
    "FROM florez.glow_tiger_participants gtp  \n",
    "LEFT JOIN cchen.editor_month em\n",
    "    ON gtp.username = em.user_name \n",
    "WHERE\n",
    "    em.month >= \"{contest_start_dt_12m_pre}\"\n",
    "    AND em.month < \"{contest_start_dt}\"\n",
    "    AND em.wiki IN ({india_wiki_dbs}) \n",
    "    AND em.user_id != 0 \n",
    "    AND em.bot_by_group = FALSE\n",
    "    AND (em.user_name not regexp \"bot\\\\b\" or em.user_name in (\"Paucabot\", \"Niabot\", \"Marbot\"))\n",
    "'''"
   ]
  },
  {
   "cell_type": "markdown",
   "metadata": {},
   "source": [
    "#### Monthly active editors <a class=\"anchor\" id=\"editors_active\"></a>\n",
    "[Back to Table of Contents](#toc)"
   ]
  },
  {
   "cell_type": "code",
   "execution_count": 2,
   "metadata": {},
   "outputs": [],
   "source": [
    "#monthly active editors\n",
    "#adapted from:\n",
    "#https://github.com/wikimedia-research/wiki-segmentation\n",
    "#https://github.com/wikimedia-research/Editing-movement-metrics\n",
    "\n",
    "mnae_contest_r = '''\n",
    "SELECT\n",
    "    COUNT(*) / 5 AS monthly_active_editors,\n",
    "    SUM(\n",
    "        CAST(TRUNC(em.user_registration, 'MM') = TRUNC(month, 'MM') AS INT)\n",
    "        )/ 5 AS monthly_new_active_editors\n",
    "FROM florez.glow_tiger_participants gtp  \n",
    "LEFT JOIN cchen.editor_month em\n",
    "    ON gtp.username = em.user_name \n",
    "WHERE\n",
    "    content_edits >= 5 \n",
    "    AND em.month >= \"{contest_start_dt}\"\n",
    "    AND em.month < \"{contest_end_dt_next_m}\"\n",
    "    AND em.wiki IN ({india_wiki_dbs}) \n",
    "    AND em.user_id != 0 \n",
    "    AND em.bot_by_group = FALSE\n",
    "    AND (em.user_name not regexp \"bot\\\\b\" or em.user_name in (\"Paucabot\", \"Niabot\", \"Marbot\"))  \n",
    "'''"
   ]
  },
  {
   "cell_type": "code",
   "execution_count": null,
   "metadata": {},
   "outputs": [],
   "source": [
    "mnae_pre_r = '''\n",
    "SELECT\n",
    "    COUNT(*) / 12 AS monthly_active_editors,\n",
    "    SUM(\n",
    "        CAST(TRUNC(em.user_registration, 'MM') = TRUNC(month, 'MM') AS INT)\n",
    "        )/ 12 AS monthly_new_active_editors\n",
    "FROM florez.glow_tiger_participants gtp  \n",
    "LEFT JOIN cchen.editor_month em\n",
    "    ON gtp.username = em.user_name \n",
    "WHERE\n",
    "    content_edits >= 5 \n",
    "    AND em.month >= \"{contest_start_dt_12m_pre}\"\n",
    "    AND em.month < \"{contest_start_dt}\"\n",
    "    AND em.wiki IN ({india_wiki_dbs}) \n",
    "    AND em.user_id != 0 \n",
    "    AND em.bot_by_group = FALSE\n",
    "    AND (em.user_name not regexp \"bot\\\\b\" or em.user_name in (\"Paucabot\", \"Niabot\", \"Marbot\"))  \n",
    "'''"
   ]
  },
  {
   "cell_type": "markdown",
   "metadata": {},
   "source": [
    "#### Monthly Editors - including group of big wikis <a class=\"anchor\" id=\"editors_active\"></a>\n",
    "[Back to Table of Contents](#toc)"
   ]
  },
  {
   "cell_type": "code",
   "execution_count": 1,
   "metadata": {},
   "outputs": [],
   "source": [
    "mae_contest_r = '''\n",
    "SELECT\n",
    "    COUNT(*) / 5 AS indic_editors_on_big_wikis_m\n",
    "FROM florez.glow_tiger_participants gtp  \n",
    "LEFT JOIN cchen.editor_month em\n",
    "    ON gtp.username = em.user_name \n",
    "WHERE\n",
    "    em.month >= \"{contest_start_dt}\"\n",
    "    AND em.month < \"{contest_end_dt_next_m}\"\n",
    "    AND em.wiki IN {wikis_big} \n",
    "    AND em.user_id != 0 \n",
    "    AND em.bot_by_group = FALSE\n",
    "    AND (em.user_name not regexp \"bot\\\\b\" or em.user_name in (\"Paucabot\", \"Niabot\", \"Marbot\"))  \n",
    "'''"
   ]
  },
  {
   "cell_type": "code",
   "execution_count": null,
   "metadata": {},
   "outputs": [],
   "source": [
    "mae_pre_r = '''\n",
    "SELECT\n",
    "    COUNT(*) / 12 AS indic_editors_on_big_wikis_m\n",
    "FROM florez.glow_tiger_participants gtp  \n",
    "LEFT JOIN cchen.editor_month em\n",
    "    ON gtp.username = em.user_name \n",
    "WHERE\n",
    "    em.month >= \"{contest_start_dt_12m_pre}\"\n",
    "    AND em.month < \"{contest_start_dt}\"\n",
    "    AND em.wiki IN {wikis_big} \n",
    "    AND em.user_id != 0 \n",
    "    AND em.bot_by_group = FALSE\n",
    "    AND (em.user_name not regexp \"bot\\\\b\" or em.user_name in (\"Paucabot\", \"Niabot\", \"Marbot\"))  \n",
    "'''"
   ]
  },
  {
   "cell_type": "code",
   "execution_count": null,
   "metadata": {},
   "outputs": [],
   "source": [
    "#adapted from:\n",
    "#https://github.com/wikimedia-research/wiki-segmentation\n",
    "#https://github.com/wikimedia-research/Editing-movement-metrics\n",
    "\n",
    "ner_contest_r = '''\n",
    "select \n",
    "    sum(cast(ne.2nd_month_edits >= 1 as int)) / sum(cast(ne.1st_month_edits >= 1 as int)) AS new_editor_retention\n",
    "FROM florez.glow_tiger_participants gtp  \n",
    "LEFT JOIN neilpquinn.new_editors ne\n",
    "    ON gtp.username = ne.user_name\n",
    "where \n",
    "    ne.cohort >= \"{contest_start_dt}\"\n",
    "    AND ne.cohort < \"{contest_end_dt_next_m}\"\n",
    "    AND ne.wiki IN ({india_wiki_dbs})\n",
    "'''"
   ]
  },
  {
   "cell_type": "code",
   "execution_count": null,
   "metadata": {},
   "outputs": [],
   "source": [
    "ner_pre_r = '''\n",
    "select \n",
    "    sum(cast(ne.2nd_month_edits >= 1 as int)) / sum(cast(ne.1st_month_edits >= 1 as int)) AS new_editor_retention\n",
    "FROM florez.glow_tiger_participants gtp  \n",
    "LEFT JOIN neilpquinn.new_editors ne\n",
    "    ON gtp.username = ne.user_name\n",
    "where \n",
    "    ne.cohort >= \"{contest_start_dt_12m_pre}\"\n",
    "    AND ne.cohort < \"{contest_start_dt}\"\n",
    "    AND ne.wiki IN ({india_wiki_dbs})\n",
    "'''"
   ]
  },
  {
   "cell_type": "markdown",
   "metadata": {},
   "source": [
    "### Editor's registration dates, to identify new editors"
   ]
  },
  {
   "cell_type": "code",
   "execution_count": null,
   "metadata": {},
   "outputs": [],
   "source": [
    "#event_user_creation_timestamp\tstring\tCreation timestamp of the user that caused the event (from logging table)\n",
    "#https://wikitech.wikimedia.org/wiki/Analytics/Data_Lake/Edits/MediaWiki_history#Schema\n",
    "\n",
    "editor_reg_contest_2019_r = '''\n",
    "SELECT\n",
    "    gtp.username,\n",
    "    em.wiki,\n",
    "    TRUNC(em.user_registration, 'MM') AS reg_date\n",
    "FROM florez.glow_tiger_participants gtp  \n",
    "LEFT JOIN cchen.editor_month em\n",
    "    ON gtp.username = em.user_name \n",
    "WHERE \n",
    "    em.user_id != 0 \n",
    "    AND em.bot_by_group = FALSE\n",
    "    AND (em.user_name not regexp \"bot\\\\b\" or em.user_name in (\"Paucabot\", \"Niabot\", \"Marbot\")) \n",
    "'''"
   ]
  },
  {
   "cell_type": "code",
   "execution_count": null,
   "metadata": {},
   "outputs": [],
   "source": [
    "editor_reg_contest_2018_r = '''\n",
    "SELECT\n",
    "    ptp.username,\n",
    "    em.wiki,\n",
    "    TRUNC(em.user_registration, 'MM') AS reg_date\n",
    "FROM florez.glow_tiger_pilot_participants ptp  \n",
    "LEFT JOIN cchen.editor_month em\n",
    "    ON ptp.username = em.user_name \n",
    "WHERE \n",
    "    em.user_id != 0 \n",
    "    AND em.bot_by_group = FALSE\n",
    "    AND (em.user_name not regexp \"bot\\\\b\" or em.user_name in (\"Paucabot\", \"Niabot\", \"Marbot\")) \n",
    "'''"
   ]
  },
  {
   "cell_type": "markdown",
   "metadata": {},
   "source": [
    "### Edits"
   ]
  },
  {
   "cell_type": "code",
   "execution_count": 2,
   "metadata": {},
   "outputs": [],
   "source": [
    "GLOW_editor_edits_r = '''\n",
    "SELECT mh.event_user_text, \n",
    "       mh.event_timestamp\n",
    "FROM florez.glow_tiger_participants gtp\n",
    "JOIN wmf.mediawiki_history mh\n",
    "    on gtp.username = mh.event_user_text\n",
    "WHERE (mh.snapshot='2020-03') \n",
    "    AND mh.event_timestamp >= '2018-01-01' \n",
    "    AND event_entity = \"revision\"\n",
    "    AND event_type = \"create\"\n",
    "    --order by event_user_revision_count desc\n",
    "'''"
   ]
  },
  {
   "cell_type": "code",
   "execution_count": null,
   "metadata": {},
   "outputs": [],
   "source": [
    "weekly_edits_query_ptp_grantees_r='''\n",
    "SELECT mh.event_user_text, \n",
    "       WEEKOFYEAR(mh.event_timestamp) AS week_n,\n",
    "       COUNT(mh.revision_id) AS edits\n",
    "FROM florez.glow_tiger_pilot_participants ptp\n",
    "JOIN wmf.mediawiki_history mh\n",
    "    on ptp.username = mh.event_user_text\n",
    "WHERE (mh.snapshot='2020-03') \n",
    "    AND mh.event_timestamp >= '2018-01-01' \n",
    "    AND mh.event_timestamp < '2019-01-01'\n",
    "    AND event_entity = \"revision\"\n",
    "    AND event_type = \"create\"\n",
    "    AND ptp.incentive_recipient = True\n",
    "    AND ptp.incentive_type = 'laptop'\n",
    "    AND mh.revision_minor_edit = false\n",
    "GROUP BY mh.event_user_text, weekofyear(mh.event_timestamp)\n",
    "'''"
   ]
  },
  {
   "cell_type": "code",
   "execution_count": null,
   "metadata": {},
   "outputs": [],
   "source": [
    "edits_query_ptp_grantees_r='''\n",
    "SELECT mh.event_user_text, \n",
    "       mh.event_timestamp AS edit_date,\n",
    "       COUNT(mh.revision_id) AS edits\n",
    "FROM florez.glow_tiger_pilot_participants ptp\n",
    "JOIN wmf.mediawiki_history mh\n",
    "    on ptp.username = mh.event_user_text\n",
    "WHERE (mh.snapshot='2020-03') \n",
    "    AND mh.event_timestamp >= '2017-01-01' \n",
    "    AND mh.event_timestamp < '2020-04-01'\n",
    "    AND event_entity = \"revision\"\n",
    "    AND event_type = \"create\"\n",
    "    AND ptp.incentive_recipient = True\n",
    "    AND ptp.incentive_type = 'laptop'\n",
    "    AND mh.revision_minor_edit = false\n",
    "GROUP BY mh.event_user_text, mh.event_timestamp\n",
    "'''"
   ]
  },
  {
   "cell_type": "code",
   "execution_count": null,
   "metadata": {},
   "outputs": [],
   "source": [
    "weekly_edits_query='''\n",
    "SELECT gtp.username,\n",
    "    WEEKOFYEAR(event_timestamp) AS week_n, \n",
    "    COUNT(revision_id) AS edits\n",
    "FROM florez.glow_tiger_participants gtp\n",
    "JOIN wmf.mediawiki_history mh\n",
    "    on gtp.username = mh.event_user_text\n",
    "WHERE\n",
    "    event_entity = 'revision' \n",
    "    AND event_type = 'create' \n",
    "    AND DATE(event_timestamp) >= '2018-01-01'  \n",
    "    AND snapshot = '2020-04'\n",
    "    AND incentive_recipient = True\n",
    "    AND incentive_type = 'laptop'\n",
    "GROUP BY weekofyear(event_timestamp) \n",
    "'''"
   ]
  },
  {
   "cell_type": "code",
   "execution_count": null,
   "metadata": {},
   "outputs": [],
   "source": [
    "weekly_edits_query_ptp='''\n",
    "SELECT gtp.username,\n",
    "    WEEKOFYEAR(mh.event_timestamp) AS week_n, \n",
    "    COUNT(mh.revision_id) AS edits\n",
    "FROM florez.glow_tiger_pilot_participants gtp\n",
    "JOIN wmf.mediawiki_history mh\n",
    "    on gtp.username = mh.event_user_text\n",
    "WHERE (mh.snapshot='2020-04')\n",
    "    AND mh.event_entity = 'revision' \n",
    "    AND mh.event_type = 'create' \n",
    "    AND mh.event_timestamp >= '2018-01-01'  \n",
    "    AND gtp.incentive_recipient = True\n",
    "    AND gtp.incentive_type = 'laptop'\n",
    "    AND mh.revision_minor_edit = false\n",
    "GROUP BY gtp.username, mh.event_timestamp\n",
    "'''"
   ]
  },
  {
   "cell_type": "raw",
   "metadata": {},
   "source": [
    "weekly_edits_query_ptp='''\n",
    "SELECT gtp.username,\n",
    "    WEEKOFYEAR(mh.event_timestamp) AS week_n, \n",
    "    COUNT(mh.revision_id) AS edits\n",
    "FROM florez.glow_tiger_pilot_participants gtp\n",
    "JOIN wmf.mediawiki_history mh\n",
    "    on gtp.username = mh.event_user_text\n",
    "WHERE (mh.snapshot='2020-04')\n",
    "    AND mh.event_entity = 'revision' \n",
    "    AND mh.event_type = 'create' \n",
    "    AND DATE(event_timestamp) >= '2018-01-01'  \n",
    "    AND gtp.incentive_recipient = True\n",
    "    AND gtp.incentive_type = 'laptop'\n",
    "GROUP BY gtp.username, mh.event_timestamp\n",
    "'''"
   ]
  },
  {
   "cell_type": "code",
   "execution_count": 28,
   "metadata": {},
   "outputs": [
    {
     "name": "stdout",
     "output_type": "stream",
     "text": [
      "Stored 'query_vars' (dict)\n",
      "Stored 'quality_vars' (dict)\n"
     ]
    }
   ],
   "source": [
    "import matplotlib as mpl\n",
    "import matplotlib.pyplot as plt\n",
    "import matplotlib.ticker as ticker\n",
    "import matplotlib.dates as mdates\n",
    "import seaborn as sns\n",
    "import pandas as pd\n",
    "import numpy as np\n",
    "\n",
    "import wmfdata as wmf\n",
    "from wmfdata import charting, mariadb, hive, spark\n",
    "from wmfdata.utils import pct_str, pd_display_all\n",
    "#%load_ext sql_magic\n",
    "%matplotlib inline\n",
    "\n",
    "%run .././data_wrangling/2b_data_handling.ipynb"
   ]
  },
  {
   "cell_type": "code",
   "execution_count": 86,
   "metadata": {},
   "outputs": [],
   "source": [
    "editors = pd.read_csv(\"../../data/processed/participants_list_received_clean/indonesia/Saraswati1.csv\", sep=',', encoding = 'utf-8')"
   ]
  },
  {
   "cell_type": "code",
   "execution_count": 21,
   "metadata": {},
   "outputs": [],
   "source": [
    "editor_data = []\n",
    "\n",
    "def get_editor_data_hive(df):\n",
    "    \n",
    "\n",
    "    GLOW_editor_edits_query = '''\n",
    "    SELECT mh.event_user_text, \n",
    "           mh.event_timestamp\n",
    "    FROM wmf.mediawiki_history mh\n",
    "    WHERE (mh.snapshot='2020-08') \n",
    "        AND mh.event_timestamp >= '2019-05-01' \n",
    "        AND event_entity = \"revision\"\n",
    "        AND event_type = \"create\"\n",
    "        AND wiki_db = '{wiki_db}' \n",
    "        AND mh.event_user_text IN {users}\n",
    "        --order by event_user_revision_count desc\n",
    "    '''\n",
    "        \n",
    "    for wiki in df['database_code'].unique(): \n",
    "        grouping = df.loc[df['database_code'] == wiki].groupby('database_code')['user_name'].apply(pd.DataFrame)\n",
    "        users = tuple(list(grouping[wiki]))\n",
    "        user = grouping.reset_index(drop=True).iloc[0][0]\n",
    "        wiki_db = wiki\n",
    "        editor_results = spark.run(GLOW_editor_edits_query.format(users=users, wiki_db=wiki_db ))\n",
    "        \n",
    "        editor_data.append(editor_results)\n",
    "    return(editor_data)"
   ]
  },
  {
   "cell_type": "code",
   "execution_count": 22,
   "metadata": {},
   "outputs": [],
   "source": [
    "get_editor_data_hive(editors)\n",
    "query_results= pd.concat(editor_data)"
   ]
  },
  {
   "cell_type": "code",
   "execution_count": 25,
   "metadata": {},
   "outputs": [
    {
     "name": "stdout",
     "output_type": "stream",
     "text": [
      "<class 'pandas.core.frame.DataFrame'>\n",
      "Int64Index: 85982 entries, 0 to 17726\n",
      "Data columns (total 2 columns):\n",
      "event_user_text    85982 non-null object\n",
      "event_timestamp    85982 non-null object\n",
      "dtypes: object(2)\n",
      "memory usage: 2.0+ MB\n"
     ]
    }
   ],
   "source": [
    "query_results.info()"
   ]
  },
  {
   "cell_type": "code",
   "execution_count": 30,
   "metadata": {},
   "outputs": [],
   "source": [
    "query_results['event_timestamp'] = query_results['event_timestamp'].apply(pd.to_datetime)\n",
    "#query_results['event_timestamp'] =  pd.to_datetime(query_results['event_timestamp'], utc=True)\n",
    "#query_results['event_timestamp'] = query_results['event_timestamp'].dt.date"
   ]
  },
  {
   "cell_type": "code",
   "execution_count": 31,
   "metadata": {},
   "outputs": [],
   "source": [
    "id_glow_start = query_vars['contest_start_dt']\n",
    "id_glow_end = query_vars['contest_end_dt']\n",
    "id_glow_2019_12M_pre_mask = (query_results['event_timestamp']>= query_vars['contest_start_dt_first_day_12m_pre']) & (query_results['event_timestamp'] < id_glow_start)\n",
    "id_glow_2019_5M_pre_mask = (query_results['event_timestamp']>= query_vars['contest_start_dt_first_day_5m_pre']) & (query_results['event_timestamp'] < id_glow_start)\n",
    "id_glow_mask = (query_results['event_timestamp']>= id_glow_start) & (query_results['event_timestamp'] <= id_glow_end) \n",
    "\n",
    "id_glow = query_results.loc[id_glow_mask]\n",
    "id_glow_2019_12M_pre = query_results.loc[id_glow_2019_12M_pre_mask]\n",
    "id_glow_2019_5M_pre = query_results.loc[id_glow_2019_5M_pre_mask]"
   ]
  },
  {
   "cell_type": "code",
   "execution_count": null,
   "metadata": {},
   "outputs": [],
   "source": [
    "id_glow_2019_12M_pre.describe()"
   ]
  },
  {
   "cell_type": "code",
   "execution_count": null,
   "metadata": {},
   "outputs": [],
   "source": [
    "id_glow_2019_5M_pre.describe()"
   ]
  },
  {
   "cell_type": "code",
   "execution_count": null,
   "metadata": {},
   "outputs": [],
   "source": [
    "id_glow.describe()"
   ]
  },
  {
   "cell_type": "code",
   "execution_count": 34,
   "metadata": {},
   "outputs": [],
   "source": [
    "df = editors.merge(query_results, how='left', right_on='event_user_text', left_on='user_name')"
   ]
  },
  {
   "cell_type": "code",
   "execution_count": null,
   "metadata": {},
   "outputs": [],
   "source": [
    "#df['user_name'].groupby('event_timestamp').agg('count')\n",
    "\n",
    "df.groupby([df['event_timestamp'].dt.year.rename('year'), df['event_timestamp'].dt.month.rename('month')]).agg({'count'})"
   ]
  },
  {
   "cell_type": "code",
   "execution_count": null,
   "metadata": {},
   "outputs": [],
   "source": [
    "df['user_name'].groupby(df.event_timestamp.dt.to_period(\"M\")).agg('count')"
   ]
  },
  {
   "cell_type": "code",
   "execution_count": 40,
   "metadata": {},
   "outputs": [],
   "source": [
    "df['month_year']= df['event_timestamp'].dt.to_period('M')"
   ]
  },
  {
   "cell_type": "code",
   "execution_count": 70,
   "metadata": {},
   "outputs": [],
   "source": [
    "counts = df.groupby(['user_name', 'month_year','received_incentive']).size()\n",
    "#counts.sort_values('month_year', ascending=False)"
   ]
  },
  {
   "cell_type": "code",
   "execution_count": 71,
   "metadata": {},
   "outputs": [],
   "source": [
    "counts = counts.reset_index().rename(columns={0: 'edit_count'})"
   ]
  },
  {
   "cell_type": "code",
   "execution_count": null,
   "metadata": {},
   "outputs": [],
   "source": []
  },
  {
   "cell_type": "code",
   "execution_count": 73,
   "metadata": {},
   "outputs": [],
   "source": [
    "count_id_glow_2019_12M_pre_mask = (counts['month_year']>= query_vars['contest_start_dt_first_day_12m_pre']) & (counts['month_year'] < id_glow_start)\n",
    "count_id_glow_2019_5M_pre_mask = (counts['month_year']>= query_vars['contest_start_dt_first_day_5m_pre']) & (counts['month_year'] < id_glow_start)\n",
    "count_id_glow_mask = (counts['month_year']>= id_glow_start) & (counts['month_year'] <= id_glow_end) \n",
    "\n",
    "count_id_glow = counts.loc[count_id_glow_mask]\n",
    "count_id_glow_2019_12M_pre = counts.loc[count_id_glow_2019_12M_pre_mask]\n",
    "count_id_glow_2019_5M_pre = counts.loc[count_id_glow_2019_5M_pre_mask]"
   ]
  },
  {
   "cell_type": "code",
   "execution_count": null,
   "metadata": {},
   "outputs": [],
   "source": [
    "count_id_glow_2019_5M_pre.describe()"
   ]
  },
  {
   "cell_type": "raw",
   "metadata": {},
   "source": [
    "count_id_glow.describe()"
   ]
  },
  {
   "cell_type": "code",
   "execution_count": 89,
   "metadata": {},
   "outputs": [],
   "source": [
    "editor_data_signup = []\n",
    "\n",
    "def get_editor_signup_data_hive(df):\n",
    "    \n",
    "\n",
    "    editor_reg_contest_query = '''\n",
    "    SELECT\n",
    "        em.user_name,\n",
    "        em.wiki,\n",
    "        TRUNC(em.user_registration, 'MM') AS reg_date\n",
    "    FROM cchen.editor_month em\n",
    "    WHERE \n",
    "        em.user_id != 0\n",
    "        AND em.user_name IN {users}\n",
    "        AND em.bot_by_group = FALSE\n",
    "        AND (em.user_name not regexp \"bot\\\\b\" or em.user_name in (\"Paucabot\", \"Niabot\", \"Marbot\")) \n",
    "    '''\n",
    "    \n",
    "    \n",
    "\n",
    "        \n",
    "    for wiki in df['database_code'].unique(): \n",
    "        grouping = df.loc[df['database_code'] == wiki].groupby('database_code')['user_name'].apply(pd.DataFrame)\n",
    "        users = tuple(list(grouping[wiki]))\n",
    "        user = grouping.reset_index(drop=True).iloc[0][0]\n",
    "        wiki_db = wiki\n",
    "        editor_results = spark.run(editor_reg_contest_query.format(users=users, wiki_db=wiki_db ))\n",
    "        \n",
    "        editor_data_signup.append(editor_results)\n",
    "    return(editor_data_signup)"
   ]
  },
  {
   "cell_type": "code",
   "execution_count": 90,
   "metadata": {},
   "outputs": [],
   "source": [
    "get_editor_signup_data_hive(editors)\n",
    "query_results_signups = pd.concat(editor_data_signup)"
   ]
  },
  {
   "cell_type": "code",
   "execution_count": 92,
   "metadata": {},
   "outputs": [],
   "source": [
    "query_results_signups['reg_date'] = query_results_signups['reg_date'].apply(pd.to_datetime)"
   ]
  },
  {
   "cell_type": "code",
   "execution_count": 99,
   "metadata": {},
   "outputs": [],
   "source": [
    "query_results_signups = query_results_signups.sort_values(by=['user_name', 'reg_date'], ascending=False)"
   ]
  },
  {
   "cell_type": "code",
   "execution_count": 100,
   "metadata": {},
   "outputs": [],
   "source": [
    "qrs = query_results_signups.drop_duplicates(subset=['user_name', 'reg_date'], keep='first')"
   ]
  },
  {
   "cell_type": "code",
   "execution_count": 101,
   "metadata": {},
   "outputs": [],
   "source": [
    "newbiesmask = (qrs['reg_date']>= id_glow_start) \n",
    "\n",
    "newbies = qrs.loc[newbiesmask]"
   ]
  },
  {
   "cell_type": "code",
   "execution_count": null,
   "metadata": {},
   "outputs": [],
   "source": [
    "len(newbies)"
   ]
  },
  {
   "cell_type": "code",
   "execution_count": null,
   "metadata": {},
   "outputs": [],
   "source": [
    "len(editors)"
   ]
  },
  {
   "cell_type": "code",
   "execution_count": null,
   "metadata": {},
   "outputs": [],
   "source": []
  }
 ],
 "metadata": {
  "kernelspec": {
   "display_name": "Python 3",
   "language": "python",
   "name": "python3"
  },
  "language_info": {
   "codemirror_mode": {
    "name": "ipython",
    "version": 3
   },
   "file_extension": ".py",
   "mimetype": "text/x-python",
   "name": "python",
   "nbconvert_exporter": "python",
   "pygments_lexer": "ipython3",
   "version": "3.7.8"
  }
 },
 "nbformat": 4,
 "nbformat_minor": 4
}
