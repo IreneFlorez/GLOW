{
 "cells": [
  {
   "cell_type": "code",
   "execution_count": 2,
   "metadata": {},
   "outputs": [
    {
     "name": "stderr",
     "output_type": "stream",
     "text": [
      "You are using wmfdata 0.1.0 (latest).\n",
      "\n",
      "You can find the source for `wmfdata` at https://github.com/neilpquinn/wmfdata\n"
     ]
    }
   ],
   "source": [
    "import os\n",
    "from glob import glob\n",
    "import pandas as pd\n",
    "\n",
    "import wmfdata as wmf\n",
    "from wmfdata import charting, mariadb, hive\n",
    "from wmfdata.utils import pct_str, pd_display_all\n",
    "from urllib.parse import unquote"
   ]
  },
  {
   "cell_type": "code",
   "execution_count": 9,
   "metadata": {},
   "outputs": [],
   "source": [
    "filename = '../../data/raw/articles/2019/Tiger 2.0 - article page stats.xlsx'\n",
    "\n",
    "cols2skip = [0,2,3]\n",
    "cols = [i for i in range(10) if i not in cols2skip]\n",
    "dfs = pd.read_excel(filename, sheet_name=None, usecols=cols, header=None) #skiprows=1\n",
    "\n",
    "df = pd.concat([df.assign(name=n) for n,df in dfs.items()], sort=True)\n",
    "df.columns = ['page_title', 'language_name']"
   ]
  },
  {
   "cell_type": "code",
   "execution_count": 36,
   "metadata": {},
   "outputs": [
    {
     "data": {
      "text/plain": [
       "15"
      ]
     },
     "execution_count": 36,
     "metadata": {},
     "output_type": "execute_result"
    }
   ],
   "source": [
    "#check the langauage names (aka sheets by wiki) and make sure we can identify each language\n",
    "#pnbwiki\tWestern Punjabi\thttps://pnb.wikipedia.org/\n",
    "#pawiki\tPunjabi\tPunjabi(Gurumukhi)\thttps://pa.wikipedia.org/\n",
    "\n",
    "df['language_name'] = df['language_name'].replace('Bengali', 'Bangla')\n",
    "df['language_name'] = df['language_name'].replace('Punjabi(Gurumukhi)', 'Punjabi')\n",
    "\n",
    "lang_names =tuple(df['language_name'].unique())\n",
    "len(lang_names)"
   ]
  },
  {
   "cell_type": "code",
   "execution_count": 41,
   "metadata": {},
   "outputs": [],
   "source": [
    "ci = wmf.hive.run(\"\"\"\n",
    "SELECT  database_code, language_name, language_code\n",
    "FROM canonical_data.wikis\n",
    "WHERE language_name IN {lang_names} AND database_group = 'wikipedia'\n",
    "\"\"\".format(lang_names=lang_names))"
   ]
  },
  {
   "cell_type": "code",
   "execution_count": 42,
   "metadata": {},
   "outputs": [],
   "source": [
    "#merge\n",
    "df_ci = df.merge(ci, how=\"left\", on=['language_name'])"
   ]
  },
  {
   "cell_type": "code",
   "execution_count": 44,
   "metadata": {},
   "outputs": [
    {
     "name": "stdout",
     "output_type": "stream",
     "text": [
      "<class 'pandas.core.frame.DataFrame'>\n",
      "Int64Index: 9772 entries, 0 to 9771\n",
      "Data columns (total 4 columns):\n",
      "page_title       9173 non-null object\n",
      "language_name    9772 non-null object\n",
      "database_code    9772 non-null object\n",
      "language_code    9772 non-null object\n",
      "dtypes: object(4)\n",
      "memory usage: 381.7+ KB\n"
     ]
    }
   ],
   "source": [
    "df_ci.info()"
   ]
  },
  {
   "cell_type": "code",
   "execution_count": 45,
   "metadata": {},
   "outputs": [],
   "source": [
    "df_ci.to_csv(\"../../data/raw/articles/2019/clean/articles.csv\", sep=',', encoding = 'utf-8', index=False)"
   ]
  },
  {
   "cell_type": "code",
   "execution_count": null,
   "metadata": {},
   "outputs": [],
   "source": []
  },
  {
   "cell_type": "code",
   "execution_count": null,
   "metadata": {},
   "outputs": [],
   "source": []
  }
 ],
 "metadata": {
  "kernelspec": {
   "display_name": "Python 3",
   "language": "python",
   "name": "python3"
  },
  "language_info": {
   "codemirror_mode": {
    "name": "ipython",
    "version": 3
   },
   "file_extension": ".py",
   "mimetype": "text/x-python",
   "name": "python",
   "nbconvert_exporter": "python",
   "pygments_lexer": "ipython3",
   "version": "3.5.3"
  }
 },
 "nbformat": 4,
 "nbformat_minor": 4
}
